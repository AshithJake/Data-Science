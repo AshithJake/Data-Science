{
 "cells": [
  {
   "cell_type": "code",
   "execution_count": 5,
   "metadata": {},
   "outputs": [],
   "source": [
    "import pandas as pd"
   ]
  },
  {
   "cell_type": "code",
   "execution_count": 13,
   "metadata": {},
   "outputs": [],
   "source": [
    "import numpy as np"
   ]
  },
  {
   "cell_type": "code",
   "execution_count": 14,
   "metadata": {},
   "outputs": [],
   "source": [
    "%matplotlib inline"
   ]
  },
  {
   "cell_type": "code",
   "execution_count": 1,
   "metadata": {},
   "outputs": [],
   "source": [
    "from plotly import __version__"
   ]
  },
  {
   "cell_type": "code",
   "execution_count": 2,
   "metadata": {},
   "outputs": [
    {
     "name": "stdout",
     "output_type": "stream",
     "text": [
      "4.7.1\n"
     ]
    }
   ],
   "source": [
    "print(__version__)"
   ]
  },
  {
   "cell_type": "code",
   "execution_count": 1,
   "metadata": {},
   "outputs": [],
   "source": [
    "import cufflinks as cf"
   ]
  },
  {
   "cell_type": "code",
   "execution_count": 2,
   "metadata": {},
   "outputs": [],
   "source": [
    "from plotly.offline import download_plotlyjs,init_notebook_mode,plot,iplot"
   ]
  },
  {
   "cell_type": "code",
   "execution_count": 3,
   "metadata": {},
   "outputs": [
    {
     "data": {
      "text/html": [
       "        <script type=\"text/javascript\">\n",
       "        window.PlotlyConfig = {MathJaxConfig: 'local'};\n",
       "        if (window.MathJax) {MathJax.Hub.Config({SVG: {font: \"STIX-Web\"}});}\n",
       "        if (typeof require !== 'undefined') {\n",
       "        require.undef(\"plotly\");\n",
       "        requirejs.config({\n",
       "            paths: {\n",
       "                'plotly': ['https://cdn.plot.ly/plotly-latest.min']\n",
       "            }\n",
       "        });\n",
       "        require(['plotly'], function(Plotly) {\n",
       "            window._Plotly = Plotly;\n",
       "        });\n",
       "        }\n",
       "        </script>\n",
       "        "
      ]
     },
     "metadata": {},
     "output_type": "display_data"
    }
   ],
   "source": [
    "init_notebook_mode(connected=True)"
   ]
  },
  {
   "cell_type": "code",
   "execution_count": 4,
   "metadata": {},
   "outputs": [
    {
     "data": {
      "text/html": [
       "        <script type=\"text/javascript\">\n",
       "        window.PlotlyConfig = {MathJaxConfig: 'local'};\n",
       "        if (window.MathJax) {MathJax.Hub.Config({SVG: {font: \"STIX-Web\"}});}\n",
       "        if (typeof require !== 'undefined') {\n",
       "        require.undef(\"plotly\");\n",
       "        requirejs.config({\n",
       "            paths: {\n",
       "                'plotly': ['https://cdn.plot.ly/plotly-latest.min']\n",
       "            }\n",
       "        });\n",
       "        require(['plotly'], function(Plotly) {\n",
       "            window._Plotly = Plotly;\n",
       "        });\n",
       "        }\n",
       "        </script>\n",
       "        "
      ]
     },
     "metadata": {},
     "output_type": "display_data"
    }
   ],
   "source": [
    "cf.go_offline()"
   ]
  },
  {
   "cell_type": "code",
   "execution_count": 7,
   "metadata": {},
   "outputs": [],
   "source": [
    "df = pd.DataFrame(np.random.randn(100,4),columns='A B C D'.split())"
   ]
  },
  {
   "cell_type": "code",
   "execution_count": 9,
   "metadata": {},
   "outputs": [
    {
     "data": {
      "text/html": [
       "<div>\n",
       "<style scoped>\n",
       "    .dataframe tbody tr th:only-of-type {\n",
       "        vertical-align: middle;\n",
       "    }\n",
       "\n",
       "    .dataframe tbody tr th {\n",
       "        vertical-align: top;\n",
       "    }\n",
       "\n",
       "    .dataframe thead th {\n",
       "        text-align: right;\n",
       "    }\n",
       "</style>\n",
       "<table border=\"1\" class=\"dataframe\">\n",
       "  <thead>\n",
       "    <tr style=\"text-align: right;\">\n",
       "      <th></th>\n",
       "      <th>A</th>\n",
       "      <th>B</th>\n",
       "      <th>C</th>\n",
       "      <th>D</th>\n",
       "    </tr>\n",
       "  </thead>\n",
       "  <tbody>\n",
       "    <tr>\n",
       "      <th>0</th>\n",
       "      <td>-0.479941</td>\n",
       "      <td>-0.675072</td>\n",
       "      <td>-0.519727</td>\n",
       "      <td>0.189422</td>\n",
       "    </tr>\n",
       "    <tr>\n",
       "      <th>1</th>\n",
       "      <td>0.160000</td>\n",
       "      <td>-0.623663</td>\n",
       "      <td>-0.357021</td>\n",
       "      <td>-1.280219</td>\n",
       "    </tr>\n",
       "    <tr>\n",
       "      <th>2</th>\n",
       "      <td>1.299685</td>\n",
       "      <td>0.316481</td>\n",
       "      <td>-0.675107</td>\n",
       "      <td>0.634938</td>\n",
       "    </tr>\n",
       "    <tr>\n",
       "      <th>3</th>\n",
       "      <td>-0.345993</td>\n",
       "      <td>0.006625</td>\n",
       "      <td>-0.829060</td>\n",
       "      <td>-0.550449</td>\n",
       "    </tr>\n",
       "    <tr>\n",
       "      <th>4</th>\n",
       "      <td>1.036895</td>\n",
       "      <td>1.070145</td>\n",
       "      <td>-1.762057</td>\n",
       "      <td>-0.705206</td>\n",
       "    </tr>\n",
       "  </tbody>\n",
       "</table>\n",
       "</div>"
      ],
      "text/plain": [
       "          A         B         C         D\n",
       "0 -0.479941 -0.675072 -0.519727  0.189422\n",
       "1  0.160000 -0.623663 -0.357021 -1.280219\n",
       "2  1.299685  0.316481 -0.675107  0.634938\n",
       "3 -0.345993  0.006625 -0.829060 -0.550449\n",
       "4  1.036895  1.070145 -1.762057 -0.705206"
      ]
     },
     "execution_count": 9,
     "metadata": {},
     "output_type": "execute_result"
    }
   ],
   "source": [
    "df.head()"
   ]
  },
  {
   "cell_type": "code",
   "execution_count": 10,
   "metadata": {},
   "outputs": [],
   "source": [
    "df2 = pd.DataFrame({'Category':['A','B','C'],'Values':[32,43,50]})"
   ]
  },
  {
   "cell_type": "code",
   "execution_count": 11,
   "metadata": {},
   "outputs": [
    {
     "data": {
      "text/html": [
       "<div>\n",
       "<style scoped>\n",
       "    .dataframe tbody tr th:only-of-type {\n",
       "        vertical-align: middle;\n",
       "    }\n",
       "\n",
       "    .dataframe tbody tr th {\n",
       "        vertical-align: top;\n",
       "    }\n",
       "\n",
       "    .dataframe thead th {\n",
       "        text-align: right;\n",
       "    }\n",
       "</style>\n",
       "<table border=\"1\" class=\"dataframe\">\n",
       "  <thead>\n",
       "    <tr style=\"text-align: right;\">\n",
       "      <th></th>\n",
       "      <th>Category</th>\n",
       "      <th>Values</th>\n",
       "    </tr>\n",
       "  </thead>\n",
       "  <tbody>\n",
       "    <tr>\n",
       "      <th>0</th>\n",
       "      <td>A</td>\n",
       "      <td>32</td>\n",
       "    </tr>\n",
       "    <tr>\n",
       "      <th>1</th>\n",
       "      <td>B</td>\n",
       "      <td>43</td>\n",
       "    </tr>\n",
       "    <tr>\n",
       "      <th>2</th>\n",
       "      <td>C</td>\n",
       "      <td>50</td>\n",
       "    </tr>\n",
       "  </tbody>\n",
       "</table>\n",
       "</div>"
      ],
      "text/plain": [
       "  Category  Values\n",
       "0        A      32\n",
       "1        B      43\n",
       "2        C      50"
      ]
     },
     "execution_count": 11,
     "metadata": {},
     "output_type": "execute_result"
    }
   ],
   "source": [
    "df2"
   ]
  },
  {
   "cell_type": "code",
   "execution_count": 15,
   "metadata": {},
   "outputs": [
    {
     "data": {
      "text/plain": [
       "<matplotlib.axes._subplots.AxesSubplot at 0x767a8c4cc0>"
      ]
     },
     "execution_count": 15,
     "metadata": {},
     "output_type": "execute_result"
    },
    {
     "data": {
      "image/png": "[encoded data removed]",
      "text/plain": [
       "<Figure size 432x288 with 1 Axes>"
      ]
     },
     "metadata": {
      "needs_background": "light"
     },
     "output_type": "display_data"
    }
   ],
   "source": [
    "df.plot()"
   ]
  },
  {
   "cell_type": "code",
   "execution_count": 16,
   "metadata": {},
   "outputs": [
    {
     "data": {
      "application/vnd.plotly.v1+json": {
       "config": {
        "linkText": "Export to plot.ly",
        "plotlyServerURL": "https://plot.ly",
        "showLink": true
       },
       "data": [
        {
         "line": {
          "color": "rgba(255, 153, 51, 1.0)",
          "dash": "solid",
          "shape": "linear",
          "width": 1.3
         },
         "mode": "lines",
         "name": "A",
         "text": "",
         "type": "scatter",
         "x": [
          0,
          1,
          2,
          3,
          4,
          5,
          6,
          7,
          8,
          9,
          10,
          11,
          12,
          13,
          14,
          15,
          16,
          17,
          18,
          19,
          20,
          21,
          22,
          23,
          24,
          25,
          26,
          27,
          28,
          29,
          30,
          31,
          32,
          33,
          34,
          35,
          36,
          37,
          38,
          39,
          40,
          41,
          42,
          43,
          44,
          45,
          46,
          47,
          48,
          49,
          50,
          51,
          52,
          53,
          54,
          55,
          56,
          57,
          58,
          59,
          60,
          61,
          62,
          63,
          64,
          65,
          66,
          67,
          68,
          69,
          70,
          71,
          72,
          73,
          74,
          75,
          76,
          77,
          78,
          79,
          80,
          81,
          82,
          83,
          84,
          85,
          86,
          87,
          88,
          89,
          90,
          91,
          92,
          93,
          94,
          95,
          96,
          97,
          98,
          99
         ],
         "y": [
          -0.47994138356102345,
          0.16000001454505774,
          1.2996849606416845,
          -0.3459934331228707,
          1.0368948135116955,
          0.07946965327892691,
          0.02947178831828827,
          -0.26772555546117177,
          -2.0314116116032723,
          -0.7776726685287725,
          -0.6632265573499633,
          0.040338171293861545,
          0.03099329497456494,
          1.30667900546974,
          -0.037687242533143366,
          0.73556867266476,
          0.1957228240044999,
          -1.0482986804628374,
          1.0503916976168206,
          0.3384999073480586,
          -0.14838682865663155,
          -1.849858632992489,
          -1.1910865283155898,
          1.5553865160982832,
          0.986449102796202,
          0.07626968937010195,
          -0.7144282219471334,
          -1.95459396507943,
          0.5166017932497404,
          -0.1272350411517917,
          0.3651824330336992,
          0.629568772242452,
          0.2238905949170703,
          -0.4080627997126574,
          0.2459532769412293,
          -1.4375822191198364,
          1.1953127234968812,
          0.20642350123956282,
          -0.6118149783961775,
          -0.3516522754108534,
          0.3864587743634232,
          0.5578874059130349,
          -1.2239437975712937,
          -0.5751253948097974,
          -0.8161879128352467,
          0.728310144983823,
          1.0285518125814623,
          -0.061080867479822096,
          0.5456049906240891,
          1.6757326714528262,
          1.1259534774275948,
          2.1679146833244065,
          0.3627705444531118,
          -0.2007163005561877,
          1.5857603106850822,
          -0.14387374650148002,
          0.6711681353081573,
          -2.077686313631864,
          -0.8339634788937905,
          -1.5147815926076582,
          -0.2426824940955602,
          -0.05900561048931461,
          -0.5015572453005709,
          -1.02382765079118,
          0.6594628547687229,
          -0.23529898779933406,
          0.989301732841858,
          1.0913142676056113,
          0.9047811195866384,
          2.171823959268939,
          0.8660901043897223,
          -1.009123777500051,
          -1.2739552439273125,
          -0.8003558594463309,
          -0.7227937984759449,
          -0.4548814893006097,
          -1.2973334617697536,
          -0.40436366793090245,
          -0.5467723352316892,
          1.3324985767546997,
          -0.3000650152937515,
          -2.4463874579688456,
          0.5366264052442478,
          0.8394154584497169,
          -0.47075436156584355,
          0.46846103114383303,
          1.7485010794299531,
          -1.3189454373300313,
          -0.29883060294564007,
          0.09313380405100766,
          1.2964129012060845,
          1.6132918404264132,
          -0.11654004163312816,
          -0.3113907853250452,
          0.03577164272941658,
          -0.22212739215972332,
          0.19790220317768603,
          0.23463768157652232,
          -0.3274922195966929,
          -0.3594549556767431
         ]
        },
        {
         "line": {
          "color": "rgba(55, 128, 191, 1.0)",
          "dash": "solid",
          "shape": "linear",
          "width": 1.3
         },
         "mode": "lines",
         "name": "B",
         "text": "",
         "type": "scatter",
         "x": [
          0,
          1,
          2,
          3,
          4,
          5,
          6,
          7,
          8,
          9,
          10,
          11,
          12,
          13,
          14,
          15,
          16,
          17,
          18,
          19,
          20,
          21,
          22,
          23,
          24,
          25,
          26,
          27,
          28,
          29,
          30,
          31,
          32,
          33,
          34,
          35,
          36,
          37,
          38,
          39,
          40,
          41,
          42,
          43,
          44,
          45,
          46,
          47,
          48,
          49,
          50,
          51,
          52,
          53,
          54,
          55,
          56,
          57,
          58,
          59,
          60,
          61,
          62,
          63,
          64,
          65,
          66,
          67,
          68,
          69,
          70,
          71,
          72,
          73,
          74,
          75,
          76,
          77,
          78,
          79,
          80,
          81,
          82,
          83,
          84,
          85,
          86,
          87,
          88,
          89,
          90,
          91,
          92,
          93,
          94,
          95,
          96,
          97,
          98,
          99
         ],
         "y": [
          -0.6750720095040574,
          -0.6236632378538945,
          0.31648115090713874,
          0.006625469958763555,
          1.0701445375157368,
          -1.489988600379836,
          0.7894479972844892,
          0.9173170404148899,
          -0.03236558870315396,
          0.531828866922249,
          0.5886330258336944,
          -1.167976713880715,
          -0.7162100002669591,
          -0.5414831307678194,
          0.7840457615721561,
          -0.46930537859098814,
          -0.7892004007784026,
          0.15190499519329212,
          -0.13488847109679594,
          0.9560305771827087,
          0.9836328201693666,
          1.113069160455684,
          0.3815657149703171,
          1.3561175238140253,
          -1.0417651856920722,
          0.6451841844568005,
          -0.4828578505139144,
          1.5246445699148836,
          0.06537554774633204,
          0.04931160611207707,
          1.9347732812598075,
          -0.8061165056880444,
          1.0744399572724777,
          -0.38326628912131316,
          -1.7407112541746834,
          -1.1789405193606934,
          -1.4075963840229924,
          -0.40096512182303085,
          0.3220761194308544,
          -0.9234853236877474,
          -2.0334595526466446,
          0.7776897486339085,
          -0.9807388724402262,
          0.6367945434202201,
          1.2749049396021885,
          1.5095220335919506,
          -1.0861773553362357,
          0.2928360719752721,
          -1.0635379361026216,
          0.5682472797409951,
          -0.9001092545463106,
          -0.40166002883131624,
          0.15203268993711191,
          0.5507806044416774,
          -0.406142216960143,
          -1.217479641294983,
          0.6917269041894943,
          -0.911829853729197,
          -1.4102896333460009,
          -1.1411785121505986,
          -0.08111764128140288,
          -1.2905700010948244,
          0.15246509174095685,
          0.5514074713986842,
          -0.5748023680027282,
          -0.17533905191623023,
          0.2750882818594264,
          -0.06060424378975698,
          0.48929733464317215,
          -0.8521185592816384,
          0.14843460207767809,
          0.36699416075794683,
          -0.1763066172519723,
          0.6767034425170794,
          -1.0558797509891396,
          -1.2618686077621954,
          -0.7013920682499339,
          -1.1536332965995175,
          -1.0458008683090156,
          -1.1845502086936621,
          -1.6179944848535541,
          0.027753117132022737,
          -0.03597787859543119,
          -0.6109525033400434,
          -0.006659128206266237,
          -1.9053029934010377,
          -0.1979953952563941,
          -1.970715611393755,
          -0.02374897918555784,
          0.014002628836400495,
          0.9021962904211355,
          -0.2186002004460576,
          0.282987591536079,
          -0.4104780901919894,
          -0.29636306422899106,
          -1.0720115422654701,
          1.4663762784345675,
          0.518632479089715,
          0.643572733575315,
          -0.5238831432693754
         ]
        },
        {
         "line": {
          "color": "rgba(50, 171, 96, 1.0)",
          "dash": "solid",
          "shape": "linear",
          "width": 1.3
         },
         "mode": "lines",
         "name": "C",
         "text": "",
         "type": "scatter",
         "x": [
          0,
          1,
          2,
          3,
          4,
          5,
          6,
          7,
          8,
          9,
          10,
          11,
          12,
          13,
          14,
          15,
          16,
          17,
          18,
          19,
          20,
          21,
          22,
          23,
          24,
          25,
          26,
          27,
          28,
          29,
          30,
          31,
          32,
          33,
          34,
          35,
          36,
          37,
          38,
          39,
          40,
          41,
          42,
          43,
          44,
          45,
          46,
          47,
          48,
          49,
          50,
          51,
          52,
          53,
          54,
          55,
          56,
          57,
          58,
          59,
          60,
          61,
          62,
          63,
          64,
          65,
          66,
          67,
          68,
          69,
          70,
          71,
          72,
          73,
          74,
          75,
          76,
          77,
          78,
          79,
          80,
          81,
          82,
          83,
          84,
          85,
          86,
          87,
          88,
          89,
          90,
          91,
          92,
          93,
          94,
          95,
          96,
          97,
          98,
          99
         ],
         "y": [
          -0.5197271978581905,
          -0.35702079986068197,
          -0.6751074162834202,
          -0.8290603698439113,
          -1.7620567856664684,
          0.22579158270393165,
          0.00808063258413915,
          -0.6891205740873824,
          1.3805447654586755,
          -0.05653607792480402,
          -1.5578460253123274,
          -1.423940701684458,
          -1.2987087258472758,
          0.6434196202513819,
          -0.06084163519495708,
          -0.3596184597698029,
          -0.1600839748573193,
          0.4351329108949361,
          -0.037248400408046785,
          -0.2963151081901758,
          0.1450065608648587,
          1.1920904328243296,
          0.21667688869310794,
          0.6949961722611162,
          0.9847769996892395,
          -0.0056276016213413355,
          0.5004276282933069,
          0.9065596468268876,
          0.3913797397178053,
          0.5194628533956177,
          0.20180903715178042,
          -0.37102518269253304,
          1.007985221807975,
          1.2693324558378918,
          1.8427949296226573,
          0.5288485335232646,
          -0.6862959392121788,
          1.4338661951430534,
          0.006824530293811063,
          -0.23133092335789665,
          -1.5418740730564444,
          0.8628701890453,
          -0.6483764997573348,
          -1.6029664806541335,
          -0.7940380352821212,
          -1.8951476576766457,
          -0.40041956603237083,
          0.2964911317848158,
          1.5899392607667207,
          0.4312931244279361,
          -1.8737143112380912,
          0.15598014843187272,
          -0.8561011752865471,
          1.205915463923441,
          0.08531616891935535,
          -0.2849719587160101,
          -0.49992372301677185,
          -0.1977389254022585,
          0.9672487407550542,
          -2.1007611967290454,
          2.5758556907585763,
          -1.3544767038489602,
          -0.5482520679537566,
          -0.14250855825853886,
          -0.31395089348855637,
          0.22273658215192293,
          1.6444651798928556,
          -0.1645639143914819,
          -0.4281820820795921,
          -0.44045908292905706,
          1.8124573636463697,
          -2.0269863208849563,
          0.1160077533479532,
          2.0653426029572985,
          -0.5089496389521247,
          -0.12134215070011177,
          0.5399005604153339,
          0.722808318590877,
          0.8803784655030259,
          -1.2061397944554992,
          0.3970338332193433,
          -1.0746922682004565,
          0.4206950439615749,
          -1.4792823364969105,
          -0.5587369720014077,
          -0.15698538565975714,
          -0.8612772787041048,
          0.20900126254664594,
          -0.28515872294607314,
          0.0036611009568451856,
          0.5538991408164484,
          2.926243867371199,
          0.7796294023213519,
          -1.3660970894954452,
          0.25571122605780455,
          -0.7818561652897893,
          -1.235332988189121,
          1.4674049373740403,
          0.25507104998325436,
          0.44431307217121674
         ]
        },
        {
         "line": {
          "color": "rgba(128, 0, 128, 1.0)",
          "dash": "solid",
          "shape": "linear",
          "width": 1.3
         },
         "mode": "lines",
         "name": "D",
         "text": "",
         "type": "scatter",
         "x": [
          0,
          1,
          2,
          3,
          4,
          5,
          6,
          7,
          8,
          9,
          10,
          11,
          12,
          13,
          14,
          15,
          16,
          17,
          18,
          19,
          20,
          21,
          22,
          23,
          24,
          25,
          26,
          27,
          28,
          29,
          30,
          31,
          32,
          33,
          34,
          35,
          36,
          37,
          38,
          39,
          40,
          41,
          42,
          43,
          44,
          45,
          46,
          47,
          48,
          49,
          50,
          51,
          52,
          53,
          54,
          55,
          56,
          57,
          58,
          59,
          60,
          61,
          62,
          63,
          64,
          65,
          66,
          67,
          68,
          69,
          70,
          71,
          72,
          73,
          74,
          75,
          76,
          77,
          78,
          79,
          80,
          81,
          82,
          83,
          84,
          85,
          86,
          87,
          88,
          89,
          90,
          91,
          92,
          93,
          94,
          95,
          96,
          97,
          98,
          99
         ],
         "y": [
          0.18942170519626872,
          -1.2802194731604748,
          0.6349376524449637,
          -0.5504493747747182,
          -0.7052055592080125,
          -0.20621564334914896,
          0.17785259437516168,
          1.0675198214940365,
          0.43278494355204966,
          -1.1979095622506206,
          0.03377723660122678,
          -0.5844708269743173,
          -1.3259672968360285,
          -1.5768099286883155,
          -0.5745729240121211,
          -0.09220113732000862,
          0.045936116104723645,
          1.3791850474193161,
          1.8582293288358758,
          0.3689175248690529,
          0.10787976561289657,
          -0.5595527120732183,
          -1.4134306157866812,
          -0.9627143604904586,
          1.146387094842736,
          1.562875052994166,
          0.12792405719541777,
          0.4692887195328484,
          -1.3292574772861743,
          0.14539836343131582,
          -0.019269658825584794,
          -0.4628263841159192,
          -1.2579807391391045,
          -1.98788066802929,
          0.05924856073748593,
          -0.16311938920992022,
          -0.27527171490132246,
          -0.15839675467227424,
          0.30242416587063015,
          -0.8495425020657296,
          -0.4586702146018039,
          0.08460838908589949,
          -2.394485298556269,
          0.44435681397663634,
          0.2445539721871795,
          -0.21942588916376973,
          0.5593116756375367,
          -0.8382612967116606,
          -0.8801381638643744,
          2.2119414718170582,
          -1.8595165157814173,
          0.17087544617586234,
          0.34126648026356315,
          0.48670860790953857,
          -0.4178684019411358,
          -0.06418358333556115,
          0.7270068870675426,
          0.7734335640748874,
          0.5849299447104188,
          -0.09745409043521285,
          1.0429191705092615,
          -1.7722403207134747,
          -1.8495043259843567,
          -0.7792485620696873,
          1.600271390275063,
          -0.6374166322996777,
          -0.38594804544541017,
          -0.32338577033233395,
          -0.06479085716062354,
          0.4400675832296403,
          -1.0249528267596215,
          -0.7466060800255195,
          -0.35496339596247256,
          1.4494676348279423,
          1.0924735876914018,
          2.257533687084062,
          -1.0196171714000544,
          -0.9570592291527833,
          -1.5508421070797296,
          -1.5378804322035184,
          0.47728934923457966,
          -1.1191201363418921,
          -0.04468329386381377,
          -0.10629130596692232,
          0.3616265796275296,
          0.6891470617042107,
          -1.9189015917736612,
          1.0490773829306952,
          1.5753947224514775,
          0.8358400820596704,
          -1.3948517425353133,
          -0.525009371351308,
          -0.29431542845104475,
          0.3042360977060703,
          -0.6706043911388967,
          0.07321410292070137,
          -0.717643881557239,
          -0.10093489837101675,
          -0.38363037570998165,
          1.9918704037414345
         ]
        }
       ],
       "layout": {
        "legend": {
         "bgcolor": "#F5F6F9",
         "font": {
          "color": "#4D5663"
         }
        },
        "paper_bgcolor": "#F5F6F9",
        "plot_bgcolor": "#F5F6F9",
        "template": {
         "data": {
          "bar": [
           {
            "error_x": {
             "color": "#2a3f5f"
            },
            "error_y": {
             "color": "#2a3f5f"
            },
            "marker": {
             "line": {
              "color": "#E5ECF6",
              "width": 0.5
             }
            },
            "type": "bar"
           }
          ],
          "barpolar": [
           {
            "marker": {
             "line": {
              "color": "#E5ECF6",
              "width": 0.5
             }
            },
            "type": "barpolar"
           }
          ],
          "carpet": [
           {
            "aaxis": {
             "endlinecolor": "#2a3f5f",
             "gridcolor": "white",
             "linecolor": "white",
             "minorgridcolor": "white",
             "startlinecolor": "#2a3f5f"
            },
            "baxis": {
             "endlinecolor": "#2a3f5f",
             "gridcolor": "white",
             "linecolor": "white",
             "minorgridcolor": "white",
             "startlinecolor": "#2a3f5f"
            },
            "type": "carpet"
           }
          ],
          "choropleth": [
           {
            "colorbar": {
             "outlinewidth": 0,
             "ticks": ""
            },
            "type": "choropleth"
           }
          ],
          "contour": [
           {
            "colorbar": {
             "outlinewidth": 0,
             "ticks": ""
            },
            "colorscale": [
             [
              0,
              "#0d0887"
             ],
             [
              0.1111111111111111,
              "#46039f"
             ],
             [
              0.2222222222222222,
              "#7201a8"
             ],
             [
              0.3333333333333333,
              "#9c179e"
             ],
             [
              0.4444444444444444,
              "#bd3786"
             ],
             [
              0.5555555555555556,
              "#d8576b"
             ],
             [
              0.6666666666666666,
              "#ed7953"
             ],
             [
              0.7777777777777778,
              "#fb9f3a"
             ],
             [
              0.8888888888888888,
              "#fdca26"
             ],
             [
              1,
              "#f0f921"
             ]
            ],
            "type": "contour"
           }
          ],
          "contourcarpet": [
           {
            "colorbar": {
             "outlinewidth": 0,
             "ticks": ""
            },
            "type": "contourcarpet"
           }
          ],
          "heatmap": [
           {
            "colorbar": {
             "outlinewidth": 0,
             "ticks": ""
            },
            "colorscale": [
             [
              0,
              "#0d0887"
             ],
             [
              0.1111111111111111,
              "#46039f"
             ],
             [
              0.2222222222222222,
              "#7201a8"
             ],
             [
              0.3333333333333333,
              "#9c179e"
             ],
             [
              0.4444444444444444,
              "#bd3786"
             ],
             [
              0.5555555555555556,
              "#d8576b"
             ],
             [
              0.6666666666666666,
              "#ed7953"
             ],
             [
              0.7777777777777778,
              "#fb9f3a"
             ],
             [
              0.8888888888888888,
              "#fdca26"
             ],
             [
              1,
              "#f0f921"
             ]
            ],
            "type": "heatmap"
           }
          ],
          "heatmapgl": [
           {
            "colorbar": {
             "outlinewidth": 0,
             "ticks": ""
            },
            "colorscale": [
             [
              0,
              "#0d0887"
             ],
             [
              0.1111111111111111,
              "#46039f"
             ],
             [
              0.2222222222222222,
              "#7201a8"
             ],
             [
              0.3333333333333333,
              "#9c179e"
             ],
             [
              0.4444444444444444,
              "#bd3786"
             ],
             [
              0.5555555555555556,
              "#d8576b"
             ],
             [
              0.6666666666666666,
              "#ed7953"
             ],
             [
              0.7777777777777778,
              "#fb9f3a"
             ],
             [
              0.8888888888888888,
              "#fdca26"
             ],
             [
              1,
              "#f0f921"
             ]
            ],
            "type": "heatmapgl"
           }
          ],
          "histogram": [
           {
            "marker": {
             "colorbar": {
              "outlinewidth": 0,
              "ticks": ""
             }
            },
            "type": "histogram"
           }
          ],
          "histogram2d": [
           {
            "colorbar": {
             "outlinewidth": 0,
             "ticks": ""
            },
            "colorscale": [
             [
              0,
              "#0d0887"
             ],
             [
              0.1111111111111111,
              "#46039f"
             ],
             [
              0.2222222222222222,
              "#7201a8"
             ],
             [
              0.3333333333333333,
              "#9c179e"
             ],
             [
              0.4444444444444444,
              "#bd3786"
             ],
             [
              0.5555555555555556,
              "#d8576b"
             ],
             [
              0.6666666666666666,
              "#ed7953"
             ],
             [
              0.7777777777777778,
              "#fb9f3a"
             ],
             [
              0.8888888888888888,
              "#fdca26"
             ],
             [
              1,
              "#f0f921"
             ]
            ],
            "type": "histogram2d"
           }
          ],
          "histogram2dcontour": [
           {
            "colorbar": {
             "outlinewidth": 0,
             "ticks": ""
            },
            "colorscale": [
             [
              0,
              "#0d0887"
             ],
             [
              0.1111111111111111,
              "#46039f"
             ],
             [
              0.2222222222222222,
              "#7201a8"
             ],
             [
              0.3333333333333333,
              "#9c179e"
             ],
             [
              0.4444444444444444,
              "#bd3786"
             ],
             [
              0.5555555555555556,
              "#d8576b"
             ],
             [
              0.6666666666666666,
              "#ed7953"
             ],
             [
              0.7777777777777778,
              "#fb9f3a"
             ],
             [
              0.8888888888888888,
              "#fdca26"
             ],
             [
              1,
              "#f0f921"
             ]
            ],
            "type": "histogram2dcontour"
           }
          ],
          "mesh3d": [
           {
            "colorbar": {
             "outlinewidth": 0,
             "ticks": ""
            },
            "type": "mesh3d"
           }
          ],
          "parcoords": [
           {
            "line": {
             "colorbar": {
              "outlinewidth": 0,
              "ticks": ""
             }
            },
            "type": "parcoords"
           }
          ],
          "pie": [
           {
            "automargin": true,
            "type": "pie"
           }
          ],
          "scatter": [
           {
            "marker": {
             "colorbar": {
              "outlinewidth": 0,
              "ticks": ""
             }
            },
            "type": "scatter"
           }
          ],
          "scatter3d": [
           {
            "line": {
             "colorbar": {
              "outlinewidth": 0,
              "ticks": ""
             }
            },
            "marker": {
             "colorbar": {
              "outlinewidth": 0,
              "ticks": ""
             }
            },
            "type": "scatter3d"
           }
          ],
          "scattercarpet": [
           {
            "marker": {
             "colorbar": {
              "outlinewidth": 0,
              "ticks": ""
             }
            },
            "type": "scattercarpet"
           }
          ],
          "scattergeo": [
           {
            "marker": {
             "colorbar": {
              "outlinewidth": 0,
              "ticks": ""
             }
            },
            "type": "scattergeo"
           }
          ],
          "scattergl": [
           {
            "marker": {
             "colorbar": {
              "outlinewidth": 0,
              "ticks": ""
             }
            },
            "type": "scattergl"
           }
          ],
          "scattermapbox": [
           {
            "marker": {
             "colorbar": {
              "outlinewidth": 0,
              "ticks": ""
             }
            },
            "type": "scattermapbox"
           }
          ],
          "scatterpolar": [
           {
            "marker": {
             "colorbar": {
              "outlinewidth": 0,
              "ticks": ""
             }
            },
            "type": "scatterpolar"
           }
          ],
          "scatterpolargl": [
           {
            "marker": {
             "colorbar": {
              "outlinewidth": 0,
              "ticks": ""
             }
            },
            "type": "scatterpolargl"
           }
          ],
          "scatterternary": [
           {
            "marker": {
             "colorbar": {
              "outlinewidth": 0,
              "ticks": ""
             }
            },
            "type": "scatterternary"
           }
          ],
          "surface": [
           {
            "colorbar": {
             "outlinewidth": 0,
             "ticks": ""
            },
            "colorscale": [
             [
              0,
              "#0d0887"
             ],
             [
              0.1111111111111111,
              "#46039f"
             ],
             [
              0.2222222222222222,
              "#7201a8"
             ],
             [
              0.3333333333333333,
              "#9c179e"
             ],
             [
              0.4444444444444444,
              "#bd3786"
             ],
             [
              0.5555555555555556,
              "#d8576b"
             ],
             [
              0.6666666666666666,
              "#ed7953"
             ],
             [
              0.7777777777777778,
              "#fb9f3a"
             ],
             [
              0.8888888888888888,
              "#fdca26"
             ],
             [
              1,
              "#f0f921"
             ]
            ],
            "type": "surface"
           }
          ],
          "table": [
           {
            "cells": {
             "fill": {
              "color": "#EBF0F8"
             },
             "line": {
              "color": "white"
             }
            },
            "header": {
             "fill": {
              "color": "#C8D4E3"
             },
             "line": {
              "color": "white"
             }
            },
            "type": "table"
           }
          ]
         },
         "layout": {
          "annotationdefaults": {
           "arrowcolor": "#2a3f5f",
           "arrowhead": 0,
           "arrowwidth": 1
          },
          "coloraxis": {
           "colorbar": {
            "outlinewidth": 0,
            "ticks": ""
           }
          },
          "colorscale": {
           "diverging": [
            [
             0,
             "#8e0152"
            ],
            [
             0.1,
             "#c51b7d"
            ],
            [
             0.2,
             "#de77ae"
            ],
            [
             0.3,
             "#f1b6da"
            ],
            [
             0.4,
             "#fde0ef"
            ],
            [
             0.5,
             "#f7f7f7"
            ],
            [
             0.6,
             "#e6f5d0"
            ],
            [
             0.7,
             "#b8e186"
            ],
            [
             0.8,
             "#7fbc41"
            ],
            [
             0.9,
             "#4d9221"
            ],
            [
             1,
             "#276419"
            ]
           ],
           "sequential": [
            [
             0,
             "#0d0887"
            ],
            [
             0.1111111111111111,
             "#46039f"
            ],
            [
             0.2222222222222222,
             "#7201a8"
            ],
            [
             0.3333333333333333,
             "#9c179e"
            ],
            [
             0.4444444444444444,
             "#bd3786"
            ],
            [
             0.5555555555555556,
             "#d8576b"
            ],
            [
             0.6666666666666666,
             "#ed7953"
            ],
            [
             0.7777777777777778,
             "#fb9f3a"
            ],
            [
             0.8888888888888888,
             "#fdca26"
            ],
            [
             1,
             "#f0f921"
            ]
           ],
           "sequentialminus": [
            [
             0,
             "#0d0887"
            ],
            [
             0.1111111111111111,
             "#46039f"
            ],
            [
             0.2222222222222222,
             "#7201a8"
            ],
            [
             0.3333333333333333,
             "#9c179e"
            ],
            [
             0.4444444444444444,
             "#bd3786"
            ],
            [
             0.5555555555555556,
             "#d8576b"
            ],
            [
             0.6666666666666666,
             "#ed7953"
            ],
            [
             0.7777777777777778,
             "#fb9f3a"
            ],
            [
             0.8888888888888888,
             "#fdca26"
            ],
            [
             1,
             "#f0f921"
            ]
           ]
          },
          "colorway": [
           "#636efa",
           "#EF553B",
           "#00cc96",
           "#ab63fa",
           "#FFA15A",
           "#19d3f3",
           "#FF6692",
           "#B6E880",
           "#FF97FF",
           "#FECB52"
          ],
          "font": {
           "color": "#2a3f5f"
          },
          "geo": {
           "bgcolor": "white",
           "lakecolor": "white",
           "landcolor": "#E5ECF6",
           "showlakes": true,
           "showland": true,
           "subunitcolor": "white"
          },
          "hoverlabel": {
           "align": "left"
          },
          "hovermode": "closest",
          "mapbox": {
           "style": "light"
          },
          "paper_bgcolor": "white",
          "plot_bgcolor": "#E5ECF6",
          "polar": {
           "angularaxis": {
            "gridcolor": "white",
            "linecolor": "white",
            "ticks": ""
           },
           "bgcolor": "#E5ECF6",
           "radialaxis": {
            "gridcolor": "white",
            "linecolor": "white",
            "ticks": ""
           }
          },
          "scene": {
           "xaxis": {
            "backgroundcolor": "#E5ECF6",
            "gridcolor": "white",
            "gridwidth": 2,
            "linecolor": "white",
            "showbackground": true,
            "ticks": "",
            "zerolinecolor": "white"
           },
           "yaxis": {
            "backgroundcolor": "#E5ECF6",
            "gridcolor": "white",
            "gridwidth": 2,
            "linecolor": "white",
            "showbackground": true,
            "ticks": "",
            "zerolinecolor": "white"
           },
           "zaxis": {
            "backgroundcolor": "#E5ECF6",
            "gridcolor": "white",
            "gridwidth": 2,
            "linecolor": "white",
            "showbackground": true,
            "ticks": "",
            "zerolinecolor": "white"
           }
          },
          "shapedefaults": {
           "line": {
            "color": "#2a3f5f"
           }
          },
          "ternary": {
           "aaxis": {
            "gridcolor": "white",
            "linecolor": "white",
            "ticks": ""
           },
           "baxis": {
            "gridcolor": "white",
            "linecolor": "white",
            "ticks": ""
           },
           "bgcolor": "#E5ECF6",
           "caxis": {
            "gridcolor": "white",
            "linecolor": "white",
            "ticks": ""
           }
          },
          "title": {
           "x": 0.05
          },
          "xaxis": {
           "automargin": true,
           "gridcolor": "white",
           "linecolor": "white",
           "ticks": "",
           "title": {
            "standoff": 15
           },
           "zerolinecolor": "white",
           "zerolinewidth": 2
          },
          "yaxis": {
           "automargin": true,
           "gridcolor": "white",
           "linecolor": "white",
           "ticks": "",
           "title": {
            "standoff": 15
           },
           "zerolinecolor": "white",
           "zerolinewidth": 2
          }
         }
        },
        "title": {
         "font": {
          "color": "#4D5663"
         }
        },
        "xaxis": {
         "gridcolor": "#E1E5ED",
         "showgrid": true,
         "tickfont": {
          "color": "#4D5663"
         },
         "title": {
          "font": {
           "color": "#4D5663"
          },
          "text": ""
         },
         "zerolinecolor": "#E1E5ED"
        },
        "yaxis": {
         "gridcolor": "#E1E5ED",
         "showgrid": true,
         "tickfont": {
          "color": "#4D5663"
         },
         "title": {
          "font": {
           "color": "#4D5663"
          },
          "text": ""
         },
         "zerolinecolor": "#E1E5ED"
        }
       }
      },
      "text/html": [
       "<div>\n",
       "        \n",
       "        \n",
       "            <div id=\"1b0a71e7-ff65-42b9-967c-f7b430021591\" class=\"plotly-graph-div\" style=\"height:525px; width:100%;\"></div>\n",
       "            <script type=\"text/javascript\">\n",
       "                require([\"plotly\"], function(Plotly) {\n",
       "                    window.PLOTLYENV=window.PLOTLYENV || {};\n",
       "                    window.PLOTLYENV.BASE_URL='https://plot.ly';\n",
       "                    \n",
       "                if (document.getElementById(\"1b0a71e7-ff65-42b9-967c-f7b430021591\")) {\n",
       "                    Plotly.newPlot(\n",
       "                        '1b0a71e7-ff65-42b9-967c-f7b430021591',\n",
       "                        [{\"line\": {\"color\": \"rgba(255, 153, 51, 1.0)\", \"dash\": \"solid\", \"shape\": \"linear\", \"width\": 1.3}, \"mode\": \"lines\", \"name\": \"A\", \"text\": \"\", \"type\": \"scatter\", \"x\": [0, 1, 2, 3, 4, 5, 6, 7, 8, 9, 10, 11, 12, 13, 14, 15, 16, 17, 18, 19, 20, 21, 22, 23, 24, 25, 26, 27, 28, 29, 30, 31, 32, 33, 34, 35, 36, 37, 38, 39, 40, 41, 42, 43, 44, 45, 46, 47, 48, 49, 50, 51, 52, 53, 54, 55, 56, 57, 58, 59, 60, 61, 62, 63, 64, 65, 66, 67, 68, 69, 70, 71, 72, 73, 74, 75, 76, 77, 78, 79, 80, 81, 82, 83, 84, 85, 86, 87, 88, 89, 90, 91, 92, 93, 94, 95, 96, 97, 98, 99], \"y\": [-0.47994138356102345, 0.16000001454505774, 1.2996849606416845, -0.3459934331228707, 1.0368948135116955, 0.07946965327892691, 0.02947178831828827, -0.26772555546117177, -2.0314116116032723, -0.7776726685287725, -0.6632265573499633, 0.040338171293861545, 0.03099329497456494, 1.30667900546974, -0.037687242533143366, 0.73556867266476, 0.1957228240044999, -1.0482986804628374, 1.0503916976168206, 0.3384999073480586, -0.14838682865663155, -1.849858632992489, -1.1910865283155898, 1.5553865160982832, 0.986449102796202, 0.07626968937010195, -0.7144282219471334, -1.95459396507943, 0.5166017932497404, -0.1272350411517917, 0.3651824330336992, 0.629568772242452, 0.2238905949170703, -0.4080627997126574, 0.2459532769412293, -1.4375822191198364, 1.1953127234968812, 0.20642350123956282, -0.6118149783961775, -0.3516522754108534, 0.3864587743634232, 0.5578874059130349, -1.2239437975712937, -0.5751253948097974, -0.8161879128352467, 0.728310144983823, 1.0285518125814623, -0.061080867479822096, 0.5456049906240891, 1.6757326714528262, 1.1259534774275948, 2.1679146833244065, 0.3627705444531118, -0.2007163005561877, 1.5857603106850822, -0.14387374650148002, 0.6711681353081573, -2.077686313631864, -0.8339634788937905, -1.5147815926076582, -0.2426824940955602, -0.05900561048931461, -0.5015572453005709, -1.02382765079118, 0.6594628547687229, -0.23529898779933406, 0.989301732841858, 1.0913142676056113, 0.9047811195866384, 2.171823959268939, 0.8660901043897223, -1.009123777500051, -1.2739552439273125, -0.8003558594463309, -0.7227937984759449, -0.4548814893006097, -1.2973334617697536, -0.40436366793090245, -0.5467723352316892, 1.3324985767546997, -0.3000650152937515, -2.4463874579688456, 0.5366264052442478, 0.8394154584497169, -0.47075436156584355, 0.46846103114383303, 1.7485010794299531, -1.3189454373300313, -0.29883060294564007, 0.09313380405100766, 1.2964129012060845, 1.6132918404264132, -0.11654004163312816, -0.3113907853250452, 0.03577164272941658, -0.22212739215972332, 0.19790220317768603, 0.23463768157652232, -0.3274922195966929, -0.3594549556767431]}, {\"line\": {\"color\": \"rgba(55, 128, 191, 1.0)\", \"dash\": \"solid\", \"shape\": \"linear\", \"width\": 1.3}, \"mode\": \"lines\", \"name\": \"B\", \"text\": \"\", \"type\": \"scatter\", \"x\": [0, 1, 2, 3, 4, 5, 6, 7, 8, 9, 10, 11, 12, 13, 14, 15, 16, 17, 18, 19, 20, 21, 22, 23, 24, 25, 26, 27, 28, 29, 30, 31, 32, 33, 34, 35, 36, 37, 38, 39, 40, 41, 42, 43, 44, 45, 46, 47, 48, 49, 50, 51, 52, 53, 54, 55, 56, 57, 58, 59, 60, 61, 62, 63, 64, 65, 66, 67, 68, 69, 70, 71, 72, 73, 74, 75, 76, 77, 78, 79, 80, 81, 82, 83, 84, 85, 86, 87, 88, 89, 90, 91, 92, 93, 94, 95, 96, 97, 98, 99], \"y\": [-0.6750720095040574, -0.6236632378538945, 0.31648115090713874, 0.006625469958763555, 1.0701445375157368, -1.489988600379836, 0.7894479972844892, 0.9173170404148899, -0.03236558870315396, 0.531828866922249, 0.5886330258336944, -1.167976713880715, -0.7162100002669591, -0.5414831307678194, 0.7840457615721561, -0.46930537859098814, -0.7892004007784026, 0.15190499519329212, -0.13488847109679594, 0.9560305771827087, 0.9836328201693666, 1.113069160455684, 0.3815657149703171, 1.3561175238140253, -1.0417651856920722, 0.6451841844568005, -0.4828578505139144, 1.5246445699148836, 0.06537554774633204, 0.04931160611207707, 1.9347732812598075, -0.8061165056880444, 1.0744399572724777, -0.38326628912131316, -1.7407112541746834, -1.1789405193606934, -1.4075963840229924, -0.40096512182303085, 0.3220761194308544, -0.9234853236877474, -2.0334595526466446, 0.7776897486339085, -0.9807388724402262, 0.6367945434202201, 1.2749049396021885, 1.5095220335919506, -1.0861773553362357, 0.2928360719752721, -1.0635379361026216, 0.5682472797409951, -0.9001092545463106, -0.40166002883131624, 0.15203268993711191, 0.5507806044416774, -0.406142216960143, -1.217479641294983, 0.6917269041894943, -0.911829853729197, -1.4102896333460009, -1.1411785121505986, -0.08111764128140288, -1.2905700010948244, 0.15246509174095685, 0.5514074713986842, -0.5748023680027282, -0.17533905191623023, 0.2750882818594264, -0.06060424378975698, 0.48929733464317215, -0.8521185592816384, 0.14843460207767809, 0.36699416075794683, -0.1763066172519723, 0.6767034425170794, -1.0558797509891396, -1.2618686077621954, -0.7013920682499339, -1.1536332965995175, -1.0458008683090156, -1.1845502086936621, -1.6179944848535541, 0.027753117132022737, -0.03597787859543119, -0.6109525033400434, -0.006659128206266237, -1.9053029934010377, -0.1979953952563941, -1.970715611393755, -0.02374897918555784, 0.014002628836400495, 0.9021962904211355, -0.2186002004460576, 0.282987591536079, -0.4104780901919894, -0.29636306422899106, -1.0720115422654701, 1.4663762784345675, 0.518632479089715, 0.643572733575315, -0.5238831432693754]}, {\"line\": {\"color\": \"rgba(50, 171, 96, 1.0)\", \"dash\": \"solid\", \"shape\": \"linear\", \"width\": 1.3}, \"mode\": \"lines\", \"name\": \"C\", \"text\": \"\", \"type\": \"scatter\", \"x\": [0, 1, 2, 3, 4, 5, 6, 7, 8, 9, 10, 11, 12, 13, 14, 15, 16, 17, 18, 19, 20, 21, 22, 23, 24, 25, 26, 27, 28, 29, 30, 31, 32, 33, 34, 35, 36, 37, 38, 39, 40, 41, 42, 43, 44, 45, 46, 47, 48, 49, 50, 51, 52, 53, 54, 55, 56, 57, 58, 59, 60, 61, 62, 63, 64, 65, 66, 67, 68, 69, 70, 71, 72, 73, 74, 75, 76, 77, 78, 79, 80, 81, 82, 83, 84, 85, 86, 87, 88, 89, 90, 91, 92, 93, 94, 95, 96, 97, 98, 99], \"y\": [-0.5197271978581905, -0.35702079986068197, -0.6751074162834202, -0.8290603698439113, -1.7620567856664684, 0.22579158270393165, 0.00808063258413915, -0.6891205740873824, 1.3805447654586755, -0.05653607792480402, -1.5578460253123274, -1.423940701684458, -1.2987087258472758, 0.6434196202513819, -0.06084163519495708, -0.3596184597698029, -0.1600839748573193, 0.4351329108949361, -0.037248400408046785, -0.2963151081901758, 0.1450065608648587, 1.1920904328243296, 0.21667688869310794, 0.6949961722611162, 0.9847769996892395, -0.0056276016213413355, 0.5004276282933069, 0.9065596468268876, 0.3913797397178053, 0.5194628533956177, 0.20180903715178042, -0.37102518269253304, 1.007985221807975, 1.2693324558378918, 1.8427949296226573, 0.5288485335232646, -0.6862959392121788, 1.4338661951430534, 0.006824530293811063, -0.23133092335789665, -1.5418740730564444, 0.8628701890453, -0.6483764997573348, -1.6029664806541335, -0.7940380352821212, -1.8951476576766457, -0.40041956603237083, 0.2964911317848158, 1.5899392607667207, 0.4312931244279361, -1.8737143112380912, 0.15598014843187272, -0.8561011752865471, 1.205915463923441, 0.08531616891935535, -0.2849719587160101, -0.49992372301677185, -0.1977389254022585, 0.9672487407550542, -2.1007611967290454, 2.5758556907585763, -1.3544767038489602, -0.5482520679537566, -0.14250855825853886, -0.31395089348855637, 0.22273658215192293, 1.6444651798928556, -0.1645639143914819, -0.4281820820795921, -0.44045908292905706, 1.8124573636463697, -2.0269863208849563, 0.1160077533479532, 2.0653426029572985, -0.5089496389521247, -0.12134215070011177, 0.5399005604153339, 0.722808318590877, 0.8803784655030259, -1.2061397944554992, 0.3970338332193433, -1.0746922682004565, 0.4206950439615749, -1.4792823364969105, -0.5587369720014077, -0.15698538565975714, -0.8612772787041048, 0.20900126254664594, -0.28515872294607314, 0.0036611009568451856, 0.5538991408164484, 2.926243867371199, 0.7796294023213519, -1.3660970894954452, 0.25571122605780455, -0.7818561652897893, -1.235332988189121, 1.4674049373740403, 0.25507104998325436, 0.44431307217121674]}, {\"line\": {\"color\": \"rgba(128, 0, 128, 1.0)\", \"dash\": \"solid\", \"shape\": \"linear\", \"width\": 1.3}, \"mode\": \"lines\", \"name\": \"D\", \"text\": \"\", \"type\": \"scatter\", \"x\": [0, 1, 2, 3, 4, 5, 6, 7, 8, 9, 10, 11, 12, 13, 14, 15, 16, 17, 18, 19, 20, 21, 22, 23, 24, 25, 26, 27, 28, 29, 30, 31, 32, 33, 34, 35, 36, 37, 38, 39, 40, 41, 42, 43, 44, 45, 46, 47, 48, 49, 50, 51, 52, 53, 54, 55, 56, 57, 58, 59, 60, 61, 62, 63, 64, 65, 66, 67, 68, 69, 70, 71, 72, 73, 74, 75, 76, 77, 78, 79, 80, 81, 82, 83, 84, 85, 86, 87, 88, 89, 90, 91, 92, 93, 94, 95, 96, 97, 98, 99], \"y\": [0.18942170519626872, -1.2802194731604748, 0.6349376524449637, -0.5504493747747182, -0.7052055592080125, -0.20621564334914896, 0.17785259437516168, 1.0675198214940365, 0.43278494355204966, -1.1979095622506206, 0.03377723660122678, -0.5844708269743173, -1.3259672968360285, -1.5768099286883155, -0.5745729240121211, -0.09220113732000862, 0.045936116104723645, 1.3791850474193161, 1.8582293288358758, 0.3689175248690529, 0.10787976561289657, -0.5595527120732183, -1.4134306157866812, -0.9627143604904586, 1.146387094842736, 1.562875052994166, 0.12792405719541777, 0.4692887195328484, -1.3292574772861743, 0.14539836343131582, -0.019269658825584794, -0.4628263841159192, -1.2579807391391045, -1.98788066802929, 0.05924856073748593, -0.16311938920992022, -0.27527171490132246, -0.15839675467227424, 0.30242416587063015, -0.8495425020657296, -0.4586702146018039, 0.08460838908589949, -2.394485298556269, 0.44435681397663634, 0.2445539721871795, -0.21942588916376973, 0.5593116756375367, -0.8382612967116606, -0.8801381638643744, 2.2119414718170582, -1.8595165157814173, 0.17087544617586234, 0.34126648026356315, 0.48670860790953857, -0.4178684019411358, -0.06418358333556115, 0.7270068870675426, 0.7734335640748874, 0.5849299447104188, -0.09745409043521285, 1.0429191705092615, -1.7722403207134747, -1.8495043259843567, -0.7792485620696873, 1.600271390275063, -0.6374166322996777, -0.38594804544541017, -0.32338577033233395, -0.06479085716062354, 0.4400675832296403, -1.0249528267596215, -0.7466060800255195, -0.35496339596247256, 1.4494676348279423, 1.0924735876914018, 2.257533687084062, -1.0196171714000544, -0.9570592291527833, -1.5508421070797296, -1.5378804322035184, 0.47728934923457966, -1.1191201363418921, -0.04468329386381377, -0.10629130596692232, 0.3616265796275296, 0.6891470617042107, -1.9189015917736612, 1.0490773829306952, 1.5753947224514775, 0.8358400820596704, -1.3948517425353133, -0.525009371351308, -0.29431542845104475, 0.3042360977060703, -0.6706043911388967, 0.07321410292070137, -0.717643881557239, -0.10093489837101675, -0.38363037570998165, 1.9918704037414345]}],\n",
       "                        {\"legend\": {\"bgcolor\": \"#F5F6F9\", \"font\": {\"color\": \"#4D5663\"}}, \"paper_bgcolor\": \"#F5F6F9\", \"plot_bgcolor\": \"#F5F6F9\", \"template\": {\"data\": {\"bar\": [{\"error_x\": {\"color\": \"#2a3f5f\"}, \"error_y\": {\"color\": \"#2a3f5f\"}, \"marker\": {\"line\": {\"color\": \"#E5ECF6\", \"width\": 0.5}}, \"type\": \"bar\"}], \"barpolar\": [{\"marker\": {\"line\": {\"color\": \"#E5ECF6\", \"width\": 0.5}}, \"type\": \"barpolar\"}], \"carpet\": [{\"aaxis\": {\"endlinecolor\": \"#2a3f5f\", \"gridcolor\": \"white\", \"linecolor\": \"white\", \"minorgridcolor\": \"white\", \"startlinecolor\": \"#2a3f5f\"}, \"baxis\": {\"endlinecolor\": \"#2a3f5f\", \"gridcolor\": \"white\", \"linecolor\": \"white\", \"minorgridcolor\": \"white\", \"startlinecolor\": \"#2a3f5f\"}, \"type\": \"carpet\"}], \"choropleth\": [{\"colorbar\": {\"outlinewidth\": 0, \"ticks\": \"\"}, \"type\": \"choropleth\"}], \"contour\": [{\"colorbar\": {\"outlinewidth\": 0, \"ticks\": \"\"}, \"colorscale\": [[0.0, \"#0d0887\"], [0.1111111111111111, \"#46039f\"], [0.2222222222222222, \"#7201a8\"], [0.3333333333333333, \"#9c179e\"], [0.4444444444444444, \"#bd3786\"], [0.5555555555555556, \"#d8576b\"], [0.6666666666666666, \"#ed7953\"], [0.7777777777777778, \"#fb9f3a\"], [0.8888888888888888, \"#fdca26\"], [1.0, \"#f0f921\"]], \"type\": \"contour\"}], \"contourcarpet\": [{\"colorbar\": {\"outlinewidth\": 0, \"ticks\": \"\"}, \"type\": \"contourcarpet\"}], \"heatmap\": [{\"colorbar\": {\"outlinewidth\": 0, \"ticks\": \"\"}, \"colorscale\": [[0.0, \"#0d0887\"], [0.1111111111111111, \"#46039f\"], [0.2222222222222222, \"#7201a8\"], [0.3333333333333333, \"#9c179e\"], [0.4444444444444444, \"#bd3786\"], [0.5555555555555556, \"#d8576b\"], [0.6666666666666666, \"#ed7953\"], [0.7777777777777778, \"#fb9f3a\"], [0.8888888888888888, \"#fdca26\"], [1.0, \"#f0f921\"]], \"type\": \"heatmap\"}], \"heatmapgl\": [{\"colorbar\": {\"outlinewidth\": 0, \"ticks\": \"\"}, \"colorscale\": [[0.0, \"#0d0887\"], [0.1111111111111111, \"#46039f\"], [0.2222222222222222, \"#7201a8\"], [0.3333333333333333, \"#9c179e\"], [0.4444444444444444, \"#bd3786\"], [0.5555555555555556, \"#d8576b\"], [0.6666666666666666, \"#ed7953\"], [0.7777777777777778, \"#fb9f3a\"], [0.8888888888888888, \"#fdca26\"], [1.0, \"#f0f921\"]], \"type\": \"heatmapgl\"}], \"histogram\": [{\"marker\": {\"colorbar\": {\"outlinewidth\": 0, \"ticks\": \"\"}}, \"type\": \"histogram\"}], \"histogram2d\": [{\"colorbar\": {\"outlinewidth\": 0, \"ticks\": \"\"}, \"colorscale\": [[0.0, \"#0d0887\"], [0.1111111111111111, \"#46039f\"], [0.2222222222222222, \"#7201a8\"], [0.3333333333333333, \"#9c179e\"], [0.4444444444444444, \"#bd3786\"], [0.5555555555555556, \"#d8576b\"], [0.6666666666666666, \"#ed7953\"], [0.7777777777777778, \"#fb9f3a\"], [0.8888888888888888, \"#fdca26\"], [1.0, \"#f0f921\"]], \"type\": \"histogram2d\"}], \"histogram2dcontour\": [{\"colorbar\": {\"outlinewidth\": 0, \"ticks\": \"\"}, \"colorscale\": [[0.0, \"#0d0887\"], [0.1111111111111111, \"#46039f\"], [0.2222222222222222, \"#7201a8\"], [0.3333333333333333, \"#9c179e\"], [0.4444444444444444, \"#bd3786\"], [0.5555555555555556, \"#d8576b\"], [0.6666666666666666, \"#ed7953\"], [0.7777777777777778, \"#fb9f3a\"], [0.8888888888888888, \"#fdca26\"], [1.0, \"#f0f921\"]], \"type\": \"histogram2dcontour\"}], \"mesh3d\": [{\"colorbar\": {\"outlinewidth\": 0, \"ticks\": \"\"}, \"type\": \"mesh3d\"}], \"parcoords\": [{\"line\": {\"colorbar\": {\"outlinewidth\": 0, \"ticks\": \"\"}}, \"type\": \"parcoords\"}], \"pie\": [{\"automargin\": true, \"type\": \"pie\"}], \"scatter\": [{\"marker\": {\"colorbar\": {\"outlinewidth\": 0, \"ticks\": \"\"}}, \"type\": \"scatter\"}], \"scatter3d\": [{\"line\": {\"colorbar\": {\"outlinewidth\": 0, \"ticks\": \"\"}}, \"marker\": {\"colorbar\": {\"outlinewidth\": 0, \"ticks\": \"\"}}, \"type\": \"scatter3d\"}], \"scattercarpet\": [{\"marker\": {\"colorbar\": {\"outlinewidth\": 0, \"ticks\": \"\"}}, \"type\": \"scattercarpet\"}], \"scattergeo\": [{\"marker\": {\"colorbar\": {\"outlinewidth\": 0, \"ticks\": \"\"}}, \"type\": \"scattergeo\"}], \"scattergl\": [{\"marker\": {\"colorbar\": {\"outlinewidth\": 0, \"ticks\": \"\"}}, \"type\": \"scattergl\"}], \"scattermapbox\": [{\"marker\": {\"colorbar\": {\"outlinewidth\": 0, \"ticks\": \"\"}}, \"type\": \"scattermapbox\"}], \"scatterpolar\": [{\"marker\": {\"colorbar\": {\"outlinewidth\": 0, \"ticks\": \"\"}}, \"type\": \"scatterpolar\"}], \"scatterpolargl\": [{\"marker\": {\"colorbar\": {\"outlinewidth\": 0, \"ticks\": \"\"}}, \"type\": \"scatterpolargl\"}], \"scatterternary\": [{\"marker\": {\"colorbar\": {\"outlinewidth\": 0, \"ticks\": \"\"}}, \"type\": \"scatterternary\"}], \"surface\": [{\"colorbar\": {\"outlinewidth\": 0, \"ticks\": \"\"}, \"colorscale\": [[0.0, \"#0d0887\"], [0.1111111111111111, \"#46039f\"], [0.2222222222222222, \"#7201a8\"], [0.3333333333333333, \"#9c179e\"], [0.4444444444444444, \"#bd3786\"], [0.5555555555555556, \"#d8576b\"], [0.6666666666666666, \"#ed7953\"], [0.7777777777777778, \"#fb9f3a\"], [0.8888888888888888, \"#fdca26\"], [1.0, \"#f0f921\"]], \"type\": \"surface\"}], \"table\": [{\"cells\": {\"fill\": {\"color\": \"#EBF0F8\"}, \"line\": {\"color\": \"white\"}}, \"header\": {\"fill\": {\"color\": \"#C8D4E3\"}, \"line\": {\"color\": \"white\"}}, \"type\": \"table\"}]}, \"layout\": {\"annotationdefaults\": {\"arrowcolor\": \"#2a3f5f\", \"arrowhead\": 0, \"arrowwidth\": 1}, \"coloraxis\": {\"colorbar\": {\"outlinewidth\": 0, \"ticks\": \"\"}}, \"colorscale\": {\"diverging\": [[0, \"#8e0152\"], [0.1, \"#c51b7d\"], [0.2, \"#de77ae\"], [0.3, \"#f1b6da\"], [0.4, \"#fde0ef\"], [0.5, \"#f7f7f7\"], [0.6, \"#e6f5d0\"], [0.7, \"#b8e186\"], [0.8, \"#7fbc41\"], [0.9, \"#4d9221\"], [1, \"#276419\"]], \"sequential\": [[0.0, \"#0d0887\"], [0.1111111111111111, \"#46039f\"], [0.2222222222222222, \"#7201a8\"], [0.3333333333333333, \"#9c179e\"], [0.4444444444444444, \"#bd3786\"], [0.5555555555555556, \"#d8576b\"], [0.6666666666666666, \"#ed7953\"], [0.7777777777777778, \"#fb9f3a\"], [0.8888888888888888, \"#fdca26\"], [1.0, \"#f0f921\"]], \"sequentialminus\": [[0.0, \"#0d0887\"], [0.1111111111111111, \"#46039f\"], [0.2222222222222222, \"#7201a8\"], [0.3333333333333333, \"#9c179e\"], [0.4444444444444444, \"#bd3786\"], [0.5555555555555556, \"#d8576b\"], [0.6666666666666666, \"#ed7953\"], [0.7777777777777778, \"#fb9f3a\"], [0.8888888888888888, \"#fdca26\"], [1.0, \"#f0f921\"]]}, \"colorway\": [\"#636efa\", \"#EF553B\", \"#00cc96\", \"#ab63fa\", \"#FFA15A\", \"#19d3f3\", \"#FF6692\", \"#B6E880\", \"#FF97FF\", \"#FECB52\"], \"font\": {\"color\": \"#2a3f5f\"}, \"geo\": {\"bgcolor\": \"white\", \"lakecolor\": \"white\", \"landcolor\": \"#E5ECF6\", \"showlakes\": true, \"showland\": true, \"subunitcolor\": \"white\"}, \"hoverlabel\": {\"align\": \"left\"}, \"hovermode\": \"closest\", \"mapbox\": {\"style\": \"light\"}, \"paper_bgcolor\": \"white\", \"plot_bgcolor\": \"#E5ECF6\", \"polar\": {\"angularaxis\": {\"gridcolor\": \"white\", \"linecolor\": \"white\", \"ticks\": \"\"}, \"bgcolor\": \"#E5ECF6\", \"radialaxis\": {\"gridcolor\": \"white\", \"linecolor\": \"white\", \"ticks\": \"\"}}, \"scene\": {\"xaxis\": {\"backgroundcolor\": \"#E5ECF6\", \"gridcolor\": \"white\", \"gridwidth\": 2, \"linecolor\": \"white\", \"showbackground\": true, \"ticks\": \"\", \"zerolinecolor\": \"white\"}, \"yaxis\": {\"backgroundcolor\": \"#E5ECF6\", \"gridcolor\": \"white\", \"gridwidth\": 2, \"linecolor\": \"white\", \"showbackground\": true, \"ticks\": \"\", \"zerolinecolor\": \"white\"}, \"zaxis\": {\"backgroundcolor\": \"#E5ECF6\", \"gridcolor\": \"white\", \"gridwidth\": 2, \"linecolor\": \"white\", \"showbackground\": true, \"ticks\": \"\", \"zerolinecolor\": \"white\"}}, \"shapedefaults\": {\"line\": {\"color\": \"#2a3f5f\"}}, \"ternary\": {\"aaxis\": {\"gridcolor\": \"white\", \"linecolor\": \"white\", \"ticks\": \"\"}, \"baxis\": {\"gridcolor\": \"white\", \"linecolor\": \"white\", \"ticks\": \"\"}, \"bgcolor\": \"#E5ECF6\", \"caxis\": {\"gridcolor\": \"white\", \"linecolor\": \"white\", \"ticks\": \"\"}}, \"title\": {\"x\": 0.05}, \"xaxis\": {\"automargin\": true, \"gridcolor\": \"white\", \"linecolor\": \"white\", \"ticks\": \"\", \"title\": {\"standoff\": 15}, \"zerolinecolor\": \"white\", \"zerolinewidth\": 2}, \"yaxis\": {\"automargin\": true, \"gridcolor\": \"white\", \"linecolor\": \"white\", \"ticks\": \"\", \"title\": {\"standoff\": 15}, \"zerolinecolor\": \"white\", \"zerolinewidth\": 2}}}, \"title\": {\"font\": {\"color\": \"#4D5663\"}}, \"xaxis\": {\"gridcolor\": \"#E1E5ED\", \"showgrid\": true, \"tickfont\": {\"color\": \"#4D5663\"}, \"title\": {\"font\": {\"color\": \"#4D5663\"}, \"text\": \"\"}, \"zerolinecolor\": \"#E1E5ED\"}, \"yaxis\": {\"gridcolor\": \"#E1E5ED\", \"showgrid\": true, \"tickfont\": {\"color\": \"#4D5663\"}, \"title\": {\"font\": {\"color\": \"#4D5663\"}, \"text\": \"\"}, \"zerolinecolor\": \"#E1E5ED\"}},\n",
       "                        {\"showLink\": true, \"linkText\": \"Export to plot.ly\", \"plotlyServerURL\": \"https://plot.ly\", \"responsive\": true}\n",
       "                    ).then(function(){\n",
       "                            \n",
       "var gd = document.getElementById('1b0a71e7-ff65-42b9-967c-f7b430021591');\n",
       "var x = new MutationObserver(function (mutations, observer) {{\n",
       "        var display = window.getComputedStyle(gd).display;\n",
       "        if (!display || display === 'none') {{\n",
       "            console.log([gd, 'removed!']);\n",
       "            Plotly.purge(gd);\n",
       "            observer.disconnect();\n",
       "        }}\n",
       "}});\n",
       "\n",
       "// Listen for the removal of the full notebook cells\n",
       "var notebookContainer = gd.closest('#notebook-container');\n",
       "if (notebookContainer) {{\n",
       "    x.observe(notebookContainer, {childList: true});\n",
       "}}\n",
       "\n",
       "// Listen for the clearing of the current output cell\n",
       "var outputEl = gd.closest('.output');\n",
       "if (outputEl) {{\n",
       "    x.observe(outputEl, {childList: true});\n",
       "}}\n",
       "\n",
       "                        })\n",
       "                };\n",
       "                });\n",
       "            </script>\n",
       "        </div>"
      ]
     },
     "metadata": {},
     "output_type": "display_data"
    }
   ],
   "source": [
    "df.iplot()"
   ]
  },
  {
   "cell_type": "code",
   "execution_count": 17,
   "metadata": {},
   "outputs": [
    {
     "data": {
      "application/vnd.plotly.v1+json": {
       "config": {
        "linkText": "Export to plot.ly",
        "plotlyServerURL": "https://plot.ly",
        "showLink": true
       },
       "data": [
        {
         "line": {
          "color": "rgba(255, 153, 51, 1.0)",
          "dash": "solid",
          "shape": "linear",
          "width": 1.3
         },
         "mode": "lines",
         "name": "B",
         "text": "",
         "type": "scatter",
         "x": [
          -0.47994138356102345,
          0.16000001454505774,
          1.2996849606416845,
          -0.3459934331228707,
          1.0368948135116955,
          0.07946965327892691,
          0.02947178831828827,
          -0.26772555546117177,
          -2.0314116116032723,
          -0.7776726685287725,
          -0.6632265573499633,
          0.040338171293861545,
          0.03099329497456494,
          1.30667900546974,
          -0.037687242533143366,
          0.73556867266476,
          0.1957228240044999,
          -1.0482986804628374,
          1.0503916976168206,
          0.3384999073480586,
          -0.14838682865663155,
          -1.849858632992489,
          -1.1910865283155898,
          1.5553865160982832,
          0.986449102796202,
          0.07626968937010195,
          -0.7144282219471334,
          -1.95459396507943,
          0.5166017932497404,
          -0.1272350411517917,
          0.3651824330336992,
          0.629568772242452,
          0.2238905949170703,
          -0.4080627997126574,
          0.2459532769412293,
          -1.4375822191198364,
          1.1953127234968812,
          0.20642350123956282,
          -0.6118149783961775,
          -0.3516522754108534,
          0.3864587743634232,
          0.5578874059130349,
          -1.2239437975712937,
          -0.5751253948097974,
          -0.8161879128352467,
          0.728310144983823,
          1.0285518125814623,
          -0.061080867479822096,
          0.5456049906240891,
          1.6757326714528262,
          1.1259534774275948,
          2.1679146833244065,
          0.3627705444531118,
          -0.2007163005561877,
          1.5857603106850822,
          -0.14387374650148002,
          0.6711681353081573,
          -2.077686313631864,
          -0.8339634788937905,
          -1.5147815926076582,
          -0.2426824940955602,
          -0.05900561048931461,
          -0.5015572453005709,
          -1.02382765079118,
          0.6594628547687229,
          -0.23529898779933406,
          0.989301732841858,
          1.0913142676056113,
          0.9047811195866384,
          2.171823959268939,
          0.8660901043897223,
          -1.009123777500051,
          -1.2739552439273125,
          -0.8003558594463309,
          -0.7227937984759449,
          -0.4548814893006097,
          -1.2973334617697536,
          -0.40436366793090245,
          -0.5467723352316892,
          1.3324985767546997,
          -0.3000650152937515,
          -2.4463874579688456,
          0.5366264052442478,
          0.8394154584497169,
          -0.47075436156584355,
          0.46846103114383303,
          1.7485010794299531,
          -1.3189454373300313,
          -0.29883060294564007,
          0.09313380405100766,
          1.2964129012060845,
          1.6132918404264132,
          -0.11654004163312816,
          -0.3113907853250452,
          0.03577164272941658,
          -0.22212739215972332,
          0.19790220317768603,
          0.23463768157652232,
          -0.3274922195966929,
          -0.3594549556767431
         ],
         "y": [
          -0.6750720095040574,
          -0.6236632378538945,
          0.31648115090713874,
          0.006625469958763555,
          1.0701445375157368,
          -1.489988600379836,
          0.7894479972844892,
          0.9173170404148899,
          -0.03236558870315396,
          0.531828866922249,
          0.5886330258336944,
          -1.167976713880715,
          -0.7162100002669591,
          -0.5414831307678194,
          0.7840457615721561,
          -0.46930537859098814,
          -0.7892004007784026,
          0.15190499519329212,
          -0.13488847109679594,
          0.9560305771827087,
          0.9836328201693666,
          1.113069160455684,
          0.3815657149703171,
          1.3561175238140253,
          -1.0417651856920722,
          0.6451841844568005,
          -0.4828578505139144,
          1.5246445699148836,
          0.06537554774633204,
          0.04931160611207707,
          1.9347732812598075,
          -0.8061165056880444,
          1.0744399572724777,
          -0.38326628912131316,
          -1.7407112541746834,
          -1.1789405193606934,
          -1.4075963840229924,
          -0.40096512182303085,
          0.3220761194308544,
          -0.9234853236877474,
          -2.0334595526466446,
          0.7776897486339085,
          -0.9807388724402262,
          0.6367945434202201,
          1.2749049396021885,
          1.5095220335919506,
          -1.0861773553362357,
          0.2928360719752721,
          -1.0635379361026216,
          0.5682472797409951,
          -0.9001092545463106,
          -0.40166002883131624,
          0.15203268993711191,
          0.5507806044416774,
          -0.406142216960143,
          -1.217479641294983,
          0.6917269041894943,
          -0.911829853729197,
          -1.4102896333460009,
          -1.1411785121505986,
          -0.08111764128140288,
          -1.2905700010948244,
          0.15246509174095685,
          0.5514074713986842,
          -0.5748023680027282,
          -0.17533905191623023,
          0.2750882818594264,
          -0.06060424378975698,
          0.48929733464317215,
          -0.8521185592816384,
          0.14843460207767809,
          0.36699416075794683,
          -0.1763066172519723,
          0.6767034425170794,
          -1.0558797509891396,
          -1.2618686077621954,
          -0.7013920682499339,
          -1.1536332965995175,
          -1.0458008683090156,
          -1.1845502086936621,
          -1.6179944848535541,
          0.027753117132022737,
          -0.03597787859543119,
          -0.6109525033400434,
          -0.006659128206266237,
          -1.9053029934010377,
          -0.1979953952563941,
          -1.970715611393755,
          -0.02374897918555784,
          0.014002628836400495,
          0.9021962904211355,
          -0.2186002004460576,
          0.282987591536079,
          -0.4104780901919894,
          -0.29636306422899106,
          -1.0720115422654701,
          1.4663762784345675,
          0.518632479089715,
          0.643572733575315,
          -0.5238831432693754
         ]
        }
       ],
       "layout": {
        "legend": {
         "bgcolor": "#F5F6F9",
         "font": {
          "color": "#4D5663"
         }
        },
        "paper_bgcolor": "#F5F6F9",
        "plot_bgcolor": "#F5F6F9",
        "template": {
         "data": {
          "bar": [
           {
            "error_x": {
             "color": "#2a3f5f"
            },
            "error_y": {
             "color": "#2a3f5f"
            },
            "marker": {
             "line": {
              "color": "#E5ECF6",
              "width": 0.5
             }
            },
            "type": "bar"
           }
          ],
          "barpolar": [
           {
            "marker": {
             "line": {
              "color": "#E5ECF6",
              "width": 0.5
             }
            },
            "type": "barpolar"
           }
          ],
          "carpet": [
           {
            "aaxis": {
             "endlinecolor": "#2a3f5f",
             "gridcolor": "white",
             "linecolor": "white",
             "minorgridcolor": "white",
             "startlinecolor": "#2a3f5f"
            },
            "baxis": {
             "endlinecolor": "#2a3f5f",
             "gridcolor": "white",
             "linecolor": "white",
             "minorgridcolor": "white",
             "startlinecolor": "#2a3f5f"
            },
            "type": "carpet"
           }
          ],
          "choropleth": [
           {
            "colorbar": {
             "outlinewidth": 0,
             "ticks": ""
            },
            "type": "choropleth"
           }
          ],
          "contour": [
           {
            "colorbar": {
             "outlinewidth": 0,
             "ticks": ""
            },
            "colorscale": [
             [
              0,
              "#0d0887"
             ],
             [
              0.1111111111111111,
              "#46039f"
             ],
             [
              0.2222222222222222,
              "#7201a8"
             ],
             [
              0.3333333333333333,
              "#9c179e"
             ],
             [
              0.4444444444444444,
              "#bd3786"
             ],
             [
              0.5555555555555556,
              "#d8576b"
             ],
             [
              0.6666666666666666,
              "#ed7953"
             ],
             [
              0.7777777777777778,
              "#fb9f3a"
             ],
             [
              0.8888888888888888,
              "#fdca26"
             ],
             [
              1,
              "#f0f921"
             ]
            ],
            "type": "contour"
           }
          ],
          "contourcarpet": [
           {
            "colorbar": {
             "outlinewidth": 0,
             "ticks": ""
            },
            "type": "contourcarpet"
           }
          ],
          "heatmap": [
           {
            "colorbar": {
             "outlinewidth": 0,
             "ticks": ""
            },
            "colorscale": [
             [
              0,
              "#0d0887"
             ],
             [
              0.1111111111111111,
              "#46039f"
             ],
             [
              0.2222222222222222,
              "#7201a8"
             ],
             [
              0.3333333333333333,
              "#9c179e"
             ],
             [
              0.4444444444444444,
              "#bd3786"
             ],
             [
              0.5555555555555556,
              "#d8576b"
             ],
             [
              0.6666666666666666,
              "#ed7953"
             ],
             [
              0.7777777777777778,
              "#fb9f3a"
             ],
             [
              0.8888888888888888,
              "#fdca26"
             ],
             [
              1,
              "#f0f921"
             ]
            ],
            "type": "heatmap"
           }
          ],
          "heatmapgl": [
           {
            "colorbar": {
             "outlinewidth": 0,
             "ticks": ""
            },
            "colorscale": [
             [
              0,
              "#0d0887"
             ],
             [
              0.1111111111111111,
              "#46039f"
             ],
             [
              0.2222222222222222,
              "#7201a8"
             ],
             [
              0.3333333333333333,
              "#9c179e"
             ],
             [
              0.4444444444444444,
              "#bd3786"
             ],
             [
              0.5555555555555556,
              "#d8576b"
             ],
             [
              0.6666666666666666,
              "#ed7953"
             ],
             [
              0.7777777777777778,
              "#fb9f3a"
             ],
             [
              0.8888888888888888,
              "#fdca26"
             ],
             [
              1,
              "#f0f921"
             ]
            ],
            "type": "heatmapgl"
           }
          ],
          "histogram": [
           {
            "marker": {
             "colorbar": {
              "outlinewidth": 0,
              "ticks": ""
             }
            },
            "type": "histogram"
           }
          ],
          "histogram2d": [
           {
            "colorbar": {
             "outlinewidth": 0,
             "ticks": ""
            },
            "colorscale": [
             [
              0,
              "#0d0887"
             ],
             [
              0.1111111111111111,
              "#46039f"
             ],
             [
              0.2222222222222222,
              "#7201a8"
             ],
             [
              0.3333333333333333,
              "#9c179e"
             ],
             [
              0.4444444444444444,
              "#bd3786"
             ],
             [
              0.5555555555555556,
              "#d8576b"
             ],
             [
              0.6666666666666666,
              "#ed7953"
             ],
             [
              0.7777777777777778,
              "#fb9f3a"
             ],
             [
              0.8888888888888888,
              "#fdca26"
             ],
             [
              1,
              "#f0f921"
             ]
            ],
            "type": "histogram2d"
           }
          ],
          "histogram2dcontour": [
           {
            "colorbar": {
             "outlinewidth": 0,
             "ticks": ""
            },
            "colorscale": [
             [
              0,
              "#0d0887"
             ],
             [
              0.1111111111111111,
              "#46039f"
             ],
             [
              0.2222222222222222,
              "#7201a8"
             ],
             [
              0.3333333333333333,
              "#9c179e"
             ],
             [
              0.4444444444444444,
              "#bd3786"
             ],
             [
              0.5555555555555556,
              "#d8576b"
             ],
             [
              0.6666666666666666,
              "#ed7953"
             ],
             [
              0.7777777777777778,
              "#fb9f3a"
             ],
             [
              0.8888888888888888,
              "#fdca26"
             ],
             [
              1,
              "#f0f921"
             ]
            ],
            "type": "histogram2dcontour"
           }
          ],
          "mesh3d": [
           {
            "colorbar": {
             "outlinewidth": 0,
             "ticks": ""
            },
            "type": "mesh3d"
           }
          ],
          "parcoords": [
           {
            "line": {
             "colorbar": {
              "outlinewidth": 0,
              "ticks": ""
             }
            },
            "type": "parcoords"
           }
          ],
          "pie": [
           {
            "automargin": true,
            "type": "pie"
           }
          ],
          "scatter": [
           {
            "marker": {
             "colorbar": {
              "outlinewidth": 0,
              "ticks": ""
             }
            },
            "type": "scatter"
           }
          ],
          "scatter3d": [
           {
            "line": {
             "colorbar": {
              "outlinewidth": 0,
              "ticks": ""
             }
            },
            "marker": {
             "colorbar": {
              "outlinewidth": 0,
              "ticks": ""
             }
            },
            "type": "scatter3d"
           }
          ],
          "scattercarpet": [
           {
            "marker": {
             "colorbar": {
              "outlinewidth": 0,
              "ticks": ""
             }
            },
            "type": "scattercarpet"
           }
          ],
          "scattergeo": [
           {
            "marker": {
             "colorbar": {
              "outlinewidth": 0,
              "ticks": ""
             }
            },
            "type": "scattergeo"
           }
          ],
          "scattergl": [
           {
            "marker": {
             "colorbar": {
              "outlinewidth": 0,
              "ticks": ""
             }
            },
            "type": "scattergl"
           }
          ],
          "scattermapbox": [
           {
            "marker": {
             "colorbar": {
              "outlinewidth": 0,
              "ticks": ""
             }
            },
            "type": "scattermapbox"
           }
          ],
          "scatterpolar": [
           {
            "marker": {
             "colorbar": {
              "outlinewidth": 0,
              "ticks": ""
             }
            },
            "type": "scatterpolar"
           }
          ],
          "scatterpolargl": [
           {
            "marker": {
             "colorbar": {
              "outlinewidth": 0,
              "ticks": ""
             }
            },
            "type": "scatterpolargl"
           }
          ],
          "scatterternary": [
           {
            "marker": {
             "colorbar": {
              "outlinewidth": 0,
              "ticks": ""
             }
            },
            "type": "scatterternary"
           }
          ],
          "surface": [
           {
            "colorbar": {
             "outlinewidth": 0,
             "ticks": ""
            },
            "colorscale": [
             [
              0,
              "#0d0887"
             ],
             [
              0.1111111111111111,
              "#46039f"
             ],
             [
              0.2222222222222222,
              "#7201a8"
             ],
             [
              0.3333333333333333,
              "#9c179e"
             ],
             [
              0.4444444444444444,
              "#bd3786"
             ],
             [
              0.5555555555555556,
              "#d8576b"
             ],
             [
              0.6666666666666666,
              "#ed7953"
             ],
             [
              0.7777777777777778,
              "#fb9f3a"
             ],
             [
              0.8888888888888888,
              "#fdca26"
             ],
             [
              1,
              "#f0f921"
             ]
            ],
            "type": "surface"
           }
          ],
          "table": [
           {
            "cells": {
             "fill": {
              "color": "#EBF0F8"
             },
             "line": {
              "color": "white"
             }
            },
            "header": {
             "fill": {
              "color": "#C8D4E3"
             },
             "line": {
              "color": "white"
             }
            },
            "type": "table"
           }
          ]
         },
         "layout": {
          "annotationdefaults": {
           "arrowcolor": "#2a3f5f",
           "arrowhead": 0,
           "arrowwidth": 1
          },
          "coloraxis": {
           "colorbar": {
            "outlinewidth": 0,
            "ticks": ""
           }
          },
          "colorscale": {
           "diverging": [
            [
             0,
             "#8e0152"
            ],
            [
             0.1,
             "#c51b7d"
            ],
            [
             0.2,
             "#de77ae"
            ],
            [
             0.3,
             "#f1b6da"
            ],
            [
             0.4,
             "#fde0ef"
            ],
            [
             0.5,
             "#f7f7f7"
            ],
            [
             0.6,
             "#e6f5d0"
            ],
            [
             0.7,
             "#b8e186"
            ],
            [
             0.8,
             "#7fbc41"
            ],
            [
             0.9,
             "#4d9221"
            ],
            [
             1,
             "#276419"
            ]
           ],
           "sequential": [
            [
             0,
             "#0d0887"
            ],
            [
             0.1111111111111111,
             "#46039f"
            ],
            [
             0.2222222222222222,
             "#7201a8"
            ],
            [
             0.3333333333333333,
             "#9c179e"
            ],
            [
             0.4444444444444444,
             "#bd3786"
            ],
            [
             0.5555555555555556,
             "#d8576b"
            ],
            [
             0.6666666666666666,
             "#ed7953"
            ],
            [
             0.7777777777777778,
             "#fb9f3a"
            ],
            [
             0.8888888888888888,
             "#fdca26"
            ],
            [
             1,
             "#f0f921"
            ]
           ],
           "sequentialminus": [
            [
             0,
             "#0d0887"
            ],
            [
             0.1111111111111111,
             "#46039f"
            ],
            [
             0.2222222222222222,
             "#7201a8"
            ],
            [
             0.3333333333333333,
             "#9c179e"
            ],
            [
             0.4444444444444444,
             "#bd3786"
            ],
            [
             0.5555555555555556,
             "#d8576b"
            ],
            [
             0.6666666666666666,
             "#ed7953"
            ],
            [
             0.7777777777777778,
             "#fb9f3a"
            ],
            [
             0.8888888888888888,
             "#fdca26"
            ],
            [
             1,
             "#f0f921"
            ]
           ]
          },
          "colorway": [
           "#636efa",
           "#EF553B",
           "#00cc96",
           "#ab63fa",
           "#FFA15A",
           "#19d3f3",
           "#FF6692",
           "#B6E880",
           "#FF97FF",
           "#FECB52"
          ],
          "font": {
           "color": "#2a3f5f"
          },
          "geo": {
           "bgcolor": "white",
           "lakecolor": "white",
           "landcolor": "#E5ECF6",
           "showlakes": true,
           "showland": true,
           "subunitcolor": "white"
          },
          "hoverlabel": {
           "align": "left"
          },
          "hovermode": "closest",
          "mapbox": {
           "style": "light"
          },
          "paper_bgcolor": "white",
          "plot_bgcolor": "#E5ECF6",
          "polar": {
           "angularaxis": {
            "gridcolor": "white",
            "linecolor": "white",
            "ticks": ""
           },
           "bgcolor": "#E5ECF6",
           "radialaxis": {
            "gridcolor": "white",
            "linecolor": "white",
            "ticks": ""
           }
          },
          "scene": {
           "xaxis": {
            "backgroundcolor": "#E5ECF6",
            "gridcolor": "white",
            "gridwidth": 2,
            "linecolor": "white",
            "showbackground": true,
            "ticks": "",
            "zerolinecolor": "white"
           },
           "yaxis": {
            "backgroundcolor": "#E5ECF6",
            "gridcolor": "white",
            "gridwidth": 2,
            "linecolor": "white",
            "showbackground": true,
            "ticks": "",
            "zerolinecolor": "white"
           },
           "zaxis": {
            "backgroundcolor": "#E5ECF6",
            "gridcolor": "white",
            "gridwidth": 2,
            "linecolor": "white",
            "showbackground": true,
            "ticks": "",
            "zerolinecolor": "white"
           }
          },
          "shapedefaults": {
           "line": {
            "color": "#2a3f5f"
           }
          },
          "ternary": {
           "aaxis": {
            "gridcolor": "white",
            "linecolor": "white",
            "ticks": ""
           },
           "baxis": {
            "gridcolor": "white",
            "linecolor": "white",
            "ticks": ""
           },
           "bgcolor": "#E5ECF6",
           "caxis": {
            "gridcolor": "white",
            "linecolor": "white",
            "ticks": ""
           }
          },
          "title": {
           "x": 0.05
          },
          "xaxis": {
           "automargin": true,
           "gridcolor": "white",
           "linecolor": "white",
           "ticks": "",
           "title": {
            "standoff": 15
           },
           "zerolinecolor": "white",
           "zerolinewidth": 2
          },
          "yaxis": {
           "automargin": true,
           "gridcolor": "white",
           "linecolor": "white",
           "ticks": "",
           "title": {
            "standoff": 15
           },
           "zerolinecolor": "white",
           "zerolinewidth": 2
          }
         }
        },
        "title": {
         "font": {
          "color": "#4D5663"
         }
        },
        "xaxis": {
         "gridcolor": "#E1E5ED",
         "showgrid": true,
         "tickfont": {
          "color": "#4D5663"
         },
         "title": {
          "font": {
           "color": "#4D5663"
          },
          "text": ""
         },
         "zerolinecolor": "#E1E5ED"
        },
        "yaxis": {
         "gridcolor": "#E1E5ED",
         "showgrid": true,
         "tickfont": {
          "color": "#4D5663"
         },
         "title": {
          "font": {
           "color": "#4D5663"
          },
          "text": ""
         },
         "zerolinecolor": "#E1E5ED"
        }
       }
      },
      "text/html": [
       "<div>\n",
       "        \n",
       "        \n",
       "            <div id=\"5040d566-ea44-400f-8601-8a24698c1b46\" class=\"plotly-graph-div\" style=\"height:525px; width:100%;\"></div>\n",
       "            <script type=\"text/javascript\">\n",
       "                require([\"plotly\"], function(Plotly) {\n",
       "                    window.PLOTLYENV=window.PLOTLYENV || {};\n",
       "                    window.PLOTLYENV.BASE_URL='https://plot.ly';\n",
       "                    \n",
       "                if (document.getElementById(\"5040d566-ea44-400f-8601-8a24698c1b46\")) {\n",
       "                    Plotly.newPlot(\n",
       "                        '5040d566-ea44-400f-8601-8a24698c1b46',\n",
       "                        [{\"line\": {\"color\": \"rgba(255, 153, 51, 1.0)\", \"dash\": \"solid\", \"shape\": \"linear\", \"width\": 1.3}, \"mode\": \"lines\", \"name\": \"B\", \"text\": \"\", \"type\": \"scatter\", \"x\": [-0.47994138356102345, 0.16000001454505774, 1.2996849606416845, -0.3459934331228707, 1.0368948135116955, 0.07946965327892691, 0.02947178831828827, -0.26772555546117177, -2.0314116116032723, -0.7776726685287725, -0.6632265573499633, 0.040338171293861545, 0.03099329497456494, 1.30667900546974, -0.037687242533143366, 0.73556867266476, 0.1957228240044999, -1.0482986804628374, 1.0503916976168206, 0.3384999073480586, -0.14838682865663155, -1.849858632992489, -1.1910865283155898, 1.5553865160982832, 0.986449102796202, 0.07626968937010195, -0.7144282219471334, -1.95459396507943, 0.5166017932497404, -0.1272350411517917, 0.3651824330336992, 0.629568772242452, 0.2238905949170703, -0.4080627997126574, 0.2459532769412293, -1.4375822191198364, 1.1953127234968812, 0.20642350123956282, -0.6118149783961775, -0.3516522754108534, 0.3864587743634232, 0.5578874059130349, -1.2239437975712937, -0.5751253948097974, -0.8161879128352467, 0.728310144983823, 1.0285518125814623, -0.061080867479822096, 0.5456049906240891, 1.6757326714528262, 1.1259534774275948, 2.1679146833244065, 0.3627705444531118, -0.2007163005561877, 1.5857603106850822, -0.14387374650148002, 0.6711681353081573, -2.077686313631864, -0.8339634788937905, -1.5147815926076582, -0.2426824940955602, -0.05900561048931461, -0.5015572453005709, -1.02382765079118, 0.6594628547687229, -0.23529898779933406, 0.989301732841858, 1.0913142676056113, 0.9047811195866384, 2.171823959268939, 0.8660901043897223, -1.009123777500051, -1.2739552439273125, -0.8003558594463309, -0.7227937984759449, -0.4548814893006097, -1.2973334617697536, -0.40436366793090245, -0.5467723352316892, 1.3324985767546997, -0.3000650152937515, -2.4463874579688456, 0.5366264052442478, 0.8394154584497169, -0.47075436156584355, 0.46846103114383303, 1.7485010794299531, -1.3189454373300313, -0.29883060294564007, 0.09313380405100766, 1.2964129012060845, 1.6132918404264132, -0.11654004163312816, -0.3113907853250452, 0.03577164272941658, -0.22212739215972332, 0.19790220317768603, 0.23463768157652232, -0.3274922195966929, -0.3594549556767431], \"y\": [-0.6750720095040574, -0.6236632378538945, 0.31648115090713874, 0.006625469958763555, 1.0701445375157368, -1.489988600379836, 0.7894479972844892, 0.9173170404148899, -0.03236558870315396, 0.531828866922249, 0.5886330258336944, -1.167976713880715, -0.7162100002669591, -0.5414831307678194, 0.7840457615721561, -0.46930537859098814, -0.7892004007784026, 0.15190499519329212, -0.13488847109679594, 0.9560305771827087, 0.9836328201693666, 1.113069160455684, 0.3815657149703171, 1.3561175238140253, -1.0417651856920722, 0.6451841844568005, -0.4828578505139144, 1.5246445699148836, 0.06537554774633204, 0.04931160611207707, 1.9347732812598075, -0.8061165056880444, 1.0744399572724777, -0.38326628912131316, -1.7407112541746834, -1.1789405193606934, -1.4075963840229924, -0.40096512182303085, 0.3220761194308544, -0.9234853236877474, -2.0334595526466446, 0.7776897486339085, -0.9807388724402262, 0.6367945434202201, 1.2749049396021885, 1.5095220335919506, -1.0861773553362357, 0.2928360719752721, -1.0635379361026216, 0.5682472797409951, -0.9001092545463106, -0.40166002883131624, 0.15203268993711191, 0.5507806044416774, -0.406142216960143, -1.217479641294983, 0.6917269041894943, -0.911829853729197, -1.4102896333460009, -1.1411785121505986, -0.08111764128140288, -1.2905700010948244, 0.15246509174095685, 0.5514074713986842, -0.5748023680027282, -0.17533905191623023, 0.2750882818594264, -0.06060424378975698, 0.48929733464317215, -0.8521185592816384, 0.14843460207767809, 0.36699416075794683, -0.1763066172519723, 0.6767034425170794, -1.0558797509891396, -1.2618686077621954, -0.7013920682499339, -1.1536332965995175, -1.0458008683090156, -1.1845502086936621, -1.6179944848535541, 0.027753117132022737, -0.03597787859543119, -0.6109525033400434, -0.006659128206266237, -1.9053029934010377, -0.1979953952563941, -1.970715611393755, -0.02374897918555784, 0.014002628836400495, 0.9021962904211355, -0.2186002004460576, 0.282987591536079, -0.4104780901919894, -0.29636306422899106, -1.0720115422654701, 1.4663762784345675, 0.518632479089715, 0.643572733575315, -0.5238831432693754]}],\n",
       "                        {\"legend\": {\"bgcolor\": \"#F5F6F9\", \"font\": {\"color\": \"#4D5663\"}}, \"paper_bgcolor\": \"#F5F6F9\", \"plot_bgcolor\": \"#F5F6F9\", \"template\": {\"data\": {\"bar\": [{\"error_x\": {\"color\": \"#2a3f5f\"}, \"error_y\": {\"color\": \"#2a3f5f\"}, \"marker\": {\"line\": {\"color\": \"#E5ECF6\", \"width\": 0.5}}, \"type\": \"bar\"}], \"barpolar\": [{\"marker\": {\"line\": {\"color\": \"#E5ECF6\", \"width\": 0.5}}, \"type\": \"barpolar\"}], \"carpet\": [{\"aaxis\": {\"endlinecolor\": \"#2a3f5f\", \"gridcolor\": \"white\", \"linecolor\": \"white\", \"minorgridcolor\": \"white\", \"startlinecolor\": \"#2a3f5f\"}, \"baxis\": {\"endlinecolor\": \"#2a3f5f\", \"gridcolor\": \"white\", \"linecolor\": \"white\", \"minorgridcolor\": \"white\", \"startlinecolor\": \"#2a3f5f\"}, \"type\": \"carpet\"}], \"choropleth\": [{\"colorbar\": {\"outlinewidth\": 0, \"ticks\": \"\"}, \"type\": \"choropleth\"}], \"contour\": [{\"colorbar\": {\"outlinewidth\": 0, \"ticks\": \"\"}, \"colorscale\": [[0.0, \"#0d0887\"], [0.1111111111111111, \"#46039f\"], [0.2222222222222222, \"#7201a8\"], [0.3333333333333333, \"#9c179e\"], [0.4444444444444444, \"#bd3786\"], [0.5555555555555556, \"#d8576b\"], [0.6666666666666666, \"#ed7953\"], [0.7777777777777778, \"#fb9f3a\"], [0.8888888888888888, \"#fdca26\"], [1.0, \"#f0f921\"]], \"type\": \"contour\"}], \"contourcarpet\": [{\"colorbar\": {\"outlinewidth\": 0, \"ticks\": \"\"}, \"type\": \"contourcarpet\"}], \"heatmap\": [{\"colorbar\": {\"outlinewidth\": 0, \"ticks\": \"\"}, \"colorscale\": [[0.0, \"#0d0887\"], [0.1111111111111111, \"#46039f\"], [0.2222222222222222, \"#7201a8\"], [0.3333333333333333, \"#9c179e\"], [0.4444444444444444, \"#bd3786\"], [0.5555555555555556, \"#d8576b\"], [0.6666666666666666, \"#ed7953\"], [0.7777777777777778, \"#fb9f3a\"], [0.8888888888888888, \"#fdca26\"], [1.0, \"#f0f921\"]], \"type\": \"heatmap\"}], \"heatmapgl\": [{\"colorbar\": {\"outlinewidth\": 0, \"ticks\": \"\"}, \"colorscale\": [[0.0, \"#0d0887\"], [0.1111111111111111, \"#46039f\"], [0.2222222222222222, \"#7201a8\"], [0.3333333333333333, \"#9c179e\"], [0.4444444444444444, \"#bd3786\"], [0.5555555555555556, \"#d8576b\"], [0.6666666666666666, \"#ed7953\"], [0.7777777777777778, \"#fb9f3a\"], [0.8888888888888888, \"#fdca26\"], [1.0, \"#f0f921\"]], \"type\": \"heatmapgl\"}], \"histogram\": [{\"marker\": {\"colorbar\": {\"outlinewidth\": 0, \"ticks\": \"\"}}, \"type\": \"histogram\"}], \"histogram2d\": [{\"colorbar\": {\"outlinewidth\": 0, \"ticks\": \"\"}, \"colorscale\": [[0.0, \"#0d0887\"], [0.1111111111111111, \"#46039f\"], [0.2222222222222222, \"#7201a8\"], [0.3333333333333333, \"#9c179e\"], [0.4444444444444444, \"#bd3786\"], [0.5555555555555556, \"#d8576b\"], [0.6666666666666666, \"#ed7953\"], [0.7777777777777778, \"#fb9f3a\"], [0.8888888888888888, \"#fdca26\"], [1.0, \"#f0f921\"]], \"type\": \"histogram2d\"}], \"histogram2dcontour\": [{\"colorbar\": {\"outlinewidth\": 0, \"ticks\": \"\"}, \"colorscale\": [[0.0, \"#0d0887\"], [0.1111111111111111, \"#46039f\"], [0.2222222222222222, \"#7201a8\"], [0.3333333333333333, \"#9c179e\"], [0.4444444444444444, \"#bd3786\"], [0.5555555555555556, \"#d8576b\"], [0.6666666666666666, \"#ed7953\"], [0.7777777777777778, \"#fb9f3a\"], [0.8888888888888888, \"#fdca26\"], [1.0, \"#f0f921\"]], \"type\": \"histogram2dcontour\"}], \"mesh3d\": [{\"colorbar\": {\"outlinewidth\": 0, \"ticks\": \"\"}, \"type\": \"mesh3d\"}], \"parcoords\": [{\"line\": {\"colorbar\": {\"outlinewidth\": 0, \"ticks\": \"\"}}, \"type\": \"parcoords\"}], \"pie\": [{\"automargin\": true, \"type\": \"pie\"}], \"scatter\": [{\"marker\": {\"colorbar\": {\"outlinewidth\": 0, \"ticks\": \"\"}}, \"type\": \"scatter\"}], \"scatter3d\": [{\"line\": {\"colorbar\": {\"outlinewidth\": 0, \"ticks\": \"\"}}, \"marker\": {\"colorbar\": {\"outlinewidth\": 0, \"ticks\": \"\"}}, \"type\": \"scatter3d\"}], \"scattercarpet\": [{\"marker\": {\"colorbar\": {\"outlinewidth\": 0, \"ticks\": \"\"}}, \"type\": \"scattercarpet\"}], \"scattergeo\": [{\"marker\": {\"colorbar\": {\"outlinewidth\": 0, \"ticks\": \"\"}}, \"type\": \"scattergeo\"}], \"scattergl\": [{\"marker\": {\"colorbar\": {\"outlinewidth\": 0, \"ticks\": \"\"}}, \"type\": \"scattergl\"}], \"scattermapbox\": [{\"marker\": {\"colorbar\": {\"outlinewidth\": 0, \"ticks\": \"\"}}, \"type\": \"scattermapbox\"}], \"scatterpolar\": [{\"marker\": {\"colorbar\": {\"outlinewidth\": 0, \"ticks\": \"\"}}, \"type\": \"scatterpolar\"}], \"scatterpolargl\": [{\"marker\": {\"colorbar\": {\"outlinewidth\": 0, \"ticks\": \"\"}}, \"type\": \"scatterpolargl\"}], \"scatterternary\": [{\"marker\": {\"colorbar\": {\"outlinewidth\": 0, \"ticks\": \"\"}}, \"type\": \"scatterternary\"}], \"surface\": [{\"colorbar\": {\"outlinewidth\": 0, \"ticks\": \"\"}, \"colorscale\": [[0.0, \"#0d0887\"], [0.1111111111111111, \"#46039f\"], [0.2222222222222222, \"#7201a8\"], [0.3333333333333333, \"#9c179e\"], [0.4444444444444444, \"#bd3786\"], [0.5555555555555556, \"#d8576b\"], [0.6666666666666666, \"#ed7953\"], [0.7777777777777778, \"#fb9f3a\"], [0.8888888888888888, \"#fdca26\"], [1.0, \"#f0f921\"]], \"type\": \"surface\"}], \"table\": [{\"cells\": {\"fill\": {\"color\": \"#EBF0F8\"}, \"line\": {\"color\": \"white\"}}, \"header\": {\"fill\": {\"color\": \"#C8D4E3\"}, \"line\": {\"color\": \"white\"}}, \"type\": \"table\"}]}, \"layout\": {\"annotationdefaults\": {\"arrowcolor\": \"#2a3f5f\", \"arrowhead\": 0, \"arrowwidth\": 1}, \"coloraxis\": {\"colorbar\": {\"outlinewidth\": 0, \"ticks\": \"\"}}, \"colorscale\": {\"diverging\": [[0, \"#8e0152\"], [0.1, \"#c51b7d\"], [0.2, \"#de77ae\"], [0.3, \"#f1b6da\"], [0.4, \"#fde0ef\"], [0.5, \"#f7f7f7\"], [0.6, \"#e6f5d0\"], [0.7, \"#b8e186\"], [0.8, \"#7fbc41\"], [0.9, \"#4d9221\"], [1, \"#276419\"]], \"sequential\": [[0.0, \"#0d0887\"], [0.1111111111111111, \"#46039f\"], [0.2222222222222222, \"#7201a8\"], [0.3333333333333333, \"#9c179e\"], [0.4444444444444444, \"#bd3786\"], [0.5555555555555556, \"#d8576b\"], [0.6666666666666666, \"#ed7953\"], [0.7777777777777778, \"#fb9f3a\"], [0.8888888888888888, \"#fdca26\"], [1.0, \"#f0f921\"]], \"sequentialminus\": [[0.0, \"#0d0887\"], [0.1111111111111111, \"#46039f\"], [0.2222222222222222, \"#7201a8\"], [0.3333333333333333, \"#9c179e\"], [0.4444444444444444, \"#bd3786\"], [0.5555555555555556, \"#d8576b\"], [0.6666666666666666, \"#ed7953\"], [0.7777777777777778, \"#fb9f3a\"], [0.8888888888888888, \"#fdca26\"], [1.0, \"#f0f921\"]]}, \"colorway\": [\"#636efa\", \"#EF553B\", \"#00cc96\", \"#ab63fa\", \"#FFA15A\", \"#19d3f3\", \"#FF6692\", \"#B6E880\", \"#FF97FF\", \"#FECB52\"], \"font\": {\"color\": \"#2a3f5f\"}, \"geo\": {\"bgcolor\": \"white\", \"lakecolor\": \"white\", \"landcolor\": \"#E5ECF6\", \"showlakes\": true, \"showland\": true, \"subunitcolor\": \"white\"}, \"hoverlabel\": {\"align\": \"left\"}, \"hovermode\": \"closest\", \"mapbox\": {\"style\": \"light\"}, \"paper_bgcolor\": \"white\", \"plot_bgcolor\": \"#E5ECF6\", \"polar\": {\"angularaxis\": {\"gridcolor\": \"white\", \"linecolor\": \"white\", \"ticks\": \"\"}, \"bgcolor\": \"#E5ECF6\", \"radialaxis\": {\"gridcolor\": \"white\", \"linecolor\": \"white\", \"ticks\": \"\"}}, \"scene\": {\"xaxis\": {\"backgroundcolor\": \"#E5ECF6\", \"gridcolor\": \"white\", \"gridwidth\": 2, \"linecolor\": \"white\", \"showbackground\": true, \"ticks\": \"\", \"zerolinecolor\": \"white\"}, \"yaxis\": {\"backgroundcolor\": \"#E5ECF6\", \"gridcolor\": \"white\", \"gridwidth\": 2, \"linecolor\": \"white\", \"showbackground\": true, \"ticks\": \"\", \"zerolinecolor\": \"white\"}, \"zaxis\": {\"backgroundcolor\": \"#E5ECF6\", \"gridcolor\": \"white\", \"gridwidth\": 2, \"linecolor\": \"white\", \"showbackground\": true, \"ticks\": \"\", \"zerolinecolor\": \"white\"}}, \"shapedefaults\": {\"line\": {\"color\": \"#2a3f5f\"}}, \"ternary\": {\"aaxis\": {\"gridcolor\": \"white\", \"linecolor\": \"white\", \"ticks\": \"\"}, \"baxis\": {\"gridcolor\": \"white\", \"linecolor\": \"white\", \"ticks\": \"\"}, \"bgcolor\": \"#E5ECF6\", \"caxis\": {\"gridcolor\": \"white\", \"linecolor\": \"white\", \"ticks\": \"\"}}, \"title\": {\"x\": 0.05}, \"xaxis\": {\"automargin\": true, \"gridcolor\": \"white\", \"linecolor\": \"white\", \"ticks\": \"\", \"title\": {\"standoff\": 15}, \"zerolinecolor\": \"white\", \"zerolinewidth\": 2}, \"yaxis\": {\"automargin\": true, \"gridcolor\": \"white\", \"linecolor\": \"white\", \"ticks\": \"\", \"title\": {\"standoff\": 15}, \"zerolinecolor\": \"white\", \"zerolinewidth\": 2}}}, \"title\": {\"font\": {\"color\": \"#4D5663\"}}, \"xaxis\": {\"gridcolor\": \"#E1E5ED\", \"showgrid\": true, \"tickfont\": {\"color\": \"#4D5663\"}, \"title\": {\"font\": {\"color\": \"#4D5663\"}, \"text\": \"\"}, \"zerolinecolor\": \"#E1E5ED\"}, \"yaxis\": {\"gridcolor\": \"#E1E5ED\", \"showgrid\": true, \"tickfont\": {\"color\": \"#4D5663\"}, \"title\": {\"font\": {\"color\": \"#4D5663\"}, \"text\": \"\"}, \"zerolinecolor\": \"#E1E5ED\"}},\n",
       "                        {\"showLink\": true, \"linkText\": \"Export to plot.ly\", \"plotlyServerURL\": \"https://plot.ly\", \"responsive\": true}\n",
       "                    ).then(function(){\n",
       "                            \n",
       "var gd = document.getElementById('5040d566-ea44-400f-8601-8a24698c1b46');\n",
       "var x = new MutationObserver(function (mutations, observer) {{\n",
       "        var display = window.getComputedStyle(gd).display;\n",
       "        if (!display || display === 'none') {{\n",
       "            console.log([gd, 'removed!']);\n",
       "            Plotly.purge(gd);\n",
       "            observer.disconnect();\n",
       "        }}\n",
       "}});\n",
       "\n",
       "// Listen for the removal of the full notebook cells\n",
       "var notebookContainer = gd.closest('#notebook-container');\n",
       "if (notebookContainer) {{\n",
       "    x.observe(notebookContainer, {childList: true});\n",
       "}}\n",
       "\n",
       "// Listen for the clearing of the current output cell\n",
       "var outputEl = gd.closest('.output');\n",
       "if (outputEl) {{\n",
       "    x.observe(outputEl, {childList: true});\n",
       "}}\n",
       "\n",
       "                        })\n",
       "                };\n",
       "                });\n",
       "            </script>\n",
       "        </div>"
      ]
     },
     "metadata": {},
     "output_type": "display_data"
    }
   ],
   "source": [
    "df.iplot(kind='scatter',x='A',y='B')"
   ]
  },
  {
   "cell_type": "code",
   "execution_count": 19,
   "metadata": {},
   "outputs": [
    {
     "data": {
      "application/vnd.plotly.v1+json": {
       "config": {
        "linkText": "Export to plot.ly",
        "plotlyServerURL": "https://plot.ly",
        "showLink": true
       },
       "data": [
        {
         "line": {
          "color": "rgba(255, 153, 51, 1.0)",
          "dash": "solid",
          "shape": "linear",
          "width": 1.3
         },
         "marker": {
          "size": 12,
          "symbol": "circle"
         },
         "mode": "markers",
         "name": "B",
         "text": "",
         "type": "scatter",
         "x": [
          -0.47994138356102345,
          0.16000001454505774,
          1.2996849606416845,
          -0.3459934331228707,
          1.0368948135116955,
          0.07946965327892691,
          0.02947178831828827,
          -0.26772555546117177,
          -2.0314116116032723,
          -0.7776726685287725,
          -0.6632265573499633,
          0.040338171293861545,
          0.03099329497456494,
          1.30667900546974,
          -0.037687242533143366,
          0.73556867266476,
          0.1957228240044999,
          -1.0482986804628374,
          1.0503916976168206,
          0.3384999073480586,
          -0.14838682865663155,
          -1.849858632992489,
          -1.1910865283155898,
          1.5553865160982832,
          0.986449102796202,
          0.07626968937010195,
          -0.7144282219471334,
          -1.95459396507943,
          0.5166017932497404,
          -0.1272350411517917,
          0.3651824330336992,
          0.629568772242452,
          0.2238905949170703,
          -0.4080627997126574,
          0.2459532769412293,
          -1.4375822191198364,
          1.1953127234968812,
          0.20642350123956282,
          -0.6118149783961775,
          -0.3516522754108534,
          0.3864587743634232,
          0.5578874059130349,
          -1.2239437975712937,
          -0.5751253948097974,
          -0.8161879128352467,
          0.728310144983823,
          1.0285518125814623,
          -0.061080867479822096,
          0.5456049906240891,
          1.6757326714528262,
          1.1259534774275948,
          2.1679146833244065,
          0.3627705444531118,
          -0.2007163005561877,
          1.5857603106850822,
          -0.14387374650148002,
          0.6711681353081573,
          -2.077686313631864,
          -0.8339634788937905,
          -1.5147815926076582,
          -0.2426824940955602,
          -0.05900561048931461,
          -0.5015572453005709,
          -1.02382765079118,
          0.6594628547687229,
          -0.23529898779933406,
          0.989301732841858,
          1.0913142676056113,
          0.9047811195866384,
          2.171823959268939,
          0.8660901043897223,
          -1.009123777500051,
          -1.2739552439273125,
          -0.8003558594463309,
          -0.7227937984759449,
          -0.4548814893006097,
          -1.2973334617697536,
          -0.40436366793090245,
          -0.5467723352316892,
          1.3324985767546997,
          -0.3000650152937515,
          -2.4463874579688456,
          0.5366264052442478,
          0.8394154584497169,
          -0.47075436156584355,
          0.46846103114383303,
          1.7485010794299531,
          -1.3189454373300313,
          -0.29883060294564007,
          0.09313380405100766,
          1.2964129012060845,
          1.6132918404264132,
          -0.11654004163312816,
          -0.3113907853250452,
          0.03577164272941658,
          -0.22212739215972332,
          0.19790220317768603,
          0.23463768157652232,
          -0.3274922195966929,
          -0.3594549556767431
         ],
         "y": [
          -0.6750720095040574,
          -0.6236632378538945,
          0.31648115090713874,
          0.006625469958763555,
          1.0701445375157368,
          -1.489988600379836,
          0.7894479972844892,
          0.9173170404148899,
          -0.03236558870315396,
          0.531828866922249,
          0.5886330258336944,
          -1.167976713880715,
          -0.7162100002669591,
          -0.5414831307678194,
          0.7840457615721561,
          -0.46930537859098814,
          -0.7892004007784026,
          0.15190499519329212,
          -0.13488847109679594,
          0.9560305771827087,
          0.9836328201693666,
          1.113069160455684,
          0.3815657149703171,
          1.3561175238140253,
          -1.0417651856920722,
          0.6451841844568005,
          -0.4828578505139144,
          1.5246445699148836,
          0.06537554774633204,
          0.04931160611207707,
          1.9347732812598075,
          -0.8061165056880444,
          1.0744399572724777,
          -0.38326628912131316,
          -1.7407112541746834,
          -1.1789405193606934,
          -1.4075963840229924,
          -0.40096512182303085,
          0.3220761194308544,
          -0.9234853236877474,
          -2.0334595526466446,
          0.7776897486339085,
          -0.9807388724402262,
          0.6367945434202201,
          1.2749049396021885,
          1.5095220335919506,
          -1.0861773553362357,
          0.2928360719752721,
          -1.0635379361026216,
          0.5682472797409951,
          -0.9001092545463106,
          -0.40166002883131624,
          0.15203268993711191,
          0.5507806044416774,
          -0.406142216960143,
          -1.217479641294983,
          0.6917269041894943,
          -0.911829853729197,
          -1.4102896333460009,
          -1.1411785121505986,
          -0.08111764128140288,
          -1.2905700010948244,
          0.15246509174095685,
          0.5514074713986842,
          -0.5748023680027282,
          -0.17533905191623023,
          0.2750882818594264,
          -0.06060424378975698,
          0.48929733464317215,
          -0.8521185592816384,
          0.14843460207767809,
          0.36699416075794683,
          -0.1763066172519723,
          0.6767034425170794,
          -1.0558797509891396,
          -1.2618686077621954,
          -0.7013920682499339,
          -1.1536332965995175,
          -1.0458008683090156,
          -1.1845502086936621,
          -1.6179944848535541,
          0.027753117132022737,
          -0.03597787859543119,
          -0.6109525033400434,
          -0.006659128206266237,
          -1.9053029934010377,
          -0.1979953952563941,
          -1.970715611393755,
          -0.02374897918555784,
          0.014002628836400495,
          0.9021962904211355,
          -0.2186002004460576,
          0.282987591536079,
          -0.4104780901919894,
          -0.29636306422899106,
          -1.0720115422654701,
          1.4663762784345675,
          0.518632479089715,
          0.643572733575315,
          -0.5238831432693754
         ]
        }
       ],
       "layout": {
        "legend": {
         "bgcolor": "#F5F6F9",
         "font": {
          "color": "#4D5663"
         }
        },
        "paper_bgcolor": "#F5F6F9",
        "plot_bgcolor": "#F5F6F9",
        "template": {
         "data": {
          "bar": [
           {
            "error_x": {
             "color": "#2a3f5f"
            },
            "error_y": {
             "color": "#2a3f5f"
            },
            "marker": {
             "line": {
              "color": "#E5ECF6",
              "width": 0.5
             }
            },
            "type": "bar"
           }
          ],
          "barpolar": [
           {
            "marker": {
             "line": {
              "color": "#E5ECF6",
              "width": 0.5
             }
            },
            "type": "barpolar"
           }
          ],
          "carpet": [
           {
            "aaxis": {
             "endlinecolor": "#2a3f5f",
             "gridcolor": "white",
             "linecolor": "white",
             "minorgridcolor": "white",
             "startlinecolor": "#2a3f5f"
            },
            "baxis": {
             "endlinecolor": "#2a3f5f",
             "gridcolor": "white",
             "linecolor": "white",
             "minorgridcolor": "white",
             "startlinecolor": "#2a3f5f"
            },
            "type": "carpet"
           }
          ],
          "choropleth": [
           {
            "colorbar": {
             "outlinewidth": 0,
             "ticks": ""
            },
            "type": "choropleth"
           }
          ],
          "contour": [
           {
            "colorbar": {
             "outlinewidth": 0,
             "ticks": ""
            },
            "colorscale": [
             [
              0,
              "#0d0887"
             ],
             [
              0.1111111111111111,
              "#46039f"
             ],
             [
              0.2222222222222222,
              "#7201a8"
             ],
             [
              0.3333333333333333,
              "#9c179e"
             ],
             [
              0.4444444444444444,
              "#bd3786"
             ],
             [
              0.5555555555555556,
              "#d8576b"
             ],
             [
              0.6666666666666666,
              "#ed7953"
             ],
             [
              0.7777777777777778,
              "#fb9f3a"
             ],
             [
              0.8888888888888888,
              "#fdca26"
             ],
             [
              1,
              "#f0f921"
             ]
            ],
            "type": "contour"
           }
          ],
          "contourcarpet": [
           {
            "colorbar": {
             "outlinewidth": 0,
             "ticks": ""
            },
            "type": "contourcarpet"
           }
          ],
          "heatmap": [
           {
            "colorbar": {
             "outlinewidth": 0,
             "ticks": ""
            },
            "colorscale": [
             [
              0,
              "#0d0887"
             ],
             [
              0.1111111111111111,
              "#46039f"
             ],
             [
              0.2222222222222222,
              "#7201a8"
             ],
             [
              0.3333333333333333,
              "#9c179e"
             ],
             [
              0.4444444444444444,
              "#bd3786"
             ],
             [
              0.5555555555555556,
              "#d8576b"
             ],
             [
              0.6666666666666666,
              "#ed7953"
             ],
             [
              0.7777777777777778,
              "#fb9f3a"
             ],
             [
              0.8888888888888888,
              "#fdca26"
             ],
             [
              1,
              "#f0f921"
             ]
            ],
            "type": "heatmap"
           }
          ],
          "heatmapgl": [
           {
            "colorbar": {
             "outlinewidth": 0,
             "ticks": ""
            },
            "colorscale": [
             [
              0,
              "#0d0887"
             ],
             [
              0.1111111111111111,
              "#46039f"
             ],
             [
              0.2222222222222222,
              "#7201a8"
             ],
             [
              0.3333333333333333,
              "#9c179e"
             ],
             [
              0.4444444444444444,
              "#bd3786"
             ],
             [
              0.5555555555555556,
              "#d8576b"
             ],
             [
              0.6666666666666666,
              "#ed7953"
             ],
             [
              0.7777777777777778,
              "#fb9f3a"
             ],
             [
              0.8888888888888888,
              "#fdca26"
             ],
             [
              1,
              "#f0f921"
             ]
            ],
            "type": "heatmapgl"
           }
          ],
          "histogram": [
           {
            "marker": {
             "colorbar": {
              "outlinewidth": 0,
              "ticks": ""
             }
            },
            "type": "histogram"
           }
          ],
          "histogram2d": [
           {
            "colorbar": {
             "outlinewidth": 0,
             "ticks": ""
            },
            "colorscale": [
             [
              0,
              "#0d0887"
             ],
             [
              0.1111111111111111,
              "#46039f"
             ],
             [
              0.2222222222222222,
              "#7201a8"
             ],
             [
              0.3333333333333333,
              "#9c179e"
             ],
             [
              0.4444444444444444,
              "#bd3786"
             ],
             [
              0.5555555555555556,
              "#d8576b"
             ],
             [
              0.6666666666666666,
              "#ed7953"
             ],
             [
              0.7777777777777778,
              "#fb9f3a"
             ],
             [
              0.8888888888888888,
              "#fdca26"
             ],
             [
              1,
              "#f0f921"
             ]
            ],
            "type": "histogram2d"
           }
          ],
          "histogram2dcontour": [
           {
            "colorbar": {
             "outlinewidth": 0,
             "ticks": ""
            },
            "colorscale": [
             [
              0,
              "#0d0887"
             ],
             [
              0.1111111111111111,
              "#46039f"
             ],
             [
              0.2222222222222222,
              "#7201a8"
             ],
             [
              0.3333333333333333,
              "#9c179e"
             ],
             [
              0.4444444444444444,
              "#bd3786"
             ],
             [
              0.5555555555555556,
              "#d8576b"
             ],
             [
              0.6666666666666666,
              "#ed7953"
             ],
             [
              0.7777777777777778,
              "#fb9f3a"
             ],
             [
              0.8888888888888888,
              "#fdca26"
             ],
             [
              1,
              "#f0f921"
             ]
            ],
            "type": "histogram2dcontour"
           }
          ],
          "mesh3d": [
           {
            "colorbar": {
             "outlinewidth": 0,
             "ticks": ""
            },
            "type": "mesh3d"
           }
          ],
          "parcoords": [
           {
            "line": {
             "colorbar": {
              "outlinewidth": 0,
              "ticks": ""
             }
            },
            "type": "parcoords"
           }
          ],
          "pie": [
           {
            "automargin": true,
            "type": "pie"
           }
          ],
          "scatter": [
           {
            "marker": {
             "colorbar": {
              "outlinewidth": 0,
              "ticks": ""
             }
            },
            "type": "scatter"
           }
          ],
          "scatter3d": [
           {
            "line": {
             "colorbar": {
              "outlinewidth": 0,
              "ticks": ""
             }
            },
            "marker": {
             "colorbar": {
              "outlinewidth": 0,
              "ticks": ""
             }
            },
            "type": "scatter3d"
           }
          ],
          "scattercarpet": [
           {
            "marker": {
             "colorbar": {
              "outlinewidth": 0,
              "ticks": ""
             }
            },
            "type": "scattercarpet"
           }
          ],
          "scattergeo": [
           {
            "marker": {
             "colorbar": {
              "outlinewidth": 0,
              "ticks": ""
             }
            },
            "type": "scattergeo"
           }
          ],
          "scattergl": [
           {
            "marker": {
             "colorbar": {
              "outlinewidth": 0,
              "ticks": ""
             }
            },
            "type": "scattergl"
           }
          ],
          "scattermapbox": [
           {
            "marker": {
             "colorbar": {
              "outlinewidth": 0,
              "ticks": ""
             }
            },
            "type": "scattermapbox"
           }
          ],
          "scatterpolar": [
           {
            "marker": {
             "colorbar": {
              "outlinewidth": 0,
              "ticks": ""
             }
            },
            "type": "scatterpolar"
           }
          ],
          "scatterpolargl": [
           {
            "marker": {
             "colorbar": {
              "outlinewidth": 0,
              "ticks": ""
             }
            },
            "type": "scatterpolargl"
           }
          ],
          "scatterternary": [
           {
            "marker": {
             "colorbar": {
              "outlinewidth": 0,
              "ticks": ""
             }
            },
            "type": "scatterternary"
           }
          ],
          "surface": [
           {
            "colorbar": {
             "outlinewidth": 0,
             "ticks": ""
            },
            "colorscale": [
             [
              0,
              "#0d0887"
             ],
             [
              0.1111111111111111,
              "#46039f"
             ],
             [
              0.2222222222222222,
              "#7201a8"
             ],
             [
              0.3333333333333333,
              "#9c179e"
             ],
             [
              0.4444444444444444,
              "#bd3786"
             ],
             [
              0.5555555555555556,
              "#d8576b"
             ],
             [
              0.6666666666666666,
              "#ed7953"
             ],
             [
              0.7777777777777778,
              "#fb9f3a"
             ],
             [
              0.8888888888888888,
              "#fdca26"
             ],
             [
              1,
              "#f0f921"
             ]
            ],
            "type": "surface"
           }
          ],
          "table": [
           {
            "cells": {
             "fill": {
              "color": "#EBF0F8"
             },
             "line": {
              "color": "white"
             }
            },
            "header": {
             "fill": {
              "color": "#C8D4E3"
             },
             "line": {
              "color": "white"
             }
            },
            "type": "table"
           }
          ]
         },
         "layout": {
          "annotationdefaults": {
           "arrowcolor": "#2a3f5f",
           "arrowhead": 0,
           "arrowwidth": 1
          },
          "coloraxis": {
           "colorbar": {
            "outlinewidth": 0,
            "ticks": ""
           }
          },
          "colorscale": {
           "diverging": [
            [
             0,
             "#8e0152"
            ],
            [
             0.1,
             "#c51b7d"
            ],
            [
             0.2,
             "#de77ae"
            ],
            [
             0.3,
             "#f1b6da"
            ],
            [
             0.4,
             "#fde0ef"
            ],
            [
             0.5,
             "#f7f7f7"
            ],
            [
             0.6,
             "#e6f5d0"
            ],
            [
             0.7,
             "#b8e186"
            ],
            [
             0.8,
             "#7fbc41"
            ],
            [
             0.9,
             "#4d9221"
            ],
            [
             1,
             "#276419"
            ]
           ],
           "sequential": [
            [
             0,
             "#0d0887"
            ],
            [
             0.1111111111111111,
             "#46039f"
            ],
            [
             0.2222222222222222,
             "#7201a8"
            ],
            [
             0.3333333333333333,
             "#9c179e"
            ],
            [
             0.4444444444444444,
             "#bd3786"
            ],
            [
             0.5555555555555556,
             "#d8576b"
            ],
            [
             0.6666666666666666,
             "#ed7953"
            ],
            [
             0.7777777777777778,
             "#fb9f3a"
            ],
            [
             0.8888888888888888,
             "#fdca26"
            ],
            [
             1,
             "#f0f921"
            ]
           ],
           "sequentialminus": [
            [
             0,
             "#0d0887"
            ],
            [
             0.1111111111111111,
             "#46039f"
            ],
            [
             0.2222222222222222,
             "#7201a8"
            ],
            [
             0.3333333333333333,
             "#9c179e"
            ],
            [
             0.4444444444444444,
             "#bd3786"
            ],
            [
             0.5555555555555556,
             "#d8576b"
            ],
            [
             0.6666666666666666,
             "#ed7953"
            ],
            [
             0.7777777777777778,
             "#fb9f3a"
            ],
            [
             0.8888888888888888,
             "#fdca26"
            ],
            [
             1,
             "#f0f921"
            ]
           ]
          },
          "colorway": [
           "#636efa",
           "#EF553B",
           "#00cc96",
           "#ab63fa",
           "#FFA15A",
           "#19d3f3",
           "#FF6692",
           "#B6E880",
           "#FF97FF",
           "#FECB52"
          ],
          "font": {
           "color": "#2a3f5f"
          },
          "geo": {
           "bgcolor": "white",
           "lakecolor": "white",
           "landcolor": "#E5ECF6",
           "showlakes": true,
           "showland": true,
           "subunitcolor": "white"
          },
          "hoverlabel": {
           "align": "left"
          },
          "hovermode": "closest",
          "mapbox": {
           "style": "light"
          },
          "paper_bgcolor": "white",
          "plot_bgcolor": "#E5ECF6",
          "polar": {
           "angularaxis": {
            "gridcolor": "white",
            "linecolor": "white",
            "ticks": ""
           },
           "bgcolor": "#E5ECF6",
           "radialaxis": {
            "gridcolor": "white",
            "linecolor": "white",
            "ticks": ""
           }
          },
          "scene": {
           "xaxis": {
            "backgroundcolor": "#E5ECF6",
            "gridcolor": "white",
            "gridwidth": 2,
            "linecolor": "white",
            "showbackground": true,
            "ticks": "",
            "zerolinecolor": "white"
           },
           "yaxis": {
            "backgroundcolor": "#E5ECF6",
            "gridcolor": "white",
            "gridwidth": 2,
            "linecolor": "white",
            "showbackground": true,
            "ticks": "",
            "zerolinecolor": "white"
           },
           "zaxis": {
            "backgroundcolor": "#E5ECF6",
            "gridcolor": "white",
            "gridwidth": 2,
            "linecolor": "white",
            "showbackground": true,
            "ticks": "",
            "zerolinecolor": "white"
           }
          },
          "shapedefaults": {
           "line": {
            "color": "#2a3f5f"
           }
          },
          "ternary": {
           "aaxis": {
            "gridcolor": "white",
            "linecolor": "white",
            "ticks": ""
           },
           "baxis": {
            "gridcolor": "white",
            "linecolor": "white",
            "ticks": ""
           },
           "bgcolor": "#E5ECF6",
           "caxis": {
            "gridcolor": "white",
            "linecolor": "white",
            "ticks": ""
           }
          },
          "title": {
           "x": 0.05
          },
          "xaxis": {
           "automargin": true,
           "gridcolor": "white",
           "linecolor": "white",
           "ticks": "",
           "title": {
            "standoff": 15
           },
           "zerolinecolor": "white",
           "zerolinewidth": 2
          },
          "yaxis": {
           "automargin": true,
           "gridcolor": "white",
           "linecolor": "white",
           "ticks": "",
           "title": {
            "standoff": 15
           },
           "zerolinecolor": "white",
           "zerolinewidth": 2
          }
         }
        },
        "title": {
         "font": {
          "color": "#4D5663"
         }
        },
        "xaxis": {
         "gridcolor": "#E1E5ED",
         "showgrid": true,
         "tickfont": {
          "color": "#4D5663"
         },
         "title": {
          "font": {
           "color": "#4D5663"
          },
          "text": ""
         },
         "zerolinecolor": "#E1E5ED"
        },
        "yaxis": {
         "gridcolor": "#E1E5ED",
         "showgrid": true,
         "tickfont": {
          "color": "#4D5663"
         },
         "title": {
          "font": {
           "color": "#4D5663"
          },
          "text": ""
         },
         "zerolinecolor": "#E1E5ED"
        }
       }
      },
      "text/html": [
       "<div>\n",
       "        \n",
       "        \n",
       "            <div id=\"9c7ef4bd-9880-429e-a375-ccf3308a5e1f\" class=\"plotly-graph-div\" style=\"height:525px; width:100%;\"></div>\n",
       "            <script type=\"text/javascript\">\n",
       "                require([\"plotly\"], function(Plotly) {\n",
       "                    window.PLOTLYENV=window.PLOTLYENV || {};\n",
       "                    window.PLOTLYENV.BASE_URL='https://plot.ly';\n",
       "                    \n",
       "                if (document.getElementById(\"9c7ef4bd-9880-429e-a375-ccf3308a5e1f\")) {\n",
       "                    Plotly.newPlot(\n",
       "                        '9c7ef4bd-9880-429e-a375-ccf3308a5e1f',\n",
       "                        [{\"line\": {\"color\": \"rgba(255, 153, 51, 1.0)\", \"dash\": \"solid\", \"shape\": \"linear\", \"width\": 1.3}, \"marker\": {\"size\": 12, \"symbol\": \"circle\"}, \"mode\": \"markers\", \"name\": \"B\", \"text\": \"\", \"type\": \"scatter\", \"x\": [-0.47994138356102345, 0.16000001454505774, 1.2996849606416845, -0.3459934331228707, 1.0368948135116955, 0.07946965327892691, 0.02947178831828827, -0.26772555546117177, -2.0314116116032723, -0.7776726685287725, -0.6632265573499633, 0.040338171293861545, 0.03099329497456494, 1.30667900546974, -0.037687242533143366, 0.73556867266476, 0.1957228240044999, -1.0482986804628374, 1.0503916976168206, 0.3384999073480586, -0.14838682865663155, -1.849858632992489, -1.1910865283155898, 1.5553865160982832, 0.986449102796202, 0.07626968937010195, -0.7144282219471334, -1.95459396507943, 0.5166017932497404, -0.1272350411517917, 0.3651824330336992, 0.629568772242452, 0.2238905949170703, -0.4080627997126574, 0.2459532769412293, -1.4375822191198364, 1.1953127234968812, 0.20642350123956282, -0.6118149783961775, -0.3516522754108534, 0.3864587743634232, 0.5578874059130349, -1.2239437975712937, -0.5751253948097974, -0.8161879128352467, 0.728310144983823, 1.0285518125814623, -0.061080867479822096, 0.5456049906240891, 1.6757326714528262, 1.1259534774275948, 2.1679146833244065, 0.3627705444531118, -0.2007163005561877, 1.5857603106850822, -0.14387374650148002, 0.6711681353081573, -2.077686313631864, -0.8339634788937905, -1.5147815926076582, -0.2426824940955602, -0.05900561048931461, -0.5015572453005709, -1.02382765079118, 0.6594628547687229, -0.23529898779933406, 0.989301732841858, 1.0913142676056113, 0.9047811195866384, 2.171823959268939, 0.8660901043897223, -1.009123777500051, -1.2739552439273125, -0.8003558594463309, -0.7227937984759449, -0.4548814893006097, -1.2973334617697536, -0.40436366793090245, -0.5467723352316892, 1.3324985767546997, -0.3000650152937515, -2.4463874579688456, 0.5366264052442478, 0.8394154584497169, -0.47075436156584355, 0.46846103114383303, 1.7485010794299531, -1.3189454373300313, -0.29883060294564007, 0.09313380405100766, 1.2964129012060845, 1.6132918404264132, -0.11654004163312816, -0.3113907853250452, 0.03577164272941658, -0.22212739215972332, 0.19790220317768603, 0.23463768157652232, -0.3274922195966929, -0.3594549556767431], \"y\": [-0.6750720095040574, -0.6236632378538945, 0.31648115090713874, 0.006625469958763555, 1.0701445375157368, -1.489988600379836, 0.7894479972844892, 0.9173170404148899, -0.03236558870315396, 0.531828866922249, 0.5886330258336944, -1.167976713880715, -0.7162100002669591, -0.5414831307678194, 0.7840457615721561, -0.46930537859098814, -0.7892004007784026, 0.15190499519329212, -0.13488847109679594, 0.9560305771827087, 0.9836328201693666, 1.113069160455684, 0.3815657149703171, 1.3561175238140253, -1.0417651856920722, 0.6451841844568005, -0.4828578505139144, 1.5246445699148836, 0.06537554774633204, 0.04931160611207707, 1.9347732812598075, -0.8061165056880444, 1.0744399572724777, -0.38326628912131316, -1.7407112541746834, -1.1789405193606934, -1.4075963840229924, -0.40096512182303085, 0.3220761194308544, -0.9234853236877474, -2.0334595526466446, 0.7776897486339085, -0.9807388724402262, 0.6367945434202201, 1.2749049396021885, 1.5095220335919506, -1.0861773553362357, 0.2928360719752721, -1.0635379361026216, 0.5682472797409951, -0.9001092545463106, -0.40166002883131624, 0.15203268993711191, 0.5507806044416774, -0.406142216960143, -1.217479641294983, 0.6917269041894943, -0.911829853729197, -1.4102896333460009, -1.1411785121505986, -0.08111764128140288, -1.2905700010948244, 0.15246509174095685, 0.5514074713986842, -0.5748023680027282, -0.17533905191623023, 0.2750882818594264, -0.06060424378975698, 0.48929733464317215, -0.8521185592816384, 0.14843460207767809, 0.36699416075794683, -0.1763066172519723, 0.6767034425170794, -1.0558797509891396, -1.2618686077621954, -0.7013920682499339, -1.1536332965995175, -1.0458008683090156, -1.1845502086936621, -1.6179944848535541, 0.027753117132022737, -0.03597787859543119, -0.6109525033400434, -0.006659128206266237, -1.9053029934010377, -0.1979953952563941, -1.970715611393755, -0.02374897918555784, 0.014002628836400495, 0.9021962904211355, -0.2186002004460576, 0.282987591536079, -0.4104780901919894, -0.29636306422899106, -1.0720115422654701, 1.4663762784345675, 0.518632479089715, 0.643572733575315, -0.5238831432693754]}],\n",
       "                        {\"legend\": {\"bgcolor\": \"#F5F6F9\", \"font\": {\"color\": \"#4D5663\"}}, \"paper_bgcolor\": \"#F5F6F9\", \"plot_bgcolor\": \"#F5F6F9\", \"template\": {\"data\": {\"bar\": [{\"error_x\": {\"color\": \"#2a3f5f\"}, \"error_y\": {\"color\": \"#2a3f5f\"}, \"marker\": {\"line\": {\"color\": \"#E5ECF6\", \"width\": 0.5}}, \"type\": \"bar\"}], \"barpolar\": [{\"marker\": {\"line\": {\"color\": \"#E5ECF6\", \"width\": 0.5}}, \"type\": \"barpolar\"}], \"carpet\": [{\"aaxis\": {\"endlinecolor\": \"#2a3f5f\", \"gridcolor\": \"white\", \"linecolor\": \"white\", \"minorgridcolor\": \"white\", \"startlinecolor\": \"#2a3f5f\"}, \"baxis\": {\"endlinecolor\": \"#2a3f5f\", \"gridcolor\": \"white\", \"linecolor\": \"white\", \"minorgridcolor\": \"white\", \"startlinecolor\": \"#2a3f5f\"}, \"type\": \"carpet\"}], \"choropleth\": [{\"colorbar\": {\"outlinewidth\": 0, \"ticks\": \"\"}, \"type\": \"choropleth\"}], \"contour\": [{\"colorbar\": {\"outlinewidth\": 0, \"ticks\": \"\"}, \"colorscale\": [[0.0, \"#0d0887\"], [0.1111111111111111, \"#46039f\"], [0.2222222222222222, \"#7201a8\"], [0.3333333333333333, \"#9c179e\"], [0.4444444444444444, \"#bd3786\"], [0.5555555555555556, \"#d8576b\"], [0.6666666666666666, \"#ed7953\"], [0.7777777777777778, \"#fb9f3a\"], [0.8888888888888888, \"#fdca26\"], [1.0, \"#f0f921\"]], \"type\": \"contour\"}], \"contourcarpet\": [{\"colorbar\": {\"outlinewidth\": 0, \"ticks\": \"\"}, \"type\": \"contourcarpet\"}], \"heatmap\": [{\"colorbar\": {\"outlinewidth\": 0, \"ticks\": \"\"}, \"colorscale\": [[0.0, \"#0d0887\"], [0.1111111111111111, \"#46039f\"], [0.2222222222222222, \"#7201a8\"], [0.3333333333333333, \"#9c179e\"], [0.4444444444444444, \"#bd3786\"], [0.5555555555555556, \"#d8576b\"], [0.6666666666666666, \"#ed7953\"], [0.7777777777777778, \"#fb9f3a\"], [0.8888888888888888, \"#fdca26\"], [1.0, \"#f0f921\"]], \"type\": \"heatmap\"}], \"heatmapgl\": [{\"colorbar\": {\"outlinewidth\": 0, \"ticks\": \"\"}, \"colorscale\": [[0.0, \"#0d0887\"], [0.1111111111111111, \"#46039f\"], [0.2222222222222222, \"#7201a8\"], [0.3333333333333333, \"#9c179e\"], [0.4444444444444444, \"#bd3786\"], [0.5555555555555556, \"#d8576b\"], [0.6666666666666666, \"#ed7953\"], [0.7777777777777778, \"#fb9f3a\"], [0.8888888888888888, \"#fdca26\"], [1.0, \"#f0f921\"]], \"type\": \"heatmapgl\"}], \"histogram\": [{\"marker\": {\"colorbar\": {\"outlinewidth\": 0, \"ticks\": \"\"}}, \"type\": \"histogram\"}], \"histogram2d\": [{\"colorbar\": {\"outlinewidth\": 0, \"ticks\": \"\"}, \"colorscale\": [[0.0, \"#0d0887\"], [0.1111111111111111, \"#46039f\"], [0.2222222222222222, \"#7201a8\"], [0.3333333333333333, \"#9c179e\"], [0.4444444444444444, \"#bd3786\"], [0.5555555555555556, \"#d8576b\"], [0.6666666666666666, \"#ed7953\"], [0.7777777777777778, \"#fb9f3a\"], [0.8888888888888888, \"#fdca26\"], [1.0, \"#f0f921\"]], \"type\": \"histogram2d\"}], \"histogram2dcontour\": [{\"colorbar\": {\"outlinewidth\": 0, \"ticks\": \"\"}, \"colorscale\": [[0.0, \"#0d0887\"], [0.1111111111111111, \"#46039f\"], [0.2222222222222222, \"#7201a8\"], [0.3333333333333333, \"#9c179e\"], [0.4444444444444444, \"#bd3786\"], [0.5555555555555556, \"#d8576b\"], [0.6666666666666666, \"#ed7953\"], [0.7777777777777778, \"#fb9f3a\"], [0.8888888888888888, \"#fdca26\"], [1.0, \"#f0f921\"]], \"type\": \"histogram2dcontour\"}], \"mesh3d\": [{\"colorbar\": {\"outlinewidth\": 0, \"ticks\": \"\"}, \"type\": \"mesh3d\"}], \"parcoords\": [{\"line\": {\"colorbar\": {\"outlinewidth\": 0, \"ticks\": \"\"}}, \"type\": \"parcoords\"}], \"pie\": [{\"automargin\": true, \"type\": \"pie\"}], \"scatter\": [{\"marker\": {\"colorbar\": {\"outlinewidth\": 0, \"ticks\": \"\"}}, \"type\": \"scatter\"}], \"scatter3d\": [{\"line\": {\"colorbar\": {\"outlinewidth\": 0, \"ticks\": \"\"}}, \"marker\": {\"colorbar\": {\"outlinewidth\": 0, \"ticks\": \"\"}}, \"type\": \"scatter3d\"}], \"scattercarpet\": [{\"marker\": {\"colorbar\": {\"outlinewidth\": 0, \"ticks\": \"\"}}, \"type\": \"scattercarpet\"}], \"scattergeo\": [{\"marker\": {\"colorbar\": {\"outlinewidth\": 0, \"ticks\": \"\"}}, \"type\": \"scattergeo\"}], \"scattergl\": [{\"marker\": {\"colorbar\": {\"outlinewidth\": 0, \"ticks\": \"\"}}, \"type\": \"scattergl\"}], \"scattermapbox\": [{\"marker\": {\"colorbar\": {\"outlinewidth\": 0, \"ticks\": \"\"}}, \"type\": \"scattermapbox\"}], \"scatterpolar\": [{\"marker\": {\"colorbar\": {\"outlinewidth\": 0, \"ticks\": \"\"}}, \"type\": \"scatterpolar\"}], \"scatterpolargl\": [{\"marker\": {\"colorbar\": {\"outlinewidth\": 0, \"ticks\": \"\"}}, \"type\": \"scatterpolargl\"}], \"scatterternary\": [{\"marker\": {\"colorbar\": {\"outlinewidth\": 0, \"ticks\": \"\"}}, \"type\": \"scatterternary\"}], \"surface\": [{\"colorbar\": {\"outlinewidth\": 0, \"ticks\": \"\"}, \"colorscale\": [[0.0, \"#0d0887\"], [0.1111111111111111, \"#46039f\"], [0.2222222222222222, \"#7201a8\"], [0.3333333333333333, \"#9c179e\"], [0.4444444444444444, \"#bd3786\"], [0.5555555555555556, \"#d8576b\"], [0.6666666666666666, \"#ed7953\"], [0.7777777777777778, \"#fb9f3a\"], [0.8888888888888888, \"#fdca26\"], [1.0, \"#f0f921\"]], \"type\": \"surface\"}], \"table\": [{\"cells\": {\"fill\": {\"color\": \"#EBF0F8\"}, \"line\": {\"color\": \"white\"}}, \"header\": {\"fill\": {\"color\": \"#C8D4E3\"}, \"line\": {\"color\": \"white\"}}, \"type\": \"table\"}]}, \"layout\": {\"annotationdefaults\": {\"arrowcolor\": \"#2a3f5f\", \"arrowhead\": 0, \"arrowwidth\": 1}, \"coloraxis\": {\"colorbar\": {\"outlinewidth\": 0, \"ticks\": \"\"}}, \"colorscale\": {\"diverging\": [[0, \"#8e0152\"], [0.1, \"#c51b7d\"], [0.2, \"#de77ae\"], [0.3, \"#f1b6da\"], [0.4, \"#fde0ef\"], [0.5, \"#f7f7f7\"], [0.6, \"#e6f5d0\"], [0.7, \"#b8e186\"], [0.8, \"#7fbc41\"], [0.9, \"#4d9221\"], [1, \"#276419\"]], \"sequential\": [[0.0, \"#0d0887\"], [0.1111111111111111, \"#46039f\"], [0.2222222222222222, \"#7201a8\"], [0.3333333333333333, \"#9c179e\"], [0.4444444444444444, \"#bd3786\"], [0.5555555555555556, \"#d8576b\"], [0.6666666666666666, \"#ed7953\"], [0.7777777777777778, \"#fb9f3a\"], [0.8888888888888888, \"#fdca26\"], [1.0, \"#f0f921\"]], \"sequentialminus\": [[0.0, \"#0d0887\"], [0.1111111111111111, \"#46039f\"], [0.2222222222222222, \"#7201a8\"], [0.3333333333333333, \"#9c179e\"], [0.4444444444444444, \"#bd3786\"], [0.5555555555555556, \"#d8576b\"], [0.6666666666666666, \"#ed7953\"], [0.7777777777777778, \"#fb9f3a\"], [0.8888888888888888, \"#fdca26\"], [1.0, \"#f0f921\"]]}, \"colorway\": [\"#636efa\", \"#EF553B\", \"#00cc96\", \"#ab63fa\", \"#FFA15A\", \"#19d3f3\", \"#FF6692\", \"#B6E880\", \"#FF97FF\", \"#FECB52\"], \"font\": {\"color\": \"#2a3f5f\"}, \"geo\": {\"bgcolor\": \"white\", \"lakecolor\": \"white\", \"landcolor\": \"#E5ECF6\", \"showlakes\": true, \"showland\": true, \"subunitcolor\": \"white\"}, \"hoverlabel\": {\"align\": \"left\"}, \"hovermode\": \"closest\", \"mapbox\": {\"style\": \"light\"}, \"paper_bgcolor\": \"white\", \"plot_bgcolor\": \"#E5ECF6\", \"polar\": {\"angularaxis\": {\"gridcolor\": \"white\", \"linecolor\": \"white\", \"ticks\": \"\"}, \"bgcolor\": \"#E5ECF6\", \"radialaxis\": {\"gridcolor\": \"white\", \"linecolor\": \"white\", \"ticks\": \"\"}}, \"scene\": {\"xaxis\": {\"backgroundcolor\": \"#E5ECF6\", \"gridcolor\": \"white\", \"gridwidth\": 2, \"linecolor\": \"white\", \"showbackground\": true, \"ticks\": \"\", \"zerolinecolor\": \"white\"}, \"yaxis\": {\"backgroundcolor\": \"#E5ECF6\", \"gridcolor\": \"white\", \"gridwidth\": 2, \"linecolor\": \"white\", \"showbackground\": true, \"ticks\": \"\", \"zerolinecolor\": \"white\"}, \"zaxis\": {\"backgroundcolor\": \"#E5ECF6\", \"gridcolor\": \"white\", \"gridwidth\": 2, \"linecolor\": \"white\", \"showbackground\": true, \"ticks\": \"\", \"zerolinecolor\": \"white\"}}, \"shapedefaults\": {\"line\": {\"color\": \"#2a3f5f\"}}, \"ternary\": {\"aaxis\": {\"gridcolor\": \"white\", \"linecolor\": \"white\", \"ticks\": \"\"}, \"baxis\": {\"gridcolor\": \"white\", \"linecolor\": \"white\", \"ticks\": \"\"}, \"bgcolor\": \"#E5ECF6\", \"caxis\": {\"gridcolor\": \"white\", \"linecolor\": \"white\", \"ticks\": \"\"}}, \"title\": {\"x\": 0.05}, \"xaxis\": {\"automargin\": true, \"gridcolor\": \"white\", \"linecolor\": \"white\", \"ticks\": \"\", \"title\": {\"standoff\": 15}, \"zerolinecolor\": \"white\", \"zerolinewidth\": 2}, \"yaxis\": {\"automargin\": true, \"gridcolor\": \"white\", \"linecolor\": \"white\", \"ticks\": \"\", \"title\": {\"standoff\": 15}, \"zerolinecolor\": \"white\", \"zerolinewidth\": 2}}}, \"title\": {\"font\": {\"color\": \"#4D5663\"}}, \"xaxis\": {\"gridcolor\": \"#E1E5ED\", \"showgrid\": true, \"tickfont\": {\"color\": \"#4D5663\"}, \"title\": {\"font\": {\"color\": \"#4D5663\"}, \"text\": \"\"}, \"zerolinecolor\": \"#E1E5ED\"}, \"yaxis\": {\"gridcolor\": \"#E1E5ED\", \"showgrid\": true, \"tickfont\": {\"color\": \"#4D5663\"}, \"title\": {\"font\": {\"color\": \"#4D5663\"}, \"text\": \"\"}, \"zerolinecolor\": \"#E1E5ED\"}},\n",
       "                        {\"showLink\": true, \"linkText\": \"Export to plot.ly\", \"plotlyServerURL\": \"https://plot.ly\", \"responsive\": true}\n",
       "                    ).then(function(){\n",
       "                            \n",
       "var gd = document.getElementById('9c7ef4bd-9880-429e-a375-ccf3308a5e1f');\n",
       "var x = new MutationObserver(function (mutations, observer) {{\n",
       "        var display = window.getComputedStyle(gd).display;\n",
       "        if (!display || display === 'none') {{\n",
       "            console.log([gd, 'removed!']);\n",
       "            Plotly.purge(gd);\n",
       "            observer.disconnect();\n",
       "        }}\n",
       "}});\n",
       "\n",
       "// Listen for the removal of the full notebook cells\n",
       "var notebookContainer = gd.closest('#notebook-container');\n",
       "if (notebookContainer) {{\n",
       "    x.observe(notebookContainer, {childList: true});\n",
       "}}\n",
       "\n",
       "// Listen for the clearing of the current output cell\n",
       "var outputEl = gd.closest('.output');\n",
       "if (outputEl) {{\n",
       "    x.observe(outputEl, {childList: true});\n",
       "}}\n",
       "\n",
       "                        })\n",
       "                };\n",
       "                });\n",
       "            </script>\n",
       "        </div>"
      ]
     },
     "metadata": {},
     "output_type": "display_data"
    }
   ],
   "source": [
    "df.iplot(kind='scatter',x='A',y='B',mode='markers')"
   ]
  },
  {
   "cell_type": "code",
   "execution_count": 20,
   "metadata": {},
   "outputs": [
    {
     "data": {
      "application/vnd.plotly.v1+json": {
       "config": {
        "linkText": "Export to plot.ly",
        "plotlyServerURL": "https://plot.ly",
        "showLink": true
       },
       "data": [
        {
         "line": {
          "color": "rgba(255, 153, 51, 1.0)",
          "dash": "solid",
          "shape": "linear",
          "width": 1.3
         },
         "marker": {
          "size": 20,
          "symbol": "circle"
         },
         "mode": "markers",
         "name": "B",
         "text": "",
         "type": "scatter",
         "x": [
          -0.47994138356102345,
          0.16000001454505774,
          1.2996849606416845,
          -0.3459934331228707,
          1.0368948135116955,
          0.07946965327892691,
          0.02947178831828827,
          -0.26772555546117177,
          -2.0314116116032723,
          -0.7776726685287725,
          -0.6632265573499633,
          0.040338171293861545,
          0.03099329497456494,
          1.30667900546974,
          -0.037687242533143366,
          0.73556867266476,
          0.1957228240044999,
          -1.0482986804628374,
          1.0503916976168206,
          0.3384999073480586,
          -0.14838682865663155,
          -1.849858632992489,
          -1.1910865283155898,
          1.5553865160982832,
          0.986449102796202,
          0.07626968937010195,
          -0.7144282219471334,
          -1.95459396507943,
          0.5166017932497404,
          -0.1272350411517917,
          0.3651824330336992,
          0.629568772242452,
          0.2238905949170703,
          -0.4080627997126574,
          0.2459532769412293,
          -1.4375822191198364,
          1.1953127234968812,
          0.20642350123956282,
          -0.6118149783961775,
          -0.3516522754108534,
          0.3864587743634232,
          0.5578874059130349,
          -1.2239437975712937,
          -0.5751253948097974,
          -0.8161879128352467,
          0.728310144983823,
          1.0285518125814623,
          -0.061080867479822096,
          0.5456049906240891,
          1.6757326714528262,
          1.1259534774275948,
          2.1679146833244065,
          0.3627705444531118,
          -0.2007163005561877,
          1.5857603106850822,
          -0.14387374650148002,
          0.6711681353081573,
          -2.077686313631864,
          -0.8339634788937905,
          -1.5147815926076582,
          -0.2426824940955602,
          -0.05900561048931461,
          -0.5015572453005709,
          -1.02382765079118,
          0.6594628547687229,
          -0.23529898779933406,
          0.989301732841858,
          1.0913142676056113,
          0.9047811195866384,
          2.171823959268939,
          0.8660901043897223,
          -1.009123777500051,
          -1.2739552439273125,
          -0.8003558594463309,
          -0.7227937984759449,
          -0.4548814893006097,
          -1.2973334617697536,
          -0.40436366793090245,
          -0.5467723352316892,
          1.3324985767546997,
          -0.3000650152937515,
          -2.4463874579688456,
          0.5366264052442478,
          0.8394154584497169,
          -0.47075436156584355,
          0.46846103114383303,
          1.7485010794299531,
          -1.3189454373300313,
          -0.29883060294564007,
          0.09313380405100766,
          1.2964129012060845,
          1.6132918404264132,
          -0.11654004163312816,
          -0.3113907853250452,
          0.03577164272941658,
          -0.22212739215972332,
          0.19790220317768603,
          0.23463768157652232,
          -0.3274922195966929,
          -0.3594549556767431
         ],
         "y": [
          -0.6750720095040574,
          -0.6236632378538945,
          0.31648115090713874,
          0.006625469958763555,
          1.0701445375157368,
          -1.489988600379836,
          0.7894479972844892,
          0.9173170404148899,
          -0.03236558870315396,
          0.531828866922249,
          0.5886330258336944,
          -1.167976713880715,
          -0.7162100002669591,
          -0.5414831307678194,
          0.7840457615721561,
          -0.46930537859098814,
          -0.7892004007784026,
          0.15190499519329212,
          -0.13488847109679594,
          0.9560305771827087,
          0.9836328201693666,
          1.113069160455684,
          0.3815657149703171,
          1.3561175238140253,
          -1.0417651856920722,
          0.6451841844568005,
          -0.4828578505139144,
          1.5246445699148836,
          0.06537554774633204,
          0.04931160611207707,
          1.9347732812598075,
          -0.8061165056880444,
          1.0744399572724777,
          -0.38326628912131316,
          -1.7407112541746834,
          -1.1789405193606934,
          -1.4075963840229924,
          -0.40096512182303085,
          0.3220761194308544,
          -0.9234853236877474,
          -2.0334595526466446,
          0.7776897486339085,
          -0.9807388724402262,
          0.6367945434202201,
          1.2749049396021885,
          1.5095220335919506,
          -1.0861773553362357,
          0.2928360719752721,
          -1.0635379361026216,
          0.5682472797409951,
          -0.9001092545463106,
          -0.40166002883131624,
          0.15203268993711191,
          0.5507806044416774,
          -0.406142216960143,
          -1.217479641294983,
          0.6917269041894943,
          -0.911829853729197,
          -1.4102896333460009,
          -1.1411785121505986,
          -0.08111764128140288,
          -1.2905700010948244,
          0.15246509174095685,
          0.5514074713986842,
          -0.5748023680027282,
          -0.17533905191623023,
          0.2750882818594264,
          -0.06060424378975698,
          0.48929733464317215,
          -0.8521185592816384,
          0.14843460207767809,
          0.36699416075794683,
          -0.1763066172519723,
          0.6767034425170794,
          -1.0558797509891396,
          -1.2618686077621954,
          -0.7013920682499339,
          -1.1536332965995175,
          -1.0458008683090156,
          -1.1845502086936621,
          -1.6179944848535541,
          0.027753117132022737,
          -0.03597787859543119,
          -0.6109525033400434,
          -0.006659128206266237,
          -1.9053029934010377,
          -0.1979953952563941,
          -1.970715611393755,
          -0.02374897918555784,
          0.014002628836400495,
          0.9021962904211355,
          -0.2186002004460576,
          0.282987591536079,
          -0.4104780901919894,
          -0.29636306422899106,
          -1.0720115422654701,
          1.4663762784345675,
          0.518632479089715,
          0.643572733575315,
          -0.5238831432693754
         ]
        }
       ],
       "layout": {
        "legend": {
         "bgcolor": "#F5F6F9",
         "font": {
          "color": "#4D5663"
         }
        },
        "paper_bgcolor": "#F5F6F9",
        "plot_bgcolor": "#F5F6F9",
        "template": {
         "data": {
          "bar": [
           {
            "error_x": {
             "color": "#2a3f5f"
            },
            "error_y": {
             "color": "#2a3f5f"
            },
            "marker": {
             "line": {
              "color": "#E5ECF6",
              "width": 0.5
             }
            },
            "type": "bar"
           }
          ],
          "barpolar": [
           {
            "marker": {
             "line": {
              "color": "#E5ECF6",
              "width": 0.5
             }
            },
            "type": "barpolar"
           }
          ],
          "carpet": [
           {
            "aaxis": {
             "endlinecolor": "#2a3f5f",
             "gridcolor": "white",
             "linecolor": "white",
             "minorgridcolor": "white",
             "startlinecolor": "#2a3f5f"
            },
            "baxis": {
             "endlinecolor": "#2a3f5f",
             "gridcolor": "white",
             "linecolor": "white",
             "minorgridcolor": "white",
             "startlinecolor": "#2a3f5f"
            },
            "type": "carpet"
           }
          ],
          "choropleth": [
           {
            "colorbar": {
             "outlinewidth": 0,
             "ticks": ""
            },
            "type": "choropleth"
           }
          ],
          "contour": [
           {
            "colorbar": {
             "outlinewidth": 0,
             "ticks": ""
            },
            "colorscale": [
             [
              0,
              "#0d0887"
             ],
             [
              0.1111111111111111,
              "#46039f"
             ],
             [
              0.2222222222222222,
              "#7201a8"
             ],
             [
              0.3333333333333333,
              "#9c179e"
             ],
             [
              0.4444444444444444,
              "#bd3786"
             ],
             [
              0.5555555555555556,
              "#d8576b"
             ],
             [
              0.6666666666666666,
              "#ed7953"
             ],
             [
              0.7777777777777778,
              "#fb9f3a"
             ],
             [
              0.8888888888888888,
              "#fdca26"
             ],
             [
              1,
              "#f0f921"
             ]
            ],
            "type": "contour"
           }
          ],
          "contourcarpet": [
           {
            "colorbar": {
             "outlinewidth": 0,
             "ticks": ""
            },
            "type": "contourcarpet"
           }
          ],
          "heatmap": [
           {
            "colorbar": {
             "outlinewidth": 0,
             "ticks": ""
            },
            "colorscale": [
             [
              0,
              "#0d0887"
             ],
             [
              0.1111111111111111,
              "#46039f"
             ],
             [
              0.2222222222222222,
              "#7201a8"
             ],
             [
              0.3333333333333333,
              "#9c179e"
             ],
             [
              0.4444444444444444,
              "#bd3786"
             ],
             [
              0.5555555555555556,
              "#d8576b"
             ],
             [
              0.6666666666666666,
              "#ed7953"
             ],
             [
              0.7777777777777778,
              "#fb9f3a"
             ],
             [
              0.8888888888888888,
              "#fdca26"
             ],
             [
              1,
              "#f0f921"
             ]
            ],
            "type": "heatmap"
           }
          ],
          "heatmapgl": [
           {
            "colorbar": {
             "outlinewidth": 0,
             "ticks": ""
            },
            "colorscale": [
             [
              0,
              "#0d0887"
             ],
             [
              0.1111111111111111,
              "#46039f"
             ],
             [
              0.2222222222222222,
              "#7201a8"
             ],
             [
              0.3333333333333333,
              "#9c179e"
             ],
             [
              0.4444444444444444,
              "#bd3786"
             ],
             [
              0.5555555555555556,
              "#d8576b"
             ],
             [
              0.6666666666666666,
              "#ed7953"
             ],
             [
              0.7777777777777778,
              "#fb9f3a"
             ],
             [
              0.8888888888888888,
              "#fdca26"
             ],
             [
              1,
              "#f0f921"
             ]
            ],
            "type": "heatmapgl"
           }
          ],
          "histogram": [
           {
            "marker": {
             "colorbar": {
              "outlinewidth": 0,
              "ticks": ""
             }
            },
            "type": "histogram"
           }
          ],
          "histogram2d": [
           {
            "colorbar": {
             "outlinewidth": 0,
             "ticks": ""
            },
            "colorscale": [
             [
              0,
              "#0d0887"
             ],
             [
              0.1111111111111111,
              "#46039f"
             ],
             [
              0.2222222222222222,
              "#7201a8"
             ],
             [
              0.3333333333333333,
              "#9c179e"
             ],
             [
              0.4444444444444444,
              "#bd3786"
             ],
             [
              0.5555555555555556,
              "#d8576b"
             ],
             [
              0.6666666666666666,
              "#ed7953"
             ],
             [
              0.7777777777777778,
              "#fb9f3a"
             ],
             [
              0.8888888888888888,
              "#fdca26"
             ],
             [
              1,
              "#f0f921"
             ]
            ],
            "type": "histogram2d"
           }
          ],
          "histogram2dcontour": [
           {
            "colorbar": {
             "outlinewidth": 0,
             "ticks": ""
            },
            "colorscale": [
             [
              0,
              "#0d0887"
             ],
             [
              0.1111111111111111,
              "#46039f"
             ],
             [
              0.2222222222222222,
              "#7201a8"
             ],
             [
              0.3333333333333333,
              "#9c179e"
             ],
             [
              0.4444444444444444,
              "#bd3786"
             ],
             [
              0.5555555555555556,
              "#d8576b"
             ],
             [
              0.6666666666666666,
              "#ed7953"
             ],
             [
              0.7777777777777778,
              "#fb9f3a"
             ],
             [
              0.8888888888888888,
              "#fdca26"
             ],
             [
              1,
              "#f0f921"
             ]
            ],
            "type": "histogram2dcontour"
           }
          ],
          "mesh3d": [
           {
            "colorbar": {
             "outlinewidth": 0,
             "ticks": ""
            },
            "type": "mesh3d"
           }
          ],
          "parcoords": [
           {
            "line": {
             "colorbar": {
              "outlinewidth": 0,
              "ticks": ""
             }
            },
            "type": "parcoords"
           }
          ],
          "pie": [
           {
            "automargin": true,
            "type": "pie"
           }
          ],
          "scatter": [
           {
            "marker": {
             "colorbar": {
              "outlinewidth": 0,
              "ticks": ""
             }
            },
            "type": "scatter"
           }
          ],
          "scatter3d": [
           {
            "line": {
             "colorbar": {
              "outlinewidth": 0,
              "ticks": ""
             }
            },
            "marker": {
             "colorbar": {
              "outlinewidth": 0,
              "ticks": ""
             }
            },
            "type": "scatter3d"
           }
          ],
          "scattercarpet": [
           {
            "marker": {
             "colorbar": {
              "outlinewidth": 0,
              "ticks": ""
             }
            },
            "type": "scattercarpet"
           }
          ],
          "scattergeo": [
           {
            "marker": {
             "colorbar": {
              "outlinewidth": 0,
              "ticks": ""
             }
            },
            "type": "scattergeo"
           }
          ],
          "scattergl": [
           {
            "marker": {
             "colorbar": {
              "outlinewidth": 0,
              "ticks": ""
             }
            },
            "type": "scattergl"
           }
          ],
          "scattermapbox": [
           {
            "marker": {
             "colorbar": {
              "outlinewidth": 0,
              "ticks": ""
             }
            },
            "type": "scattermapbox"
           }
          ],
          "scatterpolar": [
           {
            "marker": {
             "colorbar": {
              "outlinewidth": 0,
              "ticks": ""
             }
            },
            "type": "scatterpolar"
           }
          ],
          "scatterpolargl": [
           {
            "marker": {
             "colorbar": {
              "outlinewidth": 0,
              "ticks": ""
             }
            },
            "type": "scatterpolargl"
           }
          ],
          "scatterternary": [
           {
            "marker": {
             "colorbar": {
              "outlinewidth": 0,
              "ticks": ""
             }
            },
            "type": "scatterternary"
           }
          ],
          "surface": [
           {
            "colorbar": {
             "outlinewidth": 0,
             "ticks": ""
            },
            "colorscale": [
             [
              0,
              "#0d0887"
             ],
             [
              0.1111111111111111,
              "#46039f"
             ],
             [
              0.2222222222222222,
              "#7201a8"
             ],
             [
              0.3333333333333333,
              "#9c179e"
             ],
             [
              0.4444444444444444,
              "#bd3786"
             ],
             [
              0.5555555555555556,
              "#d8576b"
             ],
             [
              0.6666666666666666,
              "#ed7953"
             ],
             [
              0.7777777777777778,
              "#fb9f3a"
             ],
             [
              0.8888888888888888,
              "#fdca26"
             ],
             [
              1,
              "#f0f921"
             ]
            ],
            "type": "surface"
           }
          ],
          "table": [
           {
            "cells": {
             "fill": {
              "color": "#EBF0F8"
             },
             "line": {
              "color": "white"
             }
            },
            "header": {
             "fill": {
              "color": "#C8D4E3"
             },
             "line": {
              "color": "white"
             }
            },
            "type": "table"
           }
          ]
         },
         "layout": {
          "annotationdefaults": {
           "arrowcolor": "#2a3f5f",
           "arrowhead": 0,
           "arrowwidth": 1
          },
          "coloraxis": {
           "colorbar": {
            "outlinewidth": 0,
            "ticks": ""
           }
          },
          "colorscale": {
           "diverging": [
            [
             0,
             "#8e0152"
            ],
            [
             0.1,
             "#c51b7d"
            ],
            [
             0.2,
             "#de77ae"
            ],
            [
             0.3,
             "#f1b6da"
            ],
            [
             0.4,
             "#fde0ef"
            ],
            [
             0.5,
             "#f7f7f7"
            ],
            [
             0.6,
             "#e6f5d0"
            ],
            [
             0.7,
             "#b8e186"
            ],
            [
             0.8,
             "#7fbc41"
            ],
            [
             0.9,
             "#4d9221"
            ],
            [
             1,
             "#276419"
            ]
           ],
           "sequential": [
            [
             0,
             "#0d0887"
            ],
            [
             0.1111111111111111,
             "#46039f"
            ],
            [
             0.2222222222222222,
             "#7201a8"
            ],
            [
             0.3333333333333333,
             "#9c179e"
            ],
            [
             0.4444444444444444,
             "#bd3786"
            ],
            [
             0.5555555555555556,
             "#d8576b"
            ],
            [
             0.6666666666666666,
             "#ed7953"
            ],
            [
             0.7777777777777778,
             "#fb9f3a"
            ],
            [
             0.8888888888888888,
             "#fdca26"
            ],
            [
             1,
             "#f0f921"
            ]
           ],
           "sequentialminus": [
            [
             0,
             "#0d0887"
            ],
            [
             0.1111111111111111,
             "#46039f"
            ],
            [
             0.2222222222222222,
             "#7201a8"
            ],
            [
             0.3333333333333333,
             "#9c179e"
            ],
            [
             0.4444444444444444,
             "#bd3786"
            ],
            [
             0.5555555555555556,
             "#d8576b"
            ],
            [
             0.6666666666666666,
             "#ed7953"
            ],
            [
             0.7777777777777778,
             "#fb9f3a"
            ],
            [
             0.8888888888888888,
             "#fdca26"
            ],
            [
             1,
             "#f0f921"
            ]
           ]
          },
          "colorway": [
           "#636efa",
           "#EF553B",
           "#00cc96",
           "#ab63fa",
           "#FFA15A",
           "#19d3f3",
           "#FF6692",
           "#B6E880",
           "#FF97FF",
           "#FECB52"
          ],
          "font": {
           "color": "#2a3f5f"
          },
          "geo": {
           "bgcolor": "white",
           "lakecolor": "white",
           "landcolor": "#E5ECF6",
           "showlakes": true,
           "showland": true,
           "subunitcolor": "white"
          },
          "hoverlabel": {
           "align": "left"
          },
          "hovermode": "closest",
          "mapbox": {
           "style": "light"
          },
          "paper_bgcolor": "white",
          "plot_bgcolor": "#E5ECF6",
          "polar": {
           "angularaxis": {
            "gridcolor": "white",
            "linecolor": "white",
            "ticks": ""
           },
           "bgcolor": "#E5ECF6",
           "radialaxis": {
            "gridcolor": "white",
            "linecolor": "white",
            "ticks": ""
           }
          },
          "scene": {
           "xaxis": {
            "backgroundcolor": "#E5ECF6",
            "gridcolor": "white",
            "gridwidth": 2,
            "linecolor": "white",
            "showbackground": true,
            "ticks": "",
            "zerolinecolor": "white"
           },
           "yaxis": {
            "backgroundcolor": "#E5ECF6",
            "gridcolor": "white",
            "gridwidth": 2,
            "linecolor": "white",
            "showbackground": true,
            "ticks": "",
            "zerolinecolor": "white"
           },
           "zaxis": {
            "backgroundcolor": "#E5ECF6",
            "gridcolor": "white",
            "gridwidth": 2,
            "linecolor": "white",
            "showbackground": true,
            "ticks": "",
            "zerolinecolor": "white"
           }
          },
          "shapedefaults": {
           "line": {
            "color": "#2a3f5f"
           }
          },
          "ternary": {
           "aaxis": {
            "gridcolor": "white",
            "linecolor": "white",
            "ticks": ""
           },
           "baxis": {
            "gridcolor": "white",
            "linecolor": "white",
            "ticks": ""
           },
           "bgcolor": "#E5ECF6",
           "caxis": {
            "gridcolor": "white",
            "linecolor": "white",
            "ticks": ""
           }
          },
          "title": {
           "x": 0.05
          },
          "xaxis": {
           "automargin": true,
           "gridcolor": "white",
           "linecolor": "white",
           "ticks": "",
           "title": {
            "standoff": 15
           },
           "zerolinecolor": "white",
           "zerolinewidth": 2
          },
          "yaxis": {
           "automargin": true,
           "gridcolor": "white",
           "linecolor": "white",
           "ticks": "",
           "title": {
            "standoff": 15
           },
           "zerolinecolor": "white",
           "zerolinewidth": 2
          }
         }
        },
        "title": {
         "font": {
          "color": "#4D5663"
         }
        },
        "xaxis": {
         "gridcolor": "#E1E5ED",
         "showgrid": true,
         "tickfont": {
          "color": "#4D5663"
         },
         "title": {
          "font": {
           "color": "#4D5663"
          },
          "text": ""
         },
         "zerolinecolor": "#E1E5ED"
        },
        "yaxis": {
         "gridcolor": "#E1E5ED",
         "showgrid": true,
         "tickfont": {
          "color": "#4D5663"
         },
         "title": {
          "font": {
           "color": "#4D5663"
          },
          "text": ""
         },
         "zerolinecolor": "#E1E5ED"
        }
       }
      },
      "text/html": [
       "<div>\n",
       "        \n",
       "        \n",
       "            <div id=\"de5e8503-139a-4a8d-bf01-c43914438022\" class=\"plotly-graph-div\" style=\"height:525px; width:100%;\"></div>\n",
       "            <script type=\"text/javascript\">\n",
       "                require([\"plotly\"], function(Plotly) {\n",
       "                    window.PLOTLYENV=window.PLOTLYENV || {};\n",
       "                    window.PLOTLYENV.BASE_URL='https://plot.ly';\n",
       "                    \n",
       "                if (document.getElementById(\"de5e8503-139a-4a8d-bf01-c43914438022\")) {\n",
       "                    Plotly.newPlot(\n",
       "                        'de5e8503-139a-4a8d-bf01-c43914438022',\n",
       "                        [{\"line\": {\"color\": \"rgba(255, 153, 51, 1.0)\", \"dash\": \"solid\", \"shape\": \"linear\", \"width\": 1.3}, \"marker\": {\"size\": 20, \"symbol\": \"circle\"}, \"mode\": \"markers\", \"name\": \"B\", \"text\": \"\", \"type\": \"scatter\", \"x\": [-0.47994138356102345, 0.16000001454505774, 1.2996849606416845, -0.3459934331228707, 1.0368948135116955, 0.07946965327892691, 0.02947178831828827, -0.26772555546117177, -2.0314116116032723, -0.7776726685287725, -0.6632265573499633, 0.040338171293861545, 0.03099329497456494, 1.30667900546974, -0.037687242533143366, 0.73556867266476, 0.1957228240044999, -1.0482986804628374, 1.0503916976168206, 0.3384999073480586, -0.14838682865663155, -1.849858632992489, -1.1910865283155898, 1.5553865160982832, 0.986449102796202, 0.07626968937010195, -0.7144282219471334, -1.95459396507943, 0.5166017932497404, -0.1272350411517917, 0.3651824330336992, 0.629568772242452, 0.2238905949170703, -0.4080627997126574, 0.2459532769412293, -1.4375822191198364, 1.1953127234968812, 0.20642350123956282, -0.6118149783961775, -0.3516522754108534, 0.3864587743634232, 0.5578874059130349, -1.2239437975712937, -0.5751253948097974, -0.8161879128352467, 0.728310144983823, 1.0285518125814623, -0.061080867479822096, 0.5456049906240891, 1.6757326714528262, 1.1259534774275948, 2.1679146833244065, 0.3627705444531118, -0.2007163005561877, 1.5857603106850822, -0.14387374650148002, 0.6711681353081573, -2.077686313631864, -0.8339634788937905, -1.5147815926076582, -0.2426824940955602, -0.05900561048931461, -0.5015572453005709, -1.02382765079118, 0.6594628547687229, -0.23529898779933406, 0.989301732841858, 1.0913142676056113, 0.9047811195866384, 2.171823959268939, 0.8660901043897223, -1.009123777500051, -1.2739552439273125, -0.8003558594463309, -0.7227937984759449, -0.4548814893006097, -1.2973334617697536, -0.40436366793090245, -0.5467723352316892, 1.3324985767546997, -0.3000650152937515, -2.4463874579688456, 0.5366264052442478, 0.8394154584497169, -0.47075436156584355, 0.46846103114383303, 1.7485010794299531, -1.3189454373300313, -0.29883060294564007, 0.09313380405100766, 1.2964129012060845, 1.6132918404264132, -0.11654004163312816, -0.3113907853250452, 0.03577164272941658, -0.22212739215972332, 0.19790220317768603, 0.23463768157652232, -0.3274922195966929, -0.3594549556767431], \"y\": [-0.6750720095040574, -0.6236632378538945, 0.31648115090713874, 0.006625469958763555, 1.0701445375157368, -1.489988600379836, 0.7894479972844892, 0.9173170404148899, -0.03236558870315396, 0.531828866922249, 0.5886330258336944, -1.167976713880715, -0.7162100002669591, -0.5414831307678194, 0.7840457615721561, -0.46930537859098814, -0.7892004007784026, 0.15190499519329212, -0.13488847109679594, 0.9560305771827087, 0.9836328201693666, 1.113069160455684, 0.3815657149703171, 1.3561175238140253, -1.0417651856920722, 0.6451841844568005, -0.4828578505139144, 1.5246445699148836, 0.06537554774633204, 0.04931160611207707, 1.9347732812598075, -0.8061165056880444, 1.0744399572724777, -0.38326628912131316, -1.7407112541746834, -1.1789405193606934, -1.4075963840229924, -0.40096512182303085, 0.3220761194308544, -0.9234853236877474, -2.0334595526466446, 0.7776897486339085, -0.9807388724402262, 0.6367945434202201, 1.2749049396021885, 1.5095220335919506, -1.0861773553362357, 0.2928360719752721, -1.0635379361026216, 0.5682472797409951, -0.9001092545463106, -0.40166002883131624, 0.15203268993711191, 0.5507806044416774, -0.406142216960143, -1.217479641294983, 0.6917269041894943, -0.911829853729197, -1.4102896333460009, -1.1411785121505986, -0.08111764128140288, -1.2905700010948244, 0.15246509174095685, 0.5514074713986842, -0.5748023680027282, -0.17533905191623023, 0.2750882818594264, -0.06060424378975698, 0.48929733464317215, -0.8521185592816384, 0.14843460207767809, 0.36699416075794683, -0.1763066172519723, 0.6767034425170794, -1.0558797509891396, -1.2618686077621954, -0.7013920682499339, -1.1536332965995175, -1.0458008683090156, -1.1845502086936621, -1.6179944848535541, 0.027753117132022737, -0.03597787859543119, -0.6109525033400434, -0.006659128206266237, -1.9053029934010377, -0.1979953952563941, -1.970715611393755, -0.02374897918555784, 0.014002628836400495, 0.9021962904211355, -0.2186002004460576, 0.282987591536079, -0.4104780901919894, -0.29636306422899106, -1.0720115422654701, 1.4663762784345675, 0.518632479089715, 0.643572733575315, -0.5238831432693754]}],\n",
       "                        {\"legend\": {\"bgcolor\": \"#F5F6F9\", \"font\": {\"color\": \"#4D5663\"}}, \"paper_bgcolor\": \"#F5F6F9\", \"plot_bgcolor\": \"#F5F6F9\", \"template\": {\"data\": {\"bar\": [{\"error_x\": {\"color\": \"#2a3f5f\"}, \"error_y\": {\"color\": \"#2a3f5f\"}, \"marker\": {\"line\": {\"color\": \"#E5ECF6\", \"width\": 0.5}}, \"type\": \"bar\"}], \"barpolar\": [{\"marker\": {\"line\": {\"color\": \"#E5ECF6\", \"width\": 0.5}}, \"type\": \"barpolar\"}], \"carpet\": [{\"aaxis\": {\"endlinecolor\": \"#2a3f5f\", \"gridcolor\": \"white\", \"linecolor\": \"white\", \"minorgridcolor\": \"white\", \"startlinecolor\": \"#2a3f5f\"}, \"baxis\": {\"endlinecolor\": \"#2a3f5f\", \"gridcolor\": \"white\", \"linecolor\": \"white\", \"minorgridcolor\": \"white\", \"startlinecolor\": \"#2a3f5f\"}, \"type\": \"carpet\"}], \"choropleth\": [{\"colorbar\": {\"outlinewidth\": 0, \"ticks\": \"\"}, \"type\": \"choropleth\"}], \"contour\": [{\"colorbar\": {\"outlinewidth\": 0, \"ticks\": \"\"}, \"colorscale\": [[0.0, \"#0d0887\"], [0.1111111111111111, \"#46039f\"], [0.2222222222222222, \"#7201a8\"], [0.3333333333333333, \"#9c179e\"], [0.4444444444444444, \"#bd3786\"], [0.5555555555555556, \"#d8576b\"], [0.6666666666666666, \"#ed7953\"], [0.7777777777777778, \"#fb9f3a\"], [0.8888888888888888, \"#fdca26\"], [1.0, \"#f0f921\"]], \"type\": \"contour\"}], \"contourcarpet\": [{\"colorbar\": {\"outlinewidth\": 0, \"ticks\": \"\"}, \"type\": \"contourcarpet\"}], \"heatmap\": [{\"colorbar\": {\"outlinewidth\": 0, \"ticks\": \"\"}, \"colorscale\": [[0.0, \"#0d0887\"], [0.1111111111111111, \"#46039f\"], [0.2222222222222222, \"#7201a8\"], [0.3333333333333333, \"#9c179e\"], [0.4444444444444444, \"#bd3786\"], [0.5555555555555556, \"#d8576b\"], [0.6666666666666666, \"#ed7953\"], [0.7777777777777778, \"#fb9f3a\"], [0.8888888888888888, \"#fdca26\"], [1.0, \"#f0f921\"]], \"type\": \"heatmap\"}], \"heatmapgl\": [{\"colorbar\": {\"outlinewidth\": 0, \"ticks\": \"\"}, \"colorscale\": [[0.0, \"#0d0887\"], [0.1111111111111111, \"#46039f\"], [0.2222222222222222, \"#7201a8\"], [0.3333333333333333, \"#9c179e\"], [0.4444444444444444, \"#bd3786\"], [0.5555555555555556, \"#d8576b\"], [0.6666666666666666, \"#ed7953\"], [0.7777777777777778, \"#fb9f3a\"], [0.8888888888888888, \"#fdca26\"], [1.0, \"#f0f921\"]], \"type\": \"heatmapgl\"}], \"histogram\": [{\"marker\": {\"colorbar\": {\"outlinewidth\": 0, \"ticks\": \"\"}}, \"type\": \"histogram\"}], \"histogram2d\": [{\"colorbar\": {\"outlinewidth\": 0, \"ticks\": \"\"}, \"colorscale\": [[0.0, \"#0d0887\"], [0.1111111111111111, \"#46039f\"], [0.2222222222222222, \"#7201a8\"], [0.3333333333333333, \"#9c179e\"], [0.4444444444444444, \"#bd3786\"], [0.5555555555555556, \"#d8576b\"], [0.6666666666666666, \"#ed7953\"], [0.7777777777777778, \"#fb9f3a\"], [0.8888888888888888, \"#fdca26\"], [1.0, \"#f0f921\"]], \"type\": \"histogram2d\"}], \"histogram2dcontour\": [{\"colorbar\": {\"outlinewidth\": 0, \"ticks\": \"\"}, \"colorscale\": [[0.0, \"#0d0887\"], [0.1111111111111111, \"#46039f\"], [0.2222222222222222, \"#7201a8\"], [0.3333333333333333, \"#9c179e\"], [0.4444444444444444, \"#bd3786\"], [0.5555555555555556, \"#d8576b\"], [0.6666666666666666, \"#ed7953\"], [0.7777777777777778, \"#fb9f3a\"], [0.8888888888888888, \"#fdca26\"], [1.0, \"#f0f921\"]], \"type\": \"histogram2dcontour\"}], \"mesh3d\": [{\"colorbar\": {\"outlinewidth\": 0, \"ticks\": \"\"}, \"type\": \"mesh3d\"}], \"parcoords\": [{\"line\": {\"colorbar\": {\"outlinewidth\": 0, \"ticks\": \"\"}}, \"type\": \"parcoords\"}], \"pie\": [{\"automargin\": true, \"type\": \"pie\"}], \"scatter\": [{\"marker\": {\"colorbar\": {\"outlinewidth\": 0, \"ticks\": \"\"}}, \"type\": \"scatter\"}], \"scatter3d\": [{\"line\": {\"colorbar\": {\"outlinewidth\": 0, \"ticks\": \"\"}}, \"marker\": {\"colorbar\": {\"outlinewidth\": 0, \"ticks\": \"\"}}, \"type\": \"scatter3d\"}], \"scattercarpet\": [{\"marker\": {\"colorbar\": {\"outlinewidth\": 0, \"ticks\": \"\"}}, \"type\": \"scattercarpet\"}], \"scattergeo\": [{\"marker\": {\"colorbar\": {\"outlinewidth\": 0, \"ticks\": \"\"}}, \"type\": \"scattergeo\"}], \"scattergl\": [{\"marker\": {\"colorbar\": {\"outlinewidth\": 0, \"ticks\": \"\"}}, \"type\": \"scattergl\"}], \"scattermapbox\": [{\"marker\": {\"colorbar\": {\"outlinewidth\": 0, \"ticks\": \"\"}}, \"type\": \"scattermapbox\"}], \"scatterpolar\": [{\"marker\": {\"colorbar\": {\"outlinewidth\": 0, \"ticks\": \"\"}}, \"type\": \"scatterpolar\"}], \"scatterpolargl\": [{\"marker\": {\"colorbar\": {\"outlinewidth\": 0, \"ticks\": \"\"}}, \"type\": \"scatterpolargl\"}], \"scatterternary\": [{\"marker\": {\"colorbar\": {\"outlinewidth\": 0, \"ticks\": \"\"}}, \"type\": \"scatterternary\"}], \"surface\": [{\"colorbar\": {\"outlinewidth\": 0, \"ticks\": \"\"}, \"colorscale\": [[0.0, \"#0d0887\"], [0.1111111111111111, \"#46039f\"], [0.2222222222222222, \"#7201a8\"], [0.3333333333333333, \"#9c179e\"], [0.4444444444444444, \"#bd3786\"], [0.5555555555555556, \"#d8576b\"], [0.6666666666666666, \"#ed7953\"], [0.7777777777777778, \"#fb9f3a\"], [0.8888888888888888, \"#fdca26\"], [1.0, \"#f0f921\"]], \"type\": \"surface\"}], \"table\": [{\"cells\": {\"fill\": {\"color\": \"#EBF0F8\"}, \"line\": {\"color\": \"white\"}}, \"header\": {\"fill\": {\"color\": \"#C8D4E3\"}, \"line\": {\"color\": \"white\"}}, \"type\": \"table\"}]}, \"layout\": {\"annotationdefaults\": {\"arrowcolor\": \"#2a3f5f\", \"arrowhead\": 0, \"arrowwidth\": 1}, \"coloraxis\": {\"colorbar\": {\"outlinewidth\": 0, \"ticks\": \"\"}}, \"colorscale\": {\"diverging\": [[0, \"#8e0152\"], [0.1, \"#c51b7d\"], [0.2, \"#de77ae\"], [0.3, \"#f1b6da\"], [0.4, \"#fde0ef\"], [0.5, \"#f7f7f7\"], [0.6, \"#e6f5d0\"], [0.7, \"#b8e186\"], [0.8, \"#7fbc41\"], [0.9, \"#4d9221\"], [1, \"#276419\"]], \"sequential\": [[0.0, \"#0d0887\"], [0.1111111111111111, \"#46039f\"], [0.2222222222222222, \"#7201a8\"], [0.3333333333333333, \"#9c179e\"], [0.4444444444444444, \"#bd3786\"], [0.5555555555555556, \"#d8576b\"], [0.6666666666666666, \"#ed7953\"], [0.7777777777777778, \"#fb9f3a\"], [0.8888888888888888, \"#fdca26\"], [1.0, \"#f0f921\"]], \"sequentialminus\": [[0.0, \"#0d0887\"], [0.1111111111111111, \"#46039f\"], [0.2222222222222222, \"#7201a8\"], [0.3333333333333333, \"#9c179e\"], [0.4444444444444444, \"#bd3786\"], [0.5555555555555556, \"#d8576b\"], [0.6666666666666666, \"#ed7953\"], [0.7777777777777778, \"#fb9f3a\"], [0.8888888888888888, \"#fdca26\"], [1.0, \"#f0f921\"]]}, \"colorway\": [\"#636efa\", \"#EF553B\", \"#00cc96\", \"#ab63fa\", \"#FFA15A\", \"#19d3f3\", \"#FF6692\", \"#B6E880\", \"#FF97FF\", \"#FECB52\"], \"font\": {\"color\": \"#2a3f5f\"}, \"geo\": {\"bgcolor\": \"white\", \"lakecolor\": \"white\", \"landcolor\": \"#E5ECF6\", \"showlakes\": true, \"showland\": true, \"subunitcolor\": \"white\"}, \"hoverlabel\": {\"align\": \"left\"}, \"hovermode\": \"closest\", \"mapbox\": {\"style\": \"light\"}, \"paper_bgcolor\": \"white\", \"plot_bgcolor\": \"#E5ECF6\", \"polar\": {\"angularaxis\": {\"gridcolor\": \"white\", \"linecolor\": \"white\", \"ticks\": \"\"}, \"bgcolor\": \"#E5ECF6\", \"radialaxis\": {\"gridcolor\": \"white\", \"linecolor\": \"white\", \"ticks\": \"\"}}, \"scene\": {\"xaxis\": {\"backgroundcolor\": \"#E5ECF6\", \"gridcolor\": \"white\", \"gridwidth\": 2, \"linecolor\": \"white\", \"showbackground\": true, \"ticks\": \"\", \"zerolinecolor\": \"white\"}, \"yaxis\": {\"backgroundcolor\": \"#E5ECF6\", \"gridcolor\": \"white\", \"gridwidth\": 2, \"linecolor\": \"white\", \"showbackground\": true, \"ticks\": \"\", \"zerolinecolor\": \"white\"}, \"zaxis\": {\"backgroundcolor\": \"#E5ECF6\", \"gridcolor\": \"white\", \"gridwidth\": 2, \"linecolor\": \"white\", \"showbackground\": true, \"ticks\": \"\", \"zerolinecolor\": \"white\"}}, \"shapedefaults\": {\"line\": {\"color\": \"#2a3f5f\"}}, \"ternary\": {\"aaxis\": {\"gridcolor\": \"white\", \"linecolor\": \"white\", \"ticks\": \"\"}, \"baxis\": {\"gridcolor\": \"white\", \"linecolor\": \"white\", \"ticks\": \"\"}, \"bgcolor\": \"#E5ECF6\", \"caxis\": {\"gridcolor\": \"white\", \"linecolor\": \"white\", \"ticks\": \"\"}}, \"title\": {\"x\": 0.05}, \"xaxis\": {\"automargin\": true, \"gridcolor\": \"white\", \"linecolor\": \"white\", \"ticks\": \"\", \"title\": {\"standoff\": 15}, \"zerolinecolor\": \"white\", \"zerolinewidth\": 2}, \"yaxis\": {\"automargin\": true, \"gridcolor\": \"white\", \"linecolor\": \"white\", \"ticks\": \"\", \"title\": {\"standoff\": 15}, \"zerolinecolor\": \"white\", \"zerolinewidth\": 2}}}, \"title\": {\"font\": {\"color\": \"#4D5663\"}}, \"xaxis\": {\"gridcolor\": \"#E1E5ED\", \"showgrid\": true, \"tickfont\": {\"color\": \"#4D5663\"}, \"title\": {\"font\": {\"color\": \"#4D5663\"}, \"text\": \"\"}, \"zerolinecolor\": \"#E1E5ED\"}, \"yaxis\": {\"gridcolor\": \"#E1E5ED\", \"showgrid\": true, \"tickfont\": {\"color\": \"#4D5663\"}, \"title\": {\"font\": {\"color\": \"#4D5663\"}, \"text\": \"\"}, \"zerolinecolor\": \"#E1E5ED\"}},\n",
       "                        {\"showLink\": true, \"linkText\": \"Export to plot.ly\", \"plotlyServerURL\": \"https://plot.ly\", \"responsive\": true}\n",
       "                    ).then(function(){\n",
       "                            \n",
       "var gd = document.getElementById('de5e8503-139a-4a8d-bf01-c43914438022');\n",
       "var x = new MutationObserver(function (mutations, observer) {{\n",
       "        var display = window.getComputedStyle(gd).display;\n",
       "        if (!display || display === 'none') {{\n",
       "            console.log([gd, 'removed!']);\n",
       "            Plotly.purge(gd);\n",
       "            observer.disconnect();\n",
       "        }}\n",
       "}});\n",
       "\n",
       "// Listen for the removal of the full notebook cells\n",
       "var notebookContainer = gd.closest('#notebook-container');\n",
       "if (notebookContainer) {{\n",
       "    x.observe(notebookContainer, {childList: true});\n",
       "}}\n",
       "\n",
       "// Listen for the clearing of the current output cell\n",
       "var outputEl = gd.closest('.output');\n",
       "if (outputEl) {{\n",
       "    x.observe(outputEl, {childList: true});\n",
       "}}\n",
       "\n",
       "                        })\n",
       "                };\n",
       "                });\n",
       "            </script>\n",
       "        </div>"
      ]
     },
     "metadata": {},
     "output_type": "display_data"
    }
   ],
   "source": [
    "df.iplot(kind='scatter',x='A',y='B',mode='markers',size=20)"
   ]
  },
  {
   "cell_type": "code",
   "execution_count": 21,
   "metadata": {},
   "outputs": [
    {
     "data": {
      "application/vnd.plotly.v1+json": {
       "config": {
        "linkText": "Export to plot.ly",
        "plotlyServerURL": "https://plot.ly",
        "showLink": true
       },
       "data": [
        {
         "marker": {
          "color": "rgba(255, 153, 51, 0.6)",
          "line": {
           "color": "rgba(255, 153, 51, 1.0)",
           "width": 1
          }
         },
         "name": "Values",
         "orientation": "v",
         "text": "",
         "type": "bar",
         "x": [
          "A",
          "B",
          "C"
         ],
         "y": [
          32,
          43,
          50
         ]
        }
       ],
       "layout": {
        "legend": {
         "bgcolor": "#F5F6F9",
         "font": {
          "color": "#4D5663"
         }
        },
        "paper_bgcolor": "#F5F6F9",
        "plot_bgcolor": "#F5F6F9",
        "template": {
         "data": {
          "bar": [
           {
            "error_x": {
             "color": "#2a3f5f"
            },
            "error_y": {
             "color": "#2a3f5f"
            },
            "marker": {
             "line": {
              "color": "#E5ECF6",
              "width": 0.5
             }
            },
            "type": "bar"
           }
          ],
          "barpolar": [
           {
            "marker": {
             "line": {
              "color": "#E5ECF6",
              "width": 0.5
             }
            },
            "type": "barpolar"
           }
          ],
          "carpet": [
           {
            "aaxis": {
             "endlinecolor": "#2a3f5f",
             "gridcolor": "white",
             "linecolor": "white",
             "minorgridcolor": "white",
             "startlinecolor": "#2a3f5f"
            },
            "baxis": {
             "endlinecolor": "#2a3f5f",
             "gridcolor": "white",
             "linecolor": "white",
             "minorgridcolor": "white",
             "startlinecolor": "#2a3f5f"
            },
            "type": "carpet"
           }
          ],
          "choropleth": [
           {
            "colorbar": {
             "outlinewidth": 0,
             "ticks": ""
            },
            "type": "choropleth"
           }
          ],
          "contour": [
           {
            "colorbar": {
             "outlinewidth": 0,
             "ticks": ""
            },
            "colorscale": [
             [
              0,
              "#0d0887"
             ],
             [
              0.1111111111111111,
              "#46039f"
             ],
             [
              0.2222222222222222,
              "#7201a8"
             ],
             [
              0.3333333333333333,
              "#9c179e"
             ],
             [
              0.4444444444444444,
              "#bd3786"
             ],
             [
              0.5555555555555556,
              "#d8576b"
             ],
             [
              0.6666666666666666,
              "#ed7953"
             ],
             [
              0.7777777777777778,
              "#fb9f3a"
             ],
             [
              0.8888888888888888,
              "#fdca26"
             ],
             [
              1,
              "#f0f921"
             ]
            ],
            "type": "contour"
           }
          ],
          "contourcarpet": [
           {
            "colorbar": {
             "outlinewidth": 0,
             "ticks": ""
            },
            "type": "contourcarpet"
           }
          ],
          "heatmap": [
           {
            "colorbar": {
             "outlinewidth": 0,
             "ticks": ""
            },
            "colorscale": [
             [
              0,
              "#0d0887"
             ],
             [
              0.1111111111111111,
              "#46039f"
             ],
             [
              0.2222222222222222,
              "#7201a8"
             ],
             [
              0.3333333333333333,
              "#9c179e"
             ],
             [
              0.4444444444444444,
              "#bd3786"
             ],
             [
              0.5555555555555556,
              "#d8576b"
             ],
             [
              0.6666666666666666,
              "#ed7953"
             ],
             [
              0.7777777777777778,
              "#fb9f3a"
             ],
             [
              0.8888888888888888,
              "#fdca26"
             ],
             [
              1,
              "#f0f921"
             ]
            ],
            "type": "heatmap"
           }
          ],
          "heatmapgl": [
           {
            "colorbar": {
             "outlinewidth": 0,
             "ticks": ""
            },
            "colorscale": [
             [
              0,
              "#0d0887"
             ],
             [
              0.1111111111111111,
              "#46039f"
             ],
             [
              0.2222222222222222,
              "#7201a8"
             ],
             [
              0.3333333333333333,
              "#9c179e"
             ],
             [
              0.4444444444444444,
              "#bd3786"
             ],
             [
              0.5555555555555556,
              "#d8576b"
             ],
             [
              0.6666666666666666,
              "#ed7953"
             ],
             [
              0.7777777777777778,
              "#fb9f3a"
             ],
             [
              0.8888888888888888,
              "#fdca26"
             ],
             [
              1,
              "#f0f921"
             ]
            ],
            "type": "heatmapgl"
           }
          ],
          "histogram": [
           {
            "marker": {
             "colorbar": {
              "outlinewidth": 0,
              "ticks": ""
             }
            },
            "type": "histogram"
           }
          ],
          "histogram2d": [
           {
            "colorbar": {
             "outlinewidth": 0,
             "ticks": ""
            },
            "colorscale": [
             [
              0,
              "#0d0887"
             ],
             [
              0.1111111111111111,
              "#46039f"
             ],
             [
              0.2222222222222222,
              "#7201a8"
             ],
             [
              0.3333333333333333,
              "#9c179e"
             ],
             [
              0.4444444444444444,
              "#bd3786"
             ],
             [
              0.5555555555555556,
              "#d8576b"
             ],
             [
              0.6666666666666666,
              "#ed7953"
             ],
             [
              0.7777777777777778,
              "#fb9f3a"
             ],
             [
              0.8888888888888888,
              "#fdca26"
             ],
             [
              1,
              "#f0f921"
             ]
            ],
            "type": "histogram2d"
           }
          ],
          "histogram2dcontour": [
           {
            "colorbar": {
             "outlinewidth": 0,
             "ticks": ""
            },
            "colorscale": [
             [
              0,
              "#0d0887"
             ],
             [
              0.1111111111111111,
              "#46039f"
             ],
             [
              0.2222222222222222,
              "#7201a8"
             ],
             [
              0.3333333333333333,
              "#9c179e"
             ],
             [
              0.4444444444444444,
              "#bd3786"
             ],
             [
              0.5555555555555556,
              "#d8576b"
             ],
             [
              0.6666666666666666,
              "#ed7953"
             ],
             [
              0.7777777777777778,
              "#fb9f3a"
             ],
             [
              0.8888888888888888,
              "#fdca26"
             ],
             [
              1,
              "#f0f921"
             ]
            ],
            "type": "histogram2dcontour"
           }
          ],
          "mesh3d": [
           {
            "colorbar": {
             "outlinewidth": 0,
             "ticks": ""
            },
            "type": "mesh3d"
           }
          ],
          "parcoords": [
           {
            "line": {
             "colorbar": {
              "outlinewidth": 0,
              "ticks": ""
             }
            },
            "type": "parcoords"
           }
          ],
          "pie": [
           {
            "automargin": true,
            "type": "pie"
           }
          ],
          "scatter": [
           {
            "marker": {
             "colorbar": {
              "outlinewidth": 0,
              "ticks": ""
             }
            },
            "type": "scatter"
           }
          ],
          "scatter3d": [
           {
            "line": {
             "colorbar": {
              "outlinewidth": 0,
              "ticks": ""
             }
            },
            "marker": {
             "colorbar": {
              "outlinewidth": 0,
              "ticks": ""
             }
            },
            "type": "scatter3d"
           }
          ],
          "scattercarpet": [
           {
            "marker": {
             "colorbar": {
              "outlinewidth": 0,
              "ticks": ""
             }
            },
            "type": "scattercarpet"
           }
          ],
          "scattergeo": [
           {
            "marker": {
             "colorbar": {
              "outlinewidth": 0,
              "ticks": ""
             }
            },
            "type": "scattergeo"
           }
          ],
          "scattergl": [
           {
            "marker": {
             "colorbar": {
              "outlinewidth": 0,
              "ticks": ""
             }
            },
            "type": "scattergl"
           }
          ],
          "scattermapbox": [
           {
            "marker": {
             "colorbar": {
              "outlinewidth": 0,
              "ticks": ""
             }
            },
            "type": "scattermapbox"
           }
          ],
          "scatterpolar": [
           {
            "marker": {
             "colorbar": {
              "outlinewidth": 0,
              "ticks": ""
             }
            },
            "type": "scatterpolar"
           }
          ],
          "scatterpolargl": [
           {
            "marker": {
             "colorbar": {
              "outlinewidth": 0,
              "ticks": ""
             }
            },
            "type": "scatterpolargl"
           }
          ],
          "scatterternary": [
           {
            "marker": {
             "colorbar": {
              "outlinewidth": 0,
              "ticks": ""
             }
            },
            "type": "scatterternary"
           }
          ],
          "surface": [
           {
            "colorbar": {
             "outlinewidth": 0,
             "ticks": ""
            },
            "colorscale": [
             [
              0,
              "#0d0887"
             ],
             [
              0.1111111111111111,
              "#46039f"
             ],
             [
              0.2222222222222222,
              "#7201a8"
             ],
             [
              0.3333333333333333,
              "#9c179e"
             ],
             [
              0.4444444444444444,
              "#bd3786"
             ],
             [
              0.5555555555555556,
              "#d8576b"
             ],
             [
              0.6666666666666666,
              "#ed7953"
             ],
             [
              0.7777777777777778,
              "#fb9f3a"
             ],
             [
              0.8888888888888888,
              "#fdca26"
             ],
             [
              1,
              "#f0f921"
             ]
            ],
            "type": "surface"
           }
          ],
          "table": [
           {
            "cells": {
             "fill": {
              "color": "#EBF0F8"
             },
             "line": {
              "color": "white"
             }
            },
            "header": {
             "fill": {
              "color": "#C8D4E3"
             },
             "line": {
              "color": "white"
             }
            },
            "type": "table"
           }
          ]
         },
         "layout": {
          "annotationdefaults": {
           "arrowcolor": "#2a3f5f",
           "arrowhead": 0,
           "arrowwidth": 1
          },
          "coloraxis": {
           "colorbar": {
            "outlinewidth": 0,
            "ticks": ""
           }
          },
          "colorscale": {
           "diverging": [
            [
             0,
             "#8e0152"
            ],
            [
             0.1,
             "#c51b7d"
            ],
            [
             0.2,
             "#de77ae"
            ],
            [
             0.3,
             "#f1b6da"
            ],
            [
             0.4,
             "#fde0ef"
            ],
            [
             0.5,
             "#f7f7f7"
            ],
            [
             0.6,
             "#e6f5d0"
            ],
            [
             0.7,
             "#b8e186"
            ],
            [
             0.8,
             "#7fbc41"
            ],
            [
             0.9,
             "#4d9221"
            ],
            [
             1,
             "#276419"
            ]
           ],
           "sequential": [
            [
             0,
             "#0d0887"
            ],
            [
             0.1111111111111111,
             "#46039f"
            ],
            [
             0.2222222222222222,
             "#7201a8"
            ],
            [
             0.3333333333333333,
             "#9c179e"
            ],
            [
             0.4444444444444444,
             "#bd3786"
            ],
            [
             0.5555555555555556,
             "#d8576b"
            ],
            [
             0.6666666666666666,
             "#ed7953"
            ],
            [
             0.7777777777777778,
             "#fb9f3a"
            ],
            [
             0.8888888888888888,
             "#fdca26"
            ],
            [
             1,
             "#f0f921"
            ]
           ],
           "sequentialminus": [
            [
             0,
             "#0d0887"
            ],
            [
             0.1111111111111111,
             "#46039f"
            ],
            [
             0.2222222222222222,
             "#7201a8"
            ],
            [
             0.3333333333333333,
             "#9c179e"
            ],
            [
             0.4444444444444444,
             "#bd3786"
            ],
            [
             0.5555555555555556,
             "#d8576b"
            ],
            [
             0.6666666666666666,
             "#ed7953"
            ],
            [
             0.7777777777777778,
             "#fb9f3a"
            ],
            [
             0.8888888888888888,
             "#fdca26"
            ],
            [
             1,
             "#f0f921"
            ]
           ]
          },
          "colorway": [
           "#636efa",
           "#EF553B",
           "#00cc96",
           "#ab63fa",
           "#FFA15A",
           "#19d3f3",
           "#FF6692",
           "#B6E880",
           "#FF97FF",
           "#FECB52"
          ],
          "font": {
           "color": "#2a3f5f"
          },
          "geo": {
           "bgcolor": "white",
           "lakecolor": "white",
           "landcolor": "#E5ECF6",
           "showlakes": true,
           "showland": true,
           "subunitcolor": "white"
          },
          "hoverlabel": {
           "align": "left"
          },
          "hovermode": "closest",
          "mapbox": {
           "style": "light"
          },
          "paper_bgcolor": "white",
          "plot_bgcolor": "#E5ECF6",
          "polar": {
           "angularaxis": {
            "gridcolor": "white",
            "linecolor": "white",
            "ticks": ""
           },
           "bgcolor": "#E5ECF6",
           "radialaxis": {
            "gridcolor": "white",
            "linecolor": "white",
            "ticks": ""
           }
          },
          "scene": {
           "xaxis": {
            "backgroundcolor": "#E5ECF6",
            "gridcolor": "white",
            "gridwidth": 2,
            "linecolor": "white",
            "showbackground": true,
            "ticks": "",
            "zerolinecolor": "white"
           },
           "yaxis": {
            "backgroundcolor": "#E5ECF6",
            "gridcolor": "white",
            "gridwidth": 2,
            "linecolor": "white",
            "showbackground": true,
            "ticks": "",
            "zerolinecolor": "white"
           },
           "zaxis": {
            "backgroundcolor": "#E5ECF6",
            "gridcolor": "white",
            "gridwidth": 2,
            "linecolor": "white",
            "showbackground": true,
            "ticks": "",
            "zerolinecolor": "white"
           }
          },
          "shapedefaults": {
           "line": {
            "color": "#2a3f5f"
           }
          },
          "ternary": {
           "aaxis": {
            "gridcolor": "white",
            "linecolor": "white",
            "ticks": ""
           },
           "baxis": {
            "gridcolor": "white",
            "linecolor": "white",
            "ticks": ""
           },
           "bgcolor": "#E5ECF6",
           "caxis": {
            "gridcolor": "white",
            "linecolor": "white",
            "ticks": ""
           }
          },
          "title": {
           "x": 0.05
          },
          "xaxis": {
           "automargin": true,
           "gridcolor": "white",
           "linecolor": "white",
           "ticks": "",
           "title": {
            "standoff": 15
           },
           "zerolinecolor": "white",
           "zerolinewidth": 2
          },
          "yaxis": {
           "automargin": true,
           "gridcolor": "white",
           "linecolor": "white",
           "ticks": "",
           "title": {
            "standoff": 15
           },
           "zerolinecolor": "white",
           "zerolinewidth": 2
          }
         }
        },
        "title": {
         "font": {
          "color": "#4D5663"
         }
        },
        "xaxis": {
         "gridcolor": "#E1E5ED",
         "showgrid": true,
         "tickfont": {
          "color": "#4D5663"
         },
         "title": {
          "font": {
           "color": "#4D5663"
          },
          "text": ""
         },
         "zerolinecolor": "#E1E5ED"
        },
        "yaxis": {
         "gridcolor": "#E1E5ED",
         "showgrid": true,
         "tickfont": {
          "color": "#4D5663"
         },
         "title": {
          "font": {
           "color": "#4D5663"
          },
          "text": ""
         },
         "zerolinecolor": "#E1E5ED"
        }
       }
      },
      "text/html": [
       "<div>\n",
       "        \n",
       "        \n",
       "            <div id=\"48330c23-6451-4359-9825-717c65a23f9a\" class=\"plotly-graph-div\" style=\"height:525px; width:100%;\"></div>\n",
       "            <script type=\"text/javascript\">\n",
       "                require([\"plotly\"], function(Plotly) {\n",
       "                    window.PLOTLYENV=window.PLOTLYENV || {};\n",
       "                    window.PLOTLYENV.BASE_URL='https://plot.ly';\n",
       "                    \n",
       "                if (document.getElementById(\"48330c23-6451-4359-9825-717c65a23f9a\")) {\n",
       "                    Plotly.newPlot(\n",
       "                        '48330c23-6451-4359-9825-717c65a23f9a',\n",
       "                        [{\"marker\": {\"color\": \"rgba(255, 153, 51, 0.6)\", \"line\": {\"color\": \"rgba(255, 153, 51, 1.0)\", \"width\": 1}}, \"name\": \"Values\", \"orientation\": \"v\", \"text\": \"\", \"type\": \"bar\", \"x\": [\"A\", \"B\", \"C\"], \"y\": [32, 43, 50]}],\n",
       "                        {\"legend\": {\"bgcolor\": \"#F5F6F9\", \"font\": {\"color\": \"#4D5663\"}}, \"paper_bgcolor\": \"#F5F6F9\", \"plot_bgcolor\": \"#F5F6F9\", \"template\": {\"data\": {\"bar\": [{\"error_x\": {\"color\": \"#2a3f5f\"}, \"error_y\": {\"color\": \"#2a3f5f\"}, \"marker\": {\"line\": {\"color\": \"#E5ECF6\", \"width\": 0.5}}, \"type\": \"bar\"}], \"barpolar\": [{\"marker\": {\"line\": {\"color\": \"#E5ECF6\", \"width\": 0.5}}, \"type\": \"barpolar\"}], \"carpet\": [{\"aaxis\": {\"endlinecolor\": \"#2a3f5f\", \"gridcolor\": \"white\", \"linecolor\": \"white\", \"minorgridcolor\": \"white\", \"startlinecolor\": \"#2a3f5f\"}, \"baxis\": {\"endlinecolor\": \"#2a3f5f\", \"gridcolor\": \"white\", \"linecolor\": \"white\", \"minorgridcolor\": \"white\", \"startlinecolor\": \"#2a3f5f\"}, \"type\": \"carpet\"}], \"choropleth\": [{\"colorbar\": {\"outlinewidth\": 0, \"ticks\": \"\"}, \"type\": \"choropleth\"}], \"contour\": [{\"colorbar\": {\"outlinewidth\": 0, \"ticks\": \"\"}, \"colorscale\": [[0.0, \"#0d0887\"], [0.1111111111111111, \"#46039f\"], [0.2222222222222222, \"#7201a8\"], [0.3333333333333333, \"#9c179e\"], [0.4444444444444444, \"#bd3786\"], [0.5555555555555556, \"#d8576b\"], [0.6666666666666666, \"#ed7953\"], [0.7777777777777778, \"#fb9f3a\"], [0.8888888888888888, \"#fdca26\"], [1.0, \"#f0f921\"]], \"type\": \"contour\"}], \"contourcarpet\": [{\"colorbar\": {\"outlinewidth\": 0, \"ticks\": \"\"}, \"type\": \"contourcarpet\"}], \"heatmap\": [{\"colorbar\": {\"outlinewidth\": 0, \"ticks\": \"\"}, \"colorscale\": [[0.0, \"#0d0887\"], [0.1111111111111111, \"#46039f\"], [0.2222222222222222, \"#7201a8\"], [0.3333333333333333, \"#9c179e\"], [0.4444444444444444, \"#bd3786\"], [0.5555555555555556, \"#d8576b\"], [0.6666666666666666, \"#ed7953\"], [0.7777777777777778, \"#fb9f3a\"], [0.8888888888888888, \"#fdca26\"], [1.0, \"#f0f921\"]], \"type\": \"heatmap\"}], \"heatmapgl\": [{\"colorbar\": {\"outlinewidth\": 0, \"ticks\": \"\"}, \"colorscale\": [[0.0, \"#0d0887\"], [0.1111111111111111, \"#46039f\"], [0.2222222222222222, \"#7201a8\"], [0.3333333333333333, \"#9c179e\"], [0.4444444444444444, \"#bd3786\"], [0.5555555555555556, \"#d8576b\"], [0.6666666666666666, \"#ed7953\"], [0.7777777777777778, \"#fb9f3a\"], [0.8888888888888888, \"#fdca26\"], [1.0, \"#f0f921\"]], \"type\": \"heatmapgl\"}], \"histogram\": [{\"marker\": {\"colorbar\": {\"outlinewidth\": 0, \"ticks\": \"\"}}, \"type\": \"histogram\"}], \"histogram2d\": [{\"colorbar\": {\"outlinewidth\": 0, \"ticks\": \"\"}, \"colorscale\": [[0.0, \"#0d0887\"], [0.1111111111111111, \"#46039f\"], [0.2222222222222222, \"#7201a8\"], [0.3333333333333333, \"#9c179e\"], [0.4444444444444444, \"#bd3786\"], [0.5555555555555556, \"#d8576b\"], [0.6666666666666666, \"#ed7953\"], [0.7777777777777778, \"#fb9f3a\"], [0.8888888888888888, \"#fdca26\"], [1.0, \"#f0f921\"]], \"type\": \"histogram2d\"}], \"histogram2dcontour\": [{\"colorbar\": {\"outlinewidth\": 0, \"ticks\": \"\"}, \"colorscale\": [[0.0, \"#0d0887\"], [0.1111111111111111, \"#46039f\"], [0.2222222222222222, \"#7201a8\"], [0.3333333333333333, \"#9c179e\"], [0.4444444444444444, \"#bd3786\"], [0.5555555555555556, \"#d8576b\"], [0.6666666666666666, \"#ed7953\"], [0.7777777777777778, \"#fb9f3a\"], [0.8888888888888888, \"#fdca26\"], [1.0, \"#f0f921\"]], \"type\": \"histogram2dcontour\"}], \"mesh3d\": [{\"colorbar\": {\"outlinewidth\": 0, \"ticks\": \"\"}, \"type\": \"mesh3d\"}], \"parcoords\": [{\"line\": {\"colorbar\": {\"outlinewidth\": 0, \"ticks\": \"\"}}, \"type\": \"parcoords\"}], \"pie\": [{\"automargin\": true, \"type\": \"pie\"}], \"scatter\": [{\"marker\": {\"colorbar\": {\"outlinewidth\": 0, \"ticks\": \"\"}}, \"type\": \"scatter\"}], \"scatter3d\": [{\"line\": {\"colorbar\": {\"outlinewidth\": 0, \"ticks\": \"\"}}, \"marker\": {\"colorbar\": {\"outlinewidth\": 0, \"ticks\": \"\"}}, \"type\": \"scatter3d\"}], \"scattercarpet\": [{\"marker\": {\"colorbar\": {\"outlinewidth\": 0, \"ticks\": \"\"}}, \"type\": \"scattercarpet\"}], \"scattergeo\": [{\"marker\": {\"colorbar\": {\"outlinewidth\": 0, \"ticks\": \"\"}}, \"type\": \"scattergeo\"}], \"scattergl\": [{\"marker\": {\"colorbar\": {\"outlinewidth\": 0, \"ticks\": \"\"}}, \"type\": \"scattergl\"}], \"scattermapbox\": [{\"marker\": {\"colorbar\": {\"outlinewidth\": 0, \"ticks\": \"\"}}, \"type\": \"scattermapbox\"}], \"scatterpolar\": [{\"marker\": {\"colorbar\": {\"outlinewidth\": 0, \"ticks\": \"\"}}, \"type\": \"scatterpolar\"}], \"scatterpolargl\": [{\"marker\": {\"colorbar\": {\"outlinewidth\": 0, \"ticks\": \"\"}}, \"type\": \"scatterpolargl\"}], \"scatterternary\": [{\"marker\": {\"colorbar\": {\"outlinewidth\": 0, \"ticks\": \"\"}}, \"type\": \"scatterternary\"}], \"surface\": [{\"colorbar\": {\"outlinewidth\": 0, \"ticks\": \"\"}, \"colorscale\": [[0.0, \"#0d0887\"], [0.1111111111111111, \"#46039f\"], [0.2222222222222222, \"#7201a8\"], [0.3333333333333333, \"#9c179e\"], [0.4444444444444444, \"#bd3786\"], [0.5555555555555556, \"#d8576b\"], [0.6666666666666666, \"#ed7953\"], [0.7777777777777778, \"#fb9f3a\"], [0.8888888888888888, \"#fdca26\"], [1.0, \"#f0f921\"]], \"type\": \"surface\"}], \"table\": [{\"cells\": {\"fill\": {\"color\": \"#EBF0F8\"}, \"line\": {\"color\": \"white\"}}, \"header\": {\"fill\": {\"color\": \"#C8D4E3\"}, \"line\": {\"color\": \"white\"}}, \"type\": \"table\"}]}, \"layout\": {\"annotationdefaults\": {\"arrowcolor\": \"#2a3f5f\", \"arrowhead\": 0, \"arrowwidth\": 1}, \"coloraxis\": {\"colorbar\": {\"outlinewidth\": 0, \"ticks\": \"\"}}, \"colorscale\": {\"diverging\": [[0, \"#8e0152\"], [0.1, \"#c51b7d\"], [0.2, \"#de77ae\"], [0.3, \"#f1b6da\"], [0.4, \"#fde0ef\"], [0.5, \"#f7f7f7\"], [0.6, \"#e6f5d0\"], [0.7, \"#b8e186\"], [0.8, \"#7fbc41\"], [0.9, \"#4d9221\"], [1, \"#276419\"]], \"sequential\": [[0.0, \"#0d0887\"], [0.1111111111111111, \"#46039f\"], [0.2222222222222222, \"#7201a8\"], [0.3333333333333333, \"#9c179e\"], [0.4444444444444444, \"#bd3786\"], [0.5555555555555556, \"#d8576b\"], [0.6666666666666666, \"#ed7953\"], [0.7777777777777778, \"#fb9f3a\"], [0.8888888888888888, \"#fdca26\"], [1.0, \"#f0f921\"]], \"sequentialminus\": [[0.0, \"#0d0887\"], [0.1111111111111111, \"#46039f\"], [0.2222222222222222, \"#7201a8\"], [0.3333333333333333, \"#9c179e\"], [0.4444444444444444, \"#bd3786\"], [0.5555555555555556, \"#d8576b\"], [0.6666666666666666, \"#ed7953\"], [0.7777777777777778, \"#fb9f3a\"], [0.8888888888888888, \"#fdca26\"], [1.0, \"#f0f921\"]]}, \"colorway\": [\"#636efa\", \"#EF553B\", \"#00cc96\", \"#ab63fa\", \"#FFA15A\", \"#19d3f3\", \"#FF6692\", \"#B6E880\", \"#FF97FF\", \"#FECB52\"], \"font\": {\"color\": \"#2a3f5f\"}, \"geo\": {\"bgcolor\": \"white\", \"lakecolor\": \"white\", \"landcolor\": \"#E5ECF6\", \"showlakes\": true, \"showland\": true, \"subunitcolor\": \"white\"}, \"hoverlabel\": {\"align\": \"left\"}, \"hovermode\": \"closest\", \"mapbox\": {\"style\": \"light\"}, \"paper_bgcolor\": \"white\", \"plot_bgcolor\": \"#E5ECF6\", \"polar\": {\"angularaxis\": {\"gridcolor\": \"white\", \"linecolor\": \"white\", \"ticks\": \"\"}, \"bgcolor\": \"#E5ECF6\", \"radialaxis\": {\"gridcolor\": \"white\", \"linecolor\": \"white\", \"ticks\": \"\"}}, \"scene\": {\"xaxis\": {\"backgroundcolor\": \"#E5ECF6\", \"gridcolor\": \"white\", \"gridwidth\": 2, \"linecolor\": \"white\", \"showbackground\": true, \"ticks\": \"\", \"zerolinecolor\": \"white\"}, \"yaxis\": {\"backgroundcolor\": \"#E5ECF6\", \"gridcolor\": \"white\", \"gridwidth\": 2, \"linecolor\": \"white\", \"showbackground\": true, \"ticks\": \"\", \"zerolinecolor\": \"white\"}, \"zaxis\": {\"backgroundcolor\": \"#E5ECF6\", \"gridcolor\": \"white\", \"gridwidth\": 2, \"linecolor\": \"white\", \"showbackground\": true, \"ticks\": \"\", \"zerolinecolor\": \"white\"}}, \"shapedefaults\": {\"line\": {\"color\": \"#2a3f5f\"}}, \"ternary\": {\"aaxis\": {\"gridcolor\": \"white\", \"linecolor\": \"white\", \"ticks\": \"\"}, \"baxis\": {\"gridcolor\": \"white\", \"linecolor\": \"white\", \"ticks\": \"\"}, \"bgcolor\": \"#E5ECF6\", \"caxis\": {\"gridcolor\": \"white\", \"linecolor\": \"white\", \"ticks\": \"\"}}, \"title\": {\"x\": 0.05}, \"xaxis\": {\"automargin\": true, \"gridcolor\": \"white\", \"linecolor\": \"white\", \"ticks\": \"\", \"title\": {\"standoff\": 15}, \"zerolinecolor\": \"white\", \"zerolinewidth\": 2}, \"yaxis\": {\"automargin\": true, \"gridcolor\": \"white\", \"linecolor\": \"white\", \"ticks\": \"\", \"title\": {\"standoff\": 15}, \"zerolinecolor\": \"white\", \"zerolinewidth\": 2}}}, \"title\": {\"font\": {\"color\": \"#4D5663\"}}, \"xaxis\": {\"gridcolor\": \"#E1E5ED\", \"showgrid\": true, \"tickfont\": {\"color\": \"#4D5663\"}, \"title\": {\"font\": {\"color\": \"#4D5663\"}, \"text\": \"\"}, \"zerolinecolor\": \"#E1E5ED\"}, \"yaxis\": {\"gridcolor\": \"#E1E5ED\", \"showgrid\": true, \"tickfont\": {\"color\": \"#4D5663\"}, \"title\": {\"font\": {\"color\": \"#4D5663\"}, \"text\": \"\"}, \"zerolinecolor\": \"#E1E5ED\"}},\n",
       "                        {\"showLink\": true, \"linkText\": \"Export to plot.ly\", \"plotlyServerURL\": \"https://plot.ly\", \"responsive\": true}\n",
       "                    ).then(function(){\n",
       "                            \n",
       "var gd = document.getElementById('48330c23-6451-4359-9825-717c65a23f9a');\n",
       "var x = new MutationObserver(function (mutations, observer) {{\n",
       "        var display = window.getComputedStyle(gd).display;\n",
       "        if (!display || display === 'none') {{\n",
       "            console.log([gd, 'removed!']);\n",
       "            Plotly.purge(gd);\n",
       "            observer.disconnect();\n",
       "        }}\n",
       "}});\n",
       "\n",
       "// Listen for the removal of the full notebook cells\n",
       "var notebookContainer = gd.closest('#notebook-container');\n",
       "if (notebookContainer) {{\n",
       "    x.observe(notebookContainer, {childList: true});\n",
       "}}\n",
       "\n",
       "// Listen for the clearing of the current output cell\n",
       "var outputEl = gd.closest('.output');\n",
       "if (outputEl) {{\n",
       "    x.observe(outputEl, {childList: true});\n",
       "}}\n",
       "\n",
       "                        })\n",
       "                };\n",
       "                });\n",
       "            </script>\n",
       "        </div>"
      ]
     },
     "metadata": {},
     "output_type": "display_data"
    }
   ],
   "source": [
    "df2.iplot(kind='bar',x='Category',y='Values')"
   ]
  },
  {
   "cell_type": "code",
   "execution_count": 22,
   "metadata": {},
   "outputs": [
    {
     "data": {
      "application/vnd.plotly.v1+json": {
       "config": {
        "linkText": "Export to plot.ly",
        "plotlyServerURL": "https://plot.ly",
        "showLink": true
       },
       "data": [
        {
         "marker": {
          "color": "rgba(255, 153, 51, 0.6)",
          "line": {
           "color": "rgba(255, 153, 51, 1.0)",
           "width": 1
          }
         },
         "name": "A",
         "orientation": "v",
         "text": "",
         "type": "bar",
         "x": [
          0,
          1,
          2,
          3,
          4,
          5,
          6,
          7,
          8,
          9,
          10,
          11,
          12,
          13,
          14,
          15,
          16,
          17,
          18,
          19,
          20,
          21,
          22,
          23,
          24,
          25,
          26,
          27,
          28,
          29,
          30,
          31,
          32,
          33,
          34,
          35,
          36,
          37,
          38,
          39,
          40,
          41,
          42,
          43,
          44,
          45,
          46,
          47,
          48,
          49,
          50,
          51,
          52,
          53,
          54,
          55,
          56,
          57,
          58,
          59,
          60,
          61,
          62,
          63,
          64,
          65,
          66,
          67,
          68,
          69,
          70,
          71,
          72,
          73,
          74,
          75,
          76,
          77,
          78,
          79,
          80,
          81,
          82,
          83,
          84,
          85,
          86,
          87,
          88,
          89,
          90,
          91,
          92,
          93,
          94,
          95,
          96,
          97,
          98,
          99
         ],
         "y": [
          -0.47994138356102345,
          0.16000001454505774,
          1.2996849606416845,
          -0.3459934331228707,
          1.0368948135116955,
          0.07946965327892691,
          0.02947178831828827,
          -0.26772555546117177,
          -2.0314116116032723,
          -0.7776726685287725,
          -0.6632265573499633,
          0.040338171293861545,
          0.03099329497456494,
          1.30667900546974,
          -0.037687242533143366,
          0.73556867266476,
          0.1957228240044999,
          -1.0482986804628374,
          1.0503916976168206,
          0.3384999073480586,
          -0.14838682865663155,
          -1.849858632992489,
          -1.1910865283155898,
          1.5553865160982832,
          0.986449102796202,
          0.07626968937010195,
          -0.7144282219471334,
          -1.95459396507943,
          0.5166017932497404,
          -0.1272350411517917,
          0.3651824330336992,
          0.629568772242452,
          0.2238905949170703,
          -0.4080627997126574,
          0.2459532769412293,
          -1.4375822191198364,
          1.1953127234968812,
          0.20642350123956282,
          -0.6118149783961775,
          -0.3516522754108534,
          0.3864587743634232,
          0.5578874059130349,
          -1.2239437975712937,
          -0.5751253948097974,
          -0.8161879128352467,
          0.728310144983823,
          1.0285518125814623,
          -0.061080867479822096,
          0.5456049906240891,
          1.6757326714528262,
          1.1259534774275948,
          2.1679146833244065,
          0.3627705444531118,
          -0.2007163005561877,
          1.5857603106850822,
          -0.14387374650148002,
          0.6711681353081573,
          -2.077686313631864,
          -0.8339634788937905,
          -1.5147815926076582,
          -0.2426824940955602,
          -0.05900561048931461,
          -0.5015572453005709,
          -1.02382765079118,
          0.6594628547687229,
          -0.23529898779933406,
          0.989301732841858,
          1.0913142676056113,
          0.9047811195866384,
          2.171823959268939,
          0.8660901043897223,
          -1.009123777500051,
          -1.2739552439273125,
          -0.8003558594463309,
          -0.7227937984759449,
          -0.4548814893006097,
          -1.2973334617697536,
          -0.40436366793090245,
          -0.5467723352316892,
          1.3324985767546997,
          -0.3000650152937515,
          -2.4463874579688456,
          0.5366264052442478,
          0.8394154584497169,
          -0.47075436156584355,
          0.46846103114383303,
          1.7485010794299531,
          -1.3189454373300313,
          -0.29883060294564007,
          0.09313380405100766,
          1.2964129012060845,
          1.6132918404264132,
          -0.11654004163312816,
          -0.3113907853250452,
          0.03577164272941658,
          -0.22212739215972332,
          0.19790220317768603,
          0.23463768157652232,
          -0.3274922195966929,
          -0.3594549556767431
         ]
        },
        {
         "marker": {
          "color": "rgba(55, 128, 191, 0.6)",
          "line": {
           "color": "rgba(55, 128, 191, 1.0)",
           "width": 1
          }
         },
         "name": "B",
         "orientation": "v",
         "text": "",
         "type": "bar",
         "x": [
          0,
          1,
          2,
          3,
          4,
          5,
          6,
          7,
          8,
          9,
          10,
          11,
          12,
          13,
          14,
          15,
          16,
          17,
          18,
          19,
          20,
          21,
          22,
          23,
          24,
          25,
          26,
          27,
          28,
          29,
          30,
          31,
          32,
          33,
          34,
          35,
          36,
          37,
          38,
          39,
          40,
          41,
          42,
          43,
          44,
          45,
          46,
          47,
          48,
          49,
          50,
          51,
          52,
          53,
          54,
          55,
          56,
          57,
          58,
          59,
          60,
          61,
          62,
          63,
          64,
          65,
          66,
          67,
          68,
          69,
          70,
          71,
          72,
          73,
          74,
          75,
          76,
          77,
          78,
          79,
          80,
          81,
          82,
          83,
          84,
          85,
          86,
          87,
          88,
          89,
          90,
          91,
          92,
          93,
          94,
          95,
          96,
          97,
          98,
          99
         ],
         "y": [
          -0.6750720095040574,
          -0.6236632378538945,
          0.31648115090713874,
          0.006625469958763555,
          1.0701445375157368,
          -1.489988600379836,
          0.7894479972844892,
          0.9173170404148899,
          -0.03236558870315396,
          0.531828866922249,
          0.5886330258336944,
          -1.167976713880715,
          -0.7162100002669591,
          -0.5414831307678194,
          0.7840457615721561,
          -0.46930537859098814,
          -0.7892004007784026,
          0.15190499519329212,
          -0.13488847109679594,
          0.9560305771827087,
          0.9836328201693666,
          1.113069160455684,
          0.3815657149703171,
          1.3561175238140253,
          -1.0417651856920722,
          0.6451841844568005,
          -0.4828578505139144,
          1.5246445699148836,
          0.06537554774633204,
          0.04931160611207707,
          1.9347732812598075,
          -0.8061165056880444,
          1.0744399572724777,
          -0.38326628912131316,
          -1.7407112541746834,
          -1.1789405193606934,
          -1.4075963840229924,
          -0.40096512182303085,
          0.3220761194308544,
          -0.9234853236877474,
          -2.0334595526466446,
          0.7776897486339085,
          -0.9807388724402262,
          0.6367945434202201,
          1.2749049396021885,
          1.5095220335919506,
          -1.0861773553362357,
          0.2928360719752721,
          -1.0635379361026216,
          0.5682472797409951,
          -0.9001092545463106,
          -0.40166002883131624,
          0.15203268993711191,
          0.5507806044416774,
          -0.406142216960143,
          -1.217479641294983,
          0.6917269041894943,
          -0.911829853729197,
          -1.4102896333460009,
          -1.1411785121505986,
          -0.08111764128140288,
          -1.2905700010948244,
          0.15246509174095685,
          0.5514074713986842,
          -0.5748023680027282,
          -0.17533905191623023,
          0.2750882818594264,
          -0.06060424378975698,
          0.48929733464317215,
          -0.8521185592816384,
          0.14843460207767809,
          0.36699416075794683,
          -0.1763066172519723,
          0.6767034425170794,
          -1.0558797509891396,
          -1.2618686077621954,
          -0.7013920682499339,
          -1.1536332965995175,
          -1.0458008683090156,
          -1.1845502086936621,
          -1.6179944848535541,
          0.027753117132022737,
          -0.03597787859543119,
          -0.6109525033400434,
          -0.006659128206266237,
          -1.9053029934010377,
          -0.1979953952563941,
          -1.970715611393755,
          -0.02374897918555784,
          0.014002628836400495,
          0.9021962904211355,
          -0.2186002004460576,
          0.282987591536079,
          -0.4104780901919894,
          -0.29636306422899106,
          -1.0720115422654701,
          1.4663762784345675,
          0.518632479089715,
          0.643572733575315,
          -0.5238831432693754
         ]
        },
        {
         "marker": {
          "color": "rgba(50, 171, 96, 0.6)",
          "line": {
           "color": "rgba(50, 171, 96, 1.0)",
           "width": 1
          }
         },
         "name": "C",
         "orientation": "v",
         "text": "",
         "type": "bar",
         "x": [
          0,
          1,
          2,
          3,
          4,
          5,
          6,
          7,
          8,
          9,
          10,
          11,
          12,
          13,
          14,
          15,
          16,
          17,
          18,
          19,
          20,
          21,
          22,
          23,
          24,
          25,
          26,
          27,
          28,
          29,
          30,
          31,
          32,
          33,
          34,
          35,
          36,
          37,
          38,
          39,
          40,
          41,
          42,
          43,
          44,
          45,
          46,
          47,
          48,
          49,
          50,
          51,
          52,
          53,
          54,
          55,
          56,
          57,
          58,
          59,
          60,
          61,
          62,
          63,
          64,
          65,
          66,
          67,
          68,
          69,
          70,
          71,
          72,
          73,
          74,
          75,
          76,
          77,
          78,
          79,
          80,
          81,
          82,
          83,
          84,
          85,
          86,
          87,
          88,
          89,
          90,
          91,
          92,
          93,
          94,
          95,
          96,
          97,
          98,
          99
         ],
         "y": [
          -0.5197271978581905,
          -0.35702079986068197,
          -0.6751074162834202,
          -0.8290603698439113,
          -1.7620567856664684,
          0.22579158270393165,
          0.00808063258413915,
          -0.6891205740873824,
          1.3805447654586755,
          -0.05653607792480402,
          -1.5578460253123274,
          -1.423940701684458,
          -1.2987087258472758,
          0.6434196202513819,
          -0.06084163519495708,
          -0.3596184597698029,
          -0.1600839748573193,
          0.4351329108949361,
          -0.037248400408046785,
          -0.2963151081901758,
          0.1450065608648587,
          1.1920904328243296,
          0.21667688869310794,
          0.6949961722611162,
          0.9847769996892395,
          -0.0056276016213413355,
          0.5004276282933069,
          0.9065596468268876,
          0.3913797397178053,
          0.5194628533956177,
          0.20180903715178042,
          -0.37102518269253304,
          1.007985221807975,
          1.2693324558378918,
          1.8427949296226573,
          0.5288485335232646,
          -0.6862959392121788,
          1.4338661951430534,
          0.006824530293811063,
          -0.23133092335789665,
          -1.5418740730564444,
          0.8628701890453,
          -0.6483764997573348,
          -1.6029664806541335,
          -0.7940380352821212,
          -1.8951476576766457,
          -0.40041956603237083,
          0.2964911317848158,
          1.5899392607667207,
          0.4312931244279361,
          -1.8737143112380912,
          0.15598014843187272,
          -0.8561011752865471,
          1.205915463923441,
          0.08531616891935535,
          -0.2849719587160101,
          -0.49992372301677185,
          -0.1977389254022585,
          0.9672487407550542,
          -2.1007611967290454,
          2.5758556907585763,
          -1.3544767038489602,
          -0.5482520679537566,
          -0.14250855825853886,
          -0.31395089348855637,
          0.22273658215192293,
          1.6444651798928556,
          -0.1645639143914819,
          -0.4281820820795921,
          -0.44045908292905706,
          1.8124573636463697,
          -2.0269863208849563,
          0.1160077533479532,
          2.0653426029572985,
          -0.5089496389521247,
          -0.12134215070011177,
          0.5399005604153339,
          0.722808318590877,
          0.8803784655030259,
          -1.2061397944554992,
          0.3970338332193433,
          -1.0746922682004565,
          0.4206950439615749,
          -1.4792823364969105,
          -0.5587369720014077,
          -0.15698538565975714,
          -0.8612772787041048,
          0.20900126254664594,
          -0.28515872294607314,
          0.0036611009568451856,
          0.5538991408164484,
          2.926243867371199,
          0.7796294023213519,
          -1.3660970894954452,
          0.25571122605780455,
          -0.7818561652897893,
          -1.235332988189121,
          1.4674049373740403,
          0.25507104998325436,
          0.44431307217121674
         ]
        },
        {
         "marker": {
          "color": "rgba(128, 0, 128, 0.6)",
          "line": {
           "color": "rgba(128, 0, 128, 1.0)",
           "width": 1
          }
         },
         "name": "D",
         "orientation": "v",
         "text": "",
         "type": "bar",
         "x": [
          0,
          1,
          2,
          3,
          4,
          5,
          6,
          7,
          8,
          9,
          10,
          11,
          12,
          13,
          14,
          15,
          16,
          17,
          18,
          19,
          20,
          21,
          22,
          23,
          24,
          25,
          26,
          27,
          28,
          29,
          30,
          31,
          32,
          33,
          34,
          35,
          36,
          37,
          38,
          39,
          40,
          41,
          42,
          43,
          44,
          45,
          46,
          47,
          48,
          49,
          50,
          51,
          52,
          53,
          54,
          55,
          56,
          57,
          58,
          59,
          60,
          61,
          62,
          63,
          64,
          65,
          66,
          67,
          68,
          69,
          70,
          71,
          72,
          73,
          74,
          75,
          76,
          77,
          78,
          79,
          80,
          81,
          82,
          83,
          84,
          85,
          86,
          87,
          88,
          89,
          90,
          91,
          92,
          93,
          94,
          95,
          96,
          97,
          98,
          99
         ],
         "y": [
          0.18942170519626872,
          -1.2802194731604748,
          0.6349376524449637,
          -0.5504493747747182,
          -0.7052055592080125,
          -0.20621564334914896,
          0.17785259437516168,
          1.0675198214940365,
          0.43278494355204966,
          -1.1979095622506206,
          0.03377723660122678,
          -0.5844708269743173,
          -1.3259672968360285,
          -1.5768099286883155,
          -0.5745729240121211,
          -0.09220113732000862,
          0.045936116104723645,
          1.3791850474193161,
          1.8582293288358758,
          0.3689175248690529,
          0.10787976561289657,
          -0.5595527120732183,
          -1.4134306157866812,
          -0.9627143604904586,
          1.146387094842736,
          1.562875052994166,
          0.12792405719541777,
          0.4692887195328484,
          -1.3292574772861743,
          0.14539836343131582,
          -0.019269658825584794,
          -0.4628263841159192,
          -1.2579807391391045,
          -1.98788066802929,
          0.05924856073748593,
          -0.16311938920992022,
          -0.27527171490132246,
          -0.15839675467227424,
          0.30242416587063015,
          -0.8495425020657296,
          -0.4586702146018039,
          0.08460838908589949,
          -2.394485298556269,
          0.44435681397663634,
          0.2445539721871795,
          -0.21942588916376973,
          0.5593116756375367,
          -0.8382612967116606,
          -0.8801381638643744,
          2.2119414718170582,
          -1.8595165157814173,
          0.17087544617586234,
          0.34126648026356315,
          0.48670860790953857,
          -0.4178684019411358,
          -0.06418358333556115,
          0.7270068870675426,
          0.7734335640748874,
          0.5849299447104188,
          -0.09745409043521285,
          1.0429191705092615,
          -1.7722403207134747,
          -1.8495043259843567,
          -0.7792485620696873,
          1.600271390275063,
          -0.6374166322996777,
          -0.38594804544541017,
          -0.32338577033233395,
          -0.06479085716062354,
          0.4400675832296403,
          -1.0249528267596215,
          -0.7466060800255195,
          -0.35496339596247256,
          1.4494676348279423,
          1.0924735876914018,
          2.257533687084062,
          -1.0196171714000544,
          -0.9570592291527833,
          -1.5508421070797296,
          -1.5378804322035184,
          0.47728934923457966,
          -1.1191201363418921,
          -0.04468329386381377,
          -0.10629130596692232,
          0.3616265796275296,
          0.6891470617042107,
          -1.9189015917736612,
          1.0490773829306952,
          1.5753947224514775,
          0.8358400820596704,
          -1.3948517425353133,
          -0.525009371351308,
          -0.29431542845104475,
          0.3042360977060703,
          -0.6706043911388967,
          0.07321410292070137,
          -0.717643881557239,
          -0.10093489837101675,
          -0.38363037570998165,
          1.9918704037414345
         ]
        }
       ],
       "layout": {
        "legend": {
         "bgcolor": "#F5F6F9",
         "font": {
          "color": "#4D5663"
         }
        },
        "paper_bgcolor": "#F5F6F9",
        "plot_bgcolor": "#F5F6F9",
        "template": {
         "data": {
          "bar": [
           {
            "error_x": {
             "color": "#2a3f5f"
            },
            "error_y": {
             "color": "#2a3f5f"
            },
            "marker": {
             "line": {
              "color": "#E5ECF6",
              "width": 0.5
             }
            },
            "type": "bar"
           }
          ],
          "barpolar": [
           {
            "marker": {
             "line": {
              "color": "#E5ECF6",
              "width": 0.5
             }
            },
            "type": "barpolar"
           }
          ],
          "carpet": [
           {
            "aaxis": {
             "endlinecolor": "#2a3f5f",
             "gridcolor": "white",
             "linecolor": "white",
             "minorgridcolor": "white",
             "startlinecolor": "#2a3f5f"
            },
            "baxis": {
             "endlinecolor": "#2a3f5f",
             "gridcolor": "white",
             "linecolor": "white",
             "minorgridcolor": "white",
             "startlinecolor": "#2a3f5f"
            },
            "type": "carpet"
           }
          ],
          "choropleth": [
           {
            "colorbar": {
             "outlinewidth": 0,
             "ticks": ""
            },
            "type": "choropleth"
           }
          ],
          "contour": [
           {
            "colorbar": {
             "outlinewidth": 0,
             "ticks": ""
            },
            "colorscale": [
             [
              0,
              "#0d0887"
             ],
             [
              0.1111111111111111,
              "#46039f"
             ],
             [
              0.2222222222222222,
              "#7201a8"
             ],
             [
              0.3333333333333333,
              "#9c179e"
             ],
             [
              0.4444444444444444,
              "#bd3786"
             ],
             [
              0.5555555555555556,
              "#d8576b"
             ],
             [
              0.6666666666666666,
              "#ed7953"
             ],
             [
              0.7777777777777778,
              "#fb9f3a"
             ],
             [
              0.8888888888888888,
              "#fdca26"
             ],
             [
              1,
              "#f0f921"
             ]
            ],
            "type": "contour"
           }
          ],
          "contourcarpet": [
           {
            "colorbar": {
             "outlinewidth": 0,
             "ticks": ""
            },
            "type": "contourcarpet"
           }
          ],
          "heatmap": [
           {
            "colorbar": {
             "outlinewidth": 0,
             "ticks": ""
            },
            "colorscale": [
             [
              0,
              "#0d0887"
             ],
             [
              0.1111111111111111,
              "#46039f"
             ],
             [
              0.2222222222222222,
              "#7201a8"
             ],
             [
              0.3333333333333333,
              "#9c179e"
             ],
             [
              0.4444444444444444,
              "#bd3786"
             ],
             [
              0.5555555555555556,
              "#d8576b"
             ],
             [
              0.6666666666666666,
              "#ed7953"
             ],
             [
              0.7777777777777778,
              "#fb9f3a"
             ],
             [
              0.8888888888888888,
              "#fdca26"
             ],
             [
              1,
              "#f0f921"
             ]
            ],
            "type": "heatmap"
           }
          ],
          "heatmapgl": [
           {
            "colorbar": {
             "outlinewidth": 0,
             "ticks": ""
            },
            "colorscale": [
             [
              0,
              "#0d0887"
             ],
             [
              0.1111111111111111,
              "#46039f"
             ],
             [
              0.2222222222222222,
              "#7201a8"
             ],
             [
              0.3333333333333333,
              "#9c179e"
             ],
             [
              0.4444444444444444,
              "#bd3786"
             ],
             [
              0.5555555555555556,
              "#d8576b"
             ],
             [
              0.6666666666666666,
              "#ed7953"
             ],
             [
              0.7777777777777778,
              "#fb9f3a"
             ],
             [
              0.8888888888888888,
              "#fdca26"
             ],
             [
              1,
              "#f0f921"
             ]
            ],
            "type": "heatmapgl"
           }
          ],
          "histogram": [
           {
            "marker": {
             "colorbar": {
              "outlinewidth": 0,
              "ticks": ""
             }
            },
            "type": "histogram"
           }
          ],
          "histogram2d": [
           {
            "colorbar": {
             "outlinewidth": 0,
             "ticks": ""
            },
            "colorscale": [
             [
              0,
              "#0d0887"
             ],
             [
              0.1111111111111111,
              "#46039f"
             ],
             [
              0.2222222222222222,
              "#7201a8"
             ],
             [
              0.3333333333333333,
              "#9c179e"
             ],
             [
              0.4444444444444444,
              "#bd3786"
             ],
             [
              0.5555555555555556,
              "#d8576b"
             ],
             [
              0.6666666666666666,
              "#ed7953"
             ],
             [
              0.7777777777777778,
              "#fb9f3a"
             ],
             [
              0.8888888888888888,
              "#fdca26"
             ],
             [
              1,
              "#f0f921"
             ]
            ],
            "type": "histogram2d"
           }
          ],
          "histogram2dcontour": [
           {
            "colorbar": {
             "outlinewidth": 0,
             "ticks": ""
            },
            "colorscale": [
             [
              0,
              "#0d0887"
             ],
             [
              0.1111111111111111,
              "#46039f"
             ],
             [
              0.2222222222222222,
              "#7201a8"
             ],
             [
              0.3333333333333333,
              "#9c179e"
             ],
             [
              0.4444444444444444,
              "#bd3786"
             ],
             [
              0.5555555555555556,
              "#d8576b"
             ],
             [
              0.6666666666666666,
              "#ed7953"
             ],
             [
              0.7777777777777778,
              "#fb9f3a"
             ],
             [
              0.8888888888888888,
              "#fdca26"
             ],
             [
              1,
              "#f0f921"
             ]
            ],
            "type": "histogram2dcontour"
           }
          ],
          "mesh3d": [
           {
            "colorbar": {
             "outlinewidth": 0,
             "ticks": ""
            },
            "type": "mesh3d"
           }
          ],
          "parcoords": [
           {
            "line": {
             "colorbar": {
              "outlinewidth": 0,
              "ticks": ""
             }
            },
            "type": "parcoords"
           }
          ],
          "pie": [
           {
            "automargin": true,
            "type": "pie"
           }
          ],
          "scatter": [
           {
            "marker": {
             "colorbar": {
              "outlinewidth": 0,
              "ticks": ""
             }
            },
            "type": "scatter"
           }
          ],
          "scatter3d": [
           {
            "line": {
             "colorbar": {
              "outlinewidth": 0,
              "ticks": ""
             }
            },
            "marker": {
             "colorbar": {
              "outlinewidth": 0,
              "ticks": ""
             }
            },
            "type": "scatter3d"
           }
          ],
          "scattercarpet": [
           {
            "marker": {
             "colorbar": {
              "outlinewidth": 0,
              "ticks": ""
             }
            },
            "type": "scattercarpet"
           }
          ],
          "scattergeo": [
           {
            "marker": {
             "colorbar": {
              "outlinewidth": 0,
              "ticks": ""
             }
            },
            "type": "scattergeo"
           }
          ],
          "scattergl": [
           {
            "marker": {
             "colorbar": {
              "outlinewidth": 0,
              "ticks": ""
             }
            },
            "type": "scattergl"
           }
          ],
          "scattermapbox": [
           {
            "marker": {
             "colorbar": {
              "outlinewidth": 0,
              "ticks": ""
             }
            },
            "type": "scattermapbox"
           }
          ],
          "scatterpolar": [
           {
            "marker": {
             "colorbar": {
              "outlinewidth": 0,
              "ticks": ""
             }
            },
            "type": "scatterpolar"
           }
          ],
          "scatterpolargl": [
           {
            "marker": {
             "colorbar": {
              "outlinewidth": 0,
              "ticks": ""
             }
            },
            "type": "scatterpolargl"
           }
          ],
          "scatterternary": [
           {
            "marker": {
             "colorbar": {
              "outlinewidth": 0,
              "ticks": ""
             }
            },
            "type": "scatterternary"
           }
          ],
          "surface": [
           {
            "colorbar": {
             "outlinewidth": 0,
             "ticks": ""
            },
            "colorscale": [
             [
              0,
              "#0d0887"
             ],
             [
              0.1111111111111111,
              "#46039f"
             ],
             [
              0.2222222222222222,
              "#7201a8"
             ],
             [
              0.3333333333333333,
              "#9c179e"
             ],
             [
              0.4444444444444444,
              "#bd3786"
             ],
             [
              0.5555555555555556,
              "#d8576b"
             ],
             [
              0.6666666666666666,
              "#ed7953"
             ],
             [
              0.7777777777777778,
              "#fb9f3a"
             ],
             [
              0.8888888888888888,
              "#fdca26"
             ],
             [
              1,
              "#f0f921"
             ]
            ],
            "type": "surface"
           }
          ],
          "table": [
           {
            "cells": {
             "fill": {
              "color": "#EBF0F8"
             },
             "line": {
              "color": "white"
             }
            },
            "header": {
             "fill": {
              "color": "#C8D4E3"
             },
             "line": {
              "color": "white"
             }
            },
            "type": "table"
           }
          ]
         },
         "layout": {
          "annotationdefaults": {
           "arrowcolor": "#2a3f5f",
           "arrowhead": 0,
           "arrowwidth": 1
          },
          "coloraxis": {
           "colorbar": {
            "outlinewidth": 0,
            "ticks": ""
           }
          },
          "colorscale": {
           "diverging": [
            [
             0,
             "#8e0152"
            ],
            [
             0.1,
             "#c51b7d"
            ],
            [
             0.2,
             "#de77ae"
            ],
            [
             0.3,
             "#f1b6da"
            ],
            [
             0.4,
             "#fde0ef"
            ],
            [
             0.5,
             "#f7f7f7"
            ],
            [
             0.6,
             "#e6f5d0"
            ],
            [
             0.7,
             "#b8e186"
            ],
            [
             0.8,
             "#7fbc41"
            ],
            [
             0.9,
             "#4d9221"
            ],
            [
             1,
             "#276419"
            ]
           ],
           "sequential": [
            [
             0,
             "#0d0887"
            ],
            [
             0.1111111111111111,
             "#46039f"
            ],
            [
             0.2222222222222222,
             "#7201a8"
            ],
            [
             0.3333333333333333,
             "#9c179e"
            ],
            [
             0.4444444444444444,
             "#bd3786"
            ],
            [
             0.5555555555555556,
             "#d8576b"
            ],
            [
             0.6666666666666666,
             "#ed7953"
            ],
            [
             0.7777777777777778,
             "#fb9f3a"
            ],
            [
             0.8888888888888888,
             "#fdca26"
            ],
            [
             1,
             "#f0f921"
            ]
           ],
           "sequentialminus": [
            [
             0,
             "#0d0887"
            ],
            [
             0.1111111111111111,
             "#46039f"
            ],
            [
             0.2222222222222222,
             "#7201a8"
            ],
            [
             0.3333333333333333,
             "#9c179e"
            ],
            [
             0.4444444444444444,
             "#bd3786"
            ],
            [
             0.5555555555555556,
             "#d8576b"
            ],
            [
             0.6666666666666666,
             "#ed7953"
            ],
            [
             0.7777777777777778,
             "#fb9f3a"
            ],
            [
             0.8888888888888888,
             "#fdca26"
            ],
            [
             1,
             "#f0f921"
            ]
           ]
          },
          "colorway": [
           "#636efa",
           "#EF553B",
           "#00cc96",
           "#ab63fa",
           "#FFA15A",
           "#19d3f3",
           "#FF6692",
           "#B6E880",
           "#FF97FF",
           "#FECB52"
          ],
          "font": {
           "color": "#2a3f5f"
          },
          "geo": {
           "bgcolor": "white",
           "lakecolor": "white",
           "landcolor": "#E5ECF6",
           "showlakes": true,
           "showland": true,
           "subunitcolor": "white"
          },
          "hoverlabel": {
           "align": "left"
          },
          "hovermode": "closest",
          "mapbox": {
           "style": "light"
          },
          "paper_bgcolor": "white",
          "plot_bgcolor": "#E5ECF6",
          "polar": {
           "angularaxis": {
            "gridcolor": "white",
            "linecolor": "white",
            "ticks": ""
           },
           "bgcolor": "#E5ECF6",
           "radialaxis": {
            "gridcolor": "white",
            "linecolor": "white",
            "ticks": ""
           }
          },
          "scene": {
           "xaxis": {
            "backgroundcolor": "#E5ECF6",
            "gridcolor": "white",
            "gridwidth": 2,
            "linecolor": "white",
            "showbackground": true,
            "ticks": "",
            "zerolinecolor": "white"
           },
           "yaxis": {
            "backgroundcolor": "#E5ECF6",
            "gridcolor": "white",
            "gridwidth": 2,
            "linecolor": "white",
            "showbackground": true,
            "ticks": "",
            "zerolinecolor": "white"
           },
           "zaxis": {
            "backgroundcolor": "#E5ECF6",
            "gridcolor": "white",
            "gridwidth": 2,
            "linecolor": "white",
            "showbackground": true,
            "ticks": "",
            "zerolinecolor": "white"
           }
          },
          "shapedefaults": {
           "line": {
            "color": "#2a3f5f"
           }
          },
          "ternary": {
           "aaxis": {
            "gridcolor": "white",
            "linecolor": "white",
            "ticks": ""
           },
           "baxis": {
            "gridcolor": "white",
            "linecolor": "white",
            "ticks": ""
           },
           "bgcolor": "#E5ECF6",
           "caxis": {
            "gridcolor": "white",
            "linecolor": "white",
            "ticks": ""
           }
          },
          "title": {
           "x": 0.05
          },
          "xaxis": {
           "automargin": true,
           "gridcolor": "white",
           "linecolor": "white",
           "ticks": "",
           "title": {
            "standoff": 15
           },
           "zerolinecolor": "white",
           "zerolinewidth": 2
          },
          "yaxis": {
           "automargin": true,
           "gridcolor": "white",
           "linecolor": "white",
           "ticks": "",
           "title": {
            "standoff": 15
           },
           "zerolinecolor": "white",
           "zerolinewidth": 2
          }
         }
        },
        "title": {
         "font": {
          "color": "#4D5663"
         }
        },
        "xaxis": {
         "gridcolor": "#E1E5ED",
         "showgrid": true,
         "tickfont": {
          "color": "#4D5663"
         },
         "title": {
          "font": {
           "color": "#4D5663"
          },
          "text": ""
         },
         "zerolinecolor": "#E1E5ED"
        },
        "yaxis": {
         "gridcolor": "#E1E5ED",
         "showgrid": true,
         "tickfont": {
          "color": "#4D5663"
         },
         "title": {
          "font": {
           "color": "#4D5663"
          },
          "text": ""
         },
         "zerolinecolor": "#E1E5ED"
        }
       }
      },
      "text/html": [
       "<div>\n",
       "        \n",
       "        \n",
       "            <div id=\"519e9955-2e74-4144-b51f-37000c239e7b\" class=\"plotly-graph-div\" style=\"height:525px; width:100%;\"></div>\n",
       "            <script type=\"text/javascript\">\n",
       "                require([\"plotly\"], function(Plotly) {\n",
       "                    window.PLOTLYENV=window.PLOTLYENV || {};\n",
       "                    window.PLOTLYENV.BASE_URL='https://plot.ly';\n",
       "                    \n",
       "                if (document.getElementById(\"519e9955-2e74-4144-b51f-37000c239e7b\")) {\n",
       "                    Plotly.newPlot(\n",
       "                        '519e9955-2e74-4144-b51f-37000c239e7b',\n",
       "                        [{\"marker\": {\"color\": \"rgba(255, 153, 51, 0.6)\", \"line\": {\"color\": \"rgba(255, 153, 51, 1.0)\", \"width\": 1}}, \"name\": \"A\", \"orientation\": \"v\", \"text\": \"\", \"type\": \"bar\", \"x\": [0, 1, 2, 3, 4, 5, 6, 7, 8, 9, 10, 11, 12, 13, 14, 15, 16, 17, 18, 19, 20, 21, 22, 23, 24, 25, 26, 27, 28, 29, 30, 31, 32, 33, 34, 35, 36, 37, 38, 39, 40, 41, 42, 43, 44, 45, 46, 47, 48, 49, 50, 51, 52, 53, 54, 55, 56, 57, 58, 59, 60, 61, 62, 63, 64, 65, 66, 67, 68, 69, 70, 71, 72, 73, 74, 75, 76, 77, 78, 79, 80, 81, 82, 83, 84, 85, 86, 87, 88, 89, 90, 91, 92, 93, 94, 95, 96, 97, 98, 99], \"y\": [-0.47994138356102345, 0.16000001454505774, 1.2996849606416845, -0.3459934331228707, 1.0368948135116955, 0.07946965327892691, 0.02947178831828827, -0.26772555546117177, -2.0314116116032723, -0.7776726685287725, -0.6632265573499633, 0.040338171293861545, 0.03099329497456494, 1.30667900546974, -0.037687242533143366, 0.73556867266476, 0.1957228240044999, -1.0482986804628374, 1.0503916976168206, 0.3384999073480586, -0.14838682865663155, -1.849858632992489, -1.1910865283155898, 1.5553865160982832, 0.986449102796202, 0.07626968937010195, -0.7144282219471334, -1.95459396507943, 0.5166017932497404, -0.1272350411517917, 0.3651824330336992, 0.629568772242452, 0.2238905949170703, -0.4080627997126574, 0.2459532769412293, -1.4375822191198364, 1.1953127234968812, 0.20642350123956282, -0.6118149783961775, -0.3516522754108534, 0.3864587743634232, 0.5578874059130349, -1.2239437975712937, -0.5751253948097974, -0.8161879128352467, 0.728310144983823, 1.0285518125814623, -0.061080867479822096, 0.5456049906240891, 1.6757326714528262, 1.1259534774275948, 2.1679146833244065, 0.3627705444531118, -0.2007163005561877, 1.5857603106850822, -0.14387374650148002, 0.6711681353081573, -2.077686313631864, -0.8339634788937905, -1.5147815926076582, -0.2426824940955602, -0.05900561048931461, -0.5015572453005709, -1.02382765079118, 0.6594628547687229, -0.23529898779933406, 0.989301732841858, 1.0913142676056113, 0.9047811195866384, 2.171823959268939, 0.8660901043897223, -1.009123777500051, -1.2739552439273125, -0.8003558594463309, -0.7227937984759449, -0.4548814893006097, -1.2973334617697536, -0.40436366793090245, -0.5467723352316892, 1.3324985767546997, -0.3000650152937515, -2.4463874579688456, 0.5366264052442478, 0.8394154584497169, -0.47075436156584355, 0.46846103114383303, 1.7485010794299531, -1.3189454373300313, -0.29883060294564007, 0.09313380405100766, 1.2964129012060845, 1.6132918404264132, -0.11654004163312816, -0.3113907853250452, 0.03577164272941658, -0.22212739215972332, 0.19790220317768603, 0.23463768157652232, -0.3274922195966929, -0.3594549556767431]}, {\"marker\": {\"color\": \"rgba(55, 128, 191, 0.6)\", \"line\": {\"color\": \"rgba(55, 128, 191, 1.0)\", \"width\": 1}}, \"name\": \"B\", \"orientation\": \"v\", \"text\": \"\", \"type\": \"bar\", \"x\": [0, 1, 2, 3, 4, 5, 6, 7, 8, 9, 10, 11, 12, 13, 14, 15, 16, 17, 18, 19, 20, 21, 22, 23, 24, 25, 26, 27, 28, 29, 30, 31, 32, 33, 34, 35, 36, 37, 38, 39, 40, 41, 42, 43, 44, 45, 46, 47, 48, 49, 50, 51, 52, 53, 54, 55, 56, 57, 58, 59, 60, 61, 62, 63, 64, 65, 66, 67, 68, 69, 70, 71, 72, 73, 74, 75, 76, 77, 78, 79, 80, 81, 82, 83, 84, 85, 86, 87, 88, 89, 90, 91, 92, 93, 94, 95, 96, 97, 98, 99], \"y\": [-0.6750720095040574, -0.6236632378538945, 0.31648115090713874, 0.006625469958763555, 1.0701445375157368, -1.489988600379836, 0.7894479972844892, 0.9173170404148899, -0.03236558870315396, 0.531828866922249, 0.5886330258336944, -1.167976713880715, -0.7162100002669591, -0.5414831307678194, 0.7840457615721561, -0.46930537859098814, -0.7892004007784026, 0.15190499519329212, -0.13488847109679594, 0.9560305771827087, 0.9836328201693666, 1.113069160455684, 0.3815657149703171, 1.3561175238140253, -1.0417651856920722, 0.6451841844568005, -0.4828578505139144, 1.5246445699148836, 0.06537554774633204, 0.04931160611207707, 1.9347732812598075, -0.8061165056880444, 1.0744399572724777, -0.38326628912131316, -1.7407112541746834, -1.1789405193606934, -1.4075963840229924, -0.40096512182303085, 0.3220761194308544, -0.9234853236877474, -2.0334595526466446, 0.7776897486339085, -0.9807388724402262, 0.6367945434202201, 1.2749049396021885, 1.5095220335919506, -1.0861773553362357, 0.2928360719752721, -1.0635379361026216, 0.5682472797409951, -0.9001092545463106, -0.40166002883131624, 0.15203268993711191, 0.5507806044416774, -0.406142216960143, -1.217479641294983, 0.6917269041894943, -0.911829853729197, -1.4102896333460009, -1.1411785121505986, -0.08111764128140288, -1.2905700010948244, 0.15246509174095685, 0.5514074713986842, -0.5748023680027282, -0.17533905191623023, 0.2750882818594264, -0.06060424378975698, 0.48929733464317215, -0.8521185592816384, 0.14843460207767809, 0.36699416075794683, -0.1763066172519723, 0.6767034425170794, -1.0558797509891396, -1.2618686077621954, -0.7013920682499339, -1.1536332965995175, -1.0458008683090156, -1.1845502086936621, -1.6179944848535541, 0.027753117132022737, -0.03597787859543119, -0.6109525033400434, -0.006659128206266237, -1.9053029934010377, -0.1979953952563941, -1.970715611393755, -0.02374897918555784, 0.014002628836400495, 0.9021962904211355, -0.2186002004460576, 0.282987591536079, -0.4104780901919894, -0.29636306422899106, -1.0720115422654701, 1.4663762784345675, 0.518632479089715, 0.643572733575315, -0.5238831432693754]}, {\"marker\": {\"color\": \"rgba(50, 171, 96, 0.6)\", \"line\": {\"color\": \"rgba(50, 171, 96, 1.0)\", \"width\": 1}}, \"name\": \"C\", \"orientation\": \"v\", \"text\": \"\", \"type\": \"bar\", \"x\": [0, 1, 2, 3, 4, 5, 6, 7, 8, 9, 10, 11, 12, 13, 14, 15, 16, 17, 18, 19, 20, 21, 22, 23, 24, 25, 26, 27, 28, 29, 30, 31, 32, 33, 34, 35, 36, 37, 38, 39, 40, 41, 42, 43, 44, 45, 46, 47, 48, 49, 50, 51, 52, 53, 54, 55, 56, 57, 58, 59, 60, 61, 62, 63, 64, 65, 66, 67, 68, 69, 70, 71, 72, 73, 74, 75, 76, 77, 78, 79, 80, 81, 82, 83, 84, 85, 86, 87, 88, 89, 90, 91, 92, 93, 94, 95, 96, 97, 98, 99], \"y\": [-0.5197271978581905, -0.35702079986068197, -0.6751074162834202, -0.8290603698439113, -1.7620567856664684, 0.22579158270393165, 0.00808063258413915, -0.6891205740873824, 1.3805447654586755, -0.05653607792480402, -1.5578460253123274, -1.423940701684458, -1.2987087258472758, 0.6434196202513819, -0.06084163519495708, -0.3596184597698029, -0.1600839748573193, 0.4351329108949361, -0.037248400408046785, -0.2963151081901758, 0.1450065608648587, 1.1920904328243296, 0.21667688869310794, 0.6949961722611162, 0.9847769996892395, -0.0056276016213413355, 0.5004276282933069, 0.9065596468268876, 0.3913797397178053, 0.5194628533956177, 0.20180903715178042, -0.37102518269253304, 1.007985221807975, 1.2693324558378918, 1.8427949296226573, 0.5288485335232646, -0.6862959392121788, 1.4338661951430534, 0.006824530293811063, -0.23133092335789665, -1.5418740730564444, 0.8628701890453, -0.6483764997573348, -1.6029664806541335, -0.7940380352821212, -1.8951476576766457, -0.40041956603237083, 0.2964911317848158, 1.5899392607667207, 0.4312931244279361, -1.8737143112380912, 0.15598014843187272, -0.8561011752865471, 1.205915463923441, 0.08531616891935535, -0.2849719587160101, -0.49992372301677185, -0.1977389254022585, 0.9672487407550542, -2.1007611967290454, 2.5758556907585763, -1.3544767038489602, -0.5482520679537566, -0.14250855825853886, -0.31395089348855637, 0.22273658215192293, 1.6444651798928556, -0.1645639143914819, -0.4281820820795921, -0.44045908292905706, 1.8124573636463697, -2.0269863208849563, 0.1160077533479532, 2.0653426029572985, -0.5089496389521247, -0.12134215070011177, 0.5399005604153339, 0.722808318590877, 0.8803784655030259, -1.2061397944554992, 0.3970338332193433, -1.0746922682004565, 0.4206950439615749, -1.4792823364969105, -0.5587369720014077, -0.15698538565975714, -0.8612772787041048, 0.20900126254664594, -0.28515872294607314, 0.0036611009568451856, 0.5538991408164484, 2.926243867371199, 0.7796294023213519, -1.3660970894954452, 0.25571122605780455, -0.7818561652897893, -1.235332988189121, 1.4674049373740403, 0.25507104998325436, 0.44431307217121674]}, {\"marker\": {\"color\": \"rgba(128, 0, 128, 0.6)\", \"line\": {\"color\": \"rgba(128, 0, 128, 1.0)\", \"width\": 1}}, \"name\": \"D\", \"orientation\": \"v\", \"text\": \"\", \"type\": \"bar\", \"x\": [0, 1, 2, 3, 4, 5, 6, 7, 8, 9, 10, 11, 12, 13, 14, 15, 16, 17, 18, 19, 20, 21, 22, 23, 24, 25, 26, 27, 28, 29, 30, 31, 32, 33, 34, 35, 36, 37, 38, 39, 40, 41, 42, 43, 44, 45, 46, 47, 48, 49, 50, 51, 52, 53, 54, 55, 56, 57, 58, 59, 60, 61, 62, 63, 64, 65, 66, 67, 68, 69, 70, 71, 72, 73, 74, 75, 76, 77, 78, 79, 80, 81, 82, 83, 84, 85, 86, 87, 88, 89, 90, 91, 92, 93, 94, 95, 96, 97, 98, 99], \"y\": [0.18942170519626872, -1.2802194731604748, 0.6349376524449637, -0.5504493747747182, -0.7052055592080125, -0.20621564334914896, 0.17785259437516168, 1.0675198214940365, 0.43278494355204966, -1.1979095622506206, 0.03377723660122678, -0.5844708269743173, -1.3259672968360285, -1.5768099286883155, -0.5745729240121211, -0.09220113732000862, 0.045936116104723645, 1.3791850474193161, 1.8582293288358758, 0.3689175248690529, 0.10787976561289657, -0.5595527120732183, -1.4134306157866812, -0.9627143604904586, 1.146387094842736, 1.562875052994166, 0.12792405719541777, 0.4692887195328484, -1.3292574772861743, 0.14539836343131582, -0.019269658825584794, -0.4628263841159192, -1.2579807391391045, -1.98788066802929, 0.05924856073748593, -0.16311938920992022, -0.27527171490132246, -0.15839675467227424, 0.30242416587063015, -0.8495425020657296, -0.4586702146018039, 0.08460838908589949, -2.394485298556269, 0.44435681397663634, 0.2445539721871795, -0.21942588916376973, 0.5593116756375367, -0.8382612967116606, -0.8801381638643744, 2.2119414718170582, -1.8595165157814173, 0.17087544617586234, 0.34126648026356315, 0.48670860790953857, -0.4178684019411358, -0.06418358333556115, 0.7270068870675426, 0.7734335640748874, 0.5849299447104188, -0.09745409043521285, 1.0429191705092615, -1.7722403207134747, -1.8495043259843567, -0.7792485620696873, 1.600271390275063, -0.6374166322996777, -0.38594804544541017, -0.32338577033233395, -0.06479085716062354, 0.4400675832296403, -1.0249528267596215, -0.7466060800255195, -0.35496339596247256, 1.4494676348279423, 1.0924735876914018, 2.257533687084062, -1.0196171714000544, -0.9570592291527833, -1.5508421070797296, -1.5378804322035184, 0.47728934923457966, -1.1191201363418921, -0.04468329386381377, -0.10629130596692232, 0.3616265796275296, 0.6891470617042107, -1.9189015917736612, 1.0490773829306952, 1.5753947224514775, 0.8358400820596704, -1.3948517425353133, -0.525009371351308, -0.29431542845104475, 0.3042360977060703, -0.6706043911388967, 0.07321410292070137, -0.717643881557239, -0.10093489837101675, -0.38363037570998165, 1.9918704037414345]}],\n",
       "                        {\"legend\": {\"bgcolor\": \"#F5F6F9\", \"font\": {\"color\": \"#4D5663\"}}, \"paper_bgcolor\": \"#F5F6F9\", \"plot_bgcolor\": \"#F5F6F9\", \"template\": {\"data\": {\"bar\": [{\"error_x\": {\"color\": \"#2a3f5f\"}, \"error_y\": {\"color\": \"#2a3f5f\"}, \"marker\": {\"line\": {\"color\": \"#E5ECF6\", \"width\": 0.5}}, \"type\": \"bar\"}], \"barpolar\": [{\"marker\": {\"line\": {\"color\": \"#E5ECF6\", \"width\": 0.5}}, \"type\": \"barpolar\"}], \"carpet\": [{\"aaxis\": {\"endlinecolor\": \"#2a3f5f\", \"gridcolor\": \"white\", \"linecolor\": \"white\", \"minorgridcolor\": \"white\", \"startlinecolor\": \"#2a3f5f\"}, \"baxis\": {\"endlinecolor\": \"#2a3f5f\", \"gridcolor\": \"white\", \"linecolor\": \"white\", \"minorgridcolor\": \"white\", \"startlinecolor\": \"#2a3f5f\"}, \"type\": \"carpet\"}], \"choropleth\": [{\"colorbar\": {\"outlinewidth\": 0, \"ticks\": \"\"}, \"type\": \"choropleth\"}], \"contour\": [{\"colorbar\": {\"outlinewidth\": 0, \"ticks\": \"\"}, \"colorscale\": [[0.0, \"#0d0887\"], [0.1111111111111111, \"#46039f\"], [0.2222222222222222, \"#7201a8\"], [0.3333333333333333, \"#9c179e\"], [0.4444444444444444, \"#bd3786\"], [0.5555555555555556, \"#d8576b\"], [0.6666666666666666, \"#ed7953\"], [0.7777777777777778, \"#fb9f3a\"], [0.8888888888888888, \"#fdca26\"], [1.0, \"#f0f921\"]], \"type\": \"contour\"}], \"contourcarpet\": [{\"colorbar\": {\"outlinewidth\": 0, \"ticks\": \"\"}, \"type\": \"contourcarpet\"}], \"heatmap\": [{\"colorbar\": {\"outlinewidth\": 0, \"ticks\": \"\"}, \"colorscale\": [[0.0, \"#0d0887\"], [0.1111111111111111, \"#46039f\"], [0.2222222222222222, \"#7201a8\"], [0.3333333333333333, \"#9c179e\"], [0.4444444444444444, \"#bd3786\"], [0.5555555555555556, \"#d8576b\"], [0.6666666666666666, \"#ed7953\"], [0.7777777777777778, \"#fb9f3a\"], [0.8888888888888888, \"#fdca26\"], [1.0, \"#f0f921\"]], \"type\": \"heatmap\"}], \"heatmapgl\": [{\"colorbar\": {\"outlinewidth\": 0, \"ticks\": \"\"}, \"colorscale\": [[0.0, \"#0d0887\"], [0.1111111111111111, \"#46039f\"], [0.2222222222222222, \"#7201a8\"], [0.3333333333333333, \"#9c179e\"], [0.4444444444444444, \"#bd3786\"], [0.5555555555555556, \"#d8576b\"], [0.6666666666666666, \"#ed7953\"], [0.7777777777777778, \"#fb9f3a\"], [0.8888888888888888, \"#fdca26\"], [1.0, \"#f0f921\"]], \"type\": \"heatmapgl\"}], \"histogram\": [{\"marker\": {\"colorbar\": {\"outlinewidth\": 0, \"ticks\": \"\"}}, \"type\": \"histogram\"}], \"histogram2d\": [{\"colorbar\": {\"outlinewidth\": 0, \"ticks\": \"\"}, \"colorscale\": [[0.0, \"#0d0887\"], [0.1111111111111111, \"#46039f\"], [0.2222222222222222, \"#7201a8\"], [0.3333333333333333, \"#9c179e\"], [0.4444444444444444, \"#bd3786\"], [0.5555555555555556, \"#d8576b\"], [0.6666666666666666, \"#ed7953\"], [0.7777777777777778, \"#fb9f3a\"], [0.8888888888888888, \"#fdca26\"], [1.0, \"#f0f921\"]], \"type\": \"histogram2d\"}], \"histogram2dcontour\": [{\"colorbar\": {\"outlinewidth\": 0, \"ticks\": \"\"}, \"colorscale\": [[0.0, \"#0d0887\"], [0.1111111111111111, \"#46039f\"], [0.2222222222222222, \"#7201a8\"], [0.3333333333333333, \"#9c179e\"], [0.4444444444444444, \"#bd3786\"], [0.5555555555555556, \"#d8576b\"], [0.6666666666666666, \"#ed7953\"], [0.7777777777777778, \"#fb9f3a\"], [0.8888888888888888, \"#fdca26\"], [1.0, \"#f0f921\"]], \"type\": \"histogram2dcontour\"}], \"mesh3d\": [{\"colorbar\": {\"outlinewidth\": 0, \"ticks\": \"\"}, \"type\": \"mesh3d\"}], \"parcoords\": [{\"line\": {\"colorbar\": {\"outlinewidth\": 0, \"ticks\": \"\"}}, \"type\": \"parcoords\"}], \"pie\": [{\"automargin\": true, \"type\": \"pie\"}], \"scatter\": [{\"marker\": {\"colorbar\": {\"outlinewidth\": 0, \"ticks\": \"\"}}, \"type\": \"scatter\"}], \"scatter3d\": [{\"line\": {\"colorbar\": {\"outlinewidth\": 0, \"ticks\": \"\"}}, \"marker\": {\"colorbar\": {\"outlinewidth\": 0, \"ticks\": \"\"}}, \"type\": \"scatter3d\"}], \"scattercarpet\": [{\"marker\": {\"colorbar\": {\"outlinewidth\": 0, \"ticks\": \"\"}}, \"type\": \"scattercarpet\"}], \"scattergeo\": [{\"marker\": {\"colorbar\": {\"outlinewidth\": 0, \"ticks\": \"\"}}, \"type\": \"scattergeo\"}], \"scattergl\": [{\"marker\": {\"colorbar\": {\"outlinewidth\": 0, \"ticks\": \"\"}}, \"type\": \"scattergl\"}], \"scattermapbox\": [{\"marker\": {\"colorbar\": {\"outlinewidth\": 0, \"ticks\": \"\"}}, \"type\": \"scattermapbox\"}], \"scatterpolar\": [{\"marker\": {\"colorbar\": {\"outlinewidth\": 0, \"ticks\": \"\"}}, \"type\": \"scatterpolar\"}], \"scatterpolargl\": [{\"marker\": {\"colorbar\": {\"outlinewidth\": 0, \"ticks\": \"\"}}, \"type\": \"scatterpolargl\"}], \"scatterternary\": [{\"marker\": {\"colorbar\": {\"outlinewidth\": 0, \"ticks\": \"\"}}, \"type\": \"scatterternary\"}], \"surface\": [{\"colorbar\": {\"outlinewidth\": 0, \"ticks\": \"\"}, \"colorscale\": [[0.0, \"#0d0887\"], [0.1111111111111111, \"#46039f\"], [0.2222222222222222, \"#7201a8\"], [0.3333333333333333, \"#9c179e\"], [0.4444444444444444, \"#bd3786\"], [0.5555555555555556, \"#d8576b\"], [0.6666666666666666, \"#ed7953\"], [0.7777777777777778, \"#fb9f3a\"], [0.8888888888888888, \"#fdca26\"], [1.0, \"#f0f921\"]], \"type\": \"surface\"}], \"table\": [{\"cells\": {\"fill\": {\"color\": \"#EBF0F8\"}, \"line\": {\"color\": \"white\"}}, \"header\": {\"fill\": {\"color\": \"#C8D4E3\"}, \"line\": {\"color\": \"white\"}}, \"type\": \"table\"}]}, \"layout\": {\"annotationdefaults\": {\"arrowcolor\": \"#2a3f5f\", \"arrowhead\": 0, \"arrowwidth\": 1}, \"coloraxis\": {\"colorbar\": {\"outlinewidth\": 0, \"ticks\": \"\"}}, \"colorscale\": {\"diverging\": [[0, \"#8e0152\"], [0.1, \"#c51b7d\"], [0.2, \"#de77ae\"], [0.3, \"#f1b6da\"], [0.4, \"#fde0ef\"], [0.5, \"#f7f7f7\"], [0.6, \"#e6f5d0\"], [0.7, \"#b8e186\"], [0.8, \"#7fbc41\"], [0.9, \"#4d9221\"], [1, \"#276419\"]], \"sequential\": [[0.0, \"#0d0887\"], [0.1111111111111111, \"#46039f\"], [0.2222222222222222, \"#7201a8\"], [0.3333333333333333, \"#9c179e\"], [0.4444444444444444, \"#bd3786\"], [0.5555555555555556, \"#d8576b\"], [0.6666666666666666, \"#ed7953\"], [0.7777777777777778, \"#fb9f3a\"], [0.8888888888888888, \"#fdca26\"], [1.0, \"#f0f921\"]], \"sequentialminus\": [[0.0, \"#0d0887\"], [0.1111111111111111, \"#46039f\"], [0.2222222222222222, \"#7201a8\"], [0.3333333333333333, \"#9c179e\"], [0.4444444444444444, \"#bd3786\"], [0.5555555555555556, \"#d8576b\"], [0.6666666666666666, \"#ed7953\"], [0.7777777777777778, \"#fb9f3a\"], [0.8888888888888888, \"#fdca26\"], [1.0, \"#f0f921\"]]}, \"colorway\": [\"#636efa\", \"#EF553B\", \"#00cc96\", \"#ab63fa\", \"#FFA15A\", \"#19d3f3\", \"#FF6692\", \"#B6E880\", \"#FF97FF\", \"#FECB52\"], \"font\": {\"color\": \"#2a3f5f\"}, \"geo\": {\"bgcolor\": \"white\", \"lakecolor\": \"white\", \"landcolor\": \"#E5ECF6\", \"showlakes\": true, \"showland\": true, \"subunitcolor\": \"white\"}, \"hoverlabel\": {\"align\": \"left\"}, \"hovermode\": \"closest\", \"mapbox\": {\"style\": \"light\"}, \"paper_bgcolor\": \"white\", \"plot_bgcolor\": \"#E5ECF6\", \"polar\": {\"angularaxis\": {\"gridcolor\": \"white\", \"linecolor\": \"white\", \"ticks\": \"\"}, \"bgcolor\": \"#E5ECF6\", \"radialaxis\": {\"gridcolor\": \"white\", \"linecolor\": \"white\", \"ticks\": \"\"}}, \"scene\": {\"xaxis\": {\"backgroundcolor\": \"#E5ECF6\", \"gridcolor\": \"white\", \"gridwidth\": 2, \"linecolor\": \"white\", \"showbackground\": true, \"ticks\": \"\", \"zerolinecolor\": \"white\"}, \"yaxis\": {\"backgroundcolor\": \"#E5ECF6\", \"gridcolor\": \"white\", \"gridwidth\": 2, \"linecolor\": \"white\", \"showbackground\": true, \"ticks\": \"\", \"zerolinecolor\": \"white\"}, \"zaxis\": {\"backgroundcolor\": \"#E5ECF6\", \"gridcolor\": \"white\", \"gridwidth\": 2, \"linecolor\": \"white\", \"showbackground\": true, \"ticks\": \"\", \"zerolinecolor\": \"white\"}}, \"shapedefaults\": {\"line\": {\"color\": \"#2a3f5f\"}}, \"ternary\": {\"aaxis\": {\"gridcolor\": \"white\", \"linecolor\": \"white\", \"ticks\": \"\"}, \"baxis\": {\"gridcolor\": \"white\", \"linecolor\": \"white\", \"ticks\": \"\"}, \"bgcolor\": \"#E5ECF6\", \"caxis\": {\"gridcolor\": \"white\", \"linecolor\": \"white\", \"ticks\": \"\"}}, \"title\": {\"x\": 0.05}, \"xaxis\": {\"automargin\": true, \"gridcolor\": \"white\", \"linecolor\": \"white\", \"ticks\": \"\", \"title\": {\"standoff\": 15}, \"zerolinecolor\": \"white\", \"zerolinewidth\": 2}, \"yaxis\": {\"automargin\": true, \"gridcolor\": \"white\", \"linecolor\": \"white\", \"ticks\": \"\", \"title\": {\"standoff\": 15}, \"zerolinecolor\": \"white\", \"zerolinewidth\": 2}}}, \"title\": {\"font\": {\"color\": \"#4D5663\"}}, \"xaxis\": {\"gridcolor\": \"#E1E5ED\", \"showgrid\": true, \"tickfont\": {\"color\": \"#4D5663\"}, \"title\": {\"font\": {\"color\": \"#4D5663\"}, \"text\": \"\"}, \"zerolinecolor\": \"#E1E5ED\"}, \"yaxis\": {\"gridcolor\": \"#E1E5ED\", \"showgrid\": true, \"tickfont\": {\"color\": \"#4D5663\"}, \"title\": {\"font\": {\"color\": \"#4D5663\"}, \"text\": \"\"}, \"zerolinecolor\": \"#E1E5ED\"}},\n",
       "                        {\"showLink\": true, \"linkText\": \"Export to plot.ly\", \"plotlyServerURL\": \"https://plot.ly\", \"responsive\": true}\n",
       "                    ).then(function(){\n",
       "                            \n",
       "var gd = document.getElementById('519e9955-2e74-4144-b51f-37000c239e7b');\n",
       "var x = new MutationObserver(function (mutations, observer) {{\n",
       "        var display = window.getComputedStyle(gd).display;\n",
       "        if (!display || display === 'none') {{\n",
       "            console.log([gd, 'removed!']);\n",
       "            Plotly.purge(gd);\n",
       "            observer.disconnect();\n",
       "        }}\n",
       "}});\n",
       "\n",
       "// Listen for the removal of the full notebook cells\n",
       "var notebookContainer = gd.closest('#notebook-container');\n",
       "if (notebookContainer) {{\n",
       "    x.observe(notebookContainer, {childList: true});\n",
       "}}\n",
       "\n",
       "// Listen for the clearing of the current output cell\n",
       "var outputEl = gd.closest('.output');\n",
       "if (outputEl) {{\n",
       "    x.observe(outputEl, {childList: true});\n",
       "}}\n",
       "\n",
       "                        })\n",
       "                };\n",
       "                });\n",
       "            </script>\n",
       "        </div>"
      ]
     },
     "metadata": {},
     "output_type": "display_data"
    }
   ],
   "source": [
    "df.iplot(kind='bar')"
   ]
  },
  {
   "cell_type": "code",
   "execution_count": 23,
   "metadata": {},
   "outputs": [
    {
     "data": {
      "application/vnd.plotly.v1+json": {
       "config": {
        "linkText": "Export to plot.ly",
        "plotlyServerURL": "https://plot.ly",
        "showLink": true
       },
       "data": [
        {
         "marker": {
          "color": "rgba(255, 153, 51, 0.6)",
          "line": {
           "color": "rgba(255, 153, 51, 1.0)",
           "width": 1
          }
         },
         "name": "None",
         "orientation": "v",
         "text": "",
         "type": "bar",
         "x": [
          "A",
          "B",
          "C",
          "D"
         ],
         "y": [
          100,
          100,
          100,
          100
         ]
        }
       ],
       "layout": {
        "legend": {
         "bgcolor": "#F5F6F9",
         "font": {
          "color": "#4D5663"
         }
        },
        "paper_bgcolor": "#F5F6F9",
        "plot_bgcolor": "#F5F6F9",
        "template": {
         "data": {
          "bar": [
           {
            "error_x": {
             "color": "#2a3f5f"
            },
            "error_y": {
             "color": "#2a3f5f"
            },
            "marker": {
             "line": {
              "color": "#E5ECF6",
              "width": 0.5
             }
            },
            "type": "bar"
           }
          ],
          "barpolar": [
           {
            "marker": {
             "line": {
              "color": "#E5ECF6",
              "width": 0.5
             }
            },
            "type": "barpolar"
           }
          ],
          "carpet": [
           {
            "aaxis": {
             "endlinecolor": "#2a3f5f",
             "gridcolor": "white",
             "linecolor": "white",
             "minorgridcolor": "white",
             "startlinecolor": "#2a3f5f"
            },
            "baxis": {
             "endlinecolor": "#2a3f5f",
             "gridcolor": "white",
             "linecolor": "white",
             "minorgridcolor": "white",
             "startlinecolor": "#2a3f5f"
            },
            "type": "carpet"
           }
          ],
          "choropleth": [
           {
            "colorbar": {
             "outlinewidth": 0,
             "ticks": ""
            },
            "type": "choropleth"
           }
          ],
          "contour": [
           {
            "colorbar": {
             "outlinewidth": 0,
             "ticks": ""
            },
            "colorscale": [
             [
              0,
              "#0d0887"
             ],
             [
              0.1111111111111111,
              "#46039f"
             ],
             [
              0.2222222222222222,
              "#7201a8"
             ],
             [
              0.3333333333333333,
              "#9c179e"
             ],
             [
              0.4444444444444444,
              "#bd3786"
             ],
             [
              0.5555555555555556,
              "#d8576b"
             ],
             [
              0.6666666666666666,
              "#ed7953"
             ],
             [
              0.7777777777777778,
              "#fb9f3a"
             ],
             [
              0.8888888888888888,
              "#fdca26"
             ],
             [
              1,
              "#f0f921"
             ]
            ],
            "type": "contour"
           }
          ],
          "contourcarpet": [
           {
            "colorbar": {
             "outlinewidth": 0,
             "ticks": ""
            },
            "type": "contourcarpet"
           }
          ],
          "heatmap": [
           {
            "colorbar": {
             "outlinewidth": 0,
             "ticks": ""
            },
            "colorscale": [
             [
              0,
              "#0d0887"
             ],
             [
              0.1111111111111111,
              "#46039f"
             ],
             [
              0.2222222222222222,
              "#7201a8"
             ],
             [
              0.3333333333333333,
              "#9c179e"
             ],
             [
              0.4444444444444444,
              "#bd3786"
             ],
             [
              0.5555555555555556,
              "#d8576b"
             ],
             [
              0.6666666666666666,
              "#ed7953"
             ],
             [
              0.7777777777777778,
              "#fb9f3a"
             ],
             [
              0.8888888888888888,
              "#fdca26"
             ],
             [
              1,
              "#f0f921"
             ]
            ],
            "type": "heatmap"
           }
          ],
          "heatmapgl": [
           {
            "colorbar": {
             "outlinewidth": 0,
             "ticks": ""
            },
            "colorscale": [
             [
              0,
              "#0d0887"
             ],
             [
              0.1111111111111111,
              "#46039f"
             ],
             [
              0.2222222222222222,
              "#7201a8"
             ],
             [
              0.3333333333333333,
              "#9c179e"
             ],
             [
              0.4444444444444444,
              "#bd3786"
             ],
             [
              0.5555555555555556,
              "#d8576b"
             ],
             [
              0.6666666666666666,
              "#ed7953"
             ],
             [
              0.7777777777777778,
              "#fb9f3a"
             ],
             [
              0.8888888888888888,
              "#fdca26"
             ],
             [
              1,
              "#f0f921"
             ]
            ],
            "type": "heatmapgl"
           }
          ],
          "histogram": [
           {
            "marker": {
             "colorbar": {
              "outlinewidth": 0,
              "ticks": ""
             }
            },
            "type": "histogram"
           }
          ],
          "histogram2d": [
           {
            "colorbar": {
             "outlinewidth": 0,
             "ticks": ""
            },
            "colorscale": [
             [
              0,
              "#0d0887"
             ],
             [
              0.1111111111111111,
              "#46039f"
             ],
             [
              0.2222222222222222,
              "#7201a8"
             ],
             [
              0.3333333333333333,
              "#9c179e"
             ],
             [
              0.4444444444444444,
              "#bd3786"
             ],
             [
              0.5555555555555556,
              "#d8576b"
             ],
             [
              0.6666666666666666,
              "#ed7953"
             ],
             [
              0.7777777777777778,
              "#fb9f3a"
             ],
             [
              0.8888888888888888,
              "#fdca26"
             ],
             [
              1,
              "#f0f921"
             ]
            ],
            "type": "histogram2d"
           }
          ],
          "histogram2dcontour": [
           {
            "colorbar": {
             "outlinewidth": 0,
             "ticks": ""
            },
            "colorscale": [
             [
              0,
              "#0d0887"
             ],
             [
              0.1111111111111111,
              "#46039f"
             ],
             [
              0.2222222222222222,
              "#7201a8"
             ],
             [
              0.3333333333333333,
              "#9c179e"
             ],
             [
              0.4444444444444444,
              "#bd3786"
             ],
             [
              0.5555555555555556,
              "#d8576b"
             ],
             [
              0.6666666666666666,
              "#ed7953"
             ],
             [
              0.7777777777777778,
              "#fb9f3a"
             ],
             [
              0.8888888888888888,
              "#fdca26"
             ],
             [
              1,
              "#f0f921"
             ]
            ],
            "type": "histogram2dcontour"
           }
          ],
          "mesh3d": [
           {
            "colorbar": {
             "outlinewidth": 0,
             "ticks": ""
            },
            "type": "mesh3d"
           }
          ],
          "parcoords": [
           {
            "line": {
             "colorbar": {
              "outlinewidth": 0,
              "ticks": ""
             }
            },
            "type": "parcoords"
           }
          ],
          "pie": [
           {
            "automargin": true,
            "type": "pie"
           }
          ],
          "scatter": [
           {
            "marker": {
             "colorbar": {
              "outlinewidth": 0,
              "ticks": ""
             }
            },
            "type": "scatter"
           }
          ],
          "scatter3d": [
           {
            "line": {
             "colorbar": {
              "outlinewidth": 0,
              "ticks": ""
             }
            },
            "marker": {
             "colorbar": {
              "outlinewidth": 0,
              "ticks": ""
             }
            },
            "type": "scatter3d"
           }
          ],
          "scattercarpet": [
           {
            "marker": {
             "colorbar": {
              "outlinewidth": 0,
              "ticks": ""
             }
            },
            "type": "scattercarpet"
           }
          ],
          "scattergeo": [
           {
            "marker": {
             "colorbar": {
              "outlinewidth": 0,
              "ticks": ""
             }
            },
            "type": "scattergeo"
           }
          ],
          "scattergl": [
           {
            "marker": {
             "colorbar": {
              "outlinewidth": 0,
              "ticks": ""
             }
            },
            "type": "scattergl"
           }
          ],
          "scattermapbox": [
           {
            "marker": {
             "colorbar": {
              "outlinewidth": 0,
              "ticks": ""
             }
            },
            "type": "scattermapbox"
           }
          ],
          "scatterpolar": [
           {
            "marker": {
             "colorbar": {
              "outlinewidth": 0,
              "ticks": ""
             }
            },
            "type": "scatterpolar"
           }
          ],
          "scatterpolargl": [
           {
            "marker": {
             "colorbar": {
              "outlinewidth": 0,
              "ticks": ""
             }
            },
            "type": "scatterpolargl"
           }
          ],
          "scatterternary": [
           {
            "marker": {
             "colorbar": {
              "outlinewidth": 0,
              "ticks": ""
             }
            },
            "type": "scatterternary"
           }
          ],
          "surface": [
           {
            "colorbar": {
             "outlinewidth": 0,
             "ticks": ""
            },
            "colorscale": [
             [
              0,
              "#0d0887"
             ],
             [
              0.1111111111111111,
              "#46039f"
             ],
             [
              0.2222222222222222,
              "#7201a8"
             ],
             [
              0.3333333333333333,
              "#9c179e"
             ],
             [
              0.4444444444444444,
              "#bd3786"
             ],
             [
              0.5555555555555556,
              "#d8576b"
             ],
             [
              0.6666666666666666,
              "#ed7953"
             ],
             [
              0.7777777777777778,
              "#fb9f3a"
             ],
             [
              0.8888888888888888,
              "#fdca26"
             ],
             [
              1,
              "#f0f921"
             ]
            ],
            "type": "surface"
           }
          ],
          "table": [
           {
            "cells": {
             "fill": {
              "color": "#EBF0F8"
             },
             "line": {
              "color": "white"
             }
            },
            "header": {
             "fill": {
              "color": "#C8D4E3"
             },
             "line": {
              "color": "white"
             }
            },
            "type": "table"
           }
          ]
         },
         "layout": {
          "annotationdefaults": {
           "arrowcolor": "#2a3f5f",
           "arrowhead": 0,
           "arrowwidth": 1
          },
          "coloraxis": {
           "colorbar": {
            "outlinewidth": 0,
            "ticks": ""
           }
          },
          "colorscale": {
           "diverging": [
            [
             0,
             "#8e0152"
            ],
            [
             0.1,
             "#c51b7d"
            ],
            [
             0.2,
             "#de77ae"
            ],
            [
             0.3,
             "#f1b6da"
            ],
            [
             0.4,
             "#fde0ef"
            ],
            [
             0.5,
             "#f7f7f7"
            ],
            [
             0.6,
             "#e6f5d0"
            ],
            [
             0.7,
             "#b8e186"
            ],
            [
             0.8,
             "#7fbc41"
            ],
            [
             0.9,
             "#4d9221"
            ],
            [
             1,
             "#276419"
            ]
           ],
           "sequential": [
            [
             0,
             "#0d0887"
            ],
            [
             0.1111111111111111,
             "#46039f"
            ],
            [
             0.2222222222222222,
             "#7201a8"
            ],
            [
             0.3333333333333333,
             "#9c179e"
            ],
            [
             0.4444444444444444,
             "#bd3786"
            ],
            [
             0.5555555555555556,
             "#d8576b"
            ],
            [
             0.6666666666666666,
             "#ed7953"
            ],
            [
             0.7777777777777778,
             "#fb9f3a"
            ],
            [
             0.8888888888888888,
             "#fdca26"
            ],
            [
             1,
             "#f0f921"
            ]
           ],
           "sequentialminus": [
            [
             0,
             "#0d0887"
            ],
            [
             0.1111111111111111,
             "#46039f"
            ],
            [
             0.2222222222222222,
             "#7201a8"
            ],
            [
             0.3333333333333333,
             "#9c179e"
            ],
            [
             0.4444444444444444,
             "#bd3786"
            ],
            [
             0.5555555555555556,
             "#d8576b"
            ],
            [
             0.6666666666666666,
             "#ed7953"
            ],
            [
             0.7777777777777778,
             "#fb9f3a"
            ],
            [
             0.8888888888888888,
             "#fdca26"
            ],
            [
             1,
             "#f0f921"
            ]
           ]
          },
          "colorway": [
           "#636efa",
           "#EF553B",
           "#00cc96",
           "#ab63fa",
           "#FFA15A",
           "#19d3f3",
           "#FF6692",
           "#B6E880",
           "#FF97FF",
           "#FECB52"
          ],
          "font": {
           "color": "#2a3f5f"
          },
          "geo": {
           "bgcolor": "white",
           "lakecolor": "white",
           "landcolor": "#E5ECF6",
           "showlakes": true,
           "showland": true,
           "subunitcolor": "white"
          },
          "hoverlabel": {
           "align": "left"
          },
          "hovermode": "closest",
          "mapbox": {
           "style": "light"
          },
          "paper_bgcolor": "white",
          "plot_bgcolor": "#E5ECF6",
          "polar": {
           "angularaxis": {
            "gridcolor": "white",
            "linecolor": "white",
            "ticks": ""
           },
           "bgcolor": "#E5ECF6",
           "radialaxis": {
            "gridcolor": "white",
            "linecolor": "white",
            "ticks": ""
           }
          },
          "scene": {
           "xaxis": {
            "backgroundcolor": "#E5ECF6",
            "gridcolor": "white",
            "gridwidth": 2,
            "linecolor": "white",
            "showbackground": true,
            "ticks": "",
            "zerolinecolor": "white"
           },
           "yaxis": {
            "backgroundcolor": "#E5ECF6",
            "gridcolor": "white",
            "gridwidth": 2,
            "linecolor": "white",
            "showbackground": true,
            "ticks": "",
            "zerolinecolor": "white"
           },
           "zaxis": {
            "backgroundcolor": "#E5ECF6",
            "gridcolor": "white",
            "gridwidth": 2,
            "linecolor": "white",
            "showbackground": true,
            "ticks": "",
            "zerolinecolor": "white"
           }
          },
          "shapedefaults": {
           "line": {
            "color": "#2a3f5f"
           }
          },
          "ternary": {
           "aaxis": {
            "gridcolor": "white",
            "linecolor": "white",
            "ticks": ""
           },
           "baxis": {
            "gridcolor": "white",
            "linecolor": "white",
            "ticks": ""
           },
           "bgcolor": "#E5ECF6",
           "caxis": {
            "gridcolor": "white",
            "linecolor": "white",
            "ticks": ""
           }
          },
          "title": {
           "x": 0.05
          },
          "xaxis": {
           "automargin": true,
           "gridcolor": "white",
           "linecolor": "white",
           "ticks": "",
           "title": {
            "standoff": 15
           },
           "zerolinecolor": "white",
           "zerolinewidth": 2
          },
          "yaxis": {
           "automargin": true,
           "gridcolor": "white",
           "linecolor": "white",
           "ticks": "",
           "title": {
            "standoff": 15
           },
           "zerolinecolor": "white",
           "zerolinewidth": 2
          }
         }
        },
        "title": {
         "font": {
          "color": "#4D5663"
         }
        },
        "xaxis": {
         "gridcolor": "#E1E5ED",
         "showgrid": true,
         "tickfont": {
          "color": "#4D5663"
         },
         "title": {
          "font": {
           "color": "#4D5663"
          },
          "text": ""
         },
         "zerolinecolor": "#E1E5ED"
        },
        "yaxis": {
         "gridcolor": "#E1E5ED",
         "showgrid": true,
         "tickfont": {
          "color": "#4D5663"
         },
         "title": {
          "font": {
           "color": "#4D5663"
          },
          "text": ""
         },
         "zerolinecolor": "#E1E5ED"
        }
       }
      },
      "text/html": [
       "<div>\n",
       "        \n",
       "        \n",
       "            <div id=\"62b33f87-8218-407e-b87e-9160ebbed58b\" class=\"plotly-graph-div\" style=\"height:525px; width:100%;\"></div>\n",
       "            <script type=\"text/javascript\">\n",
       "                require([\"plotly\"], function(Plotly) {\n",
       "                    window.PLOTLYENV=window.PLOTLYENV || {};\n",
       "                    window.PLOTLYENV.BASE_URL='https://plot.ly';\n",
       "                    \n",
       "                if (document.getElementById(\"62b33f87-8218-407e-b87e-9160ebbed58b\")) {\n",
       "                    Plotly.newPlot(\n",
       "                        '62b33f87-8218-407e-b87e-9160ebbed58b',\n",
       "                        [{\"marker\": {\"color\": \"rgba(255, 153, 51, 0.6)\", \"line\": {\"color\": \"rgba(255, 153, 51, 1.0)\", \"width\": 1}}, \"name\": \"None\", \"orientation\": \"v\", \"text\": \"\", \"type\": \"bar\", \"x\": [\"A\", \"B\", \"C\", \"D\"], \"y\": [100, 100, 100, 100]}],\n",
       "                        {\"legend\": {\"bgcolor\": \"#F5F6F9\", \"font\": {\"color\": \"#4D5663\"}}, \"paper_bgcolor\": \"#F5F6F9\", \"plot_bgcolor\": \"#F5F6F9\", \"template\": {\"data\": {\"bar\": [{\"error_x\": {\"color\": \"#2a3f5f\"}, \"error_y\": {\"color\": \"#2a3f5f\"}, \"marker\": {\"line\": {\"color\": \"#E5ECF6\", \"width\": 0.5}}, \"type\": \"bar\"}], \"barpolar\": [{\"marker\": {\"line\": {\"color\": \"#E5ECF6\", \"width\": 0.5}}, \"type\": \"barpolar\"}], \"carpet\": [{\"aaxis\": {\"endlinecolor\": \"#2a3f5f\", \"gridcolor\": \"white\", \"linecolor\": \"white\", \"minorgridcolor\": \"white\", \"startlinecolor\": \"#2a3f5f\"}, \"baxis\": {\"endlinecolor\": \"#2a3f5f\", \"gridcolor\": \"white\", \"linecolor\": \"white\", \"minorgridcolor\": \"white\", \"startlinecolor\": \"#2a3f5f\"}, \"type\": \"carpet\"}], \"choropleth\": [{\"colorbar\": {\"outlinewidth\": 0, \"ticks\": \"\"}, \"type\": \"choropleth\"}], \"contour\": [{\"colorbar\": {\"outlinewidth\": 0, \"ticks\": \"\"}, \"colorscale\": [[0.0, \"#0d0887\"], [0.1111111111111111, \"#46039f\"], [0.2222222222222222, \"#7201a8\"], [0.3333333333333333, \"#9c179e\"], [0.4444444444444444, \"#bd3786\"], [0.5555555555555556, \"#d8576b\"], [0.6666666666666666, \"#ed7953\"], [0.7777777777777778, \"#fb9f3a\"], [0.8888888888888888, \"#fdca26\"], [1.0, \"#f0f921\"]], \"type\": \"contour\"}], \"contourcarpet\": [{\"colorbar\": {\"outlinewidth\": 0, \"ticks\": \"\"}, \"type\": \"contourcarpet\"}], \"heatmap\": [{\"colorbar\": {\"outlinewidth\": 0, \"ticks\": \"\"}, \"colorscale\": [[0.0, \"#0d0887\"], [0.1111111111111111, \"#46039f\"], [0.2222222222222222, \"#7201a8\"], [0.3333333333333333, \"#9c179e\"], [0.4444444444444444, \"#bd3786\"], [0.5555555555555556, \"#d8576b\"], [0.6666666666666666, \"#ed7953\"], [0.7777777777777778, \"#fb9f3a\"], [0.8888888888888888, \"#fdca26\"], [1.0, \"#f0f921\"]], \"type\": \"heatmap\"}], \"heatmapgl\": [{\"colorbar\": {\"outlinewidth\": 0, \"ticks\": \"\"}, \"colorscale\": [[0.0, \"#0d0887\"], [0.1111111111111111, \"#46039f\"], [0.2222222222222222, \"#7201a8\"], [0.3333333333333333, \"#9c179e\"], [0.4444444444444444, \"#bd3786\"], [0.5555555555555556, \"#d8576b\"], [0.6666666666666666, \"#ed7953\"], [0.7777777777777778, \"#fb9f3a\"], [0.8888888888888888, \"#fdca26\"], [1.0, \"#f0f921\"]], \"type\": \"heatmapgl\"}], \"histogram\": [{\"marker\": {\"colorbar\": {\"outlinewidth\": 0, \"ticks\": \"\"}}, \"type\": \"histogram\"}], \"histogram2d\": [{\"colorbar\": {\"outlinewidth\": 0, \"ticks\": \"\"}, \"colorscale\": [[0.0, \"#0d0887\"], [0.1111111111111111, \"#46039f\"], [0.2222222222222222, \"#7201a8\"], [0.3333333333333333, \"#9c179e\"], [0.4444444444444444, \"#bd3786\"], [0.5555555555555556, \"#d8576b\"], [0.6666666666666666, \"#ed7953\"], [0.7777777777777778, \"#fb9f3a\"], [0.8888888888888888, \"#fdca26\"], [1.0, \"#f0f921\"]], \"type\": \"histogram2d\"}], \"histogram2dcontour\": [{\"colorbar\": {\"outlinewidth\": 0, \"ticks\": \"\"}, \"colorscale\": [[0.0, \"#0d0887\"], [0.1111111111111111, \"#46039f\"], [0.2222222222222222, \"#7201a8\"], [0.3333333333333333, \"#9c179e\"], [0.4444444444444444, \"#bd3786\"], [0.5555555555555556, \"#d8576b\"], [0.6666666666666666, \"#ed7953\"], [0.7777777777777778, \"#fb9f3a\"], [0.8888888888888888, \"#fdca26\"], [1.0, \"#f0f921\"]], \"type\": \"histogram2dcontour\"}], \"mesh3d\": [{\"colorbar\": {\"outlinewidth\": 0, \"ticks\": \"\"}, \"type\": \"mesh3d\"}], \"parcoords\": [{\"line\": {\"colorbar\": {\"outlinewidth\": 0, \"ticks\": \"\"}}, \"type\": \"parcoords\"}], \"pie\": [{\"automargin\": true, \"type\": \"pie\"}], \"scatter\": [{\"marker\": {\"colorbar\": {\"outlinewidth\": 0, \"ticks\": \"\"}}, \"type\": \"scatter\"}], \"scatter3d\": [{\"line\": {\"colorbar\": {\"outlinewidth\": 0, \"ticks\": \"\"}}, \"marker\": {\"colorbar\": {\"outlinewidth\": 0, \"ticks\": \"\"}}, \"type\": \"scatter3d\"}], \"scattercarpet\": [{\"marker\": {\"colorbar\": {\"outlinewidth\": 0, \"ticks\": \"\"}}, \"type\": \"scattercarpet\"}], \"scattergeo\": [{\"marker\": {\"colorbar\": {\"outlinewidth\": 0, \"ticks\": \"\"}}, \"type\": \"scattergeo\"}], \"scattergl\": [{\"marker\": {\"colorbar\": {\"outlinewidth\": 0, \"ticks\": \"\"}}, \"type\": \"scattergl\"}], \"scattermapbox\": [{\"marker\": {\"colorbar\": {\"outlinewidth\": 0, \"ticks\": \"\"}}, \"type\": \"scattermapbox\"}], \"scatterpolar\": [{\"marker\": {\"colorbar\": {\"outlinewidth\": 0, \"ticks\": \"\"}}, \"type\": \"scatterpolar\"}], \"scatterpolargl\": [{\"marker\": {\"colorbar\": {\"outlinewidth\": 0, \"ticks\": \"\"}}, \"type\": \"scatterpolargl\"}], \"scatterternary\": [{\"marker\": {\"colorbar\": {\"outlinewidth\": 0, \"ticks\": \"\"}}, \"type\": \"scatterternary\"}], \"surface\": [{\"colorbar\": {\"outlinewidth\": 0, \"ticks\": \"\"}, \"colorscale\": [[0.0, \"#0d0887\"], [0.1111111111111111, \"#46039f\"], [0.2222222222222222, \"#7201a8\"], [0.3333333333333333, \"#9c179e\"], [0.4444444444444444, \"#bd3786\"], [0.5555555555555556, \"#d8576b\"], [0.6666666666666666, \"#ed7953\"], [0.7777777777777778, \"#fb9f3a\"], [0.8888888888888888, \"#fdca26\"], [1.0, \"#f0f921\"]], \"type\": \"surface\"}], \"table\": [{\"cells\": {\"fill\": {\"color\": \"#EBF0F8\"}, \"line\": {\"color\": \"white\"}}, \"header\": {\"fill\": {\"color\": \"#C8D4E3\"}, \"line\": {\"color\": \"white\"}}, \"type\": \"table\"}]}, \"layout\": {\"annotationdefaults\": {\"arrowcolor\": \"#2a3f5f\", \"arrowhead\": 0, \"arrowwidth\": 1}, \"coloraxis\": {\"colorbar\": {\"outlinewidth\": 0, \"ticks\": \"\"}}, \"colorscale\": {\"diverging\": [[0, \"#8e0152\"], [0.1, \"#c51b7d\"], [0.2, \"#de77ae\"], [0.3, \"#f1b6da\"], [0.4, \"#fde0ef\"], [0.5, \"#f7f7f7\"], [0.6, \"#e6f5d0\"], [0.7, \"#b8e186\"], [0.8, \"#7fbc41\"], [0.9, \"#4d9221\"], [1, \"#276419\"]], \"sequential\": [[0.0, \"#0d0887\"], [0.1111111111111111, \"#46039f\"], [0.2222222222222222, \"#7201a8\"], [0.3333333333333333, \"#9c179e\"], [0.4444444444444444, \"#bd3786\"], [0.5555555555555556, \"#d8576b\"], [0.6666666666666666, \"#ed7953\"], [0.7777777777777778, \"#fb9f3a\"], [0.8888888888888888, \"#fdca26\"], [1.0, \"#f0f921\"]], \"sequentialminus\": [[0.0, \"#0d0887\"], [0.1111111111111111, \"#46039f\"], [0.2222222222222222, \"#7201a8\"], [0.3333333333333333, \"#9c179e\"], [0.4444444444444444, \"#bd3786\"], [0.5555555555555556, \"#d8576b\"], [0.6666666666666666, \"#ed7953\"], [0.7777777777777778, \"#fb9f3a\"], [0.8888888888888888, \"#fdca26\"], [1.0, \"#f0f921\"]]}, \"colorway\": [\"#636efa\", \"#EF553B\", \"#00cc96\", \"#ab63fa\", \"#FFA15A\", \"#19d3f3\", \"#FF6692\", \"#B6E880\", \"#FF97FF\", \"#FECB52\"], \"font\": {\"color\": \"#2a3f5f\"}, \"geo\": {\"bgcolor\": \"white\", \"lakecolor\": \"white\", \"landcolor\": \"#E5ECF6\", \"showlakes\": true, \"showland\": true, \"subunitcolor\": \"white\"}, \"hoverlabel\": {\"align\": \"left\"}, \"hovermode\": \"closest\", \"mapbox\": {\"style\": \"light\"}, \"paper_bgcolor\": \"white\", \"plot_bgcolor\": \"#E5ECF6\", \"polar\": {\"angularaxis\": {\"gridcolor\": \"white\", \"linecolor\": \"white\", \"ticks\": \"\"}, \"bgcolor\": \"#E5ECF6\", \"radialaxis\": {\"gridcolor\": \"white\", \"linecolor\": \"white\", \"ticks\": \"\"}}, \"scene\": {\"xaxis\": {\"backgroundcolor\": \"#E5ECF6\", \"gridcolor\": \"white\", \"gridwidth\": 2, \"linecolor\": \"white\", \"showbackground\": true, \"ticks\": \"\", \"zerolinecolor\": \"white\"}, \"yaxis\": {\"backgroundcolor\": \"#E5ECF6\", \"gridcolor\": \"white\", \"gridwidth\": 2, \"linecolor\": \"white\", \"showbackground\": true, \"ticks\": \"\", \"zerolinecolor\": \"white\"}, \"zaxis\": {\"backgroundcolor\": \"#E5ECF6\", \"gridcolor\": \"white\", \"gridwidth\": 2, \"linecolor\": \"white\", \"showbackground\": true, \"ticks\": \"\", \"zerolinecolor\": \"white\"}}, \"shapedefaults\": {\"line\": {\"color\": \"#2a3f5f\"}}, \"ternary\": {\"aaxis\": {\"gridcolor\": \"white\", \"linecolor\": \"white\", \"ticks\": \"\"}, \"baxis\": {\"gridcolor\": \"white\", \"linecolor\": \"white\", \"ticks\": \"\"}, \"bgcolor\": \"#E5ECF6\", \"caxis\": {\"gridcolor\": \"white\", \"linecolor\": \"white\", \"ticks\": \"\"}}, \"title\": {\"x\": 0.05}, \"xaxis\": {\"automargin\": true, \"gridcolor\": \"white\", \"linecolor\": \"white\", \"ticks\": \"\", \"title\": {\"standoff\": 15}, \"zerolinecolor\": \"white\", \"zerolinewidth\": 2}, \"yaxis\": {\"automargin\": true, \"gridcolor\": \"white\", \"linecolor\": \"white\", \"ticks\": \"\", \"title\": {\"standoff\": 15}, \"zerolinecolor\": \"white\", \"zerolinewidth\": 2}}}, \"title\": {\"font\": {\"color\": \"#4D5663\"}}, \"xaxis\": {\"gridcolor\": \"#E1E5ED\", \"showgrid\": true, \"tickfont\": {\"color\": \"#4D5663\"}, \"title\": {\"font\": {\"color\": \"#4D5663\"}, \"text\": \"\"}, \"zerolinecolor\": \"#E1E5ED\"}, \"yaxis\": {\"gridcolor\": \"#E1E5ED\", \"showgrid\": true, \"tickfont\": {\"color\": \"#4D5663\"}, \"title\": {\"font\": {\"color\": \"#4D5663\"}, \"text\": \"\"}, \"zerolinecolor\": \"#E1E5ED\"}},\n",
       "                        {\"showLink\": true, \"linkText\": \"Export to plot.ly\", \"plotlyServerURL\": \"https://plot.ly\", \"responsive\": true}\n",
       "                    ).then(function(){\n",
       "                            \n",
       "var gd = document.getElementById('62b33f87-8218-407e-b87e-9160ebbed58b');\n",
       "var x = new MutationObserver(function (mutations, observer) {{\n",
       "        var display = window.getComputedStyle(gd).display;\n",
       "        if (!display || display === 'none') {{\n",
       "            console.log([gd, 'removed!']);\n",
       "            Plotly.purge(gd);\n",
       "            observer.disconnect();\n",
       "        }}\n",
       "}});\n",
       "\n",
       "// Listen for the removal of the full notebook cells\n",
       "var notebookContainer = gd.closest('#notebook-container');\n",
       "if (notebookContainer) {{\n",
       "    x.observe(notebookContainer, {childList: true});\n",
       "}}\n",
       "\n",
       "// Listen for the clearing of the current output cell\n",
       "var outputEl = gd.closest('.output');\n",
       "if (outputEl) {{\n",
       "    x.observe(outputEl, {childList: true});\n",
       "}}\n",
       "\n",
       "                        })\n",
       "                };\n",
       "                });\n",
       "            </script>\n",
       "        </div>"
      ]
     },
     "metadata": {},
     "output_type": "display_data"
    }
   ],
   "source": [
    "df.count().iplot(kind='bar')"
   ]
  },
  {
   "cell_type": "code",
   "execution_count": 24,
   "metadata": {},
   "outputs": [
    {
     "data": {
      "application/vnd.plotly.v1+json": {
       "config": {
        "linkText": "Export to plot.ly",
        "plotlyServerURL": "https://plot.ly",
        "showLink": true
       },
       "data": [
        {
         "marker": {
          "color": "rgba(255, 153, 51, 0.6)",
          "line": {
           "color": "rgba(255, 153, 51, 1.0)",
           "width": 1
          }
         },
         "name": "None",
         "orientation": "v",
         "text": "",
         "type": "bar",
         "x": [
          "A",
          "B",
          "C",
          "D"
         ],
         "y": [
          1.5823349009744798,
          -16.5300308932066,
          -0.705297897508447,
          -13.06430049120097
         ]
        }
       ],
       "layout": {
        "legend": {
         "bgcolor": "#F5F6F9",
         "font": {
          "color": "#4D5663"
         }
        },
        "paper_bgcolor": "#F5F6F9",
        "plot_bgcolor": "#F5F6F9",
        "template": {
         "data": {
          "bar": [
           {
            "error_x": {
             "color": "#2a3f5f"
            },
            "error_y": {
             "color": "#2a3f5f"
            },
            "marker": {
             "line": {
              "color": "#E5ECF6",
              "width": 0.5
             }
            },
            "type": "bar"
           }
          ],
          "barpolar": [
           {
            "marker": {
             "line": {
              "color": "#E5ECF6",
              "width": 0.5
             }
            },
            "type": "barpolar"
           }
          ],
          "carpet": [
           {
            "aaxis": {
             "endlinecolor": "#2a3f5f",
             "gridcolor": "white",
             "linecolor": "white",
             "minorgridcolor": "white",
             "startlinecolor": "#2a3f5f"
            },
            "baxis": {
             "endlinecolor": "#2a3f5f",
             "gridcolor": "white",
             "linecolor": "white",
             "minorgridcolor": "white",
             "startlinecolor": "#2a3f5f"
            },
            "type": "carpet"
           }
          ],
          "choropleth": [
           {
            "colorbar": {
             "outlinewidth": 0,
             "ticks": ""
            },
            "type": "choropleth"
           }
          ],
          "contour": [
           {
            "colorbar": {
             "outlinewidth": 0,
             "ticks": ""
            },
            "colorscale": [
             [
              0,
              "#0d0887"
             ],
             [
              0.1111111111111111,
              "#46039f"
             ],
             [
              0.2222222222222222,
              "#7201a8"
             ],
             [
              0.3333333333333333,
              "#9c179e"
             ],
             [
              0.4444444444444444,
              "#bd3786"
             ],
             [
              0.5555555555555556,
              "#d8576b"
             ],
             [
              0.6666666666666666,
              "#ed7953"
             ],
             [
              0.7777777777777778,
              "#fb9f3a"
             ],
             [
              0.8888888888888888,
              "#fdca26"
             ],
             [
              1,
              "#f0f921"
             ]
            ],
            "type": "contour"
           }
          ],
          "contourcarpet": [
           {
            "colorbar": {
             "outlinewidth": 0,
             "ticks": ""
            },
            "type": "contourcarpet"
           }
          ],
          "heatmap": [
           {
            "colorbar": {
             "outlinewidth": 0,
             "ticks": ""
            },
            "colorscale": [
             [
              0,
              "#0d0887"
             ],
             [
              0.1111111111111111,
              "#46039f"
             ],
             [
              0.2222222222222222,
              "#7201a8"
             ],
             [
              0.3333333333333333,
              "#9c179e"
             ],
             [
              0.4444444444444444,
              "#bd3786"
             ],
             [
              0.5555555555555556,
              "#d8576b"
             ],
             [
              0.6666666666666666,
              "#ed7953"
             ],
             [
              0.7777777777777778,
              "#fb9f3a"
             ],
             [
              0.8888888888888888,
              "#fdca26"
             ],
             [
              1,
              "#f0f921"
             ]
            ],
            "type": "heatmap"
           }
          ],
          "heatmapgl": [
           {
            "colorbar": {
             "outlinewidth": 0,
             "ticks": ""
            },
            "colorscale": [
             [
              0,
              "#0d0887"
             ],
             [
              0.1111111111111111,
              "#46039f"
             ],
             [
              0.2222222222222222,
              "#7201a8"
             ],
             [
              0.3333333333333333,
              "#9c179e"
             ],
             [
              0.4444444444444444,
              "#bd3786"
             ],
             [
              0.5555555555555556,
              "#d8576b"
             ],
             [
              0.6666666666666666,
              "#ed7953"
             ],
             [
              0.7777777777777778,
              "#fb9f3a"
             ],
             [
              0.8888888888888888,
              "#fdca26"
             ],
             [
              1,
              "#f0f921"
             ]
            ],
            "type": "heatmapgl"
           }
          ],
          "histogram": [
           {
            "marker": {
             "colorbar": {
              "outlinewidth": 0,
              "ticks": ""
             }
            },
            "type": "histogram"
           }
          ],
          "histogram2d": [
           {
            "colorbar": {
             "outlinewidth": 0,
             "ticks": ""
            },
            "colorscale": [
             [
              0,
              "#0d0887"
             ],
             [
              0.1111111111111111,
              "#46039f"
             ],
             [
              0.2222222222222222,
              "#7201a8"
             ],
             [
              0.3333333333333333,
              "#9c179e"
             ],
             [
              0.4444444444444444,
              "#bd3786"
             ],
             [
              0.5555555555555556,
              "#d8576b"
             ],
             [
              0.6666666666666666,
              "#ed7953"
             ],
             [
              0.7777777777777778,
              "#fb9f3a"
             ],
             [
              0.8888888888888888,
              "#fdca26"
             ],
             [
              1,
              "#f0f921"
             ]
            ],
            "type": "histogram2d"
           }
          ],
          "histogram2dcontour": [
           {
            "colorbar": {
             "outlinewidth": 0,
             "ticks": ""
            },
            "colorscale": [
             [
              0,
              "#0d0887"
             ],
             [
              0.1111111111111111,
              "#46039f"
             ],
             [
              0.2222222222222222,
              "#7201a8"
             ],
             [
              0.3333333333333333,
              "#9c179e"
             ],
             [
              0.4444444444444444,
              "#bd3786"
             ],
             [
              0.5555555555555556,
              "#d8576b"
             ],
             [
              0.6666666666666666,
              "#ed7953"
             ],
             [
              0.7777777777777778,
              "#fb9f3a"
             ],
             [
              0.8888888888888888,
              "#fdca26"
             ],
             [
              1,
              "#f0f921"
             ]
            ],
            "type": "histogram2dcontour"
           }
          ],
          "mesh3d": [
           {
            "colorbar": {
             "outlinewidth": 0,
             "ticks": ""
            },
            "type": "mesh3d"
           }
          ],
          "parcoords": [
           {
            "line": {
             "colorbar": {
              "outlinewidth": 0,
              "ticks": ""
             }
            },
            "type": "parcoords"
           }
          ],
          "pie": [
           {
            "automargin": true,
            "type": "pie"
           }
          ],
          "scatter": [
           {
            "marker": {
             "colorbar": {
              "outlinewidth": 0,
              "ticks": ""
             }
            },
            "type": "scatter"
           }
          ],
          "scatter3d": [
           {
            "line": {
             "colorbar": {
              "outlinewidth": 0,
              "ticks": ""
             }
            },
            "marker": {
             "colorbar": {
              "outlinewidth": 0,
              "ticks": ""
             }
            },
            "type": "scatter3d"
           }
          ],
          "scattercarpet": [
           {
            "marker": {
             "colorbar": {
              "outlinewidth": 0,
              "ticks": ""
             }
            },
            "type": "scattercarpet"
           }
          ],
          "scattergeo": [
           {
            "marker": {
             "colorbar": {
              "outlinewidth": 0,
              "ticks": ""
             }
            },
            "type": "scattergeo"
           }
          ],
          "scattergl": [
           {
            "marker": {
             "colorbar": {
              "outlinewidth": 0,
              "ticks": ""
             }
            },
            "type": "scattergl"
           }
          ],
          "scattermapbox": [
           {
            "marker": {
             "colorbar": {
              "outlinewidth": 0,
              "ticks": ""
             }
            },
            "type": "scattermapbox"
           }
          ],
          "scatterpolar": [
           {
            "marker": {
             "colorbar": {
              "outlinewidth": 0,
              "ticks": ""
             }
            },
            "type": "scatterpolar"
           }
          ],
          "scatterpolargl": [
           {
            "marker": {
             "colorbar": {
              "outlinewidth": 0,
              "ticks": ""
             }
            },
            "type": "scatterpolargl"
           }
          ],
          "scatterternary": [
           {
            "marker": {
             "colorbar": {
              "outlinewidth": 0,
              "ticks": ""
             }
            },
            "type": "scatterternary"
           }
          ],
          "surface": [
           {
            "colorbar": {
             "outlinewidth": 0,
             "ticks": ""
            },
            "colorscale": [
             [
              0,
              "#0d0887"
             ],
             [
              0.1111111111111111,
              "#46039f"
             ],
             [
              0.2222222222222222,
              "#7201a8"
             ],
             [
              0.3333333333333333,
              "#9c179e"
             ],
             [
              0.4444444444444444,
              "#bd3786"
             ],
             [
              0.5555555555555556,
              "#d8576b"
             ],
             [
              0.6666666666666666,
              "#ed7953"
             ],
             [
              0.7777777777777778,
              "#fb9f3a"
             ],
             [
              0.8888888888888888,
              "#fdca26"
             ],
             [
              1,
              "#f0f921"
             ]
            ],
            "type": "surface"
           }
          ],
          "table": [
           {
            "cells": {
             "fill": {
              "color": "#EBF0F8"
             },
             "line": {
              "color": "white"
             }
            },
            "header": {
             "fill": {
              "color": "#C8D4E3"
             },
             "line": {
              "color": "white"
             }
            },
            "type": "table"
           }
          ]
         },
         "layout": {
          "annotationdefaults": {
           "arrowcolor": "#2a3f5f",
           "arrowhead": 0,
           "arrowwidth": 1
          },
          "coloraxis": {
           "colorbar": {
            "outlinewidth": 0,
            "ticks": ""
           }
          },
          "colorscale": {
           "diverging": [
            [
             0,
             "#8e0152"
            ],
            [
             0.1,
             "#c51b7d"
            ],
            [
             0.2,
             "#de77ae"
            ],
            [
             0.3,
             "#f1b6da"
            ],
            [
             0.4,
             "#fde0ef"
            ],
            [
             0.5,
             "#f7f7f7"
            ],
            [
             0.6,
             "#e6f5d0"
            ],
            [
             0.7,
             "#b8e186"
            ],
            [
             0.8,
             "#7fbc41"
            ],
            [
             0.9,
             "#4d9221"
            ],
            [
             1,
             "#276419"
            ]
           ],
           "sequential": [
            [
             0,
             "#0d0887"
            ],
            [
             0.1111111111111111,
             "#46039f"
            ],
            [
             0.2222222222222222,
             "#7201a8"
            ],
            [
             0.3333333333333333,
             "#9c179e"
            ],
            [
             0.4444444444444444,
             "#bd3786"
            ],
            [
             0.5555555555555556,
             "#d8576b"
            ],
            [
             0.6666666666666666,
             "#ed7953"
            ],
            [
             0.7777777777777778,
             "#fb9f3a"
            ],
            [
             0.8888888888888888,
             "#fdca26"
            ],
            [
             1,
             "#f0f921"
            ]
           ],
           "sequentialminus": [
            [
             0,
             "#0d0887"
            ],
            [
             0.1111111111111111,
             "#46039f"
            ],
            [
             0.2222222222222222,
             "#7201a8"
            ],
            [
             0.3333333333333333,
             "#9c179e"
            ],
            [
             0.4444444444444444,
             "#bd3786"
            ],
            [
             0.5555555555555556,
             "#d8576b"
            ],
            [
             0.6666666666666666,
             "#ed7953"
            ],
            [
             0.7777777777777778,
             "#fb9f3a"
            ],
            [
             0.8888888888888888,
             "#fdca26"
            ],
            [
             1,
             "#f0f921"
            ]
           ]
          },
          "colorway": [
           "#636efa",
           "#EF553B",
           "#00cc96",
           "#ab63fa",
           "#FFA15A",
           "#19d3f3",
           "#FF6692",
           "#B6E880",
           "#FF97FF",
           "#FECB52"
          ],
          "font": {
           "color": "#2a3f5f"
          },
          "geo": {
           "bgcolor": "white",
           "lakecolor": "white",
           "landcolor": "#E5ECF6",
           "showlakes": true,
           "showland": true,
           "subunitcolor": "white"
          },
          "hoverlabel": {
           "align": "left"
          },
          "hovermode": "closest",
          "mapbox": {
           "style": "light"
          },
          "paper_bgcolor": "white",
          "plot_bgcolor": "#E5ECF6",
          "polar": {
           "angularaxis": {
            "gridcolor": "white",
            "linecolor": "white",
            "ticks": ""
           },
           "bgcolor": "#E5ECF6",
           "radialaxis": {
            "gridcolor": "white",
            "linecolor": "white",
            "ticks": ""
           }
          },
          "scene": {
           "xaxis": {
            "backgroundcolor": "#E5ECF6",
            "gridcolor": "white",
            "gridwidth": 2,
            "linecolor": "white",
            "showbackground": true,
            "ticks": "",
            "zerolinecolor": "white"
           },
           "yaxis": {
            "backgroundcolor": "#E5ECF6",
            "gridcolor": "white",
            "gridwidth": 2,
            "linecolor": "white",
            "showbackground": true,
            "ticks": "",
            "zerolinecolor": "white"
           },
           "zaxis": {
            "backgroundcolor": "#E5ECF6",
            "gridcolor": "white",
            "gridwidth": 2,
            "linecolor": "white",
            "showbackground": true,
            "ticks": "",
            "zerolinecolor": "white"
           }
          },
          "shapedefaults": {
           "line": {
            "color": "#2a3f5f"
           }
          },
          "ternary": {
           "aaxis": {
            "gridcolor": "white",
            "linecolor": "white",
            "ticks": ""
           },
           "baxis": {
            "gridcolor": "white",
            "linecolor": "white",
            "ticks": ""
           },
           "bgcolor": "#E5ECF6",
           "caxis": {
            "gridcolor": "white",
            "linecolor": "white",
            "ticks": ""
           }
          },
          "title": {
           "x": 0.05
          },
          "xaxis": {
           "automargin": true,
           "gridcolor": "white",
           "linecolor": "white",
           "ticks": "",
           "title": {
            "standoff": 15
           },
           "zerolinecolor": "white",
           "zerolinewidth": 2
          },
          "yaxis": {
           "automargin": true,
           "gridcolor": "white",
           "linecolor": "white",
           "ticks": "",
           "title": {
            "standoff": 15
           },
           "zerolinecolor": "white",
           "zerolinewidth": 2
          }
         }
        },
        "title": {
         "font": {
          "color": "#4D5663"
         }
        },
        "xaxis": {
         "gridcolor": "#E1E5ED",
         "showgrid": true,
         "tickfont": {
          "color": "#4D5663"
         },
         "title": {
          "font": {
           "color": "#4D5663"
          },
          "text": ""
         },
         "zerolinecolor": "#E1E5ED"
        },
        "yaxis": {
         "gridcolor": "#E1E5ED",
         "showgrid": true,
         "tickfont": {
          "color": "#4D5663"
         },
         "title": {
          "font": {
           "color": "#4D5663"
          },
          "text": ""
         },
         "zerolinecolor": "#E1E5ED"
        }
       }
      },
      "text/html": [
       "<div>\n",
       "        \n",
       "        \n",
       "            <div id=\"6c8520ea-da7a-4f0a-9fef-66cfc84191bb\" class=\"plotly-graph-div\" style=\"height:525px; width:100%;\"></div>\n",
       "            <script type=\"text/javascript\">\n",
       "                require([\"plotly\"], function(Plotly) {\n",
       "                    window.PLOTLYENV=window.PLOTLYENV || {};\n",
       "                    window.PLOTLYENV.BASE_URL='https://plot.ly';\n",
       "                    \n",
       "                if (document.getElementById(\"6c8520ea-da7a-4f0a-9fef-66cfc84191bb\")) {\n",
       "                    Plotly.newPlot(\n",
       "                        '6c8520ea-da7a-4f0a-9fef-66cfc84191bb',\n",
       "                        [{\"marker\": {\"color\": \"rgba(255, 153, 51, 0.6)\", \"line\": {\"color\": \"rgba(255, 153, 51, 1.0)\", \"width\": 1}}, \"name\": \"None\", \"orientation\": \"v\", \"text\": \"\", \"type\": \"bar\", \"x\": [\"A\", \"B\", \"C\", \"D\"], \"y\": [1.5823349009744798, -16.5300308932066, -0.705297897508447, -13.06430049120097]}],\n",
       "                        {\"legend\": {\"bgcolor\": \"#F5F6F9\", \"font\": {\"color\": \"#4D5663\"}}, \"paper_bgcolor\": \"#F5F6F9\", \"plot_bgcolor\": \"#F5F6F9\", \"template\": {\"data\": {\"bar\": [{\"error_x\": {\"color\": \"#2a3f5f\"}, \"error_y\": {\"color\": \"#2a3f5f\"}, \"marker\": {\"line\": {\"color\": \"#E5ECF6\", \"width\": 0.5}}, \"type\": \"bar\"}], \"barpolar\": [{\"marker\": {\"line\": {\"color\": \"#E5ECF6\", \"width\": 0.5}}, \"type\": \"barpolar\"}], \"carpet\": [{\"aaxis\": {\"endlinecolor\": \"#2a3f5f\", \"gridcolor\": \"white\", \"linecolor\": \"white\", \"minorgridcolor\": \"white\", \"startlinecolor\": \"#2a3f5f\"}, \"baxis\": {\"endlinecolor\": \"#2a3f5f\", \"gridcolor\": \"white\", \"linecolor\": \"white\", \"minorgridcolor\": \"white\", \"startlinecolor\": \"#2a3f5f\"}, \"type\": \"carpet\"}], \"choropleth\": [{\"colorbar\": {\"outlinewidth\": 0, \"ticks\": \"\"}, \"type\": \"choropleth\"}], \"contour\": [{\"colorbar\": {\"outlinewidth\": 0, \"ticks\": \"\"}, \"colorscale\": [[0.0, \"#0d0887\"], [0.1111111111111111, \"#46039f\"], [0.2222222222222222, \"#7201a8\"], [0.3333333333333333, \"#9c179e\"], [0.4444444444444444, \"#bd3786\"], [0.5555555555555556, \"#d8576b\"], [0.6666666666666666, \"#ed7953\"], [0.7777777777777778, \"#fb9f3a\"], [0.8888888888888888, \"#fdca26\"], [1.0, \"#f0f921\"]], \"type\": \"contour\"}], \"contourcarpet\": [{\"colorbar\": {\"outlinewidth\": 0, \"ticks\": \"\"}, \"type\": \"contourcarpet\"}], \"heatmap\": [{\"colorbar\": {\"outlinewidth\": 0, \"ticks\": \"\"}, \"colorscale\": [[0.0, \"#0d0887\"], [0.1111111111111111, \"#46039f\"], [0.2222222222222222, \"#7201a8\"], [0.3333333333333333, \"#9c179e\"], [0.4444444444444444, \"#bd3786\"], [0.5555555555555556, \"#d8576b\"], [0.6666666666666666, \"#ed7953\"], [0.7777777777777778, \"#fb9f3a\"], [0.8888888888888888, \"#fdca26\"], [1.0, \"#f0f921\"]], \"type\": \"heatmap\"}], \"heatmapgl\": [{\"colorbar\": {\"outlinewidth\": 0, \"ticks\": \"\"}, \"colorscale\": [[0.0, \"#0d0887\"], [0.1111111111111111, \"#46039f\"], [0.2222222222222222, \"#7201a8\"], [0.3333333333333333, \"#9c179e\"], [0.4444444444444444, \"#bd3786\"], [0.5555555555555556, \"#d8576b\"], [0.6666666666666666, \"#ed7953\"], [0.7777777777777778, \"#fb9f3a\"], [0.8888888888888888, \"#fdca26\"], [1.0, \"#f0f921\"]], \"type\": \"heatmapgl\"}], \"histogram\": [{\"marker\": {\"colorbar\": {\"outlinewidth\": 0, \"ticks\": \"\"}}, \"type\": \"histogram\"}], \"histogram2d\": [{\"colorbar\": {\"outlinewidth\": 0, \"ticks\": \"\"}, \"colorscale\": [[0.0, \"#0d0887\"], [0.1111111111111111, \"#46039f\"], [0.2222222222222222, \"#7201a8\"], [0.3333333333333333, \"#9c179e\"], [0.4444444444444444, \"#bd3786\"], [0.5555555555555556, \"#d8576b\"], [0.6666666666666666, \"#ed7953\"], [0.7777777777777778, \"#fb9f3a\"], [0.8888888888888888, \"#fdca26\"], [1.0, \"#f0f921\"]], \"type\": \"histogram2d\"}], \"histogram2dcontour\": [{\"colorbar\": {\"outlinewidth\": 0, \"ticks\": \"\"}, \"colorscale\": [[0.0, \"#0d0887\"], [0.1111111111111111, \"#46039f\"], [0.2222222222222222, \"#7201a8\"], [0.3333333333333333, \"#9c179e\"], [0.4444444444444444, \"#bd3786\"], [0.5555555555555556, \"#d8576b\"], [0.6666666666666666, \"#ed7953\"], [0.7777777777777778, \"#fb9f3a\"], [0.8888888888888888, \"#fdca26\"], [1.0, \"#f0f921\"]], \"type\": \"histogram2dcontour\"}], \"mesh3d\": [{\"colorbar\": {\"outlinewidth\": 0, \"ticks\": \"\"}, \"type\": \"mesh3d\"}], \"parcoords\": [{\"line\": {\"colorbar\": {\"outlinewidth\": 0, \"ticks\": \"\"}}, \"type\": \"parcoords\"}], \"pie\": [{\"automargin\": true, \"type\": \"pie\"}], \"scatter\": [{\"marker\": {\"colorbar\": {\"outlinewidth\": 0, \"ticks\": \"\"}}, \"type\": \"scatter\"}], \"scatter3d\": [{\"line\": {\"colorbar\": {\"outlinewidth\": 0, \"ticks\": \"\"}}, \"marker\": {\"colorbar\": {\"outlinewidth\": 0, \"ticks\": \"\"}}, \"type\": \"scatter3d\"}], \"scattercarpet\": [{\"marker\": {\"colorbar\": {\"outlinewidth\": 0, \"ticks\": \"\"}}, \"type\": \"scattercarpet\"}], \"scattergeo\": [{\"marker\": {\"colorbar\": {\"outlinewidth\": 0, \"ticks\": \"\"}}, \"type\": \"scattergeo\"}], \"scattergl\": [{\"marker\": {\"colorbar\": {\"outlinewidth\": 0, \"ticks\": \"\"}}, \"type\": \"scattergl\"}], \"scattermapbox\": [{\"marker\": {\"colorbar\": {\"outlinewidth\": 0, \"ticks\": \"\"}}, \"type\": \"scattermapbox\"}], \"scatterpolar\": [{\"marker\": {\"colorbar\": {\"outlinewidth\": 0, \"ticks\": \"\"}}, \"type\": \"scatterpolar\"}], \"scatterpolargl\": [{\"marker\": {\"colorbar\": {\"outlinewidth\": 0, \"ticks\": \"\"}}, \"type\": \"scatterpolargl\"}], \"scatterternary\": [{\"marker\": {\"colorbar\": {\"outlinewidth\": 0, \"ticks\": \"\"}}, \"type\": \"scatterternary\"}], \"surface\": [{\"colorbar\": {\"outlinewidth\": 0, \"ticks\": \"\"}, \"colorscale\": [[0.0, \"#0d0887\"], [0.1111111111111111, \"#46039f\"], [0.2222222222222222, \"#7201a8\"], [0.3333333333333333, \"#9c179e\"], [0.4444444444444444, \"#bd3786\"], [0.5555555555555556, \"#d8576b\"], [0.6666666666666666, \"#ed7953\"], [0.7777777777777778, \"#fb9f3a\"], [0.8888888888888888, \"#fdca26\"], [1.0, \"#f0f921\"]], \"type\": \"surface\"}], \"table\": [{\"cells\": {\"fill\": {\"color\": \"#EBF0F8\"}, \"line\": {\"color\": \"white\"}}, \"header\": {\"fill\": {\"color\": \"#C8D4E3\"}, \"line\": {\"color\": \"white\"}}, \"type\": \"table\"}]}, \"layout\": {\"annotationdefaults\": {\"arrowcolor\": \"#2a3f5f\", \"arrowhead\": 0, \"arrowwidth\": 1}, \"coloraxis\": {\"colorbar\": {\"outlinewidth\": 0, \"ticks\": \"\"}}, \"colorscale\": {\"diverging\": [[0, \"#8e0152\"], [0.1, \"#c51b7d\"], [0.2, \"#de77ae\"], [0.3, \"#f1b6da\"], [0.4, \"#fde0ef\"], [0.5, \"#f7f7f7\"], [0.6, \"#e6f5d0\"], [0.7, \"#b8e186\"], [0.8, \"#7fbc41\"], [0.9, \"#4d9221\"], [1, \"#276419\"]], \"sequential\": [[0.0, \"#0d0887\"], [0.1111111111111111, \"#46039f\"], [0.2222222222222222, \"#7201a8\"], [0.3333333333333333, \"#9c179e\"], [0.4444444444444444, \"#bd3786\"], [0.5555555555555556, \"#d8576b\"], [0.6666666666666666, \"#ed7953\"], [0.7777777777777778, \"#fb9f3a\"], [0.8888888888888888, \"#fdca26\"], [1.0, \"#f0f921\"]], \"sequentialminus\": [[0.0, \"#0d0887\"], [0.1111111111111111, \"#46039f\"], [0.2222222222222222, \"#7201a8\"], [0.3333333333333333, \"#9c179e\"], [0.4444444444444444, \"#bd3786\"], [0.5555555555555556, \"#d8576b\"], [0.6666666666666666, \"#ed7953\"], [0.7777777777777778, \"#fb9f3a\"], [0.8888888888888888, \"#fdca26\"], [1.0, \"#f0f921\"]]}, \"colorway\": [\"#636efa\", \"#EF553B\", \"#00cc96\", \"#ab63fa\", \"#FFA15A\", \"#19d3f3\", \"#FF6692\", \"#B6E880\", \"#FF97FF\", \"#FECB52\"], \"font\": {\"color\": \"#2a3f5f\"}, \"geo\": {\"bgcolor\": \"white\", \"lakecolor\": \"white\", \"landcolor\": \"#E5ECF6\", \"showlakes\": true, \"showland\": true, \"subunitcolor\": \"white\"}, \"hoverlabel\": {\"align\": \"left\"}, \"hovermode\": \"closest\", \"mapbox\": {\"style\": \"light\"}, \"paper_bgcolor\": \"white\", \"plot_bgcolor\": \"#E5ECF6\", \"polar\": {\"angularaxis\": {\"gridcolor\": \"white\", \"linecolor\": \"white\", \"ticks\": \"\"}, \"bgcolor\": \"#E5ECF6\", \"radialaxis\": {\"gridcolor\": \"white\", \"linecolor\": \"white\", \"ticks\": \"\"}}, \"scene\": {\"xaxis\": {\"backgroundcolor\": \"#E5ECF6\", \"gridcolor\": \"white\", \"gridwidth\": 2, \"linecolor\": \"white\", \"showbackground\": true, \"ticks\": \"\", \"zerolinecolor\": \"white\"}, \"yaxis\": {\"backgroundcolor\": \"#E5ECF6\", \"gridcolor\": \"white\", \"gridwidth\": 2, \"linecolor\": \"white\", \"showbackground\": true, \"ticks\": \"\", \"zerolinecolor\": \"white\"}, \"zaxis\": {\"backgroundcolor\": \"#E5ECF6\", \"gridcolor\": \"white\", \"gridwidth\": 2, \"linecolor\": \"white\", \"showbackground\": true, \"ticks\": \"\", \"zerolinecolor\": \"white\"}}, \"shapedefaults\": {\"line\": {\"color\": \"#2a3f5f\"}}, \"ternary\": {\"aaxis\": {\"gridcolor\": \"white\", \"linecolor\": \"white\", \"ticks\": \"\"}, \"baxis\": {\"gridcolor\": \"white\", \"linecolor\": \"white\", \"ticks\": \"\"}, \"bgcolor\": \"#E5ECF6\", \"caxis\": {\"gridcolor\": \"white\", \"linecolor\": \"white\", \"ticks\": \"\"}}, \"title\": {\"x\": 0.05}, \"xaxis\": {\"automargin\": true, \"gridcolor\": \"white\", \"linecolor\": \"white\", \"ticks\": \"\", \"title\": {\"standoff\": 15}, \"zerolinecolor\": \"white\", \"zerolinewidth\": 2}, \"yaxis\": {\"automargin\": true, \"gridcolor\": \"white\", \"linecolor\": \"white\", \"ticks\": \"\", \"title\": {\"standoff\": 15}, \"zerolinecolor\": \"white\", \"zerolinewidth\": 2}}}, \"title\": {\"font\": {\"color\": \"#4D5663\"}}, \"xaxis\": {\"gridcolor\": \"#E1E5ED\", \"showgrid\": true, \"tickfont\": {\"color\": \"#4D5663\"}, \"title\": {\"font\": {\"color\": \"#4D5663\"}, \"text\": \"\"}, \"zerolinecolor\": \"#E1E5ED\"}, \"yaxis\": {\"gridcolor\": \"#E1E5ED\", \"showgrid\": true, \"tickfont\": {\"color\": \"#4D5663\"}, \"title\": {\"font\": {\"color\": \"#4D5663\"}, \"text\": \"\"}, \"zerolinecolor\": \"#E1E5ED\"}},\n",
       "                        {\"showLink\": true, \"linkText\": \"Export to plot.ly\", \"plotlyServerURL\": \"https://plot.ly\", \"responsive\": true}\n",
       "                    ).then(function(){\n",
       "                            \n",
       "var gd = document.getElementById('6c8520ea-da7a-4f0a-9fef-66cfc84191bb');\n",
       "var x = new MutationObserver(function (mutations, observer) {{\n",
       "        var display = window.getComputedStyle(gd).display;\n",
       "        if (!display || display === 'none') {{\n",
       "            console.log([gd, 'removed!']);\n",
       "            Plotly.purge(gd);\n",
       "            observer.disconnect();\n",
       "        }}\n",
       "}});\n",
       "\n",
       "// Listen for the removal of the full notebook cells\n",
       "var notebookContainer = gd.closest('#notebook-container');\n",
       "if (notebookContainer) {{\n",
       "    x.observe(notebookContainer, {childList: true});\n",
       "}}\n",
       "\n",
       "// Listen for the clearing of the current output cell\n",
       "var outputEl = gd.closest('.output');\n",
       "if (outputEl) {{\n",
       "    x.observe(outputEl, {childList: true});\n",
       "}}\n",
       "\n",
       "                        })\n",
       "                };\n",
       "                });\n",
       "            </script>\n",
       "        </div>"
      ]
     },
     "metadata": {},
     "output_type": "display_data"
    }
   ],
   "source": [
    "df.sum().iplot(kind='bar')"
   ]
  },
  {
   "cell_type": "code",
   "execution_count": 25,
   "metadata": {},
   "outputs": [
    {
     "data": {
      "application/vnd.plotly.v1+json": {
       "config": {
        "linkText": "Export to plot.ly",
        "plotlyServerURL": "https://plot.ly",
        "showLink": true
       },
       "data": [
        {
         "boxpoints": false,
         "line": {
          "width": 1.3
         },
         "marker": {
          "color": "rgba(255, 153, 51, 1.0)"
         },
         "name": "A",
         "orientation": "v",
         "type": "box",
         "y": [
          -0.47994138356102345,
          0.16000001454505774,
          1.2996849606416845,
          -0.3459934331228707,
          1.0368948135116955,
          0.07946965327892691,
          0.02947178831828827,
          -0.26772555546117177,
          -2.0314116116032723,
          -0.7776726685287725,
          -0.6632265573499633,
          0.040338171293861545,
          0.03099329497456494,
          1.30667900546974,
          -0.037687242533143366,
          0.73556867266476,
          0.1957228240044999,
          -1.0482986804628374,
          1.0503916976168206,
          0.3384999073480586,
          -0.14838682865663155,
          -1.849858632992489,
          -1.1910865283155898,
          1.5553865160982832,
          0.986449102796202,
          0.07626968937010195,
          -0.7144282219471334,
          -1.95459396507943,
          0.5166017932497404,
          -0.1272350411517917,
          0.3651824330336992,
          0.629568772242452,
          0.2238905949170703,
          -0.4080627997126574,
          0.2459532769412293,
          -1.4375822191198364,
          1.1953127234968812,
          0.20642350123956282,
          -0.6118149783961775,
          -0.3516522754108534,
          0.3864587743634232,
          0.5578874059130349,
          -1.2239437975712937,
          -0.5751253948097974,
          -0.8161879128352467,
          0.728310144983823,
          1.0285518125814623,
          -0.061080867479822096,
          0.5456049906240891,
          1.6757326714528262,
          1.1259534774275948,
          2.1679146833244065,
          0.3627705444531118,
          -0.2007163005561877,
          1.5857603106850822,
          -0.14387374650148002,
          0.6711681353081573,
          -2.077686313631864,
          -0.8339634788937905,
          -1.5147815926076582,
          -0.2426824940955602,
          -0.05900561048931461,
          -0.5015572453005709,
          -1.02382765079118,
          0.6594628547687229,
          -0.23529898779933406,
          0.989301732841858,
          1.0913142676056113,
          0.9047811195866384,
          2.171823959268939,
          0.8660901043897223,
          -1.009123777500051,
          -1.2739552439273125,
          -0.8003558594463309,
          -0.7227937984759449,
          -0.4548814893006097,
          -1.2973334617697536,
          -0.40436366793090245,
          -0.5467723352316892,
          1.3324985767546997,
          -0.3000650152937515,
          -2.4463874579688456,
          0.5366264052442478,
          0.8394154584497169,
          -0.47075436156584355,
          0.46846103114383303,
          1.7485010794299531,
          -1.3189454373300313,
          -0.29883060294564007,
          0.09313380405100766,
          1.2964129012060845,
          1.6132918404264132,
          -0.11654004163312816,
          -0.3113907853250452,
          0.03577164272941658,
          -0.22212739215972332,
          0.19790220317768603,
          0.23463768157652232,
          -0.3274922195966929,
          -0.3594549556767431
         ]
        },
        {
         "boxpoints": false,
         "line": {
          "width": 1.3
         },
         "marker": {
          "color": "rgba(55, 128, 191, 1.0)"
         },
         "name": "B",
         "orientation": "v",
         "type": "box",
         "y": [
          -0.6750720095040574,
          -0.6236632378538945,
          0.31648115090713874,
          0.006625469958763555,
          1.0701445375157368,
          -1.489988600379836,
          0.7894479972844892,
          0.9173170404148899,
          -0.03236558870315396,
          0.531828866922249,
          0.5886330258336944,
          -1.167976713880715,
          -0.7162100002669591,
          -0.5414831307678194,
          0.7840457615721561,
          -0.46930537859098814,
          -0.7892004007784026,
          0.15190499519329212,
          -0.13488847109679594,
          0.9560305771827087,
          0.9836328201693666,
          1.113069160455684,
          0.3815657149703171,
          1.3561175238140253,
          -1.0417651856920722,
          0.6451841844568005,
          -0.4828578505139144,
          1.5246445699148836,
          0.06537554774633204,
          0.04931160611207707,
          1.9347732812598075,
          -0.8061165056880444,
          1.0744399572724777,
          -0.38326628912131316,
          -1.7407112541746834,
          -1.1789405193606934,
          -1.4075963840229924,
          -0.40096512182303085,
          0.3220761194308544,
          -0.9234853236877474,
          -2.0334595526466446,
          0.7776897486339085,
          -0.9807388724402262,
          0.6367945434202201,
          1.2749049396021885,
          1.5095220335919506,
          -1.0861773553362357,
          0.2928360719752721,
          -1.0635379361026216,
          0.5682472797409951,
          -0.9001092545463106,
          -0.40166002883131624,
          0.15203268993711191,
          0.5507806044416774,
          -0.406142216960143,
          -1.217479641294983,
          0.6917269041894943,
          -0.911829853729197,
          -1.4102896333460009,
          -1.1411785121505986,
          -0.08111764128140288,
          -1.2905700010948244,
          0.15246509174095685,
          0.5514074713986842,
          -0.5748023680027282,
          -0.17533905191623023,
          0.2750882818594264,
          -0.06060424378975698,
          0.48929733464317215,
          -0.8521185592816384,
          0.14843460207767809,
          0.36699416075794683,
          -0.1763066172519723,
          0.6767034425170794,
          -1.0558797509891396,
          -1.2618686077621954,
          -0.7013920682499339,
          -1.1536332965995175,
          -1.0458008683090156,
          -1.1845502086936621,
          -1.6179944848535541,
          0.027753117132022737,
          -0.03597787859543119,
          -0.6109525033400434,
          -0.006659128206266237,
          -1.9053029934010377,
          -0.1979953952563941,
          -1.970715611393755,
          -0.02374897918555784,
          0.014002628836400495,
          0.9021962904211355,
          -0.2186002004460576,
          0.282987591536079,
          -0.4104780901919894,
          -0.29636306422899106,
          -1.0720115422654701,
          1.4663762784345675,
          0.518632479089715,
          0.643572733575315,
          -0.5238831432693754
         ]
        },
        {
         "boxpoints": false,
         "line": {
          "width": 1.3
         },
         "marker": {
          "color": "rgba(50, 171, 96, 1.0)"
         },
         "name": "C",
         "orientation": "v",
         "type": "box",
         "y": [
          -0.5197271978581905,
          -0.35702079986068197,
          -0.6751074162834202,
          -0.8290603698439113,
          -1.7620567856664684,
          0.22579158270393165,
          0.00808063258413915,
          -0.6891205740873824,
          1.3805447654586755,
          -0.05653607792480402,
          -1.5578460253123274,
          -1.423940701684458,
          -1.2987087258472758,
          0.6434196202513819,
          -0.06084163519495708,
          -0.3596184597698029,
          -0.1600839748573193,
          0.4351329108949361,
          -0.037248400408046785,
          -0.2963151081901758,
          0.1450065608648587,
          1.1920904328243296,
          0.21667688869310794,
          0.6949961722611162,
          0.9847769996892395,
          -0.0056276016213413355,
          0.5004276282933069,
          0.9065596468268876,
          0.3913797397178053,
          0.5194628533956177,
          0.20180903715178042,
          -0.37102518269253304,
          1.007985221807975,
          1.2693324558378918,
          1.8427949296226573,
          0.5288485335232646,
          -0.6862959392121788,
          1.4338661951430534,
          0.006824530293811063,
          -0.23133092335789665,
          -1.5418740730564444,
          0.8628701890453,
          -0.6483764997573348,
          -1.6029664806541335,
          -0.7940380352821212,
          -1.8951476576766457,
          -0.40041956603237083,
          0.2964911317848158,
          1.5899392607667207,
          0.4312931244279361,
          -1.8737143112380912,
          0.15598014843187272,
          -0.8561011752865471,
          1.205915463923441,
          0.08531616891935535,
          -0.2849719587160101,
          -0.49992372301677185,
          -0.1977389254022585,
          0.9672487407550542,
          -2.1007611967290454,
          2.5758556907585763,
          -1.3544767038489602,
          -0.5482520679537566,
          -0.14250855825853886,
          -0.31395089348855637,
          0.22273658215192293,
          1.6444651798928556,
          -0.1645639143914819,
          -0.4281820820795921,
          -0.44045908292905706,
          1.8124573636463697,
          -2.0269863208849563,
          0.1160077533479532,
          2.0653426029572985,
          -0.5089496389521247,
          -0.12134215070011177,
          0.5399005604153339,
          0.722808318590877,
          0.8803784655030259,
          -1.2061397944554992,
          0.3970338332193433,
          -1.0746922682004565,
          0.4206950439615749,
          -1.4792823364969105,
          -0.5587369720014077,
          -0.15698538565975714,
          -0.8612772787041048,
          0.20900126254664594,
          -0.28515872294607314,
          0.0036611009568451856,
          0.5538991408164484,
          2.926243867371199,
          0.7796294023213519,
          -1.3660970894954452,
          0.25571122605780455,
          -0.7818561652897893,
          -1.235332988189121,
          1.4674049373740403,
          0.25507104998325436,
          0.44431307217121674
         ]
        },
        {
         "boxpoints": false,
         "line": {
          "width": 1.3
         },
         "marker": {
          "color": "rgba(128, 0, 128, 1.0)"
         },
         "name": "D",
         "orientation": "v",
         "type": "box",
         "y": [
          0.18942170519626872,
          -1.2802194731604748,
          0.6349376524449637,
          -0.5504493747747182,
          -0.7052055592080125,
          -0.20621564334914896,
          0.17785259437516168,
          1.0675198214940365,
          0.43278494355204966,
          -1.1979095622506206,
          0.03377723660122678,
          -0.5844708269743173,
          -1.3259672968360285,
          -1.5768099286883155,
          -0.5745729240121211,
          -0.09220113732000862,
          0.045936116104723645,
          1.3791850474193161,
          1.8582293288358758,
          0.3689175248690529,
          0.10787976561289657,
          -0.5595527120732183,
          -1.4134306157866812,
          -0.9627143604904586,
          1.146387094842736,
          1.562875052994166,
          0.12792405719541777,
          0.4692887195328484,
          -1.3292574772861743,
          0.14539836343131582,
          -0.019269658825584794,
          -0.4628263841159192,
          -1.2579807391391045,
          -1.98788066802929,
          0.05924856073748593,
          -0.16311938920992022,
          -0.27527171490132246,
          -0.15839675467227424,
          0.30242416587063015,
          -0.8495425020657296,
          -0.4586702146018039,
          0.08460838908589949,
          -2.394485298556269,
          0.44435681397663634,
          0.2445539721871795,
          -0.21942588916376973,
          0.5593116756375367,
          -0.8382612967116606,
          -0.8801381638643744,
          2.2119414718170582,
          -1.8595165157814173,
          0.17087544617586234,
          0.34126648026356315,
          0.48670860790953857,
          -0.4178684019411358,
          -0.06418358333556115,
          0.7270068870675426,
          0.7734335640748874,
          0.5849299447104188,
          -0.09745409043521285,
          1.0429191705092615,
          -1.7722403207134747,
          -1.8495043259843567,
          -0.7792485620696873,
          1.600271390275063,
          -0.6374166322996777,
          -0.38594804544541017,
          -0.32338577033233395,
          -0.06479085716062354,
          0.4400675832296403,
          -1.0249528267596215,
          -0.7466060800255195,
          -0.35496339596247256,
          1.4494676348279423,
          1.0924735876914018,
          2.257533687084062,
          -1.0196171714000544,
          -0.9570592291527833,
          -1.5508421070797296,
          -1.5378804322035184,
          0.47728934923457966,
          -1.1191201363418921,
          -0.04468329386381377,
          -0.10629130596692232,
          0.3616265796275296,
          0.6891470617042107,
          -1.9189015917736612,
          1.0490773829306952,
          1.5753947224514775,
          0.8358400820596704,
          -1.3948517425353133,
          -0.525009371351308,
          -0.29431542845104475,
          0.3042360977060703,
          -0.6706043911388967,
          0.07321410292070137,
          -0.717643881557239,
          -0.10093489837101675,
          -0.38363037570998165,
          1.9918704037414345
         ]
        }
       ],
       "layout": {
        "legend": {
         "bgcolor": "#F5F6F9",
         "font": {
          "color": "#4D5663"
         }
        },
        "paper_bgcolor": "#F5F6F9",
        "plot_bgcolor": "#F5F6F9",
        "template": {
         "data": {
          "bar": [
           {
            "error_x": {
             "color": "#2a3f5f"
            },
            "error_y": {
             "color": "#2a3f5f"
            },
            "marker": {
             "line": {
              "color": "#E5ECF6",
              "width": 0.5
             }
            },
            "type": "bar"
           }
          ],
          "barpolar": [
           {
            "marker": {
             "line": {
              "color": "#E5ECF6",
              "width": 0.5
             }
            },
            "type": "barpolar"
           }
          ],
          "carpet": [
           {
            "aaxis": {
             "endlinecolor": "#2a3f5f",
             "gridcolor": "white",
             "linecolor": "white",
             "minorgridcolor": "white",
             "startlinecolor": "#2a3f5f"
            },
            "baxis": {
             "endlinecolor": "#2a3f5f",
             "gridcolor": "white",
             "linecolor": "white",
             "minorgridcolor": "white",
             "startlinecolor": "#2a3f5f"
            },
            "type": "carpet"
           }
          ],
          "choropleth": [
           {
            "colorbar": {
             "outlinewidth": 0,
             "ticks": ""
            },
            "type": "choropleth"
           }
          ],
          "contour": [
           {
            "colorbar": {
             "outlinewidth": 0,
             "ticks": ""
            },
            "colorscale": [
             [
              0,
              "#0d0887"
             ],
             [
              0.1111111111111111,
              "#46039f"
             ],
             [
              0.2222222222222222,
              "#7201a8"
             ],
             [
              0.3333333333333333,
              "#9c179e"
             ],
             [
              0.4444444444444444,
              "#bd3786"
             ],
             [
              0.5555555555555556,
              "#d8576b"
             ],
             [
              0.6666666666666666,
              "#ed7953"
             ],
             [
              0.7777777777777778,
              "#fb9f3a"
             ],
             [
              0.8888888888888888,
              "#fdca26"
             ],
             [
              1,
              "#f0f921"
             ]
            ],
            "type": "contour"
           }
          ],
          "contourcarpet": [
           {
            "colorbar": {
             "outlinewidth": 0,
             "ticks": ""
            },
            "type": "contourcarpet"
           }
          ],
          "heatmap": [
           {
            "colorbar": {
             "outlinewidth": 0,
             "ticks": ""
            },
            "colorscale": [
             [
              0,
              "#0d0887"
             ],
             [
              0.1111111111111111,
              "#46039f"
             ],
             [
              0.2222222222222222,
              "#7201a8"
             ],
             [
              0.3333333333333333,
              "#9c179e"
             ],
             [
              0.4444444444444444,
              "#bd3786"
             ],
             [
              0.5555555555555556,
              "#d8576b"
             ],
             [
              0.6666666666666666,
              "#ed7953"
             ],
             [
              0.7777777777777778,
              "#fb9f3a"
             ],
             [
              0.8888888888888888,
              "#fdca26"
             ],
             [
              1,
              "#f0f921"
             ]
            ],
            "type": "heatmap"
           }
          ],
          "heatmapgl": [
           {
            "colorbar": {
             "outlinewidth": 0,
             "ticks": ""
            },
            "colorscale": [
             [
              0,
              "#0d0887"
             ],
             [
              0.1111111111111111,
              "#46039f"
             ],
             [
              0.2222222222222222,
              "#7201a8"
             ],
             [
              0.3333333333333333,
              "#9c179e"
             ],
             [
              0.4444444444444444,
              "#bd3786"
             ],
             [
              0.5555555555555556,
              "#d8576b"
             ],
             [
              0.6666666666666666,
              "#ed7953"
             ],
             [
              0.7777777777777778,
              "#fb9f3a"
             ],
             [
              0.8888888888888888,
              "#fdca26"
             ],
             [
              1,
              "#f0f921"
             ]
            ],
            "type": "heatmapgl"
           }
          ],
          "histogram": [
           {
            "marker": {
             "colorbar": {
              "outlinewidth": 0,
              "ticks": ""
             }
            },
            "type": "histogram"
           }
          ],
          "histogram2d": [
           {
            "colorbar": {
             "outlinewidth": 0,
             "ticks": ""
            },
            "colorscale": [
             [
              0,
              "#0d0887"
             ],
             [
              0.1111111111111111,
              "#46039f"
             ],
             [
              0.2222222222222222,
              "#7201a8"
             ],
             [
              0.3333333333333333,
              "#9c179e"
             ],
             [
              0.4444444444444444,
              "#bd3786"
             ],
             [
              0.5555555555555556,
              "#d8576b"
             ],
             [
              0.6666666666666666,
              "#ed7953"
             ],
             [
              0.7777777777777778,
              "#fb9f3a"
             ],
             [
              0.8888888888888888,
              "#fdca26"
             ],
             [
              1,
              "#f0f921"
             ]
            ],
            "type": "histogram2d"
           }
          ],
          "histogram2dcontour": [
           {
            "colorbar": {
             "outlinewidth": 0,
             "ticks": ""
            },
            "colorscale": [
             [
              0,
              "#0d0887"
             ],
             [
              0.1111111111111111,
              "#46039f"
             ],
             [
              0.2222222222222222,
              "#7201a8"
             ],
             [
              0.3333333333333333,
              "#9c179e"
             ],
             [
              0.4444444444444444,
              "#bd3786"
             ],
             [
              0.5555555555555556,
              "#d8576b"
             ],
             [
              0.6666666666666666,
              "#ed7953"
             ],
             [
              0.7777777777777778,
              "#fb9f3a"
             ],
             [
              0.8888888888888888,
              "#fdca26"
             ],
             [
              1,
              "#f0f921"
             ]
            ],
            "type": "histogram2dcontour"
           }
          ],
          "mesh3d": [
           {
            "colorbar": {
             "outlinewidth": 0,
             "ticks": ""
            },
            "type": "mesh3d"
           }
          ],
          "parcoords": [
           {
            "line": {
             "colorbar": {
              "outlinewidth": 0,
              "ticks": ""
             }
            },
            "type": "parcoords"
           }
          ],
          "pie": [
           {
            "automargin": true,
            "type": "pie"
           }
          ],
          "scatter": [
           {
            "marker": {
             "colorbar": {
              "outlinewidth": 0,
              "ticks": ""
             }
            },
            "type": "scatter"
           }
          ],
          "scatter3d": [
           {
            "line": {
             "colorbar": {
              "outlinewidth": 0,
              "ticks": ""
             }
            },
            "marker": {
             "colorbar": {
              "outlinewidth": 0,
              "ticks": ""
             }
            },
            "type": "scatter3d"
           }
          ],
          "scattercarpet": [
           {
            "marker": {
             "colorbar": {
              "outlinewidth": 0,
              "ticks": ""
             }
            },
            "type": "scattercarpet"
           }
          ],
          "scattergeo": [
           {
            "marker": {
             "colorbar": {
              "outlinewidth": 0,
              "ticks": ""
             }
            },
            "type": "scattergeo"
           }
          ],
          "scattergl": [
           {
            "marker": {
             "colorbar": {
              "outlinewidth": 0,
              "ticks": ""
             }
            },
            "type": "scattergl"
           }
          ],
          "scattermapbox": [
           {
            "marker": {
             "colorbar": {
              "outlinewidth": 0,
              "ticks": ""
             }
            },
            "type": "scattermapbox"
           }
          ],
          "scatterpolar": [
           {
            "marker": {
             "colorbar": {
              "outlinewidth": 0,
              "ticks": ""
             }
            },
            "type": "scatterpolar"
           }
          ],
          "scatterpolargl": [
           {
            "marker": {
             "colorbar": {
              "outlinewidth": 0,
              "ticks": ""
             }
            },
            "type": "scatterpolargl"
           }
          ],
          "scatterternary": [
           {
            "marker": {
             "colorbar": {
              "outlinewidth": 0,
              "ticks": ""
             }
            },
            "type": "scatterternary"
           }
          ],
          "surface": [
           {
            "colorbar": {
             "outlinewidth": 0,
             "ticks": ""
            },
            "colorscale": [
             [
              0,
              "#0d0887"
             ],
             [
              0.1111111111111111,
              "#46039f"
             ],
             [
              0.2222222222222222,
              "#7201a8"
             ],
             [
              0.3333333333333333,
              "#9c179e"
             ],
             [
              0.4444444444444444,
              "#bd3786"
             ],
             [
              0.5555555555555556,
              "#d8576b"
             ],
             [
              0.6666666666666666,
              "#ed7953"
             ],
             [
              0.7777777777777778,
              "#fb9f3a"
             ],
             [
              0.8888888888888888,
              "#fdca26"
             ],
             [
              1,
              "#f0f921"
             ]
            ],
            "type": "surface"
           }
          ],
          "table": [
           {
            "cells": {
             "fill": {
              "color": "#EBF0F8"
             },
             "line": {
              "color": "white"
             }
            },
            "header": {
             "fill": {
              "color": "#C8D4E3"
             },
             "line": {
              "color": "white"
             }
            },
            "type": "table"
           }
          ]
         },
         "layout": {
          "annotationdefaults": {
           "arrowcolor": "#2a3f5f",
           "arrowhead": 0,
           "arrowwidth": 1
          },
          "coloraxis": {
           "colorbar": {
            "outlinewidth": 0,
            "ticks": ""
           }
          },
          "colorscale": {
           "diverging": [
            [
             0,
             "#8e0152"
            ],
            [
             0.1,
             "#c51b7d"
            ],
            [
             0.2,
             "#de77ae"
            ],
            [
             0.3,
             "#f1b6da"
            ],
            [
             0.4,
             "#fde0ef"
            ],
            [
             0.5,
             "#f7f7f7"
            ],
            [
             0.6,
             "#e6f5d0"
            ],
            [
             0.7,
             "#b8e186"
            ],
            [
             0.8,
             "#7fbc41"
            ],
            [
             0.9,
             "#4d9221"
            ],
            [
             1,
             "#276419"
            ]
           ],
           "sequential": [
            [
             0,
             "#0d0887"
            ],
            [
             0.1111111111111111,
             "#46039f"
            ],
            [
             0.2222222222222222,
             "#7201a8"
            ],
            [
             0.3333333333333333,
             "#9c179e"
            ],
            [
             0.4444444444444444,
             "#bd3786"
            ],
            [
             0.5555555555555556,
             "#d8576b"
            ],
            [
             0.6666666666666666,
             "#ed7953"
            ],
            [
             0.7777777777777778,
             "#fb9f3a"
            ],
            [
             0.8888888888888888,
             "#fdca26"
            ],
            [
             1,
             "#f0f921"
            ]
           ],
           "sequentialminus": [
            [
             0,
             "#0d0887"
            ],
            [
             0.1111111111111111,
             "#46039f"
            ],
            [
             0.2222222222222222,
             "#7201a8"
            ],
            [
             0.3333333333333333,
             "#9c179e"
            ],
            [
             0.4444444444444444,
             "#bd3786"
            ],
            [
             0.5555555555555556,
             "#d8576b"
            ],
            [
             0.6666666666666666,
             "#ed7953"
            ],
            [
             0.7777777777777778,
             "#fb9f3a"
            ],
            [
             0.8888888888888888,
             "#fdca26"
            ],
            [
             1,
             "#f0f921"
            ]
           ]
          },
          "colorway": [
           "#636efa",
           "#EF553B",
           "#00cc96",
           "#ab63fa",
           "#FFA15A",
           "#19d3f3",
           "#FF6692",
           "#B6E880",
           "#FF97FF",
           "#FECB52"
          ],
          "font": {
           "color": "#2a3f5f"
          },
          "geo": {
           "bgcolor": "white",
           "lakecolor": "white",
           "landcolor": "#E5ECF6",
           "showlakes": true,
           "showland": true,
           "subunitcolor": "white"
          },
          "hoverlabel": {
           "align": "left"
          },
          "hovermode": "closest",
          "mapbox": {
           "style": "light"
          },
          "paper_bgcolor": "white",
          "plot_bgcolor": "#E5ECF6",
          "polar": {
           "angularaxis": {
            "gridcolor": "white",
            "linecolor": "white",
            "ticks": ""
           },
           "bgcolor": "#E5ECF6",
           "radialaxis": {
            "gridcolor": "white",
            "linecolor": "white",
            "ticks": ""
           }
          },
          "scene": {
           "xaxis": {
            "backgroundcolor": "#E5ECF6",
            "gridcolor": "white",
            "gridwidth": 2,
            "linecolor": "white",
            "showbackground": true,
            "ticks": "",
            "zerolinecolor": "white"
           },
           "yaxis": {
            "backgroundcolor": "#E5ECF6",
            "gridcolor": "white",
            "gridwidth": 2,
            "linecolor": "white",
            "showbackground": true,
            "ticks": "",
            "zerolinecolor": "white"
           },
           "zaxis": {
            "backgroundcolor": "#E5ECF6",
            "gridcolor": "white",
            "gridwidth": 2,
            "linecolor": "white",
            "showbackground": true,
            "ticks": "",
            "zerolinecolor": "white"
           }
          },
          "shapedefaults": {
           "line": {
            "color": "#2a3f5f"
           }
          },
          "ternary": {
           "aaxis": {
            "gridcolor": "white",
            "linecolor": "white",
            "ticks": ""
           },
           "baxis": {
            "gridcolor": "white",
            "linecolor": "white",
            "ticks": ""
           },
           "bgcolor": "#E5ECF6",
           "caxis": {
            "gridcolor": "white",
            "linecolor": "white",
            "ticks": ""
           }
          },
          "title": {
           "x": 0.05
          },
          "xaxis": {
           "automargin": true,
           "gridcolor": "white",
           "linecolor": "white",
           "ticks": "",
           "title": {
            "standoff": 15
           },
           "zerolinecolor": "white",
           "zerolinewidth": 2
          },
          "yaxis": {
           "automargin": true,
           "gridcolor": "white",
           "linecolor": "white",
           "ticks": "",
           "title": {
            "standoff": 15
           },
           "zerolinecolor": "white",
           "zerolinewidth": 2
          }
         }
        },
        "title": {
         "font": {
          "color": "#4D5663"
         }
        },
        "xaxis": {
         "gridcolor": "#E1E5ED",
         "showgrid": true,
         "tickfont": {
          "color": "#4D5663"
         },
         "title": {
          "font": {
           "color": "#4D5663"
          },
          "text": ""
         },
         "zerolinecolor": "#E1E5ED"
        },
        "yaxis": {
         "gridcolor": "#E1E5ED",
         "showgrid": true,
         "tickfont": {
          "color": "#4D5663"
         },
         "title": {
          "font": {
           "color": "#4D5663"
          },
          "text": ""
         },
         "zerolinecolor": "#E1E5ED"
        }
       }
      },
      "text/html": [
       "<div>\n",
       "        \n",
       "        \n",
       "            <div id=\"92d24368-6e1e-40f6-9b93-3ecdaf47fbe6\" class=\"plotly-graph-div\" style=\"height:525px; width:100%;\"></div>\n",
       "            <script type=\"text/javascript\">\n",
       "                require([\"plotly\"], function(Plotly) {\n",
       "                    window.PLOTLYENV=window.PLOTLYENV || {};\n",
       "                    window.PLOTLYENV.BASE_URL='https://plot.ly';\n",
       "                    \n",
       "                if (document.getElementById(\"92d24368-6e1e-40f6-9b93-3ecdaf47fbe6\")) {\n",
       "                    Plotly.newPlot(\n",
       "                        '92d24368-6e1e-40f6-9b93-3ecdaf47fbe6',\n",
       "                        [{\"boxpoints\": false, \"line\": {\"width\": 1.3}, \"marker\": {\"color\": \"rgba(255, 153, 51, 1.0)\"}, \"name\": \"A\", \"orientation\": \"v\", \"type\": \"box\", \"y\": [-0.47994138356102345, 0.16000001454505774, 1.2996849606416845, -0.3459934331228707, 1.0368948135116955, 0.07946965327892691, 0.02947178831828827, -0.26772555546117177, -2.0314116116032723, -0.7776726685287725, -0.6632265573499633, 0.040338171293861545, 0.03099329497456494, 1.30667900546974, -0.037687242533143366, 0.73556867266476, 0.1957228240044999, -1.0482986804628374, 1.0503916976168206, 0.3384999073480586, -0.14838682865663155, -1.849858632992489, -1.1910865283155898, 1.5553865160982832, 0.986449102796202, 0.07626968937010195, -0.7144282219471334, -1.95459396507943, 0.5166017932497404, -0.1272350411517917, 0.3651824330336992, 0.629568772242452, 0.2238905949170703, -0.4080627997126574, 0.2459532769412293, -1.4375822191198364, 1.1953127234968812, 0.20642350123956282, -0.6118149783961775, -0.3516522754108534, 0.3864587743634232, 0.5578874059130349, -1.2239437975712937, -0.5751253948097974, -0.8161879128352467, 0.728310144983823, 1.0285518125814623, -0.061080867479822096, 0.5456049906240891, 1.6757326714528262, 1.1259534774275948, 2.1679146833244065, 0.3627705444531118, -0.2007163005561877, 1.5857603106850822, -0.14387374650148002, 0.6711681353081573, -2.077686313631864, -0.8339634788937905, -1.5147815926076582, -0.2426824940955602, -0.05900561048931461, -0.5015572453005709, -1.02382765079118, 0.6594628547687229, -0.23529898779933406, 0.989301732841858, 1.0913142676056113, 0.9047811195866384, 2.171823959268939, 0.8660901043897223, -1.009123777500051, -1.2739552439273125, -0.8003558594463309, -0.7227937984759449, -0.4548814893006097, -1.2973334617697536, -0.40436366793090245, -0.5467723352316892, 1.3324985767546997, -0.3000650152937515, -2.4463874579688456, 0.5366264052442478, 0.8394154584497169, -0.47075436156584355, 0.46846103114383303, 1.7485010794299531, -1.3189454373300313, -0.29883060294564007, 0.09313380405100766, 1.2964129012060845, 1.6132918404264132, -0.11654004163312816, -0.3113907853250452, 0.03577164272941658, -0.22212739215972332, 0.19790220317768603, 0.23463768157652232, -0.3274922195966929, -0.3594549556767431]}, {\"boxpoints\": false, \"line\": {\"width\": 1.3}, \"marker\": {\"color\": \"rgba(55, 128, 191, 1.0)\"}, \"name\": \"B\", \"orientation\": \"v\", \"type\": \"box\", \"y\": [-0.6750720095040574, -0.6236632378538945, 0.31648115090713874, 0.006625469958763555, 1.0701445375157368, -1.489988600379836, 0.7894479972844892, 0.9173170404148899, -0.03236558870315396, 0.531828866922249, 0.5886330258336944, -1.167976713880715, -0.7162100002669591, -0.5414831307678194, 0.7840457615721561, -0.46930537859098814, -0.7892004007784026, 0.15190499519329212, -0.13488847109679594, 0.9560305771827087, 0.9836328201693666, 1.113069160455684, 0.3815657149703171, 1.3561175238140253, -1.0417651856920722, 0.6451841844568005, -0.4828578505139144, 1.5246445699148836, 0.06537554774633204, 0.04931160611207707, 1.9347732812598075, -0.8061165056880444, 1.0744399572724777, -0.38326628912131316, -1.7407112541746834, -1.1789405193606934, -1.4075963840229924, -0.40096512182303085, 0.3220761194308544, -0.9234853236877474, -2.0334595526466446, 0.7776897486339085, -0.9807388724402262, 0.6367945434202201, 1.2749049396021885, 1.5095220335919506, -1.0861773553362357, 0.2928360719752721, -1.0635379361026216, 0.5682472797409951, -0.9001092545463106, -0.40166002883131624, 0.15203268993711191, 0.5507806044416774, -0.406142216960143, -1.217479641294983, 0.6917269041894943, -0.911829853729197, -1.4102896333460009, -1.1411785121505986, -0.08111764128140288, -1.2905700010948244, 0.15246509174095685, 0.5514074713986842, -0.5748023680027282, -0.17533905191623023, 0.2750882818594264, -0.06060424378975698, 0.48929733464317215, -0.8521185592816384, 0.14843460207767809, 0.36699416075794683, -0.1763066172519723, 0.6767034425170794, -1.0558797509891396, -1.2618686077621954, -0.7013920682499339, -1.1536332965995175, -1.0458008683090156, -1.1845502086936621, -1.6179944848535541, 0.027753117132022737, -0.03597787859543119, -0.6109525033400434, -0.006659128206266237, -1.9053029934010377, -0.1979953952563941, -1.970715611393755, -0.02374897918555784, 0.014002628836400495, 0.9021962904211355, -0.2186002004460576, 0.282987591536079, -0.4104780901919894, -0.29636306422899106, -1.0720115422654701, 1.4663762784345675, 0.518632479089715, 0.643572733575315, -0.5238831432693754]}, {\"boxpoints\": false, \"line\": {\"width\": 1.3}, \"marker\": {\"color\": \"rgba(50, 171, 96, 1.0)\"}, \"name\": \"C\", \"orientation\": \"v\", \"type\": \"box\", \"y\": [-0.5197271978581905, -0.35702079986068197, -0.6751074162834202, -0.8290603698439113, -1.7620567856664684, 0.22579158270393165, 0.00808063258413915, -0.6891205740873824, 1.3805447654586755, -0.05653607792480402, -1.5578460253123274, -1.423940701684458, -1.2987087258472758, 0.6434196202513819, -0.06084163519495708, -0.3596184597698029, -0.1600839748573193, 0.4351329108949361, -0.037248400408046785, -0.2963151081901758, 0.1450065608648587, 1.1920904328243296, 0.21667688869310794, 0.6949961722611162, 0.9847769996892395, -0.0056276016213413355, 0.5004276282933069, 0.9065596468268876, 0.3913797397178053, 0.5194628533956177, 0.20180903715178042, -0.37102518269253304, 1.007985221807975, 1.2693324558378918, 1.8427949296226573, 0.5288485335232646, -0.6862959392121788, 1.4338661951430534, 0.006824530293811063, -0.23133092335789665, -1.5418740730564444, 0.8628701890453, -0.6483764997573348, -1.6029664806541335, -0.7940380352821212, -1.8951476576766457, -0.40041956603237083, 0.2964911317848158, 1.5899392607667207, 0.4312931244279361, -1.8737143112380912, 0.15598014843187272, -0.8561011752865471, 1.205915463923441, 0.08531616891935535, -0.2849719587160101, -0.49992372301677185, -0.1977389254022585, 0.9672487407550542, -2.1007611967290454, 2.5758556907585763, -1.3544767038489602, -0.5482520679537566, -0.14250855825853886, -0.31395089348855637, 0.22273658215192293, 1.6444651798928556, -0.1645639143914819, -0.4281820820795921, -0.44045908292905706, 1.8124573636463697, -2.0269863208849563, 0.1160077533479532, 2.0653426029572985, -0.5089496389521247, -0.12134215070011177, 0.5399005604153339, 0.722808318590877, 0.8803784655030259, -1.2061397944554992, 0.3970338332193433, -1.0746922682004565, 0.4206950439615749, -1.4792823364969105, -0.5587369720014077, -0.15698538565975714, -0.8612772787041048, 0.20900126254664594, -0.28515872294607314, 0.0036611009568451856, 0.5538991408164484, 2.926243867371199, 0.7796294023213519, -1.3660970894954452, 0.25571122605780455, -0.7818561652897893, -1.235332988189121, 1.4674049373740403, 0.25507104998325436, 0.44431307217121674]}, {\"boxpoints\": false, \"line\": {\"width\": 1.3}, \"marker\": {\"color\": \"rgba(128, 0, 128, 1.0)\"}, \"name\": \"D\", \"orientation\": \"v\", \"type\": \"box\", \"y\": [0.18942170519626872, -1.2802194731604748, 0.6349376524449637, -0.5504493747747182, -0.7052055592080125, -0.20621564334914896, 0.17785259437516168, 1.0675198214940365, 0.43278494355204966, -1.1979095622506206, 0.03377723660122678, -0.5844708269743173, -1.3259672968360285, -1.5768099286883155, -0.5745729240121211, -0.09220113732000862, 0.045936116104723645, 1.3791850474193161, 1.8582293288358758, 0.3689175248690529, 0.10787976561289657, -0.5595527120732183, -1.4134306157866812, -0.9627143604904586, 1.146387094842736, 1.562875052994166, 0.12792405719541777, 0.4692887195328484, -1.3292574772861743, 0.14539836343131582, -0.019269658825584794, -0.4628263841159192, -1.2579807391391045, -1.98788066802929, 0.05924856073748593, -0.16311938920992022, -0.27527171490132246, -0.15839675467227424, 0.30242416587063015, -0.8495425020657296, -0.4586702146018039, 0.08460838908589949, -2.394485298556269, 0.44435681397663634, 0.2445539721871795, -0.21942588916376973, 0.5593116756375367, -0.8382612967116606, -0.8801381638643744, 2.2119414718170582, -1.8595165157814173, 0.17087544617586234, 0.34126648026356315, 0.48670860790953857, -0.4178684019411358, -0.06418358333556115, 0.7270068870675426, 0.7734335640748874, 0.5849299447104188, -0.09745409043521285, 1.0429191705092615, -1.7722403207134747, -1.8495043259843567, -0.7792485620696873, 1.600271390275063, -0.6374166322996777, -0.38594804544541017, -0.32338577033233395, -0.06479085716062354, 0.4400675832296403, -1.0249528267596215, -0.7466060800255195, -0.35496339596247256, 1.4494676348279423, 1.0924735876914018, 2.257533687084062, -1.0196171714000544, -0.9570592291527833, -1.5508421070797296, -1.5378804322035184, 0.47728934923457966, -1.1191201363418921, -0.04468329386381377, -0.10629130596692232, 0.3616265796275296, 0.6891470617042107, -1.9189015917736612, 1.0490773829306952, 1.5753947224514775, 0.8358400820596704, -1.3948517425353133, -0.525009371351308, -0.29431542845104475, 0.3042360977060703, -0.6706043911388967, 0.07321410292070137, -0.717643881557239, -0.10093489837101675, -0.38363037570998165, 1.9918704037414345]}],\n",
       "                        {\"legend\": {\"bgcolor\": \"#F5F6F9\", \"font\": {\"color\": \"#4D5663\"}}, \"paper_bgcolor\": \"#F5F6F9\", \"plot_bgcolor\": \"#F5F6F9\", \"template\": {\"data\": {\"bar\": [{\"error_x\": {\"color\": \"#2a3f5f\"}, \"error_y\": {\"color\": \"#2a3f5f\"}, \"marker\": {\"line\": {\"color\": \"#E5ECF6\", \"width\": 0.5}}, \"type\": \"bar\"}], \"barpolar\": [{\"marker\": {\"line\": {\"color\": \"#E5ECF6\", \"width\": 0.5}}, \"type\": \"barpolar\"}], \"carpet\": [{\"aaxis\": {\"endlinecolor\": \"#2a3f5f\", \"gridcolor\": \"white\", \"linecolor\": \"white\", \"minorgridcolor\": \"white\", \"startlinecolor\": \"#2a3f5f\"}, \"baxis\": {\"endlinecolor\": \"#2a3f5f\", \"gridcolor\": \"white\", \"linecolor\": \"white\", \"minorgridcolor\": \"white\", \"startlinecolor\": \"#2a3f5f\"}, \"type\": \"carpet\"}], \"choropleth\": [{\"colorbar\": {\"outlinewidth\": 0, \"ticks\": \"\"}, \"type\": \"choropleth\"}], \"contour\": [{\"colorbar\": {\"outlinewidth\": 0, \"ticks\": \"\"}, \"colorscale\": [[0.0, \"#0d0887\"], [0.1111111111111111, \"#46039f\"], [0.2222222222222222, \"#7201a8\"], [0.3333333333333333, \"#9c179e\"], [0.4444444444444444, \"#bd3786\"], [0.5555555555555556, \"#d8576b\"], [0.6666666666666666, \"#ed7953\"], [0.7777777777777778, \"#fb9f3a\"], [0.8888888888888888, \"#fdca26\"], [1.0, \"#f0f921\"]], \"type\": \"contour\"}], \"contourcarpet\": [{\"colorbar\": {\"outlinewidth\": 0, \"ticks\": \"\"}, \"type\": \"contourcarpet\"}], \"heatmap\": [{\"colorbar\": {\"outlinewidth\": 0, \"ticks\": \"\"}, \"colorscale\": [[0.0, \"#0d0887\"], [0.1111111111111111, \"#46039f\"], [0.2222222222222222, \"#7201a8\"], [0.3333333333333333, \"#9c179e\"], [0.4444444444444444, \"#bd3786\"], [0.5555555555555556, \"#d8576b\"], [0.6666666666666666, \"#ed7953\"], [0.7777777777777778, \"#fb9f3a\"], [0.8888888888888888, \"#fdca26\"], [1.0, \"#f0f921\"]], \"type\": \"heatmap\"}], \"heatmapgl\": [{\"colorbar\": {\"outlinewidth\": 0, \"ticks\": \"\"}, \"colorscale\": [[0.0, \"#0d0887\"], [0.1111111111111111, \"#46039f\"], [0.2222222222222222, \"#7201a8\"], [0.3333333333333333, \"#9c179e\"], [0.4444444444444444, \"#bd3786\"], [0.5555555555555556, \"#d8576b\"], [0.6666666666666666, \"#ed7953\"], [0.7777777777777778, \"#fb9f3a\"], [0.8888888888888888, \"#fdca26\"], [1.0, \"#f0f921\"]], \"type\": \"heatmapgl\"}], \"histogram\": [{\"marker\": {\"colorbar\": {\"outlinewidth\": 0, \"ticks\": \"\"}}, \"type\": \"histogram\"}], \"histogram2d\": [{\"colorbar\": {\"outlinewidth\": 0, \"ticks\": \"\"}, \"colorscale\": [[0.0, \"#0d0887\"], [0.1111111111111111, \"#46039f\"], [0.2222222222222222, \"#7201a8\"], [0.3333333333333333, \"#9c179e\"], [0.4444444444444444, \"#bd3786\"], [0.5555555555555556, \"#d8576b\"], [0.6666666666666666, \"#ed7953\"], [0.7777777777777778, \"#fb9f3a\"], [0.8888888888888888, \"#fdca26\"], [1.0, \"#f0f921\"]], \"type\": \"histogram2d\"}], \"histogram2dcontour\": [{\"colorbar\": {\"outlinewidth\": 0, \"ticks\": \"\"}, \"colorscale\": [[0.0, \"#0d0887\"], [0.1111111111111111, \"#46039f\"], [0.2222222222222222, \"#7201a8\"], [0.3333333333333333, \"#9c179e\"], [0.4444444444444444, \"#bd3786\"], [0.5555555555555556, \"#d8576b\"], [0.6666666666666666, \"#ed7953\"], [0.7777777777777778, \"#fb9f3a\"], [0.8888888888888888, \"#fdca26\"], [1.0, \"#f0f921\"]], \"type\": \"histogram2dcontour\"}], \"mesh3d\": [{\"colorbar\": {\"outlinewidth\": 0, \"ticks\": \"\"}, \"type\": \"mesh3d\"}], \"parcoords\": [{\"line\": {\"colorbar\": {\"outlinewidth\": 0, \"ticks\": \"\"}}, \"type\": \"parcoords\"}], \"pie\": [{\"automargin\": true, \"type\": \"pie\"}], \"scatter\": [{\"marker\": {\"colorbar\": {\"outlinewidth\": 0, \"ticks\": \"\"}}, \"type\": \"scatter\"}], \"scatter3d\": [{\"line\": {\"colorbar\": {\"outlinewidth\": 0, \"ticks\": \"\"}}, \"marker\": {\"colorbar\": {\"outlinewidth\": 0, \"ticks\": \"\"}}, \"type\": \"scatter3d\"}], \"scattercarpet\": [{\"marker\": {\"colorbar\": {\"outlinewidth\": 0, \"ticks\": \"\"}}, \"type\": \"scattercarpet\"}], \"scattergeo\": [{\"marker\": {\"colorbar\": {\"outlinewidth\": 0, \"ticks\": \"\"}}, \"type\": \"scattergeo\"}], \"scattergl\": [{\"marker\": {\"colorbar\": {\"outlinewidth\": 0, \"ticks\": \"\"}}, \"type\": \"scattergl\"}], \"scattermapbox\": [{\"marker\": {\"colorbar\": {\"outlinewidth\": 0, \"ticks\": \"\"}}, \"type\": \"scattermapbox\"}], \"scatterpolar\": [{\"marker\": {\"colorbar\": {\"outlinewidth\": 0, \"ticks\": \"\"}}, \"type\": \"scatterpolar\"}], \"scatterpolargl\": [{\"marker\": {\"colorbar\": {\"outlinewidth\": 0, \"ticks\": \"\"}}, \"type\": \"scatterpolargl\"}], \"scatterternary\": [{\"marker\": {\"colorbar\": {\"outlinewidth\": 0, \"ticks\": \"\"}}, \"type\": \"scatterternary\"}], \"surface\": [{\"colorbar\": {\"outlinewidth\": 0, \"ticks\": \"\"}, \"colorscale\": [[0.0, \"#0d0887\"], [0.1111111111111111, \"#46039f\"], [0.2222222222222222, \"#7201a8\"], [0.3333333333333333, \"#9c179e\"], [0.4444444444444444, \"#bd3786\"], [0.5555555555555556, \"#d8576b\"], [0.6666666666666666, \"#ed7953\"], [0.7777777777777778, \"#fb9f3a\"], [0.8888888888888888, \"#fdca26\"], [1.0, \"#f0f921\"]], \"type\": \"surface\"}], \"table\": [{\"cells\": {\"fill\": {\"color\": \"#EBF0F8\"}, \"line\": {\"color\": \"white\"}}, \"header\": {\"fill\": {\"color\": \"#C8D4E3\"}, \"line\": {\"color\": \"white\"}}, \"type\": \"table\"}]}, \"layout\": {\"annotationdefaults\": {\"arrowcolor\": \"#2a3f5f\", \"arrowhead\": 0, \"arrowwidth\": 1}, \"coloraxis\": {\"colorbar\": {\"outlinewidth\": 0, \"ticks\": \"\"}}, \"colorscale\": {\"diverging\": [[0, \"#8e0152\"], [0.1, \"#c51b7d\"], [0.2, \"#de77ae\"], [0.3, \"#f1b6da\"], [0.4, \"#fde0ef\"], [0.5, \"#f7f7f7\"], [0.6, \"#e6f5d0\"], [0.7, \"#b8e186\"], [0.8, \"#7fbc41\"], [0.9, \"#4d9221\"], [1, \"#276419\"]], \"sequential\": [[0.0, \"#0d0887\"], [0.1111111111111111, \"#46039f\"], [0.2222222222222222, \"#7201a8\"], [0.3333333333333333, \"#9c179e\"], [0.4444444444444444, \"#bd3786\"], [0.5555555555555556, \"#d8576b\"], [0.6666666666666666, \"#ed7953\"], [0.7777777777777778, \"#fb9f3a\"], [0.8888888888888888, \"#fdca26\"], [1.0, \"#f0f921\"]], \"sequentialminus\": [[0.0, \"#0d0887\"], [0.1111111111111111, \"#46039f\"], [0.2222222222222222, \"#7201a8\"], [0.3333333333333333, \"#9c179e\"], [0.4444444444444444, \"#bd3786\"], [0.5555555555555556, \"#d8576b\"], [0.6666666666666666, \"#ed7953\"], [0.7777777777777778, \"#fb9f3a\"], [0.8888888888888888, \"#fdca26\"], [1.0, \"#f0f921\"]]}, \"colorway\": [\"#636efa\", \"#EF553B\", \"#00cc96\", \"#ab63fa\", \"#FFA15A\", \"#19d3f3\", \"#FF6692\", \"#B6E880\", \"#FF97FF\", \"#FECB52\"], \"font\": {\"color\": \"#2a3f5f\"}, \"geo\": {\"bgcolor\": \"white\", \"lakecolor\": \"white\", \"landcolor\": \"#E5ECF6\", \"showlakes\": true, \"showland\": true, \"subunitcolor\": \"white\"}, \"hoverlabel\": {\"align\": \"left\"}, \"hovermode\": \"closest\", \"mapbox\": {\"style\": \"light\"}, \"paper_bgcolor\": \"white\", \"plot_bgcolor\": \"#E5ECF6\", \"polar\": {\"angularaxis\": {\"gridcolor\": \"white\", \"linecolor\": \"white\", \"ticks\": \"\"}, \"bgcolor\": \"#E5ECF6\", \"radialaxis\": {\"gridcolor\": \"white\", \"linecolor\": \"white\", \"ticks\": \"\"}}, \"scene\": {\"xaxis\": {\"backgroundcolor\": \"#E5ECF6\", \"gridcolor\": \"white\", \"gridwidth\": 2, \"linecolor\": \"white\", \"showbackground\": true, \"ticks\": \"\", \"zerolinecolor\": \"white\"}, \"yaxis\": {\"backgroundcolor\": \"#E5ECF6\", \"gridcolor\": \"white\", \"gridwidth\": 2, \"linecolor\": \"white\", \"showbackground\": true, \"ticks\": \"\", \"zerolinecolor\": \"white\"}, \"zaxis\": {\"backgroundcolor\": \"#E5ECF6\", \"gridcolor\": \"white\", \"gridwidth\": 2, \"linecolor\": \"white\", \"showbackground\": true, \"ticks\": \"\", \"zerolinecolor\": \"white\"}}, \"shapedefaults\": {\"line\": {\"color\": \"#2a3f5f\"}}, \"ternary\": {\"aaxis\": {\"gridcolor\": \"white\", \"linecolor\": \"white\", \"ticks\": \"\"}, \"baxis\": {\"gridcolor\": \"white\", \"linecolor\": \"white\", \"ticks\": \"\"}, \"bgcolor\": \"#E5ECF6\", \"caxis\": {\"gridcolor\": \"white\", \"linecolor\": \"white\", \"ticks\": \"\"}}, \"title\": {\"x\": 0.05}, \"xaxis\": {\"automargin\": true, \"gridcolor\": \"white\", \"linecolor\": \"white\", \"ticks\": \"\", \"title\": {\"standoff\": 15}, \"zerolinecolor\": \"white\", \"zerolinewidth\": 2}, \"yaxis\": {\"automargin\": true, \"gridcolor\": \"white\", \"linecolor\": \"white\", \"ticks\": \"\", \"title\": {\"standoff\": 15}, \"zerolinecolor\": \"white\", \"zerolinewidth\": 2}}}, \"title\": {\"font\": {\"color\": \"#4D5663\"}}, \"xaxis\": {\"gridcolor\": \"#E1E5ED\", \"showgrid\": true, \"tickfont\": {\"color\": \"#4D5663\"}, \"title\": {\"font\": {\"color\": \"#4D5663\"}, \"text\": \"\"}, \"zerolinecolor\": \"#E1E5ED\"}, \"yaxis\": {\"gridcolor\": \"#E1E5ED\", \"showgrid\": true, \"tickfont\": {\"color\": \"#4D5663\"}, \"title\": {\"font\": {\"color\": \"#4D5663\"}, \"text\": \"\"}, \"zerolinecolor\": \"#E1E5ED\"}},\n",
       "                        {\"showLink\": true, \"linkText\": \"Export to plot.ly\", \"plotlyServerURL\": \"https://plot.ly\", \"responsive\": true}\n",
       "                    ).then(function(){\n",
       "                            \n",
       "var gd = document.getElementById('92d24368-6e1e-40f6-9b93-3ecdaf47fbe6');\n",
       "var x = new MutationObserver(function (mutations, observer) {{\n",
       "        var display = window.getComputedStyle(gd).display;\n",
       "        if (!display || display === 'none') {{\n",
       "            console.log([gd, 'removed!']);\n",
       "            Plotly.purge(gd);\n",
       "            observer.disconnect();\n",
       "        }}\n",
       "}});\n",
       "\n",
       "// Listen for the removal of the full notebook cells\n",
       "var notebookContainer = gd.closest('#notebook-container');\n",
       "if (notebookContainer) {{\n",
       "    x.observe(notebookContainer, {childList: true});\n",
       "}}\n",
       "\n",
       "// Listen for the clearing of the current output cell\n",
       "var outputEl = gd.closest('.output');\n",
       "if (outputEl) {{\n",
       "    x.observe(outputEl, {childList: true});\n",
       "}}\n",
       "\n",
       "                        })\n",
       "                };\n",
       "                });\n",
       "            </script>\n",
       "        </div>"
      ]
     },
     "metadata": {},
     "output_type": "display_data"
    }
   ],
   "source": [
    "df.iplot(kind='box')"
   ]
  },
  {
   "cell_type": "code",
   "execution_count": 26,
   "metadata": {},
   "outputs": [],
   "source": [
    "df3 = pd.DataFrame({'x':[1,2,3,4,5],'y':[10,20,30,20,10],'z':[1,2,3,4,5]})"
   ]
  },
  {
   "cell_type": "code",
   "execution_count": 27,
   "metadata": {},
   "outputs": [
    {
     "data": {
      "text/html": [
       "<div>\n",
       "<style scoped>\n",
       "    .dataframe tbody tr th:only-of-type {\n",
       "        vertical-align: middle;\n",
       "    }\n",
       "\n",
       "    .dataframe tbody tr th {\n",
       "        vertical-align: top;\n",
       "    }\n",
       "\n",
       "    .dataframe thead th {\n",
       "        text-align: right;\n",
       "    }\n",
       "</style>\n",
       "<table border=\"1\" class=\"dataframe\">\n",
       "  <thead>\n",
       "    <tr style=\"text-align: right;\">\n",
       "      <th></th>\n",
       "      <th>x</th>\n",
       "      <th>y</th>\n",
       "      <th>z</th>\n",
       "    </tr>\n",
       "  </thead>\n",
       "  <tbody>\n",
       "    <tr>\n",
       "      <th>0</th>\n",
       "      <td>1</td>\n",
       "      <td>10</td>\n",
       "      <td>1</td>\n",
       "    </tr>\n",
       "    <tr>\n",
       "      <th>1</th>\n",
       "      <td>2</td>\n",
       "      <td>20</td>\n",
       "      <td>2</td>\n",
       "    </tr>\n",
       "    <tr>\n",
       "      <th>2</th>\n",
       "      <td>3</td>\n",
       "      <td>30</td>\n",
       "      <td>3</td>\n",
       "    </tr>\n",
       "    <tr>\n",
       "      <th>3</th>\n",
       "      <td>4</td>\n",
       "      <td>20</td>\n",
       "      <td>4</td>\n",
       "    </tr>\n",
       "    <tr>\n",
       "      <th>4</th>\n",
       "      <td>5</td>\n",
       "      <td>10</td>\n",
       "      <td>5</td>\n",
       "    </tr>\n",
       "  </tbody>\n",
       "</table>\n",
       "</div>"
      ],
      "text/plain": [
       "   x   y  z\n",
       "0  1  10  1\n",
       "1  2  20  2\n",
       "2  3  30  3\n",
       "3  4  20  4\n",
       "4  5  10  5"
      ]
     },
     "execution_count": 27,
     "metadata": {},
     "output_type": "execute_result"
    }
   ],
   "source": [
    "df3"
   ]
  },
  {
   "cell_type": "code",
   "execution_count": 28,
   "metadata": {},
   "outputs": [
    {
     "data": {
      "application/vnd.plotly.v1+json": {
       "config": {
        "linkText": "Export to plot.ly",
        "plotlyServerURL": "https://plot.ly",
        "showLink": true
       },
       "data": [
        {
         "colorscale": [
          [
           0,
           "rgb(255, 153, 51)"
          ],
          [
           0.1111111111111111,
           "rgb(55, 128, 191)"
          ],
          [
           0.2222222222222222,
           "rgb(50, 171, 96)"
          ],
          [
           0.3333333333333333,
           "rgb(128, 0, 128)"
          ],
          [
           0.4444444444444444,
           "rgb(219, 64, 82)"
          ],
          [
           0.5555555555555556,
           "rgb(0, 128, 128)"
          ],
          [
           0.6666666666666666,
           "rgb(255, 255, 51)"
          ],
          [
           0.7777777777777778,
           "rgb(128, 128, 0)"
          ],
          [
           0.8888888888888888,
           "rgb(251, 128, 114)"
          ],
          [
           1,
           "rgb(128, 177, 211)"
          ]
         ],
         "type": "surface",
         "x": [
          0,
          1,
          2,
          3,
          4
         ],
         "y": [
          "x",
          "y",
          "z"
         ],
         "z": [
          [
           1,
           2,
           3,
           4,
           5
          ],
          [
           10,
           20,
           30,
           20,
           10
          ],
          [
           1,
           2,
           3,
           4,
           5
          ]
         ]
        }
       ],
       "layout": {
        "legend": {
         "bgcolor": "#F5F6F9",
         "font": {
          "color": "#4D5663"
         }
        },
        "paper_bgcolor": "#F5F6F9",
        "plot_bgcolor": "#F5F6F9",
        "template": {
         "data": {
          "bar": [
           {
            "error_x": {
             "color": "#2a3f5f"
            },
            "error_y": {
             "color": "#2a3f5f"
            },
            "marker": {
             "line": {
              "color": "#E5ECF6",
              "width": 0.5
             }
            },
            "type": "bar"
           }
          ],
          "barpolar": [
           {
            "marker": {
             "line": {
              "color": "#E5ECF6",
              "width": 0.5
             }
            },
            "type": "barpolar"
           }
          ],
          "carpet": [
           {
            "aaxis": {
             "endlinecolor": "#2a3f5f",
             "gridcolor": "white",
             "linecolor": "white",
             "minorgridcolor": "white",
             "startlinecolor": "#2a3f5f"
            },
            "baxis": {
             "endlinecolor": "#2a3f5f",
             "gridcolor": "white",
             "linecolor": "white",
             "minorgridcolor": "white",
             "startlinecolor": "#2a3f5f"
            },
            "type": "carpet"
           }
          ],
          "choropleth": [
           {
            "colorbar": {
             "outlinewidth": 0,
             "ticks": ""
            },
            "type": "choropleth"
           }
          ],
          "contour": [
           {
            "colorbar": {
             "outlinewidth": 0,
             "ticks": ""
            },
            "colorscale": [
             [
              0,
              "#0d0887"
             ],
             [
              0.1111111111111111,
              "#46039f"
             ],
             [
              0.2222222222222222,
              "#7201a8"
             ],
             [
              0.3333333333333333,
              "#9c179e"
             ],
             [
              0.4444444444444444,
              "#bd3786"
             ],
             [
              0.5555555555555556,
              "#d8576b"
             ],
             [
              0.6666666666666666,
              "#ed7953"
             ],
             [
              0.7777777777777778,
              "#fb9f3a"
             ],
             [
              0.8888888888888888,
              "#fdca26"
             ],
             [
              1,
              "#f0f921"
             ]
            ],
            "type": "contour"
           }
          ],
          "contourcarpet": [
           {
            "colorbar": {
             "outlinewidth": 0,
             "ticks": ""
            },
            "type": "contourcarpet"
           }
          ],
          "heatmap": [
           {
            "colorbar": {
             "outlinewidth": 0,
             "ticks": ""
            },
            "colorscale": [
             [
              0,
              "#0d0887"
             ],
             [
              0.1111111111111111,
              "#46039f"
             ],
             [
              0.2222222222222222,
              "#7201a8"
             ],
             [
              0.3333333333333333,
              "#9c179e"
             ],
             [
              0.4444444444444444,
              "#bd3786"
             ],
             [
              0.5555555555555556,
              "#d8576b"
             ],
             [
              0.6666666666666666,
              "#ed7953"
             ],
             [
              0.7777777777777778,
              "#fb9f3a"
             ],
             [
              0.8888888888888888,
              "#fdca26"
             ],
             [
              1,
              "#f0f921"
             ]
            ],
            "type": "heatmap"
           }
          ],
          "heatmapgl": [
           {
            "colorbar": {
             "outlinewidth": 0,
             "ticks": ""
            },
            "colorscale": [
             [
              0,
              "#0d0887"
             ],
             [
              0.1111111111111111,
              "#46039f"
             ],
             [
              0.2222222222222222,
              "#7201a8"
             ],
             [
              0.3333333333333333,
              "#9c179e"
             ],
             [
              0.4444444444444444,
              "#bd3786"
             ],
             [
              0.5555555555555556,
              "#d8576b"
             ],
             [
              0.6666666666666666,
              "#ed7953"
             ],
             [
              0.7777777777777778,
              "#fb9f3a"
             ],
             [
              0.8888888888888888,
              "#fdca26"
             ],
             [
              1,
              "#f0f921"
             ]
            ],
            "type": "heatmapgl"
           }
          ],
          "histogram": [
           {
            "marker": {
             "colorbar": {
              "outlinewidth": 0,
              "ticks": ""
             }
            },
            "type": "histogram"
           }
          ],
          "histogram2d": [
           {
            "colorbar": {
             "outlinewidth": 0,
             "ticks": ""
            },
            "colorscale": [
             [
              0,
              "#0d0887"
             ],
             [
              0.1111111111111111,
              "#46039f"
             ],
             [
              0.2222222222222222,
              "#7201a8"
             ],
             [
              0.3333333333333333,
              "#9c179e"
             ],
             [
              0.4444444444444444,
              "#bd3786"
             ],
             [
              0.5555555555555556,
              "#d8576b"
             ],
             [
              0.6666666666666666,
              "#ed7953"
             ],
             [
              0.7777777777777778,
              "#fb9f3a"
             ],
             [
              0.8888888888888888,
              "#fdca26"
             ],
             [
              1,
              "#f0f921"
             ]
            ],
            "type": "histogram2d"
           }
          ],
          "histogram2dcontour": [
           {
            "colorbar": {
             "outlinewidth": 0,
             "ticks": ""
            },
            "colorscale": [
             [
              0,
              "#0d0887"
             ],
             [
              0.1111111111111111,
              "#46039f"
             ],
             [
              0.2222222222222222,
              "#7201a8"
             ],
             [
              0.3333333333333333,
              "#9c179e"
             ],
             [
              0.4444444444444444,
              "#bd3786"
             ],
             [
              0.5555555555555556,
              "#d8576b"
             ],
             [
              0.6666666666666666,
              "#ed7953"
             ],
             [
              0.7777777777777778,
              "#fb9f3a"
             ],
             [
              0.8888888888888888,
              "#fdca26"
             ],
             [
              1,
              "#f0f921"
             ]
            ],
            "type": "histogram2dcontour"
           }
          ],
          "mesh3d": [
           {
            "colorbar": {
             "outlinewidth": 0,
             "ticks": ""
            },
            "type": "mesh3d"
           }
          ],
          "parcoords": [
           {
            "line": {
             "colorbar": {
              "outlinewidth": 0,
              "ticks": ""
             }
            },
            "type": "parcoords"
           }
          ],
          "pie": [
           {
            "automargin": true,
            "type": "pie"
           }
          ],
          "scatter": [
           {
            "marker": {
             "colorbar": {
              "outlinewidth": 0,
              "ticks": ""
             }
            },
            "type": "scatter"
           }
          ],
          "scatter3d": [
           {
            "line": {
             "colorbar": {
              "outlinewidth": 0,
              "ticks": ""
             }
            },
            "marker": {
             "colorbar": {
              "outlinewidth": 0,
              "ticks": ""
             }
            },
            "type": "scatter3d"
           }
          ],
          "scattercarpet": [
           {
            "marker": {
             "colorbar": {
              "outlinewidth": 0,
              "ticks": ""
             }
            },
            "type": "scattercarpet"
           }
          ],
          "scattergeo": [
           {
            "marker": {
             "colorbar": {
              "outlinewidth": 0,
              "ticks": ""
             }
            },
            "type": "scattergeo"
           }
          ],
          "scattergl": [
           {
            "marker": {
             "colorbar": {
              "outlinewidth": 0,
              "ticks": ""
             }
            },
            "type": "scattergl"
           }
          ],
          "scattermapbox": [
           {
            "marker": {
             "colorbar": {
              "outlinewidth": 0,
              "ticks": ""
             }
            },
            "type": "scattermapbox"
           }
          ],
          "scatterpolar": [
           {
            "marker": {
             "colorbar": {
              "outlinewidth": 0,
              "ticks": ""
             }
            },
            "type": "scatterpolar"
           }
          ],
          "scatterpolargl": [
           {
            "marker": {
             "colorbar": {
              "outlinewidth": 0,
              "ticks": ""
             }
            },
            "type": "scatterpolargl"
           }
          ],
          "scatterternary": [
           {
            "marker": {
             "colorbar": {
              "outlinewidth": 0,
              "ticks": ""
             }
            },
            "type": "scatterternary"
           }
          ],
          "surface": [
           {
            "colorbar": {
             "outlinewidth": 0,
             "ticks": ""
            },
            "colorscale": [
             [
              0,
              "#0d0887"
             ],
             [
              0.1111111111111111,
              "#46039f"
             ],
             [
              0.2222222222222222,
              "#7201a8"
             ],
             [
              0.3333333333333333,
              "#9c179e"
             ],
             [
              0.4444444444444444,
              "#bd3786"
             ],
             [
              0.5555555555555556,
              "#d8576b"
             ],
             [
              0.6666666666666666,
              "#ed7953"
             ],
             [
              0.7777777777777778,
              "#fb9f3a"
             ],
             [
              0.8888888888888888,
              "#fdca26"
             ],
             [
              1,
              "#f0f921"
             ]
            ],
            "type": "surface"
           }
          ],
          "table": [
           {
            "cells": {
             "fill": {
              "color": "#EBF0F8"
             },
             "line": {
              "color": "white"
             }
            },
            "header": {
             "fill": {
              "color": "#C8D4E3"
             },
             "line": {
              "color": "white"
             }
            },
            "type": "table"
           }
          ]
         },
         "layout": {
          "annotationdefaults": {
           "arrowcolor": "#2a3f5f",
           "arrowhead": 0,
           "arrowwidth": 1
          },
          "coloraxis": {
           "colorbar": {
            "outlinewidth": 0,
            "ticks": ""
           }
          },
          "colorscale": {
           "diverging": [
            [
             0,
             "#8e0152"
            ],
            [
             0.1,
             "#c51b7d"
            ],
            [
             0.2,
             "#de77ae"
            ],
            [
             0.3,
             "#f1b6da"
            ],
            [
             0.4,
             "#fde0ef"
            ],
            [
             0.5,
             "#f7f7f7"
            ],
            [
             0.6,
             "#e6f5d0"
            ],
            [
             0.7,
             "#b8e186"
            ],
            [
             0.8,
             "#7fbc41"
            ],
            [
             0.9,
             "#4d9221"
            ],
            [
             1,
             "#276419"
            ]
           ],
           "sequential": [
            [
             0,
             "#0d0887"
            ],
            [
             0.1111111111111111,
             "#46039f"
            ],
            [
             0.2222222222222222,
             "#7201a8"
            ],
            [
             0.3333333333333333,
             "#9c179e"
            ],
            [
             0.4444444444444444,
             "#bd3786"
            ],
            [
             0.5555555555555556,
             "#d8576b"
            ],
            [
             0.6666666666666666,
             "#ed7953"
            ],
            [
             0.7777777777777778,
             "#fb9f3a"
            ],
            [
             0.8888888888888888,
             "#fdca26"
            ],
            [
             1,
             "#f0f921"
            ]
           ],
           "sequentialminus": [
            [
             0,
             "#0d0887"
            ],
            [
             0.1111111111111111,
             "#46039f"
            ],
            [
             0.2222222222222222,
             "#7201a8"
            ],
            [
             0.3333333333333333,
             "#9c179e"
            ],
            [
             0.4444444444444444,
             "#bd3786"
            ],
            [
             0.5555555555555556,
             "#d8576b"
            ],
            [
             0.6666666666666666,
             "#ed7953"
            ],
            [
             0.7777777777777778,
             "#fb9f3a"
            ],
            [
             0.8888888888888888,
             "#fdca26"
            ],
            [
             1,
             "#f0f921"
            ]
           ]
          },
          "colorway": [
           "#636efa",
           "#EF553B",
           "#00cc96",
           "#ab63fa",
           "#FFA15A",
           "#19d3f3",
           "#FF6692",
           "#B6E880",
           "#FF97FF",
           "#FECB52"
          ],
          "font": {
           "color": "#2a3f5f"
          },
          "geo": {
           "bgcolor": "white",
           "lakecolor": "white",
           "landcolor": "#E5ECF6",
           "showlakes": true,
           "showland": true,
           "subunitcolor": "white"
          },
          "hoverlabel": {
           "align": "left"
          },
          "hovermode": "closest",
          "mapbox": {
           "style": "light"
          },
          "paper_bgcolor": "white",
          "plot_bgcolor": "#E5ECF6",
          "polar": {
           "angularaxis": {
            "gridcolor": "white",
            "linecolor": "white",
            "ticks": ""
           },
           "bgcolor": "#E5ECF6",
           "radialaxis": {
            "gridcolor": "white",
            "linecolor": "white",
            "ticks": ""
           }
          },
          "scene": {
           "xaxis": {
            "backgroundcolor": "#E5ECF6",
            "gridcolor": "white",
            "gridwidth": 2,
            "linecolor": "white",
            "showbackground": true,
            "ticks": "",
            "zerolinecolor": "white"
           },
           "yaxis": {
            "backgroundcolor": "#E5ECF6",
            "gridcolor": "white",
            "gridwidth": 2,
            "linecolor": "white",
            "showbackground": true,
            "ticks": "",
            "zerolinecolor": "white"
           },
           "zaxis": {
            "backgroundcolor": "#E5ECF6",
            "gridcolor": "white",
            "gridwidth": 2,
            "linecolor": "white",
            "showbackground": true,
            "ticks": "",
            "zerolinecolor": "white"
           }
          },
          "shapedefaults": {
           "line": {
            "color": "#2a3f5f"
           }
          },
          "ternary": {
           "aaxis": {
            "gridcolor": "white",
            "linecolor": "white",
            "ticks": ""
           },
           "baxis": {
            "gridcolor": "white",
            "linecolor": "white",
            "ticks": ""
           },
           "bgcolor": "#E5ECF6",
           "caxis": {
            "gridcolor": "white",
            "linecolor": "white",
            "ticks": ""
           }
          },
          "title": {
           "x": 0.05
          },
          "xaxis": {
           "automargin": true,
           "gridcolor": "white",
           "linecolor": "white",
           "ticks": "",
           "title": {
            "standoff": 15
           },
           "zerolinecolor": "white",
           "zerolinewidth": 2
          },
          "yaxis": {
           "automargin": true,
           "gridcolor": "white",
           "linecolor": "white",
           "ticks": "",
           "title": {
            "standoff": 15
           },
           "zerolinecolor": "white",
           "zerolinewidth": 2
          }
         }
        },
        "title": {
         "font": {
          "color": "#4D5663"
         }
        },
        "xaxis": {
         "gridcolor": "#E1E5ED",
         "showgrid": true,
         "tickfont": {
          "color": "#4D5663"
         },
         "title": {
          "font": {
           "color": "#4D5663"
          },
          "text": ""
         },
         "zerolinecolor": "#E1E5ED"
        },
        "yaxis": {
         "gridcolor": "#E1E5ED",
         "showgrid": true,
         "tickfont": {
          "color": "#4D5663"
         },
         "title": {
          "font": {
           "color": "#4D5663"
          },
          "text": ""
         },
         "zerolinecolor": "#E1E5ED"
        }
       }
      },
      "text/html": [
       "<div>\n",
       "        \n",
       "        \n",
       "            <div id=\"046fb8db-9995-4b0a-9f67-1f5c09cf67f0\" class=\"plotly-graph-div\" style=\"height:525px; width:100%;\"></div>\n",
       "            <script type=\"text/javascript\">\n",
       "                require([\"plotly\"], function(Plotly) {\n",
       "                    window.PLOTLYENV=window.PLOTLYENV || {};\n",
       "                    window.PLOTLYENV.BASE_URL='https://plot.ly';\n",
       "                    \n",
       "                if (document.getElementById(\"046fb8db-9995-4b0a-9f67-1f5c09cf67f0\")) {\n",
       "                    Plotly.newPlot(\n",
       "                        '046fb8db-9995-4b0a-9f67-1f5c09cf67f0',\n",
       "                        [{\"colorscale\": [[0.0, \"rgb(255, 153, 51)\"], [0.1111111111111111, \"rgb(55, 128, 191)\"], [0.2222222222222222, \"rgb(50, 171, 96)\"], [0.3333333333333333, \"rgb(128, 0, 128)\"], [0.4444444444444444, \"rgb(219, 64, 82)\"], [0.5555555555555556, \"rgb(0, 128, 128)\"], [0.6666666666666666, \"rgb(255, 255, 51)\"], [0.7777777777777778, \"rgb(128, 128, 0)\"], [0.8888888888888888, \"rgb(251, 128, 114)\"], [1.0, \"rgb(128, 177, 211)\"]], \"type\": \"surface\", \"x\": [0, 1, 2, 3, 4], \"y\": [\"x\", \"y\", \"z\"], \"z\": [[1, 2, 3, 4, 5], [10, 20, 30, 20, 10], [1, 2, 3, 4, 5]]}],\n",
       "                        {\"legend\": {\"bgcolor\": \"#F5F6F9\", \"font\": {\"color\": \"#4D5663\"}}, \"paper_bgcolor\": \"#F5F6F9\", \"plot_bgcolor\": \"#F5F6F9\", \"template\": {\"data\": {\"bar\": [{\"error_x\": {\"color\": \"#2a3f5f\"}, \"error_y\": {\"color\": \"#2a3f5f\"}, \"marker\": {\"line\": {\"color\": \"#E5ECF6\", \"width\": 0.5}}, \"type\": \"bar\"}], \"barpolar\": [{\"marker\": {\"line\": {\"color\": \"#E5ECF6\", \"width\": 0.5}}, \"type\": \"barpolar\"}], \"carpet\": [{\"aaxis\": {\"endlinecolor\": \"#2a3f5f\", \"gridcolor\": \"white\", \"linecolor\": \"white\", \"minorgridcolor\": \"white\", \"startlinecolor\": \"#2a3f5f\"}, \"baxis\": {\"endlinecolor\": \"#2a3f5f\", \"gridcolor\": \"white\", \"linecolor\": \"white\", \"minorgridcolor\": \"white\", \"startlinecolor\": \"#2a3f5f\"}, \"type\": \"carpet\"}], \"choropleth\": [{\"colorbar\": {\"outlinewidth\": 0, \"ticks\": \"\"}, \"type\": \"choropleth\"}], \"contour\": [{\"colorbar\": {\"outlinewidth\": 0, \"ticks\": \"\"}, \"colorscale\": [[0.0, \"#0d0887\"], [0.1111111111111111, \"#46039f\"], [0.2222222222222222, \"#7201a8\"], [0.3333333333333333, \"#9c179e\"], [0.4444444444444444, \"#bd3786\"], [0.5555555555555556, \"#d8576b\"], [0.6666666666666666, \"#ed7953\"], [0.7777777777777778, \"#fb9f3a\"], [0.8888888888888888, \"#fdca26\"], [1.0, \"#f0f921\"]], \"type\": \"contour\"}], \"contourcarpet\": [{\"colorbar\": {\"outlinewidth\": 0, \"ticks\": \"\"}, \"type\": \"contourcarpet\"}], \"heatmap\": [{\"colorbar\": {\"outlinewidth\": 0, \"ticks\": \"\"}, \"colorscale\": [[0.0, \"#0d0887\"], [0.1111111111111111, \"#46039f\"], [0.2222222222222222, \"#7201a8\"], [0.3333333333333333, \"#9c179e\"], [0.4444444444444444, \"#bd3786\"], [0.5555555555555556, \"#d8576b\"], [0.6666666666666666, \"#ed7953\"], [0.7777777777777778, \"#fb9f3a\"], [0.8888888888888888, \"#fdca26\"], [1.0, \"#f0f921\"]], \"type\": \"heatmap\"}], \"heatmapgl\": [{\"colorbar\": {\"outlinewidth\": 0, \"ticks\": \"\"}, \"colorscale\": [[0.0, \"#0d0887\"], [0.1111111111111111, \"#46039f\"], [0.2222222222222222, \"#7201a8\"], [0.3333333333333333, \"#9c179e\"], [0.4444444444444444, \"#bd3786\"], [0.5555555555555556, \"#d8576b\"], [0.6666666666666666, \"#ed7953\"], [0.7777777777777778, \"#fb9f3a\"], [0.8888888888888888, \"#fdca26\"], [1.0, \"#f0f921\"]], \"type\": \"heatmapgl\"}], \"histogram\": [{\"marker\": {\"colorbar\": {\"outlinewidth\": 0, \"ticks\": \"\"}}, \"type\": \"histogram\"}], \"histogram2d\": [{\"colorbar\": {\"outlinewidth\": 0, \"ticks\": \"\"}, \"colorscale\": [[0.0, \"#0d0887\"], [0.1111111111111111, \"#46039f\"], [0.2222222222222222, \"#7201a8\"], [0.3333333333333333, \"#9c179e\"], [0.4444444444444444, \"#bd3786\"], [0.5555555555555556, \"#d8576b\"], [0.6666666666666666, \"#ed7953\"], [0.7777777777777778, \"#fb9f3a\"], [0.8888888888888888, \"#fdca26\"], [1.0, \"#f0f921\"]], \"type\": \"histogram2d\"}], \"histogram2dcontour\": [{\"colorbar\": {\"outlinewidth\": 0, \"ticks\": \"\"}, \"colorscale\": [[0.0, \"#0d0887\"], [0.1111111111111111, \"#46039f\"], [0.2222222222222222, \"#7201a8\"], [0.3333333333333333, \"#9c179e\"], [0.4444444444444444, \"#bd3786\"], [0.5555555555555556, \"#d8576b\"], [0.6666666666666666, \"#ed7953\"], [0.7777777777777778, \"#fb9f3a\"], [0.8888888888888888, \"#fdca26\"], [1.0, \"#f0f921\"]], \"type\": \"histogram2dcontour\"}], \"mesh3d\": [{\"colorbar\": {\"outlinewidth\": 0, \"ticks\": \"\"}, \"type\": \"mesh3d\"}], \"parcoords\": [{\"line\": {\"colorbar\": {\"outlinewidth\": 0, \"ticks\": \"\"}}, \"type\": \"parcoords\"}], \"pie\": [{\"automargin\": true, \"type\": \"pie\"}], \"scatter\": [{\"marker\": {\"colorbar\": {\"outlinewidth\": 0, \"ticks\": \"\"}}, \"type\": \"scatter\"}], \"scatter3d\": [{\"line\": {\"colorbar\": {\"outlinewidth\": 0, \"ticks\": \"\"}}, \"marker\": {\"colorbar\": {\"outlinewidth\": 0, \"ticks\": \"\"}}, \"type\": \"scatter3d\"}], \"scattercarpet\": [{\"marker\": {\"colorbar\": {\"outlinewidth\": 0, \"ticks\": \"\"}}, \"type\": \"scattercarpet\"}], \"scattergeo\": [{\"marker\": {\"colorbar\": {\"outlinewidth\": 0, \"ticks\": \"\"}}, \"type\": \"scattergeo\"}], \"scattergl\": [{\"marker\": {\"colorbar\": {\"outlinewidth\": 0, \"ticks\": \"\"}}, \"type\": \"scattergl\"}], \"scattermapbox\": [{\"marker\": {\"colorbar\": {\"outlinewidth\": 0, \"ticks\": \"\"}}, \"type\": \"scattermapbox\"}], \"scatterpolar\": [{\"marker\": {\"colorbar\": {\"outlinewidth\": 0, \"ticks\": \"\"}}, \"type\": \"scatterpolar\"}], \"scatterpolargl\": [{\"marker\": {\"colorbar\": {\"outlinewidth\": 0, \"ticks\": \"\"}}, \"type\": \"scatterpolargl\"}], \"scatterternary\": [{\"marker\": {\"colorbar\": {\"outlinewidth\": 0, \"ticks\": \"\"}}, \"type\": \"scatterternary\"}], \"surface\": [{\"colorbar\": {\"outlinewidth\": 0, \"ticks\": \"\"}, \"colorscale\": [[0.0, \"#0d0887\"], [0.1111111111111111, \"#46039f\"], [0.2222222222222222, \"#7201a8\"], [0.3333333333333333, \"#9c179e\"], [0.4444444444444444, \"#bd3786\"], [0.5555555555555556, \"#d8576b\"], [0.6666666666666666, \"#ed7953\"], [0.7777777777777778, \"#fb9f3a\"], [0.8888888888888888, \"#fdca26\"], [1.0, \"#f0f921\"]], \"type\": \"surface\"}], \"table\": [{\"cells\": {\"fill\": {\"color\": \"#EBF0F8\"}, \"line\": {\"color\": \"white\"}}, \"header\": {\"fill\": {\"color\": \"#C8D4E3\"}, \"line\": {\"color\": \"white\"}}, \"type\": \"table\"}]}, \"layout\": {\"annotationdefaults\": {\"arrowcolor\": \"#2a3f5f\", \"arrowhead\": 0, \"arrowwidth\": 1}, \"coloraxis\": {\"colorbar\": {\"outlinewidth\": 0, \"ticks\": \"\"}}, \"colorscale\": {\"diverging\": [[0, \"#8e0152\"], [0.1, \"#c51b7d\"], [0.2, \"#de77ae\"], [0.3, \"#f1b6da\"], [0.4, \"#fde0ef\"], [0.5, \"#f7f7f7\"], [0.6, \"#e6f5d0\"], [0.7, \"#b8e186\"], [0.8, \"#7fbc41\"], [0.9, \"#4d9221\"], [1, \"#276419\"]], \"sequential\": [[0.0, \"#0d0887\"], [0.1111111111111111, \"#46039f\"], [0.2222222222222222, \"#7201a8\"], [0.3333333333333333, \"#9c179e\"], [0.4444444444444444, \"#bd3786\"], [0.5555555555555556, \"#d8576b\"], [0.6666666666666666, \"#ed7953\"], [0.7777777777777778, \"#fb9f3a\"], [0.8888888888888888, \"#fdca26\"], [1.0, \"#f0f921\"]], \"sequentialminus\": [[0.0, \"#0d0887\"], [0.1111111111111111, \"#46039f\"], [0.2222222222222222, \"#7201a8\"], [0.3333333333333333, \"#9c179e\"], [0.4444444444444444, \"#bd3786\"], [0.5555555555555556, \"#d8576b\"], [0.6666666666666666, \"#ed7953\"], [0.7777777777777778, \"#fb9f3a\"], [0.8888888888888888, \"#fdca26\"], [1.0, \"#f0f921\"]]}, \"colorway\": [\"#636efa\", \"#EF553B\", \"#00cc96\", \"#ab63fa\", \"#FFA15A\", \"#19d3f3\", \"#FF6692\", \"#B6E880\", \"#FF97FF\", \"#FECB52\"], \"font\": {\"color\": \"#2a3f5f\"}, \"geo\": {\"bgcolor\": \"white\", \"lakecolor\": \"white\", \"landcolor\": \"#E5ECF6\", \"showlakes\": true, \"showland\": true, \"subunitcolor\": \"white\"}, \"hoverlabel\": {\"align\": \"left\"}, \"hovermode\": \"closest\", \"mapbox\": {\"style\": \"light\"}, \"paper_bgcolor\": \"white\", \"plot_bgcolor\": \"#E5ECF6\", \"polar\": {\"angularaxis\": {\"gridcolor\": \"white\", \"linecolor\": \"white\", \"ticks\": \"\"}, \"bgcolor\": \"#E5ECF6\", \"radialaxis\": {\"gridcolor\": \"white\", \"linecolor\": \"white\", \"ticks\": \"\"}}, \"scene\": {\"xaxis\": {\"backgroundcolor\": \"#E5ECF6\", \"gridcolor\": \"white\", \"gridwidth\": 2, \"linecolor\": \"white\", \"showbackground\": true, \"ticks\": \"\", \"zerolinecolor\": \"white\"}, \"yaxis\": {\"backgroundcolor\": \"#E5ECF6\", \"gridcolor\": \"white\", \"gridwidth\": 2, \"linecolor\": \"white\", \"showbackground\": true, \"ticks\": \"\", \"zerolinecolor\": \"white\"}, \"zaxis\": {\"backgroundcolor\": \"#E5ECF6\", \"gridcolor\": \"white\", \"gridwidth\": 2, \"linecolor\": \"white\", \"showbackground\": true, \"ticks\": \"\", \"zerolinecolor\": \"white\"}}, \"shapedefaults\": {\"line\": {\"color\": \"#2a3f5f\"}}, \"ternary\": {\"aaxis\": {\"gridcolor\": \"white\", \"linecolor\": \"white\", \"ticks\": \"\"}, \"baxis\": {\"gridcolor\": \"white\", \"linecolor\": \"white\", \"ticks\": \"\"}, \"bgcolor\": \"#E5ECF6\", \"caxis\": {\"gridcolor\": \"white\", \"linecolor\": \"white\", \"ticks\": \"\"}}, \"title\": {\"x\": 0.05}, \"xaxis\": {\"automargin\": true, \"gridcolor\": \"white\", \"linecolor\": \"white\", \"ticks\": \"\", \"title\": {\"standoff\": 15}, \"zerolinecolor\": \"white\", \"zerolinewidth\": 2}, \"yaxis\": {\"automargin\": true, \"gridcolor\": \"white\", \"linecolor\": \"white\", \"ticks\": \"\", \"title\": {\"standoff\": 15}, \"zerolinecolor\": \"white\", \"zerolinewidth\": 2}}}, \"title\": {\"font\": {\"color\": \"#4D5663\"}}, \"xaxis\": {\"gridcolor\": \"#E1E5ED\", \"showgrid\": true, \"tickfont\": {\"color\": \"#4D5663\"}, \"title\": {\"font\": {\"color\": \"#4D5663\"}, \"text\": \"\"}, \"zerolinecolor\": \"#E1E5ED\"}, \"yaxis\": {\"gridcolor\": \"#E1E5ED\", \"showgrid\": true, \"tickfont\": {\"color\": \"#4D5663\"}, \"title\": {\"font\": {\"color\": \"#4D5663\"}, \"text\": \"\"}, \"zerolinecolor\": \"#E1E5ED\"}},\n",
       "                        {\"showLink\": true, \"linkText\": \"Export to plot.ly\", \"plotlyServerURL\": \"https://plot.ly\", \"responsive\": true}\n",
       "                    ).then(function(){\n",
       "                            \n",
       "var gd = document.getElementById('046fb8db-9995-4b0a-9f67-1f5c09cf67f0');\n",
       "var x = new MutationObserver(function (mutations, observer) {{\n",
       "        var display = window.getComputedStyle(gd).display;\n",
       "        if (!display || display === 'none') {{\n",
       "            console.log([gd, 'removed!']);\n",
       "            Plotly.purge(gd);\n",
       "            observer.disconnect();\n",
       "        }}\n",
       "}});\n",
       "\n",
       "// Listen for the removal of the full notebook cells\n",
       "var notebookContainer = gd.closest('#notebook-container');\n",
       "if (notebookContainer) {{\n",
       "    x.observe(notebookContainer, {childList: true});\n",
       "}}\n",
       "\n",
       "// Listen for the clearing of the current output cell\n",
       "var outputEl = gd.closest('.output');\n",
       "if (outputEl) {{\n",
       "    x.observe(outputEl, {childList: true});\n",
       "}}\n",
       "\n",
       "                        })\n",
       "                };\n",
       "                });\n",
       "            </script>\n",
       "        </div>"
      ]
     },
     "metadata": {},
     "output_type": "display_data"
    }
   ],
   "source": [
    "df3.iplot(kind='surface')"
   ]
  },
  {
   "cell_type": "code",
   "execution_count": 29,
   "metadata": {},
   "outputs": [
    {
     "data": {
      "application/vnd.plotly.v1+json": {
       "config": {
        "linkText": "Export to plot.ly",
        "plotlyServerURL": "https://plot.ly",
        "showLink": true
       },
       "data": [
        {
         "colorscale": [
          [
           0,
           "rgb(165,0,38)"
          ],
          [
           0.1,
           "rgb(215,48,39)"
          ],
          [
           0.2,
           "rgb(244,109,67)"
          ],
          [
           0.3,
           "rgb(253,174,97)"
          ],
          [
           0.4,
           "rgb(254,224,144)"
          ],
          [
           0.5,
           "rgb(255,255,191)"
          ],
          [
           0.6,
           "rgb(224,243,248)"
          ],
          [
           0.7,
           "rgb(171,217,233)"
          ],
          [
           0.8,
           "rgb(116,173,209)"
          ],
          [
           0.9,
           "rgb(69,117,180)"
          ],
          [
           1,
           "rgb(49,54,149)"
          ]
         ],
         "type": "surface",
         "x": [
          0,
          1,
          2,
          3,
          4
         ],
         "y": [
          "x",
          "y",
          "z"
         ],
         "z": [
          [
           1,
           2,
           3,
           4,
           5
          ],
          [
           10,
           20,
           30,
           20,
           10
          ],
          [
           1,
           2,
           3,
           4,
           5
          ]
         ]
        }
       ],
       "layout": {
        "legend": {
         "bgcolor": "#F5F6F9",
         "font": {
          "color": "#4D5663"
         }
        },
        "paper_bgcolor": "#F5F6F9",
        "plot_bgcolor": "#F5F6F9",
        "template": {
         "data": {
          "bar": [
           {
            "error_x": {
             "color": "#2a3f5f"
            },
            "error_y": {
             "color": "#2a3f5f"
            },
            "marker": {
             "line": {
              "color": "#E5ECF6",
              "width": 0.5
             }
            },
            "type": "bar"
           }
          ],
          "barpolar": [
           {
            "marker": {
             "line": {
              "color": "#E5ECF6",
              "width": 0.5
             }
            },
            "type": "barpolar"
           }
          ],
          "carpet": [
           {
            "aaxis": {
             "endlinecolor": "#2a3f5f",
             "gridcolor": "white",
             "linecolor": "white",
             "minorgridcolor": "white",
             "startlinecolor": "#2a3f5f"
            },
            "baxis": {
             "endlinecolor": "#2a3f5f",
             "gridcolor": "white",
             "linecolor": "white",
             "minorgridcolor": "white",
             "startlinecolor": "#2a3f5f"
            },
            "type": "carpet"
           }
          ],
          "choropleth": [
           {
            "colorbar": {
             "outlinewidth": 0,
             "ticks": ""
            },
            "type": "choropleth"
           }
          ],
          "contour": [
           {
            "colorbar": {
             "outlinewidth": 0,
             "ticks": ""
            },
            "colorscale": [
             [
              0,
              "#0d0887"
             ],
             [
              0.1111111111111111,
              "#46039f"
             ],
             [
              0.2222222222222222,
              "#7201a8"
             ],
             [
              0.3333333333333333,
              "#9c179e"
             ],
             [
              0.4444444444444444,
              "#bd3786"
             ],
             [
              0.5555555555555556,
              "#d8576b"
             ],
             [
              0.6666666666666666,
              "#ed7953"
             ],
             [
              0.7777777777777778,
              "#fb9f3a"
             ],
             [
              0.8888888888888888,
              "#fdca26"
             ],
             [
              1,
              "#f0f921"
             ]
            ],
            "type": "contour"
           }
          ],
          "contourcarpet": [
           {
            "colorbar": {
             "outlinewidth": 0,
             "ticks": ""
            },
            "type": "contourcarpet"
           }
          ],
          "heatmap": [
           {
            "colorbar": {
             "outlinewidth": 0,
             "ticks": ""
            },
            "colorscale": [
             [
              0,
              "#0d0887"
             ],
             [
              0.1111111111111111,
              "#46039f"
             ],
             [
              0.2222222222222222,
              "#7201a8"
             ],
             [
              0.3333333333333333,
              "#9c179e"
             ],
             [
              0.4444444444444444,
              "#bd3786"
             ],
             [
              0.5555555555555556,
              "#d8576b"
             ],
             [
              0.6666666666666666,
              "#ed7953"
             ],
             [
              0.7777777777777778,
              "#fb9f3a"
             ],
             [
              0.8888888888888888,
              "#fdca26"
             ],
             [
              1,
              "#f0f921"
             ]
            ],
            "type": "heatmap"
           }
          ],
          "heatmapgl": [
           {
            "colorbar": {
             "outlinewidth": 0,
             "ticks": ""
            },
            "colorscale": [
             [
              0,
              "#0d0887"
             ],
             [
              0.1111111111111111,
              "#46039f"
             ],
             [
              0.2222222222222222,
              "#7201a8"
             ],
             [
              0.3333333333333333,
              "#9c179e"
             ],
             [
              0.4444444444444444,
              "#bd3786"
             ],
             [
              0.5555555555555556,
              "#d8576b"
             ],
             [
              0.6666666666666666,
              "#ed7953"
             ],
             [
              0.7777777777777778,
              "#fb9f3a"
             ],
             [
              0.8888888888888888,
              "#fdca26"
             ],
             [
              1,
              "#f0f921"
             ]
            ],
            "type": "heatmapgl"
           }
          ],
          "histogram": [
           {
            "marker": {
             "colorbar": {
              "outlinewidth": 0,
              "ticks": ""
             }
            },
            "type": "histogram"
           }
          ],
          "histogram2d": [
           {
            "colorbar": {
             "outlinewidth": 0,
             "ticks": ""
            },
            "colorscale": [
             [
              0,
              "#0d0887"
             ],
             [
              0.1111111111111111,
              "#46039f"
             ],
             [
              0.2222222222222222,
              "#7201a8"
             ],
             [
              0.3333333333333333,
              "#9c179e"
             ],
             [
              0.4444444444444444,
              "#bd3786"
             ],
             [
              0.5555555555555556,
              "#d8576b"
             ],
             [
              0.6666666666666666,
              "#ed7953"
             ],
             [
              0.7777777777777778,
              "#fb9f3a"
             ],
             [
              0.8888888888888888,
              "#fdca26"
             ],
             [
              1,
              "#f0f921"
             ]
            ],
            "type": "histogram2d"
           }
          ],
          "histogram2dcontour": [
           {
            "colorbar": {
             "outlinewidth": 0,
             "ticks": ""
            },
            "colorscale": [
             [
              0,
              "#0d0887"
             ],
             [
              0.1111111111111111,
              "#46039f"
             ],
             [
              0.2222222222222222,
              "#7201a8"
             ],
             [
              0.3333333333333333,
              "#9c179e"
             ],
             [
              0.4444444444444444,
              "#bd3786"
             ],
             [
              0.5555555555555556,
              "#d8576b"
             ],
             [
              0.6666666666666666,
              "#ed7953"
             ],
             [
              0.7777777777777778,
              "#fb9f3a"
             ],
             [
              0.8888888888888888,
              "#fdca26"
             ],
             [
              1,
              "#f0f921"
             ]
            ],
            "type": "histogram2dcontour"
           }
          ],
          "mesh3d": [
           {
            "colorbar": {
             "outlinewidth": 0,
             "ticks": ""
            },
            "type": "mesh3d"
           }
          ],
          "parcoords": [
           {
            "line": {
             "colorbar": {
              "outlinewidth": 0,
              "ticks": ""
             }
            },
            "type": "parcoords"
           }
          ],
          "pie": [
           {
            "automargin": true,
            "type": "pie"
           }
          ],
          "scatter": [
           {
            "marker": {
             "colorbar": {
              "outlinewidth": 0,
              "ticks": ""
             }
            },
            "type": "scatter"
           }
          ],
          "scatter3d": [
           {
            "line": {
             "colorbar": {
              "outlinewidth": 0,
              "ticks": ""
             }
            },
            "marker": {
             "colorbar": {
              "outlinewidth": 0,
              "ticks": ""
             }
            },
            "type": "scatter3d"
           }
          ],
          "scattercarpet": [
           {
            "marker": {
             "colorbar": {
              "outlinewidth": 0,
              "ticks": ""
             }
            },
            "type": "scattercarpet"
           }
          ],
          "scattergeo": [
           {
            "marker": {
             "colorbar": {
              "outlinewidth": 0,
              "ticks": ""
             }
            },
            "type": "scattergeo"
           }
          ],
          "scattergl": [
           {
            "marker": {
             "colorbar": {
              "outlinewidth": 0,
              "ticks": ""
             }
            },
            "type": "scattergl"
           }
          ],
          "scattermapbox": [
           {
            "marker": {
             "colorbar": {
              "outlinewidth": 0,
              "ticks": ""
             }
            },
            "type": "scattermapbox"
           }
          ],
          "scatterpolar": [
           {
            "marker": {
             "colorbar": {
              "outlinewidth": 0,
              "ticks": ""
             }
            },
            "type": "scatterpolar"
           }
          ],
          "scatterpolargl": [
           {
            "marker": {
             "colorbar": {
              "outlinewidth": 0,
              "ticks": ""
             }
            },
            "type": "scatterpolargl"
           }
          ],
          "scatterternary": [
           {
            "marker": {
             "colorbar": {
              "outlinewidth": 0,
              "ticks": ""
             }
            },
            "type": "scatterternary"
           }
          ],
          "surface": [
           {
            "colorbar": {
             "outlinewidth": 0,
             "ticks": ""
            },
            "colorscale": [
             [
              0,
              "#0d0887"
             ],
             [
              0.1111111111111111,
              "#46039f"
             ],
             [
              0.2222222222222222,
              "#7201a8"
             ],
             [
              0.3333333333333333,
              "#9c179e"
             ],
             [
              0.4444444444444444,
              "#bd3786"
             ],
             [
              0.5555555555555556,
              "#d8576b"
             ],
             [
              0.6666666666666666,
              "#ed7953"
             ],
             [
              0.7777777777777778,
              "#fb9f3a"
             ],
             [
              0.8888888888888888,
              "#fdca26"
             ],
             [
              1,
              "#f0f921"
             ]
            ],
            "type": "surface"
           }
          ],
          "table": [
           {
            "cells": {
             "fill": {
              "color": "#EBF0F8"
             },
             "line": {
              "color": "white"
             }
            },
            "header": {
             "fill": {
              "color": "#C8D4E3"
             },
             "line": {
              "color": "white"
             }
            },
            "type": "table"
           }
          ]
         },
         "layout": {
          "annotationdefaults": {
           "arrowcolor": "#2a3f5f",
           "arrowhead": 0,
           "arrowwidth": 1
          },
          "coloraxis": {
           "colorbar": {
            "outlinewidth": 0,
            "ticks": ""
           }
          },
          "colorscale": {
           "diverging": [
            [
             0,
             "#8e0152"
            ],
            [
             0.1,
             "#c51b7d"
            ],
            [
             0.2,
             "#de77ae"
            ],
            [
             0.3,
             "#f1b6da"
            ],
            [
             0.4,
             "#fde0ef"
            ],
            [
             0.5,
             "#f7f7f7"
            ],
            [
             0.6,
             "#e6f5d0"
            ],
            [
             0.7,
             "#b8e186"
            ],
            [
             0.8,
             "#7fbc41"
            ],
            [
             0.9,
             "#4d9221"
            ],
            [
             1,
             "#276419"
            ]
           ],
           "sequential": [
            [
             0,
             "#0d0887"
            ],
            [
             0.1111111111111111,
             "#46039f"
            ],
            [
             0.2222222222222222,
             "#7201a8"
            ],
            [
             0.3333333333333333,
             "#9c179e"
            ],
            [
             0.4444444444444444,
             "#bd3786"
            ],
            [
             0.5555555555555556,
             "#d8576b"
            ],
            [
             0.6666666666666666,
             "#ed7953"
            ],
            [
             0.7777777777777778,
             "#fb9f3a"
            ],
            [
             0.8888888888888888,
             "#fdca26"
            ],
            [
             1,
             "#f0f921"
            ]
           ],
           "sequentialminus": [
            [
             0,
             "#0d0887"
            ],
            [
             0.1111111111111111,
             "#46039f"
            ],
            [
             0.2222222222222222,
             "#7201a8"
            ],
            [
             0.3333333333333333,
             "#9c179e"
            ],
            [
             0.4444444444444444,
             "#bd3786"
            ],
            [
             0.5555555555555556,
             "#d8576b"
            ],
            [
             0.6666666666666666,
             "#ed7953"
            ],
            [
             0.7777777777777778,
             "#fb9f3a"
            ],
            [
             0.8888888888888888,
             "#fdca26"
            ],
            [
             1,
             "#f0f921"
            ]
           ]
          },
          "colorway": [
           "#636efa",
           "#EF553B",
           "#00cc96",
           "#ab63fa",
           "#FFA15A",
           "#19d3f3",
           "#FF6692",
           "#B6E880",
           "#FF97FF",
           "#FECB52"
          ],
          "font": {
           "color": "#2a3f5f"
          },
          "geo": {
           "bgcolor": "white",
           "lakecolor": "white",
           "landcolor": "#E5ECF6",
           "showlakes": true,
           "showland": true,
           "subunitcolor": "white"
          },
          "hoverlabel": {
           "align": "left"
          },
          "hovermode": "closest",
          "mapbox": {
           "style": "light"
          },
          "paper_bgcolor": "white",
          "plot_bgcolor": "#E5ECF6",
          "polar": {
           "angularaxis": {
            "gridcolor": "white",
            "linecolor": "white",
            "ticks": ""
           },
           "bgcolor": "#E5ECF6",
           "radialaxis": {
            "gridcolor": "white",
            "linecolor": "white",
            "ticks": ""
           }
          },
          "scene": {
           "xaxis": {
            "backgroundcolor": "#E5ECF6",
            "gridcolor": "white",
            "gridwidth": 2,
            "linecolor": "white",
            "showbackground": true,
            "ticks": "",
            "zerolinecolor": "white"
           },
           "yaxis": {
            "backgroundcolor": "#E5ECF6",
            "gridcolor": "white",
            "gridwidth": 2,
            "linecolor": "white",
            "showbackground": true,
            "ticks": "",
            "zerolinecolor": "white"
           },
           "zaxis": {
            "backgroundcolor": "#E5ECF6",
            "gridcolor": "white",
            "gridwidth": 2,
            "linecolor": "white",
            "showbackground": true,
            "ticks": "",
            "zerolinecolor": "white"
           }
          },
          "shapedefaults": {
           "line": {
            "color": "#2a3f5f"
           }
          },
          "ternary": {
           "aaxis": {
            "gridcolor": "white",
            "linecolor": "white",
            "ticks": ""
           },
           "baxis": {
            "gridcolor": "white",
            "linecolor": "white",
            "ticks": ""
           },
           "bgcolor": "#E5ECF6",
           "caxis": {
            "gridcolor": "white",
            "linecolor": "white",
            "ticks": ""
           }
          },
          "title": {
           "x": 0.05
          },
          "xaxis": {
           "automargin": true,
           "gridcolor": "white",
           "linecolor": "white",
           "ticks": "",
           "title": {
            "standoff": 15
           },
           "zerolinecolor": "white",
           "zerolinewidth": 2
          },
          "yaxis": {
           "automargin": true,
           "gridcolor": "white",
           "linecolor": "white",
           "ticks": "",
           "title": {
            "standoff": 15
           },
           "zerolinecolor": "white",
           "zerolinewidth": 2
          }
         }
        },
        "title": {
         "font": {
          "color": "#4D5663"
         }
        },
        "xaxis": {
         "gridcolor": "#E1E5ED",
         "showgrid": true,
         "tickfont": {
          "color": "#4D5663"
         },
         "title": {
          "font": {
           "color": "#4D5663"
          },
          "text": ""
         },
         "zerolinecolor": "#E1E5ED"
        },
        "yaxis": {
         "gridcolor": "#E1E5ED",
         "showgrid": true,
         "tickfont": {
          "color": "#4D5663"
         },
         "title": {
          "font": {
           "color": "#4D5663"
          },
          "text": ""
         },
         "zerolinecolor": "#E1E5ED"
        }
       }
      },
      "text/html": [
       "<div>\n",
       "        \n",
       "        \n",
       "            <div id=\"5063ea94-15aa-4c58-9bb5-5396f19b4d9f\" class=\"plotly-graph-div\" style=\"height:525px; width:100%;\"></div>\n",
       "            <script type=\"text/javascript\">\n",
       "                require([\"plotly\"], function(Plotly) {\n",
       "                    window.PLOTLYENV=window.PLOTLYENV || {};\n",
       "                    window.PLOTLYENV.BASE_URL='https://plot.ly';\n",
       "                    \n",
       "                if (document.getElementById(\"5063ea94-15aa-4c58-9bb5-5396f19b4d9f\")) {\n",
       "                    Plotly.newPlot(\n",
       "                        '5063ea94-15aa-4c58-9bb5-5396f19b4d9f',\n",
       "                        [{\"colorscale\": [[0.0, \"rgb(165,0,38)\"], [0.1, \"rgb(215,48,39)\"], [0.2, \"rgb(244,109,67)\"], [0.3, \"rgb(253,174,97)\"], [0.4, \"rgb(254,224,144)\"], [0.5, \"rgb(255,255,191)\"], [0.6, \"rgb(224,243,248)\"], [0.7, \"rgb(171,217,233)\"], [0.8, \"rgb(116,173,209)\"], [0.9, \"rgb(69,117,180)\"], [1.0, \"rgb(49,54,149)\"]], \"type\": \"surface\", \"x\": [0, 1, 2, 3, 4], \"y\": [\"x\", \"y\", \"z\"], \"z\": [[1, 2, 3, 4, 5], [10, 20, 30, 20, 10], [1, 2, 3, 4, 5]]}],\n",
       "                        {\"legend\": {\"bgcolor\": \"#F5F6F9\", \"font\": {\"color\": \"#4D5663\"}}, \"paper_bgcolor\": \"#F5F6F9\", \"plot_bgcolor\": \"#F5F6F9\", \"template\": {\"data\": {\"bar\": [{\"error_x\": {\"color\": \"#2a3f5f\"}, \"error_y\": {\"color\": \"#2a3f5f\"}, \"marker\": {\"line\": {\"color\": \"#E5ECF6\", \"width\": 0.5}}, \"type\": \"bar\"}], \"barpolar\": [{\"marker\": {\"line\": {\"color\": \"#E5ECF6\", \"width\": 0.5}}, \"type\": \"barpolar\"}], \"carpet\": [{\"aaxis\": {\"endlinecolor\": \"#2a3f5f\", \"gridcolor\": \"white\", \"linecolor\": \"white\", \"minorgridcolor\": \"white\", \"startlinecolor\": \"#2a3f5f\"}, \"baxis\": {\"endlinecolor\": \"#2a3f5f\", \"gridcolor\": \"white\", \"linecolor\": \"white\", \"minorgridcolor\": \"white\", \"startlinecolor\": \"#2a3f5f\"}, \"type\": \"carpet\"}], \"choropleth\": [{\"colorbar\": {\"outlinewidth\": 0, \"ticks\": \"\"}, \"type\": \"choropleth\"}], \"contour\": [{\"colorbar\": {\"outlinewidth\": 0, \"ticks\": \"\"}, \"colorscale\": [[0.0, \"#0d0887\"], [0.1111111111111111, \"#46039f\"], [0.2222222222222222, \"#7201a8\"], [0.3333333333333333, \"#9c179e\"], [0.4444444444444444, \"#bd3786\"], [0.5555555555555556, \"#d8576b\"], [0.6666666666666666, \"#ed7953\"], [0.7777777777777778, \"#fb9f3a\"], [0.8888888888888888, \"#fdca26\"], [1.0, \"#f0f921\"]], \"type\": \"contour\"}], \"contourcarpet\": [{\"colorbar\": {\"outlinewidth\": 0, \"ticks\": \"\"}, \"type\": \"contourcarpet\"}], \"heatmap\": [{\"colorbar\": {\"outlinewidth\": 0, \"ticks\": \"\"}, \"colorscale\": [[0.0, \"#0d0887\"], [0.1111111111111111, \"#46039f\"], [0.2222222222222222, \"#7201a8\"], [0.3333333333333333, \"#9c179e\"], [0.4444444444444444, \"#bd3786\"], [0.5555555555555556, \"#d8576b\"], [0.6666666666666666, \"#ed7953\"], [0.7777777777777778, \"#fb9f3a\"], [0.8888888888888888, \"#fdca26\"], [1.0, \"#f0f921\"]], \"type\": \"heatmap\"}], \"heatmapgl\": [{\"colorbar\": {\"outlinewidth\": 0, \"ticks\": \"\"}, \"colorscale\": [[0.0, \"#0d0887\"], [0.1111111111111111, \"#46039f\"], [0.2222222222222222, \"#7201a8\"], [0.3333333333333333, \"#9c179e\"], [0.4444444444444444, \"#bd3786\"], [0.5555555555555556, \"#d8576b\"], [0.6666666666666666, \"#ed7953\"], [0.7777777777777778, \"#fb9f3a\"], [0.8888888888888888, \"#fdca26\"], [1.0, \"#f0f921\"]], \"type\": \"heatmapgl\"}], \"histogram\": [{\"marker\": {\"colorbar\": {\"outlinewidth\": 0, \"ticks\": \"\"}}, \"type\": \"histogram\"}], \"histogram2d\": [{\"colorbar\": {\"outlinewidth\": 0, \"ticks\": \"\"}, \"colorscale\": [[0.0, \"#0d0887\"], [0.1111111111111111, \"#46039f\"], [0.2222222222222222, \"#7201a8\"], [0.3333333333333333, \"#9c179e\"], [0.4444444444444444, \"#bd3786\"], [0.5555555555555556, \"#d8576b\"], [0.6666666666666666, \"#ed7953\"], [0.7777777777777778, \"#fb9f3a\"], [0.8888888888888888, \"#fdca26\"], [1.0, \"#f0f921\"]], \"type\": \"histogram2d\"}], \"histogram2dcontour\": [{\"colorbar\": {\"outlinewidth\": 0, \"ticks\": \"\"}, \"colorscale\": [[0.0, \"#0d0887\"], [0.1111111111111111, \"#46039f\"], [0.2222222222222222, \"#7201a8\"], [0.3333333333333333, \"#9c179e\"], [0.4444444444444444, \"#bd3786\"], [0.5555555555555556, \"#d8576b\"], [0.6666666666666666, \"#ed7953\"], [0.7777777777777778, \"#fb9f3a\"], [0.8888888888888888, \"#fdca26\"], [1.0, \"#f0f921\"]], \"type\": \"histogram2dcontour\"}], \"mesh3d\": [{\"colorbar\": {\"outlinewidth\": 0, \"ticks\": \"\"}, \"type\": \"mesh3d\"}], \"parcoords\": [{\"line\": {\"colorbar\": {\"outlinewidth\": 0, \"ticks\": \"\"}}, \"type\": \"parcoords\"}], \"pie\": [{\"automargin\": true, \"type\": \"pie\"}], \"scatter\": [{\"marker\": {\"colorbar\": {\"outlinewidth\": 0, \"ticks\": \"\"}}, \"type\": \"scatter\"}], \"scatter3d\": [{\"line\": {\"colorbar\": {\"outlinewidth\": 0, \"ticks\": \"\"}}, \"marker\": {\"colorbar\": {\"outlinewidth\": 0, \"ticks\": \"\"}}, \"type\": \"scatter3d\"}], \"scattercarpet\": [{\"marker\": {\"colorbar\": {\"outlinewidth\": 0, \"ticks\": \"\"}}, \"type\": \"scattercarpet\"}], \"scattergeo\": [{\"marker\": {\"colorbar\": {\"outlinewidth\": 0, \"ticks\": \"\"}}, \"type\": \"scattergeo\"}], \"scattergl\": [{\"marker\": {\"colorbar\": {\"outlinewidth\": 0, \"ticks\": \"\"}}, \"type\": \"scattergl\"}], \"scattermapbox\": [{\"marker\": {\"colorbar\": {\"outlinewidth\": 0, \"ticks\": \"\"}}, \"type\": \"scattermapbox\"}], \"scatterpolar\": [{\"marker\": {\"colorbar\": {\"outlinewidth\": 0, \"ticks\": \"\"}}, \"type\": \"scatterpolar\"}], \"scatterpolargl\": [{\"marker\": {\"colorbar\": {\"outlinewidth\": 0, \"ticks\": \"\"}}, \"type\": \"scatterpolargl\"}], \"scatterternary\": [{\"marker\": {\"colorbar\": {\"outlinewidth\": 0, \"ticks\": \"\"}}, \"type\": \"scatterternary\"}], \"surface\": [{\"colorbar\": {\"outlinewidth\": 0, \"ticks\": \"\"}, \"colorscale\": [[0.0, \"#0d0887\"], [0.1111111111111111, \"#46039f\"], [0.2222222222222222, \"#7201a8\"], [0.3333333333333333, \"#9c179e\"], [0.4444444444444444, \"#bd3786\"], [0.5555555555555556, \"#d8576b\"], [0.6666666666666666, \"#ed7953\"], [0.7777777777777778, \"#fb9f3a\"], [0.8888888888888888, \"#fdca26\"], [1.0, \"#f0f921\"]], \"type\": \"surface\"}], \"table\": [{\"cells\": {\"fill\": {\"color\": \"#EBF0F8\"}, \"line\": {\"color\": \"white\"}}, \"header\": {\"fill\": {\"color\": \"#C8D4E3\"}, \"line\": {\"color\": \"white\"}}, \"type\": \"table\"}]}, \"layout\": {\"annotationdefaults\": {\"arrowcolor\": \"#2a3f5f\", \"arrowhead\": 0, \"arrowwidth\": 1}, \"coloraxis\": {\"colorbar\": {\"outlinewidth\": 0, \"ticks\": \"\"}}, \"colorscale\": {\"diverging\": [[0, \"#8e0152\"], [0.1, \"#c51b7d\"], [0.2, \"#de77ae\"], [0.3, \"#f1b6da\"], [0.4, \"#fde0ef\"], [0.5, \"#f7f7f7\"], [0.6, \"#e6f5d0\"], [0.7, \"#b8e186\"], [0.8, \"#7fbc41\"], [0.9, \"#4d9221\"], [1, \"#276419\"]], \"sequential\": [[0.0, \"#0d0887\"], [0.1111111111111111, \"#46039f\"], [0.2222222222222222, \"#7201a8\"], [0.3333333333333333, \"#9c179e\"], [0.4444444444444444, \"#bd3786\"], [0.5555555555555556, \"#d8576b\"], [0.6666666666666666, \"#ed7953\"], [0.7777777777777778, \"#fb9f3a\"], [0.8888888888888888, \"#fdca26\"], [1.0, \"#f0f921\"]], \"sequentialminus\": [[0.0, \"#0d0887\"], [0.1111111111111111, \"#46039f\"], [0.2222222222222222, \"#7201a8\"], [0.3333333333333333, \"#9c179e\"], [0.4444444444444444, \"#bd3786\"], [0.5555555555555556, \"#d8576b\"], [0.6666666666666666, \"#ed7953\"], [0.7777777777777778, \"#fb9f3a\"], [0.8888888888888888, \"#fdca26\"], [1.0, \"#f0f921\"]]}, \"colorway\": [\"#636efa\", \"#EF553B\", \"#00cc96\", \"#ab63fa\", \"#FFA15A\", \"#19d3f3\", \"#FF6692\", \"#B6E880\", \"#FF97FF\", \"#FECB52\"], \"font\": {\"color\": \"#2a3f5f\"}, \"geo\": {\"bgcolor\": \"white\", \"lakecolor\": \"white\", \"landcolor\": \"#E5ECF6\", \"showlakes\": true, \"showland\": true, \"subunitcolor\": \"white\"}, \"hoverlabel\": {\"align\": \"left\"}, \"hovermode\": \"closest\", \"mapbox\": {\"style\": \"light\"}, \"paper_bgcolor\": \"white\", \"plot_bgcolor\": \"#E5ECF6\", \"polar\": {\"angularaxis\": {\"gridcolor\": \"white\", \"linecolor\": \"white\", \"ticks\": \"\"}, \"bgcolor\": \"#E5ECF6\", \"radialaxis\": {\"gridcolor\": \"white\", \"linecolor\": \"white\", \"ticks\": \"\"}}, \"scene\": {\"xaxis\": {\"backgroundcolor\": \"#E5ECF6\", \"gridcolor\": \"white\", \"gridwidth\": 2, \"linecolor\": \"white\", \"showbackground\": true, \"ticks\": \"\", \"zerolinecolor\": \"white\"}, \"yaxis\": {\"backgroundcolor\": \"#E5ECF6\", \"gridcolor\": \"white\", \"gridwidth\": 2, \"linecolor\": \"white\", \"showbackground\": true, \"ticks\": \"\", \"zerolinecolor\": \"white\"}, \"zaxis\": {\"backgroundcolor\": \"#E5ECF6\", \"gridcolor\": \"white\", \"gridwidth\": 2, \"linecolor\": \"white\", \"showbackground\": true, \"ticks\": \"\", \"zerolinecolor\": \"white\"}}, \"shapedefaults\": {\"line\": {\"color\": \"#2a3f5f\"}}, \"ternary\": {\"aaxis\": {\"gridcolor\": \"white\", \"linecolor\": \"white\", \"ticks\": \"\"}, \"baxis\": {\"gridcolor\": \"white\", \"linecolor\": \"white\", \"ticks\": \"\"}, \"bgcolor\": \"#E5ECF6\", \"caxis\": {\"gridcolor\": \"white\", \"linecolor\": \"white\", \"ticks\": \"\"}}, \"title\": {\"x\": 0.05}, \"xaxis\": {\"automargin\": true, \"gridcolor\": \"white\", \"linecolor\": \"white\", \"ticks\": \"\", \"title\": {\"standoff\": 15}, \"zerolinecolor\": \"white\", \"zerolinewidth\": 2}, \"yaxis\": {\"automargin\": true, \"gridcolor\": \"white\", \"linecolor\": \"white\", \"ticks\": \"\", \"title\": {\"standoff\": 15}, \"zerolinecolor\": \"white\", \"zerolinewidth\": 2}}}, \"title\": {\"font\": {\"color\": \"#4D5663\"}}, \"xaxis\": {\"gridcolor\": \"#E1E5ED\", \"showgrid\": true, \"tickfont\": {\"color\": \"#4D5663\"}, \"title\": {\"font\": {\"color\": \"#4D5663\"}, \"text\": \"\"}, \"zerolinecolor\": \"#E1E5ED\"}, \"yaxis\": {\"gridcolor\": \"#E1E5ED\", \"showgrid\": true, \"tickfont\": {\"color\": \"#4D5663\"}, \"title\": {\"font\": {\"color\": \"#4D5663\"}, \"text\": \"\"}, \"zerolinecolor\": \"#E1E5ED\"}},\n",
       "                        {\"showLink\": true, \"linkText\": \"Export to plot.ly\", \"plotlyServerURL\": \"https://plot.ly\", \"responsive\": true}\n",
       "                    ).then(function(){\n",
       "                            \n",
       "var gd = document.getElementById('5063ea94-15aa-4c58-9bb5-5396f19b4d9f');\n",
       "var x = new MutationObserver(function (mutations, observer) {{\n",
       "        var display = window.getComputedStyle(gd).display;\n",
       "        if (!display || display === 'none') {{\n",
       "            console.log([gd, 'removed!']);\n",
       "            Plotly.purge(gd);\n",
       "            observer.disconnect();\n",
       "        }}\n",
       "}});\n",
       "\n",
       "// Listen for the removal of the full notebook cells\n",
       "var notebookContainer = gd.closest('#notebook-container');\n",
       "if (notebookContainer) {{\n",
       "    x.observe(notebookContainer, {childList: true});\n",
       "}}\n",
       "\n",
       "// Listen for the clearing of the current output cell\n",
       "var outputEl = gd.closest('.output');\n",
       "if (outputEl) {{\n",
       "    x.observe(outputEl, {childList: true});\n",
       "}}\n",
       "\n",
       "                        })\n",
       "                };\n",
       "                });\n",
       "            </script>\n",
       "        </div>"
      ]
     },
     "metadata": {},
     "output_type": "display_data"
    }
   ],
   "source": [
    "df3.iplot(kind='surface',colorscale='rdylbu')"
   ]
  },
  {
   "cell_type": "code",
   "execution_count": 30,
   "metadata": {},
   "outputs": [
    {
     "data": {
      "application/vnd.plotly.v1+json": {
       "config": {
        "linkText": "Export to plot.ly",
        "plotlyServerURL": "https://plot.ly",
        "showLink": true
       },
       "data": [
        {
         "histfunc": "count",
         "histnorm": "",
         "marker": {
          "color": "rgba(255, 153, 51, 1.0)",
          "line": {
           "color": "#4D5663",
           "width": 1.3
          }
         },
         "name": "A",
         "opacity": 0.8,
         "orientation": "v",
         "type": "histogram",
         "x": [
          -0.47994138356102345,
          0.16000001454505774,
          1.2996849606416845,
          -0.3459934331228707,
          1.0368948135116955,
          0.07946965327892691,
          0.02947178831828827,
          -0.26772555546117177,
          -2.0314116116032723,
          -0.7776726685287725,
          -0.6632265573499633,
          0.040338171293861545,
          0.03099329497456494,
          1.30667900546974,
          -0.037687242533143366,
          0.73556867266476,
          0.1957228240044999,
          -1.0482986804628374,
          1.0503916976168206,
          0.3384999073480586,
          -0.14838682865663155,
          -1.849858632992489,
          -1.1910865283155898,
          1.5553865160982832,
          0.986449102796202,
          0.07626968937010195,
          -0.7144282219471334,
          -1.95459396507943,
          0.5166017932497404,
          -0.1272350411517917,
          0.3651824330336992,
          0.629568772242452,
          0.2238905949170703,
          -0.4080627997126574,
          0.2459532769412293,
          -1.4375822191198364,
          1.1953127234968812,
          0.20642350123956282,
          -0.6118149783961775,
          -0.3516522754108534,
          0.3864587743634232,
          0.5578874059130349,
          -1.2239437975712937,
          -0.5751253948097974,
          -0.8161879128352467,
          0.728310144983823,
          1.0285518125814623,
          -0.061080867479822096,
          0.5456049906240891,
          1.6757326714528262,
          1.1259534774275948,
          2.1679146833244065,
          0.3627705444531118,
          -0.2007163005561877,
          1.5857603106850822,
          -0.14387374650148002,
          0.6711681353081573,
          -2.077686313631864,
          -0.8339634788937905,
          -1.5147815926076582,
          -0.2426824940955602,
          -0.05900561048931461,
          -0.5015572453005709,
          -1.02382765079118,
          0.6594628547687229,
          -0.23529898779933406,
          0.989301732841858,
          1.0913142676056113,
          0.9047811195866384,
          2.171823959268939,
          0.8660901043897223,
          -1.009123777500051,
          -1.2739552439273125,
          -0.8003558594463309,
          -0.7227937984759449,
          -0.4548814893006097,
          -1.2973334617697536,
          -0.40436366793090245,
          -0.5467723352316892,
          1.3324985767546997,
          -0.3000650152937515,
          -2.4463874579688456,
          0.5366264052442478,
          0.8394154584497169,
          -0.47075436156584355,
          0.46846103114383303,
          1.7485010794299531,
          -1.3189454373300313,
          -0.29883060294564007,
          0.09313380405100766,
          1.2964129012060845,
          1.6132918404264132,
          -0.11654004163312816,
          -0.3113907853250452,
          0.03577164272941658,
          -0.22212739215972332,
          0.19790220317768603,
          0.23463768157652232,
          -0.3274922195966929,
          -0.3594549556767431
         ]
        }
       ],
       "layout": {
        "barmode": "overlay",
        "legend": {
         "bgcolor": "#F5F6F9",
         "font": {
          "color": "#4D5663"
         }
        },
        "paper_bgcolor": "#F5F6F9",
        "plot_bgcolor": "#F5F6F9",
        "template": {
         "data": {
          "bar": [
           {
            "error_x": {
             "color": "#2a3f5f"
            },
            "error_y": {
             "color": "#2a3f5f"
            },
            "marker": {
             "line": {
              "color": "#E5ECF6",
              "width": 0.5
             }
            },
            "type": "bar"
           }
          ],
          "barpolar": [
           {
            "marker": {
             "line": {
              "color": "#E5ECF6",
              "width": 0.5
             }
            },
            "type": "barpolar"
           }
          ],
          "carpet": [
           {
            "aaxis": {
             "endlinecolor": "#2a3f5f",
             "gridcolor": "white",
             "linecolor": "white",
             "minorgridcolor": "white",
             "startlinecolor": "#2a3f5f"
            },
            "baxis": {
             "endlinecolor": "#2a3f5f",
             "gridcolor": "white",
             "linecolor": "white",
             "minorgridcolor": "white",
             "startlinecolor": "#2a3f5f"
            },
            "type": "carpet"
           }
          ],
          "choropleth": [
           {
            "colorbar": {
             "outlinewidth": 0,
             "ticks": ""
            },
            "type": "choropleth"
           }
          ],
          "contour": [
           {
            "colorbar": {
             "outlinewidth": 0,
             "ticks": ""
            },
            "colorscale": [
             [
              0,
              "#0d0887"
             ],
             [
              0.1111111111111111,
              "#46039f"
             ],
             [
              0.2222222222222222,
              "#7201a8"
             ],
             [
              0.3333333333333333,
              "#9c179e"
             ],
             [
              0.4444444444444444,
              "#bd3786"
             ],
             [
              0.5555555555555556,
              "#d8576b"
             ],
             [
              0.6666666666666666,
              "#ed7953"
             ],
             [
              0.7777777777777778,
              "#fb9f3a"
             ],
             [
              0.8888888888888888,
              "#fdca26"
             ],
             [
              1,
              "#f0f921"
             ]
            ],
            "type": "contour"
           }
          ],
          "contourcarpet": [
           {
            "colorbar": {
             "outlinewidth": 0,
             "ticks": ""
            },
            "type": "contourcarpet"
           }
          ],
          "heatmap": [
           {
            "colorbar": {
             "outlinewidth": 0,
             "ticks": ""
            },
            "colorscale": [
             [
              0,
              "#0d0887"
             ],
             [
              0.1111111111111111,
              "#46039f"
             ],
             [
              0.2222222222222222,
              "#7201a8"
             ],
             [
              0.3333333333333333,
              "#9c179e"
             ],
             [
              0.4444444444444444,
              "#bd3786"
             ],
             [
              0.5555555555555556,
              "#d8576b"
             ],
             [
              0.6666666666666666,
              "#ed7953"
             ],
             [
              0.7777777777777778,
              "#fb9f3a"
             ],
             [
              0.8888888888888888,
              "#fdca26"
             ],
             [
              1,
              "#f0f921"
             ]
            ],
            "type": "heatmap"
           }
          ],
          "heatmapgl": [
           {
            "colorbar": {
             "outlinewidth": 0,
             "ticks": ""
            },
            "colorscale": [
             [
              0,
              "#0d0887"
             ],
             [
              0.1111111111111111,
              "#46039f"
             ],
             [
              0.2222222222222222,
              "#7201a8"
             ],
             [
              0.3333333333333333,
              "#9c179e"
             ],
             [
              0.4444444444444444,
              "#bd3786"
             ],
             [
              0.5555555555555556,
              "#d8576b"
             ],
             [
              0.6666666666666666,
              "#ed7953"
             ],
             [
              0.7777777777777778,
              "#fb9f3a"
             ],
             [
              0.8888888888888888,
              "#fdca26"
             ],
             [
              1,
              "#f0f921"
             ]
            ],
            "type": "heatmapgl"
           }
          ],
          "histogram": [
           {
            "marker": {
             "colorbar": {
              "outlinewidth": 0,
              "ticks": ""
             }
            },
            "type": "histogram"
           }
          ],
          "histogram2d": [
           {
            "colorbar": {
             "outlinewidth": 0,
             "ticks": ""
            },
            "colorscale": [
             [
              0,
              "#0d0887"
             ],
             [
              0.1111111111111111,
              "#46039f"
             ],
             [
              0.2222222222222222,
              "#7201a8"
             ],
             [
              0.3333333333333333,
              "#9c179e"
             ],
             [
              0.4444444444444444,
              "#bd3786"
             ],
             [
              0.5555555555555556,
              "#d8576b"
             ],
             [
              0.6666666666666666,
              "#ed7953"
             ],
             [
              0.7777777777777778,
              "#fb9f3a"
             ],
             [
              0.8888888888888888,
              "#fdca26"
             ],
             [
              1,
              "#f0f921"
             ]
            ],
            "type": "histogram2d"
           }
          ],
          "histogram2dcontour": [
           {
            "colorbar": {
             "outlinewidth": 0,
             "ticks": ""
            },
            "colorscale": [
             [
              0,
              "#0d0887"
             ],
             [
              0.1111111111111111,
              "#46039f"
             ],
             [
              0.2222222222222222,
              "#7201a8"
             ],
             [
              0.3333333333333333,
              "#9c179e"
             ],
             [
              0.4444444444444444,
              "#bd3786"
             ],
             [
              0.5555555555555556,
              "#d8576b"
             ],
             [
              0.6666666666666666,
              "#ed7953"
             ],
             [
              0.7777777777777778,
              "#fb9f3a"
             ],
             [
              0.8888888888888888,
              "#fdca26"
             ],
             [
              1,
              "#f0f921"
             ]
            ],
            "type": "histogram2dcontour"
           }
          ],
          "mesh3d": [
           {
            "colorbar": {
             "outlinewidth": 0,
             "ticks": ""
            },
            "type": "mesh3d"
           }
          ],
          "parcoords": [
           {
            "line": {
             "colorbar": {
              "outlinewidth": 0,
              "ticks": ""
             }
            },
            "type": "parcoords"
           }
          ],
          "pie": [
           {
            "automargin": true,
            "type": "pie"
           }
          ],
          "scatter": [
           {
            "marker": {
             "colorbar": {
              "outlinewidth": 0,
              "ticks": ""
             }
            },
            "type": "scatter"
           }
          ],
          "scatter3d": [
           {
            "line": {
             "colorbar": {
              "outlinewidth": 0,
              "ticks": ""
             }
            },
            "marker": {
             "colorbar": {
              "outlinewidth": 0,
              "ticks": ""
             }
            },
            "type": "scatter3d"
           }
          ],
          "scattercarpet": [
           {
            "marker": {
             "colorbar": {
              "outlinewidth": 0,
              "ticks": ""
             }
            },
            "type": "scattercarpet"
           }
          ],
          "scattergeo": [
           {
            "marker": {
             "colorbar": {
              "outlinewidth": 0,
              "ticks": ""
             }
            },
            "type": "scattergeo"
           }
          ],
          "scattergl": [
           {
            "marker": {
             "colorbar": {
              "outlinewidth": 0,
              "ticks": ""
             }
            },
            "type": "scattergl"
           }
          ],
          "scattermapbox": [
           {
            "marker": {
             "colorbar": {
              "outlinewidth": 0,
              "ticks": ""
             }
            },
            "type": "scattermapbox"
           }
          ],
          "scatterpolar": [
           {
            "marker": {
             "colorbar": {
              "outlinewidth": 0,
              "ticks": ""
             }
            },
            "type": "scatterpolar"
           }
          ],
          "scatterpolargl": [
           {
            "marker": {
             "colorbar": {
              "outlinewidth": 0,
              "ticks": ""
             }
            },
            "type": "scatterpolargl"
           }
          ],
          "scatterternary": [
           {
            "marker": {
             "colorbar": {
              "outlinewidth": 0,
              "ticks": ""
             }
            },
            "type": "scatterternary"
           }
          ],
          "surface": [
           {
            "colorbar": {
             "outlinewidth": 0,
             "ticks": ""
            },
            "colorscale": [
             [
              0,
              "#0d0887"
             ],
             [
              0.1111111111111111,
              "#46039f"
             ],
             [
              0.2222222222222222,
              "#7201a8"
             ],
             [
              0.3333333333333333,
              "#9c179e"
             ],
             [
              0.4444444444444444,
              "#bd3786"
             ],
             [
              0.5555555555555556,
              "#d8576b"
             ],
             [
              0.6666666666666666,
              "#ed7953"
             ],
             [
              0.7777777777777778,
              "#fb9f3a"
             ],
             [
              0.8888888888888888,
              "#fdca26"
             ],
             [
              1,
              "#f0f921"
             ]
            ],
            "type": "surface"
           }
          ],
          "table": [
           {
            "cells": {
             "fill": {
              "color": "#EBF0F8"
             },
             "line": {
              "color": "white"
             }
            },
            "header": {
             "fill": {
              "color": "#C8D4E3"
             },
             "line": {
              "color": "white"
             }
            },
            "type": "table"
           }
          ]
         },
         "layout": {
          "annotationdefaults": {
           "arrowcolor": "#2a3f5f",
           "arrowhead": 0,
           "arrowwidth": 1
          },
          "coloraxis": {
           "colorbar": {
            "outlinewidth": 0,
            "ticks": ""
           }
          },
          "colorscale": {
           "diverging": [
            [
             0,
             "#8e0152"
            ],
            [
             0.1,
             "#c51b7d"
            ],
            [
             0.2,
             "#de77ae"
            ],
            [
             0.3,
             "#f1b6da"
            ],
            [
             0.4,
             "#fde0ef"
            ],
            [
             0.5,
             "#f7f7f7"
            ],
            [
             0.6,
             "#e6f5d0"
            ],
            [
             0.7,
             "#b8e186"
            ],
            [
             0.8,
             "#7fbc41"
            ],
            [
             0.9,
             "#4d9221"
            ],
            [
             1,
             "#276419"
            ]
           ],
           "sequential": [
            [
             0,
             "#0d0887"
            ],
            [
             0.1111111111111111,
             "#46039f"
            ],
            [
             0.2222222222222222,
             "#7201a8"
            ],
            [
             0.3333333333333333,
             "#9c179e"
            ],
            [
             0.4444444444444444,
             "#bd3786"
            ],
            [
             0.5555555555555556,
             "#d8576b"
            ],
            [
             0.6666666666666666,
             "#ed7953"
            ],
            [
             0.7777777777777778,
             "#fb9f3a"
            ],
            [
             0.8888888888888888,
             "#fdca26"
            ],
            [
             1,
             "#f0f921"
            ]
           ],
           "sequentialminus": [
            [
             0,
             "#0d0887"
            ],
            [
             0.1111111111111111,
             "#46039f"
            ],
            [
             0.2222222222222222,
             "#7201a8"
            ],
            [
             0.3333333333333333,
             "#9c179e"
            ],
            [
             0.4444444444444444,
             "#bd3786"
            ],
            [
             0.5555555555555556,
             "#d8576b"
            ],
            [
             0.6666666666666666,
             "#ed7953"
            ],
            [
             0.7777777777777778,
             "#fb9f3a"
            ],
            [
             0.8888888888888888,
             "#fdca26"
            ],
            [
             1,
             "#f0f921"
            ]
           ]
          },
          "colorway": [
           "#636efa",
           "#EF553B",
           "#00cc96",
           "#ab63fa",
           "#FFA15A",
           "#19d3f3",
           "#FF6692",
           "#B6E880",
           "#FF97FF",
           "#FECB52"
          ],
          "font": {
           "color": "#2a3f5f"
          },
          "geo": {
           "bgcolor": "white",
           "lakecolor": "white",
           "landcolor": "#E5ECF6",
           "showlakes": true,
           "showland": true,
           "subunitcolor": "white"
          },
          "hoverlabel": {
           "align": "left"
          },
          "hovermode": "closest",
          "mapbox": {
           "style": "light"
          },
          "paper_bgcolor": "white",
          "plot_bgcolor": "#E5ECF6",
          "polar": {
           "angularaxis": {
            "gridcolor": "white",
            "linecolor": "white",
            "ticks": ""
           },
           "bgcolor": "#E5ECF6",
           "radialaxis": {
            "gridcolor": "white",
            "linecolor": "white",
            "ticks": ""
           }
          },
          "scene": {
           "xaxis": {
            "backgroundcolor": "#E5ECF6",
            "gridcolor": "white",
            "gridwidth": 2,
            "linecolor": "white",
            "showbackground": true,
            "ticks": "",
            "zerolinecolor": "white"
           },
           "yaxis": {
            "backgroundcolor": "#E5ECF6",
            "gridcolor": "white",
            "gridwidth": 2,
            "linecolor": "white",
            "showbackground": true,
            "ticks": "",
            "zerolinecolor": "white"
           },
           "zaxis": {
            "backgroundcolor": "#E5ECF6",
            "gridcolor": "white",
            "gridwidth": 2,
            "linecolor": "white",
            "showbackground": true,
            "ticks": "",
            "zerolinecolor": "white"
           }
          },
          "shapedefaults": {
           "line": {
            "color": "#2a3f5f"
           }
          },
          "ternary": {
           "aaxis": {
            "gridcolor": "white",
            "linecolor": "white",
            "ticks": ""
           },
           "baxis": {
            "gridcolor": "white",
            "linecolor": "white",
            "ticks": ""
           },
           "bgcolor": "#E5ECF6",
           "caxis": {
            "gridcolor": "white",
            "linecolor": "white",
            "ticks": ""
           }
          },
          "title": {
           "x": 0.05
          },
          "xaxis": {
           "automargin": true,
           "gridcolor": "white",
           "linecolor": "white",
           "ticks": "",
           "title": {
            "standoff": 15
           },
           "zerolinecolor": "white",
           "zerolinewidth": 2
          },
          "yaxis": {
           "automargin": true,
           "gridcolor": "white",
           "linecolor": "white",
           "ticks": "",
           "title": {
            "standoff": 15
           },
           "zerolinecolor": "white",
           "zerolinewidth": 2
          }
         }
        },
        "title": {
         "font": {
          "color": "#4D5663"
         }
        },
        "xaxis": {
         "gridcolor": "#E1E5ED",
         "showgrid": true,
         "tickfont": {
          "color": "#4D5663"
         },
         "title": {
          "font": {
           "color": "#4D5663"
          },
          "text": ""
         },
         "zerolinecolor": "#E1E5ED"
        },
        "yaxis": {
         "gridcolor": "#E1E5ED",
         "showgrid": true,
         "tickfont": {
          "color": "#4D5663"
         },
         "title": {
          "font": {
           "color": "#4D5663"
          },
          "text": ""
         },
         "zerolinecolor": "#E1E5ED"
        }
       }
      },
      "text/html": [
       "<div>\n",
       "        \n",
       "        \n",
       "            <div id=\"5353ea7e-77e7-4adc-978d-efe2aa0fae0e\" class=\"plotly-graph-div\" style=\"height:525px; width:100%;\"></div>\n",
       "            <script type=\"text/javascript\">\n",
       "                require([\"plotly\"], function(Plotly) {\n",
       "                    window.PLOTLYENV=window.PLOTLYENV || {};\n",
       "                    window.PLOTLYENV.BASE_URL='https://plot.ly';\n",
       "                    \n",
       "                if (document.getElementById(\"5353ea7e-77e7-4adc-978d-efe2aa0fae0e\")) {\n",
       "                    Plotly.newPlot(\n",
       "                        '5353ea7e-77e7-4adc-978d-efe2aa0fae0e',\n",
       "                        [{\"histfunc\": \"count\", \"histnorm\": \"\", \"marker\": {\"color\": \"rgba(255, 153, 51, 1.0)\", \"line\": {\"color\": \"#4D5663\", \"width\": 1.3}}, \"name\": \"A\", \"opacity\": 0.8, \"orientation\": \"v\", \"type\": \"histogram\", \"x\": [-0.47994138356102345, 0.16000001454505774, 1.2996849606416845, -0.3459934331228707, 1.0368948135116955, 0.07946965327892691, 0.02947178831828827, -0.26772555546117177, -2.0314116116032723, -0.7776726685287725, -0.6632265573499633, 0.040338171293861545, 0.03099329497456494, 1.30667900546974, -0.037687242533143366, 0.73556867266476, 0.1957228240044999, -1.0482986804628374, 1.0503916976168206, 0.3384999073480586, -0.14838682865663155, -1.849858632992489, -1.1910865283155898, 1.5553865160982832, 0.986449102796202, 0.07626968937010195, -0.7144282219471334, -1.95459396507943, 0.5166017932497404, -0.1272350411517917, 0.3651824330336992, 0.629568772242452, 0.2238905949170703, -0.4080627997126574, 0.2459532769412293, -1.4375822191198364, 1.1953127234968812, 0.20642350123956282, -0.6118149783961775, -0.3516522754108534, 0.3864587743634232, 0.5578874059130349, -1.2239437975712937, -0.5751253948097974, -0.8161879128352467, 0.728310144983823, 1.0285518125814623, -0.061080867479822096, 0.5456049906240891, 1.6757326714528262, 1.1259534774275948, 2.1679146833244065, 0.3627705444531118, -0.2007163005561877, 1.5857603106850822, -0.14387374650148002, 0.6711681353081573, -2.077686313631864, -0.8339634788937905, -1.5147815926076582, -0.2426824940955602, -0.05900561048931461, -0.5015572453005709, -1.02382765079118, 0.6594628547687229, -0.23529898779933406, 0.989301732841858, 1.0913142676056113, 0.9047811195866384, 2.171823959268939, 0.8660901043897223, -1.009123777500051, -1.2739552439273125, -0.8003558594463309, -0.7227937984759449, -0.4548814893006097, -1.2973334617697536, -0.40436366793090245, -0.5467723352316892, 1.3324985767546997, -0.3000650152937515, -2.4463874579688456, 0.5366264052442478, 0.8394154584497169, -0.47075436156584355, 0.46846103114383303, 1.7485010794299531, -1.3189454373300313, -0.29883060294564007, 0.09313380405100766, 1.2964129012060845, 1.6132918404264132, -0.11654004163312816, -0.3113907853250452, 0.03577164272941658, -0.22212739215972332, 0.19790220317768603, 0.23463768157652232, -0.3274922195966929, -0.3594549556767431]}],\n",
       "                        {\"barmode\": \"overlay\", \"legend\": {\"bgcolor\": \"#F5F6F9\", \"font\": {\"color\": \"#4D5663\"}}, \"paper_bgcolor\": \"#F5F6F9\", \"plot_bgcolor\": \"#F5F6F9\", \"template\": {\"data\": {\"bar\": [{\"error_x\": {\"color\": \"#2a3f5f\"}, \"error_y\": {\"color\": \"#2a3f5f\"}, \"marker\": {\"line\": {\"color\": \"#E5ECF6\", \"width\": 0.5}}, \"type\": \"bar\"}], \"barpolar\": [{\"marker\": {\"line\": {\"color\": \"#E5ECF6\", \"width\": 0.5}}, \"type\": \"barpolar\"}], \"carpet\": [{\"aaxis\": {\"endlinecolor\": \"#2a3f5f\", \"gridcolor\": \"white\", \"linecolor\": \"white\", \"minorgridcolor\": \"white\", \"startlinecolor\": \"#2a3f5f\"}, \"baxis\": {\"endlinecolor\": \"#2a3f5f\", \"gridcolor\": \"white\", \"linecolor\": \"white\", \"minorgridcolor\": \"white\", \"startlinecolor\": \"#2a3f5f\"}, \"type\": \"carpet\"}], \"choropleth\": [{\"colorbar\": {\"outlinewidth\": 0, \"ticks\": \"\"}, \"type\": \"choropleth\"}], \"contour\": [{\"colorbar\": {\"outlinewidth\": 0, \"ticks\": \"\"}, \"colorscale\": [[0.0, \"#0d0887\"], [0.1111111111111111, \"#46039f\"], [0.2222222222222222, \"#7201a8\"], [0.3333333333333333, \"#9c179e\"], [0.4444444444444444, \"#bd3786\"], [0.5555555555555556, \"#d8576b\"], [0.6666666666666666, \"#ed7953\"], [0.7777777777777778, \"#fb9f3a\"], [0.8888888888888888, \"#fdca26\"], [1.0, \"#f0f921\"]], \"type\": \"contour\"}], \"contourcarpet\": [{\"colorbar\": {\"outlinewidth\": 0, \"ticks\": \"\"}, \"type\": \"contourcarpet\"}], \"heatmap\": [{\"colorbar\": {\"outlinewidth\": 0, \"ticks\": \"\"}, \"colorscale\": [[0.0, \"#0d0887\"], [0.1111111111111111, \"#46039f\"], [0.2222222222222222, \"#7201a8\"], [0.3333333333333333, \"#9c179e\"], [0.4444444444444444, \"#bd3786\"], [0.5555555555555556, \"#d8576b\"], [0.6666666666666666, \"#ed7953\"], [0.7777777777777778, \"#fb9f3a\"], [0.8888888888888888, \"#fdca26\"], [1.0, \"#f0f921\"]], \"type\": \"heatmap\"}], \"heatmapgl\": [{\"colorbar\": {\"outlinewidth\": 0, \"ticks\": \"\"}, \"colorscale\": [[0.0, \"#0d0887\"], [0.1111111111111111, \"#46039f\"], [0.2222222222222222, \"#7201a8\"], [0.3333333333333333, \"#9c179e\"], [0.4444444444444444, \"#bd3786\"], [0.5555555555555556, \"#d8576b\"], [0.6666666666666666, \"#ed7953\"], [0.7777777777777778, \"#fb9f3a\"], [0.8888888888888888, \"#fdca26\"], [1.0, \"#f0f921\"]], \"type\": \"heatmapgl\"}], \"histogram\": [{\"marker\": {\"colorbar\": {\"outlinewidth\": 0, \"ticks\": \"\"}}, \"type\": \"histogram\"}], \"histogram2d\": [{\"colorbar\": {\"outlinewidth\": 0, \"ticks\": \"\"}, \"colorscale\": [[0.0, \"#0d0887\"], [0.1111111111111111, \"#46039f\"], [0.2222222222222222, \"#7201a8\"], [0.3333333333333333, \"#9c179e\"], [0.4444444444444444, \"#bd3786\"], [0.5555555555555556, \"#d8576b\"], [0.6666666666666666, \"#ed7953\"], [0.7777777777777778, \"#fb9f3a\"], [0.8888888888888888, \"#fdca26\"], [1.0, \"#f0f921\"]], \"type\": \"histogram2d\"}], \"histogram2dcontour\": [{\"colorbar\": {\"outlinewidth\": 0, \"ticks\": \"\"}, \"colorscale\": [[0.0, \"#0d0887\"], [0.1111111111111111, \"#46039f\"], [0.2222222222222222, \"#7201a8\"], [0.3333333333333333, \"#9c179e\"], [0.4444444444444444, \"#bd3786\"], [0.5555555555555556, \"#d8576b\"], [0.6666666666666666, \"#ed7953\"], [0.7777777777777778, \"#fb9f3a\"], [0.8888888888888888, \"#fdca26\"], [1.0, \"#f0f921\"]], \"type\": \"histogram2dcontour\"}], \"mesh3d\": [{\"colorbar\": {\"outlinewidth\": 0, \"ticks\": \"\"}, \"type\": \"mesh3d\"}], \"parcoords\": [{\"line\": {\"colorbar\": {\"outlinewidth\": 0, \"ticks\": \"\"}}, \"type\": \"parcoords\"}], \"pie\": [{\"automargin\": true, \"type\": \"pie\"}], \"scatter\": [{\"marker\": {\"colorbar\": {\"outlinewidth\": 0, \"ticks\": \"\"}}, \"type\": \"scatter\"}], \"scatter3d\": [{\"line\": {\"colorbar\": {\"outlinewidth\": 0, \"ticks\": \"\"}}, \"marker\": {\"colorbar\": {\"outlinewidth\": 0, \"ticks\": \"\"}}, \"type\": \"scatter3d\"}], \"scattercarpet\": [{\"marker\": {\"colorbar\": {\"outlinewidth\": 0, \"ticks\": \"\"}}, \"type\": \"scattercarpet\"}], \"scattergeo\": [{\"marker\": {\"colorbar\": {\"outlinewidth\": 0, \"ticks\": \"\"}}, \"type\": \"scattergeo\"}], \"scattergl\": [{\"marker\": {\"colorbar\": {\"outlinewidth\": 0, \"ticks\": \"\"}}, \"type\": \"scattergl\"}], \"scattermapbox\": [{\"marker\": {\"colorbar\": {\"outlinewidth\": 0, \"ticks\": \"\"}}, \"type\": \"scattermapbox\"}], \"scatterpolar\": [{\"marker\": {\"colorbar\": {\"outlinewidth\": 0, \"ticks\": \"\"}}, \"type\": \"scatterpolar\"}], \"scatterpolargl\": [{\"marker\": {\"colorbar\": {\"outlinewidth\": 0, \"ticks\": \"\"}}, \"type\": \"scatterpolargl\"}], \"scatterternary\": [{\"marker\": {\"colorbar\": {\"outlinewidth\": 0, \"ticks\": \"\"}}, \"type\": \"scatterternary\"}], \"surface\": [{\"colorbar\": {\"outlinewidth\": 0, \"ticks\": \"\"}, \"colorscale\": [[0.0, \"#0d0887\"], [0.1111111111111111, \"#46039f\"], [0.2222222222222222, \"#7201a8\"], [0.3333333333333333, \"#9c179e\"], [0.4444444444444444, \"#bd3786\"], [0.5555555555555556, \"#d8576b\"], [0.6666666666666666, \"#ed7953\"], [0.7777777777777778, \"#fb9f3a\"], [0.8888888888888888, \"#fdca26\"], [1.0, \"#f0f921\"]], \"type\": \"surface\"}], \"table\": [{\"cells\": {\"fill\": {\"color\": \"#EBF0F8\"}, \"line\": {\"color\": \"white\"}}, \"header\": {\"fill\": {\"color\": \"#C8D4E3\"}, \"line\": {\"color\": \"white\"}}, \"type\": \"table\"}]}, \"layout\": {\"annotationdefaults\": {\"arrowcolor\": \"#2a3f5f\", \"arrowhead\": 0, \"arrowwidth\": 1}, \"coloraxis\": {\"colorbar\": {\"outlinewidth\": 0, \"ticks\": \"\"}}, \"colorscale\": {\"diverging\": [[0, \"#8e0152\"], [0.1, \"#c51b7d\"], [0.2, \"#de77ae\"], [0.3, \"#f1b6da\"], [0.4, \"#fde0ef\"], [0.5, \"#f7f7f7\"], [0.6, \"#e6f5d0\"], [0.7, \"#b8e186\"], [0.8, \"#7fbc41\"], [0.9, \"#4d9221\"], [1, \"#276419\"]], \"sequential\": [[0.0, \"#0d0887\"], [0.1111111111111111, \"#46039f\"], [0.2222222222222222, \"#7201a8\"], [0.3333333333333333, \"#9c179e\"], [0.4444444444444444, \"#bd3786\"], [0.5555555555555556, \"#d8576b\"], [0.6666666666666666, \"#ed7953\"], [0.7777777777777778, \"#fb9f3a\"], [0.8888888888888888, \"#fdca26\"], [1.0, \"#f0f921\"]], \"sequentialminus\": [[0.0, \"#0d0887\"], [0.1111111111111111, \"#46039f\"], [0.2222222222222222, \"#7201a8\"], [0.3333333333333333, \"#9c179e\"], [0.4444444444444444, \"#bd3786\"], [0.5555555555555556, \"#d8576b\"], [0.6666666666666666, \"#ed7953\"], [0.7777777777777778, \"#fb9f3a\"], [0.8888888888888888, \"#fdca26\"], [1.0, \"#f0f921\"]]}, \"colorway\": [\"#636efa\", \"#EF553B\", \"#00cc96\", \"#ab63fa\", \"#FFA15A\", \"#19d3f3\", \"#FF6692\", \"#B6E880\", \"#FF97FF\", \"#FECB52\"], \"font\": {\"color\": \"#2a3f5f\"}, \"geo\": {\"bgcolor\": \"white\", \"lakecolor\": \"white\", \"landcolor\": \"#E5ECF6\", \"showlakes\": true, \"showland\": true, \"subunitcolor\": \"white\"}, \"hoverlabel\": {\"align\": \"left\"}, \"hovermode\": \"closest\", \"mapbox\": {\"style\": \"light\"}, \"paper_bgcolor\": \"white\", \"plot_bgcolor\": \"#E5ECF6\", \"polar\": {\"angularaxis\": {\"gridcolor\": \"white\", \"linecolor\": \"white\", \"ticks\": \"\"}, \"bgcolor\": \"#E5ECF6\", \"radialaxis\": {\"gridcolor\": \"white\", \"linecolor\": \"white\", \"ticks\": \"\"}}, \"scene\": {\"xaxis\": {\"backgroundcolor\": \"#E5ECF6\", \"gridcolor\": \"white\", \"gridwidth\": 2, \"linecolor\": \"white\", \"showbackground\": true, \"ticks\": \"\", \"zerolinecolor\": \"white\"}, \"yaxis\": {\"backgroundcolor\": \"#E5ECF6\", \"gridcolor\": \"white\", \"gridwidth\": 2, \"linecolor\": \"white\", \"showbackground\": true, \"ticks\": \"\", \"zerolinecolor\": \"white\"}, \"zaxis\": {\"backgroundcolor\": \"#E5ECF6\", \"gridcolor\": \"white\", \"gridwidth\": 2, \"linecolor\": \"white\", \"showbackground\": true, \"ticks\": \"\", \"zerolinecolor\": \"white\"}}, \"shapedefaults\": {\"line\": {\"color\": \"#2a3f5f\"}}, \"ternary\": {\"aaxis\": {\"gridcolor\": \"white\", \"linecolor\": \"white\", \"ticks\": \"\"}, \"baxis\": {\"gridcolor\": \"white\", \"linecolor\": \"white\", \"ticks\": \"\"}, \"bgcolor\": \"#E5ECF6\", \"caxis\": {\"gridcolor\": \"white\", \"linecolor\": \"white\", \"ticks\": \"\"}}, \"title\": {\"x\": 0.05}, \"xaxis\": {\"automargin\": true, \"gridcolor\": \"white\", \"linecolor\": \"white\", \"ticks\": \"\", \"title\": {\"standoff\": 15}, \"zerolinecolor\": \"white\", \"zerolinewidth\": 2}, \"yaxis\": {\"automargin\": true, \"gridcolor\": \"white\", \"linecolor\": \"white\", \"ticks\": \"\", \"title\": {\"standoff\": 15}, \"zerolinecolor\": \"white\", \"zerolinewidth\": 2}}}, \"title\": {\"font\": {\"color\": \"#4D5663\"}}, \"xaxis\": {\"gridcolor\": \"#E1E5ED\", \"showgrid\": true, \"tickfont\": {\"color\": \"#4D5663\"}, \"title\": {\"font\": {\"color\": \"#4D5663\"}, \"text\": \"\"}, \"zerolinecolor\": \"#E1E5ED\"}, \"yaxis\": {\"gridcolor\": \"#E1E5ED\", \"showgrid\": true, \"tickfont\": {\"color\": \"#4D5663\"}, \"title\": {\"font\": {\"color\": \"#4D5663\"}, \"text\": \"\"}, \"zerolinecolor\": \"#E1E5ED\"}},\n",
       "                        {\"showLink\": true, \"linkText\": \"Export to plot.ly\", \"plotlyServerURL\": \"https://plot.ly\", \"responsive\": true}\n",
       "                    ).then(function(){\n",
       "                            \n",
       "var gd = document.getElementById('5353ea7e-77e7-4adc-978d-efe2aa0fae0e');\n",
       "var x = new MutationObserver(function (mutations, observer) {{\n",
       "        var display = window.getComputedStyle(gd).display;\n",
       "        if (!display || display === 'none') {{\n",
       "            console.log([gd, 'removed!']);\n",
       "            Plotly.purge(gd);\n",
       "            observer.disconnect();\n",
       "        }}\n",
       "}});\n",
       "\n",
       "// Listen for the removal of the full notebook cells\n",
       "var notebookContainer = gd.closest('#notebook-container');\n",
       "if (notebookContainer) {{\n",
       "    x.observe(notebookContainer, {childList: true});\n",
       "}}\n",
       "\n",
       "// Listen for the clearing of the current output cell\n",
       "var outputEl = gd.closest('.output');\n",
       "if (outputEl) {{\n",
       "    x.observe(outputEl, {childList: true});\n",
       "}}\n",
       "\n",
       "                        })\n",
       "                };\n",
       "                });\n",
       "            </script>\n",
       "        </div>"
      ]
     },
     "metadata": {},
     "output_type": "display_data"
    }
   ],
   "source": [
    "df['A'].iplot(kind='hist')"
   ]
  },
  {
   "cell_type": "code",
   "execution_count": 31,
   "metadata": {},
   "outputs": [
    {
     "data": {
      "application/vnd.plotly.v1+json": {
       "config": {
        "linkText": "Export to plot.ly",
        "plotlyServerURL": "https://plot.ly",
        "showLink": true
       },
       "data": [
        {
         "histfunc": "count",
         "histnorm": "",
         "marker": {
          "color": "rgba(255, 153, 51, 1.0)",
          "line": {
           "color": "#4D5663",
           "width": 1.3
          }
         },
         "name": "A",
         "nbinsx": 50,
         "opacity": 0.8,
         "orientation": "v",
         "type": "histogram",
         "x": [
          -0.47994138356102345,
          0.16000001454505774,
          1.2996849606416845,
          -0.3459934331228707,
          1.0368948135116955,
          0.07946965327892691,
          0.02947178831828827,
          -0.26772555546117177,
          -2.0314116116032723,
          -0.7776726685287725,
          -0.6632265573499633,
          0.040338171293861545,
          0.03099329497456494,
          1.30667900546974,
          -0.037687242533143366,
          0.73556867266476,
          0.1957228240044999,
          -1.0482986804628374,
          1.0503916976168206,
          0.3384999073480586,
          -0.14838682865663155,
          -1.849858632992489,
          -1.1910865283155898,
          1.5553865160982832,
          0.986449102796202,
          0.07626968937010195,
          -0.7144282219471334,
          -1.95459396507943,
          0.5166017932497404,
          -0.1272350411517917,
          0.3651824330336992,
          0.629568772242452,
          0.2238905949170703,
          -0.4080627997126574,
          0.2459532769412293,
          -1.4375822191198364,
          1.1953127234968812,
          0.20642350123956282,
          -0.6118149783961775,
          -0.3516522754108534,
          0.3864587743634232,
          0.5578874059130349,
          -1.2239437975712937,
          -0.5751253948097974,
          -0.8161879128352467,
          0.728310144983823,
          1.0285518125814623,
          -0.061080867479822096,
          0.5456049906240891,
          1.6757326714528262,
          1.1259534774275948,
          2.1679146833244065,
          0.3627705444531118,
          -0.2007163005561877,
          1.5857603106850822,
          -0.14387374650148002,
          0.6711681353081573,
          -2.077686313631864,
          -0.8339634788937905,
          -1.5147815926076582,
          -0.2426824940955602,
          -0.05900561048931461,
          -0.5015572453005709,
          -1.02382765079118,
          0.6594628547687229,
          -0.23529898779933406,
          0.989301732841858,
          1.0913142676056113,
          0.9047811195866384,
          2.171823959268939,
          0.8660901043897223,
          -1.009123777500051,
          -1.2739552439273125,
          -0.8003558594463309,
          -0.7227937984759449,
          -0.4548814893006097,
          -1.2973334617697536,
          -0.40436366793090245,
          -0.5467723352316892,
          1.3324985767546997,
          -0.3000650152937515,
          -2.4463874579688456,
          0.5366264052442478,
          0.8394154584497169,
          -0.47075436156584355,
          0.46846103114383303,
          1.7485010794299531,
          -1.3189454373300313,
          -0.29883060294564007,
          0.09313380405100766,
          1.2964129012060845,
          1.6132918404264132,
          -0.11654004163312816,
          -0.3113907853250452,
          0.03577164272941658,
          -0.22212739215972332,
          0.19790220317768603,
          0.23463768157652232,
          -0.3274922195966929,
          -0.3594549556767431
         ]
        }
       ],
       "layout": {
        "barmode": "overlay",
        "legend": {
         "bgcolor": "#F5F6F9",
         "font": {
          "color": "#4D5663"
         }
        },
        "paper_bgcolor": "#F5F6F9",
        "plot_bgcolor": "#F5F6F9",
        "template": {
         "data": {
          "bar": [
           {
            "error_x": {
             "color": "#2a3f5f"
            },
            "error_y": {
             "color": "#2a3f5f"
            },
            "marker": {
             "line": {
              "color": "#E5ECF6",
              "width": 0.5
             }
            },
            "type": "bar"
           }
          ],
          "barpolar": [
           {
            "marker": {
             "line": {
              "color": "#E5ECF6",
              "width": 0.5
             }
            },
            "type": "barpolar"
           }
          ],
          "carpet": [
           {
            "aaxis": {
             "endlinecolor": "#2a3f5f",
             "gridcolor": "white",
             "linecolor": "white",
             "minorgridcolor": "white",
             "startlinecolor": "#2a3f5f"
            },
            "baxis": {
             "endlinecolor": "#2a3f5f",
             "gridcolor": "white",
             "linecolor": "white",
             "minorgridcolor": "white",
             "startlinecolor": "#2a3f5f"
            },
            "type": "carpet"
           }
          ],
          "choropleth": [
           {
            "colorbar": {
             "outlinewidth": 0,
             "ticks": ""
            },
            "type": "choropleth"
           }
          ],
          "contour": [
           {
            "colorbar": {
             "outlinewidth": 0,
             "ticks": ""
            },
            "colorscale": [
             [
              0,
              "#0d0887"
             ],
             [
              0.1111111111111111,
              "#46039f"
             ],
             [
              0.2222222222222222,
              "#7201a8"
             ],
             [
              0.3333333333333333,
              "#9c179e"
             ],
             [
              0.4444444444444444,
              "#bd3786"
             ],
             [
              0.5555555555555556,
              "#d8576b"
             ],
             [
              0.6666666666666666,
              "#ed7953"
             ],
             [
              0.7777777777777778,
              "#fb9f3a"
             ],
             [
              0.8888888888888888,
              "#fdca26"
             ],
             [
              1,
              "#f0f921"
             ]
            ],
            "type": "contour"
           }
          ],
          "contourcarpet": [
           {
            "colorbar": {
             "outlinewidth": 0,
             "ticks": ""
            },
            "type": "contourcarpet"
           }
          ],
          "heatmap": [
           {
            "colorbar": {
             "outlinewidth": 0,
             "ticks": ""
            },
            "colorscale": [
             [
              0,
              "#0d0887"
             ],
             [
              0.1111111111111111,
              "#46039f"
             ],
             [
              0.2222222222222222,
              "#7201a8"
             ],
             [
              0.3333333333333333,
              "#9c179e"
             ],
             [
              0.4444444444444444,
              "#bd3786"
             ],
             [
              0.5555555555555556,
              "#d8576b"
             ],
             [
              0.6666666666666666,
              "#ed7953"
             ],
             [
              0.7777777777777778,
              "#fb9f3a"
             ],
             [
              0.8888888888888888,
              "#fdca26"
             ],
             [
              1,
              "#f0f921"
             ]
            ],
            "type": "heatmap"
           }
          ],
          "heatmapgl": [
           {
            "colorbar": {
             "outlinewidth": 0,
             "ticks": ""
            },
            "colorscale": [
             [
              0,
              "#0d0887"
             ],
             [
              0.1111111111111111,
              "#46039f"
             ],
             [
              0.2222222222222222,
              "#7201a8"
             ],
             [
              0.3333333333333333,
              "#9c179e"
             ],
             [
              0.4444444444444444,
              "#bd3786"
             ],
             [
              0.5555555555555556,
              "#d8576b"
             ],
             [
              0.6666666666666666,
              "#ed7953"
             ],
             [
              0.7777777777777778,
              "#fb9f3a"
             ],
             [
              0.8888888888888888,
              "#fdca26"
             ],
             [
              1,
              "#f0f921"
             ]
            ],
            "type": "heatmapgl"
           }
          ],
          "histogram": [
           {
            "marker": {
             "colorbar": {
              "outlinewidth": 0,
              "ticks": ""
             }
            },
            "type": "histogram"
           }
          ],
          "histogram2d": [
           {
            "colorbar": {
             "outlinewidth": 0,
             "ticks": ""
            },
            "colorscale": [
             [
              0,
              "#0d0887"
             ],
             [
              0.1111111111111111,
              "#46039f"
             ],
             [
              0.2222222222222222,
              "#7201a8"
             ],
             [
              0.3333333333333333,
              "#9c179e"
             ],
             [
              0.4444444444444444,
              "#bd3786"
             ],
             [
              0.5555555555555556,
              "#d8576b"
             ],
             [
              0.6666666666666666,
              "#ed7953"
             ],
             [
              0.7777777777777778,
              "#fb9f3a"
             ],
             [
              0.8888888888888888,
              "#fdca26"
             ],
             [
              1,
              "#f0f921"
             ]
            ],
            "type": "histogram2d"
           }
          ],
          "histogram2dcontour": [
           {
            "colorbar": {
             "outlinewidth": 0,
             "ticks": ""
            },
            "colorscale": [
             [
              0,
              "#0d0887"
             ],
             [
              0.1111111111111111,
              "#46039f"
             ],
             [
              0.2222222222222222,
              "#7201a8"
             ],
             [
              0.3333333333333333,
              "#9c179e"
             ],
             [
              0.4444444444444444,
              "#bd3786"
             ],
             [
              0.5555555555555556,
              "#d8576b"
             ],
             [
              0.6666666666666666,
              "#ed7953"
             ],
             [
              0.7777777777777778,
              "#fb9f3a"
             ],
             [
              0.8888888888888888,
              "#fdca26"
             ],
             [
              1,
              "#f0f921"
             ]
            ],
            "type": "histogram2dcontour"
           }
          ],
          "mesh3d": [
           {
            "colorbar": {
             "outlinewidth": 0,
             "ticks": ""
            },
            "type": "mesh3d"
           }
          ],
          "parcoords": [
           {
            "line": {
             "colorbar": {
              "outlinewidth": 0,
              "ticks": ""
             }
            },
            "type": "parcoords"
           }
          ],
          "pie": [
           {
            "automargin": true,
            "type": "pie"
           }
          ],
          "scatter": [
           {
            "marker": {
             "colorbar": {
              "outlinewidth": 0,
              "ticks": ""
             }
            },
            "type": "scatter"
           }
          ],
          "scatter3d": [
           {
            "line": {
             "colorbar": {
              "outlinewidth": 0,
              "ticks": ""
             }
            },
            "marker": {
             "colorbar": {
              "outlinewidth": 0,
              "ticks": ""
             }
            },
            "type": "scatter3d"
           }
          ],
          "scattercarpet": [
           {
            "marker": {
             "colorbar": {
              "outlinewidth": 0,
              "ticks": ""
             }
            },
            "type": "scattercarpet"
           }
          ],
          "scattergeo": [
           {
            "marker": {
             "colorbar": {
              "outlinewidth": 0,
              "ticks": ""
             }
            },
            "type": "scattergeo"
           }
          ],
          "scattergl": [
           {
            "marker": {
             "colorbar": {
              "outlinewidth": 0,
              "ticks": ""
             }
            },
            "type": "scattergl"
           }
          ],
          "scattermapbox": [
           {
            "marker": {
             "colorbar": {
              "outlinewidth": 0,
              "ticks": ""
             }
            },
            "type": "scattermapbox"
           }
          ],
          "scatterpolar": [
           {
            "marker": {
             "colorbar": {
              "outlinewidth": 0,
              "ticks": ""
             }
            },
            "type": "scatterpolar"
           }
          ],
          "scatterpolargl": [
           {
            "marker": {
             "colorbar": {
              "outlinewidth": 0,
              "ticks": ""
             }
            },
            "type": "scatterpolargl"
           }
          ],
          "scatterternary": [
           {
            "marker": {
             "colorbar": {
              "outlinewidth": 0,
              "ticks": ""
             }
            },
            "type": "scatterternary"
           }
          ],
          "surface": [
           {
            "colorbar": {
             "outlinewidth": 0,
             "ticks": ""
            },
            "colorscale": [
             [
              0,
              "#0d0887"
             ],
             [
              0.1111111111111111,
              "#46039f"
             ],
             [
              0.2222222222222222,
              "#7201a8"
             ],
             [
              0.3333333333333333,
              "#9c179e"
             ],
             [
              0.4444444444444444,
              "#bd3786"
             ],
             [
              0.5555555555555556,
              "#d8576b"
             ],
             [
              0.6666666666666666,
              "#ed7953"
             ],
             [
              0.7777777777777778,
              "#fb9f3a"
             ],
             [
              0.8888888888888888,
              "#fdca26"
             ],
             [
              1,
              "#f0f921"
             ]
            ],
            "type": "surface"
           }
          ],
          "table": [
           {
            "cells": {
             "fill": {
              "color": "#EBF0F8"
             },
             "line": {
              "color": "white"
             }
            },
            "header": {
             "fill": {
              "color": "#C8D4E3"
             },
             "line": {
              "color": "white"
             }
            },
            "type": "table"
           }
          ]
         },
         "layout": {
          "annotationdefaults": {
           "arrowcolor": "#2a3f5f",
           "arrowhead": 0,
           "arrowwidth": 1
          },
          "coloraxis": {
           "colorbar": {
            "outlinewidth": 0,
            "ticks": ""
           }
          },
          "colorscale": {
           "diverging": [
            [
             0,
             "#8e0152"
            ],
            [
             0.1,
             "#c51b7d"
            ],
            [
             0.2,
             "#de77ae"
            ],
            [
             0.3,
             "#f1b6da"
            ],
            [
             0.4,
             "#fde0ef"
            ],
            [
             0.5,
             "#f7f7f7"
            ],
            [
             0.6,
             "#e6f5d0"
            ],
            [
             0.7,
             "#b8e186"
            ],
            [
             0.8,
             "#7fbc41"
            ],
            [
             0.9,
             "#4d9221"
            ],
            [
             1,
             "#276419"
            ]
           ],
           "sequential": [
            [
             0,
             "#0d0887"
            ],
            [
             0.1111111111111111,
             "#46039f"
            ],
            [
             0.2222222222222222,
             "#7201a8"
            ],
            [
             0.3333333333333333,
             "#9c179e"
            ],
            [
             0.4444444444444444,
             "#bd3786"
            ],
            [
             0.5555555555555556,
             "#d8576b"
            ],
            [
             0.6666666666666666,
             "#ed7953"
            ],
            [
             0.7777777777777778,
             "#fb9f3a"
            ],
            [
             0.8888888888888888,
             "#fdca26"
            ],
            [
             1,
             "#f0f921"
            ]
           ],
           "sequentialminus": [
            [
             0,
             "#0d0887"
            ],
            [
             0.1111111111111111,
             "#46039f"
            ],
            [
             0.2222222222222222,
             "#7201a8"
            ],
            [
             0.3333333333333333,
             "#9c179e"
            ],
            [
             0.4444444444444444,
             "#bd3786"
            ],
            [
             0.5555555555555556,
             "#d8576b"
            ],
            [
             0.6666666666666666,
             "#ed7953"
            ],
            [
             0.7777777777777778,
             "#fb9f3a"
            ],
            [
             0.8888888888888888,
             "#fdca26"
            ],
            [
             1,
             "#f0f921"
            ]
           ]
          },
          "colorway": [
           "#636efa",
           "#EF553B",
           "#00cc96",
           "#ab63fa",
           "#FFA15A",
           "#19d3f3",
           "#FF6692",
           "#B6E880",
           "#FF97FF",
           "#FECB52"
          ],
          "font": {
           "color": "#2a3f5f"
          },
          "geo": {
           "bgcolor": "white",
           "lakecolor": "white",
           "landcolor": "#E5ECF6",
           "showlakes": true,
           "showland": true,
           "subunitcolor": "white"
          },
          "hoverlabel": {
           "align": "left"
          },
          "hovermode": "closest",
          "mapbox": {
           "style": "light"
          },
          "paper_bgcolor": "white",
          "plot_bgcolor": "#E5ECF6",
          "polar": {
           "angularaxis": {
            "gridcolor": "white",
            "linecolor": "white",
            "ticks": ""
           },
           "bgcolor": "#E5ECF6",
           "radialaxis": {
            "gridcolor": "white",
            "linecolor": "white",
            "ticks": ""
           }
          },
          "scene": {
           "xaxis": {
            "backgroundcolor": "#E5ECF6",
            "gridcolor": "white",
            "gridwidth": 2,
            "linecolor": "white",
            "showbackground": true,
            "ticks": "",
            "zerolinecolor": "white"
           },
           "yaxis": {
            "backgroundcolor": "#E5ECF6",
            "gridcolor": "white",
            "gridwidth": 2,
            "linecolor": "white",
            "showbackground": true,
            "ticks": "",
            "zerolinecolor": "white"
           },
           "zaxis": {
            "backgroundcolor": "#E5ECF6",
            "gridcolor": "white",
            "gridwidth": 2,
            "linecolor": "white",
            "showbackground": true,
            "ticks": "",
            "zerolinecolor": "white"
           }
          },
          "shapedefaults": {
           "line": {
            "color": "#2a3f5f"
           }
          },
          "ternary": {
           "aaxis": {
            "gridcolor": "white",
            "linecolor": "white",
            "ticks": ""
           },
           "baxis": {
            "gridcolor": "white",
            "linecolor": "white",
            "ticks": ""
           },
           "bgcolor": "#E5ECF6",
           "caxis": {
            "gridcolor": "white",
            "linecolor": "white",
            "ticks": ""
           }
          },
          "title": {
           "x": 0.05
          },
          "xaxis": {
           "automargin": true,
           "gridcolor": "white",
           "linecolor": "white",
           "ticks": "",
           "title": {
            "standoff": 15
           },
           "zerolinecolor": "white",
           "zerolinewidth": 2
          },
          "yaxis": {
           "automargin": true,
           "gridcolor": "white",
           "linecolor": "white",
           "ticks": "",
           "title": {
            "standoff": 15
           },
           "zerolinecolor": "white",
           "zerolinewidth": 2
          }
         }
        },
        "title": {
         "font": {
          "color": "#4D5663"
         }
        },
        "xaxis": {
         "gridcolor": "#E1E5ED",
         "showgrid": true,
         "tickfont": {
          "color": "#4D5663"
         },
         "title": {
          "font": {
           "color": "#4D5663"
          },
          "text": ""
         },
         "zerolinecolor": "#E1E5ED"
        },
        "yaxis": {
         "gridcolor": "#E1E5ED",
         "showgrid": true,
         "tickfont": {
          "color": "#4D5663"
         },
         "title": {
          "font": {
           "color": "#4D5663"
          },
          "text": ""
         },
         "zerolinecolor": "#E1E5ED"
        }
       }
      },
      "text/html": [
       "<div>\n",
       "        \n",
       "        \n",
       "            <div id=\"170a06d6-6c90-4951-81c2-c32a3c94ef39\" class=\"plotly-graph-div\" style=\"height:525px; width:100%;\"></div>\n",
       "            <script type=\"text/javascript\">\n",
       "                require([\"plotly\"], function(Plotly) {\n",
       "                    window.PLOTLYENV=window.PLOTLYENV || {};\n",
       "                    window.PLOTLYENV.BASE_URL='https://plot.ly';\n",
       "                    \n",
       "                if (document.getElementById(\"170a06d6-6c90-4951-81c2-c32a3c94ef39\")) {\n",
       "                    Plotly.newPlot(\n",
       "                        '170a06d6-6c90-4951-81c2-c32a3c94ef39',\n",
       "                        [{\"histfunc\": \"count\", \"histnorm\": \"\", \"marker\": {\"color\": \"rgba(255, 153, 51, 1.0)\", \"line\": {\"color\": \"#4D5663\", \"width\": 1.3}}, \"name\": \"A\", \"nbinsx\": 50, \"opacity\": 0.8, \"orientation\": \"v\", \"type\": \"histogram\", \"x\": [-0.47994138356102345, 0.16000001454505774, 1.2996849606416845, -0.3459934331228707, 1.0368948135116955, 0.07946965327892691, 0.02947178831828827, -0.26772555546117177, -2.0314116116032723, -0.7776726685287725, -0.6632265573499633, 0.040338171293861545, 0.03099329497456494, 1.30667900546974, -0.037687242533143366, 0.73556867266476, 0.1957228240044999, -1.0482986804628374, 1.0503916976168206, 0.3384999073480586, -0.14838682865663155, -1.849858632992489, -1.1910865283155898, 1.5553865160982832, 0.986449102796202, 0.07626968937010195, -0.7144282219471334, -1.95459396507943, 0.5166017932497404, -0.1272350411517917, 0.3651824330336992, 0.629568772242452, 0.2238905949170703, -0.4080627997126574, 0.2459532769412293, -1.4375822191198364, 1.1953127234968812, 0.20642350123956282, -0.6118149783961775, -0.3516522754108534, 0.3864587743634232, 0.5578874059130349, -1.2239437975712937, -0.5751253948097974, -0.8161879128352467, 0.728310144983823, 1.0285518125814623, -0.061080867479822096, 0.5456049906240891, 1.6757326714528262, 1.1259534774275948, 2.1679146833244065, 0.3627705444531118, -0.2007163005561877, 1.5857603106850822, -0.14387374650148002, 0.6711681353081573, -2.077686313631864, -0.8339634788937905, -1.5147815926076582, -0.2426824940955602, -0.05900561048931461, -0.5015572453005709, -1.02382765079118, 0.6594628547687229, -0.23529898779933406, 0.989301732841858, 1.0913142676056113, 0.9047811195866384, 2.171823959268939, 0.8660901043897223, -1.009123777500051, -1.2739552439273125, -0.8003558594463309, -0.7227937984759449, -0.4548814893006097, -1.2973334617697536, -0.40436366793090245, -0.5467723352316892, 1.3324985767546997, -0.3000650152937515, -2.4463874579688456, 0.5366264052442478, 0.8394154584497169, -0.47075436156584355, 0.46846103114383303, 1.7485010794299531, -1.3189454373300313, -0.29883060294564007, 0.09313380405100766, 1.2964129012060845, 1.6132918404264132, -0.11654004163312816, -0.3113907853250452, 0.03577164272941658, -0.22212739215972332, 0.19790220317768603, 0.23463768157652232, -0.3274922195966929, -0.3594549556767431]}],\n",
       "                        {\"barmode\": \"overlay\", \"legend\": {\"bgcolor\": \"#F5F6F9\", \"font\": {\"color\": \"#4D5663\"}}, \"paper_bgcolor\": \"#F5F6F9\", \"plot_bgcolor\": \"#F5F6F9\", \"template\": {\"data\": {\"bar\": [{\"error_x\": {\"color\": \"#2a3f5f\"}, \"error_y\": {\"color\": \"#2a3f5f\"}, \"marker\": {\"line\": {\"color\": \"#E5ECF6\", \"width\": 0.5}}, \"type\": \"bar\"}], \"barpolar\": [{\"marker\": {\"line\": {\"color\": \"#E5ECF6\", \"width\": 0.5}}, \"type\": \"barpolar\"}], \"carpet\": [{\"aaxis\": {\"endlinecolor\": \"#2a3f5f\", \"gridcolor\": \"white\", \"linecolor\": \"white\", \"minorgridcolor\": \"white\", \"startlinecolor\": \"#2a3f5f\"}, \"baxis\": {\"endlinecolor\": \"#2a3f5f\", \"gridcolor\": \"white\", \"linecolor\": \"white\", \"minorgridcolor\": \"white\", \"startlinecolor\": \"#2a3f5f\"}, \"type\": \"carpet\"}], \"choropleth\": [{\"colorbar\": {\"outlinewidth\": 0, \"ticks\": \"\"}, \"type\": \"choropleth\"}], \"contour\": [{\"colorbar\": {\"outlinewidth\": 0, \"ticks\": \"\"}, \"colorscale\": [[0.0, \"#0d0887\"], [0.1111111111111111, \"#46039f\"], [0.2222222222222222, \"#7201a8\"], [0.3333333333333333, \"#9c179e\"], [0.4444444444444444, \"#bd3786\"], [0.5555555555555556, \"#d8576b\"], [0.6666666666666666, \"#ed7953\"], [0.7777777777777778, \"#fb9f3a\"], [0.8888888888888888, \"#fdca26\"], [1.0, \"#f0f921\"]], \"type\": \"contour\"}], \"contourcarpet\": [{\"colorbar\": {\"outlinewidth\": 0, \"ticks\": \"\"}, \"type\": \"contourcarpet\"}], \"heatmap\": [{\"colorbar\": {\"outlinewidth\": 0, \"ticks\": \"\"}, \"colorscale\": [[0.0, \"#0d0887\"], [0.1111111111111111, \"#46039f\"], [0.2222222222222222, \"#7201a8\"], [0.3333333333333333, \"#9c179e\"], [0.4444444444444444, \"#bd3786\"], [0.5555555555555556, \"#d8576b\"], [0.6666666666666666, \"#ed7953\"], [0.7777777777777778, \"#fb9f3a\"], [0.8888888888888888, \"#fdca26\"], [1.0, \"#f0f921\"]], \"type\": \"heatmap\"}], \"heatmapgl\": [{\"colorbar\": {\"outlinewidth\": 0, \"ticks\": \"\"}, \"colorscale\": [[0.0, \"#0d0887\"], [0.1111111111111111, \"#46039f\"], [0.2222222222222222, \"#7201a8\"], [0.3333333333333333, \"#9c179e\"], [0.4444444444444444, \"#bd3786\"], [0.5555555555555556, \"#d8576b\"], [0.6666666666666666, \"#ed7953\"], [0.7777777777777778, \"#fb9f3a\"], [0.8888888888888888, \"#fdca26\"], [1.0, \"#f0f921\"]], \"type\": \"heatmapgl\"}], \"histogram\": [{\"marker\": {\"colorbar\": {\"outlinewidth\": 0, \"ticks\": \"\"}}, \"type\": \"histogram\"}], \"histogram2d\": [{\"colorbar\": {\"outlinewidth\": 0, \"ticks\": \"\"}, \"colorscale\": [[0.0, \"#0d0887\"], [0.1111111111111111, \"#46039f\"], [0.2222222222222222, \"#7201a8\"], [0.3333333333333333, \"#9c179e\"], [0.4444444444444444, \"#bd3786\"], [0.5555555555555556, \"#d8576b\"], [0.6666666666666666, \"#ed7953\"], [0.7777777777777778, \"#fb9f3a\"], [0.8888888888888888, \"#fdca26\"], [1.0, \"#f0f921\"]], \"type\": \"histogram2d\"}], \"histogram2dcontour\": [{\"colorbar\": {\"outlinewidth\": 0, \"ticks\": \"\"}, \"colorscale\": [[0.0, \"#0d0887\"], [0.1111111111111111, \"#46039f\"], [0.2222222222222222, \"#7201a8\"], [0.3333333333333333, \"#9c179e\"], [0.4444444444444444, \"#bd3786\"], [0.5555555555555556, \"#d8576b\"], [0.6666666666666666, \"#ed7953\"], [0.7777777777777778, \"#fb9f3a\"], [0.8888888888888888, \"#fdca26\"], [1.0, \"#f0f921\"]], \"type\": \"histogram2dcontour\"}], \"mesh3d\": [{\"colorbar\": {\"outlinewidth\": 0, \"ticks\": \"\"}, \"type\": \"mesh3d\"}], \"parcoords\": [{\"line\": {\"colorbar\": {\"outlinewidth\": 0, \"ticks\": \"\"}}, \"type\": \"parcoords\"}], \"pie\": [{\"automargin\": true, \"type\": \"pie\"}], \"scatter\": [{\"marker\": {\"colorbar\": {\"outlinewidth\": 0, \"ticks\": \"\"}}, \"type\": \"scatter\"}], \"scatter3d\": [{\"line\": {\"colorbar\": {\"outlinewidth\": 0, \"ticks\": \"\"}}, \"marker\": {\"colorbar\": {\"outlinewidth\": 0, \"ticks\": \"\"}}, \"type\": \"scatter3d\"}], \"scattercarpet\": [{\"marker\": {\"colorbar\": {\"outlinewidth\": 0, \"ticks\": \"\"}}, \"type\": \"scattercarpet\"}], \"scattergeo\": [{\"marker\": {\"colorbar\": {\"outlinewidth\": 0, \"ticks\": \"\"}}, \"type\": \"scattergeo\"}], \"scattergl\": [{\"marker\": {\"colorbar\": {\"outlinewidth\": 0, \"ticks\": \"\"}}, \"type\": \"scattergl\"}], \"scattermapbox\": [{\"marker\": {\"colorbar\": {\"outlinewidth\": 0, \"ticks\": \"\"}}, \"type\": \"scattermapbox\"}], \"scatterpolar\": [{\"marker\": {\"colorbar\": {\"outlinewidth\": 0, \"ticks\": \"\"}}, \"type\": \"scatterpolar\"}], \"scatterpolargl\": [{\"marker\": {\"colorbar\": {\"outlinewidth\": 0, \"ticks\": \"\"}}, \"type\": \"scatterpolargl\"}], \"scatterternary\": [{\"marker\": {\"colorbar\": {\"outlinewidth\": 0, \"ticks\": \"\"}}, \"type\": \"scatterternary\"}], \"surface\": [{\"colorbar\": {\"outlinewidth\": 0, \"ticks\": \"\"}, \"colorscale\": [[0.0, \"#0d0887\"], [0.1111111111111111, \"#46039f\"], [0.2222222222222222, \"#7201a8\"], [0.3333333333333333, \"#9c179e\"], [0.4444444444444444, \"#bd3786\"], [0.5555555555555556, \"#d8576b\"], [0.6666666666666666, \"#ed7953\"], [0.7777777777777778, \"#fb9f3a\"], [0.8888888888888888, \"#fdca26\"], [1.0, \"#f0f921\"]], \"type\": \"surface\"}], \"table\": [{\"cells\": {\"fill\": {\"color\": \"#EBF0F8\"}, \"line\": {\"color\": \"white\"}}, \"header\": {\"fill\": {\"color\": \"#C8D4E3\"}, \"line\": {\"color\": \"white\"}}, \"type\": \"table\"}]}, \"layout\": {\"annotationdefaults\": {\"arrowcolor\": \"#2a3f5f\", \"arrowhead\": 0, \"arrowwidth\": 1}, \"coloraxis\": {\"colorbar\": {\"outlinewidth\": 0, \"ticks\": \"\"}}, \"colorscale\": {\"diverging\": [[0, \"#8e0152\"], [0.1, \"#c51b7d\"], [0.2, \"#de77ae\"], [0.3, \"#f1b6da\"], [0.4, \"#fde0ef\"], [0.5, \"#f7f7f7\"], [0.6, \"#e6f5d0\"], [0.7, \"#b8e186\"], [0.8, \"#7fbc41\"], [0.9, \"#4d9221\"], [1, \"#276419\"]], \"sequential\": [[0.0, \"#0d0887\"], [0.1111111111111111, \"#46039f\"], [0.2222222222222222, \"#7201a8\"], [0.3333333333333333, \"#9c179e\"], [0.4444444444444444, \"#bd3786\"], [0.5555555555555556, \"#d8576b\"], [0.6666666666666666, \"#ed7953\"], [0.7777777777777778, \"#fb9f3a\"], [0.8888888888888888, \"#fdca26\"], [1.0, \"#f0f921\"]], \"sequentialminus\": [[0.0, \"#0d0887\"], [0.1111111111111111, \"#46039f\"], [0.2222222222222222, \"#7201a8\"], [0.3333333333333333, \"#9c179e\"], [0.4444444444444444, \"#bd3786\"], [0.5555555555555556, \"#d8576b\"], [0.6666666666666666, \"#ed7953\"], [0.7777777777777778, \"#fb9f3a\"], [0.8888888888888888, \"#fdca26\"], [1.0, \"#f0f921\"]]}, \"colorway\": [\"#636efa\", \"#EF553B\", \"#00cc96\", \"#ab63fa\", \"#FFA15A\", \"#19d3f3\", \"#FF6692\", \"#B6E880\", \"#FF97FF\", \"#FECB52\"], \"font\": {\"color\": \"#2a3f5f\"}, \"geo\": {\"bgcolor\": \"white\", \"lakecolor\": \"white\", \"landcolor\": \"#E5ECF6\", \"showlakes\": true, \"showland\": true, \"subunitcolor\": \"white\"}, \"hoverlabel\": {\"align\": \"left\"}, \"hovermode\": \"closest\", \"mapbox\": {\"style\": \"light\"}, \"paper_bgcolor\": \"white\", \"plot_bgcolor\": \"#E5ECF6\", \"polar\": {\"angularaxis\": {\"gridcolor\": \"white\", \"linecolor\": \"white\", \"ticks\": \"\"}, \"bgcolor\": \"#E5ECF6\", \"radialaxis\": {\"gridcolor\": \"white\", \"linecolor\": \"white\", \"ticks\": \"\"}}, \"scene\": {\"xaxis\": {\"backgroundcolor\": \"#E5ECF6\", \"gridcolor\": \"white\", \"gridwidth\": 2, \"linecolor\": \"white\", \"showbackground\": true, \"ticks\": \"\", \"zerolinecolor\": \"white\"}, \"yaxis\": {\"backgroundcolor\": \"#E5ECF6\", \"gridcolor\": \"white\", \"gridwidth\": 2, \"linecolor\": \"white\", \"showbackground\": true, \"ticks\": \"\", \"zerolinecolor\": \"white\"}, \"zaxis\": {\"backgroundcolor\": \"#E5ECF6\", \"gridcolor\": \"white\", \"gridwidth\": 2, \"linecolor\": \"white\", \"showbackground\": true, \"ticks\": \"\", \"zerolinecolor\": \"white\"}}, \"shapedefaults\": {\"line\": {\"color\": \"#2a3f5f\"}}, \"ternary\": {\"aaxis\": {\"gridcolor\": \"white\", \"linecolor\": \"white\", \"ticks\": \"\"}, \"baxis\": {\"gridcolor\": \"white\", \"linecolor\": \"white\", \"ticks\": \"\"}, \"bgcolor\": \"#E5ECF6\", \"caxis\": {\"gridcolor\": \"white\", \"linecolor\": \"white\", \"ticks\": \"\"}}, \"title\": {\"x\": 0.05}, \"xaxis\": {\"automargin\": true, \"gridcolor\": \"white\", \"linecolor\": \"white\", \"ticks\": \"\", \"title\": {\"standoff\": 15}, \"zerolinecolor\": \"white\", \"zerolinewidth\": 2}, \"yaxis\": {\"automargin\": true, \"gridcolor\": \"white\", \"linecolor\": \"white\", \"ticks\": \"\", \"title\": {\"standoff\": 15}, \"zerolinecolor\": \"white\", \"zerolinewidth\": 2}}}, \"title\": {\"font\": {\"color\": \"#4D5663\"}}, \"xaxis\": {\"gridcolor\": \"#E1E5ED\", \"showgrid\": true, \"tickfont\": {\"color\": \"#4D5663\"}, \"title\": {\"font\": {\"color\": \"#4D5663\"}, \"text\": \"\"}, \"zerolinecolor\": \"#E1E5ED\"}, \"yaxis\": {\"gridcolor\": \"#E1E5ED\", \"showgrid\": true, \"tickfont\": {\"color\": \"#4D5663\"}, \"title\": {\"font\": {\"color\": \"#4D5663\"}, \"text\": \"\"}, \"zerolinecolor\": \"#E1E5ED\"}},\n",
       "                        {\"showLink\": true, \"linkText\": \"Export to plot.ly\", \"plotlyServerURL\": \"https://plot.ly\", \"responsive\": true}\n",
       "                    ).then(function(){\n",
       "                            \n",
       "var gd = document.getElementById('170a06d6-6c90-4951-81c2-c32a3c94ef39');\n",
       "var x = new MutationObserver(function (mutations, observer) {{\n",
       "        var display = window.getComputedStyle(gd).display;\n",
       "        if (!display || display === 'none') {{\n",
       "            console.log([gd, 'removed!']);\n",
       "            Plotly.purge(gd);\n",
       "            observer.disconnect();\n",
       "        }}\n",
       "}});\n",
       "\n",
       "// Listen for the removal of the full notebook cells\n",
       "var notebookContainer = gd.closest('#notebook-container');\n",
       "if (notebookContainer) {{\n",
       "    x.observe(notebookContainer, {childList: true});\n",
       "}}\n",
       "\n",
       "// Listen for the clearing of the current output cell\n",
       "var outputEl = gd.closest('.output');\n",
       "if (outputEl) {{\n",
       "    x.observe(outputEl, {childList: true});\n",
       "}}\n",
       "\n",
       "                        })\n",
       "                };\n",
       "                });\n",
       "            </script>\n",
       "        </div>"
      ]
     },
     "metadata": {},
     "output_type": "display_data"
    }
   ],
   "source": [
    "df['A'].iplot(kind='hist',bins=50)"
   ]
  },
  {
   "cell_type": "code",
   "execution_count": 32,
   "metadata": {},
   "outputs": [
    {
     "data": {
      "application/vnd.plotly.v1+json": {
       "config": {
        "linkText": "Export to plot.ly",
        "plotlyServerURL": "https://plot.ly",
        "showLink": true
       },
       "data": [
        {
         "histfunc": "count",
         "histnorm": "",
         "marker": {
          "color": "rgba(255, 153, 51, 1.0)",
          "line": {
           "color": "#4D5663",
           "width": 1.3
          }
         },
         "name": "A",
         "opacity": 0.8,
         "orientation": "v",
         "type": "histogram",
         "x": [
          -0.47994138356102345,
          0.16000001454505774,
          1.2996849606416845,
          -0.3459934331228707,
          1.0368948135116955,
          0.07946965327892691,
          0.02947178831828827,
          -0.26772555546117177,
          -2.0314116116032723,
          -0.7776726685287725,
          -0.6632265573499633,
          0.040338171293861545,
          0.03099329497456494,
          1.30667900546974,
          -0.037687242533143366,
          0.73556867266476,
          0.1957228240044999,
          -1.0482986804628374,
          1.0503916976168206,
          0.3384999073480586,
          -0.14838682865663155,
          -1.849858632992489,
          -1.1910865283155898,
          1.5553865160982832,
          0.986449102796202,
          0.07626968937010195,
          -0.7144282219471334,
          -1.95459396507943,
          0.5166017932497404,
          -0.1272350411517917,
          0.3651824330336992,
          0.629568772242452,
          0.2238905949170703,
          -0.4080627997126574,
          0.2459532769412293,
          -1.4375822191198364,
          1.1953127234968812,
          0.20642350123956282,
          -0.6118149783961775,
          -0.3516522754108534,
          0.3864587743634232,
          0.5578874059130349,
          -1.2239437975712937,
          -0.5751253948097974,
          -0.8161879128352467,
          0.728310144983823,
          1.0285518125814623,
          -0.061080867479822096,
          0.5456049906240891,
          1.6757326714528262,
          1.1259534774275948,
          2.1679146833244065,
          0.3627705444531118,
          -0.2007163005561877,
          1.5857603106850822,
          -0.14387374650148002,
          0.6711681353081573,
          -2.077686313631864,
          -0.8339634788937905,
          -1.5147815926076582,
          -0.2426824940955602,
          -0.05900561048931461,
          -0.5015572453005709,
          -1.02382765079118,
          0.6594628547687229,
          -0.23529898779933406,
          0.989301732841858,
          1.0913142676056113,
          0.9047811195866384,
          2.171823959268939,
          0.8660901043897223,
          -1.009123777500051,
          -1.2739552439273125,
          -0.8003558594463309,
          -0.7227937984759449,
          -0.4548814893006097,
          -1.2973334617697536,
          -0.40436366793090245,
          -0.5467723352316892,
          1.3324985767546997,
          -0.3000650152937515,
          -2.4463874579688456,
          0.5366264052442478,
          0.8394154584497169,
          -0.47075436156584355,
          0.46846103114383303,
          1.7485010794299531,
          -1.3189454373300313,
          -0.29883060294564007,
          0.09313380405100766,
          1.2964129012060845,
          1.6132918404264132,
          -0.11654004163312816,
          -0.3113907853250452,
          0.03577164272941658,
          -0.22212739215972332,
          0.19790220317768603,
          0.23463768157652232,
          -0.3274922195966929,
          -0.3594549556767431
         ]
        },
        {
         "histfunc": "count",
         "histnorm": "",
         "marker": {
          "color": "rgba(55, 128, 191, 1.0)",
          "line": {
           "color": "#4D5663",
           "width": 1.3
          }
         },
         "name": "B",
         "opacity": 0.8,
         "orientation": "v",
         "type": "histogram",
         "x": [
          -0.6750720095040574,
          -0.6236632378538945,
          0.31648115090713874,
          0.006625469958763555,
          1.0701445375157368,
          -1.489988600379836,
          0.7894479972844892,
          0.9173170404148899,
          -0.03236558870315396,
          0.531828866922249,
          0.5886330258336944,
          -1.167976713880715,
          -0.7162100002669591,
          -0.5414831307678194,
          0.7840457615721561,
          -0.46930537859098814,
          -0.7892004007784026,
          0.15190499519329212,
          -0.13488847109679594,
          0.9560305771827087,
          0.9836328201693666,
          1.113069160455684,
          0.3815657149703171,
          1.3561175238140253,
          -1.0417651856920722,
          0.6451841844568005,
          -0.4828578505139144,
          1.5246445699148836,
          0.06537554774633204,
          0.04931160611207707,
          1.9347732812598075,
          -0.8061165056880444,
          1.0744399572724777,
          -0.38326628912131316,
          -1.7407112541746834,
          -1.1789405193606934,
          -1.4075963840229924,
          -0.40096512182303085,
          0.3220761194308544,
          -0.9234853236877474,
          -2.0334595526466446,
          0.7776897486339085,
          -0.9807388724402262,
          0.6367945434202201,
          1.2749049396021885,
          1.5095220335919506,
          -1.0861773553362357,
          0.2928360719752721,
          -1.0635379361026216,
          0.5682472797409951,
          -0.9001092545463106,
          -0.40166002883131624,
          0.15203268993711191,
          0.5507806044416774,
          -0.406142216960143,
          -1.217479641294983,
          0.6917269041894943,
          -0.911829853729197,
          -1.4102896333460009,
          -1.1411785121505986,
          -0.08111764128140288,
          -1.2905700010948244,
          0.15246509174095685,
          0.5514074713986842,
          -0.5748023680027282,
          -0.17533905191623023,
          0.2750882818594264,
          -0.06060424378975698,
          0.48929733464317215,
          -0.8521185592816384,
          0.14843460207767809,
          0.36699416075794683,
          -0.1763066172519723,
          0.6767034425170794,
          -1.0558797509891396,
          -1.2618686077621954,
          -0.7013920682499339,
          -1.1536332965995175,
          -1.0458008683090156,
          -1.1845502086936621,
          -1.6179944848535541,
          0.027753117132022737,
          -0.03597787859543119,
          -0.6109525033400434,
          -0.006659128206266237,
          -1.9053029934010377,
          -0.1979953952563941,
          -1.970715611393755,
          -0.02374897918555784,
          0.014002628836400495,
          0.9021962904211355,
          -0.2186002004460576,
          0.282987591536079,
          -0.4104780901919894,
          -0.29636306422899106,
          -1.0720115422654701,
          1.4663762784345675,
          0.518632479089715,
          0.643572733575315,
          -0.5238831432693754
         ]
        },
        {
         "histfunc": "count",
         "histnorm": "",
         "marker": {
          "color": "rgba(50, 171, 96, 1.0)",
          "line": {
           "color": "#4D5663",
           "width": 1.3
          }
         },
         "name": "C",
         "opacity": 0.8,
         "orientation": "v",
         "type": "histogram",
         "x": [
          -0.5197271978581905,
          -0.35702079986068197,
          -0.6751074162834202,
          -0.8290603698439113,
          -1.7620567856664684,
          0.22579158270393165,
          0.00808063258413915,
          -0.6891205740873824,
          1.3805447654586755,
          -0.05653607792480402,
          -1.5578460253123274,
          -1.423940701684458,
          -1.2987087258472758,
          0.6434196202513819,
          -0.06084163519495708,
          -0.3596184597698029,
          -0.1600839748573193,
          0.4351329108949361,
          -0.037248400408046785,
          -0.2963151081901758,
          0.1450065608648587,
          1.1920904328243296,
          0.21667688869310794,
          0.6949961722611162,
          0.9847769996892395,
          -0.0056276016213413355,
          0.5004276282933069,
          0.9065596468268876,
          0.3913797397178053,
          0.5194628533956177,
          0.20180903715178042,
          -0.37102518269253304,
          1.007985221807975,
          1.2693324558378918,
          1.8427949296226573,
          0.5288485335232646,
          -0.6862959392121788,
          1.4338661951430534,
          0.006824530293811063,
          -0.23133092335789665,
          -1.5418740730564444,
          0.8628701890453,
          -0.6483764997573348,
          -1.6029664806541335,
          -0.7940380352821212,
          -1.8951476576766457,
          -0.40041956603237083,
          0.2964911317848158,
          1.5899392607667207,
          0.4312931244279361,
          -1.8737143112380912,
          0.15598014843187272,
          -0.8561011752865471,
          1.205915463923441,
          0.08531616891935535,
          -0.2849719587160101,
          -0.49992372301677185,
          -0.1977389254022585,
          0.9672487407550542,
          -2.1007611967290454,
          2.5758556907585763,
          -1.3544767038489602,
          -0.5482520679537566,
          -0.14250855825853886,
          -0.31395089348855637,
          0.22273658215192293,
          1.6444651798928556,
          -0.1645639143914819,
          -0.4281820820795921,
          -0.44045908292905706,
          1.8124573636463697,
          -2.0269863208849563,
          0.1160077533479532,
          2.0653426029572985,
          -0.5089496389521247,
          -0.12134215070011177,
          0.5399005604153339,
          0.722808318590877,
          0.8803784655030259,
          -1.2061397944554992,
          0.3970338332193433,
          -1.0746922682004565,
          0.4206950439615749,
          -1.4792823364969105,
          -0.5587369720014077,
          -0.15698538565975714,
          -0.8612772787041048,
          0.20900126254664594,
          -0.28515872294607314,
          0.0036611009568451856,
          0.5538991408164484,
          2.926243867371199,
          0.7796294023213519,
          -1.3660970894954452,
          0.25571122605780455,
          -0.7818561652897893,
          -1.235332988189121,
          1.4674049373740403,
          0.25507104998325436,
          0.44431307217121674
         ]
        },
        {
         "histfunc": "count",
         "histnorm": "",
         "marker": {
          "color": "rgba(128, 0, 128, 1.0)",
          "line": {
           "color": "#4D5663",
           "width": 1.3
          }
         },
         "name": "D",
         "opacity": 0.8,
         "orientation": "v",
         "type": "histogram",
         "x": [
          0.18942170519626872,
          -1.2802194731604748,
          0.6349376524449637,
          -0.5504493747747182,
          -0.7052055592080125,
          -0.20621564334914896,
          0.17785259437516168,
          1.0675198214940365,
          0.43278494355204966,
          -1.1979095622506206,
          0.03377723660122678,
          -0.5844708269743173,
          -1.3259672968360285,
          -1.5768099286883155,
          -0.5745729240121211,
          -0.09220113732000862,
          0.045936116104723645,
          1.3791850474193161,
          1.8582293288358758,
          0.3689175248690529,
          0.10787976561289657,
          -0.5595527120732183,
          -1.4134306157866812,
          -0.9627143604904586,
          1.146387094842736,
          1.562875052994166,
          0.12792405719541777,
          0.4692887195328484,
          -1.3292574772861743,
          0.14539836343131582,
          -0.019269658825584794,
          -0.4628263841159192,
          -1.2579807391391045,
          -1.98788066802929,
          0.05924856073748593,
          -0.16311938920992022,
          -0.27527171490132246,
          -0.15839675467227424,
          0.30242416587063015,
          -0.8495425020657296,
          -0.4586702146018039,
          0.08460838908589949,
          -2.394485298556269,
          0.44435681397663634,
          0.2445539721871795,
          -0.21942588916376973,
          0.5593116756375367,
          -0.8382612967116606,
          -0.8801381638643744,
          2.2119414718170582,
          -1.8595165157814173,
          0.17087544617586234,
          0.34126648026356315,
          0.48670860790953857,
          -0.4178684019411358,
          -0.06418358333556115,
          0.7270068870675426,
          0.7734335640748874,
          0.5849299447104188,
          -0.09745409043521285,
          1.0429191705092615,
          -1.7722403207134747,
          -1.8495043259843567,
          -0.7792485620696873,
          1.600271390275063,
          -0.6374166322996777,
          -0.38594804544541017,
          -0.32338577033233395,
          -0.06479085716062354,
          0.4400675832296403,
          -1.0249528267596215,
          -0.7466060800255195,
          -0.35496339596247256,
          1.4494676348279423,
          1.0924735876914018,
          2.257533687084062,
          -1.0196171714000544,
          -0.9570592291527833,
          -1.5508421070797296,
          -1.5378804322035184,
          0.47728934923457966,
          -1.1191201363418921,
          -0.04468329386381377,
          -0.10629130596692232,
          0.3616265796275296,
          0.6891470617042107,
          -1.9189015917736612,
          1.0490773829306952,
          1.5753947224514775,
          0.8358400820596704,
          -1.3948517425353133,
          -0.525009371351308,
          -0.29431542845104475,
          0.3042360977060703,
          -0.6706043911388967,
          0.07321410292070137,
          -0.717643881557239,
          -0.10093489837101675,
          -0.38363037570998165,
          1.9918704037414345
         ]
        }
       ],
       "layout": {
        "barmode": "overlay",
        "legend": {
         "bgcolor": "#F5F6F9",
         "font": {
          "color": "#4D5663"
         }
        },
        "paper_bgcolor": "#F5F6F9",
        "plot_bgcolor": "#F5F6F9",
        "template": {
         "data": {
          "bar": [
           {
            "error_x": {
             "color": "#2a3f5f"
            },
            "error_y": {
             "color": "#2a3f5f"
            },
            "marker": {
             "line": {
              "color": "#E5ECF6",
              "width": 0.5
             }
            },
            "type": "bar"
           }
          ],
          "barpolar": [
           {
            "marker": {
             "line": {
              "color": "#E5ECF6",
              "width": 0.5
             }
            },
            "type": "barpolar"
           }
          ],
          "carpet": [
           {
            "aaxis": {
             "endlinecolor": "#2a3f5f",
             "gridcolor": "white",
             "linecolor": "white",
             "minorgridcolor": "white",
             "startlinecolor": "#2a3f5f"
            },
            "baxis": {
             "endlinecolor": "#2a3f5f",
             "gridcolor": "white",
             "linecolor": "white",
             "minorgridcolor": "white",
             "startlinecolor": "#2a3f5f"
            },
            "type": "carpet"
           }
          ],
          "choropleth": [
           {
            "colorbar": {
             "outlinewidth": 0,
             "ticks": ""
            },
            "type": "choropleth"
           }
          ],
          "contour": [
           {
            "colorbar": {
             "outlinewidth": 0,
             "ticks": ""
            },
            "colorscale": [
             [
              0,
              "#0d0887"
             ],
             [
              0.1111111111111111,
              "#46039f"
             ],
             [
              0.2222222222222222,
              "#7201a8"
             ],
             [
              0.3333333333333333,
              "#9c179e"
             ],
             [
              0.4444444444444444,
              "#bd3786"
             ],
             [
              0.5555555555555556,
              "#d8576b"
             ],
             [
              0.6666666666666666,
              "#ed7953"
             ],
             [
              0.7777777777777778,
              "#fb9f3a"
             ],
             [
              0.8888888888888888,
              "#fdca26"
             ],
             [
              1,
              "#f0f921"
             ]
            ],
            "type": "contour"
           }
          ],
          "contourcarpet": [
           {
            "colorbar": {
             "outlinewidth": 0,
             "ticks": ""
            },
            "type": "contourcarpet"
           }
          ],
          "heatmap": [
           {
            "colorbar": {
             "outlinewidth": 0,
             "ticks": ""
            },
            "colorscale": [
             [
              0,
              "#0d0887"
             ],
             [
              0.1111111111111111,
              "#46039f"
             ],
             [
              0.2222222222222222,
              "#7201a8"
             ],
             [
              0.3333333333333333,
              "#9c179e"
             ],
             [
              0.4444444444444444,
              "#bd3786"
             ],
             [
              0.5555555555555556,
              "#d8576b"
             ],
             [
              0.6666666666666666,
              "#ed7953"
             ],
             [
              0.7777777777777778,
              "#fb9f3a"
             ],
             [
              0.8888888888888888,
              "#fdca26"
             ],
             [
              1,
              "#f0f921"
             ]
            ],
            "type": "heatmap"
           }
          ],
          "heatmapgl": [
           {
            "colorbar": {
             "outlinewidth": 0,
             "ticks": ""
            },
            "colorscale": [
             [
              0,
              "#0d0887"
             ],
             [
              0.1111111111111111,
              "#46039f"
             ],
             [
              0.2222222222222222,
              "#7201a8"
             ],
             [
              0.3333333333333333,
              "#9c179e"
             ],
             [
              0.4444444444444444,
              "#bd3786"
             ],
             [
              0.5555555555555556,
              "#d8576b"
             ],
             [
              0.6666666666666666,
              "#ed7953"
             ],
             [
              0.7777777777777778,
              "#fb9f3a"
             ],
             [
              0.8888888888888888,
              "#fdca26"
             ],
             [
              1,
              "#f0f921"
             ]
            ],
            "type": "heatmapgl"
           }
          ],
          "histogram": [
           {
            "marker": {
             "colorbar": {
              "outlinewidth": 0,
              "ticks": ""
             }
            },
            "type": "histogram"
           }
          ],
          "histogram2d": [
           {
            "colorbar": {
             "outlinewidth": 0,
             "ticks": ""
            },
            "colorscale": [
             [
              0,
              "#0d0887"
             ],
             [
              0.1111111111111111,
              "#46039f"
             ],
             [
              0.2222222222222222,
              "#7201a8"
             ],
             [
              0.3333333333333333,
              "#9c179e"
             ],
             [
              0.4444444444444444,
              "#bd3786"
             ],
             [
              0.5555555555555556,
              "#d8576b"
             ],
             [
              0.6666666666666666,
              "#ed7953"
             ],
             [
              0.7777777777777778,
              "#fb9f3a"
             ],
             [
              0.8888888888888888,
              "#fdca26"
             ],
             [
              1,
              "#f0f921"
             ]
            ],
            "type": "histogram2d"
           }
          ],
          "histogram2dcontour": [
           {
            "colorbar": {
             "outlinewidth": 0,
             "ticks": ""
            },
            "colorscale": [
             [
              0,
              "#0d0887"
             ],
             [
              0.1111111111111111,
              "#46039f"
             ],
             [
              0.2222222222222222,
              "#7201a8"
             ],
             [
              0.3333333333333333,
              "#9c179e"
             ],
             [
              0.4444444444444444,
              "#bd3786"
             ],
             [
              0.5555555555555556,
              "#d8576b"
             ],
             [
              0.6666666666666666,
              "#ed7953"
             ],
             [
              0.7777777777777778,
              "#fb9f3a"
             ],
             [
              0.8888888888888888,
              "#fdca26"
             ],
             [
              1,
              "#f0f921"
             ]
            ],
            "type": "histogram2dcontour"
           }
          ],
          "mesh3d": [
           {
            "colorbar": {
             "outlinewidth": 0,
             "ticks": ""
            },
            "type": "mesh3d"
           }
          ],
          "parcoords": [
           {
            "line": {
             "colorbar": {
              "outlinewidth": 0,
              "ticks": ""
             }
            },
            "type": "parcoords"
           }
          ],
          "pie": [
           {
            "automargin": true,
            "type": "pie"
           }
          ],
          "scatter": [
           {
            "marker": {
             "colorbar": {
              "outlinewidth": 0,
              "ticks": ""
             }
            },
            "type": "scatter"
           }
          ],
          "scatter3d": [
           {
            "line": {
             "colorbar": {
              "outlinewidth": 0,
              "ticks": ""
             }
            },
            "marker": {
             "colorbar": {
              "outlinewidth": 0,
              "ticks": ""
             }
            },
            "type": "scatter3d"
           }
          ],
          "scattercarpet": [
           {
            "marker": {
             "colorbar": {
              "outlinewidth": 0,
              "ticks": ""
             }
            },
            "type": "scattercarpet"
           }
          ],
          "scattergeo": [
           {
            "marker": {
             "colorbar": {
              "outlinewidth": 0,
              "ticks": ""
             }
            },
            "type": "scattergeo"
           }
          ],
          "scattergl": [
           {
            "marker": {
             "colorbar": {
              "outlinewidth": 0,
              "ticks": ""
             }
            },
            "type": "scattergl"
           }
          ],
          "scattermapbox": [
           {
            "marker": {
             "colorbar": {
              "outlinewidth": 0,
              "ticks": ""
             }
            },
            "type": "scattermapbox"
           }
          ],
          "scatterpolar": [
           {
            "marker": {
             "colorbar": {
              "outlinewidth": 0,
              "ticks": ""
             }
            },
            "type": "scatterpolar"
           }
          ],
          "scatterpolargl": [
           {
            "marker": {
             "colorbar": {
              "outlinewidth": 0,
              "ticks": ""
             }
            },
            "type": "scatterpolargl"
           }
          ],
          "scatterternary": [
           {
            "marker": {
             "colorbar": {
              "outlinewidth": 0,
              "ticks": ""
             }
            },
            "type": "scatterternary"
           }
          ],
          "surface": [
           {
            "colorbar": {
             "outlinewidth": 0,
             "ticks": ""
            },
            "colorscale": [
             [
              0,
              "#0d0887"
             ],
             [
              0.1111111111111111,
              "#46039f"
             ],
             [
              0.2222222222222222,
              "#7201a8"
             ],
             [
              0.3333333333333333,
              "#9c179e"
             ],
             [
              0.4444444444444444,
              "#bd3786"
             ],
             [
              0.5555555555555556,
              "#d8576b"
             ],
             [
              0.6666666666666666,
              "#ed7953"
             ],
             [
              0.7777777777777778,
              "#fb9f3a"
             ],
             [
              0.8888888888888888,
              "#fdca26"
             ],
             [
              1,
              "#f0f921"
             ]
            ],
            "type": "surface"
           }
          ],
          "table": [
           {
            "cells": {
             "fill": {
              "color": "#EBF0F8"
             },
             "line": {
              "color": "white"
             }
            },
            "header": {
             "fill": {
              "color": "#C8D4E3"
             },
             "line": {
              "color": "white"
             }
            },
            "type": "table"
           }
          ]
         },
         "layout": {
          "annotationdefaults": {
           "arrowcolor": "#2a3f5f",
           "arrowhead": 0,
           "arrowwidth": 1
          },
          "coloraxis": {
           "colorbar": {
            "outlinewidth": 0,
            "ticks": ""
           }
          },
          "colorscale": {
           "diverging": [
            [
             0,
             "#8e0152"
            ],
            [
             0.1,
             "#c51b7d"
            ],
            [
             0.2,
             "#de77ae"
            ],
            [
             0.3,
             "#f1b6da"
            ],
            [
             0.4,
             "#fde0ef"
            ],
            [
             0.5,
             "#f7f7f7"
            ],
            [
             0.6,
             "#e6f5d0"
            ],
            [
             0.7,
             "#b8e186"
            ],
            [
             0.8,
             "#7fbc41"
            ],
            [
             0.9,
             "#4d9221"
            ],
            [
             1,
             "#276419"
            ]
           ],
           "sequential": [
            [
             0,
             "#0d0887"
            ],
            [
             0.1111111111111111,
             "#46039f"
            ],
            [
             0.2222222222222222,
             "#7201a8"
            ],
            [
             0.3333333333333333,
             "#9c179e"
            ],
            [
             0.4444444444444444,
             "#bd3786"
            ],
            [
             0.5555555555555556,
             "#d8576b"
            ],
            [
             0.6666666666666666,
             "#ed7953"
            ],
            [
             0.7777777777777778,
             "#fb9f3a"
            ],
            [
             0.8888888888888888,
             "#fdca26"
            ],
            [
             1,
             "#f0f921"
            ]
           ],
           "sequentialminus": [
            [
             0,
             "#0d0887"
            ],
            [
             0.1111111111111111,
             "#46039f"
            ],
            [
             0.2222222222222222,
             "#7201a8"
            ],
            [
             0.3333333333333333,
             "#9c179e"
            ],
            [
             0.4444444444444444,
             "#bd3786"
            ],
            [
             0.5555555555555556,
             "#d8576b"
            ],
            [
             0.6666666666666666,
             "#ed7953"
            ],
            [
             0.7777777777777778,
             "#fb9f3a"
            ],
            [
             0.8888888888888888,
             "#fdca26"
            ],
            [
             1,
             "#f0f921"
            ]
           ]
          },
          "colorway": [
           "#636efa",
           "#EF553B",
           "#00cc96",
           "#ab63fa",
           "#FFA15A",
           "#19d3f3",
           "#FF6692",
           "#B6E880",
           "#FF97FF",
           "#FECB52"
          ],
          "font": {
           "color": "#2a3f5f"
          },
          "geo": {
           "bgcolor": "white",
           "lakecolor": "white",
           "landcolor": "#E5ECF6",
           "showlakes": true,
           "showland": true,
           "subunitcolor": "white"
          },
          "hoverlabel": {
           "align": "left"
          },
          "hovermode": "closest",
          "mapbox": {
           "style": "light"
          },
          "paper_bgcolor": "white",
          "plot_bgcolor": "#E5ECF6",
          "polar": {
           "angularaxis": {
            "gridcolor": "white",
            "linecolor": "white",
            "ticks": ""
           },
           "bgcolor": "#E5ECF6",
           "radialaxis": {
            "gridcolor": "white",
            "linecolor": "white",
            "ticks": ""
           }
          },
          "scene": {
           "xaxis": {
            "backgroundcolor": "#E5ECF6",
            "gridcolor": "white",
            "gridwidth": 2,
            "linecolor": "white",
            "showbackground": true,
            "ticks": "",
            "zerolinecolor": "white"
           },
           "yaxis": {
            "backgroundcolor": "#E5ECF6",
            "gridcolor": "white",
            "gridwidth": 2,
            "linecolor": "white",
            "showbackground": true,
            "ticks": "",
            "zerolinecolor": "white"
           },
           "zaxis": {
            "backgroundcolor": "#E5ECF6",
            "gridcolor": "white",
            "gridwidth": 2,
            "linecolor": "white",
            "showbackground": true,
            "ticks": "",
            "zerolinecolor": "white"
           }
          },
          "shapedefaults": {
           "line": {
            "color": "#2a3f5f"
           }
          },
          "ternary": {
           "aaxis": {
            "gridcolor": "white",
            "linecolor": "white",
            "ticks": ""
           },
           "baxis": {
            "gridcolor": "white",
            "linecolor": "white",
            "ticks": ""
           },
           "bgcolor": "#E5ECF6",
           "caxis": {
            "gridcolor": "white",
            "linecolor": "white",
            "ticks": ""
           }
          },
          "title": {
           "x": 0.05
          },
          "xaxis": {
           "automargin": true,
           "gridcolor": "white",
           "linecolor": "white",
           "ticks": "",
           "title": {
            "standoff": 15
           },
           "zerolinecolor": "white",
           "zerolinewidth": 2
          },
          "yaxis": {
           "automargin": true,
           "gridcolor": "white",
           "linecolor": "white",
           "ticks": "",
           "title": {
            "standoff": 15
           },
           "zerolinecolor": "white",
           "zerolinewidth": 2
          }
         }
        },
        "title": {
         "font": {
          "color": "#4D5663"
         }
        },
        "xaxis": {
         "gridcolor": "#E1E5ED",
         "showgrid": true,
         "tickfont": {
          "color": "#4D5663"
         },
         "title": {
          "font": {
           "color": "#4D5663"
          },
          "text": ""
         },
         "zerolinecolor": "#E1E5ED"
        },
        "yaxis": {
         "gridcolor": "#E1E5ED",
         "showgrid": true,
         "tickfont": {
          "color": "#4D5663"
         },
         "title": {
          "font": {
           "color": "#4D5663"
          },
          "text": ""
         },
         "zerolinecolor": "#E1E5ED"
        }
       }
      },
      "text/html": [
       "<div>\n",
       "        \n",
       "        \n",
       "            <div id=\"39a5c7bb-8a01-4d5e-a78d-2587d731211c\" class=\"plotly-graph-div\" style=\"height:525px; width:100%;\"></div>\n",
       "            <script type=\"text/javascript\">\n",
       "                require([\"plotly\"], function(Plotly) {\n",
       "                    window.PLOTLYENV=window.PLOTLYENV || {};\n",
       "                    window.PLOTLYENV.BASE_URL='https://plot.ly';\n",
       "                    \n",
       "                if (document.getElementById(\"39a5c7bb-8a01-4d5e-a78d-2587d731211c\")) {\n",
       "                    Plotly.newPlot(\n",
       "                        '39a5c7bb-8a01-4d5e-a78d-2587d731211c',\n",
       "                        [{\"histfunc\": \"count\", \"histnorm\": \"\", \"marker\": {\"color\": \"rgba(255, 153, 51, 1.0)\", \"line\": {\"color\": \"#4D5663\", \"width\": 1.3}}, \"name\": \"A\", \"opacity\": 0.8, \"orientation\": \"v\", \"type\": \"histogram\", \"x\": [-0.47994138356102345, 0.16000001454505774, 1.2996849606416845, -0.3459934331228707, 1.0368948135116955, 0.07946965327892691, 0.02947178831828827, -0.26772555546117177, -2.0314116116032723, -0.7776726685287725, -0.6632265573499633, 0.040338171293861545, 0.03099329497456494, 1.30667900546974, -0.037687242533143366, 0.73556867266476, 0.1957228240044999, -1.0482986804628374, 1.0503916976168206, 0.3384999073480586, -0.14838682865663155, -1.849858632992489, -1.1910865283155898, 1.5553865160982832, 0.986449102796202, 0.07626968937010195, -0.7144282219471334, -1.95459396507943, 0.5166017932497404, -0.1272350411517917, 0.3651824330336992, 0.629568772242452, 0.2238905949170703, -0.4080627997126574, 0.2459532769412293, -1.4375822191198364, 1.1953127234968812, 0.20642350123956282, -0.6118149783961775, -0.3516522754108534, 0.3864587743634232, 0.5578874059130349, -1.2239437975712937, -0.5751253948097974, -0.8161879128352467, 0.728310144983823, 1.0285518125814623, -0.061080867479822096, 0.5456049906240891, 1.6757326714528262, 1.1259534774275948, 2.1679146833244065, 0.3627705444531118, -0.2007163005561877, 1.5857603106850822, -0.14387374650148002, 0.6711681353081573, -2.077686313631864, -0.8339634788937905, -1.5147815926076582, -0.2426824940955602, -0.05900561048931461, -0.5015572453005709, -1.02382765079118, 0.6594628547687229, -0.23529898779933406, 0.989301732841858, 1.0913142676056113, 0.9047811195866384, 2.171823959268939, 0.8660901043897223, -1.009123777500051, -1.2739552439273125, -0.8003558594463309, -0.7227937984759449, -0.4548814893006097, -1.2973334617697536, -0.40436366793090245, -0.5467723352316892, 1.3324985767546997, -0.3000650152937515, -2.4463874579688456, 0.5366264052442478, 0.8394154584497169, -0.47075436156584355, 0.46846103114383303, 1.7485010794299531, -1.3189454373300313, -0.29883060294564007, 0.09313380405100766, 1.2964129012060845, 1.6132918404264132, -0.11654004163312816, -0.3113907853250452, 0.03577164272941658, -0.22212739215972332, 0.19790220317768603, 0.23463768157652232, -0.3274922195966929, -0.3594549556767431]}, {\"histfunc\": \"count\", \"histnorm\": \"\", \"marker\": {\"color\": \"rgba(55, 128, 191, 1.0)\", \"line\": {\"color\": \"#4D5663\", \"width\": 1.3}}, \"name\": \"B\", \"opacity\": 0.8, \"orientation\": \"v\", \"type\": \"histogram\", \"x\": [-0.6750720095040574, -0.6236632378538945, 0.31648115090713874, 0.006625469958763555, 1.0701445375157368, -1.489988600379836, 0.7894479972844892, 0.9173170404148899, -0.03236558870315396, 0.531828866922249, 0.5886330258336944, -1.167976713880715, -0.7162100002669591, -0.5414831307678194, 0.7840457615721561, -0.46930537859098814, -0.7892004007784026, 0.15190499519329212, -0.13488847109679594, 0.9560305771827087, 0.9836328201693666, 1.113069160455684, 0.3815657149703171, 1.3561175238140253, -1.0417651856920722, 0.6451841844568005, -0.4828578505139144, 1.5246445699148836, 0.06537554774633204, 0.04931160611207707, 1.9347732812598075, -0.8061165056880444, 1.0744399572724777, -0.38326628912131316, -1.7407112541746834, -1.1789405193606934, -1.4075963840229924, -0.40096512182303085, 0.3220761194308544, -0.9234853236877474, -2.0334595526466446, 0.7776897486339085, -0.9807388724402262, 0.6367945434202201, 1.2749049396021885, 1.5095220335919506, -1.0861773553362357, 0.2928360719752721, -1.0635379361026216, 0.5682472797409951, -0.9001092545463106, -0.40166002883131624, 0.15203268993711191, 0.5507806044416774, -0.406142216960143, -1.217479641294983, 0.6917269041894943, -0.911829853729197, -1.4102896333460009, -1.1411785121505986, -0.08111764128140288, -1.2905700010948244, 0.15246509174095685, 0.5514074713986842, -0.5748023680027282, -0.17533905191623023, 0.2750882818594264, -0.06060424378975698, 0.48929733464317215, -0.8521185592816384, 0.14843460207767809, 0.36699416075794683, -0.1763066172519723, 0.6767034425170794, -1.0558797509891396, -1.2618686077621954, -0.7013920682499339, -1.1536332965995175, -1.0458008683090156, -1.1845502086936621, -1.6179944848535541, 0.027753117132022737, -0.03597787859543119, -0.6109525033400434, -0.006659128206266237, -1.9053029934010377, -0.1979953952563941, -1.970715611393755, -0.02374897918555784, 0.014002628836400495, 0.9021962904211355, -0.2186002004460576, 0.282987591536079, -0.4104780901919894, -0.29636306422899106, -1.0720115422654701, 1.4663762784345675, 0.518632479089715, 0.643572733575315, -0.5238831432693754]}, {\"histfunc\": \"count\", \"histnorm\": \"\", \"marker\": {\"color\": \"rgba(50, 171, 96, 1.0)\", \"line\": {\"color\": \"#4D5663\", \"width\": 1.3}}, \"name\": \"C\", \"opacity\": 0.8, \"orientation\": \"v\", \"type\": \"histogram\", \"x\": [-0.5197271978581905, -0.35702079986068197, -0.6751074162834202, -0.8290603698439113, -1.7620567856664684, 0.22579158270393165, 0.00808063258413915, -0.6891205740873824, 1.3805447654586755, -0.05653607792480402, -1.5578460253123274, -1.423940701684458, -1.2987087258472758, 0.6434196202513819, -0.06084163519495708, -0.3596184597698029, -0.1600839748573193, 0.4351329108949361, -0.037248400408046785, -0.2963151081901758, 0.1450065608648587, 1.1920904328243296, 0.21667688869310794, 0.6949961722611162, 0.9847769996892395, -0.0056276016213413355, 0.5004276282933069, 0.9065596468268876, 0.3913797397178053, 0.5194628533956177, 0.20180903715178042, -0.37102518269253304, 1.007985221807975, 1.2693324558378918, 1.8427949296226573, 0.5288485335232646, -0.6862959392121788, 1.4338661951430534, 0.006824530293811063, -0.23133092335789665, -1.5418740730564444, 0.8628701890453, -0.6483764997573348, -1.6029664806541335, -0.7940380352821212, -1.8951476576766457, -0.40041956603237083, 0.2964911317848158, 1.5899392607667207, 0.4312931244279361, -1.8737143112380912, 0.15598014843187272, -0.8561011752865471, 1.205915463923441, 0.08531616891935535, -0.2849719587160101, -0.49992372301677185, -0.1977389254022585, 0.9672487407550542, -2.1007611967290454, 2.5758556907585763, -1.3544767038489602, -0.5482520679537566, -0.14250855825853886, -0.31395089348855637, 0.22273658215192293, 1.6444651798928556, -0.1645639143914819, -0.4281820820795921, -0.44045908292905706, 1.8124573636463697, -2.0269863208849563, 0.1160077533479532, 2.0653426029572985, -0.5089496389521247, -0.12134215070011177, 0.5399005604153339, 0.722808318590877, 0.8803784655030259, -1.2061397944554992, 0.3970338332193433, -1.0746922682004565, 0.4206950439615749, -1.4792823364969105, -0.5587369720014077, -0.15698538565975714, -0.8612772787041048, 0.20900126254664594, -0.28515872294607314, 0.0036611009568451856, 0.5538991408164484, 2.926243867371199, 0.7796294023213519, -1.3660970894954452, 0.25571122605780455, -0.7818561652897893, -1.235332988189121, 1.4674049373740403, 0.25507104998325436, 0.44431307217121674]}, {\"histfunc\": \"count\", \"histnorm\": \"\", \"marker\": {\"color\": \"rgba(128, 0, 128, 1.0)\", \"line\": {\"color\": \"#4D5663\", \"width\": 1.3}}, \"name\": \"D\", \"opacity\": 0.8, \"orientation\": \"v\", \"type\": \"histogram\", \"x\": [0.18942170519626872, -1.2802194731604748, 0.6349376524449637, -0.5504493747747182, -0.7052055592080125, -0.20621564334914896, 0.17785259437516168, 1.0675198214940365, 0.43278494355204966, -1.1979095622506206, 0.03377723660122678, -0.5844708269743173, -1.3259672968360285, -1.5768099286883155, -0.5745729240121211, -0.09220113732000862, 0.045936116104723645, 1.3791850474193161, 1.8582293288358758, 0.3689175248690529, 0.10787976561289657, -0.5595527120732183, -1.4134306157866812, -0.9627143604904586, 1.146387094842736, 1.562875052994166, 0.12792405719541777, 0.4692887195328484, -1.3292574772861743, 0.14539836343131582, -0.019269658825584794, -0.4628263841159192, -1.2579807391391045, -1.98788066802929, 0.05924856073748593, -0.16311938920992022, -0.27527171490132246, -0.15839675467227424, 0.30242416587063015, -0.8495425020657296, -0.4586702146018039, 0.08460838908589949, -2.394485298556269, 0.44435681397663634, 0.2445539721871795, -0.21942588916376973, 0.5593116756375367, -0.8382612967116606, -0.8801381638643744, 2.2119414718170582, -1.8595165157814173, 0.17087544617586234, 0.34126648026356315, 0.48670860790953857, -0.4178684019411358, -0.06418358333556115, 0.7270068870675426, 0.7734335640748874, 0.5849299447104188, -0.09745409043521285, 1.0429191705092615, -1.7722403207134747, -1.8495043259843567, -0.7792485620696873, 1.600271390275063, -0.6374166322996777, -0.38594804544541017, -0.32338577033233395, -0.06479085716062354, 0.4400675832296403, -1.0249528267596215, -0.7466060800255195, -0.35496339596247256, 1.4494676348279423, 1.0924735876914018, 2.257533687084062, -1.0196171714000544, -0.9570592291527833, -1.5508421070797296, -1.5378804322035184, 0.47728934923457966, -1.1191201363418921, -0.04468329386381377, -0.10629130596692232, 0.3616265796275296, 0.6891470617042107, -1.9189015917736612, 1.0490773829306952, 1.5753947224514775, 0.8358400820596704, -1.3948517425353133, -0.525009371351308, -0.29431542845104475, 0.3042360977060703, -0.6706043911388967, 0.07321410292070137, -0.717643881557239, -0.10093489837101675, -0.38363037570998165, 1.9918704037414345]}],\n",
       "                        {\"barmode\": \"overlay\", \"legend\": {\"bgcolor\": \"#F5F6F9\", \"font\": {\"color\": \"#4D5663\"}}, \"paper_bgcolor\": \"#F5F6F9\", \"plot_bgcolor\": \"#F5F6F9\", \"template\": {\"data\": {\"bar\": [{\"error_x\": {\"color\": \"#2a3f5f\"}, \"error_y\": {\"color\": \"#2a3f5f\"}, \"marker\": {\"line\": {\"color\": \"#E5ECF6\", \"width\": 0.5}}, \"type\": \"bar\"}], \"barpolar\": [{\"marker\": {\"line\": {\"color\": \"#E5ECF6\", \"width\": 0.5}}, \"type\": \"barpolar\"}], \"carpet\": [{\"aaxis\": {\"endlinecolor\": \"#2a3f5f\", \"gridcolor\": \"white\", \"linecolor\": \"white\", \"minorgridcolor\": \"white\", \"startlinecolor\": \"#2a3f5f\"}, \"baxis\": {\"endlinecolor\": \"#2a3f5f\", \"gridcolor\": \"white\", \"linecolor\": \"white\", \"minorgridcolor\": \"white\", \"startlinecolor\": \"#2a3f5f\"}, \"type\": \"carpet\"}], \"choropleth\": [{\"colorbar\": {\"outlinewidth\": 0, \"ticks\": \"\"}, \"type\": \"choropleth\"}], \"contour\": [{\"colorbar\": {\"outlinewidth\": 0, \"ticks\": \"\"}, \"colorscale\": [[0.0, \"#0d0887\"], [0.1111111111111111, \"#46039f\"], [0.2222222222222222, \"#7201a8\"], [0.3333333333333333, \"#9c179e\"], [0.4444444444444444, \"#bd3786\"], [0.5555555555555556, \"#d8576b\"], [0.6666666666666666, \"#ed7953\"], [0.7777777777777778, \"#fb9f3a\"], [0.8888888888888888, \"#fdca26\"], [1.0, \"#f0f921\"]], \"type\": \"contour\"}], \"contourcarpet\": [{\"colorbar\": {\"outlinewidth\": 0, \"ticks\": \"\"}, \"type\": \"contourcarpet\"}], \"heatmap\": [{\"colorbar\": {\"outlinewidth\": 0, \"ticks\": \"\"}, \"colorscale\": [[0.0, \"#0d0887\"], [0.1111111111111111, \"#46039f\"], [0.2222222222222222, \"#7201a8\"], [0.3333333333333333, \"#9c179e\"], [0.4444444444444444, \"#bd3786\"], [0.5555555555555556, \"#d8576b\"], [0.6666666666666666, \"#ed7953\"], [0.7777777777777778, \"#fb9f3a\"], [0.8888888888888888, \"#fdca26\"], [1.0, \"#f0f921\"]], \"type\": \"heatmap\"}], \"heatmapgl\": [{\"colorbar\": {\"outlinewidth\": 0, \"ticks\": \"\"}, \"colorscale\": [[0.0, \"#0d0887\"], [0.1111111111111111, \"#46039f\"], [0.2222222222222222, \"#7201a8\"], [0.3333333333333333, \"#9c179e\"], [0.4444444444444444, \"#bd3786\"], [0.5555555555555556, \"#d8576b\"], [0.6666666666666666, \"#ed7953\"], [0.7777777777777778, \"#fb9f3a\"], [0.8888888888888888, \"#fdca26\"], [1.0, \"#f0f921\"]], \"type\": \"heatmapgl\"}], \"histogram\": [{\"marker\": {\"colorbar\": {\"outlinewidth\": 0, \"ticks\": \"\"}}, \"type\": \"histogram\"}], \"histogram2d\": [{\"colorbar\": {\"outlinewidth\": 0, \"ticks\": \"\"}, \"colorscale\": [[0.0, \"#0d0887\"], [0.1111111111111111, \"#46039f\"], [0.2222222222222222, \"#7201a8\"], [0.3333333333333333, \"#9c179e\"], [0.4444444444444444, \"#bd3786\"], [0.5555555555555556, \"#d8576b\"], [0.6666666666666666, \"#ed7953\"], [0.7777777777777778, \"#fb9f3a\"], [0.8888888888888888, \"#fdca26\"], [1.0, \"#f0f921\"]], \"type\": \"histogram2d\"}], \"histogram2dcontour\": [{\"colorbar\": {\"outlinewidth\": 0, \"ticks\": \"\"}, \"colorscale\": [[0.0, \"#0d0887\"], [0.1111111111111111, \"#46039f\"], [0.2222222222222222, \"#7201a8\"], [0.3333333333333333, \"#9c179e\"], [0.4444444444444444, \"#bd3786\"], [0.5555555555555556, \"#d8576b\"], [0.6666666666666666, \"#ed7953\"], [0.7777777777777778, \"#fb9f3a\"], [0.8888888888888888, \"#fdca26\"], [1.0, \"#f0f921\"]], \"type\": \"histogram2dcontour\"}], \"mesh3d\": [{\"colorbar\": {\"outlinewidth\": 0, \"ticks\": \"\"}, \"type\": \"mesh3d\"}], \"parcoords\": [{\"line\": {\"colorbar\": {\"outlinewidth\": 0, \"ticks\": \"\"}}, \"type\": \"parcoords\"}], \"pie\": [{\"automargin\": true, \"type\": \"pie\"}], \"scatter\": [{\"marker\": {\"colorbar\": {\"outlinewidth\": 0, \"ticks\": \"\"}}, \"type\": \"scatter\"}], \"scatter3d\": [{\"line\": {\"colorbar\": {\"outlinewidth\": 0, \"ticks\": \"\"}}, \"marker\": {\"colorbar\": {\"outlinewidth\": 0, \"ticks\": \"\"}}, \"type\": \"scatter3d\"}], \"scattercarpet\": [{\"marker\": {\"colorbar\": {\"outlinewidth\": 0, \"ticks\": \"\"}}, \"type\": \"scattercarpet\"}], \"scattergeo\": [{\"marker\": {\"colorbar\": {\"outlinewidth\": 0, \"ticks\": \"\"}}, \"type\": \"scattergeo\"}], \"scattergl\": [{\"marker\": {\"colorbar\": {\"outlinewidth\": 0, \"ticks\": \"\"}}, \"type\": \"scattergl\"}], \"scattermapbox\": [{\"marker\": {\"colorbar\": {\"outlinewidth\": 0, \"ticks\": \"\"}}, \"type\": \"scattermapbox\"}], \"scatterpolar\": [{\"marker\": {\"colorbar\": {\"outlinewidth\": 0, \"ticks\": \"\"}}, \"type\": \"scatterpolar\"}], \"scatterpolargl\": [{\"marker\": {\"colorbar\": {\"outlinewidth\": 0, \"ticks\": \"\"}}, \"type\": \"scatterpolargl\"}], \"scatterternary\": [{\"marker\": {\"colorbar\": {\"outlinewidth\": 0, \"ticks\": \"\"}}, \"type\": \"scatterternary\"}], \"surface\": [{\"colorbar\": {\"outlinewidth\": 0, \"ticks\": \"\"}, \"colorscale\": [[0.0, \"#0d0887\"], [0.1111111111111111, \"#46039f\"], [0.2222222222222222, \"#7201a8\"], [0.3333333333333333, \"#9c179e\"], [0.4444444444444444, \"#bd3786\"], [0.5555555555555556, \"#d8576b\"], [0.6666666666666666, \"#ed7953\"], [0.7777777777777778, \"#fb9f3a\"], [0.8888888888888888, \"#fdca26\"], [1.0, \"#f0f921\"]], \"type\": \"surface\"}], \"table\": [{\"cells\": {\"fill\": {\"color\": \"#EBF0F8\"}, \"line\": {\"color\": \"white\"}}, \"header\": {\"fill\": {\"color\": \"#C8D4E3\"}, \"line\": {\"color\": \"white\"}}, \"type\": \"table\"}]}, \"layout\": {\"annotationdefaults\": {\"arrowcolor\": \"#2a3f5f\", \"arrowhead\": 0, \"arrowwidth\": 1}, \"coloraxis\": {\"colorbar\": {\"outlinewidth\": 0, \"ticks\": \"\"}}, \"colorscale\": {\"diverging\": [[0, \"#8e0152\"], [0.1, \"#c51b7d\"], [0.2, \"#de77ae\"], [0.3, \"#f1b6da\"], [0.4, \"#fde0ef\"], [0.5, \"#f7f7f7\"], [0.6, \"#e6f5d0\"], [0.7, \"#b8e186\"], [0.8, \"#7fbc41\"], [0.9, \"#4d9221\"], [1, \"#276419\"]], \"sequential\": [[0.0, \"#0d0887\"], [0.1111111111111111, \"#46039f\"], [0.2222222222222222, \"#7201a8\"], [0.3333333333333333, \"#9c179e\"], [0.4444444444444444, \"#bd3786\"], [0.5555555555555556, \"#d8576b\"], [0.6666666666666666, \"#ed7953\"], [0.7777777777777778, \"#fb9f3a\"], [0.8888888888888888, \"#fdca26\"], [1.0, \"#f0f921\"]], \"sequentialminus\": [[0.0, \"#0d0887\"], [0.1111111111111111, \"#46039f\"], [0.2222222222222222, \"#7201a8\"], [0.3333333333333333, \"#9c179e\"], [0.4444444444444444, \"#bd3786\"], [0.5555555555555556, \"#d8576b\"], [0.6666666666666666, \"#ed7953\"], [0.7777777777777778, \"#fb9f3a\"], [0.8888888888888888, \"#fdca26\"], [1.0, \"#f0f921\"]]}, \"colorway\": [\"#636efa\", \"#EF553B\", \"#00cc96\", \"#ab63fa\", \"#FFA15A\", \"#19d3f3\", \"#FF6692\", \"#B6E880\", \"#FF97FF\", \"#FECB52\"], \"font\": {\"color\": \"#2a3f5f\"}, \"geo\": {\"bgcolor\": \"white\", \"lakecolor\": \"white\", \"landcolor\": \"#E5ECF6\", \"showlakes\": true, \"showland\": true, \"subunitcolor\": \"white\"}, \"hoverlabel\": {\"align\": \"left\"}, \"hovermode\": \"closest\", \"mapbox\": {\"style\": \"light\"}, \"paper_bgcolor\": \"white\", \"plot_bgcolor\": \"#E5ECF6\", \"polar\": {\"angularaxis\": {\"gridcolor\": \"white\", \"linecolor\": \"white\", \"ticks\": \"\"}, \"bgcolor\": \"#E5ECF6\", \"radialaxis\": {\"gridcolor\": \"white\", \"linecolor\": \"white\", \"ticks\": \"\"}}, \"scene\": {\"xaxis\": {\"backgroundcolor\": \"#E5ECF6\", \"gridcolor\": \"white\", \"gridwidth\": 2, \"linecolor\": \"white\", \"showbackground\": true, \"ticks\": \"\", \"zerolinecolor\": \"white\"}, \"yaxis\": {\"backgroundcolor\": \"#E5ECF6\", \"gridcolor\": \"white\", \"gridwidth\": 2, \"linecolor\": \"white\", \"showbackground\": true, \"ticks\": \"\", \"zerolinecolor\": \"white\"}, \"zaxis\": {\"backgroundcolor\": \"#E5ECF6\", \"gridcolor\": \"white\", \"gridwidth\": 2, \"linecolor\": \"white\", \"showbackground\": true, \"ticks\": \"\", \"zerolinecolor\": \"white\"}}, \"shapedefaults\": {\"line\": {\"color\": \"#2a3f5f\"}}, \"ternary\": {\"aaxis\": {\"gridcolor\": \"white\", \"linecolor\": \"white\", \"ticks\": \"\"}, \"baxis\": {\"gridcolor\": \"white\", \"linecolor\": \"white\", \"ticks\": \"\"}, \"bgcolor\": \"#E5ECF6\", \"caxis\": {\"gridcolor\": \"white\", \"linecolor\": \"white\", \"ticks\": \"\"}}, \"title\": {\"x\": 0.05}, \"xaxis\": {\"automargin\": true, \"gridcolor\": \"white\", \"linecolor\": \"white\", \"ticks\": \"\", \"title\": {\"standoff\": 15}, \"zerolinecolor\": \"white\", \"zerolinewidth\": 2}, \"yaxis\": {\"automargin\": true, \"gridcolor\": \"white\", \"linecolor\": \"white\", \"ticks\": \"\", \"title\": {\"standoff\": 15}, \"zerolinecolor\": \"white\", \"zerolinewidth\": 2}}}, \"title\": {\"font\": {\"color\": \"#4D5663\"}}, \"xaxis\": {\"gridcolor\": \"#E1E5ED\", \"showgrid\": true, \"tickfont\": {\"color\": \"#4D5663\"}, \"title\": {\"font\": {\"color\": \"#4D5663\"}, \"text\": \"\"}, \"zerolinecolor\": \"#E1E5ED\"}, \"yaxis\": {\"gridcolor\": \"#E1E5ED\", \"showgrid\": true, \"tickfont\": {\"color\": \"#4D5663\"}, \"title\": {\"font\": {\"color\": \"#4D5663\"}, \"text\": \"\"}, \"zerolinecolor\": \"#E1E5ED\"}},\n",
       "                        {\"showLink\": true, \"linkText\": \"Export to plot.ly\", \"plotlyServerURL\": \"https://plot.ly\", \"responsive\": true}\n",
       "                    ).then(function(){\n",
       "                            \n",
       "var gd = document.getElementById('39a5c7bb-8a01-4d5e-a78d-2587d731211c');\n",
       "var x = new MutationObserver(function (mutations, observer) {{\n",
       "        var display = window.getComputedStyle(gd).display;\n",
       "        if (!display || display === 'none') {{\n",
       "            console.log([gd, 'removed!']);\n",
       "            Plotly.purge(gd);\n",
       "            observer.disconnect();\n",
       "        }}\n",
       "}});\n",
       "\n",
       "// Listen for the removal of the full notebook cells\n",
       "var notebookContainer = gd.closest('#notebook-container');\n",
       "if (notebookContainer) {{\n",
       "    x.observe(notebookContainer, {childList: true});\n",
       "}}\n",
       "\n",
       "// Listen for the clearing of the current output cell\n",
       "var outputEl = gd.closest('.output');\n",
       "if (outputEl) {{\n",
       "    x.observe(outputEl, {childList: true});\n",
       "}}\n",
       "\n",
       "                        })\n",
       "                };\n",
       "                });\n",
       "            </script>\n",
       "        </div>"
      ]
     },
     "metadata": {},
     "output_type": "display_data"
    }
   ],
   "source": [
    "df.iplot(kind='hist')"
   ]
  },
  {
   "cell_type": "code",
   "execution_count": 33,
   "metadata": {},
   "outputs": [
    {
     "data": {
      "application/vnd.plotly.v1+json": {
       "config": {
        "linkText": "Export to plot.ly",
        "plotlyServerURL": "https://plot.ly",
        "showLink": true
       },
       "data": [
        {
         "line": {
          "color": "rgba(255, 153, 51, 1.0)",
          "dash": "solid",
          "shape": "linear",
          "width": 1.3
         },
         "mode": "lines",
         "name": "A",
         "text": "",
         "type": "scatter",
         "x": [
          0,
          1,
          2,
          3,
          4,
          5,
          6,
          7,
          8,
          9,
          10,
          11,
          12,
          13,
          14,
          15,
          16,
          17,
          18,
          19,
          20,
          21,
          22,
          23,
          24,
          25,
          26,
          27,
          28,
          29,
          30,
          31,
          32,
          33,
          34,
          35,
          36,
          37,
          38,
          39,
          40,
          41,
          42,
          43,
          44,
          45,
          46,
          47,
          48,
          49,
          50,
          51,
          52,
          53,
          54,
          55,
          56,
          57,
          58,
          59,
          60,
          61,
          62,
          63,
          64,
          65,
          66,
          67,
          68,
          69,
          70,
          71,
          72,
          73,
          74,
          75,
          76,
          77,
          78,
          79,
          80,
          81,
          82,
          83,
          84,
          85,
          86,
          87,
          88,
          89,
          90,
          91,
          92,
          93,
          94,
          95,
          96,
          97,
          98,
          99
         ],
         "y": [
          -0.47994138356102345,
          0.16000001454505774,
          1.2996849606416845,
          -0.3459934331228707,
          1.0368948135116955,
          0.07946965327892691,
          0.02947178831828827,
          -0.26772555546117177,
          -2.0314116116032723,
          -0.7776726685287725,
          -0.6632265573499633,
          0.040338171293861545,
          0.03099329497456494,
          1.30667900546974,
          -0.037687242533143366,
          0.73556867266476,
          0.1957228240044999,
          -1.0482986804628374,
          1.0503916976168206,
          0.3384999073480586,
          -0.14838682865663155,
          -1.849858632992489,
          -1.1910865283155898,
          1.5553865160982832,
          0.986449102796202,
          0.07626968937010195,
          -0.7144282219471334,
          -1.95459396507943,
          0.5166017932497404,
          -0.1272350411517917,
          0.3651824330336992,
          0.629568772242452,
          0.2238905949170703,
          -0.4080627997126574,
          0.2459532769412293,
          -1.4375822191198364,
          1.1953127234968812,
          0.20642350123956282,
          -0.6118149783961775,
          -0.3516522754108534,
          0.3864587743634232,
          0.5578874059130349,
          -1.2239437975712937,
          -0.5751253948097974,
          -0.8161879128352467,
          0.728310144983823,
          1.0285518125814623,
          -0.061080867479822096,
          0.5456049906240891,
          1.6757326714528262,
          1.1259534774275948,
          2.1679146833244065,
          0.3627705444531118,
          -0.2007163005561877,
          1.5857603106850822,
          -0.14387374650148002,
          0.6711681353081573,
          -2.077686313631864,
          -0.8339634788937905,
          -1.5147815926076582,
          -0.2426824940955602,
          -0.05900561048931461,
          -0.5015572453005709,
          -1.02382765079118,
          0.6594628547687229,
          -0.23529898779933406,
          0.989301732841858,
          1.0913142676056113,
          0.9047811195866384,
          2.171823959268939,
          0.8660901043897223,
          -1.009123777500051,
          -1.2739552439273125,
          -0.8003558594463309,
          -0.7227937984759449,
          -0.4548814893006097,
          -1.2973334617697536,
          -0.40436366793090245,
          -0.5467723352316892,
          1.3324985767546997,
          -0.3000650152937515,
          -2.4463874579688456,
          0.5366264052442478,
          0.8394154584497169,
          -0.47075436156584355,
          0.46846103114383303,
          1.7485010794299531,
          -1.3189454373300313,
          -0.29883060294564007,
          0.09313380405100766,
          1.2964129012060845,
          1.6132918404264132,
          -0.11654004163312816,
          -0.3113907853250452,
          0.03577164272941658,
          -0.22212739215972332,
          0.19790220317768603,
          0.23463768157652232,
          -0.3274922195966929,
          -0.3594549556767431
         ]
        },
        {
         "line": {
          "color": "rgba(55, 128, 191, 1.0)",
          "dash": "solid",
          "shape": "linear",
          "width": 1.3
         },
         "mode": "lines",
         "name": "B",
         "text": "",
         "type": "scatter",
         "x": [
          0,
          1,
          2,
          3,
          4,
          5,
          6,
          7,
          8,
          9,
          10,
          11,
          12,
          13,
          14,
          15,
          16,
          17,
          18,
          19,
          20,
          21,
          22,
          23,
          24,
          25,
          26,
          27,
          28,
          29,
          30,
          31,
          32,
          33,
          34,
          35,
          36,
          37,
          38,
          39,
          40,
          41,
          42,
          43,
          44,
          45,
          46,
          47,
          48,
          49,
          50,
          51,
          52,
          53,
          54,
          55,
          56,
          57,
          58,
          59,
          60,
          61,
          62,
          63,
          64,
          65,
          66,
          67,
          68,
          69,
          70,
          71,
          72,
          73,
          74,
          75,
          76,
          77,
          78,
          79,
          80,
          81,
          82,
          83,
          84,
          85,
          86,
          87,
          88,
          89,
          90,
          91,
          92,
          93,
          94,
          95,
          96,
          97,
          98,
          99
         ],
         "y": [
          -0.6750720095040574,
          -0.6236632378538945,
          0.31648115090713874,
          0.006625469958763555,
          1.0701445375157368,
          -1.489988600379836,
          0.7894479972844892,
          0.9173170404148899,
          -0.03236558870315396,
          0.531828866922249,
          0.5886330258336944,
          -1.167976713880715,
          -0.7162100002669591,
          -0.5414831307678194,
          0.7840457615721561,
          -0.46930537859098814,
          -0.7892004007784026,
          0.15190499519329212,
          -0.13488847109679594,
          0.9560305771827087,
          0.9836328201693666,
          1.113069160455684,
          0.3815657149703171,
          1.3561175238140253,
          -1.0417651856920722,
          0.6451841844568005,
          -0.4828578505139144,
          1.5246445699148836,
          0.06537554774633204,
          0.04931160611207707,
          1.9347732812598075,
          -0.8061165056880444,
          1.0744399572724777,
          -0.38326628912131316,
          -1.7407112541746834,
          -1.1789405193606934,
          -1.4075963840229924,
          -0.40096512182303085,
          0.3220761194308544,
          -0.9234853236877474,
          -2.0334595526466446,
          0.7776897486339085,
          -0.9807388724402262,
          0.6367945434202201,
          1.2749049396021885,
          1.5095220335919506,
          -1.0861773553362357,
          0.2928360719752721,
          -1.0635379361026216,
          0.5682472797409951,
          -0.9001092545463106,
          -0.40166002883131624,
          0.15203268993711191,
          0.5507806044416774,
          -0.406142216960143,
          -1.217479641294983,
          0.6917269041894943,
          -0.911829853729197,
          -1.4102896333460009,
          -1.1411785121505986,
          -0.08111764128140288,
          -1.2905700010948244,
          0.15246509174095685,
          0.5514074713986842,
          -0.5748023680027282,
          -0.17533905191623023,
          0.2750882818594264,
          -0.06060424378975698,
          0.48929733464317215,
          -0.8521185592816384,
          0.14843460207767809,
          0.36699416075794683,
          -0.1763066172519723,
          0.6767034425170794,
          -1.0558797509891396,
          -1.2618686077621954,
          -0.7013920682499339,
          -1.1536332965995175,
          -1.0458008683090156,
          -1.1845502086936621,
          -1.6179944848535541,
          0.027753117132022737,
          -0.03597787859543119,
          -0.6109525033400434,
          -0.006659128206266237,
          -1.9053029934010377,
          -0.1979953952563941,
          -1.970715611393755,
          -0.02374897918555784,
          0.014002628836400495,
          0.9021962904211355,
          -0.2186002004460576,
          0.282987591536079,
          -0.4104780901919894,
          -0.29636306422899106,
          -1.0720115422654701,
          1.4663762784345675,
          0.518632479089715,
          0.643572733575315,
          -0.5238831432693754
         ]
        },
        {
         "connectgaps": false,
         "fill": "tozeroy",
         "line": {
          "color": "green",
          "dash": "solid",
          "shape": "linear",
          "width": 0.5
         },
         "mode": "lines",
         "name": "Spread",
         "showlegend": false,
         "type": "scatter",
         "x": [
          0,
          1,
          2,
          3,
          4,
          5,
          6,
          7,
          8,
          9,
          10,
          11,
          12,
          13,
          14,
          15,
          16,
          17,
          18,
          19,
          20,
          21,
          22,
          23,
          24,
          25,
          26,
          27,
          28,
          29,
          30,
          31,
          32,
          33,
          34,
          35,
          36,
          37,
          38,
          39,
          40,
          41,
          42,
          43,
          44,
          45,
          46,
          47,
          48,
          49,
          50,
          51,
          52,
          53,
          54,
          55,
          56,
          57,
          58,
          59,
          60,
          61,
          62,
          63,
          64,
          65,
          66,
          67,
          68,
          69,
          70,
          71,
          72,
          73,
          74,
          75,
          76,
          77,
          78,
          79,
          80,
          81,
          82,
          83,
          84,
          85,
          86,
          87,
          88,
          89,
          90,
          91,
          92,
          93,
          94,
          95,
          96,
          97,
          98,
          99
         ],
         "xaxis": "x2",
         "y": [
          0.195130625943034,
          0.7836632523989523,
          0.9832038097345457,
          "",
          "",
          1.569458253658763,
          "",
          "",
          "",
          "",
          "",
          1.2083148851745764,
          0.7472032952415241,
          1.8481621362375593,
          "",
          1.204874051255748,
          0.9849232247829025,
          "",
          1.1852801687136165,
          "",
          "",
          "",
          "",
          0.19926899228425787,
          2.0282142884882743,
          "",
          "",
          "",
          0.4512262455034084,
          "",
          "",
          1.4356852779304963,
          "",
          "",
          1.9866645311159128,
          "",
          2.6029091075198734,
          0.6073886230625937,
          "",
          0.571833048276894,
          2.419918327010068,
          "",
          "",
          "",
          "",
          "",
          2.114729167917698,
          "",
          1.6091429267267108,
          1.107485391711831,
          2.0260627319739055,
          2.5695747121557226,
          0.21073785451599988,
          "",
          1.9919025276452251,
          1.073605894793503,
          "",
          "",
          0.5763261544522104,
          "",
          "",
          1.2315643906055098,
          "",
          "",
          1.2342652227714512,
          "",
          0.7142134509824316,
          1.1519185113953683,
          0.41548378494346627,
          3.023942518550577,
          0.7176555023120442,
          "",
          "",
          "",
          0.3330859525131946,
          0.8069871184615858,
          "",
          0.7492696286686151,
          0.4990285330773264,
          2.517048785448362,
          1.3179294695598025,
          "",
          0.572604283839679,
          1.4503679617897602,
          "",
          2.3737640245448706,
          1.9464964746863473,
          0.6517701740637236,
          "",
          0.07913117521460716,
          0.3942166107849491,
          1.8318920408724708,
          "",
          0.09908730486694417,
          0.33213470695840763,
          0.8498841501057468,
          "",
          "",
          "",
          0.16442818759263222
         ],
         "yaxis": "y2"
        },
        {
         "connectgaps": false,
         "fill": "tozeroy",
         "line": {
          "color": "red",
          "dash": "solid",
          "shape": "linear",
          "width": 0.5
         },
         "mode": "lines",
         "name": "Spread",
         "showlegend": false,
         "type": "scatter",
         "x": [
          0,
          1,
          2,
          3,
          4,
          5,
          6,
          7,
          8,
          9,
          10,
          11,
          12,
          13,
          14,
          15,
          16,
          17,
          18,
          19,
          20,
          21,
          22,
          23,
          24,
          25,
          26,
          27,
          28,
          29,
          30,
          31,
          32,
          33,
          34,
          35,
          36,
          37,
          38,
          39,
          40,
          41,
          42,
          43,
          44,
          45,
          46,
          47,
          48,
          49,
          50,
          51,
          52,
          53,
          54,
          55,
          56,
          57,
          58,
          59,
          60,
          61,
          62,
          63,
          64,
          65,
          66,
          67,
          68,
          69,
          70,
          71,
          72,
          73,
          74,
          75,
          76,
          77,
          78,
          79,
          80,
          81,
          82,
          83,
          84,
          85,
          86,
          87,
          88,
          89,
          90,
          91,
          92,
          93,
          94,
          95,
          96,
          97,
          98,
          99
         ],
         "xaxis": "x2",
         "y": [
          "",
          "",
          "",
          -0.35261890308163424,
          -0.03324972400404125,
          "",
          -0.759976208966201,
          -1.1850425958760618,
          -1.9990460229001183,
          -1.3095015354510213,
          -1.2518595831836576,
          "",
          "",
          "",
          -0.8217330041052995,
          "",
          "",
          -1.2002036756561294,
          "",
          -0.6175306698346501,
          -1.1320196488259981,
          -2.962927793448173,
          -1.572652243285907,
          "",
          "",
          -0.5689144950866986,
          -0.231570371433219,
          -3.4792385349943133,
          "",
          -0.1765466472638688,
          -1.5695908482261083,
          "",
          -0.8505493623554073,
          -0.024796510591344245,
          "",
          -0.258641699759143,
          "",
          "",
          -0.9338910978270318,
          "",
          "",
          -0.21980234272087362,
          -0.2432049251310675,
          -1.2119199382300176,
          -2.091092852437435,
          -0.7812118886081276,
          "",
          -0.3539169394550942,
          "",
          "",
          "",
          "",
          "",
          -0.7514969049978651,
          "",
          "",
          -0.02055876888133701,
          -1.1658564599026668,
          "",
          -0.3736030804570596,
          -0.16156485281415733,
          "",
          -0.6540223370415277,
          -1.5752351221898642,
          "",
          -0.05995993588310383,
          "",
          "",
          "",
          "",
          "",
          -1.3761179382579978,
          -1.0976486266753402,
          -1.4770593019634104,
          "",
          "",
          -0.5959413935198197,
          "",
          "",
          "",
          "",
          -2.4741405751008685,
          "",
          "",
          -0.4640952333595773,
          "",
          "",
          "",
          -0.2750816237600822,
          "",
          "",
          "",
          -0.39952763316920714,
          "",
          "",
          "",
          -1.2684740752568815,
          -0.2839947975131927,
          -0.9710649531720079,
          ""
         ],
         "yaxis": "y2"
        }
       ],
       "layout": {
        "hovermode": "x",
        "legend": {
         "bgcolor": "#F5F6F9",
         "font": {
          "color": "#4D5663"
         }
        },
        "paper_bgcolor": "#F5F6F9",
        "plot_bgcolor": "#F5F6F9",
        "template": {
         "data": {
          "bar": [
           {
            "error_x": {
             "color": "#2a3f5f"
            },
            "error_y": {
             "color": "#2a3f5f"
            },
            "marker": {
             "line": {
              "color": "#E5ECF6",
              "width": 0.5
             }
            },
            "type": "bar"
           }
          ],
          "barpolar": [
           {
            "marker": {
             "line": {
              "color": "#E5ECF6",
              "width": 0.5
             }
            },
            "type": "barpolar"
           }
          ],
          "carpet": [
           {
            "aaxis": {
             "endlinecolor": "#2a3f5f",
             "gridcolor": "white",
             "linecolor": "white",
             "minorgridcolor": "white",
             "startlinecolor": "#2a3f5f"
            },
            "baxis": {
             "endlinecolor": "#2a3f5f",
             "gridcolor": "white",
             "linecolor": "white",
             "minorgridcolor": "white",
             "startlinecolor": "#2a3f5f"
            },
            "type": "carpet"
           }
          ],
          "choropleth": [
           {
            "colorbar": {
             "outlinewidth": 0,
             "ticks": ""
            },
            "type": "choropleth"
           }
          ],
          "contour": [
           {
            "colorbar": {
             "outlinewidth": 0,
             "ticks": ""
            },
            "colorscale": [
             [
              0,
              "#0d0887"
             ],
             [
              0.1111111111111111,
              "#46039f"
             ],
             [
              0.2222222222222222,
              "#7201a8"
             ],
             [
              0.3333333333333333,
              "#9c179e"
             ],
             [
              0.4444444444444444,
              "#bd3786"
             ],
             [
              0.5555555555555556,
              "#d8576b"
             ],
             [
              0.6666666666666666,
              "#ed7953"
             ],
             [
              0.7777777777777778,
              "#fb9f3a"
             ],
             [
              0.8888888888888888,
              "#fdca26"
             ],
             [
              1,
              "#f0f921"
             ]
            ],
            "type": "contour"
           }
          ],
          "contourcarpet": [
           {
            "colorbar": {
             "outlinewidth": 0,
             "ticks": ""
            },
            "type": "contourcarpet"
           }
          ],
          "heatmap": [
           {
            "colorbar": {
             "outlinewidth": 0,
             "ticks": ""
            },
            "colorscale": [
             [
              0,
              "#0d0887"
             ],
             [
              0.1111111111111111,
              "#46039f"
             ],
             [
              0.2222222222222222,
              "#7201a8"
             ],
             [
              0.3333333333333333,
              "#9c179e"
             ],
             [
              0.4444444444444444,
              "#bd3786"
             ],
             [
              0.5555555555555556,
              "#d8576b"
             ],
             [
              0.6666666666666666,
              "#ed7953"
             ],
             [
              0.7777777777777778,
              "#fb9f3a"
             ],
             [
              0.8888888888888888,
              "#fdca26"
             ],
             [
              1,
              "#f0f921"
             ]
            ],
            "type": "heatmap"
           }
          ],
          "heatmapgl": [
           {
            "colorbar": {
             "outlinewidth": 0,
             "ticks": ""
            },
            "colorscale": [
             [
              0,
              "#0d0887"
             ],
             [
              0.1111111111111111,
              "#46039f"
             ],
             [
              0.2222222222222222,
              "#7201a8"
             ],
             [
              0.3333333333333333,
              "#9c179e"
             ],
             [
              0.4444444444444444,
              "#bd3786"
             ],
             [
              0.5555555555555556,
              "#d8576b"
             ],
             [
              0.6666666666666666,
              "#ed7953"
             ],
             [
              0.7777777777777778,
              "#fb9f3a"
             ],
             [
              0.8888888888888888,
              "#fdca26"
             ],
             [
              1,
              "#f0f921"
             ]
            ],
            "type": "heatmapgl"
           }
          ],
          "histogram": [
           {
            "marker": {
             "colorbar": {
              "outlinewidth": 0,
              "ticks": ""
             }
            },
            "type": "histogram"
           }
          ],
          "histogram2d": [
           {
            "colorbar": {
             "outlinewidth": 0,
             "ticks": ""
            },
            "colorscale": [
             [
              0,
              "#0d0887"
             ],
             [
              0.1111111111111111,
              "#46039f"
             ],
             [
              0.2222222222222222,
              "#7201a8"
             ],
             [
              0.3333333333333333,
              "#9c179e"
             ],
             [
              0.4444444444444444,
              "#bd3786"
             ],
             [
              0.5555555555555556,
              "#d8576b"
             ],
             [
              0.6666666666666666,
              "#ed7953"
             ],
             [
              0.7777777777777778,
              "#fb9f3a"
             ],
             [
              0.8888888888888888,
              "#fdca26"
             ],
             [
              1,
              "#f0f921"
             ]
            ],
            "type": "histogram2d"
           }
          ],
          "histogram2dcontour": [
           {
            "colorbar": {
             "outlinewidth": 0,
             "ticks": ""
            },
            "colorscale": [
             [
              0,
              "#0d0887"
             ],
             [
              0.1111111111111111,
              "#46039f"
             ],
             [
              0.2222222222222222,
              "#7201a8"
             ],
             [
              0.3333333333333333,
              "#9c179e"
             ],
             [
              0.4444444444444444,
              "#bd3786"
             ],
             [
              0.5555555555555556,
              "#d8576b"
             ],
             [
              0.6666666666666666,
              "#ed7953"
             ],
             [
              0.7777777777777778,
              "#fb9f3a"
             ],
             [
              0.8888888888888888,
              "#fdca26"
             ],
             [
              1,
              "#f0f921"
             ]
            ],
            "type": "histogram2dcontour"
           }
          ],
          "mesh3d": [
           {
            "colorbar": {
             "outlinewidth": 0,
             "ticks": ""
            },
            "type": "mesh3d"
           }
          ],
          "parcoords": [
           {
            "line": {
             "colorbar": {
              "outlinewidth": 0,
              "ticks": ""
             }
            },
            "type": "parcoords"
           }
          ],
          "pie": [
           {
            "automargin": true,
            "type": "pie"
           }
          ],
          "scatter": [
           {
            "marker": {
             "colorbar": {
              "outlinewidth": 0,
              "ticks": ""
             }
            },
            "type": "scatter"
           }
          ],
          "scatter3d": [
           {
            "line": {
             "colorbar": {
              "outlinewidth": 0,
              "ticks": ""
             }
            },
            "marker": {
             "colorbar": {
              "outlinewidth": 0,
              "ticks": ""
             }
            },
            "type": "scatter3d"
           }
          ],
          "scattercarpet": [
           {
            "marker": {
             "colorbar": {
              "outlinewidth": 0,
              "ticks": ""
             }
            },
            "type": "scattercarpet"
           }
          ],
          "scattergeo": [
           {
            "marker": {
             "colorbar": {
              "outlinewidth": 0,
              "ticks": ""
             }
            },
            "type": "scattergeo"
           }
          ],
          "scattergl": [
           {
            "marker": {
             "colorbar": {
              "outlinewidth": 0,
              "ticks": ""
             }
            },
            "type": "scattergl"
           }
          ],
          "scattermapbox": [
           {
            "marker": {
             "colorbar": {
              "outlinewidth": 0,
              "ticks": ""
             }
            },
            "type": "scattermapbox"
           }
          ],
          "scatterpolar": [
           {
            "marker": {
             "colorbar": {
              "outlinewidth": 0,
              "ticks": ""
             }
            },
            "type": "scatterpolar"
           }
          ],
          "scatterpolargl": [
           {
            "marker": {
             "colorbar": {
              "outlinewidth": 0,
              "ticks": ""
             }
            },
            "type": "scatterpolargl"
           }
          ],
          "scatterternary": [
           {
            "marker": {
             "colorbar": {
              "outlinewidth": 0,
              "ticks": ""
             }
            },
            "type": "scatterternary"
           }
          ],
          "surface": [
           {
            "colorbar": {
             "outlinewidth": 0,
             "ticks": ""
            },
            "colorscale": [
             [
              0,
              "#0d0887"
             ],
             [
              0.1111111111111111,
              "#46039f"
             ],
             [
              0.2222222222222222,
              "#7201a8"
             ],
             [
              0.3333333333333333,
              "#9c179e"
             ],
             [
              0.4444444444444444,
              "#bd3786"
             ],
             [
              0.5555555555555556,
              "#d8576b"
             ],
             [
              0.6666666666666666,
              "#ed7953"
             ],
             [
              0.7777777777777778,
              "#fb9f3a"
             ],
             [
              0.8888888888888888,
              "#fdca26"
             ],
             [
              1,
              "#f0f921"
             ]
            ],
            "type": "surface"
           }
          ],
          "table": [
           {
            "cells": {
             "fill": {
              "color": "#EBF0F8"
             },
             "line": {
              "color": "white"
             }
            },
            "header": {
             "fill": {
              "color": "#C8D4E3"
             },
             "line": {
              "color": "white"
             }
            },
            "type": "table"
           }
          ]
         },
         "layout": {
          "annotationdefaults": {
           "arrowcolor": "#2a3f5f",
           "arrowhead": 0,
           "arrowwidth": 1
          },
          "coloraxis": {
           "colorbar": {
            "outlinewidth": 0,
            "ticks": ""
           }
          },
          "colorscale": {
           "diverging": [
            [
             0,
             "#8e0152"
            ],
            [
             0.1,
             "#c51b7d"
            ],
            [
             0.2,
             "#de77ae"
            ],
            [
             0.3,
             "#f1b6da"
            ],
            [
             0.4,
             "#fde0ef"
            ],
            [
             0.5,
             "#f7f7f7"
            ],
            [
             0.6,
             "#e6f5d0"
            ],
            [
             0.7,
             "#b8e186"
            ],
            [
             0.8,
             "#7fbc41"
            ],
            [
             0.9,
             "#4d9221"
            ],
            [
             1,
             "#276419"
            ]
           ],
           "sequential": [
            [
             0,
             "#0d0887"
            ],
            [
             0.1111111111111111,
             "#46039f"
            ],
            [
             0.2222222222222222,
             "#7201a8"
            ],
            [
             0.3333333333333333,
             "#9c179e"
            ],
            [
             0.4444444444444444,
             "#bd3786"
            ],
            [
             0.5555555555555556,
             "#d8576b"
            ],
            [
             0.6666666666666666,
             "#ed7953"
            ],
            [
             0.7777777777777778,
             "#fb9f3a"
            ],
            [
             0.8888888888888888,
             "#fdca26"
            ],
            [
             1,
             "#f0f921"
            ]
           ],
           "sequentialminus": [
            [
             0,
             "#0d0887"
            ],
            [
             0.1111111111111111,
             "#46039f"
            ],
            [
             0.2222222222222222,
             "#7201a8"
            ],
            [
             0.3333333333333333,
             "#9c179e"
            ],
            [
             0.4444444444444444,
             "#bd3786"
            ],
            [
             0.5555555555555556,
             "#d8576b"
            ],
            [
             0.6666666666666666,
             "#ed7953"
            ],
            [
             0.7777777777777778,
             "#fb9f3a"
            ],
            [
             0.8888888888888888,
             "#fdca26"
            ],
            [
             1,
             "#f0f921"
            ]
           ]
          },
          "colorway": [
           "#636efa",
           "#EF553B",
           "#00cc96",
           "#ab63fa",
           "#FFA15A",
           "#19d3f3",
           "#FF6692",
           "#B6E880",
           "#FF97FF",
           "#FECB52"
          ],
          "font": {
           "color": "#2a3f5f"
          },
          "geo": {
           "bgcolor": "white",
           "lakecolor": "white",
           "landcolor": "#E5ECF6",
           "showlakes": true,
           "showland": true,
           "subunitcolor": "white"
          },
          "hoverlabel": {
           "align": "left"
          },
          "hovermode": "closest",
          "mapbox": {
           "style": "light"
          },
          "paper_bgcolor": "white",
          "plot_bgcolor": "#E5ECF6",
          "polar": {
           "angularaxis": {
            "gridcolor": "white",
            "linecolor": "white",
            "ticks": ""
           },
           "bgcolor": "#E5ECF6",
           "radialaxis": {
            "gridcolor": "white",
            "linecolor": "white",
            "ticks": ""
           }
          },
          "scene": {
           "xaxis": {
            "backgroundcolor": "#E5ECF6",
            "gridcolor": "white",
            "gridwidth": 2,
            "linecolor": "white",
            "showbackground": true,
            "ticks": "",
            "zerolinecolor": "white"
           },
           "yaxis": {
            "backgroundcolor": "#E5ECF6",
            "gridcolor": "white",
            "gridwidth": 2,
            "linecolor": "white",
            "showbackground": true,
            "ticks": "",
            "zerolinecolor": "white"
           },
           "zaxis": {
            "backgroundcolor": "#E5ECF6",
            "gridcolor": "white",
            "gridwidth": 2,
            "linecolor": "white",
            "showbackground": true,
            "ticks": "",
            "zerolinecolor": "white"
           }
          },
          "shapedefaults": {
           "line": {
            "color": "#2a3f5f"
           }
          },
          "ternary": {
           "aaxis": {
            "gridcolor": "white",
            "linecolor": "white",
            "ticks": ""
           },
           "baxis": {
            "gridcolor": "white",
            "linecolor": "white",
            "ticks": ""
           },
           "bgcolor": "#E5ECF6",
           "caxis": {
            "gridcolor": "white",
            "linecolor": "white",
            "ticks": ""
           }
          },
          "title": {
           "x": 0.05
          },
          "xaxis": {
           "automargin": true,
           "gridcolor": "white",
           "linecolor": "white",
           "ticks": "",
           "title": {
            "standoff": 15
           },
           "zerolinecolor": "white",
           "zerolinewidth": 2
          },
          "yaxis": {
           "automargin": true,
           "gridcolor": "white",
           "linecolor": "white",
           "ticks": "",
           "title": {
            "standoff": 15
           },
           "zerolinecolor": "white",
           "zerolinewidth": 2
          }
         }
        },
        "title": {
         "font": {
          "color": "#4D5663"
         }
        },
        "xaxis": {
         "gridcolor": "#E1E5ED",
         "showgrid": true,
         "tickfont": {
          "color": "#4D5663"
         },
         "title": {
          "font": {
           "color": "#4D5663"
          },
          "text": ""
         },
         "zerolinecolor": "#E1E5ED"
        },
        "xaxis2": {
         "anchor": "y2",
         "gridcolor": "#E1E5ED",
         "showgrid": true,
         "showticklabels": false,
         "tickfont": {
          "color": "#4D5663"
         },
         "title": {
          "font": {
           "color": "#4D5663"
          },
          "text": ""
         },
         "zerolinecolor": "#E1E5ED"
        },
        "yaxis": {
         "domain": [
          0.3,
          1
         ],
         "gridcolor": "#E1E5ED",
         "showgrid": true,
         "tickfont": {
          "color": "#4D5663"
         },
         "title": {
          "font": {
           "color": "#4D5663"
          },
          "text": ""
         },
         "zerolinecolor": "#E1E5ED"
        },
        "yaxis2": {
         "domain": [
          0,
          0.25
         ],
         "gridcolor": "#E1E5ED",
         "showgrid": true,
         "tickfont": {
          "color": "#4D5663"
         },
         "title": {
          "font": {
           "color": "#4D5663"
          },
          "text": "Spread"
         },
         "zerolinecolor": "#E1E5ED"
        }
       }
      },
      "text/html": [
       "<div>\n",
       "        \n",
       "        \n",
       "            <div id=\"c8ee073c-282b-482b-9465-c8e2ecdbdfa0\" class=\"plotly-graph-div\" style=\"height:525px; width:100%;\"></div>\n",
       "            <script type=\"text/javascript\">\n",
       "                require([\"plotly\"], function(Plotly) {\n",
       "                    window.PLOTLYENV=window.PLOTLYENV || {};\n",
       "                    window.PLOTLYENV.BASE_URL='https://plot.ly';\n",
       "                    \n",
       "                if (document.getElementById(\"c8ee073c-282b-482b-9465-c8e2ecdbdfa0\")) {\n",
       "                    Plotly.newPlot(\n",
       "                        'c8ee073c-282b-482b-9465-c8e2ecdbdfa0',\n",
       "                        [{\"line\": {\"color\": \"rgba(255, 153, 51, 1.0)\", \"dash\": \"solid\", \"shape\": \"linear\", \"width\": 1.3}, \"mode\": \"lines\", \"name\": \"A\", \"text\": \"\", \"type\": \"scatter\", \"x\": [0, 1, 2, 3, 4, 5, 6, 7, 8, 9, 10, 11, 12, 13, 14, 15, 16, 17, 18, 19, 20, 21, 22, 23, 24, 25, 26, 27, 28, 29, 30, 31, 32, 33, 34, 35, 36, 37, 38, 39, 40, 41, 42, 43, 44, 45, 46, 47, 48, 49, 50, 51, 52, 53, 54, 55, 56, 57, 58, 59, 60, 61, 62, 63, 64, 65, 66, 67, 68, 69, 70, 71, 72, 73, 74, 75, 76, 77, 78, 79, 80, 81, 82, 83, 84, 85, 86, 87, 88, 89, 90, 91, 92, 93, 94, 95, 96, 97, 98, 99], \"y\": [-0.47994138356102345, 0.16000001454505774, 1.2996849606416845, -0.3459934331228707, 1.0368948135116955, 0.07946965327892691, 0.02947178831828827, -0.26772555546117177, -2.0314116116032723, -0.7776726685287725, -0.6632265573499633, 0.040338171293861545, 0.03099329497456494, 1.30667900546974, -0.037687242533143366, 0.73556867266476, 0.1957228240044999, -1.0482986804628374, 1.0503916976168206, 0.3384999073480586, -0.14838682865663155, -1.849858632992489, -1.1910865283155898, 1.5553865160982832, 0.986449102796202, 0.07626968937010195, -0.7144282219471334, -1.95459396507943, 0.5166017932497404, -0.1272350411517917, 0.3651824330336992, 0.629568772242452, 0.2238905949170703, -0.4080627997126574, 0.2459532769412293, -1.4375822191198364, 1.1953127234968812, 0.20642350123956282, -0.6118149783961775, -0.3516522754108534, 0.3864587743634232, 0.5578874059130349, -1.2239437975712937, -0.5751253948097974, -0.8161879128352467, 0.728310144983823, 1.0285518125814623, -0.061080867479822096, 0.5456049906240891, 1.6757326714528262, 1.1259534774275948, 2.1679146833244065, 0.3627705444531118, -0.2007163005561877, 1.5857603106850822, -0.14387374650148002, 0.6711681353081573, -2.077686313631864, -0.8339634788937905, -1.5147815926076582, -0.2426824940955602, -0.05900561048931461, -0.5015572453005709, -1.02382765079118, 0.6594628547687229, -0.23529898779933406, 0.989301732841858, 1.0913142676056113, 0.9047811195866384, 2.171823959268939, 0.8660901043897223, -1.009123777500051, -1.2739552439273125, -0.8003558594463309, -0.7227937984759449, -0.4548814893006097, -1.2973334617697536, -0.40436366793090245, -0.5467723352316892, 1.3324985767546997, -0.3000650152937515, -2.4463874579688456, 0.5366264052442478, 0.8394154584497169, -0.47075436156584355, 0.46846103114383303, 1.7485010794299531, -1.3189454373300313, -0.29883060294564007, 0.09313380405100766, 1.2964129012060845, 1.6132918404264132, -0.11654004163312816, -0.3113907853250452, 0.03577164272941658, -0.22212739215972332, 0.19790220317768603, 0.23463768157652232, -0.3274922195966929, -0.3594549556767431]}, {\"line\": {\"color\": \"rgba(55, 128, 191, 1.0)\", \"dash\": \"solid\", \"shape\": \"linear\", \"width\": 1.3}, \"mode\": \"lines\", \"name\": \"B\", \"text\": \"\", \"type\": \"scatter\", \"x\": [0, 1, 2, 3, 4, 5, 6, 7, 8, 9, 10, 11, 12, 13, 14, 15, 16, 17, 18, 19, 20, 21, 22, 23, 24, 25, 26, 27, 28, 29, 30, 31, 32, 33, 34, 35, 36, 37, 38, 39, 40, 41, 42, 43, 44, 45, 46, 47, 48, 49, 50, 51, 52, 53, 54, 55, 56, 57, 58, 59, 60, 61, 62, 63, 64, 65, 66, 67, 68, 69, 70, 71, 72, 73, 74, 75, 76, 77, 78, 79, 80, 81, 82, 83, 84, 85, 86, 87, 88, 89, 90, 91, 92, 93, 94, 95, 96, 97, 98, 99], \"y\": [-0.6750720095040574, -0.6236632378538945, 0.31648115090713874, 0.006625469958763555, 1.0701445375157368, -1.489988600379836, 0.7894479972844892, 0.9173170404148899, -0.03236558870315396, 0.531828866922249, 0.5886330258336944, -1.167976713880715, -0.7162100002669591, -0.5414831307678194, 0.7840457615721561, -0.46930537859098814, -0.7892004007784026, 0.15190499519329212, -0.13488847109679594, 0.9560305771827087, 0.9836328201693666, 1.113069160455684, 0.3815657149703171, 1.3561175238140253, -1.0417651856920722, 0.6451841844568005, -0.4828578505139144, 1.5246445699148836, 0.06537554774633204, 0.04931160611207707, 1.9347732812598075, -0.8061165056880444, 1.0744399572724777, -0.38326628912131316, -1.7407112541746834, -1.1789405193606934, -1.4075963840229924, -0.40096512182303085, 0.3220761194308544, -0.9234853236877474, -2.0334595526466446, 0.7776897486339085, -0.9807388724402262, 0.6367945434202201, 1.2749049396021885, 1.5095220335919506, -1.0861773553362357, 0.2928360719752721, -1.0635379361026216, 0.5682472797409951, -0.9001092545463106, -0.40166002883131624, 0.15203268993711191, 0.5507806044416774, -0.406142216960143, -1.217479641294983, 0.6917269041894943, -0.911829853729197, -1.4102896333460009, -1.1411785121505986, -0.08111764128140288, -1.2905700010948244, 0.15246509174095685, 0.5514074713986842, -0.5748023680027282, -0.17533905191623023, 0.2750882818594264, -0.06060424378975698, 0.48929733464317215, -0.8521185592816384, 0.14843460207767809, 0.36699416075794683, -0.1763066172519723, 0.6767034425170794, -1.0558797509891396, -1.2618686077621954, -0.7013920682499339, -1.1536332965995175, -1.0458008683090156, -1.1845502086936621, -1.6179944848535541, 0.027753117132022737, -0.03597787859543119, -0.6109525033400434, -0.006659128206266237, -1.9053029934010377, -0.1979953952563941, -1.970715611393755, -0.02374897918555784, 0.014002628836400495, 0.9021962904211355, -0.2186002004460576, 0.282987591536079, -0.4104780901919894, -0.29636306422899106, -1.0720115422654701, 1.4663762784345675, 0.518632479089715, 0.643572733575315, -0.5238831432693754]}, {\"connectgaps\": false, \"fill\": \"tozeroy\", \"line\": {\"color\": \"green\", \"dash\": \"solid\", \"shape\": \"linear\", \"width\": 0.5}, \"mode\": \"lines\", \"name\": \"Spread\", \"showlegend\": false, \"type\": \"scatter\", \"x\": [0, 1, 2, 3, 4, 5, 6, 7, 8, 9, 10, 11, 12, 13, 14, 15, 16, 17, 18, 19, 20, 21, 22, 23, 24, 25, 26, 27, 28, 29, 30, 31, 32, 33, 34, 35, 36, 37, 38, 39, 40, 41, 42, 43, 44, 45, 46, 47, 48, 49, 50, 51, 52, 53, 54, 55, 56, 57, 58, 59, 60, 61, 62, 63, 64, 65, 66, 67, 68, 69, 70, 71, 72, 73, 74, 75, 76, 77, 78, 79, 80, 81, 82, 83, 84, 85, 86, 87, 88, 89, 90, 91, 92, 93, 94, 95, 96, 97, 98, 99], \"xaxis\": \"x2\", \"y\": [0.195130625943034, 0.7836632523989523, 0.9832038097345457, \"\", \"\", 1.569458253658763, \"\", \"\", \"\", \"\", \"\", 1.2083148851745764, 0.7472032952415241, 1.8481621362375593, \"\", 1.204874051255748, 0.9849232247829025, \"\", 1.1852801687136165, \"\", \"\", \"\", \"\", 0.19926899228425787, 2.0282142884882743, \"\", \"\", \"\", 0.4512262455034084, \"\", \"\", 1.4356852779304963, \"\", \"\", 1.9866645311159128, \"\", 2.6029091075198734, 0.6073886230625937, \"\", 0.571833048276894, 2.419918327010068, \"\", \"\", \"\", \"\", \"\", 2.114729167917698, \"\", 1.6091429267267108, 1.107485391711831, 2.0260627319739055, 2.5695747121557226, 0.21073785451599988, \"\", 1.9919025276452251, 1.073605894793503, \"\", \"\", 0.5763261544522104, \"\", \"\", 1.2315643906055098, \"\", \"\", 1.2342652227714512, \"\", 0.7142134509824316, 1.1519185113953683, 0.41548378494346627, 3.023942518550577, 0.7176555023120442, \"\", \"\", \"\", 0.3330859525131946, 0.8069871184615858, \"\", 0.7492696286686151, 0.4990285330773264, 2.517048785448362, 1.3179294695598025, \"\", 0.572604283839679, 1.4503679617897602, \"\", 2.3737640245448706, 1.9464964746863473, 0.6517701740637236, \"\", 0.07913117521460716, 0.3942166107849491, 1.8318920408724708, \"\", 0.09908730486694417, 0.33213470695840763, 0.8498841501057468, \"\", \"\", \"\", 0.16442818759263222], \"yaxis\": \"y2\"}, {\"connectgaps\": false, \"fill\": \"tozeroy\", \"line\": {\"color\": \"red\", \"dash\": \"solid\", \"shape\": \"linear\", \"width\": 0.5}, \"mode\": \"lines\", \"name\": \"Spread\", \"showlegend\": false, \"type\": \"scatter\", \"x\": [0, 1, 2, 3, 4, 5, 6, 7, 8, 9, 10, 11, 12, 13, 14, 15, 16, 17, 18, 19, 20, 21, 22, 23, 24, 25, 26, 27, 28, 29, 30, 31, 32, 33, 34, 35, 36, 37, 38, 39, 40, 41, 42, 43, 44, 45, 46, 47, 48, 49, 50, 51, 52, 53, 54, 55, 56, 57, 58, 59, 60, 61, 62, 63, 64, 65, 66, 67, 68, 69, 70, 71, 72, 73, 74, 75, 76, 77, 78, 79, 80, 81, 82, 83, 84, 85, 86, 87, 88, 89, 90, 91, 92, 93, 94, 95, 96, 97, 98, 99], \"xaxis\": \"x2\", \"y\": [\"\", \"\", \"\", -0.35261890308163424, -0.03324972400404125, \"\", -0.759976208966201, -1.1850425958760618, -1.9990460229001183, -1.3095015354510213, -1.2518595831836576, \"\", \"\", \"\", -0.8217330041052995, \"\", \"\", -1.2002036756561294, \"\", -0.6175306698346501, -1.1320196488259981, -2.962927793448173, -1.572652243285907, \"\", \"\", -0.5689144950866986, -0.231570371433219, -3.4792385349943133, \"\", -0.1765466472638688, -1.5695908482261083, \"\", -0.8505493623554073, -0.024796510591344245, \"\", -0.258641699759143, \"\", \"\", -0.9338910978270318, \"\", \"\", -0.21980234272087362, -0.2432049251310675, -1.2119199382300176, -2.091092852437435, -0.7812118886081276, \"\", -0.3539169394550942, \"\", \"\", \"\", \"\", \"\", -0.7514969049978651, \"\", \"\", -0.02055876888133701, -1.1658564599026668, \"\", -0.3736030804570596, -0.16156485281415733, \"\", -0.6540223370415277, -1.5752351221898642, \"\", -0.05995993588310383, \"\", \"\", \"\", \"\", \"\", -1.3761179382579978, -1.0976486266753402, -1.4770593019634104, \"\", \"\", -0.5959413935198197, \"\", \"\", \"\", \"\", -2.4741405751008685, \"\", \"\", -0.4640952333595773, \"\", \"\", \"\", -0.2750816237600822, \"\", \"\", \"\", -0.39952763316920714, \"\", \"\", \"\", -1.2684740752568815, -0.2839947975131927, -0.9710649531720079, \"\"], \"yaxis\": \"y2\"}],\n",
       "                        {\"hovermode\": \"x\", \"legend\": {\"bgcolor\": \"#F5F6F9\", \"font\": {\"color\": \"#4D5663\"}}, \"paper_bgcolor\": \"#F5F6F9\", \"plot_bgcolor\": \"#F5F6F9\", \"template\": {\"data\": {\"bar\": [{\"error_x\": {\"color\": \"#2a3f5f\"}, \"error_y\": {\"color\": \"#2a3f5f\"}, \"marker\": {\"line\": {\"color\": \"#E5ECF6\", \"width\": 0.5}}, \"type\": \"bar\"}], \"barpolar\": [{\"marker\": {\"line\": {\"color\": \"#E5ECF6\", \"width\": 0.5}}, \"type\": \"barpolar\"}], \"carpet\": [{\"aaxis\": {\"endlinecolor\": \"#2a3f5f\", \"gridcolor\": \"white\", \"linecolor\": \"white\", \"minorgridcolor\": \"white\", \"startlinecolor\": \"#2a3f5f\"}, \"baxis\": {\"endlinecolor\": \"#2a3f5f\", \"gridcolor\": \"white\", \"linecolor\": \"white\", \"minorgridcolor\": \"white\", \"startlinecolor\": \"#2a3f5f\"}, \"type\": \"carpet\"}], \"choropleth\": [{\"colorbar\": {\"outlinewidth\": 0, \"ticks\": \"\"}, \"type\": \"choropleth\"}], \"contour\": [{\"colorbar\": {\"outlinewidth\": 0, \"ticks\": \"\"}, \"colorscale\": [[0.0, \"#0d0887\"], [0.1111111111111111, \"#46039f\"], [0.2222222222222222, \"#7201a8\"], [0.3333333333333333, \"#9c179e\"], [0.4444444444444444, \"#bd3786\"], [0.5555555555555556, \"#d8576b\"], [0.6666666666666666, \"#ed7953\"], [0.7777777777777778, \"#fb9f3a\"], [0.8888888888888888, \"#fdca26\"], [1.0, \"#f0f921\"]], \"type\": \"contour\"}], \"contourcarpet\": [{\"colorbar\": {\"outlinewidth\": 0, \"ticks\": \"\"}, \"type\": \"contourcarpet\"}], \"heatmap\": [{\"colorbar\": {\"outlinewidth\": 0, \"ticks\": \"\"}, \"colorscale\": [[0.0, \"#0d0887\"], [0.1111111111111111, \"#46039f\"], [0.2222222222222222, \"#7201a8\"], [0.3333333333333333, \"#9c179e\"], [0.4444444444444444, \"#bd3786\"], [0.5555555555555556, \"#d8576b\"], [0.6666666666666666, \"#ed7953\"], [0.7777777777777778, \"#fb9f3a\"], [0.8888888888888888, \"#fdca26\"], [1.0, \"#f0f921\"]], \"type\": \"heatmap\"}], \"heatmapgl\": [{\"colorbar\": {\"outlinewidth\": 0, \"ticks\": \"\"}, \"colorscale\": [[0.0, \"#0d0887\"], [0.1111111111111111, \"#46039f\"], [0.2222222222222222, \"#7201a8\"], [0.3333333333333333, \"#9c179e\"], [0.4444444444444444, \"#bd3786\"], [0.5555555555555556, \"#d8576b\"], [0.6666666666666666, \"#ed7953\"], [0.7777777777777778, \"#fb9f3a\"], [0.8888888888888888, \"#fdca26\"], [1.0, \"#f0f921\"]], \"type\": \"heatmapgl\"}], \"histogram\": [{\"marker\": {\"colorbar\": {\"outlinewidth\": 0, \"ticks\": \"\"}}, \"type\": \"histogram\"}], \"histogram2d\": [{\"colorbar\": {\"outlinewidth\": 0, \"ticks\": \"\"}, \"colorscale\": [[0.0, \"#0d0887\"], [0.1111111111111111, \"#46039f\"], [0.2222222222222222, \"#7201a8\"], [0.3333333333333333, \"#9c179e\"], [0.4444444444444444, \"#bd3786\"], [0.5555555555555556, \"#d8576b\"], [0.6666666666666666, \"#ed7953\"], [0.7777777777777778, \"#fb9f3a\"], [0.8888888888888888, \"#fdca26\"], [1.0, \"#f0f921\"]], \"type\": \"histogram2d\"}], \"histogram2dcontour\": [{\"colorbar\": {\"outlinewidth\": 0, \"ticks\": \"\"}, \"colorscale\": [[0.0, \"#0d0887\"], [0.1111111111111111, \"#46039f\"], [0.2222222222222222, \"#7201a8\"], [0.3333333333333333, \"#9c179e\"], [0.4444444444444444, \"#bd3786\"], [0.5555555555555556, \"#d8576b\"], [0.6666666666666666, \"#ed7953\"], [0.7777777777777778, \"#fb9f3a\"], [0.8888888888888888, \"#fdca26\"], [1.0, \"#f0f921\"]], \"type\": \"histogram2dcontour\"}], \"mesh3d\": [{\"colorbar\": {\"outlinewidth\": 0, \"ticks\": \"\"}, \"type\": \"mesh3d\"}], \"parcoords\": [{\"line\": {\"colorbar\": {\"outlinewidth\": 0, \"ticks\": \"\"}}, \"type\": \"parcoords\"}], \"pie\": [{\"automargin\": true, \"type\": \"pie\"}], \"scatter\": [{\"marker\": {\"colorbar\": {\"outlinewidth\": 0, \"ticks\": \"\"}}, \"type\": \"scatter\"}], \"scatter3d\": [{\"line\": {\"colorbar\": {\"outlinewidth\": 0, \"ticks\": \"\"}}, \"marker\": {\"colorbar\": {\"outlinewidth\": 0, \"ticks\": \"\"}}, \"type\": \"scatter3d\"}], \"scattercarpet\": [{\"marker\": {\"colorbar\": {\"outlinewidth\": 0, \"ticks\": \"\"}}, \"type\": \"scattercarpet\"}], \"scattergeo\": [{\"marker\": {\"colorbar\": {\"outlinewidth\": 0, \"ticks\": \"\"}}, \"type\": \"scattergeo\"}], \"scattergl\": [{\"marker\": {\"colorbar\": {\"outlinewidth\": 0, \"ticks\": \"\"}}, \"type\": \"scattergl\"}], \"scattermapbox\": [{\"marker\": {\"colorbar\": {\"outlinewidth\": 0, \"ticks\": \"\"}}, \"type\": \"scattermapbox\"}], \"scatterpolar\": [{\"marker\": {\"colorbar\": {\"outlinewidth\": 0, \"ticks\": \"\"}}, \"type\": \"scatterpolar\"}], \"scatterpolargl\": [{\"marker\": {\"colorbar\": {\"outlinewidth\": 0, \"ticks\": \"\"}}, \"type\": \"scatterpolargl\"}], \"scatterternary\": [{\"marker\": {\"colorbar\": {\"outlinewidth\": 0, \"ticks\": \"\"}}, \"type\": \"scatterternary\"}], \"surface\": [{\"colorbar\": {\"outlinewidth\": 0, \"ticks\": \"\"}, \"colorscale\": [[0.0, \"#0d0887\"], [0.1111111111111111, \"#46039f\"], [0.2222222222222222, \"#7201a8\"], [0.3333333333333333, \"#9c179e\"], [0.4444444444444444, \"#bd3786\"], [0.5555555555555556, \"#d8576b\"], [0.6666666666666666, \"#ed7953\"], [0.7777777777777778, \"#fb9f3a\"], [0.8888888888888888, \"#fdca26\"], [1.0, \"#f0f921\"]], \"type\": \"surface\"}], \"table\": [{\"cells\": {\"fill\": {\"color\": \"#EBF0F8\"}, \"line\": {\"color\": \"white\"}}, \"header\": {\"fill\": {\"color\": \"#C8D4E3\"}, \"line\": {\"color\": \"white\"}}, \"type\": \"table\"}]}, \"layout\": {\"annotationdefaults\": {\"arrowcolor\": \"#2a3f5f\", \"arrowhead\": 0, \"arrowwidth\": 1}, \"coloraxis\": {\"colorbar\": {\"outlinewidth\": 0, \"ticks\": \"\"}}, \"colorscale\": {\"diverging\": [[0, \"#8e0152\"], [0.1, \"#c51b7d\"], [0.2, \"#de77ae\"], [0.3, \"#f1b6da\"], [0.4, \"#fde0ef\"], [0.5, \"#f7f7f7\"], [0.6, \"#e6f5d0\"], [0.7, \"#b8e186\"], [0.8, \"#7fbc41\"], [0.9, \"#4d9221\"], [1, \"#276419\"]], \"sequential\": [[0.0, \"#0d0887\"], [0.1111111111111111, \"#46039f\"], [0.2222222222222222, \"#7201a8\"], [0.3333333333333333, \"#9c179e\"], [0.4444444444444444, \"#bd3786\"], [0.5555555555555556, \"#d8576b\"], [0.6666666666666666, \"#ed7953\"], [0.7777777777777778, \"#fb9f3a\"], [0.8888888888888888, \"#fdca26\"], [1.0, \"#f0f921\"]], \"sequentialminus\": [[0.0, \"#0d0887\"], [0.1111111111111111, \"#46039f\"], [0.2222222222222222, \"#7201a8\"], [0.3333333333333333, \"#9c179e\"], [0.4444444444444444, \"#bd3786\"], [0.5555555555555556, \"#d8576b\"], [0.6666666666666666, \"#ed7953\"], [0.7777777777777778, \"#fb9f3a\"], [0.8888888888888888, \"#fdca26\"], [1.0, \"#f0f921\"]]}, \"colorway\": [\"#636efa\", \"#EF553B\", \"#00cc96\", \"#ab63fa\", \"#FFA15A\", \"#19d3f3\", \"#FF6692\", \"#B6E880\", \"#FF97FF\", \"#FECB52\"], \"font\": {\"color\": \"#2a3f5f\"}, \"geo\": {\"bgcolor\": \"white\", \"lakecolor\": \"white\", \"landcolor\": \"#E5ECF6\", \"showlakes\": true, \"showland\": true, \"subunitcolor\": \"white\"}, \"hoverlabel\": {\"align\": \"left\"}, \"hovermode\": \"closest\", \"mapbox\": {\"style\": \"light\"}, \"paper_bgcolor\": \"white\", \"plot_bgcolor\": \"#E5ECF6\", \"polar\": {\"angularaxis\": {\"gridcolor\": \"white\", \"linecolor\": \"white\", \"ticks\": \"\"}, \"bgcolor\": \"#E5ECF6\", \"radialaxis\": {\"gridcolor\": \"white\", \"linecolor\": \"white\", \"ticks\": \"\"}}, \"scene\": {\"xaxis\": {\"backgroundcolor\": \"#E5ECF6\", \"gridcolor\": \"white\", \"gridwidth\": 2, \"linecolor\": \"white\", \"showbackground\": true, \"ticks\": \"\", \"zerolinecolor\": \"white\"}, \"yaxis\": {\"backgroundcolor\": \"#E5ECF6\", \"gridcolor\": \"white\", \"gridwidth\": 2, \"linecolor\": \"white\", \"showbackground\": true, \"ticks\": \"\", \"zerolinecolor\": \"white\"}, \"zaxis\": {\"backgroundcolor\": \"#E5ECF6\", \"gridcolor\": \"white\", \"gridwidth\": 2, \"linecolor\": \"white\", \"showbackground\": true, \"ticks\": \"\", \"zerolinecolor\": \"white\"}}, \"shapedefaults\": {\"line\": {\"color\": \"#2a3f5f\"}}, \"ternary\": {\"aaxis\": {\"gridcolor\": \"white\", \"linecolor\": \"white\", \"ticks\": \"\"}, \"baxis\": {\"gridcolor\": \"white\", \"linecolor\": \"white\", \"ticks\": \"\"}, \"bgcolor\": \"#E5ECF6\", \"caxis\": {\"gridcolor\": \"white\", \"linecolor\": \"white\", \"ticks\": \"\"}}, \"title\": {\"x\": 0.05}, \"xaxis\": {\"automargin\": true, \"gridcolor\": \"white\", \"linecolor\": \"white\", \"ticks\": \"\", \"title\": {\"standoff\": 15}, \"zerolinecolor\": \"white\", \"zerolinewidth\": 2}, \"yaxis\": {\"automargin\": true, \"gridcolor\": \"white\", \"linecolor\": \"white\", \"ticks\": \"\", \"title\": {\"standoff\": 15}, \"zerolinecolor\": \"white\", \"zerolinewidth\": 2}}}, \"title\": {\"font\": {\"color\": \"#4D5663\"}}, \"xaxis\": {\"gridcolor\": \"#E1E5ED\", \"showgrid\": true, \"tickfont\": {\"color\": \"#4D5663\"}, \"title\": {\"font\": {\"color\": \"#4D5663\"}, \"text\": \"\"}, \"zerolinecolor\": \"#E1E5ED\"}, \"xaxis2\": {\"anchor\": \"y2\", \"gridcolor\": \"#E1E5ED\", \"showgrid\": true, \"showticklabels\": false, \"tickfont\": {\"color\": \"#4D5663\"}, \"title\": {\"font\": {\"color\": \"#4D5663\"}, \"text\": \"\"}, \"zerolinecolor\": \"#E1E5ED\"}, \"yaxis\": {\"domain\": [0.3, 1], \"gridcolor\": \"#E1E5ED\", \"showgrid\": true, \"tickfont\": {\"color\": \"#4D5663\"}, \"title\": {\"font\": {\"color\": \"#4D5663\"}, \"text\": \"\"}, \"zerolinecolor\": \"#E1E5ED\"}, \"yaxis2\": {\"domain\": [0, 0.25], \"gridcolor\": \"#E1E5ED\", \"showgrid\": true, \"tickfont\": {\"color\": \"#4D5663\"}, \"title\": {\"font\": {\"color\": \"#4D5663\"}, \"text\": \"Spread\"}, \"zerolinecolor\": \"#E1E5ED\"}},\n",
       "                        {\"showLink\": true, \"linkText\": \"Export to plot.ly\", \"plotlyServerURL\": \"https://plot.ly\", \"responsive\": true}\n",
       "                    ).then(function(){\n",
       "                            \n",
       "var gd = document.getElementById('c8ee073c-282b-482b-9465-c8e2ecdbdfa0');\n",
       "var x = new MutationObserver(function (mutations, observer) {{\n",
       "        var display = window.getComputedStyle(gd).display;\n",
       "        if (!display || display === 'none') {{\n",
       "            console.log([gd, 'removed!']);\n",
       "            Plotly.purge(gd);\n",
       "            observer.disconnect();\n",
       "        }}\n",
       "}});\n",
       "\n",
       "// Listen for the removal of the full notebook cells\n",
       "var notebookContainer = gd.closest('#notebook-container');\n",
       "if (notebookContainer) {{\n",
       "    x.observe(notebookContainer, {childList: true});\n",
       "}}\n",
       "\n",
       "// Listen for the clearing of the current output cell\n",
       "var outputEl = gd.closest('.output');\n",
       "if (outputEl) {{\n",
       "    x.observe(outputEl, {childList: true});\n",
       "}}\n",
       "\n",
       "                        })\n",
       "                };\n",
       "                });\n",
       "            </script>\n",
       "        </div>"
      ]
     },
     "metadata": {},
     "output_type": "display_data"
    }
   ],
   "source": [
    "df[['A','B']].iplot(kind='spread')"
   ]
  },
  {
   "cell_type": "code",
   "execution_count": 34,
   "metadata": {},
   "outputs": [
    {
     "data": {
      "application/vnd.plotly.v1+json": {
       "config": {
        "linkText": "Export to plot.ly",
        "plotlyServerURL": "https://plot.ly",
        "showLink": true
       },
       "data": [
        {
         "marker": {
          "color": [
           "rgb(255, 153, 51)",
           "rgb(55, 128, 191)",
           "rgb(50, 171, 96)",
           "rgb(128, 0, 128)",
           "rgb(219, 64, 82)",
           "rgb(0, 128, 128)",
           "rgb(255, 255, 51)",
           "rgb(128, 128, 0)",
           "rgb(251, 128, 114)",
           "rgb(128, 177, 211)"
          ],
          "line": {
           "width": 1.3
          },
          "size": [
           43,
           46,
           40,
           37,
           18,
           58,
           53,
           40,
           81,
           52,
           22,
           25,
           27,
           66,
           52,
           46,
           50,
           62,
           53,
           47,
           56,
           77,
           58,
           67,
           73,
           53,
           63,
           71,
           61,
           64,
           57,
           46,
           73,
           79,
           90,
           64,
           40,
           82,
           53,
           49,
           23,
           70,
           40,
           21,
           37,
           16,
           45,
           59,
           85,
           62,
           16,
           56,
           36,
           77,
           55,
           48,
           43,
           49,
           73,
           12,
           105,
           26,
           42,
           50,
           47,
           58,
           86,
           50,
           45,
           45,
           89,
           13,
           56,
           94,
           43,
           51,
           64,
           68,
           71,
           29,
           61,
           32,
           62,
           24,
           42,
           50,
           36,
           57,
           48,
           53,
           64,
           112,
           69,
           26,
           58,
           38,
           29,
           82,
           58,
           62
          ],
          "symbol": "circle"
         },
         "mode": "markers",
         "text": "",
         "type": "scatter",
         "x": [
          -0.47994138356102345,
          0.16000001454505774,
          1.2996849606416845,
          -0.3459934331228707,
          1.0368948135116955,
          0.07946965327892691,
          0.02947178831828827,
          -0.26772555546117177,
          -2.0314116116032723,
          -0.7776726685287725,
          -0.6632265573499633,
          0.040338171293861545,
          0.03099329497456494,
          1.30667900546974,
          -0.037687242533143366,
          0.73556867266476,
          0.1957228240044999,
          -1.0482986804628374,
          1.0503916976168206,
          0.3384999073480586,
          -0.14838682865663155,
          -1.849858632992489,
          -1.1910865283155898,
          1.5553865160982832,
          0.986449102796202,
          0.07626968937010195,
          -0.7144282219471334,
          -1.95459396507943,
          0.5166017932497404,
          -0.1272350411517917,
          0.3651824330336992,
          0.629568772242452,
          0.2238905949170703,
          -0.4080627997126574,
          0.2459532769412293,
          -1.4375822191198364,
          1.1953127234968812,
          0.20642350123956282,
          -0.6118149783961775,
          -0.3516522754108534,
          0.3864587743634232,
          0.5578874059130349,
          -1.2239437975712937,
          -0.5751253948097974,
          -0.8161879128352467,
          0.728310144983823,
          1.0285518125814623,
          -0.061080867479822096,
          0.5456049906240891,
          1.6757326714528262,
          1.1259534774275948,
          2.1679146833244065,
          0.3627705444531118,
          -0.2007163005561877,
          1.5857603106850822,
          -0.14387374650148002,
          0.6711681353081573,
          -2.077686313631864,
          -0.8339634788937905,
          -1.5147815926076582,
          -0.2426824940955602,
          -0.05900561048931461,
          -0.5015572453005709,
          -1.02382765079118,
          0.6594628547687229,
          -0.23529898779933406,
          0.989301732841858,
          1.0913142676056113,
          0.9047811195866384,
          2.171823959268939,
          0.8660901043897223,
          -1.009123777500051,
          -1.2739552439273125,
          -0.8003558594463309,
          -0.7227937984759449,
          -0.4548814893006097,
          -1.2973334617697536,
          -0.40436366793090245,
          -0.5467723352316892,
          1.3324985767546997,
          -0.3000650152937515,
          -2.4463874579688456,
          0.5366264052442478,
          0.8394154584497169,
          -0.47075436156584355,
          0.46846103114383303,
          1.7485010794299531,
          -1.3189454373300313,
          -0.29883060294564007,
          0.09313380405100766,
          1.2964129012060845,
          1.6132918404264132,
          -0.11654004163312816,
          -0.3113907853250452,
          0.03577164272941658,
          -0.22212739215972332,
          0.19790220317768603,
          0.23463768157652232,
          -0.3274922195966929,
          -0.3594549556767431
         ],
         "y": [
          -0.6750720095040574,
          -0.6236632378538945,
          0.31648115090713874,
          0.006625469958763555,
          1.0701445375157368,
          -1.489988600379836,
          0.7894479972844892,
          0.9173170404148899,
          -0.03236558870315396,
          0.531828866922249,
          0.5886330258336944,
          -1.167976713880715,
          -0.7162100002669591,
          -0.5414831307678194,
          0.7840457615721561,
          -0.46930537859098814,
          -0.7892004007784026,
          0.15190499519329212,
          -0.13488847109679594,
          0.9560305771827087,
          0.9836328201693666,
          1.113069160455684,
          0.3815657149703171,
          1.3561175238140253,
          -1.0417651856920722,
          0.6451841844568005,
          -0.4828578505139144,
          1.5246445699148836,
          0.06537554774633204,
          0.04931160611207707,
          1.9347732812598075,
          -0.8061165056880444,
          1.0744399572724777,
          -0.38326628912131316,
          -1.7407112541746834,
          -1.1789405193606934,
          -1.4075963840229924,
          -0.40096512182303085,
          0.3220761194308544,
          -0.9234853236877474,
          -2.0334595526466446,
          0.7776897486339085,
          -0.9807388724402262,
          0.6367945434202201,
          1.2749049396021885,
          1.5095220335919506,
          -1.0861773553362357,
          0.2928360719752721,
          -1.0635379361026216,
          0.5682472797409951,
          -0.9001092545463106,
          -0.40166002883131624,
          0.15203268993711191,
          0.5507806044416774,
          -0.406142216960143,
          -1.217479641294983,
          0.6917269041894943,
          -0.911829853729197,
          -1.4102896333460009,
          -1.1411785121505986,
          -0.08111764128140288,
          -1.2905700010948244,
          0.15246509174095685,
          0.5514074713986842,
          -0.5748023680027282,
          -0.17533905191623023,
          0.2750882818594264,
          -0.06060424378975698,
          0.48929733464317215,
          -0.8521185592816384,
          0.14843460207767809,
          0.36699416075794683,
          -0.1763066172519723,
          0.6767034425170794,
          -1.0558797509891396,
          -1.2618686077621954,
          -0.7013920682499339,
          -1.1536332965995175,
          -1.0458008683090156,
          -1.1845502086936621,
          -1.6179944848535541,
          0.027753117132022737,
          -0.03597787859543119,
          -0.6109525033400434,
          -0.006659128206266237,
          -1.9053029934010377,
          -0.1979953952563941,
          -1.970715611393755,
          -0.02374897918555784,
          0.014002628836400495,
          0.9021962904211355,
          -0.2186002004460576,
          0.282987591536079,
          -0.4104780901919894,
          -0.29636306422899106,
          -1.0720115422654701,
          1.4663762784345675,
          0.518632479089715,
          0.643572733575315,
          -0.5238831432693754
         ]
        }
       ],
       "layout": {
        "legend": {
         "bgcolor": "#F5F6F9",
         "font": {
          "color": "#4D5663"
         }
        },
        "paper_bgcolor": "#F5F6F9",
        "plot_bgcolor": "#F5F6F9",
        "template": {
         "data": {
          "bar": [
           {
            "error_x": {
             "color": "#2a3f5f"
            },
            "error_y": {
             "color": "#2a3f5f"
            },
            "marker": {
             "line": {
              "color": "#E5ECF6",
              "width": 0.5
             }
            },
            "type": "bar"
           }
          ],
          "barpolar": [
           {
            "marker": {
             "line": {
              "color": "#E5ECF6",
              "width": 0.5
             }
            },
            "type": "barpolar"
           }
          ],
          "carpet": [
           {
            "aaxis": {
             "endlinecolor": "#2a3f5f",
             "gridcolor": "white",
             "linecolor": "white",
             "minorgridcolor": "white",
             "startlinecolor": "#2a3f5f"
            },
            "baxis": {
             "endlinecolor": "#2a3f5f",
             "gridcolor": "white",
             "linecolor": "white",
             "minorgridcolor": "white",
             "startlinecolor": "#2a3f5f"
            },
            "type": "carpet"
           }
          ],
          "choropleth": [
           {
            "colorbar": {
             "outlinewidth": 0,
             "ticks": ""
            },
            "type": "choropleth"
           }
          ],
          "contour": [
           {
            "colorbar": {
             "outlinewidth": 0,
             "ticks": ""
            },
            "colorscale": [
             [
              0,
              "#0d0887"
             ],
             [
              0.1111111111111111,
              "#46039f"
             ],
             [
              0.2222222222222222,
              "#7201a8"
             ],
             [
              0.3333333333333333,
              "#9c179e"
             ],
             [
              0.4444444444444444,
              "#bd3786"
             ],
             [
              0.5555555555555556,
              "#d8576b"
             ],
             [
              0.6666666666666666,
              "#ed7953"
             ],
             [
              0.7777777777777778,
              "#fb9f3a"
             ],
             [
              0.8888888888888888,
              "#fdca26"
             ],
             [
              1,
              "#f0f921"
             ]
            ],
            "type": "contour"
           }
          ],
          "contourcarpet": [
           {
            "colorbar": {
             "outlinewidth": 0,
             "ticks": ""
            },
            "type": "contourcarpet"
           }
          ],
          "heatmap": [
           {
            "colorbar": {
             "outlinewidth": 0,
             "ticks": ""
            },
            "colorscale": [
             [
              0,
              "#0d0887"
             ],
             [
              0.1111111111111111,
              "#46039f"
             ],
             [
              0.2222222222222222,
              "#7201a8"
             ],
             [
              0.3333333333333333,
              "#9c179e"
             ],
             [
              0.4444444444444444,
              "#bd3786"
             ],
             [
              0.5555555555555556,
              "#d8576b"
             ],
             [
              0.6666666666666666,
              "#ed7953"
             ],
             [
              0.7777777777777778,
              "#fb9f3a"
             ],
             [
              0.8888888888888888,
              "#fdca26"
             ],
             [
              1,
              "#f0f921"
             ]
            ],
            "type": "heatmap"
           }
          ],
          "heatmapgl": [
           {
            "colorbar": {
             "outlinewidth": 0,
             "ticks": ""
            },
            "colorscale": [
             [
              0,
              "#0d0887"
             ],
             [
              0.1111111111111111,
              "#46039f"
             ],
             [
              0.2222222222222222,
              "#7201a8"
             ],
             [
              0.3333333333333333,
              "#9c179e"
             ],
             [
              0.4444444444444444,
              "#bd3786"
             ],
             [
              0.5555555555555556,
              "#d8576b"
             ],
             [
              0.6666666666666666,
              "#ed7953"
             ],
             [
              0.7777777777777778,
              "#fb9f3a"
             ],
             [
              0.8888888888888888,
              "#fdca26"
             ],
             [
              1,
              "#f0f921"
             ]
            ],
            "type": "heatmapgl"
           }
          ],
          "histogram": [
           {
            "marker": {
             "colorbar": {
              "outlinewidth": 0,
              "ticks": ""
             }
            },
            "type": "histogram"
           }
          ],
          "histogram2d": [
           {
            "colorbar": {
             "outlinewidth": 0,
             "ticks": ""
            },
            "colorscale": [
             [
              0,
              "#0d0887"
             ],
             [
              0.1111111111111111,
              "#46039f"
             ],
             [
              0.2222222222222222,
              "#7201a8"
             ],
             [
              0.3333333333333333,
              "#9c179e"
             ],
             [
              0.4444444444444444,
              "#bd3786"
             ],
             [
              0.5555555555555556,
              "#d8576b"
             ],
             [
              0.6666666666666666,
              "#ed7953"
             ],
             [
              0.7777777777777778,
              "#fb9f3a"
             ],
             [
              0.8888888888888888,
              "#fdca26"
             ],
             [
              1,
              "#f0f921"
             ]
            ],
            "type": "histogram2d"
           }
          ],
          "histogram2dcontour": [
           {
            "colorbar": {
             "outlinewidth": 0,
             "ticks": ""
            },
            "colorscale": [
             [
              0,
              "#0d0887"
             ],
             [
              0.1111111111111111,
              "#46039f"
             ],
             [
              0.2222222222222222,
              "#7201a8"
             ],
             [
              0.3333333333333333,
              "#9c179e"
             ],
             [
              0.4444444444444444,
              "#bd3786"
             ],
             [
              0.5555555555555556,
              "#d8576b"
             ],
             [
              0.6666666666666666,
              "#ed7953"
             ],
             [
              0.7777777777777778,
              "#fb9f3a"
             ],
             [
              0.8888888888888888,
              "#fdca26"
             ],
             [
              1,
              "#f0f921"
             ]
            ],
            "type": "histogram2dcontour"
           }
          ],
          "mesh3d": [
           {
            "colorbar": {
             "outlinewidth": 0,
             "ticks": ""
            },
            "type": "mesh3d"
           }
          ],
          "parcoords": [
           {
            "line": {
             "colorbar": {
              "outlinewidth": 0,
              "ticks": ""
             }
            },
            "type": "parcoords"
           }
          ],
          "pie": [
           {
            "automargin": true,
            "type": "pie"
           }
          ],
          "scatter": [
           {
            "marker": {
             "colorbar": {
              "outlinewidth": 0,
              "ticks": ""
             }
            },
            "type": "scatter"
           }
          ],
          "scatter3d": [
           {
            "line": {
             "colorbar": {
              "outlinewidth": 0,
              "ticks": ""
             }
            },
            "marker": {
             "colorbar": {
              "outlinewidth": 0,
              "ticks": ""
             }
            },
            "type": "scatter3d"
           }
          ],
          "scattercarpet": [
           {
            "marker": {
             "colorbar": {
              "outlinewidth": 0,
              "ticks": ""
             }
            },
            "type": "scattercarpet"
           }
          ],
          "scattergeo": [
           {
            "marker": {
             "colorbar": {
              "outlinewidth": 0,
              "ticks": ""
             }
            },
            "type": "scattergeo"
           }
          ],
          "scattergl": [
           {
            "marker": {
             "colorbar": {
              "outlinewidth": 0,
              "ticks": ""
             }
            },
            "type": "scattergl"
           }
          ],
          "scattermapbox": [
           {
            "marker": {
             "colorbar": {
              "outlinewidth": 0,
              "ticks": ""
             }
            },
            "type": "scattermapbox"
           }
          ],
          "scatterpolar": [
           {
            "marker": {
             "colorbar": {
              "outlinewidth": 0,
              "ticks": ""
             }
            },
            "type": "scatterpolar"
           }
          ],
          "scatterpolargl": [
           {
            "marker": {
             "colorbar": {
              "outlinewidth": 0,
              "ticks": ""
             }
            },
            "type": "scatterpolargl"
           }
          ],
          "scatterternary": [
           {
            "marker": {
             "colorbar": {
              "outlinewidth": 0,
              "ticks": ""
             }
            },
            "type": "scatterternary"
           }
          ],
          "surface": [
           {
            "colorbar": {
             "outlinewidth": 0,
             "ticks": ""
            },
            "colorscale": [
             [
              0,
              "#0d0887"
             ],
             [
              0.1111111111111111,
              "#46039f"
             ],
             [
              0.2222222222222222,
              "#7201a8"
             ],
             [
              0.3333333333333333,
              "#9c179e"
             ],
             [
              0.4444444444444444,
              "#bd3786"
             ],
             [
              0.5555555555555556,
              "#d8576b"
             ],
             [
              0.6666666666666666,
              "#ed7953"
             ],
             [
              0.7777777777777778,
              "#fb9f3a"
             ],
             [
              0.8888888888888888,
              "#fdca26"
             ],
             [
              1,
              "#f0f921"
             ]
            ],
            "type": "surface"
           }
          ],
          "table": [
           {
            "cells": {
             "fill": {
              "color": "#EBF0F8"
             },
             "line": {
              "color": "white"
             }
            },
            "header": {
             "fill": {
              "color": "#C8D4E3"
             },
             "line": {
              "color": "white"
             }
            },
            "type": "table"
           }
          ]
         },
         "layout": {
          "annotationdefaults": {
           "arrowcolor": "#2a3f5f",
           "arrowhead": 0,
           "arrowwidth": 1
          },
          "coloraxis": {
           "colorbar": {
            "outlinewidth": 0,
            "ticks": ""
           }
          },
          "colorscale": {
           "diverging": [
            [
             0,
             "#8e0152"
            ],
            [
             0.1,
             "#c51b7d"
            ],
            [
             0.2,
             "#de77ae"
            ],
            [
             0.3,
             "#f1b6da"
            ],
            [
             0.4,
             "#fde0ef"
            ],
            [
             0.5,
             "#f7f7f7"
            ],
            [
             0.6,
             "#e6f5d0"
            ],
            [
             0.7,
             "#b8e186"
            ],
            [
             0.8,
             "#7fbc41"
            ],
            [
             0.9,
             "#4d9221"
            ],
            [
             1,
             "#276419"
            ]
           ],
           "sequential": [
            [
             0,
             "#0d0887"
            ],
            [
             0.1111111111111111,
             "#46039f"
            ],
            [
             0.2222222222222222,
             "#7201a8"
            ],
            [
             0.3333333333333333,
             "#9c179e"
            ],
            [
             0.4444444444444444,
             "#bd3786"
            ],
            [
             0.5555555555555556,
             "#d8576b"
            ],
            [
             0.6666666666666666,
             "#ed7953"
            ],
            [
             0.7777777777777778,
             "#fb9f3a"
            ],
            [
             0.8888888888888888,
             "#fdca26"
            ],
            [
             1,
             "#f0f921"
            ]
           ],
           "sequentialminus": [
            [
             0,
             "#0d0887"
            ],
            [
             0.1111111111111111,
             "#46039f"
            ],
            [
             0.2222222222222222,
             "#7201a8"
            ],
            [
             0.3333333333333333,
             "#9c179e"
            ],
            [
             0.4444444444444444,
             "#bd3786"
            ],
            [
             0.5555555555555556,
             "#d8576b"
            ],
            [
             0.6666666666666666,
             "#ed7953"
            ],
            [
             0.7777777777777778,
             "#fb9f3a"
            ],
            [
             0.8888888888888888,
             "#fdca26"
            ],
            [
             1,
             "#f0f921"
            ]
           ]
          },
          "colorway": [
           "#636efa",
           "#EF553B",
           "#00cc96",
           "#ab63fa",
           "#FFA15A",
           "#19d3f3",
           "#FF6692",
           "#B6E880",
           "#FF97FF",
           "#FECB52"
          ],
          "font": {
           "color": "#2a3f5f"
          },
          "geo": {
           "bgcolor": "white",
           "lakecolor": "white",
           "landcolor": "#E5ECF6",
           "showlakes": true,
           "showland": true,
           "subunitcolor": "white"
          },
          "hoverlabel": {
           "align": "left"
          },
          "hovermode": "closest",
          "mapbox": {
           "style": "light"
          },
          "paper_bgcolor": "white",
          "plot_bgcolor": "#E5ECF6",
          "polar": {
           "angularaxis": {
            "gridcolor": "white",
            "linecolor": "white",
            "ticks": ""
           },
           "bgcolor": "#E5ECF6",
           "radialaxis": {
            "gridcolor": "white",
            "linecolor": "white",
            "ticks": ""
           }
          },
          "scene": {
           "xaxis": {
            "backgroundcolor": "#E5ECF6",
            "gridcolor": "white",
            "gridwidth": 2,
            "linecolor": "white",
            "showbackground": true,
            "ticks": "",
            "zerolinecolor": "white"
           },
           "yaxis": {
            "backgroundcolor": "#E5ECF6",
            "gridcolor": "white",
            "gridwidth": 2,
            "linecolor": "white",
            "showbackground": true,
            "ticks": "",
            "zerolinecolor": "white"
           },
           "zaxis": {
            "backgroundcolor": "#E5ECF6",
            "gridcolor": "white",
            "gridwidth": 2,
            "linecolor": "white",
            "showbackground": true,
            "ticks": "",
            "zerolinecolor": "white"
           }
          },
          "shapedefaults": {
           "line": {
            "color": "#2a3f5f"
           }
          },
          "ternary": {
           "aaxis": {
            "gridcolor": "white",
            "linecolor": "white",
            "ticks": ""
           },
           "baxis": {
            "gridcolor": "white",
            "linecolor": "white",
            "ticks": ""
           },
           "bgcolor": "#E5ECF6",
           "caxis": {
            "gridcolor": "white",
            "linecolor": "white",
            "ticks": ""
           }
          },
          "title": {
           "x": 0.05
          },
          "xaxis": {
           "automargin": true,
           "gridcolor": "white",
           "linecolor": "white",
           "ticks": "",
           "title": {
            "standoff": 15
           },
           "zerolinecolor": "white",
           "zerolinewidth": 2
          },
          "yaxis": {
           "automargin": true,
           "gridcolor": "white",
           "linecolor": "white",
           "ticks": "",
           "title": {
            "standoff": 15
           },
           "zerolinecolor": "white",
           "zerolinewidth": 2
          }
         }
        },
        "title": {
         "font": {
          "color": "#4D5663"
         }
        },
        "xaxis": {
         "gridcolor": "#E1E5ED",
         "showgrid": true,
         "tickfont": {
          "color": "#4D5663"
         },
         "title": {
          "font": {
           "color": "#4D5663"
          },
          "text": ""
         },
         "zerolinecolor": "#E1E5ED"
        },
        "yaxis": {
         "gridcolor": "#E1E5ED",
         "showgrid": true,
         "tickfont": {
          "color": "#4D5663"
         },
         "title": {
          "font": {
           "color": "#4D5663"
          },
          "text": ""
         },
         "zerolinecolor": "#E1E5ED"
        }
       }
      },
      "text/html": [
       "<div>\n",
       "        \n",
       "        \n",
       "            <div id=\"2030accf-6244-4891-98b9-d76fc51ac575\" class=\"plotly-graph-div\" style=\"height:525px; width:100%;\"></div>\n",
       "            <script type=\"text/javascript\">\n",
       "                require([\"plotly\"], function(Plotly) {\n",
       "                    window.PLOTLYENV=window.PLOTLYENV || {};\n",
       "                    window.PLOTLYENV.BASE_URL='https://plot.ly';\n",
       "                    \n",
       "                if (document.getElementById(\"2030accf-6244-4891-98b9-d76fc51ac575\")) {\n",
       "                    Plotly.newPlot(\n",
       "                        '2030accf-6244-4891-98b9-d76fc51ac575',\n",
       "                        [{\"marker\": {\"color\": [\"rgb(255, 153, 51)\", \"rgb(55, 128, 191)\", \"rgb(50, 171, 96)\", \"rgb(128, 0, 128)\", \"rgb(219, 64, 82)\", \"rgb(0, 128, 128)\", \"rgb(255, 255, 51)\", \"rgb(128, 128, 0)\", \"rgb(251, 128, 114)\", \"rgb(128, 177, 211)\"], \"line\": {\"width\": 1.3}, \"size\": [43, 46, 40, 37, 18, 58, 53, 40, 81, 52, 22, 25, 27, 66, 52, 46, 50, 62, 53, 47, 56, 77, 58, 67, 73, 53, 63, 71, 61, 64, 57, 46, 73, 79, 90, 64, 40, 82, 53, 49, 23, 70, 40, 21, 37, 16, 45, 59, 85, 62, 16, 56, 36, 77, 55, 48, 43, 49, 73, 12, 105, 26, 42, 50, 47, 58, 86, 50, 45, 45, 89, 13, 56, 94, 43, 51, 64, 68, 71, 29, 61, 32, 62, 24, 42, 50, 36, 57, 48, 53, 64, 112, 69, 26, 58, 38, 29, 82, 58, 62], \"symbol\": \"circle\"}, \"mode\": \"markers\", \"text\": \"\", \"type\": \"scatter\", \"x\": [-0.47994138356102345, 0.16000001454505774, 1.2996849606416845, -0.3459934331228707, 1.0368948135116955, 0.07946965327892691, 0.02947178831828827, -0.26772555546117177, -2.0314116116032723, -0.7776726685287725, -0.6632265573499633, 0.040338171293861545, 0.03099329497456494, 1.30667900546974, -0.037687242533143366, 0.73556867266476, 0.1957228240044999, -1.0482986804628374, 1.0503916976168206, 0.3384999073480586, -0.14838682865663155, -1.849858632992489, -1.1910865283155898, 1.5553865160982832, 0.986449102796202, 0.07626968937010195, -0.7144282219471334, -1.95459396507943, 0.5166017932497404, -0.1272350411517917, 0.3651824330336992, 0.629568772242452, 0.2238905949170703, -0.4080627997126574, 0.2459532769412293, -1.4375822191198364, 1.1953127234968812, 0.20642350123956282, -0.6118149783961775, -0.3516522754108534, 0.3864587743634232, 0.5578874059130349, -1.2239437975712937, -0.5751253948097974, -0.8161879128352467, 0.728310144983823, 1.0285518125814623, -0.061080867479822096, 0.5456049906240891, 1.6757326714528262, 1.1259534774275948, 2.1679146833244065, 0.3627705444531118, -0.2007163005561877, 1.5857603106850822, -0.14387374650148002, 0.6711681353081573, -2.077686313631864, -0.8339634788937905, -1.5147815926076582, -0.2426824940955602, -0.05900561048931461, -0.5015572453005709, -1.02382765079118, 0.6594628547687229, -0.23529898779933406, 0.989301732841858, 1.0913142676056113, 0.9047811195866384, 2.171823959268939, 0.8660901043897223, -1.009123777500051, -1.2739552439273125, -0.8003558594463309, -0.7227937984759449, -0.4548814893006097, -1.2973334617697536, -0.40436366793090245, -0.5467723352316892, 1.3324985767546997, -0.3000650152937515, -2.4463874579688456, 0.5366264052442478, 0.8394154584497169, -0.47075436156584355, 0.46846103114383303, 1.7485010794299531, -1.3189454373300313, -0.29883060294564007, 0.09313380405100766, 1.2964129012060845, 1.6132918404264132, -0.11654004163312816, -0.3113907853250452, 0.03577164272941658, -0.22212739215972332, 0.19790220317768603, 0.23463768157652232, -0.3274922195966929, -0.3594549556767431], \"y\": [-0.6750720095040574, -0.6236632378538945, 0.31648115090713874, 0.006625469958763555, 1.0701445375157368, -1.489988600379836, 0.7894479972844892, 0.9173170404148899, -0.03236558870315396, 0.531828866922249, 0.5886330258336944, -1.167976713880715, -0.7162100002669591, -0.5414831307678194, 0.7840457615721561, -0.46930537859098814, -0.7892004007784026, 0.15190499519329212, -0.13488847109679594, 0.9560305771827087, 0.9836328201693666, 1.113069160455684, 0.3815657149703171, 1.3561175238140253, -1.0417651856920722, 0.6451841844568005, -0.4828578505139144, 1.5246445699148836, 0.06537554774633204, 0.04931160611207707, 1.9347732812598075, -0.8061165056880444, 1.0744399572724777, -0.38326628912131316, -1.7407112541746834, -1.1789405193606934, -1.4075963840229924, -0.40096512182303085, 0.3220761194308544, -0.9234853236877474, -2.0334595526466446, 0.7776897486339085, -0.9807388724402262, 0.6367945434202201, 1.2749049396021885, 1.5095220335919506, -1.0861773553362357, 0.2928360719752721, -1.0635379361026216, 0.5682472797409951, -0.9001092545463106, -0.40166002883131624, 0.15203268993711191, 0.5507806044416774, -0.406142216960143, -1.217479641294983, 0.6917269041894943, -0.911829853729197, -1.4102896333460009, -1.1411785121505986, -0.08111764128140288, -1.2905700010948244, 0.15246509174095685, 0.5514074713986842, -0.5748023680027282, -0.17533905191623023, 0.2750882818594264, -0.06060424378975698, 0.48929733464317215, -0.8521185592816384, 0.14843460207767809, 0.36699416075794683, -0.1763066172519723, 0.6767034425170794, -1.0558797509891396, -1.2618686077621954, -0.7013920682499339, -1.1536332965995175, -1.0458008683090156, -1.1845502086936621, -1.6179944848535541, 0.027753117132022737, -0.03597787859543119, -0.6109525033400434, -0.006659128206266237, -1.9053029934010377, -0.1979953952563941, -1.970715611393755, -0.02374897918555784, 0.014002628836400495, 0.9021962904211355, -0.2186002004460576, 0.282987591536079, -0.4104780901919894, -0.29636306422899106, -1.0720115422654701, 1.4663762784345675, 0.518632479089715, 0.643572733575315, -0.5238831432693754]}],\n",
       "                        {\"legend\": {\"bgcolor\": \"#F5F6F9\", \"font\": {\"color\": \"#4D5663\"}}, \"paper_bgcolor\": \"#F5F6F9\", \"plot_bgcolor\": \"#F5F6F9\", \"template\": {\"data\": {\"bar\": [{\"error_x\": {\"color\": \"#2a3f5f\"}, \"error_y\": {\"color\": \"#2a3f5f\"}, \"marker\": {\"line\": {\"color\": \"#E5ECF6\", \"width\": 0.5}}, \"type\": \"bar\"}], \"barpolar\": [{\"marker\": {\"line\": {\"color\": \"#E5ECF6\", \"width\": 0.5}}, \"type\": \"barpolar\"}], \"carpet\": [{\"aaxis\": {\"endlinecolor\": \"#2a3f5f\", \"gridcolor\": \"white\", \"linecolor\": \"white\", \"minorgridcolor\": \"white\", \"startlinecolor\": \"#2a3f5f\"}, \"baxis\": {\"endlinecolor\": \"#2a3f5f\", \"gridcolor\": \"white\", \"linecolor\": \"white\", \"minorgridcolor\": \"white\", \"startlinecolor\": \"#2a3f5f\"}, \"type\": \"carpet\"}], \"choropleth\": [{\"colorbar\": {\"outlinewidth\": 0, \"ticks\": \"\"}, \"type\": \"choropleth\"}], \"contour\": [{\"colorbar\": {\"outlinewidth\": 0, \"ticks\": \"\"}, \"colorscale\": [[0.0, \"#0d0887\"], [0.1111111111111111, \"#46039f\"], [0.2222222222222222, \"#7201a8\"], [0.3333333333333333, \"#9c179e\"], [0.4444444444444444, \"#bd3786\"], [0.5555555555555556, \"#d8576b\"], [0.6666666666666666, \"#ed7953\"], [0.7777777777777778, \"#fb9f3a\"], [0.8888888888888888, \"#fdca26\"], [1.0, \"#f0f921\"]], \"type\": \"contour\"}], \"contourcarpet\": [{\"colorbar\": {\"outlinewidth\": 0, \"ticks\": \"\"}, \"type\": \"contourcarpet\"}], \"heatmap\": [{\"colorbar\": {\"outlinewidth\": 0, \"ticks\": \"\"}, \"colorscale\": [[0.0, \"#0d0887\"], [0.1111111111111111, \"#46039f\"], [0.2222222222222222, \"#7201a8\"], [0.3333333333333333, \"#9c179e\"], [0.4444444444444444, \"#bd3786\"], [0.5555555555555556, \"#d8576b\"], [0.6666666666666666, \"#ed7953\"], [0.7777777777777778, \"#fb9f3a\"], [0.8888888888888888, \"#fdca26\"], [1.0, \"#f0f921\"]], \"type\": \"heatmap\"}], \"heatmapgl\": [{\"colorbar\": {\"outlinewidth\": 0, \"ticks\": \"\"}, \"colorscale\": [[0.0, \"#0d0887\"], [0.1111111111111111, \"#46039f\"], [0.2222222222222222, \"#7201a8\"], [0.3333333333333333, \"#9c179e\"], [0.4444444444444444, \"#bd3786\"], [0.5555555555555556, \"#d8576b\"], [0.6666666666666666, \"#ed7953\"], [0.7777777777777778, \"#fb9f3a\"], [0.8888888888888888, \"#fdca26\"], [1.0, \"#f0f921\"]], \"type\": \"heatmapgl\"}], \"histogram\": [{\"marker\": {\"colorbar\": {\"outlinewidth\": 0, \"ticks\": \"\"}}, \"type\": \"histogram\"}], \"histogram2d\": [{\"colorbar\": {\"outlinewidth\": 0, \"ticks\": \"\"}, \"colorscale\": [[0.0, \"#0d0887\"], [0.1111111111111111, \"#46039f\"], [0.2222222222222222, \"#7201a8\"], [0.3333333333333333, \"#9c179e\"], [0.4444444444444444, \"#bd3786\"], [0.5555555555555556, \"#d8576b\"], [0.6666666666666666, \"#ed7953\"], [0.7777777777777778, \"#fb9f3a\"], [0.8888888888888888, \"#fdca26\"], [1.0, \"#f0f921\"]], \"type\": \"histogram2d\"}], \"histogram2dcontour\": [{\"colorbar\": {\"outlinewidth\": 0, \"ticks\": \"\"}, \"colorscale\": [[0.0, \"#0d0887\"], [0.1111111111111111, \"#46039f\"], [0.2222222222222222, \"#7201a8\"], [0.3333333333333333, \"#9c179e\"], [0.4444444444444444, \"#bd3786\"], [0.5555555555555556, \"#d8576b\"], [0.6666666666666666, \"#ed7953\"], [0.7777777777777778, \"#fb9f3a\"], [0.8888888888888888, \"#fdca26\"], [1.0, \"#f0f921\"]], \"type\": \"histogram2dcontour\"}], \"mesh3d\": [{\"colorbar\": {\"outlinewidth\": 0, \"ticks\": \"\"}, \"type\": \"mesh3d\"}], \"parcoords\": [{\"line\": {\"colorbar\": {\"outlinewidth\": 0, \"ticks\": \"\"}}, \"type\": \"parcoords\"}], \"pie\": [{\"automargin\": true, \"type\": \"pie\"}], \"scatter\": [{\"marker\": {\"colorbar\": {\"outlinewidth\": 0, \"ticks\": \"\"}}, \"type\": \"scatter\"}], \"scatter3d\": [{\"line\": {\"colorbar\": {\"outlinewidth\": 0, \"ticks\": \"\"}}, \"marker\": {\"colorbar\": {\"outlinewidth\": 0, \"ticks\": \"\"}}, \"type\": \"scatter3d\"}], \"scattercarpet\": [{\"marker\": {\"colorbar\": {\"outlinewidth\": 0, \"ticks\": \"\"}}, \"type\": \"scattercarpet\"}], \"scattergeo\": [{\"marker\": {\"colorbar\": {\"outlinewidth\": 0, \"ticks\": \"\"}}, \"type\": \"scattergeo\"}], \"scattergl\": [{\"marker\": {\"colorbar\": {\"outlinewidth\": 0, \"ticks\": \"\"}}, \"type\": \"scattergl\"}], \"scattermapbox\": [{\"marker\": {\"colorbar\": {\"outlinewidth\": 0, \"ticks\": \"\"}}, \"type\": \"scattermapbox\"}], \"scatterpolar\": [{\"marker\": {\"colorbar\": {\"outlinewidth\": 0, \"ticks\": \"\"}}, \"type\": \"scatterpolar\"}], \"scatterpolargl\": [{\"marker\": {\"colorbar\": {\"outlinewidth\": 0, \"ticks\": \"\"}}, \"type\": \"scatterpolargl\"}], \"scatterternary\": [{\"marker\": {\"colorbar\": {\"outlinewidth\": 0, \"ticks\": \"\"}}, \"type\": \"scatterternary\"}], \"surface\": [{\"colorbar\": {\"outlinewidth\": 0, \"ticks\": \"\"}, \"colorscale\": [[0.0, \"#0d0887\"], [0.1111111111111111, \"#46039f\"], [0.2222222222222222, \"#7201a8\"], [0.3333333333333333, \"#9c179e\"], [0.4444444444444444, \"#bd3786\"], [0.5555555555555556, \"#d8576b\"], [0.6666666666666666, \"#ed7953\"], [0.7777777777777778, \"#fb9f3a\"], [0.8888888888888888, \"#fdca26\"], [1.0, \"#f0f921\"]], \"type\": \"surface\"}], \"table\": [{\"cells\": {\"fill\": {\"color\": \"#EBF0F8\"}, \"line\": {\"color\": \"white\"}}, \"header\": {\"fill\": {\"color\": \"#C8D4E3\"}, \"line\": {\"color\": \"white\"}}, \"type\": \"table\"}]}, \"layout\": {\"annotationdefaults\": {\"arrowcolor\": \"#2a3f5f\", \"arrowhead\": 0, \"arrowwidth\": 1}, \"coloraxis\": {\"colorbar\": {\"outlinewidth\": 0, \"ticks\": \"\"}}, \"colorscale\": {\"diverging\": [[0, \"#8e0152\"], [0.1, \"#c51b7d\"], [0.2, \"#de77ae\"], [0.3, \"#f1b6da\"], [0.4, \"#fde0ef\"], [0.5, \"#f7f7f7\"], [0.6, \"#e6f5d0\"], [0.7, \"#b8e186\"], [0.8, \"#7fbc41\"], [0.9, \"#4d9221\"], [1, \"#276419\"]], \"sequential\": [[0.0, \"#0d0887\"], [0.1111111111111111, \"#46039f\"], [0.2222222222222222, \"#7201a8\"], [0.3333333333333333, \"#9c179e\"], [0.4444444444444444, \"#bd3786\"], [0.5555555555555556, \"#d8576b\"], [0.6666666666666666, \"#ed7953\"], [0.7777777777777778, \"#fb9f3a\"], [0.8888888888888888, \"#fdca26\"], [1.0, \"#f0f921\"]], \"sequentialminus\": [[0.0, \"#0d0887\"], [0.1111111111111111, \"#46039f\"], [0.2222222222222222, \"#7201a8\"], [0.3333333333333333, \"#9c179e\"], [0.4444444444444444, \"#bd3786\"], [0.5555555555555556, \"#d8576b\"], [0.6666666666666666, \"#ed7953\"], [0.7777777777777778, \"#fb9f3a\"], [0.8888888888888888, \"#fdca26\"], [1.0, \"#f0f921\"]]}, \"colorway\": [\"#636efa\", \"#EF553B\", \"#00cc96\", \"#ab63fa\", \"#FFA15A\", \"#19d3f3\", \"#FF6692\", \"#B6E880\", \"#FF97FF\", \"#FECB52\"], \"font\": {\"color\": \"#2a3f5f\"}, \"geo\": {\"bgcolor\": \"white\", \"lakecolor\": \"white\", \"landcolor\": \"#E5ECF6\", \"showlakes\": true, \"showland\": true, \"subunitcolor\": \"white\"}, \"hoverlabel\": {\"align\": \"left\"}, \"hovermode\": \"closest\", \"mapbox\": {\"style\": \"light\"}, \"paper_bgcolor\": \"white\", \"plot_bgcolor\": \"#E5ECF6\", \"polar\": {\"angularaxis\": {\"gridcolor\": \"white\", \"linecolor\": \"white\", \"ticks\": \"\"}, \"bgcolor\": \"#E5ECF6\", \"radialaxis\": {\"gridcolor\": \"white\", \"linecolor\": \"white\", \"ticks\": \"\"}}, \"scene\": {\"xaxis\": {\"backgroundcolor\": \"#E5ECF6\", \"gridcolor\": \"white\", \"gridwidth\": 2, \"linecolor\": \"white\", \"showbackground\": true, \"ticks\": \"\", \"zerolinecolor\": \"white\"}, \"yaxis\": {\"backgroundcolor\": \"#E5ECF6\", \"gridcolor\": \"white\", \"gridwidth\": 2, \"linecolor\": \"white\", \"showbackground\": true, \"ticks\": \"\", \"zerolinecolor\": \"white\"}, \"zaxis\": {\"backgroundcolor\": \"#E5ECF6\", \"gridcolor\": \"white\", \"gridwidth\": 2, \"linecolor\": \"white\", \"showbackground\": true, \"ticks\": \"\", \"zerolinecolor\": \"white\"}}, \"shapedefaults\": {\"line\": {\"color\": \"#2a3f5f\"}}, \"ternary\": {\"aaxis\": {\"gridcolor\": \"white\", \"linecolor\": \"white\", \"ticks\": \"\"}, \"baxis\": {\"gridcolor\": \"white\", \"linecolor\": \"white\", \"ticks\": \"\"}, \"bgcolor\": \"#E5ECF6\", \"caxis\": {\"gridcolor\": \"white\", \"linecolor\": \"white\", \"ticks\": \"\"}}, \"title\": {\"x\": 0.05}, \"xaxis\": {\"automargin\": true, \"gridcolor\": \"white\", \"linecolor\": \"white\", \"ticks\": \"\", \"title\": {\"standoff\": 15}, \"zerolinecolor\": \"white\", \"zerolinewidth\": 2}, \"yaxis\": {\"automargin\": true, \"gridcolor\": \"white\", \"linecolor\": \"white\", \"ticks\": \"\", \"title\": {\"standoff\": 15}, \"zerolinecolor\": \"white\", \"zerolinewidth\": 2}}}, \"title\": {\"font\": {\"color\": \"#4D5663\"}}, \"xaxis\": {\"gridcolor\": \"#E1E5ED\", \"showgrid\": true, \"tickfont\": {\"color\": \"#4D5663\"}, \"title\": {\"font\": {\"color\": \"#4D5663\"}, \"text\": \"\"}, \"zerolinecolor\": \"#E1E5ED\"}, \"yaxis\": {\"gridcolor\": \"#E1E5ED\", \"showgrid\": true, \"tickfont\": {\"color\": \"#4D5663\"}, \"title\": {\"font\": {\"color\": \"#4D5663\"}, \"text\": \"\"}, \"zerolinecolor\": \"#E1E5ED\"}},\n",
       "                        {\"showLink\": true, \"linkText\": \"Export to plot.ly\", \"plotlyServerURL\": \"https://plot.ly\", \"responsive\": true}\n",
       "                    ).then(function(){\n",
       "                            \n",
       "var gd = document.getElementById('2030accf-6244-4891-98b9-d76fc51ac575');\n",
       "var x = new MutationObserver(function (mutations, observer) {{\n",
       "        var display = window.getComputedStyle(gd).display;\n",
       "        if (!display || display === 'none') {{\n",
       "            console.log([gd, 'removed!']);\n",
       "            Plotly.purge(gd);\n",
       "            observer.disconnect();\n",
       "        }}\n",
       "}});\n",
       "\n",
       "// Listen for the removal of the full notebook cells\n",
       "var notebookContainer = gd.closest('#notebook-container');\n",
       "if (notebookContainer) {{\n",
       "    x.observe(notebookContainer, {childList: true});\n",
       "}}\n",
       "\n",
       "// Listen for the clearing of the current output cell\n",
       "var outputEl = gd.closest('.output');\n",
       "if (outputEl) {{\n",
       "    x.observe(outputEl, {childList: true});\n",
       "}}\n",
       "\n",
       "                        })\n",
       "                };\n",
       "                });\n",
       "            </script>\n",
       "        </div>"
      ]
     },
     "metadata": {},
     "output_type": "display_data"
    }
   ],
   "source": [
    "df.iplot(kind='bubble',x='A',y='B',size='C')"
   ]
  },
  {
   "cell_type": "code",
   "execution_count": 35,
   "metadata": {},
   "outputs": [
    {
     "data": {
      "application/vnd.plotly.v1+json": {
       "config": {
        "linkText": "Export to plot.ly",
        "plotlyServerURL": "https://plot.ly",
        "showLink": true
       },
       "data": [
        {
         "histfunc": "count",
         "histnorm": "",
         "marker": {
          "color": "rgba(255, 153, 51, 1.0)",
          "line": {
           "color": "#4D5663",
           "width": 1.3
          }
         },
         "name": "A",
         "nbinsx": 10,
         "opacity": 0.8,
         "orientation": "v",
         "type": "histogram",
         "x": [
          -0.47994138356102345,
          0.16000001454505774,
          1.2996849606416845,
          -0.3459934331228707,
          1.0368948135116955,
          0.07946965327892691,
          0.02947178831828827,
          -0.26772555546117177,
          -2.0314116116032723,
          -0.7776726685287725,
          -0.6632265573499633,
          0.040338171293861545,
          0.03099329497456494,
          1.30667900546974,
          -0.037687242533143366,
          0.73556867266476,
          0.1957228240044999,
          -1.0482986804628374,
          1.0503916976168206,
          0.3384999073480586,
          -0.14838682865663155,
          -1.849858632992489,
          -1.1910865283155898,
          1.5553865160982832,
          0.986449102796202,
          0.07626968937010195,
          -0.7144282219471334,
          -1.95459396507943,
          0.5166017932497404,
          -0.1272350411517917,
          0.3651824330336992,
          0.629568772242452,
          0.2238905949170703,
          -0.4080627997126574,
          0.2459532769412293,
          -1.4375822191198364,
          1.1953127234968812,
          0.20642350123956282,
          -0.6118149783961775,
          -0.3516522754108534,
          0.3864587743634232,
          0.5578874059130349,
          -1.2239437975712937,
          -0.5751253948097974,
          -0.8161879128352467,
          0.728310144983823,
          1.0285518125814623,
          -0.061080867479822096,
          0.5456049906240891,
          1.6757326714528262,
          1.1259534774275948,
          2.1679146833244065,
          0.3627705444531118,
          -0.2007163005561877,
          1.5857603106850822,
          -0.14387374650148002,
          0.6711681353081573,
          -2.077686313631864,
          -0.8339634788937905,
          -1.5147815926076582,
          -0.2426824940955602,
          -0.05900561048931461,
          -0.5015572453005709,
          -1.02382765079118,
          0.6594628547687229,
          -0.23529898779933406,
          0.989301732841858,
          1.0913142676056113,
          0.9047811195866384,
          2.171823959268939,
          0.8660901043897223,
          -1.009123777500051,
          -1.2739552439273125,
          -0.8003558594463309,
          -0.7227937984759449,
          -0.4548814893006097,
          -1.2973334617697536,
          -0.40436366793090245,
          -0.5467723352316892,
          1.3324985767546997,
          -0.3000650152937515,
          -2.4463874579688456,
          0.5366264052442478,
          0.8394154584497169,
          -0.47075436156584355,
          0.46846103114383303,
          1.7485010794299531,
          -1.3189454373300313,
          -0.29883060294564007,
          0.09313380405100766,
          1.2964129012060845,
          1.6132918404264132,
          -0.11654004163312816,
          -0.3113907853250452,
          0.03577164272941658,
          -0.22212739215972332,
          0.19790220317768603,
          0.23463768157652232,
          -0.3274922195966929,
          -0.3594549556767431
         ],
         "xaxis": "x",
         "yaxis": "y"
        },
        {
         "line": {
          "color": "rgba(128, 128, 128, 1.0)",
          "dash": "solid",
          "shape": "linear",
          "width": 1.3
         },
         "marker": {
          "size": 2,
          "symbol": "circle"
         },
         "mode": "markers",
         "name": "A",
         "text": "",
         "type": "scatter",
         "x": [
          -0.6750720095040574,
          -0.6236632378538945,
          0.31648115090713874,
          0.006625469958763555,
          1.0701445375157368,
          -1.489988600379836,
          0.7894479972844892,
          0.9173170404148899,
          -0.03236558870315396,
          0.531828866922249,
          0.5886330258336944,
          -1.167976713880715,
          -0.7162100002669591,
          -0.5414831307678194,
          0.7840457615721561,
          -0.46930537859098814,
          -0.7892004007784026,
          0.15190499519329212,
          -0.13488847109679594,
          0.9560305771827087,
          0.9836328201693666,
          1.113069160455684,
          0.3815657149703171,
          1.3561175238140253,
          -1.0417651856920722,
          0.6451841844568005,
          -0.4828578505139144,
          1.5246445699148836,
          0.06537554774633204,
          0.04931160611207707,
          1.9347732812598075,
          -0.8061165056880444,
          1.0744399572724777,
          -0.38326628912131316,
          -1.7407112541746834,
          -1.1789405193606934,
          -1.4075963840229924,
          -0.40096512182303085,
          0.3220761194308544,
          -0.9234853236877474,
          -2.0334595526466446,
          0.7776897486339085,
          -0.9807388724402262,
          0.6367945434202201,
          1.2749049396021885,
          1.5095220335919506,
          -1.0861773553362357,
          0.2928360719752721,
          -1.0635379361026216,
          0.5682472797409951,
          -0.9001092545463106,
          -0.40166002883131624,
          0.15203268993711191,
          0.5507806044416774,
          -0.406142216960143,
          -1.217479641294983,
          0.6917269041894943,
          -0.911829853729197,
          -1.4102896333460009,
          -1.1411785121505986,
          -0.08111764128140288,
          -1.2905700010948244,
          0.15246509174095685,
          0.5514074713986842,
          -0.5748023680027282,
          -0.17533905191623023,
          0.2750882818594264,
          -0.06060424378975698,
          0.48929733464317215,
          -0.8521185592816384,
          0.14843460207767809,
          0.36699416075794683,
          -0.1763066172519723,
          0.6767034425170794,
          -1.0558797509891396,
          -1.2618686077621954,
          -0.7013920682499339,
          -1.1536332965995175,
          -1.0458008683090156,
          -1.1845502086936621,
          -1.6179944848535541,
          0.027753117132022737,
          -0.03597787859543119,
          -0.6109525033400434,
          -0.006659128206266237,
          -1.9053029934010377,
          -0.1979953952563941,
          -1.970715611393755,
          -0.02374897918555784,
          0.014002628836400495,
          0.9021962904211355,
          -0.2186002004460576,
          0.282987591536079,
          -0.4104780901919894,
          -0.29636306422899106,
          -1.0720115422654701,
          1.4663762784345675,
          0.518632479089715,
          0.643572733575315,
          -0.5238831432693754
         ],
         "xaxis": "x2",
         "y": [
          -0.47994138356102345,
          0.16000001454505774,
          1.2996849606416845,
          -0.3459934331228707,
          1.0368948135116955,
          0.07946965327892691,
          0.02947178831828827,
          -0.26772555546117177,
          -2.0314116116032723,
          -0.7776726685287725,
          -0.6632265573499633,
          0.040338171293861545,
          0.03099329497456494,
          1.30667900546974,
          -0.037687242533143366,
          0.73556867266476,
          0.1957228240044999,
          -1.0482986804628374,
          1.0503916976168206,
          0.3384999073480586,
          -0.14838682865663155,
          -1.849858632992489,
          -1.1910865283155898,
          1.5553865160982832,
          0.986449102796202,
          0.07626968937010195,
          -0.7144282219471334,
          -1.95459396507943,
          0.5166017932497404,
          -0.1272350411517917,
          0.3651824330336992,
          0.629568772242452,
          0.2238905949170703,
          -0.4080627997126574,
          0.2459532769412293,
          -1.4375822191198364,
          1.1953127234968812,
          0.20642350123956282,
          -0.6118149783961775,
          -0.3516522754108534,
          0.3864587743634232,
          0.5578874059130349,
          -1.2239437975712937,
          -0.5751253948097974,
          -0.8161879128352467,
          0.728310144983823,
          1.0285518125814623,
          -0.061080867479822096,
          0.5456049906240891,
          1.6757326714528262,
          1.1259534774275948,
          2.1679146833244065,
          0.3627705444531118,
          -0.2007163005561877,
          1.5857603106850822,
          -0.14387374650148002,
          0.6711681353081573,
          -2.077686313631864,
          -0.8339634788937905,
          -1.5147815926076582,
          -0.2426824940955602,
          -0.05900561048931461,
          -0.5015572453005709,
          -1.02382765079118,
          0.6594628547687229,
          -0.23529898779933406,
          0.989301732841858,
          1.0913142676056113,
          0.9047811195866384,
          2.171823959268939,
          0.8660901043897223,
          -1.009123777500051,
          -1.2739552439273125,
          -0.8003558594463309,
          -0.7227937984759449,
          -0.4548814893006097,
          -1.2973334617697536,
          -0.40436366793090245,
          -0.5467723352316892,
          1.3324985767546997,
          -0.3000650152937515,
          -2.4463874579688456,
          0.5366264052442478,
          0.8394154584497169,
          -0.47075436156584355,
          0.46846103114383303,
          1.7485010794299531,
          -1.3189454373300313,
          -0.29883060294564007,
          0.09313380405100766,
          1.2964129012060845,
          1.6132918404264132,
          -0.11654004163312816,
          -0.3113907853250452,
          0.03577164272941658,
          -0.22212739215972332,
          0.19790220317768603,
          0.23463768157652232,
          -0.3274922195966929,
          -0.3594549556767431
         ],
         "yaxis": "y2"
        },
        {
         "line": {
          "color": "rgba(128, 128, 128, 1.0)",
          "dash": "solid",
          "shape": "linear",
          "width": 1.3
         },
         "marker": {
          "size": 2,
          "symbol": "circle"
         },
         "mode": "markers",
         "name": "A",
         "text": "",
         "type": "scatter",
         "x": [
          -0.5197271978581905,
          -0.35702079986068197,
          -0.6751074162834202,
          -0.8290603698439113,
          -1.7620567856664684,
          0.22579158270393165,
          0.00808063258413915,
          -0.6891205740873824,
          1.3805447654586755,
          -0.05653607792480402,
          -1.5578460253123274,
          -1.423940701684458,
          -1.2987087258472758,
          0.6434196202513819,
          -0.06084163519495708,
          -0.3596184597698029,
          -0.1600839748573193,
          0.4351329108949361,
          -0.037248400408046785,
          -0.2963151081901758,
          0.1450065608648587,
          1.1920904328243296,
          0.21667688869310794,
          0.6949961722611162,
          0.9847769996892395,
          -0.0056276016213413355,
          0.5004276282933069,
          0.9065596468268876,
          0.3913797397178053,
          0.5194628533956177,
          0.20180903715178042,
          -0.37102518269253304,
          1.007985221807975,
          1.2693324558378918,
          1.8427949296226573,
          0.5288485335232646,
          -0.6862959392121788,
          1.4338661951430534,
          0.006824530293811063,
          -0.23133092335789665,
          -1.5418740730564444,
          0.8628701890453,
          -0.6483764997573348,
          -1.6029664806541335,
          -0.7940380352821212,
          -1.8951476576766457,
          -0.40041956603237083,
          0.2964911317848158,
          1.5899392607667207,
          0.4312931244279361,
          -1.8737143112380912,
          0.15598014843187272,
          -0.8561011752865471,
          1.205915463923441,
          0.08531616891935535,
          -0.2849719587160101,
          -0.49992372301677185,
          -0.1977389254022585,
          0.9672487407550542,
          -2.1007611967290454,
          2.5758556907585763,
          -1.3544767038489602,
          -0.5482520679537566,
          -0.14250855825853886,
          -0.31395089348855637,
          0.22273658215192293,
          1.6444651798928556,
          -0.1645639143914819,
          -0.4281820820795921,
          -0.44045908292905706,
          1.8124573636463697,
          -2.0269863208849563,
          0.1160077533479532,
          2.0653426029572985,
          -0.5089496389521247,
          -0.12134215070011177,
          0.5399005604153339,
          0.722808318590877,
          0.8803784655030259,
          -1.2061397944554992,
          0.3970338332193433,
          -1.0746922682004565,
          0.4206950439615749,
          -1.4792823364969105,
          -0.5587369720014077,
          -0.15698538565975714,
          -0.8612772787041048,
          0.20900126254664594,
          -0.28515872294607314,
          0.0036611009568451856,
          0.5538991408164484,
          2.926243867371199,
          0.7796294023213519,
          -1.3660970894954452,
          0.25571122605780455,
          -0.7818561652897893,
          -1.235332988189121,
          1.4674049373740403,
          0.25507104998325436,
          0.44431307217121674
         ],
         "xaxis": "x3",
         "y": [
          -0.47994138356102345,
          0.16000001454505774,
          1.2996849606416845,
          -0.3459934331228707,
          1.0368948135116955,
          0.07946965327892691,
          0.02947178831828827,
          -0.26772555546117177,
          -2.0314116116032723,
          -0.7776726685287725,
          -0.6632265573499633,
          0.040338171293861545,
          0.03099329497456494,
          1.30667900546974,
          -0.037687242533143366,
          0.73556867266476,
          0.1957228240044999,
          -1.0482986804628374,
          1.0503916976168206,
          0.3384999073480586,
          -0.14838682865663155,
          -1.849858632992489,
          -1.1910865283155898,
          1.5553865160982832,
          0.986449102796202,
          0.07626968937010195,
          -0.7144282219471334,
          -1.95459396507943,
          0.5166017932497404,
          -0.1272350411517917,
          0.3651824330336992,
          0.629568772242452,
          0.2238905949170703,
          -0.4080627997126574,
          0.2459532769412293,
          -1.4375822191198364,
          1.1953127234968812,
          0.20642350123956282,
          -0.6118149783961775,
          -0.3516522754108534,
          0.3864587743634232,
          0.5578874059130349,
          -1.2239437975712937,
          -0.5751253948097974,
          -0.8161879128352467,
          0.728310144983823,
          1.0285518125814623,
          -0.061080867479822096,
          0.5456049906240891,
          1.6757326714528262,
          1.1259534774275948,
          2.1679146833244065,
          0.3627705444531118,
          -0.2007163005561877,
          1.5857603106850822,
          -0.14387374650148002,
          0.6711681353081573,
          -2.077686313631864,
          -0.8339634788937905,
          -1.5147815926076582,
          -0.2426824940955602,
          -0.05900561048931461,
          -0.5015572453005709,
          -1.02382765079118,
          0.6594628547687229,
          -0.23529898779933406,
          0.989301732841858,
          1.0913142676056113,
          0.9047811195866384,
          2.171823959268939,
          0.8660901043897223,
          -1.009123777500051,
          -1.2739552439273125,
          -0.8003558594463309,
          -0.7227937984759449,
          -0.4548814893006097,
          -1.2973334617697536,
          -0.40436366793090245,
          -0.5467723352316892,
          1.3324985767546997,
          -0.3000650152937515,
          -2.4463874579688456,
          0.5366264052442478,
          0.8394154584497169,
          -0.47075436156584355,
          0.46846103114383303,
          1.7485010794299531,
          -1.3189454373300313,
          -0.29883060294564007,
          0.09313380405100766,
          1.2964129012060845,
          1.6132918404264132,
          -0.11654004163312816,
          -0.3113907853250452,
          0.03577164272941658,
          -0.22212739215972332,
          0.19790220317768603,
          0.23463768157652232,
          -0.3274922195966929,
          -0.3594549556767431
         ],
         "yaxis": "y3"
        },
        {
         "line": {
          "color": "rgba(128, 128, 128, 1.0)",
          "dash": "solid",
          "shape": "linear",
          "width": 1.3
         },
         "marker": {
          "size": 2,
          "symbol": "circle"
         },
         "mode": "markers",
         "name": "A",
         "text": "",
         "type": "scatter",
         "x": [
          0.18942170519626872,
          -1.2802194731604748,
          0.6349376524449637,
          -0.5504493747747182,
          -0.7052055592080125,
          -0.20621564334914896,
          0.17785259437516168,
          1.0675198214940365,
          0.43278494355204966,
          -1.1979095622506206,
          0.03377723660122678,
          -0.5844708269743173,
          -1.3259672968360285,
          -1.5768099286883155,
          -0.5745729240121211,
          -0.09220113732000862,
          0.045936116104723645,
          1.3791850474193161,
          1.8582293288358758,
          0.3689175248690529,
          0.10787976561289657,
          -0.5595527120732183,
          -1.4134306157866812,
          -0.9627143604904586,
          1.146387094842736,
          1.562875052994166,
          0.12792405719541777,
          0.4692887195328484,
          -1.3292574772861743,
          0.14539836343131582,
          -0.019269658825584794,
          -0.4628263841159192,
          -1.2579807391391045,
          -1.98788066802929,
          0.05924856073748593,
          -0.16311938920992022,
          -0.27527171490132246,
          -0.15839675467227424,
          0.30242416587063015,
          -0.8495425020657296,
          -0.4586702146018039,
          0.08460838908589949,
          -2.394485298556269,
          0.44435681397663634,
          0.2445539721871795,
          -0.21942588916376973,
          0.5593116756375367,
          -0.8382612967116606,
          -0.8801381638643744,
          2.2119414718170582,
          -1.8595165157814173,
          0.17087544617586234,
          0.34126648026356315,
          0.48670860790953857,
          -0.4178684019411358,
          -0.06418358333556115,
          0.7270068870675426,
          0.7734335640748874,
          0.5849299447104188,
          -0.09745409043521285,
          1.0429191705092615,
          -1.7722403207134747,
          -1.8495043259843567,
          -0.7792485620696873,
          1.600271390275063,
          -0.6374166322996777,
          -0.38594804544541017,
          -0.32338577033233395,
          -0.06479085716062354,
          0.4400675832296403,
          -1.0249528267596215,
          -0.7466060800255195,
          -0.35496339596247256,
          1.4494676348279423,
          1.0924735876914018,
          2.257533687084062,
          -1.0196171714000544,
          -0.9570592291527833,
          -1.5508421070797296,
          -1.5378804322035184,
          0.47728934923457966,
          -1.1191201363418921,
          -0.04468329386381377,
          -0.10629130596692232,
          0.3616265796275296,
          0.6891470617042107,
          -1.9189015917736612,
          1.0490773829306952,
          1.5753947224514775,
          0.8358400820596704,
          -1.3948517425353133,
          -0.525009371351308,
          -0.29431542845104475,
          0.3042360977060703,
          -0.6706043911388967,
          0.07321410292070137,
          -0.717643881557239,
          -0.10093489837101675,
          -0.38363037570998165,
          1.9918704037414345
         ],
         "xaxis": "x4",
         "y": [
          -0.47994138356102345,
          0.16000001454505774,
          1.2996849606416845,
          -0.3459934331228707,
          1.0368948135116955,
          0.07946965327892691,
          0.02947178831828827,
          -0.26772555546117177,
          -2.0314116116032723,
          -0.7776726685287725,
          -0.6632265573499633,
          0.040338171293861545,
          0.03099329497456494,
          1.30667900546974,
          -0.037687242533143366,
          0.73556867266476,
          0.1957228240044999,
          -1.0482986804628374,
          1.0503916976168206,
          0.3384999073480586,
          -0.14838682865663155,
          -1.849858632992489,
          -1.1910865283155898,
          1.5553865160982832,
          0.986449102796202,
          0.07626968937010195,
          -0.7144282219471334,
          -1.95459396507943,
          0.5166017932497404,
          -0.1272350411517917,
          0.3651824330336992,
          0.629568772242452,
          0.2238905949170703,
          -0.4080627997126574,
          0.2459532769412293,
          -1.4375822191198364,
          1.1953127234968812,
          0.20642350123956282,
          -0.6118149783961775,
          -0.3516522754108534,
          0.3864587743634232,
          0.5578874059130349,
          -1.2239437975712937,
          -0.5751253948097974,
          -0.8161879128352467,
          0.728310144983823,
          1.0285518125814623,
          -0.061080867479822096,
          0.5456049906240891,
          1.6757326714528262,
          1.1259534774275948,
          2.1679146833244065,
          0.3627705444531118,
          -0.2007163005561877,
          1.5857603106850822,
          -0.14387374650148002,
          0.6711681353081573,
          -2.077686313631864,
          -0.8339634788937905,
          -1.5147815926076582,
          -0.2426824940955602,
          -0.05900561048931461,
          -0.5015572453005709,
          -1.02382765079118,
          0.6594628547687229,
          -0.23529898779933406,
          0.989301732841858,
          1.0913142676056113,
          0.9047811195866384,
          2.171823959268939,
          0.8660901043897223,
          -1.009123777500051,
          -1.2739552439273125,
          -0.8003558594463309,
          -0.7227937984759449,
          -0.4548814893006097,
          -1.2973334617697536,
          -0.40436366793090245,
          -0.5467723352316892,
          1.3324985767546997,
          -0.3000650152937515,
          -2.4463874579688456,
          0.5366264052442478,
          0.8394154584497169,
          -0.47075436156584355,
          0.46846103114383303,
          1.7485010794299531,
          -1.3189454373300313,
          -0.29883060294564007,
          0.09313380405100766,
          1.2964129012060845,
          1.6132918404264132,
          -0.11654004163312816,
          -0.3113907853250452,
          0.03577164272941658,
          -0.22212739215972332,
          0.19790220317768603,
          0.23463768157652232,
          -0.3274922195966929,
          -0.3594549556767431
         ],
         "yaxis": "y4"
        },
        {
         "line": {
          "color": "rgba(128, 128, 128, 1.0)",
          "dash": "solid",
          "shape": "linear",
          "width": 1.3
         },
         "marker": {
          "size": 2,
          "symbol": "circle"
         },
         "mode": "markers",
         "name": "B",
         "text": "",
         "type": "scatter",
         "x": [
          -0.47994138356102345,
          0.16000001454505774,
          1.2996849606416845,
          -0.3459934331228707,
          1.0368948135116955,
          0.07946965327892691,
          0.02947178831828827,
          -0.26772555546117177,
          -2.0314116116032723,
          -0.7776726685287725,
          -0.6632265573499633,
          0.040338171293861545,
          0.03099329497456494,
          1.30667900546974,
          -0.037687242533143366,
          0.73556867266476,
          0.1957228240044999,
          -1.0482986804628374,
          1.0503916976168206,
          0.3384999073480586,
          -0.14838682865663155,
          -1.849858632992489,
          -1.1910865283155898,
          1.5553865160982832,
          0.986449102796202,
          0.07626968937010195,
          -0.7144282219471334,
          -1.95459396507943,
          0.5166017932497404,
          -0.1272350411517917,
          0.3651824330336992,
          0.629568772242452,
          0.2238905949170703,
          -0.4080627997126574,
          0.2459532769412293,
          -1.4375822191198364,
          1.1953127234968812,
          0.20642350123956282,
          -0.6118149783961775,
          -0.3516522754108534,
          0.3864587743634232,
          0.5578874059130349,
          -1.2239437975712937,
          -0.5751253948097974,
          -0.8161879128352467,
          0.728310144983823,
          1.0285518125814623,
          -0.061080867479822096,
          0.5456049906240891,
          1.6757326714528262,
          1.1259534774275948,
          2.1679146833244065,
          0.3627705444531118,
          -0.2007163005561877,
          1.5857603106850822,
          -0.14387374650148002,
          0.6711681353081573,
          -2.077686313631864,
          -0.8339634788937905,
          -1.5147815926076582,
          -0.2426824940955602,
          -0.05900561048931461,
          -0.5015572453005709,
          -1.02382765079118,
          0.6594628547687229,
          -0.23529898779933406,
          0.989301732841858,
          1.0913142676056113,
          0.9047811195866384,
          2.171823959268939,
          0.8660901043897223,
          -1.009123777500051,
          -1.2739552439273125,
          -0.8003558594463309,
          -0.7227937984759449,
          -0.4548814893006097,
          -1.2973334617697536,
          -0.40436366793090245,
          -0.5467723352316892,
          1.3324985767546997,
          -0.3000650152937515,
          -2.4463874579688456,
          0.5366264052442478,
          0.8394154584497169,
          -0.47075436156584355,
          0.46846103114383303,
          1.7485010794299531,
          -1.3189454373300313,
          -0.29883060294564007,
          0.09313380405100766,
          1.2964129012060845,
          1.6132918404264132,
          -0.11654004163312816,
          -0.3113907853250452,
          0.03577164272941658,
          -0.22212739215972332,
          0.19790220317768603,
          0.23463768157652232,
          -0.3274922195966929,
          -0.3594549556767431
         ],
         "xaxis": "x5",
         "y": [
          -0.6750720095040574,
          -0.6236632378538945,
          0.31648115090713874,
          0.006625469958763555,
          1.0701445375157368,
          -1.489988600379836,
          0.7894479972844892,
          0.9173170404148899,
          -0.03236558870315396,
          0.531828866922249,
          0.5886330258336944,
          -1.167976713880715,
          -0.7162100002669591,
          -0.5414831307678194,
          0.7840457615721561,
          -0.46930537859098814,
          -0.7892004007784026,
          0.15190499519329212,
          -0.13488847109679594,
          0.9560305771827087,
          0.9836328201693666,
          1.113069160455684,
          0.3815657149703171,
          1.3561175238140253,
          -1.0417651856920722,
          0.6451841844568005,
          -0.4828578505139144,
          1.5246445699148836,
          0.06537554774633204,
          0.04931160611207707,
          1.9347732812598075,
          -0.8061165056880444,
          1.0744399572724777,
          -0.38326628912131316,
          -1.7407112541746834,
          -1.1789405193606934,
          -1.4075963840229924,
          -0.40096512182303085,
          0.3220761194308544,
          -0.9234853236877474,
          -2.0334595526466446,
          0.7776897486339085,
          -0.9807388724402262,
          0.6367945434202201,
          1.2749049396021885,
          1.5095220335919506,
          -1.0861773553362357,
          0.2928360719752721,
          -1.0635379361026216,
          0.5682472797409951,
          -0.9001092545463106,
          -0.40166002883131624,
          0.15203268993711191,
          0.5507806044416774,
          -0.406142216960143,
          -1.217479641294983,
          0.6917269041894943,
          -0.911829853729197,
          -1.4102896333460009,
          -1.1411785121505986,
          -0.08111764128140288,
          -1.2905700010948244,
          0.15246509174095685,
          0.5514074713986842,
          -0.5748023680027282,
          -0.17533905191623023,
          0.2750882818594264,
          -0.06060424378975698,
          0.48929733464317215,
          -0.8521185592816384,
          0.14843460207767809,
          0.36699416075794683,
          -0.1763066172519723,
          0.6767034425170794,
          -1.0558797509891396,
          -1.2618686077621954,
          -0.7013920682499339,
          -1.1536332965995175,
          -1.0458008683090156,
          -1.1845502086936621,
          -1.6179944848535541,
          0.027753117132022737,
          -0.03597787859543119,
          -0.6109525033400434,
          -0.006659128206266237,
          -1.9053029934010377,
          -0.1979953952563941,
          -1.970715611393755,
          -0.02374897918555784,
          0.014002628836400495,
          0.9021962904211355,
          -0.2186002004460576,
          0.282987591536079,
          -0.4104780901919894,
          -0.29636306422899106,
          -1.0720115422654701,
          1.4663762784345675,
          0.518632479089715,
          0.643572733575315,
          -0.5238831432693754
         ],
         "yaxis": "y5"
        },
        {
         "histfunc": "count",
         "histnorm": "",
         "marker": {
          "color": "rgba(55, 128, 191, 1.0)",
          "line": {
           "color": "#4D5663",
           "width": 1.3
          }
         },
         "name": "B",
         "nbinsx": 10,
         "opacity": 0.8,
         "orientation": "v",
         "type": "histogram",
         "x": [
          -0.6750720095040574,
          -0.6236632378538945,
          0.31648115090713874,
          0.006625469958763555,
          1.0701445375157368,
          -1.489988600379836,
          0.7894479972844892,
          0.9173170404148899,
          -0.03236558870315396,
          0.531828866922249,
          0.5886330258336944,
          -1.167976713880715,
          -0.7162100002669591,
          -0.5414831307678194,
          0.7840457615721561,
          -0.46930537859098814,
          -0.7892004007784026,
          0.15190499519329212,
          -0.13488847109679594,
          0.9560305771827087,
          0.9836328201693666,
          1.113069160455684,
          0.3815657149703171,
          1.3561175238140253,
          -1.0417651856920722,
          0.6451841844568005,
          -0.4828578505139144,
          1.5246445699148836,
          0.06537554774633204,
          0.04931160611207707,
          1.9347732812598075,
          -0.8061165056880444,
          1.0744399572724777,
          -0.38326628912131316,
          -1.7407112541746834,
          -1.1789405193606934,
          -1.4075963840229924,
          -0.40096512182303085,
          0.3220761194308544,
          -0.9234853236877474,
          -2.0334595526466446,
          0.7776897486339085,
          -0.9807388724402262,
          0.6367945434202201,
          1.2749049396021885,
          1.5095220335919506,
          -1.0861773553362357,
          0.2928360719752721,
          -1.0635379361026216,
          0.5682472797409951,
          -0.9001092545463106,
          -0.40166002883131624,
          0.15203268993711191,
          0.5507806044416774,
          -0.406142216960143,
          -1.217479641294983,
          0.6917269041894943,
          -0.911829853729197,
          -1.4102896333460009,
          -1.1411785121505986,
          -0.08111764128140288,
          -1.2905700010948244,
          0.15246509174095685,
          0.5514074713986842,
          -0.5748023680027282,
          -0.17533905191623023,
          0.2750882818594264,
          -0.06060424378975698,
          0.48929733464317215,
          -0.8521185592816384,
          0.14843460207767809,
          0.36699416075794683,
          -0.1763066172519723,
          0.6767034425170794,
          -1.0558797509891396,
          -1.2618686077621954,
          -0.7013920682499339,
          -1.1536332965995175,
          -1.0458008683090156,
          -1.1845502086936621,
          -1.6179944848535541,
          0.027753117132022737,
          -0.03597787859543119,
          -0.6109525033400434,
          -0.006659128206266237,
          -1.9053029934010377,
          -0.1979953952563941,
          -1.970715611393755,
          -0.02374897918555784,
          0.014002628836400495,
          0.9021962904211355,
          -0.2186002004460576,
          0.282987591536079,
          -0.4104780901919894,
          -0.29636306422899106,
          -1.0720115422654701,
          1.4663762784345675,
          0.518632479089715,
          0.643572733575315,
          -0.5238831432693754
         ],
         "xaxis": "x6",
         "yaxis": "y6"
        },
        {
         "line": {
          "color": "rgba(128, 128, 128, 1.0)",
          "dash": "solid",
          "shape": "linear",
          "width": 1.3
         },
         "marker": {
          "size": 2,
          "symbol": "circle"
         },
         "mode": "markers",
         "name": "B",
         "text": "",
         "type": "scatter",
         "x": [
          -0.5197271978581905,
          -0.35702079986068197,
          -0.6751074162834202,
          -0.8290603698439113,
          -1.7620567856664684,
          0.22579158270393165,
          0.00808063258413915,
          -0.6891205740873824,
          1.3805447654586755,
          -0.05653607792480402,
          -1.5578460253123274,
          -1.423940701684458,
          -1.2987087258472758,
          0.6434196202513819,
          -0.06084163519495708,
          -0.3596184597698029,
          -0.1600839748573193,
          0.4351329108949361,
          -0.037248400408046785,
          -0.2963151081901758,
          0.1450065608648587,
          1.1920904328243296,
          0.21667688869310794,
          0.6949961722611162,
          0.9847769996892395,
          -0.0056276016213413355,
          0.5004276282933069,
          0.9065596468268876,
          0.3913797397178053,
          0.5194628533956177,
          0.20180903715178042,
          -0.37102518269253304,
          1.007985221807975,
          1.2693324558378918,
          1.8427949296226573,
          0.5288485335232646,
          -0.6862959392121788,
          1.4338661951430534,
          0.006824530293811063,
          -0.23133092335789665,
          -1.5418740730564444,
          0.8628701890453,
          -0.6483764997573348,
          -1.6029664806541335,
          -0.7940380352821212,
          -1.8951476576766457,
          -0.40041956603237083,
          0.2964911317848158,
          1.5899392607667207,
          0.4312931244279361,
          -1.8737143112380912,
          0.15598014843187272,
          -0.8561011752865471,
          1.205915463923441,
          0.08531616891935535,
          -0.2849719587160101,
          -0.49992372301677185,
          -0.1977389254022585,
          0.9672487407550542,
          -2.1007611967290454,
          2.5758556907585763,
          -1.3544767038489602,
          -0.5482520679537566,
          -0.14250855825853886,
          -0.31395089348855637,
          0.22273658215192293,
          1.6444651798928556,
          -0.1645639143914819,
          -0.4281820820795921,
          -0.44045908292905706,
          1.8124573636463697,
          -2.0269863208849563,
          0.1160077533479532,
          2.0653426029572985,
          -0.5089496389521247,
          -0.12134215070011177,
          0.5399005604153339,
          0.722808318590877,
          0.8803784655030259,
          -1.2061397944554992,
          0.3970338332193433,
          -1.0746922682004565,
          0.4206950439615749,
          -1.4792823364969105,
          -0.5587369720014077,
          -0.15698538565975714,
          -0.8612772787041048,
          0.20900126254664594,
          -0.28515872294607314,
          0.0036611009568451856,
          0.5538991408164484,
          2.926243867371199,
          0.7796294023213519,
          -1.3660970894954452,
          0.25571122605780455,
          -0.7818561652897893,
          -1.235332988189121,
          1.4674049373740403,
          0.25507104998325436,
          0.44431307217121674
         ],
         "xaxis": "x7",
         "y": [
          -0.6750720095040574,
          -0.6236632378538945,
          0.31648115090713874,
          0.006625469958763555,
          1.0701445375157368,
          -1.489988600379836,
          0.7894479972844892,
          0.9173170404148899,
          -0.03236558870315396,
          0.531828866922249,
          0.5886330258336944,
          -1.167976713880715,
          -0.7162100002669591,
          -0.5414831307678194,
          0.7840457615721561,
          -0.46930537859098814,
          -0.7892004007784026,
          0.15190499519329212,
          -0.13488847109679594,
          0.9560305771827087,
          0.9836328201693666,
          1.113069160455684,
          0.3815657149703171,
          1.3561175238140253,
          -1.0417651856920722,
          0.6451841844568005,
          -0.4828578505139144,
          1.5246445699148836,
          0.06537554774633204,
          0.04931160611207707,
          1.9347732812598075,
          -0.8061165056880444,
          1.0744399572724777,
          -0.38326628912131316,
          -1.7407112541746834,
          -1.1789405193606934,
          -1.4075963840229924,
          -0.40096512182303085,
          0.3220761194308544,
          -0.9234853236877474,
          -2.0334595526466446,
          0.7776897486339085,
          -0.9807388724402262,
          0.6367945434202201,
          1.2749049396021885,
          1.5095220335919506,
          -1.0861773553362357,
          0.2928360719752721,
          -1.0635379361026216,
          0.5682472797409951,
          -0.9001092545463106,
          -0.40166002883131624,
          0.15203268993711191,
          0.5507806044416774,
          -0.406142216960143,
          -1.217479641294983,
          0.6917269041894943,
          -0.911829853729197,
          -1.4102896333460009,
          -1.1411785121505986,
          -0.08111764128140288,
          -1.2905700010948244,
          0.15246509174095685,
          0.5514074713986842,
          -0.5748023680027282,
          -0.17533905191623023,
          0.2750882818594264,
          -0.06060424378975698,
          0.48929733464317215,
          -0.8521185592816384,
          0.14843460207767809,
          0.36699416075794683,
          -0.1763066172519723,
          0.6767034425170794,
          -1.0558797509891396,
          -1.2618686077621954,
          -0.7013920682499339,
          -1.1536332965995175,
          -1.0458008683090156,
          -1.1845502086936621,
          -1.6179944848535541,
          0.027753117132022737,
          -0.03597787859543119,
          -0.6109525033400434,
          -0.006659128206266237,
          -1.9053029934010377,
          -0.1979953952563941,
          -1.970715611393755,
          -0.02374897918555784,
          0.014002628836400495,
          0.9021962904211355,
          -0.2186002004460576,
          0.282987591536079,
          -0.4104780901919894,
          -0.29636306422899106,
          -1.0720115422654701,
          1.4663762784345675,
          0.518632479089715,
          0.643572733575315,
          -0.5238831432693754
         ],
         "yaxis": "y7"
        },
        {
         "line": {
          "color": "rgba(128, 128, 128, 1.0)",
          "dash": "solid",
          "shape": "linear",
          "width": 1.3
         },
         "marker": {
          "size": 2,
          "symbol": "circle"
         },
         "mode": "markers",
         "name": "B",
         "text": "",
         "type": "scatter",
         "x": [
          0.18942170519626872,
          -1.2802194731604748,
          0.6349376524449637,
          -0.5504493747747182,
          -0.7052055592080125,
          -0.20621564334914896,
          0.17785259437516168,
          1.0675198214940365,
          0.43278494355204966,
          -1.1979095622506206,
          0.03377723660122678,
          -0.5844708269743173,
          -1.3259672968360285,
          -1.5768099286883155,
          -0.5745729240121211,
          -0.09220113732000862,
          0.045936116104723645,
          1.3791850474193161,
          1.8582293288358758,
          0.3689175248690529,
          0.10787976561289657,
          -0.5595527120732183,
          -1.4134306157866812,
          -0.9627143604904586,
          1.146387094842736,
          1.562875052994166,
          0.12792405719541777,
          0.4692887195328484,
          -1.3292574772861743,
          0.14539836343131582,
          -0.019269658825584794,
          -0.4628263841159192,
          -1.2579807391391045,
          -1.98788066802929,
          0.05924856073748593,
          -0.16311938920992022,
          -0.27527171490132246,
          -0.15839675467227424,
          0.30242416587063015,
          -0.8495425020657296,
          -0.4586702146018039,
          0.08460838908589949,
          -2.394485298556269,
          0.44435681397663634,
          0.2445539721871795,
          -0.21942588916376973,
          0.5593116756375367,
          -0.8382612967116606,
          -0.8801381638643744,
          2.2119414718170582,
          -1.8595165157814173,
          0.17087544617586234,
          0.34126648026356315,
          0.48670860790953857,
          -0.4178684019411358,
          -0.06418358333556115,
          0.7270068870675426,
          0.7734335640748874,
          0.5849299447104188,
          -0.09745409043521285,
          1.0429191705092615,
          -1.7722403207134747,
          -1.8495043259843567,
          -0.7792485620696873,
          1.600271390275063,
          -0.6374166322996777,
          -0.38594804544541017,
          -0.32338577033233395,
          -0.06479085716062354,
          0.4400675832296403,
          -1.0249528267596215,
          -0.7466060800255195,
          -0.35496339596247256,
          1.4494676348279423,
          1.0924735876914018,
          2.257533687084062,
          -1.0196171714000544,
          -0.9570592291527833,
          -1.5508421070797296,
          -1.5378804322035184,
          0.47728934923457966,
          -1.1191201363418921,
          -0.04468329386381377,
          -0.10629130596692232,
          0.3616265796275296,
          0.6891470617042107,
          -1.9189015917736612,
          1.0490773829306952,
          1.5753947224514775,
          0.8358400820596704,
          -1.3948517425353133,
          -0.525009371351308,
          -0.29431542845104475,
          0.3042360977060703,
          -0.6706043911388967,
          0.07321410292070137,
          -0.717643881557239,
          -0.10093489837101675,
          -0.38363037570998165,
          1.9918704037414345
         ],
         "xaxis": "x8",
         "y": [
          -0.6750720095040574,
          -0.6236632378538945,
          0.31648115090713874,
          0.006625469958763555,
          1.0701445375157368,
          -1.489988600379836,
          0.7894479972844892,
          0.9173170404148899,
          -0.03236558870315396,
          0.531828866922249,
          0.5886330258336944,
          -1.167976713880715,
          -0.7162100002669591,
          -0.5414831307678194,
          0.7840457615721561,
          -0.46930537859098814,
          -0.7892004007784026,
          0.15190499519329212,
          -0.13488847109679594,
          0.9560305771827087,
          0.9836328201693666,
          1.113069160455684,
          0.3815657149703171,
          1.3561175238140253,
          -1.0417651856920722,
          0.6451841844568005,
          -0.4828578505139144,
          1.5246445699148836,
          0.06537554774633204,
          0.04931160611207707,
          1.9347732812598075,
          -0.8061165056880444,
          1.0744399572724777,
          -0.38326628912131316,
          -1.7407112541746834,
          -1.1789405193606934,
          -1.4075963840229924,
          -0.40096512182303085,
          0.3220761194308544,
          -0.9234853236877474,
          -2.0334595526466446,
          0.7776897486339085,
          -0.9807388724402262,
          0.6367945434202201,
          1.2749049396021885,
          1.5095220335919506,
          -1.0861773553362357,
          0.2928360719752721,
          -1.0635379361026216,
          0.5682472797409951,
          -0.9001092545463106,
          -0.40166002883131624,
          0.15203268993711191,
          0.5507806044416774,
          -0.406142216960143,
          -1.217479641294983,
          0.6917269041894943,
          -0.911829853729197,
          -1.4102896333460009,
          -1.1411785121505986,
          -0.08111764128140288,
          -1.2905700010948244,
          0.15246509174095685,
          0.5514074713986842,
          -0.5748023680027282,
          -0.17533905191623023,
          0.2750882818594264,
          -0.06060424378975698,
          0.48929733464317215,
          -0.8521185592816384,
          0.14843460207767809,
          0.36699416075794683,
          -0.1763066172519723,
          0.6767034425170794,
          -1.0558797509891396,
          -1.2618686077621954,
          -0.7013920682499339,
          -1.1536332965995175,
          -1.0458008683090156,
          -1.1845502086936621,
          -1.6179944848535541,
          0.027753117132022737,
          -0.03597787859543119,
          -0.6109525033400434,
          -0.006659128206266237,
          -1.9053029934010377,
          -0.1979953952563941,
          -1.970715611393755,
          -0.02374897918555784,
          0.014002628836400495,
          0.9021962904211355,
          -0.2186002004460576,
          0.282987591536079,
          -0.4104780901919894,
          -0.29636306422899106,
          -1.0720115422654701,
          1.4663762784345675,
          0.518632479089715,
          0.643572733575315,
          -0.5238831432693754
         ],
         "yaxis": "y8"
        },
        {
         "line": {
          "color": "rgba(128, 128, 128, 1.0)",
          "dash": "solid",
          "shape": "linear",
          "width": 1.3
         },
         "marker": {
          "size": 2,
          "symbol": "circle"
         },
         "mode": "markers",
         "name": "C",
         "text": "",
         "type": "scatter",
         "x": [
          -0.47994138356102345,
          0.16000001454505774,
          1.2996849606416845,
          -0.3459934331228707,
          1.0368948135116955,
          0.07946965327892691,
          0.02947178831828827,
          -0.26772555546117177,
          -2.0314116116032723,
          -0.7776726685287725,
          -0.6632265573499633,
          0.040338171293861545,
          0.03099329497456494,
          1.30667900546974,
          -0.037687242533143366,
          0.73556867266476,
          0.1957228240044999,
          -1.0482986804628374,
          1.0503916976168206,
          0.3384999073480586,
          -0.14838682865663155,
          -1.849858632992489,
          -1.1910865283155898,
          1.5553865160982832,
          0.986449102796202,
          0.07626968937010195,
          -0.7144282219471334,
          -1.95459396507943,
          0.5166017932497404,
          -0.1272350411517917,
          0.3651824330336992,
          0.629568772242452,
          0.2238905949170703,
          -0.4080627997126574,
          0.2459532769412293,
          -1.4375822191198364,
          1.1953127234968812,
          0.20642350123956282,
          -0.6118149783961775,
          -0.3516522754108534,
          0.3864587743634232,
          0.5578874059130349,
          -1.2239437975712937,
          -0.5751253948097974,
          -0.8161879128352467,
          0.728310144983823,
          1.0285518125814623,
          -0.061080867479822096,
          0.5456049906240891,
          1.6757326714528262,
          1.1259534774275948,
          2.1679146833244065,
          0.3627705444531118,
          -0.2007163005561877,
          1.5857603106850822,
          -0.14387374650148002,
          0.6711681353081573,
          -2.077686313631864,
          -0.8339634788937905,
          -1.5147815926076582,
          -0.2426824940955602,
          -0.05900561048931461,
          -0.5015572453005709,
          -1.02382765079118,
          0.6594628547687229,
          -0.23529898779933406,
          0.989301732841858,
          1.0913142676056113,
          0.9047811195866384,
          2.171823959268939,
          0.8660901043897223,
          -1.009123777500051,
          -1.2739552439273125,
          -0.8003558594463309,
          -0.7227937984759449,
          -0.4548814893006097,
          -1.2973334617697536,
          -0.40436366793090245,
          -0.5467723352316892,
          1.3324985767546997,
          -0.3000650152937515,
          -2.4463874579688456,
          0.5366264052442478,
          0.8394154584497169,
          -0.47075436156584355,
          0.46846103114383303,
          1.7485010794299531,
          -1.3189454373300313,
          -0.29883060294564007,
          0.09313380405100766,
          1.2964129012060845,
          1.6132918404264132,
          -0.11654004163312816,
          -0.3113907853250452,
          0.03577164272941658,
          -0.22212739215972332,
          0.19790220317768603,
          0.23463768157652232,
          -0.3274922195966929,
          -0.3594549556767431
         ],
         "xaxis": "x9",
         "y": [
          -0.5197271978581905,
          -0.35702079986068197,
          -0.6751074162834202,
          -0.8290603698439113,
          -1.7620567856664684,
          0.22579158270393165,
          0.00808063258413915,
          -0.6891205740873824,
          1.3805447654586755,
          -0.05653607792480402,
          -1.5578460253123274,
          -1.423940701684458,
          -1.2987087258472758,
          0.6434196202513819,
          -0.06084163519495708,
          -0.3596184597698029,
          -0.1600839748573193,
          0.4351329108949361,
          -0.037248400408046785,
          -0.2963151081901758,
          0.1450065608648587,
          1.1920904328243296,
          0.21667688869310794,
          0.6949961722611162,
          0.9847769996892395,
          -0.0056276016213413355,
          0.5004276282933069,
          0.9065596468268876,
          0.3913797397178053,
          0.5194628533956177,
          0.20180903715178042,
          -0.37102518269253304,
          1.007985221807975,
          1.2693324558378918,
          1.8427949296226573,
          0.5288485335232646,
          -0.6862959392121788,
          1.4338661951430534,
          0.006824530293811063,
          -0.23133092335789665,
          -1.5418740730564444,
          0.8628701890453,
          -0.6483764997573348,
          -1.6029664806541335,
          -0.7940380352821212,
          -1.8951476576766457,
          -0.40041956603237083,
          0.2964911317848158,
          1.5899392607667207,
          0.4312931244279361,
          -1.8737143112380912,
          0.15598014843187272,
          -0.8561011752865471,
          1.205915463923441,
          0.08531616891935535,
          -0.2849719587160101,
          -0.49992372301677185,
          -0.1977389254022585,
          0.9672487407550542,
          -2.1007611967290454,
          2.5758556907585763,
          -1.3544767038489602,
          -0.5482520679537566,
          -0.14250855825853886,
          -0.31395089348855637,
          0.22273658215192293,
          1.6444651798928556,
          -0.1645639143914819,
          -0.4281820820795921,
          -0.44045908292905706,
          1.8124573636463697,
          -2.0269863208849563,
          0.1160077533479532,
          2.0653426029572985,
          -0.5089496389521247,
          -0.12134215070011177,
          0.5399005604153339,
          0.722808318590877,
          0.8803784655030259,
          -1.2061397944554992,
          0.3970338332193433,
          -1.0746922682004565,
          0.4206950439615749,
          -1.4792823364969105,
          -0.5587369720014077,
          -0.15698538565975714,
          -0.8612772787041048,
          0.20900126254664594,
          -0.28515872294607314,
          0.0036611009568451856,
          0.5538991408164484,
          2.926243867371199,
          0.7796294023213519,
          -1.3660970894954452,
          0.25571122605780455,
          -0.7818561652897893,
          -1.235332988189121,
          1.4674049373740403,
          0.25507104998325436,
          0.44431307217121674
         ],
         "yaxis": "y9"
        },
        {
         "line": {
          "color": "rgba(128, 128, 128, 1.0)",
          "dash": "solid",
          "shape": "linear",
          "width": 1.3
         },
         "marker": {
          "size": 2,
          "symbol": "circle"
         },
         "mode": "markers",
         "name": "C",
         "text": "",
         "type": "scatter",
         "x": [
          -0.6750720095040574,
          -0.6236632378538945,
          0.31648115090713874,
          0.006625469958763555,
          1.0701445375157368,
          -1.489988600379836,
          0.7894479972844892,
          0.9173170404148899,
          -0.03236558870315396,
          0.531828866922249,
          0.5886330258336944,
          -1.167976713880715,
          -0.7162100002669591,
          -0.5414831307678194,
          0.7840457615721561,
          -0.46930537859098814,
          -0.7892004007784026,
          0.15190499519329212,
          -0.13488847109679594,
          0.9560305771827087,
          0.9836328201693666,
          1.113069160455684,
          0.3815657149703171,
          1.3561175238140253,
          -1.0417651856920722,
          0.6451841844568005,
          -0.4828578505139144,
          1.5246445699148836,
          0.06537554774633204,
          0.04931160611207707,
          1.9347732812598075,
          -0.8061165056880444,
          1.0744399572724777,
          -0.38326628912131316,
          -1.7407112541746834,
          -1.1789405193606934,
          -1.4075963840229924,
          -0.40096512182303085,
          0.3220761194308544,
          -0.9234853236877474,
          -2.0334595526466446,
          0.7776897486339085,
          -0.9807388724402262,
          0.6367945434202201,
          1.2749049396021885,
          1.5095220335919506,
          -1.0861773553362357,
          0.2928360719752721,
          -1.0635379361026216,
          0.5682472797409951,
          -0.9001092545463106,
          -0.40166002883131624,
          0.15203268993711191,
          0.5507806044416774,
          -0.406142216960143,
          -1.217479641294983,
          0.6917269041894943,
          -0.911829853729197,
          -1.4102896333460009,
          -1.1411785121505986,
          -0.08111764128140288,
          -1.2905700010948244,
          0.15246509174095685,
          0.5514074713986842,
          -0.5748023680027282,
          -0.17533905191623023,
          0.2750882818594264,
          -0.06060424378975698,
          0.48929733464317215,
          -0.8521185592816384,
          0.14843460207767809,
          0.36699416075794683,
          -0.1763066172519723,
          0.6767034425170794,
          -1.0558797509891396,
          -1.2618686077621954,
          -0.7013920682499339,
          -1.1536332965995175,
          -1.0458008683090156,
          -1.1845502086936621,
          -1.6179944848535541,
          0.027753117132022737,
          -0.03597787859543119,
          -0.6109525033400434,
          -0.006659128206266237,
          -1.9053029934010377,
          -0.1979953952563941,
          -1.970715611393755,
          -0.02374897918555784,
          0.014002628836400495,
          0.9021962904211355,
          -0.2186002004460576,
          0.282987591536079,
          -0.4104780901919894,
          -0.29636306422899106,
          -1.0720115422654701,
          1.4663762784345675,
          0.518632479089715,
          0.643572733575315,
          -0.5238831432693754
         ],
         "xaxis": "x10",
         "y": [
          -0.5197271978581905,
          -0.35702079986068197,
          -0.6751074162834202,
          -0.8290603698439113,
          -1.7620567856664684,
          0.22579158270393165,
          0.00808063258413915,
          -0.6891205740873824,
          1.3805447654586755,
          -0.05653607792480402,
          -1.5578460253123274,
          -1.423940701684458,
          -1.2987087258472758,
          0.6434196202513819,
          -0.06084163519495708,
          -0.3596184597698029,
          -0.1600839748573193,
          0.4351329108949361,
          -0.037248400408046785,
          -0.2963151081901758,
          0.1450065608648587,
          1.1920904328243296,
          0.21667688869310794,
          0.6949961722611162,
          0.9847769996892395,
          -0.0056276016213413355,
          0.5004276282933069,
          0.9065596468268876,
          0.3913797397178053,
          0.5194628533956177,
          0.20180903715178042,
          -0.37102518269253304,
          1.007985221807975,
          1.2693324558378918,
          1.8427949296226573,
          0.5288485335232646,
          -0.6862959392121788,
          1.4338661951430534,
          0.006824530293811063,
          -0.23133092335789665,
          -1.5418740730564444,
          0.8628701890453,
          -0.6483764997573348,
          -1.6029664806541335,
          -0.7940380352821212,
          -1.8951476576766457,
          -0.40041956603237083,
          0.2964911317848158,
          1.5899392607667207,
          0.4312931244279361,
          -1.8737143112380912,
          0.15598014843187272,
          -0.8561011752865471,
          1.205915463923441,
          0.08531616891935535,
          -0.2849719587160101,
          -0.49992372301677185,
          -0.1977389254022585,
          0.9672487407550542,
          -2.1007611967290454,
          2.5758556907585763,
          -1.3544767038489602,
          -0.5482520679537566,
          -0.14250855825853886,
          -0.31395089348855637,
          0.22273658215192293,
          1.6444651798928556,
          -0.1645639143914819,
          -0.4281820820795921,
          -0.44045908292905706,
          1.8124573636463697,
          -2.0269863208849563,
          0.1160077533479532,
          2.0653426029572985,
          -0.5089496389521247,
          -0.12134215070011177,
          0.5399005604153339,
          0.722808318590877,
          0.8803784655030259,
          -1.2061397944554992,
          0.3970338332193433,
          -1.0746922682004565,
          0.4206950439615749,
          -1.4792823364969105,
          -0.5587369720014077,
          -0.15698538565975714,
          -0.8612772787041048,
          0.20900126254664594,
          -0.28515872294607314,
          0.0036611009568451856,
          0.5538991408164484,
          2.926243867371199,
          0.7796294023213519,
          -1.3660970894954452,
          0.25571122605780455,
          -0.7818561652897893,
          -1.235332988189121,
          1.4674049373740403,
          0.25507104998325436,
          0.44431307217121674
         ],
         "yaxis": "y10"
        },
        {
         "histfunc": "count",
         "histnorm": "",
         "marker": {
          "color": "rgba(50, 171, 96, 1.0)",
          "line": {
           "color": "#4D5663",
           "width": 1.3
          }
         },
         "name": "C",
         "nbinsx": 10,
         "opacity": 0.8,
         "orientation": "v",
         "type": "histogram",
         "x": [
          -0.5197271978581905,
          -0.35702079986068197,
          -0.6751074162834202,
          -0.8290603698439113,
          -1.7620567856664684,
          0.22579158270393165,
          0.00808063258413915,
          -0.6891205740873824,
          1.3805447654586755,
          -0.05653607792480402,
          -1.5578460253123274,
          -1.423940701684458,
          -1.2987087258472758,
          0.6434196202513819,
          -0.06084163519495708,
          -0.3596184597698029,
          -0.1600839748573193,
          0.4351329108949361,
          -0.037248400408046785,
          -0.2963151081901758,
          0.1450065608648587,
          1.1920904328243296,
          0.21667688869310794,
          0.6949961722611162,
          0.9847769996892395,
          -0.0056276016213413355,
          0.5004276282933069,
          0.9065596468268876,
          0.3913797397178053,
          0.5194628533956177,
          0.20180903715178042,
          -0.37102518269253304,
          1.007985221807975,
          1.2693324558378918,
          1.8427949296226573,
          0.5288485335232646,
          -0.6862959392121788,
          1.4338661951430534,
          0.006824530293811063,
          -0.23133092335789665,
          -1.5418740730564444,
          0.8628701890453,
          -0.6483764997573348,
          -1.6029664806541335,
          -0.7940380352821212,
          -1.8951476576766457,
          -0.40041956603237083,
          0.2964911317848158,
          1.5899392607667207,
          0.4312931244279361,
          -1.8737143112380912,
          0.15598014843187272,
          -0.8561011752865471,
          1.205915463923441,
          0.08531616891935535,
          -0.2849719587160101,
          -0.49992372301677185,
          -0.1977389254022585,
          0.9672487407550542,
          -2.1007611967290454,
          2.5758556907585763,
          -1.3544767038489602,
          -0.5482520679537566,
          -0.14250855825853886,
          -0.31395089348855637,
          0.22273658215192293,
          1.6444651798928556,
          -0.1645639143914819,
          -0.4281820820795921,
          -0.44045908292905706,
          1.8124573636463697,
          -2.0269863208849563,
          0.1160077533479532,
          2.0653426029572985,
          -0.5089496389521247,
          -0.12134215070011177,
          0.5399005604153339,
          0.722808318590877,
          0.8803784655030259,
          -1.2061397944554992,
          0.3970338332193433,
          -1.0746922682004565,
          0.4206950439615749,
          -1.4792823364969105,
          -0.5587369720014077,
          -0.15698538565975714,
          -0.8612772787041048,
          0.20900126254664594,
          -0.28515872294607314,
          0.0036611009568451856,
          0.5538991408164484,
          2.926243867371199,
          0.7796294023213519,
          -1.3660970894954452,
          0.25571122605780455,
          -0.7818561652897893,
          -1.235332988189121,
          1.4674049373740403,
          0.25507104998325436,
          0.44431307217121674
         ],
         "xaxis": "x11",
         "yaxis": "y11"
        },
        {
         "line": {
          "color": "rgba(128, 128, 128, 1.0)",
          "dash": "solid",
          "shape": "linear",
          "width": 1.3
         },
         "marker": {
          "size": 2,
          "symbol": "circle"
         },
         "mode": "markers",
         "name": "C",
         "text": "",
         "type": "scatter",
         "x": [
          0.18942170519626872,
          -1.2802194731604748,
          0.6349376524449637,
          -0.5504493747747182,
          -0.7052055592080125,
          -0.20621564334914896,
          0.17785259437516168,
          1.0675198214940365,
          0.43278494355204966,
          -1.1979095622506206,
          0.03377723660122678,
          -0.5844708269743173,
          -1.3259672968360285,
          -1.5768099286883155,
          -0.5745729240121211,
          -0.09220113732000862,
          0.045936116104723645,
          1.3791850474193161,
          1.8582293288358758,
          0.3689175248690529,
          0.10787976561289657,
          -0.5595527120732183,
          -1.4134306157866812,
          -0.9627143604904586,
          1.146387094842736,
          1.562875052994166,
          0.12792405719541777,
          0.4692887195328484,
          -1.3292574772861743,
          0.14539836343131582,
          -0.019269658825584794,
          -0.4628263841159192,
          -1.2579807391391045,
          -1.98788066802929,
          0.05924856073748593,
          -0.16311938920992022,
          -0.27527171490132246,
          -0.15839675467227424,
          0.30242416587063015,
          -0.8495425020657296,
          -0.4586702146018039,
          0.08460838908589949,
          -2.394485298556269,
          0.44435681397663634,
          0.2445539721871795,
          -0.21942588916376973,
          0.5593116756375367,
          -0.8382612967116606,
          -0.8801381638643744,
          2.2119414718170582,
          -1.8595165157814173,
          0.17087544617586234,
          0.34126648026356315,
          0.48670860790953857,
          -0.4178684019411358,
          -0.06418358333556115,
          0.7270068870675426,
          0.7734335640748874,
          0.5849299447104188,
          -0.09745409043521285,
          1.0429191705092615,
          -1.7722403207134747,
          -1.8495043259843567,
          -0.7792485620696873,
          1.600271390275063,
          -0.6374166322996777,
          -0.38594804544541017,
          -0.32338577033233395,
          -0.06479085716062354,
          0.4400675832296403,
          -1.0249528267596215,
          -0.7466060800255195,
          -0.35496339596247256,
          1.4494676348279423,
          1.0924735876914018,
          2.257533687084062,
          -1.0196171714000544,
          -0.9570592291527833,
          -1.5508421070797296,
          -1.5378804322035184,
          0.47728934923457966,
          -1.1191201363418921,
          -0.04468329386381377,
          -0.10629130596692232,
          0.3616265796275296,
          0.6891470617042107,
          -1.9189015917736612,
          1.0490773829306952,
          1.5753947224514775,
          0.8358400820596704,
          -1.3948517425353133,
          -0.525009371351308,
          -0.29431542845104475,
          0.3042360977060703,
          -0.6706043911388967,
          0.07321410292070137,
          -0.717643881557239,
          -0.10093489837101675,
          -0.38363037570998165,
          1.9918704037414345
         ],
         "xaxis": "x12",
         "y": [
          -0.5197271978581905,
          -0.35702079986068197,
          -0.6751074162834202,
          -0.8290603698439113,
          -1.7620567856664684,
          0.22579158270393165,
          0.00808063258413915,
          -0.6891205740873824,
          1.3805447654586755,
          -0.05653607792480402,
          -1.5578460253123274,
          -1.423940701684458,
          -1.2987087258472758,
          0.6434196202513819,
          -0.06084163519495708,
          -0.3596184597698029,
          -0.1600839748573193,
          0.4351329108949361,
          -0.037248400408046785,
          -0.2963151081901758,
          0.1450065608648587,
          1.1920904328243296,
          0.21667688869310794,
          0.6949961722611162,
          0.9847769996892395,
          -0.0056276016213413355,
          0.5004276282933069,
          0.9065596468268876,
          0.3913797397178053,
          0.5194628533956177,
          0.20180903715178042,
          -0.37102518269253304,
          1.007985221807975,
          1.2693324558378918,
          1.8427949296226573,
          0.5288485335232646,
          -0.6862959392121788,
          1.4338661951430534,
          0.006824530293811063,
          -0.23133092335789665,
          -1.5418740730564444,
          0.8628701890453,
          -0.6483764997573348,
          -1.6029664806541335,
          -0.7940380352821212,
          -1.8951476576766457,
          -0.40041956603237083,
          0.2964911317848158,
          1.5899392607667207,
          0.4312931244279361,
          -1.8737143112380912,
          0.15598014843187272,
          -0.8561011752865471,
          1.205915463923441,
          0.08531616891935535,
          -0.2849719587160101,
          -0.49992372301677185,
          -0.1977389254022585,
          0.9672487407550542,
          -2.1007611967290454,
          2.5758556907585763,
          -1.3544767038489602,
          -0.5482520679537566,
          -0.14250855825853886,
          -0.31395089348855637,
          0.22273658215192293,
          1.6444651798928556,
          -0.1645639143914819,
          -0.4281820820795921,
          -0.44045908292905706,
          1.8124573636463697,
          -2.0269863208849563,
          0.1160077533479532,
          2.0653426029572985,
          -0.5089496389521247,
          -0.12134215070011177,
          0.5399005604153339,
          0.722808318590877,
          0.8803784655030259,
          -1.2061397944554992,
          0.3970338332193433,
          -1.0746922682004565,
          0.4206950439615749,
          -1.4792823364969105,
          -0.5587369720014077,
          -0.15698538565975714,
          -0.8612772787041048,
          0.20900126254664594,
          -0.28515872294607314,
          0.0036611009568451856,
          0.5538991408164484,
          2.926243867371199,
          0.7796294023213519,
          -1.3660970894954452,
          0.25571122605780455,
          -0.7818561652897893,
          -1.235332988189121,
          1.4674049373740403,
          0.25507104998325436,
          0.44431307217121674
         ],
         "yaxis": "y12"
        },
        {
         "line": {
          "color": "rgba(128, 128, 128, 1.0)",
          "dash": "solid",
          "shape": "linear",
          "width": 1.3
         },
         "marker": {
          "size": 2,
          "symbol": "circle"
         },
         "mode": "markers",
         "name": "D",
         "text": "",
         "type": "scatter",
         "x": [
          -0.47994138356102345,
          0.16000001454505774,
          1.2996849606416845,
          -0.3459934331228707,
          1.0368948135116955,
          0.07946965327892691,
          0.02947178831828827,
          -0.26772555546117177,
          -2.0314116116032723,
          -0.7776726685287725,
          -0.6632265573499633,
          0.040338171293861545,
          0.03099329497456494,
          1.30667900546974,
          -0.037687242533143366,
          0.73556867266476,
          0.1957228240044999,
          -1.0482986804628374,
          1.0503916976168206,
          0.3384999073480586,
          -0.14838682865663155,
          -1.849858632992489,
          -1.1910865283155898,
          1.5553865160982832,
          0.986449102796202,
          0.07626968937010195,
          -0.7144282219471334,
          -1.95459396507943,
          0.5166017932497404,
          -0.1272350411517917,
          0.3651824330336992,
          0.629568772242452,
          0.2238905949170703,
          -0.4080627997126574,
          0.2459532769412293,
          -1.4375822191198364,
          1.1953127234968812,
          0.20642350123956282,
          -0.6118149783961775,
          -0.3516522754108534,
          0.3864587743634232,
          0.5578874059130349,
          -1.2239437975712937,
          -0.5751253948097974,
          -0.8161879128352467,
          0.728310144983823,
          1.0285518125814623,
          -0.061080867479822096,
          0.5456049906240891,
          1.6757326714528262,
          1.1259534774275948,
          2.1679146833244065,
          0.3627705444531118,
          -0.2007163005561877,
          1.5857603106850822,
          -0.14387374650148002,
          0.6711681353081573,
          -2.077686313631864,
          -0.8339634788937905,
          -1.5147815926076582,
          -0.2426824940955602,
          -0.05900561048931461,
          -0.5015572453005709,
          -1.02382765079118,
          0.6594628547687229,
          -0.23529898779933406,
          0.989301732841858,
          1.0913142676056113,
          0.9047811195866384,
          2.171823959268939,
          0.8660901043897223,
          -1.009123777500051,
          -1.2739552439273125,
          -0.8003558594463309,
          -0.7227937984759449,
          -0.4548814893006097,
          -1.2973334617697536,
          -0.40436366793090245,
          -0.5467723352316892,
          1.3324985767546997,
          -0.3000650152937515,
          -2.4463874579688456,
          0.5366264052442478,
          0.8394154584497169,
          -0.47075436156584355,
          0.46846103114383303,
          1.7485010794299531,
          -1.3189454373300313,
          -0.29883060294564007,
          0.09313380405100766,
          1.2964129012060845,
          1.6132918404264132,
          -0.11654004163312816,
          -0.3113907853250452,
          0.03577164272941658,
          -0.22212739215972332,
          0.19790220317768603,
          0.23463768157652232,
          -0.3274922195966929,
          -0.3594549556767431
         ],
         "xaxis": "x13",
         "y": [
          0.18942170519626872,
          -1.2802194731604748,
          0.6349376524449637,
          -0.5504493747747182,
          -0.7052055592080125,
          -0.20621564334914896,
          0.17785259437516168,
          1.0675198214940365,
          0.43278494355204966,
          -1.1979095622506206,
          0.03377723660122678,
          -0.5844708269743173,
          -1.3259672968360285,
          -1.5768099286883155,
          -0.5745729240121211,
          -0.09220113732000862,
          0.045936116104723645,
          1.3791850474193161,
          1.8582293288358758,
          0.3689175248690529,
          0.10787976561289657,
          -0.5595527120732183,
          -1.4134306157866812,
          -0.9627143604904586,
          1.146387094842736,
          1.562875052994166,
          0.12792405719541777,
          0.4692887195328484,
          -1.3292574772861743,
          0.14539836343131582,
          -0.019269658825584794,
          -0.4628263841159192,
          -1.2579807391391045,
          -1.98788066802929,
          0.05924856073748593,
          -0.16311938920992022,
          -0.27527171490132246,
          -0.15839675467227424,
          0.30242416587063015,
          -0.8495425020657296,
          -0.4586702146018039,
          0.08460838908589949,
          -2.394485298556269,
          0.44435681397663634,
          0.2445539721871795,
          -0.21942588916376973,
          0.5593116756375367,
          -0.8382612967116606,
          -0.8801381638643744,
          2.2119414718170582,
          -1.8595165157814173,
          0.17087544617586234,
          0.34126648026356315,
          0.48670860790953857,
          -0.4178684019411358,
          -0.06418358333556115,
          0.7270068870675426,
          0.7734335640748874,
          0.5849299447104188,
          -0.09745409043521285,
          1.0429191705092615,
          -1.7722403207134747,
          -1.8495043259843567,
          -0.7792485620696873,
          1.600271390275063,
          -0.6374166322996777,
          -0.38594804544541017,
          -0.32338577033233395,
          -0.06479085716062354,
          0.4400675832296403,
          -1.0249528267596215,
          -0.7466060800255195,
          -0.35496339596247256,
          1.4494676348279423,
          1.0924735876914018,
          2.257533687084062,
          -1.0196171714000544,
          -0.9570592291527833,
          -1.5508421070797296,
          -1.5378804322035184,
          0.47728934923457966,
          -1.1191201363418921,
          -0.04468329386381377,
          -0.10629130596692232,
          0.3616265796275296,
          0.6891470617042107,
          -1.9189015917736612,
          1.0490773829306952,
          1.5753947224514775,
          0.8358400820596704,
          -1.3948517425353133,
          -0.525009371351308,
          -0.29431542845104475,
          0.3042360977060703,
          -0.6706043911388967,
          0.07321410292070137,
          -0.717643881557239,
          -0.10093489837101675,
          -0.38363037570998165,
          1.9918704037414345
         ],
         "yaxis": "y13"
        },
        {
         "line": {
          "color": "rgba(128, 128, 128, 1.0)",
          "dash": "solid",
          "shape": "linear",
          "width": 1.3
         },
         "marker": {
          "size": 2,
          "symbol": "circle"
         },
         "mode": "markers",
         "name": "D",
         "text": "",
         "type": "scatter",
         "x": [
          -0.6750720095040574,
          -0.6236632378538945,
          0.31648115090713874,
          0.006625469958763555,
          1.0701445375157368,
          -1.489988600379836,
          0.7894479972844892,
          0.9173170404148899,
          -0.03236558870315396,
          0.531828866922249,
          0.5886330258336944,
          -1.167976713880715,
          -0.7162100002669591,
          -0.5414831307678194,
          0.7840457615721561,
          -0.46930537859098814,
          -0.7892004007784026,
          0.15190499519329212,
          -0.13488847109679594,
          0.9560305771827087,
          0.9836328201693666,
          1.113069160455684,
          0.3815657149703171,
          1.3561175238140253,
          -1.0417651856920722,
          0.6451841844568005,
          -0.4828578505139144,
          1.5246445699148836,
          0.06537554774633204,
          0.04931160611207707,
          1.9347732812598075,
          -0.8061165056880444,
          1.0744399572724777,
          -0.38326628912131316,
          -1.7407112541746834,
          -1.1789405193606934,
          -1.4075963840229924,
          -0.40096512182303085,
          0.3220761194308544,
          -0.9234853236877474,
          -2.0334595526466446,
          0.7776897486339085,
          -0.9807388724402262,
          0.6367945434202201,
          1.2749049396021885,
          1.5095220335919506,
          -1.0861773553362357,
          0.2928360719752721,
          -1.0635379361026216,
          0.5682472797409951,
          -0.9001092545463106,
          -0.40166002883131624,
          0.15203268993711191,
          0.5507806044416774,
          -0.406142216960143,
          -1.217479641294983,
          0.6917269041894943,
          -0.911829853729197,
          -1.4102896333460009,
          -1.1411785121505986,
          -0.08111764128140288,
          -1.2905700010948244,
          0.15246509174095685,
          0.5514074713986842,
          -0.5748023680027282,
          -0.17533905191623023,
          0.2750882818594264,
          -0.06060424378975698,
          0.48929733464317215,
          -0.8521185592816384,
          0.14843460207767809,
          0.36699416075794683,
          -0.1763066172519723,
          0.6767034425170794,
          -1.0558797509891396,
          -1.2618686077621954,
          -0.7013920682499339,
          -1.1536332965995175,
          -1.0458008683090156,
          -1.1845502086936621,
          -1.6179944848535541,
          0.027753117132022737,
          -0.03597787859543119,
          -0.6109525033400434,
          -0.006659128206266237,
          -1.9053029934010377,
          -0.1979953952563941,
          -1.970715611393755,
          -0.02374897918555784,
          0.014002628836400495,
          0.9021962904211355,
          -0.2186002004460576,
          0.282987591536079,
          -0.4104780901919894,
          -0.29636306422899106,
          -1.0720115422654701,
          1.4663762784345675,
          0.518632479089715,
          0.643572733575315,
          -0.5238831432693754
         ],
         "xaxis": "x14",
         "y": [
          0.18942170519626872,
          -1.2802194731604748,
          0.6349376524449637,
          -0.5504493747747182,
          -0.7052055592080125,
          -0.20621564334914896,
          0.17785259437516168,
          1.0675198214940365,
          0.43278494355204966,
          -1.1979095622506206,
          0.03377723660122678,
          -0.5844708269743173,
          -1.3259672968360285,
          -1.5768099286883155,
          -0.5745729240121211,
          -0.09220113732000862,
          0.045936116104723645,
          1.3791850474193161,
          1.8582293288358758,
          0.3689175248690529,
          0.10787976561289657,
          -0.5595527120732183,
          -1.4134306157866812,
          -0.9627143604904586,
          1.146387094842736,
          1.562875052994166,
          0.12792405719541777,
          0.4692887195328484,
          -1.3292574772861743,
          0.14539836343131582,
          -0.019269658825584794,
          -0.4628263841159192,
          -1.2579807391391045,
          -1.98788066802929,
          0.05924856073748593,
          -0.16311938920992022,
          -0.27527171490132246,
          -0.15839675467227424,
          0.30242416587063015,
          -0.8495425020657296,
          -0.4586702146018039,
          0.08460838908589949,
          -2.394485298556269,
          0.44435681397663634,
          0.2445539721871795,
          -0.21942588916376973,
          0.5593116756375367,
          -0.8382612967116606,
          -0.8801381638643744,
          2.2119414718170582,
          -1.8595165157814173,
          0.17087544617586234,
          0.34126648026356315,
          0.48670860790953857,
          -0.4178684019411358,
          -0.06418358333556115,
          0.7270068870675426,
          0.7734335640748874,
          0.5849299447104188,
          -0.09745409043521285,
          1.0429191705092615,
          -1.7722403207134747,
          -1.8495043259843567,
          -0.7792485620696873,
          1.600271390275063,
          -0.6374166322996777,
          -0.38594804544541017,
          -0.32338577033233395,
          -0.06479085716062354,
          0.4400675832296403,
          -1.0249528267596215,
          -0.7466060800255195,
          -0.35496339596247256,
          1.4494676348279423,
          1.0924735876914018,
          2.257533687084062,
          -1.0196171714000544,
          -0.9570592291527833,
          -1.5508421070797296,
          -1.5378804322035184,
          0.47728934923457966,
          -1.1191201363418921,
          -0.04468329386381377,
          -0.10629130596692232,
          0.3616265796275296,
          0.6891470617042107,
          -1.9189015917736612,
          1.0490773829306952,
          1.5753947224514775,
          0.8358400820596704,
          -1.3948517425353133,
          -0.525009371351308,
          -0.29431542845104475,
          0.3042360977060703,
          -0.6706043911388967,
          0.07321410292070137,
          -0.717643881557239,
          -0.10093489837101675,
          -0.38363037570998165,
          1.9918704037414345
         ],
         "yaxis": "y14"
        },
        {
         "line": {
          "color": "rgba(128, 128, 128, 1.0)",
          "dash": "solid",
          "shape": "linear",
          "width": 1.3
         },
         "marker": {
          "size": 2,
          "symbol": "circle"
         },
         "mode": "markers",
         "name": "D",
         "text": "",
         "type": "scatter",
         "x": [
          -0.5197271978581905,
          -0.35702079986068197,
          -0.6751074162834202,
          -0.8290603698439113,
          -1.7620567856664684,
          0.22579158270393165,
          0.00808063258413915,
          -0.6891205740873824,
          1.3805447654586755,
          -0.05653607792480402,
          -1.5578460253123274,
          -1.423940701684458,
          -1.2987087258472758,
          0.6434196202513819,
          -0.06084163519495708,
          -0.3596184597698029,
          -0.1600839748573193,
          0.4351329108949361,
          -0.037248400408046785,
          -0.2963151081901758,
          0.1450065608648587,
          1.1920904328243296,
          0.21667688869310794,
          0.6949961722611162,
          0.9847769996892395,
          -0.0056276016213413355,
          0.5004276282933069,
          0.9065596468268876,
          0.3913797397178053,
          0.5194628533956177,
          0.20180903715178042,
          -0.37102518269253304,
          1.007985221807975,
          1.2693324558378918,
          1.8427949296226573,
          0.5288485335232646,
          -0.6862959392121788,
          1.4338661951430534,
          0.006824530293811063,
          -0.23133092335789665,
          -1.5418740730564444,
          0.8628701890453,
          -0.6483764997573348,
          -1.6029664806541335,
          -0.7940380352821212,
          -1.8951476576766457,
          -0.40041956603237083,
          0.2964911317848158,
          1.5899392607667207,
          0.4312931244279361,
          -1.8737143112380912,
          0.15598014843187272,
          -0.8561011752865471,
          1.205915463923441,
          0.08531616891935535,
          -0.2849719587160101,
          -0.49992372301677185,
          -0.1977389254022585,
          0.9672487407550542,
          -2.1007611967290454,
          2.5758556907585763,
          -1.3544767038489602,
          -0.5482520679537566,
          -0.14250855825853886,
          -0.31395089348855637,
          0.22273658215192293,
          1.6444651798928556,
          -0.1645639143914819,
          -0.4281820820795921,
          -0.44045908292905706,
          1.8124573636463697,
          -2.0269863208849563,
          0.1160077533479532,
          2.0653426029572985,
          -0.5089496389521247,
          -0.12134215070011177,
          0.5399005604153339,
          0.722808318590877,
          0.8803784655030259,
          -1.2061397944554992,
          0.3970338332193433,
          -1.0746922682004565,
          0.4206950439615749,
          -1.4792823364969105,
          -0.5587369720014077,
          -0.15698538565975714,
          -0.8612772787041048,
          0.20900126254664594,
          -0.28515872294607314,
          0.0036611009568451856,
          0.5538991408164484,
          2.926243867371199,
          0.7796294023213519,
          -1.3660970894954452,
          0.25571122605780455,
          -0.7818561652897893,
          -1.235332988189121,
          1.4674049373740403,
          0.25507104998325436,
          0.44431307217121674
         ],
         "xaxis": "x15",
         "y": [
          0.18942170519626872,
          -1.2802194731604748,
          0.6349376524449637,
          -0.5504493747747182,
          -0.7052055592080125,
          -0.20621564334914896,
          0.17785259437516168,
          1.0675198214940365,
          0.43278494355204966,
          -1.1979095622506206,
          0.03377723660122678,
          -0.5844708269743173,
          -1.3259672968360285,
          -1.5768099286883155,
          -0.5745729240121211,
          -0.09220113732000862,
          0.045936116104723645,
          1.3791850474193161,
          1.8582293288358758,
          0.3689175248690529,
          0.10787976561289657,
          -0.5595527120732183,
          -1.4134306157866812,
          -0.9627143604904586,
          1.146387094842736,
          1.562875052994166,
          0.12792405719541777,
          0.4692887195328484,
          -1.3292574772861743,
          0.14539836343131582,
          -0.019269658825584794,
          -0.4628263841159192,
          -1.2579807391391045,
          -1.98788066802929,
          0.05924856073748593,
          -0.16311938920992022,
          -0.27527171490132246,
          -0.15839675467227424,
          0.30242416587063015,
          -0.8495425020657296,
          -0.4586702146018039,
          0.08460838908589949,
          -2.394485298556269,
          0.44435681397663634,
          0.2445539721871795,
          -0.21942588916376973,
          0.5593116756375367,
          -0.8382612967116606,
          -0.8801381638643744,
          2.2119414718170582,
          -1.8595165157814173,
          0.17087544617586234,
          0.34126648026356315,
          0.48670860790953857,
          -0.4178684019411358,
          -0.06418358333556115,
          0.7270068870675426,
          0.7734335640748874,
          0.5849299447104188,
          -0.09745409043521285,
          1.0429191705092615,
          -1.7722403207134747,
          -1.8495043259843567,
          -0.7792485620696873,
          1.600271390275063,
          -0.6374166322996777,
          -0.38594804544541017,
          -0.32338577033233395,
          -0.06479085716062354,
          0.4400675832296403,
          -1.0249528267596215,
          -0.7466060800255195,
          -0.35496339596247256,
          1.4494676348279423,
          1.0924735876914018,
          2.257533687084062,
          -1.0196171714000544,
          -0.9570592291527833,
          -1.5508421070797296,
          -1.5378804322035184,
          0.47728934923457966,
          -1.1191201363418921,
          -0.04468329386381377,
          -0.10629130596692232,
          0.3616265796275296,
          0.6891470617042107,
          -1.9189015917736612,
          1.0490773829306952,
          1.5753947224514775,
          0.8358400820596704,
          -1.3948517425353133,
          -0.525009371351308,
          -0.29431542845104475,
          0.3042360977060703,
          -0.6706043911388967,
          0.07321410292070137,
          -0.717643881557239,
          -0.10093489837101675,
          -0.38363037570998165,
          1.9918704037414345
         ],
         "yaxis": "y15"
        },
        {
         "histfunc": "count",
         "histnorm": "",
         "marker": {
          "color": "rgba(128, 0, 128, 1.0)",
          "line": {
           "color": "#4D5663",
           "width": 1.3
          }
         },
         "name": "D",
         "nbinsx": 10,
         "opacity": 0.8,
         "orientation": "v",
         "type": "histogram",
         "x": [
          0.18942170519626872,
          -1.2802194731604748,
          0.6349376524449637,
          -0.5504493747747182,
          -0.7052055592080125,
          -0.20621564334914896,
          0.17785259437516168,
          1.0675198214940365,
          0.43278494355204966,
          -1.1979095622506206,
          0.03377723660122678,
          -0.5844708269743173,
          -1.3259672968360285,
          -1.5768099286883155,
          -0.5745729240121211,
          -0.09220113732000862,
          0.045936116104723645,
          1.3791850474193161,
          1.8582293288358758,
          0.3689175248690529,
          0.10787976561289657,
          -0.5595527120732183,
          -1.4134306157866812,
          -0.9627143604904586,
          1.146387094842736,
          1.562875052994166,
          0.12792405719541777,
          0.4692887195328484,
          -1.3292574772861743,
          0.14539836343131582,
          -0.019269658825584794,
          -0.4628263841159192,
          -1.2579807391391045,
          -1.98788066802929,
          0.05924856073748593,
          -0.16311938920992022,
          -0.27527171490132246,
          -0.15839675467227424,
          0.30242416587063015,
          -0.8495425020657296,
          -0.4586702146018039,
          0.08460838908589949,
          -2.394485298556269,
          0.44435681397663634,
          0.2445539721871795,
          -0.21942588916376973,
          0.5593116756375367,
          -0.8382612967116606,
          -0.8801381638643744,
          2.2119414718170582,
          -1.8595165157814173,
          0.17087544617586234,
          0.34126648026356315,
          0.48670860790953857,
          -0.4178684019411358,
          -0.06418358333556115,
          0.7270068870675426,
          0.7734335640748874,
          0.5849299447104188,
          -0.09745409043521285,
          1.0429191705092615,
          -1.7722403207134747,
          -1.8495043259843567,
          -0.7792485620696873,
          1.600271390275063,
          -0.6374166322996777,
          -0.38594804544541017,
          -0.32338577033233395,
          -0.06479085716062354,
          0.4400675832296403,
          -1.0249528267596215,
          -0.7466060800255195,
          -0.35496339596247256,
          1.4494676348279423,
          1.0924735876914018,
          2.257533687084062,
          -1.0196171714000544,
          -0.9570592291527833,
          -1.5508421070797296,
          -1.5378804322035184,
          0.47728934923457966,
          -1.1191201363418921,
          -0.04468329386381377,
          -0.10629130596692232,
          0.3616265796275296,
          0.6891470617042107,
          -1.9189015917736612,
          1.0490773829306952,
          1.5753947224514775,
          0.8358400820596704,
          -1.3948517425353133,
          -0.525009371351308,
          -0.29431542845104475,
          0.3042360977060703,
          -0.6706043911388967,
          0.07321410292070137,
          -0.717643881557239,
          -0.10093489837101675,
          -0.38363037570998165,
          1.9918704037414345
         ],
         "xaxis": "x16",
         "yaxis": "y16"
        }
       ],
       "layout": {
        "bargap": 0.02,
        "legend": {
         "bgcolor": "#F5F6F9",
         "font": {
          "color": "#4D5663"
         }
        },
        "paper_bgcolor": "#F5F6F9",
        "plot_bgcolor": "#F5F6F9",
        "showlegend": false,
        "template": {
         "data": {
          "bar": [
           {
            "error_x": {
             "color": "#2a3f5f"
            },
            "error_y": {
             "color": "#2a3f5f"
            },
            "marker": {
             "line": {
              "color": "#E5ECF6",
              "width": 0.5
             }
            },
            "type": "bar"
           }
          ],
          "barpolar": [
           {
            "marker": {
             "line": {
              "color": "#E5ECF6",
              "width": 0.5
             }
            },
            "type": "barpolar"
           }
          ],
          "carpet": [
           {
            "aaxis": {
             "endlinecolor": "#2a3f5f",
             "gridcolor": "white",
             "linecolor": "white",
             "minorgridcolor": "white",
             "startlinecolor": "#2a3f5f"
            },
            "baxis": {
             "endlinecolor": "#2a3f5f",
             "gridcolor": "white",
             "linecolor": "white",
             "minorgridcolor": "white",
             "startlinecolor": "#2a3f5f"
            },
            "type": "carpet"
           }
          ],
          "choropleth": [
           {
            "colorbar": {
             "outlinewidth": 0,
             "ticks": ""
            },
            "type": "choropleth"
           }
          ],
          "contour": [
           {
            "colorbar": {
             "outlinewidth": 0,
             "ticks": ""
            },
            "colorscale": [
             [
              0,
              "#0d0887"
             ],
             [
              0.1111111111111111,
              "#46039f"
             ],
             [
              0.2222222222222222,
              "#7201a8"
             ],
             [
              0.3333333333333333,
              "#9c179e"
             ],
             [
              0.4444444444444444,
              "#bd3786"
             ],
             [
              0.5555555555555556,
              "#d8576b"
             ],
             [
              0.6666666666666666,
              "#ed7953"
             ],
             [
              0.7777777777777778,
              "#fb9f3a"
             ],
             [
              0.8888888888888888,
              "#fdca26"
             ],
             [
              1,
              "#f0f921"
             ]
            ],
            "type": "contour"
           }
          ],
          "contourcarpet": [
           {
            "colorbar": {
             "outlinewidth": 0,
             "ticks": ""
            },
            "type": "contourcarpet"
           }
          ],
          "heatmap": [
           {
            "colorbar": {
             "outlinewidth": 0,
             "ticks": ""
            },
            "colorscale": [
             [
              0,
              "#0d0887"
             ],
             [
              0.1111111111111111,
              "#46039f"
             ],
             [
              0.2222222222222222,
              "#7201a8"
             ],
             [
              0.3333333333333333,
              "#9c179e"
             ],
             [
              0.4444444444444444,
              "#bd3786"
             ],
             [
              0.5555555555555556,
              "#d8576b"
             ],
             [
              0.6666666666666666,
              "#ed7953"
             ],
             [
              0.7777777777777778,
              "#fb9f3a"
             ],
             [
              0.8888888888888888,
              "#fdca26"
             ],
             [
              1,
              "#f0f921"
             ]
            ],
            "type": "heatmap"
           }
          ],
          "heatmapgl": [
           {
            "colorbar": {
             "outlinewidth": 0,
             "ticks": ""
            },
            "colorscale": [
             [
              0,
              "#0d0887"
             ],
             [
              0.1111111111111111,
              "#46039f"
             ],
             [
              0.2222222222222222,
              "#7201a8"
             ],
             [
              0.3333333333333333,
              "#9c179e"
             ],
             [
              0.4444444444444444,
              "#bd3786"
             ],
             [
              0.5555555555555556,
              "#d8576b"
             ],
             [
              0.6666666666666666,
              "#ed7953"
             ],
             [
              0.7777777777777778,
              "#fb9f3a"
             ],
             [
              0.8888888888888888,
              "#fdca26"
             ],
             [
              1,
              "#f0f921"
             ]
            ],
            "type": "heatmapgl"
           }
          ],
          "histogram": [
           {
            "marker": {
             "colorbar": {
              "outlinewidth": 0,
              "ticks": ""
             }
            },
            "type": "histogram"
           }
          ],
          "histogram2d": [
           {
            "colorbar": {
             "outlinewidth": 0,
             "ticks": ""
            },
            "colorscale": [
             [
              0,
              "#0d0887"
             ],
             [
              0.1111111111111111,
              "#46039f"
             ],
             [
              0.2222222222222222,
              "#7201a8"
             ],
             [
              0.3333333333333333,
              "#9c179e"
             ],
             [
              0.4444444444444444,
              "#bd3786"
             ],
             [
              0.5555555555555556,
              "#d8576b"
             ],
             [
              0.6666666666666666,
              "#ed7953"
             ],
             [
              0.7777777777777778,
              "#fb9f3a"
             ],
             [
              0.8888888888888888,
              "#fdca26"
             ],
             [
              1,
              "#f0f921"
             ]
            ],
            "type": "histogram2d"
           }
          ],
          "histogram2dcontour": [
           {
            "colorbar": {
             "outlinewidth": 0,
             "ticks": ""
            },
            "colorscale": [
             [
              0,
              "#0d0887"
             ],
             [
              0.1111111111111111,
              "#46039f"
             ],
             [
              0.2222222222222222,
              "#7201a8"
             ],
             [
              0.3333333333333333,
              "#9c179e"
             ],
             [
              0.4444444444444444,
              "#bd3786"
             ],
             [
              0.5555555555555556,
              "#d8576b"
             ],
             [
              0.6666666666666666,
              "#ed7953"
             ],
             [
              0.7777777777777778,
              "#fb9f3a"
             ],
             [
              0.8888888888888888,
              "#fdca26"
             ],
             [
              1,
              "#f0f921"
             ]
            ],
            "type": "histogram2dcontour"
           }
          ],
          "mesh3d": [
           {
            "colorbar": {
             "outlinewidth": 0,
             "ticks": ""
            },
            "type": "mesh3d"
           }
          ],
          "parcoords": [
           {
            "line": {
             "colorbar": {
              "outlinewidth": 0,
              "ticks": ""
             }
            },
            "type": "parcoords"
           }
          ],
          "pie": [
           {
            "automargin": true,
            "type": "pie"
           }
          ],
          "scatter": [
           {
            "marker": {
             "colorbar": {
              "outlinewidth": 0,
              "ticks": ""
             }
            },
            "type": "scatter"
           }
          ],
          "scatter3d": [
           {
            "line": {
             "colorbar": {
              "outlinewidth": 0,
              "ticks": ""
             }
            },
            "marker": {
             "colorbar": {
              "outlinewidth": 0,
              "ticks": ""
             }
            },
            "type": "scatter3d"
           }
          ],
          "scattercarpet": [
           {
            "marker": {
             "colorbar": {
              "outlinewidth": 0,
              "ticks": ""
             }
            },
            "type": "scattercarpet"
           }
          ],
          "scattergeo": [
           {
            "marker": {
             "colorbar": {
              "outlinewidth": 0,
              "ticks": ""
             }
            },
            "type": "scattergeo"
           }
          ],
          "scattergl": [
           {
            "marker": {
             "colorbar": {
              "outlinewidth": 0,
              "ticks": ""
             }
            },
            "type": "scattergl"
           }
          ],
          "scattermapbox": [
           {
            "marker": {
             "colorbar": {
              "outlinewidth": 0,
              "ticks": ""
             }
            },
            "type": "scattermapbox"
           }
          ],
          "scatterpolar": [
           {
            "marker": {
             "colorbar": {
              "outlinewidth": 0,
              "ticks": ""
             }
            },
            "type": "scatterpolar"
           }
          ],
          "scatterpolargl": [
           {
            "marker": {
             "colorbar": {
              "outlinewidth": 0,
              "ticks": ""
             }
            },
            "type": "scatterpolargl"
           }
          ],
          "scatterternary": [
           {
            "marker": {
             "colorbar": {
              "outlinewidth": 0,
              "ticks": ""
             }
            },
            "type": "scatterternary"
           }
          ],
          "surface": [
           {
            "colorbar": {
             "outlinewidth": 0,
             "ticks": ""
            },
            "colorscale": [
             [
              0,
              "#0d0887"
             ],
             [
              0.1111111111111111,
              "#46039f"
             ],
             [
              0.2222222222222222,
              "#7201a8"
             ],
             [
              0.3333333333333333,
              "#9c179e"
             ],
             [
              0.4444444444444444,
              "#bd3786"
             ],
             [
              0.5555555555555556,
              "#d8576b"
             ],
             [
              0.6666666666666666,
              "#ed7953"
             ],
             [
              0.7777777777777778,
              "#fb9f3a"
             ],
             [
              0.8888888888888888,
              "#fdca26"
             ],
             [
              1,
              "#f0f921"
             ]
            ],
            "type": "surface"
           }
          ],
          "table": [
           {
            "cells": {
             "fill": {
              "color": "#EBF0F8"
             },
             "line": {
              "color": "white"
             }
            },
            "header": {
             "fill": {
              "color": "#C8D4E3"
             },
             "line": {
              "color": "white"
             }
            },
            "type": "table"
           }
          ]
         },
         "layout": {
          "annotationdefaults": {
           "arrowcolor": "#2a3f5f",
           "arrowhead": 0,
           "arrowwidth": 1
          },
          "coloraxis": {
           "colorbar": {
            "outlinewidth": 0,
            "ticks": ""
           }
          },
          "colorscale": {
           "diverging": [
            [
             0,
             "#8e0152"
            ],
            [
             0.1,
             "#c51b7d"
            ],
            [
             0.2,
             "#de77ae"
            ],
            [
             0.3,
             "#f1b6da"
            ],
            [
             0.4,
             "#fde0ef"
            ],
            [
             0.5,
             "#f7f7f7"
            ],
            [
             0.6,
             "#e6f5d0"
            ],
            [
             0.7,
             "#b8e186"
            ],
            [
             0.8,
             "#7fbc41"
            ],
            [
             0.9,
             "#4d9221"
            ],
            [
             1,
             "#276419"
            ]
           ],
           "sequential": [
            [
             0,
             "#0d0887"
            ],
            [
             0.1111111111111111,
             "#46039f"
            ],
            [
             0.2222222222222222,
             "#7201a8"
            ],
            [
             0.3333333333333333,
             "#9c179e"
            ],
            [
             0.4444444444444444,
             "#bd3786"
            ],
            [
             0.5555555555555556,
             "#d8576b"
            ],
            [
             0.6666666666666666,
             "#ed7953"
            ],
            [
             0.7777777777777778,
             "#fb9f3a"
            ],
            [
             0.8888888888888888,
             "#fdca26"
            ],
            [
             1,
             "#f0f921"
            ]
           ],
           "sequentialminus": [
            [
             0,
             "#0d0887"
            ],
            [
             0.1111111111111111,
             "#46039f"
            ],
            [
             0.2222222222222222,
             "#7201a8"
            ],
            [
             0.3333333333333333,
             "#9c179e"
            ],
            [
             0.4444444444444444,
             "#bd3786"
            ],
            [
             0.5555555555555556,
             "#d8576b"
            ],
            [
             0.6666666666666666,
             "#ed7953"
            ],
            [
             0.7777777777777778,
             "#fb9f3a"
            ],
            [
             0.8888888888888888,
             "#fdca26"
            ],
            [
             1,
             "#f0f921"
            ]
           ]
          },
          "colorway": [
           "#636efa",
           "#EF553B",
           "#00cc96",
           "#ab63fa",
           "#FFA15A",
           "#19d3f3",
           "#FF6692",
           "#B6E880",
           "#FF97FF",
           "#FECB52"
          ],
          "font": {
           "color": "#2a3f5f"
          },
          "geo": {
           "bgcolor": "white",
           "lakecolor": "white",
           "landcolor": "#E5ECF6",
           "showlakes": true,
           "showland": true,
           "subunitcolor": "white"
          },
          "hoverlabel": {
           "align": "left"
          },
          "hovermode": "closest",
          "mapbox": {
           "style": "light"
          },
          "paper_bgcolor": "white",
          "plot_bgcolor": "#E5ECF6",
          "polar": {
           "angularaxis": {
            "gridcolor": "white",
            "linecolor": "white",
            "ticks": ""
           },
           "bgcolor": "#E5ECF6",
           "radialaxis": {
            "gridcolor": "white",
            "linecolor": "white",
            "ticks": ""
           }
          },
          "scene": {
           "xaxis": {
            "backgroundcolor": "#E5ECF6",
            "gridcolor": "white",
            "gridwidth": 2,
            "linecolor": "white",
            "showbackground": true,
            "ticks": "",
            "zerolinecolor": "white"
           },
           "yaxis": {
            "backgroundcolor": "#E5ECF6",
            "gridcolor": "white",
            "gridwidth": 2,
            "linecolor": "white",
            "showbackground": true,
            "ticks": "",
            "zerolinecolor": "white"
           },
           "zaxis": {
            "backgroundcolor": "#E5ECF6",
            "gridcolor": "white",
            "gridwidth": 2,
            "linecolor": "white",
            "showbackground": true,
            "ticks": "",
            "zerolinecolor": "white"
           }
          },
          "shapedefaults": {
           "line": {
            "color": "#2a3f5f"
           }
          },
          "ternary": {
           "aaxis": {
            "gridcolor": "white",
            "linecolor": "white",
            "ticks": ""
           },
           "baxis": {
            "gridcolor": "white",
            "linecolor": "white",
            "ticks": ""
           },
           "bgcolor": "#E5ECF6",
           "caxis": {
            "gridcolor": "white",
            "linecolor": "white",
            "ticks": ""
           }
          },
          "title": {
           "x": 0.05
          },
          "xaxis": {
           "automargin": true,
           "gridcolor": "white",
           "linecolor": "white",
           "ticks": "",
           "title": {
            "standoff": 15
           },
           "zerolinecolor": "white",
           "zerolinewidth": 2
          },
          "yaxis": {
           "automargin": true,
           "gridcolor": "white",
           "linecolor": "white",
           "ticks": "",
           "title": {
            "standoff": 15
           },
           "zerolinecolor": "white",
           "zerolinewidth": 2
          }
         }
        },
        "title": {
         "font": {
          "color": "#4D5663"
         }
        },
        "xaxis": {
         "anchor": "y",
         "domain": [
          0,
          0.2125
         ],
         "gridcolor": "#E1E5ED",
         "showgrid": false,
         "tickfont": {
          "color": "#4D5663"
         },
         "title": {
          "font": {
           "color": "#4D5663"
          },
          "text": ""
         },
         "zerolinecolor": "#E1E5ED"
        },
        "xaxis10": {
         "anchor": "y10",
         "domain": [
          0.2625,
          0.475
         ],
         "gridcolor": "#E1E5ED",
         "showgrid": false,
         "tickfont": {
          "color": "#4D5663"
         },
         "title": {
          "font": {
           "color": "#4D5663"
          },
          "text": ""
         },
         "zerolinecolor": "#E1E5ED"
        },
        "xaxis11": {
         "anchor": "y11",
         "domain": [
          0.525,
          0.7375
         ],
         "gridcolor": "#E1E5ED",
         "showgrid": false,
         "tickfont": {
          "color": "#4D5663"
         },
         "title": {
          "font": {
           "color": "#4D5663"
          },
          "text": ""
         },
         "zerolinecolor": "#E1E5ED"
        },
        "xaxis12": {
         "anchor": "y12",
         "domain": [
          0.7875,
          1
         ],
         "gridcolor": "#E1E5ED",
         "showgrid": false,
         "tickfont": {
          "color": "#4D5663"
         },
         "title": {
          "font": {
           "color": "#4D5663"
          },
          "text": ""
         },
         "zerolinecolor": "#E1E5ED"
        },
        "xaxis13": {
         "anchor": "y13",
         "domain": [
          0,
          0.2125
         ],
         "gridcolor": "#E1E5ED",
         "showgrid": false,
         "tickfont": {
          "color": "#4D5663"
         },
         "title": {
          "font": {
           "color": "#4D5663"
          },
          "text": ""
         },
         "zerolinecolor": "#E1E5ED"
        },
        "xaxis14": {
         "anchor": "y14",
         "domain": [
          0.2625,
          0.475
         ],
         "gridcolor": "#E1E5ED",
         "showgrid": false,
         "tickfont": {
          "color": "#4D5663"
         },
         "title": {
          "font": {
           "color": "#4D5663"
          },
          "text": ""
         },
         "zerolinecolor": "#E1E5ED"
        },
        "xaxis15": {
         "anchor": "y15",
         "domain": [
          0.525,
          0.7375
         ],
         "gridcolor": "#E1E5ED",
         "showgrid": false,
         "tickfont": {
          "color": "#4D5663"
         },
         "title": {
          "font": {
           "color": "#4D5663"
          },
          "text": ""
         },
         "zerolinecolor": "#E1E5ED"
        },
        "xaxis16": {
         "anchor": "y16",
         "domain": [
          0.7875,
          1
         ],
         "gridcolor": "#E1E5ED",
         "showgrid": false,
         "tickfont": {
          "color": "#4D5663"
         },
         "title": {
          "font": {
           "color": "#4D5663"
          },
          "text": ""
         },
         "zerolinecolor": "#E1E5ED"
        },
        "xaxis2": {
         "anchor": "y2",
         "domain": [
          0.2625,
          0.475
         ],
         "gridcolor": "#E1E5ED",
         "showgrid": false,
         "tickfont": {
          "color": "#4D5663"
         },
         "title": {
          "font": {
           "color": "#4D5663"
          },
          "text": ""
         },
         "zerolinecolor": "#E1E5ED"
        },
        "xaxis3": {
         "anchor": "y3",
         "domain": [
          0.525,
          0.7375
         ],
         "gridcolor": "#E1E5ED",
         "showgrid": false,
         "tickfont": {
          "color": "#4D5663"
         },
         "title": {
          "font": {
           "color": "#4D5663"
          },
          "text": ""
         },
         "zerolinecolor": "#E1E5ED"
        },
        "xaxis4": {
         "anchor": "y4",
         "domain": [
          0.7875,
          1
         ],
         "gridcolor": "#E1E5ED",
         "showgrid": false,
         "tickfont": {
          "color": "#4D5663"
         },
         "title": {
          "font": {
           "color": "#4D5663"
          },
          "text": ""
         },
         "zerolinecolor": "#E1E5ED"
        },
        "xaxis5": {
         "anchor": "y5",
         "domain": [
          0,
          0.2125
         ],
         "gridcolor": "#E1E5ED",
         "showgrid": false,
         "tickfont": {
          "color": "#4D5663"
         },
         "title": {
          "font": {
           "color": "#4D5663"
          },
          "text": ""
         },
         "zerolinecolor": "#E1E5ED"
        },
        "xaxis6": {
         "anchor": "y6",
         "domain": [
          0.2625,
          0.475
         ],
         "gridcolor": "#E1E5ED",
         "showgrid": false,
         "tickfont": {
          "color": "#4D5663"
         },
         "title": {
          "font": {
           "color": "#4D5663"
          },
          "text": ""
         },
         "zerolinecolor": "#E1E5ED"
        },
        "xaxis7": {
         "anchor": "y7",
         "domain": [
          0.525,
          0.7375
         ],
         "gridcolor": "#E1E5ED",
         "showgrid": false,
         "tickfont": {
          "color": "#4D5663"
         },
         "title": {
          "font": {
           "color": "#4D5663"
          },
          "text": ""
         },
         "zerolinecolor": "#E1E5ED"
        },
        "xaxis8": {
         "anchor": "y8",
         "domain": [
          0.7875,
          1
         ],
         "gridcolor": "#E1E5ED",
         "showgrid": false,
         "tickfont": {
          "color": "#4D5663"
         },
         "title": {
          "font": {
           "color": "#4D5663"
          },
          "text": ""
         },
         "zerolinecolor": "#E1E5ED"
        },
        "xaxis9": {
         "anchor": "y9",
         "domain": [
          0,
          0.2125
         ],
         "gridcolor": "#E1E5ED",
         "showgrid": false,
         "tickfont": {
          "color": "#4D5663"
         },
         "title": {
          "font": {
           "color": "#4D5663"
          },
          "text": ""
         },
         "zerolinecolor": "#E1E5ED"
        },
        "yaxis": {
         "anchor": "x",
         "domain": [
          0.8025,
          1
         ],
         "gridcolor": "#E1E5ED",
         "showgrid": false,
         "tickfont": {
          "color": "#4D5663"
         },
         "title": {
          "font": {
           "color": "#4D5663"
          },
          "text": ""
         },
         "zerolinecolor": "#E1E5ED"
        },
        "yaxis10": {
         "anchor": "x10",
         "domain": [
          0.2675,
          0.465
         ],
         "gridcolor": "#E1E5ED",
         "showgrid": false,
         "tickfont": {
          "color": "#4D5663"
         },
         "title": {
          "font": {
           "color": "#4D5663"
          },
          "text": ""
         },
         "zerolinecolor": "#E1E5ED"
        },
        "yaxis11": {
         "anchor": "x11",
         "domain": [
          0.2675,
          0.465
         ],
         "gridcolor": "#E1E5ED",
         "showgrid": false,
         "tickfont": {
          "color": "#4D5663"
         },
         "title": {
          "font": {
           "color": "#4D5663"
          },
          "text": ""
         },
         "zerolinecolor": "#E1E5ED"
        },
        "yaxis12": {
         "anchor": "x12",
         "domain": [
          0.2675,
          0.465
         ],
         "gridcolor": "#E1E5ED",
         "showgrid": false,
         "tickfont": {
          "color": "#4D5663"
         },
         "title": {
          "font": {
           "color": "#4D5663"
          },
          "text": ""
         },
         "zerolinecolor": "#E1E5ED"
        },
        "yaxis13": {
         "anchor": "x13",
         "domain": [
          0,
          0.1975
         ],
         "gridcolor": "#E1E5ED",
         "showgrid": false,
         "tickfont": {
          "color": "#4D5663"
         },
         "title": {
          "font": {
           "color": "#4D5663"
          },
          "text": ""
         },
         "zerolinecolor": "#E1E5ED"
        },
        "yaxis14": {
         "anchor": "x14",
         "domain": [
          0,
          0.1975
         ],
         "gridcolor": "#E1E5ED",
         "showgrid": false,
         "tickfont": {
          "color": "#4D5663"
         },
         "title": {
          "font": {
           "color": "#4D5663"
          },
          "text": ""
         },
         "zerolinecolor": "#E1E5ED"
        },
        "yaxis15": {
         "anchor": "x15",
         "domain": [
          0,
          0.1975
         ],
         "gridcolor": "#E1E5ED",
         "showgrid": false,
         "tickfont": {
          "color": "#4D5663"
         },
         "title": {
          "font": {
           "color": "#4D5663"
          },
          "text": ""
         },
         "zerolinecolor": "#E1E5ED"
        },
        "yaxis16": {
         "anchor": "x16",
         "domain": [
          0,
          0.1975
         ],
         "gridcolor": "#E1E5ED",
         "showgrid": false,
         "tickfont": {
          "color": "#4D5663"
         },
         "title": {
          "font": {
           "color": "#4D5663"
          },
          "text": ""
         },
         "zerolinecolor": "#E1E5ED"
        },
        "yaxis2": {
         "anchor": "x2",
         "domain": [
          0.8025,
          1
         ],
         "gridcolor": "#E1E5ED",
         "showgrid": false,
         "tickfont": {
          "color": "#4D5663"
         },
         "title": {
          "font": {
           "color": "#4D5663"
          },
          "text": ""
         },
         "zerolinecolor": "#E1E5ED"
        },
        "yaxis3": {
         "anchor": "x3",
         "domain": [
          0.8025,
          1
         ],
         "gridcolor": "#E1E5ED",
         "showgrid": false,
         "tickfont": {
          "color": "#4D5663"
         },
         "title": {
          "font": {
           "color": "#4D5663"
          },
          "text": ""
         },
         "zerolinecolor": "#E1E5ED"
        },
        "yaxis4": {
         "anchor": "x4",
         "domain": [
          0.8025,
          1
         ],
         "gridcolor": "#E1E5ED",
         "showgrid": false,
         "tickfont": {
          "color": "#4D5663"
         },
         "title": {
          "font": {
           "color": "#4D5663"
          },
          "text": ""
         },
         "zerolinecolor": "#E1E5ED"
        },
        "yaxis5": {
         "anchor": "x5",
         "domain": [
          0.535,
          0.7325
         ],
         "gridcolor": "#E1E5ED",
         "showgrid": false,
         "tickfont": {
          "color": "#4D5663"
         },
         "title": {
          "font": {
           "color": "#4D5663"
          },
          "text": ""
         },
         "zerolinecolor": "#E1E5ED"
        },
        "yaxis6": {
         "anchor": "x6",
         "domain": [
          0.535,
          0.7325
         ],
         "gridcolor": "#E1E5ED",
         "showgrid": false,
         "tickfont": {
          "color": "#4D5663"
         },
         "title": {
          "font": {
           "color": "#4D5663"
          },
          "text": ""
         },
         "zerolinecolor": "#E1E5ED"
        },
        "yaxis7": {
         "anchor": "x7",
         "domain": [
          0.535,
          0.7325
         ],
         "gridcolor": "#E1E5ED",
         "showgrid": false,
         "tickfont": {
          "color": "#4D5663"
         },
         "title": {
          "font": {
           "color": "#4D5663"
          },
          "text": ""
         },
         "zerolinecolor": "#E1E5ED"
        },
        "yaxis8": {
         "anchor": "x8",
         "domain": [
          0.535,
          0.7325
         ],
         "gridcolor": "#E1E5ED",
         "showgrid": false,
         "tickfont": {
          "color": "#4D5663"
         },
         "title": {
          "font": {
           "color": "#4D5663"
          },
          "text": ""
         },
         "zerolinecolor": "#E1E5ED"
        },
        "yaxis9": {
         "anchor": "x9",
         "domain": [
          0.2675,
          0.465
         ],
         "gridcolor": "#E1E5ED",
         "showgrid": false,
         "tickfont": {
          "color": "#4D5663"
         },
         "title": {
          "font": {
           "color": "#4D5663"
          },
          "text": ""
         },
         "zerolinecolor": "#E1E5ED"
        }
       }
      },
      "text/html": [
       "<div>\n",
       "        \n",
       "        \n",
       "            <div id=\"0d8dbdf6-1cc9-47b1-bf36-389e928e0ae3\" class=\"plotly-graph-div\" style=\"height:525px; width:100%;\"></div>\n",
       "            <script type=\"text/javascript\">\n",
       "                require([\"plotly\"], function(Plotly) {\n",
       "                    window.PLOTLYENV=window.PLOTLYENV || {};\n",
       "                    window.PLOTLYENV.BASE_URL='https://plot.ly';\n",
       "                    \n",
       "                if (document.getElementById(\"0d8dbdf6-1cc9-47b1-bf36-389e928e0ae3\")) {\n",
       "                    Plotly.newPlot(\n",
       "                        '0d8dbdf6-1cc9-47b1-bf36-389e928e0ae3',\n",
       "                        [{\"histfunc\": \"count\", \"histnorm\": \"\", \"marker\": {\"color\": \"rgba(255, 153, 51, 1.0)\", \"line\": {\"color\": \"#4D5663\", \"width\": 1.3}}, \"name\": \"A\", \"nbinsx\": 10, \"opacity\": 0.8, \"orientation\": \"v\", \"type\": \"histogram\", \"x\": [-0.47994138356102345, 0.16000001454505774, 1.2996849606416845, -0.3459934331228707, 1.0368948135116955, 0.07946965327892691, 0.02947178831828827, -0.26772555546117177, -2.0314116116032723, -0.7776726685287725, -0.6632265573499633, 0.040338171293861545, 0.03099329497456494, 1.30667900546974, -0.037687242533143366, 0.73556867266476, 0.1957228240044999, -1.0482986804628374, 1.0503916976168206, 0.3384999073480586, -0.14838682865663155, -1.849858632992489, -1.1910865283155898, 1.5553865160982832, 0.986449102796202, 0.07626968937010195, -0.7144282219471334, -1.95459396507943, 0.5166017932497404, -0.1272350411517917, 0.3651824330336992, 0.629568772242452, 0.2238905949170703, -0.4080627997126574, 0.2459532769412293, -1.4375822191198364, 1.1953127234968812, 0.20642350123956282, -0.6118149783961775, -0.3516522754108534, 0.3864587743634232, 0.5578874059130349, -1.2239437975712937, -0.5751253948097974, -0.8161879128352467, 0.728310144983823, 1.0285518125814623, -0.061080867479822096, 0.5456049906240891, 1.6757326714528262, 1.1259534774275948, 2.1679146833244065, 0.3627705444531118, -0.2007163005561877, 1.5857603106850822, -0.14387374650148002, 0.6711681353081573, -2.077686313631864, -0.8339634788937905, -1.5147815926076582, -0.2426824940955602, -0.05900561048931461, -0.5015572453005709, -1.02382765079118, 0.6594628547687229, -0.23529898779933406, 0.989301732841858, 1.0913142676056113, 0.9047811195866384, 2.171823959268939, 0.8660901043897223, -1.009123777500051, -1.2739552439273125, -0.8003558594463309, -0.7227937984759449, -0.4548814893006097, -1.2973334617697536, -0.40436366793090245, -0.5467723352316892, 1.3324985767546997, -0.3000650152937515, -2.4463874579688456, 0.5366264052442478, 0.8394154584497169, -0.47075436156584355, 0.46846103114383303, 1.7485010794299531, -1.3189454373300313, -0.29883060294564007, 0.09313380405100766, 1.2964129012060845, 1.6132918404264132, -0.11654004163312816, -0.3113907853250452, 0.03577164272941658, -0.22212739215972332, 0.19790220317768603, 0.23463768157652232, -0.3274922195966929, -0.3594549556767431], \"xaxis\": \"x\", \"yaxis\": \"y\"}, {\"line\": {\"color\": \"rgba(128, 128, 128, 1.0)\", \"dash\": \"solid\", \"shape\": \"linear\", \"width\": 1.3}, \"marker\": {\"size\": 2, \"symbol\": \"circle\"}, \"mode\": \"markers\", \"name\": \"A\", \"text\": \"\", \"type\": \"scatter\", \"x\": [-0.6750720095040574, -0.6236632378538945, 0.31648115090713874, 0.006625469958763555, 1.0701445375157368, -1.489988600379836, 0.7894479972844892, 0.9173170404148899, -0.03236558870315396, 0.531828866922249, 0.5886330258336944, -1.167976713880715, -0.7162100002669591, -0.5414831307678194, 0.7840457615721561, -0.46930537859098814, -0.7892004007784026, 0.15190499519329212, -0.13488847109679594, 0.9560305771827087, 0.9836328201693666, 1.113069160455684, 0.3815657149703171, 1.3561175238140253, -1.0417651856920722, 0.6451841844568005, -0.4828578505139144, 1.5246445699148836, 0.06537554774633204, 0.04931160611207707, 1.9347732812598075, -0.8061165056880444, 1.0744399572724777, -0.38326628912131316, -1.7407112541746834, -1.1789405193606934, -1.4075963840229924, -0.40096512182303085, 0.3220761194308544, -0.9234853236877474, -2.0334595526466446, 0.7776897486339085, -0.9807388724402262, 0.6367945434202201, 1.2749049396021885, 1.5095220335919506, -1.0861773553362357, 0.2928360719752721, -1.0635379361026216, 0.5682472797409951, -0.9001092545463106, -0.40166002883131624, 0.15203268993711191, 0.5507806044416774, -0.406142216960143, -1.217479641294983, 0.6917269041894943, -0.911829853729197, -1.4102896333460009, -1.1411785121505986, -0.08111764128140288, -1.2905700010948244, 0.15246509174095685, 0.5514074713986842, -0.5748023680027282, -0.17533905191623023, 0.2750882818594264, -0.06060424378975698, 0.48929733464317215, -0.8521185592816384, 0.14843460207767809, 0.36699416075794683, -0.1763066172519723, 0.6767034425170794, -1.0558797509891396, -1.2618686077621954, -0.7013920682499339, -1.1536332965995175, -1.0458008683090156, -1.1845502086936621, -1.6179944848535541, 0.027753117132022737, -0.03597787859543119, -0.6109525033400434, -0.006659128206266237, -1.9053029934010377, -0.1979953952563941, -1.970715611393755, -0.02374897918555784, 0.014002628836400495, 0.9021962904211355, -0.2186002004460576, 0.282987591536079, -0.4104780901919894, -0.29636306422899106, -1.0720115422654701, 1.4663762784345675, 0.518632479089715, 0.643572733575315, -0.5238831432693754], \"xaxis\": \"x2\", \"y\": [-0.47994138356102345, 0.16000001454505774, 1.2996849606416845, -0.3459934331228707, 1.0368948135116955, 0.07946965327892691, 0.02947178831828827, -0.26772555546117177, -2.0314116116032723, -0.7776726685287725, -0.6632265573499633, 0.040338171293861545, 0.03099329497456494, 1.30667900546974, -0.037687242533143366, 0.73556867266476, 0.1957228240044999, -1.0482986804628374, 1.0503916976168206, 0.3384999073480586, -0.14838682865663155, -1.849858632992489, -1.1910865283155898, 1.5553865160982832, 0.986449102796202, 0.07626968937010195, -0.7144282219471334, -1.95459396507943, 0.5166017932497404, -0.1272350411517917, 0.3651824330336992, 0.629568772242452, 0.2238905949170703, -0.4080627997126574, 0.2459532769412293, -1.4375822191198364, 1.1953127234968812, 0.20642350123956282, -0.6118149783961775, -0.3516522754108534, 0.3864587743634232, 0.5578874059130349, -1.2239437975712937, -0.5751253948097974, -0.8161879128352467, 0.728310144983823, 1.0285518125814623, -0.061080867479822096, 0.5456049906240891, 1.6757326714528262, 1.1259534774275948, 2.1679146833244065, 0.3627705444531118, -0.2007163005561877, 1.5857603106850822, -0.14387374650148002, 0.6711681353081573, -2.077686313631864, -0.8339634788937905, -1.5147815926076582, -0.2426824940955602, -0.05900561048931461, -0.5015572453005709, -1.02382765079118, 0.6594628547687229, -0.23529898779933406, 0.989301732841858, 1.0913142676056113, 0.9047811195866384, 2.171823959268939, 0.8660901043897223, -1.009123777500051, -1.2739552439273125, -0.8003558594463309, -0.7227937984759449, -0.4548814893006097, -1.2973334617697536, -0.40436366793090245, -0.5467723352316892, 1.3324985767546997, -0.3000650152937515, -2.4463874579688456, 0.5366264052442478, 0.8394154584497169, -0.47075436156584355, 0.46846103114383303, 1.7485010794299531, -1.3189454373300313, -0.29883060294564007, 0.09313380405100766, 1.2964129012060845, 1.6132918404264132, -0.11654004163312816, -0.3113907853250452, 0.03577164272941658, -0.22212739215972332, 0.19790220317768603, 0.23463768157652232, -0.3274922195966929, -0.3594549556767431], \"yaxis\": \"y2\"}, {\"line\": {\"color\": \"rgba(128, 128, 128, 1.0)\", \"dash\": \"solid\", \"shape\": \"linear\", \"width\": 1.3}, \"marker\": {\"size\": 2, \"symbol\": \"circle\"}, \"mode\": \"markers\", \"name\": \"A\", \"text\": \"\", \"type\": \"scatter\", \"x\": [-0.5197271978581905, -0.35702079986068197, -0.6751074162834202, -0.8290603698439113, -1.7620567856664684, 0.22579158270393165, 0.00808063258413915, -0.6891205740873824, 1.3805447654586755, -0.05653607792480402, -1.5578460253123274, -1.423940701684458, -1.2987087258472758, 0.6434196202513819, -0.06084163519495708, -0.3596184597698029, -0.1600839748573193, 0.4351329108949361, -0.037248400408046785, -0.2963151081901758, 0.1450065608648587, 1.1920904328243296, 0.21667688869310794, 0.6949961722611162, 0.9847769996892395, -0.0056276016213413355, 0.5004276282933069, 0.9065596468268876, 0.3913797397178053, 0.5194628533956177, 0.20180903715178042, -0.37102518269253304, 1.007985221807975, 1.2693324558378918, 1.8427949296226573, 0.5288485335232646, -0.6862959392121788, 1.4338661951430534, 0.006824530293811063, -0.23133092335789665, -1.5418740730564444, 0.8628701890453, -0.6483764997573348, -1.6029664806541335, -0.7940380352821212, -1.8951476576766457, -0.40041956603237083, 0.2964911317848158, 1.5899392607667207, 0.4312931244279361, -1.8737143112380912, 0.15598014843187272, -0.8561011752865471, 1.205915463923441, 0.08531616891935535, -0.2849719587160101, -0.49992372301677185, -0.1977389254022585, 0.9672487407550542, -2.1007611967290454, 2.5758556907585763, -1.3544767038489602, -0.5482520679537566, -0.14250855825853886, -0.31395089348855637, 0.22273658215192293, 1.6444651798928556, -0.1645639143914819, -0.4281820820795921, -0.44045908292905706, 1.8124573636463697, -2.0269863208849563, 0.1160077533479532, 2.0653426029572985, -0.5089496389521247, -0.12134215070011177, 0.5399005604153339, 0.722808318590877, 0.8803784655030259, -1.2061397944554992, 0.3970338332193433, -1.0746922682004565, 0.4206950439615749, -1.4792823364969105, -0.5587369720014077, -0.15698538565975714, -0.8612772787041048, 0.20900126254664594, -0.28515872294607314, 0.0036611009568451856, 0.5538991408164484, 2.926243867371199, 0.7796294023213519, -1.3660970894954452, 0.25571122605780455, -0.7818561652897893, -1.235332988189121, 1.4674049373740403, 0.25507104998325436, 0.44431307217121674], \"xaxis\": \"x3\", \"y\": [-0.47994138356102345, 0.16000001454505774, 1.2996849606416845, -0.3459934331228707, 1.0368948135116955, 0.07946965327892691, 0.02947178831828827, -0.26772555546117177, -2.0314116116032723, -0.7776726685287725, -0.6632265573499633, 0.040338171293861545, 0.03099329497456494, 1.30667900546974, -0.037687242533143366, 0.73556867266476, 0.1957228240044999, -1.0482986804628374, 1.0503916976168206, 0.3384999073480586, -0.14838682865663155, -1.849858632992489, -1.1910865283155898, 1.5553865160982832, 0.986449102796202, 0.07626968937010195, -0.7144282219471334, -1.95459396507943, 0.5166017932497404, -0.1272350411517917, 0.3651824330336992, 0.629568772242452, 0.2238905949170703, -0.4080627997126574, 0.2459532769412293, -1.4375822191198364, 1.1953127234968812, 0.20642350123956282, -0.6118149783961775, -0.3516522754108534, 0.3864587743634232, 0.5578874059130349, -1.2239437975712937, -0.5751253948097974, -0.8161879128352467, 0.728310144983823, 1.0285518125814623, -0.061080867479822096, 0.5456049906240891, 1.6757326714528262, 1.1259534774275948, 2.1679146833244065, 0.3627705444531118, -0.2007163005561877, 1.5857603106850822, -0.14387374650148002, 0.6711681353081573, -2.077686313631864, -0.8339634788937905, -1.5147815926076582, -0.2426824940955602, -0.05900561048931461, -0.5015572453005709, -1.02382765079118, 0.6594628547687229, -0.23529898779933406, 0.989301732841858, 1.0913142676056113, 0.9047811195866384, 2.171823959268939, 0.8660901043897223, -1.009123777500051, -1.2739552439273125, -0.8003558594463309, -0.7227937984759449, -0.4548814893006097, -1.2973334617697536, -0.40436366793090245, -0.5467723352316892, 1.3324985767546997, -0.3000650152937515, -2.4463874579688456, 0.5366264052442478, 0.8394154584497169, -0.47075436156584355, 0.46846103114383303, 1.7485010794299531, -1.3189454373300313, -0.29883060294564007, 0.09313380405100766, 1.2964129012060845, 1.6132918404264132, -0.11654004163312816, -0.3113907853250452, 0.03577164272941658, -0.22212739215972332, 0.19790220317768603, 0.23463768157652232, -0.3274922195966929, -0.3594549556767431], \"yaxis\": \"y3\"}, {\"line\": {\"color\": \"rgba(128, 128, 128, 1.0)\", \"dash\": \"solid\", \"shape\": \"linear\", \"width\": 1.3}, \"marker\": {\"size\": 2, \"symbol\": \"circle\"}, \"mode\": \"markers\", \"name\": \"A\", \"text\": \"\", \"type\": \"scatter\", \"x\": [0.18942170519626872, -1.2802194731604748, 0.6349376524449637, -0.5504493747747182, -0.7052055592080125, -0.20621564334914896, 0.17785259437516168, 1.0675198214940365, 0.43278494355204966, -1.1979095622506206, 0.03377723660122678, -0.5844708269743173, -1.3259672968360285, -1.5768099286883155, -0.5745729240121211, -0.09220113732000862, 0.045936116104723645, 1.3791850474193161, 1.8582293288358758, 0.3689175248690529, 0.10787976561289657, -0.5595527120732183, -1.4134306157866812, -0.9627143604904586, 1.146387094842736, 1.562875052994166, 0.12792405719541777, 0.4692887195328484, -1.3292574772861743, 0.14539836343131582, -0.019269658825584794, -0.4628263841159192, -1.2579807391391045, -1.98788066802929, 0.05924856073748593, -0.16311938920992022, -0.27527171490132246, -0.15839675467227424, 0.30242416587063015, -0.8495425020657296, -0.4586702146018039, 0.08460838908589949, -2.394485298556269, 0.44435681397663634, 0.2445539721871795, -0.21942588916376973, 0.5593116756375367, -0.8382612967116606, -0.8801381638643744, 2.2119414718170582, -1.8595165157814173, 0.17087544617586234, 0.34126648026356315, 0.48670860790953857, -0.4178684019411358, -0.06418358333556115, 0.7270068870675426, 0.7734335640748874, 0.5849299447104188, -0.09745409043521285, 1.0429191705092615, -1.7722403207134747, -1.8495043259843567, -0.7792485620696873, 1.600271390275063, -0.6374166322996777, -0.38594804544541017, -0.32338577033233395, -0.06479085716062354, 0.4400675832296403, -1.0249528267596215, -0.7466060800255195, -0.35496339596247256, 1.4494676348279423, 1.0924735876914018, 2.257533687084062, -1.0196171714000544, -0.9570592291527833, -1.5508421070797296, -1.5378804322035184, 0.47728934923457966, -1.1191201363418921, -0.04468329386381377, -0.10629130596692232, 0.3616265796275296, 0.6891470617042107, -1.9189015917736612, 1.0490773829306952, 1.5753947224514775, 0.8358400820596704, -1.3948517425353133, -0.525009371351308, -0.29431542845104475, 0.3042360977060703, -0.6706043911388967, 0.07321410292070137, -0.717643881557239, -0.10093489837101675, -0.38363037570998165, 1.9918704037414345], \"xaxis\": \"x4\", \"y\": [-0.47994138356102345, 0.16000001454505774, 1.2996849606416845, -0.3459934331228707, 1.0368948135116955, 0.07946965327892691, 0.02947178831828827, -0.26772555546117177, -2.0314116116032723, -0.7776726685287725, -0.6632265573499633, 0.040338171293861545, 0.03099329497456494, 1.30667900546974, -0.037687242533143366, 0.73556867266476, 0.1957228240044999, -1.0482986804628374, 1.0503916976168206, 0.3384999073480586, -0.14838682865663155, -1.849858632992489, -1.1910865283155898, 1.5553865160982832, 0.986449102796202, 0.07626968937010195, -0.7144282219471334, -1.95459396507943, 0.5166017932497404, -0.1272350411517917, 0.3651824330336992, 0.629568772242452, 0.2238905949170703, -0.4080627997126574, 0.2459532769412293, -1.4375822191198364, 1.1953127234968812, 0.20642350123956282, -0.6118149783961775, -0.3516522754108534, 0.3864587743634232, 0.5578874059130349, -1.2239437975712937, -0.5751253948097974, -0.8161879128352467, 0.728310144983823, 1.0285518125814623, -0.061080867479822096, 0.5456049906240891, 1.6757326714528262, 1.1259534774275948, 2.1679146833244065, 0.3627705444531118, -0.2007163005561877, 1.5857603106850822, -0.14387374650148002, 0.6711681353081573, -2.077686313631864, -0.8339634788937905, -1.5147815926076582, -0.2426824940955602, -0.05900561048931461, -0.5015572453005709, -1.02382765079118, 0.6594628547687229, -0.23529898779933406, 0.989301732841858, 1.0913142676056113, 0.9047811195866384, 2.171823959268939, 0.8660901043897223, -1.009123777500051, -1.2739552439273125, -0.8003558594463309, -0.7227937984759449, -0.4548814893006097, -1.2973334617697536, -0.40436366793090245, -0.5467723352316892, 1.3324985767546997, -0.3000650152937515, -2.4463874579688456, 0.5366264052442478, 0.8394154584497169, -0.47075436156584355, 0.46846103114383303, 1.7485010794299531, -1.3189454373300313, -0.29883060294564007, 0.09313380405100766, 1.2964129012060845, 1.6132918404264132, -0.11654004163312816, -0.3113907853250452, 0.03577164272941658, -0.22212739215972332, 0.19790220317768603, 0.23463768157652232, -0.3274922195966929, -0.3594549556767431], \"yaxis\": \"y4\"}, {\"line\": {\"color\": \"rgba(128, 128, 128, 1.0)\", \"dash\": \"solid\", \"shape\": \"linear\", \"width\": 1.3}, \"marker\": {\"size\": 2, \"symbol\": \"circle\"}, \"mode\": \"markers\", \"name\": \"B\", \"text\": \"\", \"type\": \"scatter\", \"x\": [-0.47994138356102345, 0.16000001454505774, 1.2996849606416845, -0.3459934331228707, 1.0368948135116955, 0.07946965327892691, 0.02947178831828827, -0.26772555546117177, -2.0314116116032723, -0.7776726685287725, -0.6632265573499633, 0.040338171293861545, 0.03099329497456494, 1.30667900546974, -0.037687242533143366, 0.73556867266476, 0.1957228240044999, -1.0482986804628374, 1.0503916976168206, 0.3384999073480586, -0.14838682865663155, -1.849858632992489, -1.1910865283155898, 1.5553865160982832, 0.986449102796202, 0.07626968937010195, -0.7144282219471334, -1.95459396507943, 0.5166017932497404, -0.1272350411517917, 0.3651824330336992, 0.629568772242452, 0.2238905949170703, -0.4080627997126574, 0.2459532769412293, -1.4375822191198364, 1.1953127234968812, 0.20642350123956282, -0.6118149783961775, -0.3516522754108534, 0.3864587743634232, 0.5578874059130349, -1.2239437975712937, -0.5751253948097974, -0.8161879128352467, 0.728310144983823, 1.0285518125814623, -0.061080867479822096, 0.5456049906240891, 1.6757326714528262, 1.1259534774275948, 2.1679146833244065, 0.3627705444531118, -0.2007163005561877, 1.5857603106850822, -0.14387374650148002, 0.6711681353081573, -2.077686313631864, -0.8339634788937905, -1.5147815926076582, -0.2426824940955602, -0.05900561048931461, -0.5015572453005709, -1.02382765079118, 0.6594628547687229, -0.23529898779933406, 0.989301732841858, 1.0913142676056113, 0.9047811195866384, 2.171823959268939, 0.8660901043897223, -1.009123777500051, -1.2739552439273125, -0.8003558594463309, -0.7227937984759449, -0.4548814893006097, -1.2973334617697536, -0.40436366793090245, -0.5467723352316892, 1.3324985767546997, -0.3000650152937515, -2.4463874579688456, 0.5366264052442478, 0.8394154584497169, -0.47075436156584355, 0.46846103114383303, 1.7485010794299531, -1.3189454373300313, -0.29883060294564007, 0.09313380405100766, 1.2964129012060845, 1.6132918404264132, -0.11654004163312816, -0.3113907853250452, 0.03577164272941658, -0.22212739215972332, 0.19790220317768603, 0.23463768157652232, -0.3274922195966929, -0.3594549556767431], \"xaxis\": \"x5\", \"y\": [-0.6750720095040574, -0.6236632378538945, 0.31648115090713874, 0.006625469958763555, 1.0701445375157368, -1.489988600379836, 0.7894479972844892, 0.9173170404148899, -0.03236558870315396, 0.531828866922249, 0.5886330258336944, -1.167976713880715, -0.7162100002669591, -0.5414831307678194, 0.7840457615721561, -0.46930537859098814, -0.7892004007784026, 0.15190499519329212, -0.13488847109679594, 0.9560305771827087, 0.9836328201693666, 1.113069160455684, 0.3815657149703171, 1.3561175238140253, -1.0417651856920722, 0.6451841844568005, -0.4828578505139144, 1.5246445699148836, 0.06537554774633204, 0.04931160611207707, 1.9347732812598075, -0.8061165056880444, 1.0744399572724777, -0.38326628912131316, -1.7407112541746834, -1.1789405193606934, -1.4075963840229924, -0.40096512182303085, 0.3220761194308544, -0.9234853236877474, -2.0334595526466446, 0.7776897486339085, -0.9807388724402262, 0.6367945434202201, 1.2749049396021885, 1.5095220335919506, -1.0861773553362357, 0.2928360719752721, -1.0635379361026216, 0.5682472797409951, -0.9001092545463106, -0.40166002883131624, 0.15203268993711191, 0.5507806044416774, -0.406142216960143, -1.217479641294983, 0.6917269041894943, -0.911829853729197, -1.4102896333460009, -1.1411785121505986, -0.08111764128140288, -1.2905700010948244, 0.15246509174095685, 0.5514074713986842, -0.5748023680027282, -0.17533905191623023, 0.2750882818594264, -0.06060424378975698, 0.48929733464317215, -0.8521185592816384, 0.14843460207767809, 0.36699416075794683, -0.1763066172519723, 0.6767034425170794, -1.0558797509891396, -1.2618686077621954, -0.7013920682499339, -1.1536332965995175, -1.0458008683090156, -1.1845502086936621, -1.6179944848535541, 0.027753117132022737, -0.03597787859543119, -0.6109525033400434, -0.006659128206266237, -1.9053029934010377, -0.1979953952563941, -1.970715611393755, -0.02374897918555784, 0.014002628836400495, 0.9021962904211355, -0.2186002004460576, 0.282987591536079, -0.4104780901919894, -0.29636306422899106, -1.0720115422654701, 1.4663762784345675, 0.518632479089715, 0.643572733575315, -0.5238831432693754], \"yaxis\": \"y5\"}, {\"histfunc\": \"count\", \"histnorm\": \"\", \"marker\": {\"color\": \"rgba(55, 128, 191, 1.0)\", \"line\": {\"color\": \"#4D5663\", \"width\": 1.3}}, \"name\": \"B\", \"nbinsx\": 10, \"opacity\": 0.8, \"orientation\": \"v\", \"type\": \"histogram\", \"x\": [-0.6750720095040574, -0.6236632378538945, 0.31648115090713874, 0.006625469958763555, 1.0701445375157368, -1.489988600379836, 0.7894479972844892, 0.9173170404148899, -0.03236558870315396, 0.531828866922249, 0.5886330258336944, -1.167976713880715, -0.7162100002669591, -0.5414831307678194, 0.7840457615721561, -0.46930537859098814, -0.7892004007784026, 0.15190499519329212, -0.13488847109679594, 0.9560305771827087, 0.9836328201693666, 1.113069160455684, 0.3815657149703171, 1.3561175238140253, -1.0417651856920722, 0.6451841844568005, -0.4828578505139144, 1.5246445699148836, 0.06537554774633204, 0.04931160611207707, 1.9347732812598075, -0.8061165056880444, 1.0744399572724777, -0.38326628912131316, -1.7407112541746834, -1.1789405193606934, -1.4075963840229924, -0.40096512182303085, 0.3220761194308544, -0.9234853236877474, -2.0334595526466446, 0.7776897486339085, -0.9807388724402262, 0.6367945434202201, 1.2749049396021885, 1.5095220335919506, -1.0861773553362357, 0.2928360719752721, -1.0635379361026216, 0.5682472797409951, -0.9001092545463106, -0.40166002883131624, 0.15203268993711191, 0.5507806044416774, -0.406142216960143, -1.217479641294983, 0.6917269041894943, -0.911829853729197, -1.4102896333460009, -1.1411785121505986, -0.08111764128140288, -1.2905700010948244, 0.15246509174095685, 0.5514074713986842, -0.5748023680027282, -0.17533905191623023, 0.2750882818594264, -0.06060424378975698, 0.48929733464317215, -0.8521185592816384, 0.14843460207767809, 0.36699416075794683, -0.1763066172519723, 0.6767034425170794, -1.0558797509891396, -1.2618686077621954, -0.7013920682499339, -1.1536332965995175, -1.0458008683090156, -1.1845502086936621, -1.6179944848535541, 0.027753117132022737, -0.03597787859543119, -0.6109525033400434, -0.006659128206266237, -1.9053029934010377, -0.1979953952563941, -1.970715611393755, -0.02374897918555784, 0.014002628836400495, 0.9021962904211355, -0.2186002004460576, 0.282987591536079, -0.4104780901919894, -0.29636306422899106, -1.0720115422654701, 1.4663762784345675, 0.518632479089715, 0.643572733575315, -0.5238831432693754], \"xaxis\": \"x6\", \"yaxis\": \"y6\"}, {\"line\": {\"color\": \"rgba(128, 128, 128, 1.0)\", \"dash\": \"solid\", \"shape\": \"linear\", \"width\": 1.3}, \"marker\": {\"size\": 2, \"symbol\": \"circle\"}, \"mode\": \"markers\", \"name\": \"B\", \"text\": \"\", \"type\": \"scatter\", \"x\": [-0.5197271978581905, -0.35702079986068197, -0.6751074162834202, -0.8290603698439113, -1.7620567856664684, 0.22579158270393165, 0.00808063258413915, -0.6891205740873824, 1.3805447654586755, -0.05653607792480402, -1.5578460253123274, -1.423940701684458, -1.2987087258472758, 0.6434196202513819, -0.06084163519495708, -0.3596184597698029, -0.1600839748573193, 0.4351329108949361, -0.037248400408046785, -0.2963151081901758, 0.1450065608648587, 1.1920904328243296, 0.21667688869310794, 0.6949961722611162, 0.9847769996892395, -0.0056276016213413355, 0.5004276282933069, 0.9065596468268876, 0.3913797397178053, 0.5194628533956177, 0.20180903715178042, -0.37102518269253304, 1.007985221807975, 1.2693324558378918, 1.8427949296226573, 0.5288485335232646, -0.6862959392121788, 1.4338661951430534, 0.006824530293811063, -0.23133092335789665, -1.5418740730564444, 0.8628701890453, -0.6483764997573348, -1.6029664806541335, -0.7940380352821212, -1.8951476576766457, -0.40041956603237083, 0.2964911317848158, 1.5899392607667207, 0.4312931244279361, -1.8737143112380912, 0.15598014843187272, -0.8561011752865471, 1.205915463923441, 0.08531616891935535, -0.2849719587160101, -0.49992372301677185, -0.1977389254022585, 0.9672487407550542, -2.1007611967290454, 2.5758556907585763, -1.3544767038489602, -0.5482520679537566, -0.14250855825853886, -0.31395089348855637, 0.22273658215192293, 1.6444651798928556, -0.1645639143914819, -0.4281820820795921, -0.44045908292905706, 1.8124573636463697, -2.0269863208849563, 0.1160077533479532, 2.0653426029572985, -0.5089496389521247, -0.12134215070011177, 0.5399005604153339, 0.722808318590877, 0.8803784655030259, -1.2061397944554992, 0.3970338332193433, -1.0746922682004565, 0.4206950439615749, -1.4792823364969105, -0.5587369720014077, -0.15698538565975714, -0.8612772787041048, 0.20900126254664594, -0.28515872294607314, 0.0036611009568451856, 0.5538991408164484, 2.926243867371199, 0.7796294023213519, -1.3660970894954452, 0.25571122605780455, -0.7818561652897893, -1.235332988189121, 1.4674049373740403, 0.25507104998325436, 0.44431307217121674], \"xaxis\": \"x7\", \"y\": [-0.6750720095040574, -0.6236632378538945, 0.31648115090713874, 0.006625469958763555, 1.0701445375157368, -1.489988600379836, 0.7894479972844892, 0.9173170404148899, -0.03236558870315396, 0.531828866922249, 0.5886330258336944, -1.167976713880715, -0.7162100002669591, -0.5414831307678194, 0.7840457615721561, -0.46930537859098814, -0.7892004007784026, 0.15190499519329212, -0.13488847109679594, 0.9560305771827087, 0.9836328201693666, 1.113069160455684, 0.3815657149703171, 1.3561175238140253, -1.0417651856920722, 0.6451841844568005, -0.4828578505139144, 1.5246445699148836, 0.06537554774633204, 0.04931160611207707, 1.9347732812598075, -0.8061165056880444, 1.0744399572724777, -0.38326628912131316, -1.7407112541746834, -1.1789405193606934, -1.4075963840229924, -0.40096512182303085, 0.3220761194308544, -0.9234853236877474, -2.0334595526466446, 0.7776897486339085, -0.9807388724402262, 0.6367945434202201, 1.2749049396021885, 1.5095220335919506, -1.0861773553362357, 0.2928360719752721, -1.0635379361026216, 0.5682472797409951, -0.9001092545463106, -0.40166002883131624, 0.15203268993711191, 0.5507806044416774, -0.406142216960143, -1.217479641294983, 0.6917269041894943, -0.911829853729197, -1.4102896333460009, -1.1411785121505986, -0.08111764128140288, -1.2905700010948244, 0.15246509174095685, 0.5514074713986842, -0.5748023680027282, -0.17533905191623023, 0.2750882818594264, -0.06060424378975698, 0.48929733464317215, -0.8521185592816384, 0.14843460207767809, 0.36699416075794683, -0.1763066172519723, 0.6767034425170794, -1.0558797509891396, -1.2618686077621954, -0.7013920682499339, -1.1536332965995175, -1.0458008683090156, -1.1845502086936621, -1.6179944848535541, 0.027753117132022737, -0.03597787859543119, -0.6109525033400434, -0.006659128206266237, -1.9053029934010377, -0.1979953952563941, -1.970715611393755, -0.02374897918555784, 0.014002628836400495, 0.9021962904211355, -0.2186002004460576, 0.282987591536079, -0.4104780901919894, -0.29636306422899106, -1.0720115422654701, 1.4663762784345675, 0.518632479089715, 0.643572733575315, -0.5238831432693754], \"yaxis\": \"y7\"}, {\"line\": {\"color\": \"rgba(128, 128, 128, 1.0)\", \"dash\": \"solid\", \"shape\": \"linear\", \"width\": 1.3}, \"marker\": {\"size\": 2, \"symbol\": \"circle\"}, \"mode\": \"markers\", \"name\": \"B\", \"text\": \"\", \"type\": \"scatter\", \"x\": [0.18942170519626872, -1.2802194731604748, 0.6349376524449637, -0.5504493747747182, -0.7052055592080125, -0.20621564334914896, 0.17785259437516168, 1.0675198214940365, 0.43278494355204966, -1.1979095622506206, 0.03377723660122678, -0.5844708269743173, -1.3259672968360285, -1.5768099286883155, -0.5745729240121211, -0.09220113732000862, 0.045936116104723645, 1.3791850474193161, 1.8582293288358758, 0.3689175248690529, 0.10787976561289657, -0.5595527120732183, -1.4134306157866812, -0.9627143604904586, 1.146387094842736, 1.562875052994166, 0.12792405719541777, 0.4692887195328484, -1.3292574772861743, 0.14539836343131582, -0.019269658825584794, -0.4628263841159192, -1.2579807391391045, -1.98788066802929, 0.05924856073748593, -0.16311938920992022, -0.27527171490132246, -0.15839675467227424, 0.30242416587063015, -0.8495425020657296, -0.4586702146018039, 0.08460838908589949, -2.394485298556269, 0.44435681397663634, 0.2445539721871795, -0.21942588916376973, 0.5593116756375367, -0.8382612967116606, -0.8801381638643744, 2.2119414718170582, -1.8595165157814173, 0.17087544617586234, 0.34126648026356315, 0.48670860790953857, -0.4178684019411358, -0.06418358333556115, 0.7270068870675426, 0.7734335640748874, 0.5849299447104188, -0.09745409043521285, 1.0429191705092615, -1.7722403207134747, -1.8495043259843567, -0.7792485620696873, 1.600271390275063, -0.6374166322996777, -0.38594804544541017, -0.32338577033233395, -0.06479085716062354, 0.4400675832296403, -1.0249528267596215, -0.7466060800255195, -0.35496339596247256, 1.4494676348279423, 1.0924735876914018, 2.257533687084062, -1.0196171714000544, -0.9570592291527833, -1.5508421070797296, -1.5378804322035184, 0.47728934923457966, -1.1191201363418921, -0.04468329386381377, -0.10629130596692232, 0.3616265796275296, 0.6891470617042107, -1.9189015917736612, 1.0490773829306952, 1.5753947224514775, 0.8358400820596704, -1.3948517425353133, -0.525009371351308, -0.29431542845104475, 0.3042360977060703, -0.6706043911388967, 0.07321410292070137, -0.717643881557239, -0.10093489837101675, -0.38363037570998165, 1.9918704037414345], \"xaxis\": \"x8\", \"y\": [-0.6750720095040574, -0.6236632378538945, 0.31648115090713874, 0.006625469958763555, 1.0701445375157368, -1.489988600379836, 0.7894479972844892, 0.9173170404148899, -0.03236558870315396, 0.531828866922249, 0.5886330258336944, -1.167976713880715, -0.7162100002669591, -0.5414831307678194, 0.7840457615721561, -0.46930537859098814, -0.7892004007784026, 0.15190499519329212, -0.13488847109679594, 0.9560305771827087, 0.9836328201693666, 1.113069160455684, 0.3815657149703171, 1.3561175238140253, -1.0417651856920722, 0.6451841844568005, -0.4828578505139144, 1.5246445699148836, 0.06537554774633204, 0.04931160611207707, 1.9347732812598075, -0.8061165056880444, 1.0744399572724777, -0.38326628912131316, -1.7407112541746834, -1.1789405193606934, -1.4075963840229924, -0.40096512182303085, 0.3220761194308544, -0.9234853236877474, -2.0334595526466446, 0.7776897486339085, -0.9807388724402262, 0.6367945434202201, 1.2749049396021885, 1.5095220335919506, -1.0861773553362357, 0.2928360719752721, -1.0635379361026216, 0.5682472797409951, -0.9001092545463106, -0.40166002883131624, 0.15203268993711191, 0.5507806044416774, -0.406142216960143, -1.217479641294983, 0.6917269041894943, -0.911829853729197, -1.4102896333460009, -1.1411785121505986, -0.08111764128140288, -1.2905700010948244, 0.15246509174095685, 0.5514074713986842, -0.5748023680027282, -0.17533905191623023, 0.2750882818594264, -0.06060424378975698, 0.48929733464317215, -0.8521185592816384, 0.14843460207767809, 0.36699416075794683, -0.1763066172519723, 0.6767034425170794, -1.0558797509891396, -1.2618686077621954, -0.7013920682499339, -1.1536332965995175, -1.0458008683090156, -1.1845502086936621, -1.6179944848535541, 0.027753117132022737, -0.03597787859543119, -0.6109525033400434, -0.006659128206266237, -1.9053029934010377, -0.1979953952563941, -1.970715611393755, -0.02374897918555784, 0.014002628836400495, 0.9021962904211355, -0.2186002004460576, 0.282987591536079, -0.4104780901919894, -0.29636306422899106, -1.0720115422654701, 1.4663762784345675, 0.518632479089715, 0.643572733575315, -0.5238831432693754], \"yaxis\": \"y8\"}, {\"line\": {\"color\": \"rgba(128, 128, 128, 1.0)\", \"dash\": \"solid\", \"shape\": \"linear\", \"width\": 1.3}, \"marker\": {\"size\": 2, \"symbol\": \"circle\"}, \"mode\": \"markers\", \"name\": \"C\", \"text\": \"\", \"type\": \"scatter\", \"x\": [-0.47994138356102345, 0.16000001454505774, 1.2996849606416845, -0.3459934331228707, 1.0368948135116955, 0.07946965327892691, 0.02947178831828827, -0.26772555546117177, -2.0314116116032723, -0.7776726685287725, -0.6632265573499633, 0.040338171293861545, 0.03099329497456494, 1.30667900546974, -0.037687242533143366, 0.73556867266476, 0.1957228240044999, -1.0482986804628374, 1.0503916976168206, 0.3384999073480586, -0.14838682865663155, -1.849858632992489, -1.1910865283155898, 1.5553865160982832, 0.986449102796202, 0.07626968937010195, -0.7144282219471334, -1.95459396507943, 0.5166017932497404, -0.1272350411517917, 0.3651824330336992, 0.629568772242452, 0.2238905949170703, -0.4080627997126574, 0.2459532769412293, -1.4375822191198364, 1.1953127234968812, 0.20642350123956282, -0.6118149783961775, -0.3516522754108534, 0.3864587743634232, 0.5578874059130349, -1.2239437975712937, -0.5751253948097974, -0.8161879128352467, 0.728310144983823, 1.0285518125814623, -0.061080867479822096, 0.5456049906240891, 1.6757326714528262, 1.1259534774275948, 2.1679146833244065, 0.3627705444531118, -0.2007163005561877, 1.5857603106850822, -0.14387374650148002, 0.6711681353081573, -2.077686313631864, -0.8339634788937905, -1.5147815926076582, -0.2426824940955602, -0.05900561048931461, -0.5015572453005709, -1.02382765079118, 0.6594628547687229, -0.23529898779933406, 0.989301732841858, 1.0913142676056113, 0.9047811195866384, 2.171823959268939, 0.8660901043897223, -1.009123777500051, -1.2739552439273125, -0.8003558594463309, -0.7227937984759449, -0.4548814893006097, -1.2973334617697536, -0.40436366793090245, -0.5467723352316892, 1.3324985767546997, -0.3000650152937515, -2.4463874579688456, 0.5366264052442478, 0.8394154584497169, -0.47075436156584355, 0.46846103114383303, 1.7485010794299531, -1.3189454373300313, -0.29883060294564007, 0.09313380405100766, 1.2964129012060845, 1.6132918404264132, -0.11654004163312816, -0.3113907853250452, 0.03577164272941658, -0.22212739215972332, 0.19790220317768603, 0.23463768157652232, -0.3274922195966929, -0.3594549556767431], \"xaxis\": \"x9\", \"y\": [-0.5197271978581905, -0.35702079986068197, -0.6751074162834202, -0.8290603698439113, -1.7620567856664684, 0.22579158270393165, 0.00808063258413915, -0.6891205740873824, 1.3805447654586755, -0.05653607792480402, -1.5578460253123274, -1.423940701684458, -1.2987087258472758, 0.6434196202513819, -0.06084163519495708, -0.3596184597698029, -0.1600839748573193, 0.4351329108949361, -0.037248400408046785, -0.2963151081901758, 0.1450065608648587, 1.1920904328243296, 0.21667688869310794, 0.6949961722611162, 0.9847769996892395, -0.0056276016213413355, 0.5004276282933069, 0.9065596468268876, 0.3913797397178053, 0.5194628533956177, 0.20180903715178042, -0.37102518269253304, 1.007985221807975, 1.2693324558378918, 1.8427949296226573, 0.5288485335232646, -0.6862959392121788, 1.4338661951430534, 0.006824530293811063, -0.23133092335789665, -1.5418740730564444, 0.8628701890453, -0.6483764997573348, -1.6029664806541335, -0.7940380352821212, -1.8951476576766457, -0.40041956603237083, 0.2964911317848158, 1.5899392607667207, 0.4312931244279361, -1.8737143112380912, 0.15598014843187272, -0.8561011752865471, 1.205915463923441, 0.08531616891935535, -0.2849719587160101, -0.49992372301677185, -0.1977389254022585, 0.9672487407550542, -2.1007611967290454, 2.5758556907585763, -1.3544767038489602, -0.5482520679537566, -0.14250855825853886, -0.31395089348855637, 0.22273658215192293, 1.6444651798928556, -0.1645639143914819, -0.4281820820795921, -0.44045908292905706, 1.8124573636463697, -2.0269863208849563, 0.1160077533479532, 2.0653426029572985, -0.5089496389521247, -0.12134215070011177, 0.5399005604153339, 0.722808318590877, 0.8803784655030259, -1.2061397944554992, 0.3970338332193433, -1.0746922682004565, 0.4206950439615749, -1.4792823364969105, -0.5587369720014077, -0.15698538565975714, -0.8612772787041048, 0.20900126254664594, -0.28515872294607314, 0.0036611009568451856, 0.5538991408164484, 2.926243867371199, 0.7796294023213519, -1.3660970894954452, 0.25571122605780455, -0.7818561652897893, -1.235332988189121, 1.4674049373740403, 0.25507104998325436, 0.44431307217121674], \"yaxis\": \"y9\"}, {\"line\": {\"color\": \"rgba(128, 128, 128, 1.0)\", \"dash\": \"solid\", \"shape\": \"linear\", \"width\": 1.3}, \"marker\": {\"size\": 2, \"symbol\": \"circle\"}, \"mode\": \"markers\", \"name\": \"C\", \"text\": \"\", \"type\": \"scatter\", \"x\": [-0.6750720095040574, -0.6236632378538945, 0.31648115090713874, 0.006625469958763555, 1.0701445375157368, -1.489988600379836, 0.7894479972844892, 0.9173170404148899, -0.03236558870315396, 0.531828866922249, 0.5886330258336944, -1.167976713880715, -0.7162100002669591, -0.5414831307678194, 0.7840457615721561, -0.46930537859098814, -0.7892004007784026, 0.15190499519329212, -0.13488847109679594, 0.9560305771827087, 0.9836328201693666, 1.113069160455684, 0.3815657149703171, 1.3561175238140253, -1.0417651856920722, 0.6451841844568005, -0.4828578505139144, 1.5246445699148836, 0.06537554774633204, 0.04931160611207707, 1.9347732812598075, -0.8061165056880444, 1.0744399572724777, -0.38326628912131316, -1.7407112541746834, -1.1789405193606934, -1.4075963840229924, -0.40096512182303085, 0.3220761194308544, -0.9234853236877474, -2.0334595526466446, 0.7776897486339085, -0.9807388724402262, 0.6367945434202201, 1.2749049396021885, 1.5095220335919506, -1.0861773553362357, 0.2928360719752721, -1.0635379361026216, 0.5682472797409951, -0.9001092545463106, -0.40166002883131624, 0.15203268993711191, 0.5507806044416774, -0.406142216960143, -1.217479641294983, 0.6917269041894943, -0.911829853729197, -1.4102896333460009, -1.1411785121505986, -0.08111764128140288, -1.2905700010948244, 0.15246509174095685, 0.5514074713986842, -0.5748023680027282, -0.17533905191623023, 0.2750882818594264, -0.06060424378975698, 0.48929733464317215, -0.8521185592816384, 0.14843460207767809, 0.36699416075794683, -0.1763066172519723, 0.6767034425170794, -1.0558797509891396, -1.2618686077621954, -0.7013920682499339, -1.1536332965995175, -1.0458008683090156, -1.1845502086936621, -1.6179944848535541, 0.027753117132022737, -0.03597787859543119, -0.6109525033400434, -0.006659128206266237, -1.9053029934010377, -0.1979953952563941, -1.970715611393755, -0.02374897918555784, 0.014002628836400495, 0.9021962904211355, -0.2186002004460576, 0.282987591536079, -0.4104780901919894, -0.29636306422899106, -1.0720115422654701, 1.4663762784345675, 0.518632479089715, 0.643572733575315, -0.5238831432693754], \"xaxis\": \"x10\", \"y\": [-0.5197271978581905, -0.35702079986068197, -0.6751074162834202, -0.8290603698439113, -1.7620567856664684, 0.22579158270393165, 0.00808063258413915, -0.6891205740873824, 1.3805447654586755, -0.05653607792480402, -1.5578460253123274, -1.423940701684458, -1.2987087258472758, 0.6434196202513819, -0.06084163519495708, -0.3596184597698029, -0.1600839748573193, 0.4351329108949361, -0.037248400408046785, -0.2963151081901758, 0.1450065608648587, 1.1920904328243296, 0.21667688869310794, 0.6949961722611162, 0.9847769996892395, -0.0056276016213413355, 0.5004276282933069, 0.9065596468268876, 0.3913797397178053, 0.5194628533956177, 0.20180903715178042, -0.37102518269253304, 1.007985221807975, 1.2693324558378918, 1.8427949296226573, 0.5288485335232646, -0.6862959392121788, 1.4338661951430534, 0.006824530293811063, -0.23133092335789665, -1.5418740730564444, 0.8628701890453, -0.6483764997573348, -1.6029664806541335, -0.7940380352821212, -1.8951476576766457, -0.40041956603237083, 0.2964911317848158, 1.5899392607667207, 0.4312931244279361, -1.8737143112380912, 0.15598014843187272, -0.8561011752865471, 1.205915463923441, 0.08531616891935535, -0.2849719587160101, -0.49992372301677185, -0.1977389254022585, 0.9672487407550542, -2.1007611967290454, 2.5758556907585763, -1.3544767038489602, -0.5482520679537566, -0.14250855825853886, -0.31395089348855637, 0.22273658215192293, 1.6444651798928556, -0.1645639143914819, -0.4281820820795921, -0.44045908292905706, 1.8124573636463697, -2.0269863208849563, 0.1160077533479532, 2.0653426029572985, -0.5089496389521247, -0.12134215070011177, 0.5399005604153339, 0.722808318590877, 0.8803784655030259, -1.2061397944554992, 0.3970338332193433, -1.0746922682004565, 0.4206950439615749, -1.4792823364969105, -0.5587369720014077, -0.15698538565975714, -0.8612772787041048, 0.20900126254664594, -0.28515872294607314, 0.0036611009568451856, 0.5538991408164484, 2.926243867371199, 0.7796294023213519, -1.3660970894954452, 0.25571122605780455, -0.7818561652897893, -1.235332988189121, 1.4674049373740403, 0.25507104998325436, 0.44431307217121674], \"yaxis\": \"y10\"}, {\"histfunc\": \"count\", \"histnorm\": \"\", \"marker\": {\"color\": \"rgba(50, 171, 96, 1.0)\", \"line\": {\"color\": \"#4D5663\", \"width\": 1.3}}, \"name\": \"C\", \"nbinsx\": 10, \"opacity\": 0.8, \"orientation\": \"v\", \"type\": \"histogram\", \"x\": [-0.5197271978581905, -0.35702079986068197, -0.6751074162834202, -0.8290603698439113, -1.7620567856664684, 0.22579158270393165, 0.00808063258413915, -0.6891205740873824, 1.3805447654586755, -0.05653607792480402, -1.5578460253123274, -1.423940701684458, -1.2987087258472758, 0.6434196202513819, -0.06084163519495708, -0.3596184597698029, -0.1600839748573193, 0.4351329108949361, -0.037248400408046785, -0.2963151081901758, 0.1450065608648587, 1.1920904328243296, 0.21667688869310794, 0.6949961722611162, 0.9847769996892395, -0.0056276016213413355, 0.5004276282933069, 0.9065596468268876, 0.3913797397178053, 0.5194628533956177, 0.20180903715178042, -0.37102518269253304, 1.007985221807975, 1.2693324558378918, 1.8427949296226573, 0.5288485335232646, -0.6862959392121788, 1.4338661951430534, 0.006824530293811063, -0.23133092335789665, -1.5418740730564444, 0.8628701890453, -0.6483764997573348, -1.6029664806541335, -0.7940380352821212, -1.8951476576766457, -0.40041956603237083, 0.2964911317848158, 1.5899392607667207, 0.4312931244279361, -1.8737143112380912, 0.15598014843187272, -0.8561011752865471, 1.205915463923441, 0.08531616891935535, -0.2849719587160101, -0.49992372301677185, -0.1977389254022585, 0.9672487407550542, -2.1007611967290454, 2.5758556907585763, -1.3544767038489602, -0.5482520679537566, -0.14250855825853886, -0.31395089348855637, 0.22273658215192293, 1.6444651798928556, -0.1645639143914819, -0.4281820820795921, -0.44045908292905706, 1.8124573636463697, -2.0269863208849563, 0.1160077533479532, 2.0653426029572985, -0.5089496389521247, -0.12134215070011177, 0.5399005604153339, 0.722808318590877, 0.8803784655030259, -1.2061397944554992, 0.3970338332193433, -1.0746922682004565, 0.4206950439615749, -1.4792823364969105, -0.5587369720014077, -0.15698538565975714, -0.8612772787041048, 0.20900126254664594, -0.28515872294607314, 0.0036611009568451856, 0.5538991408164484, 2.926243867371199, 0.7796294023213519, -1.3660970894954452, 0.25571122605780455, -0.7818561652897893, -1.235332988189121, 1.4674049373740403, 0.25507104998325436, 0.44431307217121674], \"xaxis\": \"x11\", \"yaxis\": \"y11\"}, {\"line\": {\"color\": \"rgba(128, 128, 128, 1.0)\", \"dash\": \"solid\", \"shape\": \"linear\", \"width\": 1.3}, \"marker\": {\"size\": 2, \"symbol\": \"circle\"}, \"mode\": \"markers\", \"name\": \"C\", \"text\": \"\", \"type\": \"scatter\", \"x\": [0.18942170519626872, -1.2802194731604748, 0.6349376524449637, -0.5504493747747182, -0.7052055592080125, -0.20621564334914896, 0.17785259437516168, 1.0675198214940365, 0.43278494355204966, -1.1979095622506206, 0.03377723660122678, -0.5844708269743173, -1.3259672968360285, -1.5768099286883155, -0.5745729240121211, -0.09220113732000862, 0.045936116104723645, 1.3791850474193161, 1.8582293288358758, 0.3689175248690529, 0.10787976561289657, -0.5595527120732183, -1.4134306157866812, -0.9627143604904586, 1.146387094842736, 1.562875052994166, 0.12792405719541777, 0.4692887195328484, -1.3292574772861743, 0.14539836343131582, -0.019269658825584794, -0.4628263841159192, -1.2579807391391045, -1.98788066802929, 0.05924856073748593, -0.16311938920992022, -0.27527171490132246, -0.15839675467227424, 0.30242416587063015, -0.8495425020657296, -0.4586702146018039, 0.08460838908589949, -2.394485298556269, 0.44435681397663634, 0.2445539721871795, -0.21942588916376973, 0.5593116756375367, -0.8382612967116606, -0.8801381638643744, 2.2119414718170582, -1.8595165157814173, 0.17087544617586234, 0.34126648026356315, 0.48670860790953857, -0.4178684019411358, -0.06418358333556115, 0.7270068870675426, 0.7734335640748874, 0.5849299447104188, -0.09745409043521285, 1.0429191705092615, -1.7722403207134747, -1.8495043259843567, -0.7792485620696873, 1.600271390275063, -0.6374166322996777, -0.38594804544541017, -0.32338577033233395, -0.06479085716062354, 0.4400675832296403, -1.0249528267596215, -0.7466060800255195, -0.35496339596247256, 1.4494676348279423, 1.0924735876914018, 2.257533687084062, -1.0196171714000544, -0.9570592291527833, -1.5508421070797296, -1.5378804322035184, 0.47728934923457966, -1.1191201363418921, -0.04468329386381377, -0.10629130596692232, 0.3616265796275296, 0.6891470617042107, -1.9189015917736612, 1.0490773829306952, 1.5753947224514775, 0.8358400820596704, -1.3948517425353133, -0.525009371351308, -0.29431542845104475, 0.3042360977060703, -0.6706043911388967, 0.07321410292070137, -0.717643881557239, -0.10093489837101675, -0.38363037570998165, 1.9918704037414345], \"xaxis\": \"x12\", \"y\": [-0.5197271978581905, -0.35702079986068197, -0.6751074162834202, -0.8290603698439113, -1.7620567856664684, 0.22579158270393165, 0.00808063258413915, -0.6891205740873824, 1.3805447654586755, -0.05653607792480402, -1.5578460253123274, -1.423940701684458, -1.2987087258472758, 0.6434196202513819, -0.06084163519495708, -0.3596184597698029, -0.1600839748573193, 0.4351329108949361, -0.037248400408046785, -0.2963151081901758, 0.1450065608648587, 1.1920904328243296, 0.21667688869310794, 0.6949961722611162, 0.9847769996892395, -0.0056276016213413355, 0.5004276282933069, 0.9065596468268876, 0.3913797397178053, 0.5194628533956177, 0.20180903715178042, -0.37102518269253304, 1.007985221807975, 1.2693324558378918, 1.8427949296226573, 0.5288485335232646, -0.6862959392121788, 1.4338661951430534, 0.006824530293811063, -0.23133092335789665, -1.5418740730564444, 0.8628701890453, -0.6483764997573348, -1.6029664806541335, -0.7940380352821212, -1.8951476576766457, -0.40041956603237083, 0.2964911317848158, 1.5899392607667207, 0.4312931244279361, -1.8737143112380912, 0.15598014843187272, -0.8561011752865471, 1.205915463923441, 0.08531616891935535, -0.2849719587160101, -0.49992372301677185, -0.1977389254022585, 0.9672487407550542, -2.1007611967290454, 2.5758556907585763, -1.3544767038489602, -0.5482520679537566, -0.14250855825853886, -0.31395089348855637, 0.22273658215192293, 1.6444651798928556, -0.1645639143914819, -0.4281820820795921, -0.44045908292905706, 1.8124573636463697, -2.0269863208849563, 0.1160077533479532, 2.0653426029572985, -0.5089496389521247, -0.12134215070011177, 0.5399005604153339, 0.722808318590877, 0.8803784655030259, -1.2061397944554992, 0.3970338332193433, -1.0746922682004565, 0.4206950439615749, -1.4792823364969105, -0.5587369720014077, -0.15698538565975714, -0.8612772787041048, 0.20900126254664594, -0.28515872294607314, 0.0036611009568451856, 0.5538991408164484, 2.926243867371199, 0.7796294023213519, -1.3660970894954452, 0.25571122605780455, -0.7818561652897893, -1.235332988189121, 1.4674049373740403, 0.25507104998325436, 0.44431307217121674], \"yaxis\": \"y12\"}, {\"line\": {\"color\": \"rgba(128, 128, 128, 1.0)\", \"dash\": \"solid\", \"shape\": \"linear\", \"width\": 1.3}, \"marker\": {\"size\": 2, \"symbol\": \"circle\"}, \"mode\": \"markers\", \"name\": \"D\", \"text\": \"\", \"type\": \"scatter\", \"x\": [-0.47994138356102345, 0.16000001454505774, 1.2996849606416845, -0.3459934331228707, 1.0368948135116955, 0.07946965327892691, 0.02947178831828827, -0.26772555546117177, -2.0314116116032723, -0.7776726685287725, -0.6632265573499633, 0.040338171293861545, 0.03099329497456494, 1.30667900546974, -0.037687242533143366, 0.73556867266476, 0.1957228240044999, -1.0482986804628374, 1.0503916976168206, 0.3384999073480586, -0.14838682865663155, -1.849858632992489, -1.1910865283155898, 1.5553865160982832, 0.986449102796202, 0.07626968937010195, -0.7144282219471334, -1.95459396507943, 0.5166017932497404, -0.1272350411517917, 0.3651824330336992, 0.629568772242452, 0.2238905949170703, -0.4080627997126574, 0.2459532769412293, -1.4375822191198364, 1.1953127234968812, 0.20642350123956282, -0.6118149783961775, -0.3516522754108534, 0.3864587743634232, 0.5578874059130349, -1.2239437975712937, -0.5751253948097974, -0.8161879128352467, 0.728310144983823, 1.0285518125814623, -0.061080867479822096, 0.5456049906240891, 1.6757326714528262, 1.1259534774275948, 2.1679146833244065, 0.3627705444531118, -0.2007163005561877, 1.5857603106850822, -0.14387374650148002, 0.6711681353081573, -2.077686313631864, -0.8339634788937905, -1.5147815926076582, -0.2426824940955602, -0.05900561048931461, -0.5015572453005709, -1.02382765079118, 0.6594628547687229, -0.23529898779933406, 0.989301732841858, 1.0913142676056113, 0.9047811195866384, 2.171823959268939, 0.8660901043897223, -1.009123777500051, -1.2739552439273125, -0.8003558594463309, -0.7227937984759449, -0.4548814893006097, -1.2973334617697536, -0.40436366793090245, -0.5467723352316892, 1.3324985767546997, -0.3000650152937515, -2.4463874579688456, 0.5366264052442478, 0.8394154584497169, -0.47075436156584355, 0.46846103114383303, 1.7485010794299531, -1.3189454373300313, -0.29883060294564007, 0.09313380405100766, 1.2964129012060845, 1.6132918404264132, -0.11654004163312816, -0.3113907853250452, 0.03577164272941658, -0.22212739215972332, 0.19790220317768603, 0.23463768157652232, -0.3274922195966929, -0.3594549556767431], \"xaxis\": \"x13\", \"y\": [0.18942170519626872, -1.2802194731604748, 0.6349376524449637, -0.5504493747747182, -0.7052055592080125, -0.20621564334914896, 0.17785259437516168, 1.0675198214940365, 0.43278494355204966, -1.1979095622506206, 0.03377723660122678, -0.5844708269743173, -1.3259672968360285, -1.5768099286883155, -0.5745729240121211, -0.09220113732000862, 0.045936116104723645, 1.3791850474193161, 1.8582293288358758, 0.3689175248690529, 0.10787976561289657, -0.5595527120732183, -1.4134306157866812, -0.9627143604904586, 1.146387094842736, 1.562875052994166, 0.12792405719541777, 0.4692887195328484, -1.3292574772861743, 0.14539836343131582, -0.019269658825584794, -0.4628263841159192, -1.2579807391391045, -1.98788066802929, 0.05924856073748593, -0.16311938920992022, -0.27527171490132246, -0.15839675467227424, 0.30242416587063015, -0.8495425020657296, -0.4586702146018039, 0.08460838908589949, -2.394485298556269, 0.44435681397663634, 0.2445539721871795, -0.21942588916376973, 0.5593116756375367, -0.8382612967116606, -0.8801381638643744, 2.2119414718170582, -1.8595165157814173, 0.17087544617586234, 0.34126648026356315, 0.48670860790953857, -0.4178684019411358, -0.06418358333556115, 0.7270068870675426, 0.7734335640748874, 0.5849299447104188, -0.09745409043521285, 1.0429191705092615, -1.7722403207134747, -1.8495043259843567, -0.7792485620696873, 1.600271390275063, -0.6374166322996777, -0.38594804544541017, -0.32338577033233395, -0.06479085716062354, 0.4400675832296403, -1.0249528267596215, -0.7466060800255195, -0.35496339596247256, 1.4494676348279423, 1.0924735876914018, 2.257533687084062, -1.0196171714000544, -0.9570592291527833, -1.5508421070797296, -1.5378804322035184, 0.47728934923457966, -1.1191201363418921, -0.04468329386381377, -0.10629130596692232, 0.3616265796275296, 0.6891470617042107, -1.9189015917736612, 1.0490773829306952, 1.5753947224514775, 0.8358400820596704, -1.3948517425353133, -0.525009371351308, -0.29431542845104475, 0.3042360977060703, -0.6706043911388967, 0.07321410292070137, -0.717643881557239, -0.10093489837101675, -0.38363037570998165, 1.9918704037414345], \"yaxis\": \"y13\"}, {\"line\": {\"color\": \"rgba(128, 128, 128, 1.0)\", \"dash\": \"solid\", \"shape\": \"linear\", \"width\": 1.3}, \"marker\": {\"size\": 2, \"symbol\": \"circle\"}, \"mode\": \"markers\", \"name\": \"D\", \"text\": \"\", \"type\": \"scatter\", \"x\": [-0.6750720095040574, -0.6236632378538945, 0.31648115090713874, 0.006625469958763555, 1.0701445375157368, -1.489988600379836, 0.7894479972844892, 0.9173170404148899, -0.03236558870315396, 0.531828866922249, 0.5886330258336944, -1.167976713880715, -0.7162100002669591, -0.5414831307678194, 0.7840457615721561, -0.46930537859098814, -0.7892004007784026, 0.15190499519329212, -0.13488847109679594, 0.9560305771827087, 0.9836328201693666, 1.113069160455684, 0.3815657149703171, 1.3561175238140253, -1.0417651856920722, 0.6451841844568005, -0.4828578505139144, 1.5246445699148836, 0.06537554774633204, 0.04931160611207707, 1.9347732812598075, -0.8061165056880444, 1.0744399572724777, -0.38326628912131316, -1.7407112541746834, -1.1789405193606934, -1.4075963840229924, -0.40096512182303085, 0.3220761194308544, -0.9234853236877474, -2.0334595526466446, 0.7776897486339085, -0.9807388724402262, 0.6367945434202201, 1.2749049396021885, 1.5095220335919506, -1.0861773553362357, 0.2928360719752721, -1.0635379361026216, 0.5682472797409951, -0.9001092545463106, -0.40166002883131624, 0.15203268993711191, 0.5507806044416774, -0.406142216960143, -1.217479641294983, 0.6917269041894943, -0.911829853729197, -1.4102896333460009, -1.1411785121505986, -0.08111764128140288, -1.2905700010948244, 0.15246509174095685, 0.5514074713986842, -0.5748023680027282, -0.17533905191623023, 0.2750882818594264, -0.06060424378975698, 0.48929733464317215, -0.8521185592816384, 0.14843460207767809, 0.36699416075794683, -0.1763066172519723, 0.6767034425170794, -1.0558797509891396, -1.2618686077621954, -0.7013920682499339, -1.1536332965995175, -1.0458008683090156, -1.1845502086936621, -1.6179944848535541, 0.027753117132022737, -0.03597787859543119, -0.6109525033400434, -0.006659128206266237, -1.9053029934010377, -0.1979953952563941, -1.970715611393755, -0.02374897918555784, 0.014002628836400495, 0.9021962904211355, -0.2186002004460576, 0.282987591536079, -0.4104780901919894, -0.29636306422899106, -1.0720115422654701, 1.4663762784345675, 0.518632479089715, 0.643572733575315, -0.5238831432693754], \"xaxis\": \"x14\", \"y\": [0.18942170519626872, -1.2802194731604748, 0.6349376524449637, -0.5504493747747182, -0.7052055592080125, -0.20621564334914896, 0.17785259437516168, 1.0675198214940365, 0.43278494355204966, -1.1979095622506206, 0.03377723660122678, -0.5844708269743173, -1.3259672968360285, -1.5768099286883155, -0.5745729240121211, -0.09220113732000862, 0.045936116104723645, 1.3791850474193161, 1.8582293288358758, 0.3689175248690529, 0.10787976561289657, -0.5595527120732183, -1.4134306157866812, -0.9627143604904586, 1.146387094842736, 1.562875052994166, 0.12792405719541777, 0.4692887195328484, -1.3292574772861743, 0.14539836343131582, -0.019269658825584794, -0.4628263841159192, -1.2579807391391045, -1.98788066802929, 0.05924856073748593, -0.16311938920992022, -0.27527171490132246, -0.15839675467227424, 0.30242416587063015, -0.8495425020657296, -0.4586702146018039, 0.08460838908589949, -2.394485298556269, 0.44435681397663634, 0.2445539721871795, -0.21942588916376973, 0.5593116756375367, -0.8382612967116606, -0.8801381638643744, 2.2119414718170582, -1.8595165157814173, 0.17087544617586234, 0.34126648026356315, 0.48670860790953857, -0.4178684019411358, -0.06418358333556115, 0.7270068870675426, 0.7734335640748874, 0.5849299447104188, -0.09745409043521285, 1.0429191705092615, -1.7722403207134747, -1.8495043259843567, -0.7792485620696873, 1.600271390275063, -0.6374166322996777, -0.38594804544541017, -0.32338577033233395, -0.06479085716062354, 0.4400675832296403, -1.0249528267596215, -0.7466060800255195, -0.35496339596247256, 1.4494676348279423, 1.0924735876914018, 2.257533687084062, -1.0196171714000544, -0.9570592291527833, -1.5508421070797296, -1.5378804322035184, 0.47728934923457966, -1.1191201363418921, -0.04468329386381377, -0.10629130596692232, 0.3616265796275296, 0.6891470617042107, -1.9189015917736612, 1.0490773829306952, 1.5753947224514775, 0.8358400820596704, -1.3948517425353133, -0.525009371351308, -0.29431542845104475, 0.3042360977060703, -0.6706043911388967, 0.07321410292070137, -0.717643881557239, -0.10093489837101675, -0.38363037570998165, 1.9918704037414345], \"yaxis\": \"y14\"}, {\"line\": {\"color\": \"rgba(128, 128, 128, 1.0)\", \"dash\": \"solid\", \"shape\": \"linear\", \"width\": 1.3}, \"marker\": {\"size\": 2, \"symbol\": \"circle\"}, \"mode\": \"markers\", \"name\": \"D\", \"text\": \"\", \"type\": \"scatter\", \"x\": [-0.5197271978581905, -0.35702079986068197, -0.6751074162834202, -0.8290603698439113, -1.7620567856664684, 0.22579158270393165, 0.00808063258413915, -0.6891205740873824, 1.3805447654586755, -0.05653607792480402, -1.5578460253123274, -1.423940701684458, -1.2987087258472758, 0.6434196202513819, -0.06084163519495708, -0.3596184597698029, -0.1600839748573193, 0.4351329108949361, -0.037248400408046785, -0.2963151081901758, 0.1450065608648587, 1.1920904328243296, 0.21667688869310794, 0.6949961722611162, 0.9847769996892395, -0.0056276016213413355, 0.5004276282933069, 0.9065596468268876, 0.3913797397178053, 0.5194628533956177, 0.20180903715178042, -0.37102518269253304, 1.007985221807975, 1.2693324558378918, 1.8427949296226573, 0.5288485335232646, -0.6862959392121788, 1.4338661951430534, 0.006824530293811063, -0.23133092335789665, -1.5418740730564444, 0.8628701890453, -0.6483764997573348, -1.6029664806541335, -0.7940380352821212, -1.8951476576766457, -0.40041956603237083, 0.2964911317848158, 1.5899392607667207, 0.4312931244279361, -1.8737143112380912, 0.15598014843187272, -0.8561011752865471, 1.205915463923441, 0.08531616891935535, -0.2849719587160101, -0.49992372301677185, -0.1977389254022585, 0.9672487407550542, -2.1007611967290454, 2.5758556907585763, -1.3544767038489602, -0.5482520679537566, -0.14250855825853886, -0.31395089348855637, 0.22273658215192293, 1.6444651798928556, -0.1645639143914819, -0.4281820820795921, -0.44045908292905706, 1.8124573636463697, -2.0269863208849563, 0.1160077533479532, 2.0653426029572985, -0.5089496389521247, -0.12134215070011177, 0.5399005604153339, 0.722808318590877, 0.8803784655030259, -1.2061397944554992, 0.3970338332193433, -1.0746922682004565, 0.4206950439615749, -1.4792823364969105, -0.5587369720014077, -0.15698538565975714, -0.8612772787041048, 0.20900126254664594, -0.28515872294607314, 0.0036611009568451856, 0.5538991408164484, 2.926243867371199, 0.7796294023213519, -1.3660970894954452, 0.25571122605780455, -0.7818561652897893, -1.235332988189121, 1.4674049373740403, 0.25507104998325436, 0.44431307217121674], \"xaxis\": \"x15\", \"y\": [0.18942170519626872, -1.2802194731604748, 0.6349376524449637, -0.5504493747747182, -0.7052055592080125, -0.20621564334914896, 0.17785259437516168, 1.0675198214940365, 0.43278494355204966, -1.1979095622506206, 0.03377723660122678, -0.5844708269743173, -1.3259672968360285, -1.5768099286883155, -0.5745729240121211, -0.09220113732000862, 0.045936116104723645, 1.3791850474193161, 1.8582293288358758, 0.3689175248690529, 0.10787976561289657, -0.5595527120732183, -1.4134306157866812, -0.9627143604904586, 1.146387094842736, 1.562875052994166, 0.12792405719541777, 0.4692887195328484, -1.3292574772861743, 0.14539836343131582, -0.019269658825584794, -0.4628263841159192, -1.2579807391391045, -1.98788066802929, 0.05924856073748593, -0.16311938920992022, -0.27527171490132246, -0.15839675467227424, 0.30242416587063015, -0.8495425020657296, -0.4586702146018039, 0.08460838908589949, -2.394485298556269, 0.44435681397663634, 0.2445539721871795, -0.21942588916376973, 0.5593116756375367, -0.8382612967116606, -0.8801381638643744, 2.2119414718170582, -1.8595165157814173, 0.17087544617586234, 0.34126648026356315, 0.48670860790953857, -0.4178684019411358, -0.06418358333556115, 0.7270068870675426, 0.7734335640748874, 0.5849299447104188, -0.09745409043521285, 1.0429191705092615, -1.7722403207134747, -1.8495043259843567, -0.7792485620696873, 1.600271390275063, -0.6374166322996777, -0.38594804544541017, -0.32338577033233395, -0.06479085716062354, 0.4400675832296403, -1.0249528267596215, -0.7466060800255195, -0.35496339596247256, 1.4494676348279423, 1.0924735876914018, 2.257533687084062, -1.0196171714000544, -0.9570592291527833, -1.5508421070797296, -1.5378804322035184, 0.47728934923457966, -1.1191201363418921, -0.04468329386381377, -0.10629130596692232, 0.3616265796275296, 0.6891470617042107, -1.9189015917736612, 1.0490773829306952, 1.5753947224514775, 0.8358400820596704, -1.3948517425353133, -0.525009371351308, -0.29431542845104475, 0.3042360977060703, -0.6706043911388967, 0.07321410292070137, -0.717643881557239, -0.10093489837101675, -0.38363037570998165, 1.9918704037414345], \"yaxis\": \"y15\"}, {\"histfunc\": \"count\", \"histnorm\": \"\", \"marker\": {\"color\": \"rgba(128, 0, 128, 1.0)\", \"line\": {\"color\": \"#4D5663\", \"width\": 1.3}}, \"name\": \"D\", \"nbinsx\": 10, \"opacity\": 0.8, \"orientation\": \"v\", \"type\": \"histogram\", \"x\": [0.18942170519626872, -1.2802194731604748, 0.6349376524449637, -0.5504493747747182, -0.7052055592080125, -0.20621564334914896, 0.17785259437516168, 1.0675198214940365, 0.43278494355204966, -1.1979095622506206, 0.03377723660122678, -0.5844708269743173, -1.3259672968360285, -1.5768099286883155, -0.5745729240121211, -0.09220113732000862, 0.045936116104723645, 1.3791850474193161, 1.8582293288358758, 0.3689175248690529, 0.10787976561289657, -0.5595527120732183, -1.4134306157866812, -0.9627143604904586, 1.146387094842736, 1.562875052994166, 0.12792405719541777, 0.4692887195328484, -1.3292574772861743, 0.14539836343131582, -0.019269658825584794, -0.4628263841159192, -1.2579807391391045, -1.98788066802929, 0.05924856073748593, -0.16311938920992022, -0.27527171490132246, -0.15839675467227424, 0.30242416587063015, -0.8495425020657296, -0.4586702146018039, 0.08460838908589949, -2.394485298556269, 0.44435681397663634, 0.2445539721871795, -0.21942588916376973, 0.5593116756375367, -0.8382612967116606, -0.8801381638643744, 2.2119414718170582, -1.8595165157814173, 0.17087544617586234, 0.34126648026356315, 0.48670860790953857, -0.4178684019411358, -0.06418358333556115, 0.7270068870675426, 0.7734335640748874, 0.5849299447104188, -0.09745409043521285, 1.0429191705092615, -1.7722403207134747, -1.8495043259843567, -0.7792485620696873, 1.600271390275063, -0.6374166322996777, -0.38594804544541017, -0.32338577033233395, -0.06479085716062354, 0.4400675832296403, -1.0249528267596215, -0.7466060800255195, -0.35496339596247256, 1.4494676348279423, 1.0924735876914018, 2.257533687084062, -1.0196171714000544, -0.9570592291527833, -1.5508421070797296, -1.5378804322035184, 0.47728934923457966, -1.1191201363418921, -0.04468329386381377, -0.10629130596692232, 0.3616265796275296, 0.6891470617042107, -1.9189015917736612, 1.0490773829306952, 1.5753947224514775, 0.8358400820596704, -1.3948517425353133, -0.525009371351308, -0.29431542845104475, 0.3042360977060703, -0.6706043911388967, 0.07321410292070137, -0.717643881557239, -0.10093489837101675, -0.38363037570998165, 1.9918704037414345], \"xaxis\": \"x16\", \"yaxis\": \"y16\"}],\n",
       "                        {\"bargap\": 0.02, \"legend\": {\"bgcolor\": \"#F5F6F9\", \"font\": {\"color\": \"#4D5663\"}}, \"paper_bgcolor\": \"#F5F6F9\", \"plot_bgcolor\": \"#F5F6F9\", \"showlegend\": false, \"template\": {\"data\": {\"bar\": [{\"error_x\": {\"color\": \"#2a3f5f\"}, \"error_y\": {\"color\": \"#2a3f5f\"}, \"marker\": {\"line\": {\"color\": \"#E5ECF6\", \"width\": 0.5}}, \"type\": \"bar\"}], \"barpolar\": [{\"marker\": {\"line\": {\"color\": \"#E5ECF6\", \"width\": 0.5}}, \"type\": \"barpolar\"}], \"carpet\": [{\"aaxis\": {\"endlinecolor\": \"#2a3f5f\", \"gridcolor\": \"white\", \"linecolor\": \"white\", \"minorgridcolor\": \"white\", \"startlinecolor\": \"#2a3f5f\"}, \"baxis\": {\"endlinecolor\": \"#2a3f5f\", \"gridcolor\": \"white\", \"linecolor\": \"white\", \"minorgridcolor\": \"white\", \"startlinecolor\": \"#2a3f5f\"}, \"type\": \"carpet\"}], \"choropleth\": [{\"colorbar\": {\"outlinewidth\": 0, \"ticks\": \"\"}, \"type\": \"choropleth\"}], \"contour\": [{\"colorbar\": {\"outlinewidth\": 0, \"ticks\": \"\"}, \"colorscale\": [[0.0, \"#0d0887\"], [0.1111111111111111, \"#46039f\"], [0.2222222222222222, \"#7201a8\"], [0.3333333333333333, \"#9c179e\"], [0.4444444444444444, \"#bd3786\"], [0.5555555555555556, \"#d8576b\"], [0.6666666666666666, \"#ed7953\"], [0.7777777777777778, \"#fb9f3a\"], [0.8888888888888888, \"#fdca26\"], [1.0, \"#f0f921\"]], \"type\": \"contour\"}], \"contourcarpet\": [{\"colorbar\": {\"outlinewidth\": 0, \"ticks\": \"\"}, \"type\": \"contourcarpet\"}], \"heatmap\": [{\"colorbar\": {\"outlinewidth\": 0, \"ticks\": \"\"}, \"colorscale\": [[0.0, \"#0d0887\"], [0.1111111111111111, \"#46039f\"], [0.2222222222222222, \"#7201a8\"], [0.3333333333333333, \"#9c179e\"], [0.4444444444444444, \"#bd3786\"], [0.5555555555555556, \"#d8576b\"], [0.6666666666666666, \"#ed7953\"], [0.7777777777777778, \"#fb9f3a\"], [0.8888888888888888, \"#fdca26\"], [1.0, \"#f0f921\"]], \"type\": \"heatmap\"}], \"heatmapgl\": [{\"colorbar\": {\"outlinewidth\": 0, \"ticks\": \"\"}, \"colorscale\": [[0.0, \"#0d0887\"], [0.1111111111111111, \"#46039f\"], [0.2222222222222222, \"#7201a8\"], [0.3333333333333333, \"#9c179e\"], [0.4444444444444444, \"#bd3786\"], [0.5555555555555556, \"#d8576b\"], [0.6666666666666666, \"#ed7953\"], [0.7777777777777778, \"#fb9f3a\"], [0.8888888888888888, \"#fdca26\"], [1.0, \"#f0f921\"]], \"type\": \"heatmapgl\"}], \"histogram\": [{\"marker\": {\"colorbar\": {\"outlinewidth\": 0, \"ticks\": \"\"}}, \"type\": \"histogram\"}], \"histogram2d\": [{\"colorbar\": {\"outlinewidth\": 0, \"ticks\": \"\"}, \"colorscale\": [[0.0, \"#0d0887\"], [0.1111111111111111, \"#46039f\"], [0.2222222222222222, \"#7201a8\"], [0.3333333333333333, \"#9c179e\"], [0.4444444444444444, \"#bd3786\"], [0.5555555555555556, \"#d8576b\"], [0.6666666666666666, \"#ed7953\"], [0.7777777777777778, \"#fb9f3a\"], [0.8888888888888888, \"#fdca26\"], [1.0, \"#f0f921\"]], \"type\": \"histogram2d\"}], \"histogram2dcontour\": [{\"colorbar\": {\"outlinewidth\": 0, \"ticks\": \"\"}, \"colorscale\": [[0.0, \"#0d0887\"], [0.1111111111111111, \"#46039f\"], [0.2222222222222222, \"#7201a8\"], [0.3333333333333333, \"#9c179e\"], [0.4444444444444444, \"#bd3786\"], [0.5555555555555556, \"#d8576b\"], [0.6666666666666666, \"#ed7953\"], [0.7777777777777778, \"#fb9f3a\"], [0.8888888888888888, \"#fdca26\"], [1.0, \"#f0f921\"]], \"type\": \"histogram2dcontour\"}], \"mesh3d\": [{\"colorbar\": {\"outlinewidth\": 0, \"ticks\": \"\"}, \"type\": \"mesh3d\"}], \"parcoords\": [{\"line\": {\"colorbar\": {\"outlinewidth\": 0, \"ticks\": \"\"}}, \"type\": \"parcoords\"}], \"pie\": [{\"automargin\": true, \"type\": \"pie\"}], \"scatter\": [{\"marker\": {\"colorbar\": {\"outlinewidth\": 0, \"ticks\": \"\"}}, \"type\": \"scatter\"}], \"scatter3d\": [{\"line\": {\"colorbar\": {\"outlinewidth\": 0, \"ticks\": \"\"}}, \"marker\": {\"colorbar\": {\"outlinewidth\": 0, \"ticks\": \"\"}}, \"type\": \"scatter3d\"}], \"scattercarpet\": [{\"marker\": {\"colorbar\": {\"outlinewidth\": 0, \"ticks\": \"\"}}, \"type\": \"scattercarpet\"}], \"scattergeo\": [{\"marker\": {\"colorbar\": {\"outlinewidth\": 0, \"ticks\": \"\"}}, \"type\": \"scattergeo\"}], \"scattergl\": [{\"marker\": {\"colorbar\": {\"outlinewidth\": 0, \"ticks\": \"\"}}, \"type\": \"scattergl\"}], \"scattermapbox\": [{\"marker\": {\"colorbar\": {\"outlinewidth\": 0, \"ticks\": \"\"}}, \"type\": \"scattermapbox\"}], \"scatterpolar\": [{\"marker\": {\"colorbar\": {\"outlinewidth\": 0, \"ticks\": \"\"}}, \"type\": \"scatterpolar\"}], \"scatterpolargl\": [{\"marker\": {\"colorbar\": {\"outlinewidth\": 0, \"ticks\": \"\"}}, \"type\": \"scatterpolargl\"}], \"scatterternary\": [{\"marker\": {\"colorbar\": {\"outlinewidth\": 0, \"ticks\": \"\"}}, \"type\": \"scatterternary\"}], \"surface\": [{\"colorbar\": {\"outlinewidth\": 0, \"ticks\": \"\"}, \"colorscale\": [[0.0, \"#0d0887\"], [0.1111111111111111, \"#46039f\"], [0.2222222222222222, \"#7201a8\"], [0.3333333333333333, \"#9c179e\"], [0.4444444444444444, \"#bd3786\"], [0.5555555555555556, \"#d8576b\"], [0.6666666666666666, \"#ed7953\"], [0.7777777777777778, \"#fb9f3a\"], [0.8888888888888888, \"#fdca26\"], [1.0, \"#f0f921\"]], \"type\": \"surface\"}], \"table\": [{\"cells\": {\"fill\": {\"color\": \"#EBF0F8\"}, \"line\": {\"color\": \"white\"}}, \"header\": {\"fill\": {\"color\": \"#C8D4E3\"}, \"line\": {\"color\": \"white\"}}, \"type\": \"table\"}]}, \"layout\": {\"annotationdefaults\": {\"arrowcolor\": \"#2a3f5f\", \"arrowhead\": 0, \"arrowwidth\": 1}, \"coloraxis\": {\"colorbar\": {\"outlinewidth\": 0, \"ticks\": \"\"}}, \"colorscale\": {\"diverging\": [[0, \"#8e0152\"], [0.1, \"#c51b7d\"], [0.2, \"#de77ae\"], [0.3, \"#f1b6da\"], [0.4, \"#fde0ef\"], [0.5, \"#f7f7f7\"], [0.6, \"#e6f5d0\"], [0.7, \"#b8e186\"], [0.8, \"#7fbc41\"], [0.9, \"#4d9221\"], [1, \"#276419\"]], \"sequential\": [[0.0, \"#0d0887\"], [0.1111111111111111, \"#46039f\"], [0.2222222222222222, \"#7201a8\"], [0.3333333333333333, \"#9c179e\"], [0.4444444444444444, \"#bd3786\"], [0.5555555555555556, \"#d8576b\"], [0.6666666666666666, \"#ed7953\"], [0.7777777777777778, \"#fb9f3a\"], [0.8888888888888888, \"#fdca26\"], [1.0, \"#f0f921\"]], \"sequentialminus\": [[0.0, \"#0d0887\"], [0.1111111111111111, \"#46039f\"], [0.2222222222222222, \"#7201a8\"], [0.3333333333333333, \"#9c179e\"], [0.4444444444444444, \"#bd3786\"], [0.5555555555555556, \"#d8576b\"], [0.6666666666666666, \"#ed7953\"], [0.7777777777777778, \"#fb9f3a\"], [0.8888888888888888, \"#fdca26\"], [1.0, \"#f0f921\"]]}, \"colorway\": [\"#636efa\", \"#EF553B\", \"#00cc96\", \"#ab63fa\", \"#FFA15A\", \"#19d3f3\", \"#FF6692\", \"#B6E880\", \"#FF97FF\", \"#FECB52\"], \"font\": {\"color\": \"#2a3f5f\"}, \"geo\": {\"bgcolor\": \"white\", \"lakecolor\": \"white\", \"landcolor\": \"#E5ECF6\", \"showlakes\": true, \"showland\": true, \"subunitcolor\": \"white\"}, \"hoverlabel\": {\"align\": \"left\"}, \"hovermode\": \"closest\", \"mapbox\": {\"style\": \"light\"}, \"paper_bgcolor\": \"white\", \"plot_bgcolor\": \"#E5ECF6\", \"polar\": {\"angularaxis\": {\"gridcolor\": \"white\", \"linecolor\": \"white\", \"ticks\": \"\"}, \"bgcolor\": \"#E5ECF6\", \"radialaxis\": {\"gridcolor\": \"white\", \"linecolor\": \"white\", \"ticks\": \"\"}}, \"scene\": {\"xaxis\": {\"backgroundcolor\": \"#E5ECF6\", \"gridcolor\": \"white\", \"gridwidth\": 2, \"linecolor\": \"white\", \"showbackground\": true, \"ticks\": \"\", \"zerolinecolor\": \"white\"}, \"yaxis\": {\"backgroundcolor\": \"#E5ECF6\", \"gridcolor\": \"white\", \"gridwidth\": 2, \"linecolor\": \"white\", \"showbackground\": true, \"ticks\": \"\", \"zerolinecolor\": \"white\"}, \"zaxis\": {\"backgroundcolor\": \"#E5ECF6\", \"gridcolor\": \"white\", \"gridwidth\": 2, \"linecolor\": \"white\", \"showbackground\": true, \"ticks\": \"\", \"zerolinecolor\": \"white\"}}, \"shapedefaults\": {\"line\": {\"color\": \"#2a3f5f\"}}, \"ternary\": {\"aaxis\": {\"gridcolor\": \"white\", \"linecolor\": \"white\", \"ticks\": \"\"}, \"baxis\": {\"gridcolor\": \"white\", \"linecolor\": \"white\", \"ticks\": \"\"}, \"bgcolor\": \"#E5ECF6\", \"caxis\": {\"gridcolor\": \"white\", \"linecolor\": \"white\", \"ticks\": \"\"}}, \"title\": {\"x\": 0.05}, \"xaxis\": {\"automargin\": true, \"gridcolor\": \"white\", \"linecolor\": \"white\", \"ticks\": \"\", \"title\": {\"standoff\": 15}, \"zerolinecolor\": \"white\", \"zerolinewidth\": 2}, \"yaxis\": {\"automargin\": true, \"gridcolor\": \"white\", \"linecolor\": \"white\", \"ticks\": \"\", \"title\": {\"standoff\": 15}, \"zerolinecolor\": \"white\", \"zerolinewidth\": 2}}}, \"title\": {\"font\": {\"color\": \"#4D5663\"}}, \"xaxis\": {\"anchor\": \"y\", \"domain\": [0.0, 0.2125], \"gridcolor\": \"#E1E5ED\", \"showgrid\": false, \"tickfont\": {\"color\": \"#4D5663\"}, \"title\": {\"font\": {\"color\": \"#4D5663\"}, \"text\": \"\"}, \"zerolinecolor\": \"#E1E5ED\"}, \"xaxis10\": {\"anchor\": \"y10\", \"domain\": [0.2625, 0.475], \"gridcolor\": \"#E1E5ED\", \"showgrid\": false, \"tickfont\": {\"color\": \"#4D5663\"}, \"title\": {\"font\": {\"color\": \"#4D5663\"}, \"text\": \"\"}, \"zerolinecolor\": \"#E1E5ED\"}, \"xaxis11\": {\"anchor\": \"y11\", \"domain\": [0.525, 0.7375], \"gridcolor\": \"#E1E5ED\", \"showgrid\": false, \"tickfont\": {\"color\": \"#4D5663\"}, \"title\": {\"font\": {\"color\": \"#4D5663\"}, \"text\": \"\"}, \"zerolinecolor\": \"#E1E5ED\"}, \"xaxis12\": {\"anchor\": \"y12\", \"domain\": [0.7875, 1.0], \"gridcolor\": \"#E1E5ED\", \"showgrid\": false, \"tickfont\": {\"color\": \"#4D5663\"}, \"title\": {\"font\": {\"color\": \"#4D5663\"}, \"text\": \"\"}, \"zerolinecolor\": \"#E1E5ED\"}, \"xaxis13\": {\"anchor\": \"y13\", \"domain\": [0.0, 0.2125], \"gridcolor\": \"#E1E5ED\", \"showgrid\": false, \"tickfont\": {\"color\": \"#4D5663\"}, \"title\": {\"font\": {\"color\": \"#4D5663\"}, \"text\": \"\"}, \"zerolinecolor\": \"#E1E5ED\"}, \"xaxis14\": {\"anchor\": \"y14\", \"domain\": [0.2625, 0.475], \"gridcolor\": \"#E1E5ED\", \"showgrid\": false, \"tickfont\": {\"color\": \"#4D5663\"}, \"title\": {\"font\": {\"color\": \"#4D5663\"}, \"text\": \"\"}, \"zerolinecolor\": \"#E1E5ED\"}, \"xaxis15\": {\"anchor\": \"y15\", \"domain\": [0.525, 0.7375], \"gridcolor\": \"#E1E5ED\", \"showgrid\": false, \"tickfont\": {\"color\": \"#4D5663\"}, \"title\": {\"font\": {\"color\": \"#4D5663\"}, \"text\": \"\"}, \"zerolinecolor\": \"#E1E5ED\"}, \"xaxis16\": {\"anchor\": \"y16\", \"domain\": [0.7875, 1.0], \"gridcolor\": \"#E1E5ED\", \"showgrid\": false, \"tickfont\": {\"color\": \"#4D5663\"}, \"title\": {\"font\": {\"color\": \"#4D5663\"}, \"text\": \"\"}, \"zerolinecolor\": \"#E1E5ED\"}, \"xaxis2\": {\"anchor\": \"y2\", \"domain\": [0.2625, 0.475], \"gridcolor\": \"#E1E5ED\", \"showgrid\": false, \"tickfont\": {\"color\": \"#4D5663\"}, \"title\": {\"font\": {\"color\": \"#4D5663\"}, \"text\": \"\"}, \"zerolinecolor\": \"#E1E5ED\"}, \"xaxis3\": {\"anchor\": \"y3\", \"domain\": [0.525, 0.7375], \"gridcolor\": \"#E1E5ED\", \"showgrid\": false, \"tickfont\": {\"color\": \"#4D5663\"}, \"title\": {\"font\": {\"color\": \"#4D5663\"}, \"text\": \"\"}, \"zerolinecolor\": \"#E1E5ED\"}, \"xaxis4\": {\"anchor\": \"y4\", \"domain\": [0.7875, 1.0], \"gridcolor\": \"#E1E5ED\", \"showgrid\": false, \"tickfont\": {\"color\": \"#4D5663\"}, \"title\": {\"font\": {\"color\": \"#4D5663\"}, \"text\": \"\"}, \"zerolinecolor\": \"#E1E5ED\"}, \"xaxis5\": {\"anchor\": \"y5\", \"domain\": [0.0, 0.2125], \"gridcolor\": \"#E1E5ED\", \"showgrid\": false, \"tickfont\": {\"color\": \"#4D5663\"}, \"title\": {\"font\": {\"color\": \"#4D5663\"}, \"text\": \"\"}, \"zerolinecolor\": \"#E1E5ED\"}, \"xaxis6\": {\"anchor\": \"y6\", \"domain\": [0.2625, 0.475], \"gridcolor\": \"#E1E5ED\", \"showgrid\": false, \"tickfont\": {\"color\": \"#4D5663\"}, \"title\": {\"font\": {\"color\": \"#4D5663\"}, \"text\": \"\"}, \"zerolinecolor\": \"#E1E5ED\"}, \"xaxis7\": {\"anchor\": \"y7\", \"domain\": [0.525, 0.7375], \"gridcolor\": \"#E1E5ED\", \"showgrid\": false, \"tickfont\": {\"color\": \"#4D5663\"}, \"title\": {\"font\": {\"color\": \"#4D5663\"}, \"text\": \"\"}, \"zerolinecolor\": \"#E1E5ED\"}, \"xaxis8\": {\"anchor\": \"y8\", \"domain\": [0.7875, 1.0], \"gridcolor\": \"#E1E5ED\", \"showgrid\": false, \"tickfont\": {\"color\": \"#4D5663\"}, \"title\": {\"font\": {\"color\": \"#4D5663\"}, \"text\": \"\"}, \"zerolinecolor\": \"#E1E5ED\"}, \"xaxis9\": {\"anchor\": \"y9\", \"domain\": [0.0, 0.2125], \"gridcolor\": \"#E1E5ED\", \"showgrid\": false, \"tickfont\": {\"color\": \"#4D5663\"}, \"title\": {\"font\": {\"color\": \"#4D5663\"}, \"text\": \"\"}, \"zerolinecolor\": \"#E1E5ED\"}, \"yaxis\": {\"anchor\": \"x\", \"domain\": [0.8025, 1.0], \"gridcolor\": \"#E1E5ED\", \"showgrid\": false, \"tickfont\": {\"color\": \"#4D5663\"}, \"title\": {\"font\": {\"color\": \"#4D5663\"}, \"text\": \"\"}, \"zerolinecolor\": \"#E1E5ED\"}, \"yaxis10\": {\"anchor\": \"x10\", \"domain\": [0.2675, 0.465], \"gridcolor\": \"#E1E5ED\", \"showgrid\": false, \"tickfont\": {\"color\": \"#4D5663\"}, \"title\": {\"font\": {\"color\": \"#4D5663\"}, \"text\": \"\"}, \"zerolinecolor\": \"#E1E5ED\"}, \"yaxis11\": {\"anchor\": \"x11\", \"domain\": [0.2675, 0.465], \"gridcolor\": \"#E1E5ED\", \"showgrid\": false, \"tickfont\": {\"color\": \"#4D5663\"}, \"title\": {\"font\": {\"color\": \"#4D5663\"}, \"text\": \"\"}, \"zerolinecolor\": \"#E1E5ED\"}, \"yaxis12\": {\"anchor\": \"x12\", \"domain\": [0.2675, 0.465], \"gridcolor\": \"#E1E5ED\", \"showgrid\": false, \"tickfont\": {\"color\": \"#4D5663\"}, \"title\": {\"font\": {\"color\": \"#4D5663\"}, \"text\": \"\"}, \"zerolinecolor\": \"#E1E5ED\"}, \"yaxis13\": {\"anchor\": \"x13\", \"domain\": [0.0, 0.1975], \"gridcolor\": \"#E1E5ED\", \"showgrid\": false, \"tickfont\": {\"color\": \"#4D5663\"}, \"title\": {\"font\": {\"color\": \"#4D5663\"}, \"text\": \"\"}, \"zerolinecolor\": \"#E1E5ED\"}, \"yaxis14\": {\"anchor\": \"x14\", \"domain\": [0.0, 0.1975], \"gridcolor\": \"#E1E5ED\", \"showgrid\": false, \"tickfont\": {\"color\": \"#4D5663\"}, \"title\": {\"font\": {\"color\": \"#4D5663\"}, \"text\": \"\"}, \"zerolinecolor\": \"#E1E5ED\"}, \"yaxis15\": {\"anchor\": \"x15\", \"domain\": [0.0, 0.1975], \"gridcolor\": \"#E1E5ED\", \"showgrid\": false, \"tickfont\": {\"color\": \"#4D5663\"}, \"title\": {\"font\": {\"color\": \"#4D5663\"}, \"text\": \"\"}, \"zerolinecolor\": \"#E1E5ED\"}, \"yaxis16\": {\"anchor\": \"x16\", \"domain\": [0.0, 0.1975], \"gridcolor\": \"#E1E5ED\", \"showgrid\": false, \"tickfont\": {\"color\": \"#4D5663\"}, \"title\": {\"font\": {\"color\": \"#4D5663\"}, \"text\": \"\"}, \"zerolinecolor\": \"#E1E5ED\"}, \"yaxis2\": {\"anchor\": \"x2\", \"domain\": [0.8025, 1.0], \"gridcolor\": \"#E1E5ED\", \"showgrid\": false, \"tickfont\": {\"color\": \"#4D5663\"}, \"title\": {\"font\": {\"color\": \"#4D5663\"}, \"text\": \"\"}, \"zerolinecolor\": \"#E1E5ED\"}, \"yaxis3\": {\"anchor\": \"x3\", \"domain\": [0.8025, 1.0], \"gridcolor\": \"#E1E5ED\", \"showgrid\": false, \"tickfont\": {\"color\": \"#4D5663\"}, \"title\": {\"font\": {\"color\": \"#4D5663\"}, \"text\": \"\"}, \"zerolinecolor\": \"#E1E5ED\"}, \"yaxis4\": {\"anchor\": \"x4\", \"domain\": [0.8025, 1.0], \"gridcolor\": \"#E1E5ED\", \"showgrid\": false, \"tickfont\": {\"color\": \"#4D5663\"}, \"title\": {\"font\": {\"color\": \"#4D5663\"}, \"text\": \"\"}, \"zerolinecolor\": \"#E1E5ED\"}, \"yaxis5\": {\"anchor\": \"x5\", \"domain\": [0.535, 0.7325], \"gridcolor\": \"#E1E5ED\", \"showgrid\": false, \"tickfont\": {\"color\": \"#4D5663\"}, \"title\": {\"font\": {\"color\": \"#4D5663\"}, \"text\": \"\"}, \"zerolinecolor\": \"#E1E5ED\"}, \"yaxis6\": {\"anchor\": \"x6\", \"domain\": [0.535, 0.7325], \"gridcolor\": \"#E1E5ED\", \"showgrid\": false, \"tickfont\": {\"color\": \"#4D5663\"}, \"title\": {\"font\": {\"color\": \"#4D5663\"}, \"text\": \"\"}, \"zerolinecolor\": \"#E1E5ED\"}, \"yaxis7\": {\"anchor\": \"x7\", \"domain\": [0.535, 0.7325], \"gridcolor\": \"#E1E5ED\", \"showgrid\": false, \"tickfont\": {\"color\": \"#4D5663\"}, \"title\": {\"font\": {\"color\": \"#4D5663\"}, \"text\": \"\"}, \"zerolinecolor\": \"#E1E5ED\"}, \"yaxis8\": {\"anchor\": \"x8\", \"domain\": [0.535, 0.7325], \"gridcolor\": \"#E1E5ED\", \"showgrid\": false, \"tickfont\": {\"color\": \"#4D5663\"}, \"title\": {\"font\": {\"color\": \"#4D5663\"}, \"text\": \"\"}, \"zerolinecolor\": \"#E1E5ED\"}, \"yaxis9\": {\"anchor\": \"x9\", \"domain\": [0.2675, 0.465], \"gridcolor\": \"#E1E5ED\", \"showgrid\": false, \"tickfont\": {\"color\": \"#4D5663\"}, \"title\": {\"font\": {\"color\": \"#4D5663\"}, \"text\": \"\"}, \"zerolinecolor\": \"#E1E5ED\"}},\n",
       "                        {\"showLink\": true, \"linkText\": \"Export to plot.ly\", \"plotlyServerURL\": \"https://plot.ly\", \"responsive\": true}\n",
       "                    ).then(function(){\n",
       "                            \n",
       "var gd = document.getElementById('0d8dbdf6-1cc9-47b1-bf36-389e928e0ae3');\n",
       "var x = new MutationObserver(function (mutations, observer) {{\n",
       "        var display = window.getComputedStyle(gd).display;\n",
       "        if (!display || display === 'none') {{\n",
       "            console.log([gd, 'removed!']);\n",
       "            Plotly.purge(gd);\n",
       "            observer.disconnect();\n",
       "        }}\n",
       "}});\n",
       "\n",
       "// Listen for the removal of the full notebook cells\n",
       "var notebookContainer = gd.closest('#notebook-container');\n",
       "if (notebookContainer) {{\n",
       "    x.observe(notebookContainer, {childList: true});\n",
       "}}\n",
       "\n",
       "// Listen for the clearing of the current output cell\n",
       "var outputEl = gd.closest('.output');\n",
       "if (outputEl) {{\n",
       "    x.observe(outputEl, {childList: true});\n",
       "}}\n",
       "\n",
       "                        })\n",
       "                };\n",
       "                });\n",
       "            </script>\n",
       "        </div>"
      ]
     },
     "metadata": {},
     "output_type": "display_data"
    }
   ],
   "source": [
    "df.scatter_matrix()"
   ]
  },
  {
   "cell_type": "code",
   "execution_count": null,
   "metadata": {},
   "outputs": [],
   "source": []
  }
 ],
 "metadata": {
  "kernelspec": {
   "display_name": "Python 3",
   "language": "python",
   "name": "python3"
  },
  "language_info": {
   "codemirror_mode": {
    "name": "ipython",
    "version": 3
   },
   "file_extension": ".py",
   "mimetype": "text/x-python",
   "name": "python",
   "nbconvert_exporter": "python",
   "pygments_lexer": "ipython3",
   "version": "3.7.0"
  }
 },
 "nbformat": 4,
 "nbformat_minor": 2
}
